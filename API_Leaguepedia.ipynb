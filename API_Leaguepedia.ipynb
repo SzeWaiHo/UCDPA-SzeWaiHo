{
 "cells": [
  {
   "cell_type": "code",
   "execution_count": 11,
   "id": "9ed589f4-eb56-441d-a5df-bf93c23092d5",
   "metadata": {
    "jupyter": {
     "source_hidden": true
    },
    "tags": []
   },
   "outputs": [
    {
     "ename": "SyntaxError",
     "evalue": "invalid syntax (149600976.py, line 9)",
     "output_type": "error",
     "traceback": [
      "\u001b[1;36m  Cell \u001b[1;32mIn[11], line 9\u001b[1;36m\u001b[0m\n\u001b[1;33m    {{MHG|preload=Tournament|spl=yes|tournament=LCK/2022 Season/Summer Season}}\u001b[0m\n\u001b[1;37m    ^\u001b[0m\n\u001b[1;31mSyntaxError\u001b[0m\u001b[1;31m:\u001b[0m invalid syntax\n"
     ]
    }
   ],
   "source": [
    "!pip install mwrogue\n",
    "from mwrogue.esports_client import EsportsClient\n",
    "site = EsportsClient(\"lol\")\n",
    "\n",
    "response = site.cargo_client.query(\n",
    "    tables=\"ScoreboardGames=SG, Tournaments=T\",\n",
    "    join_on=\"SG.OverviewPage=T.OverviewPage\",\n",
    "    fields=\"T.Name, SG.DateTime_UTC, SG.Team1, SG.Team2\"\n",
    ")"
   ]
  },
  {
   "cell_type": "code",
   "execution_count": 13,
   "id": "e4c0818a-fa2d-40e8-a2be-32cc40e21287",
   "metadata": {
    "collapsed": true,
    "jupyter": {
     "outputs_hidden": true
    },
    "tags": []
   },
   "outputs": [
    {
     "name": "stdout",
     "output_type": "stream",
     "text": [
      "Collecting leaguepedia_parser\n",
      "  Downloading leaguepedia_parser-2.0.2-py3-none-any.whl (11 kB)\n",
      "Requirement already satisfied: mwrogue<0.2.0,>=0.1.0 in c:\\users\\vivia\\appdata\\roaming\\jupyterlab-desktop\\jlab_server\\lib\\site-packages (from leaguepedia_parser) (0.1.5)\n",
      "Requirement already satisfied: mwclient<0.11.0,>=0.10.1 in c:\\users\\vivia\\appdata\\roaming\\jupyterlab-desktop\\jlab_server\\lib\\site-packages (from leaguepedia_parser) (0.10.1)\n",
      "Collecting lol-id-tools<3.0.0,>=2.0.0\n",
      "  Downloading lol_id_tools-2.0.1-py3-none-any.whl (14 kB)\n",
      "Collecting lol-dto<3.0.0,>=2.0.0\n",
      "  Downloading lol_dto-2.0.0-py3-none-any.whl (16 kB)\n",
      "Requirement already satisfied: requests<3.0.0,>=2.27.1 in c:\\users\\vivia\\appdata\\roaming\\jupyterlab-desktop\\jlab_server\\lib\\site-packages (from lol-id-tools<3.0.0,>=2.0.0->leaguepedia_parser) (2.28.2)\n",
      "Collecting pydantic<2.0.0,>=1.9.0\n",
      "  Downloading pydantic-1.10.9-cp38-cp38-win_amd64.whl (2.2 MB)\n",
      "     ---------------------------------------- 0.0/2.2 MB ? eta -:--:--\n",
      "     -- ------------------------------------- 0.1/2.2 MB 2.8 MB/s eta 0:00:01\n",
      "     ------ --------------------------------- 0.3/2.2 MB 3.6 MB/s eta 0:00:01\n",
      "     ---------- ----------------------------- 0.6/2.2 MB 4.0 MB/s eta 0:00:01\n",
      "     ------------- -------------------------- 0.7/2.2 MB 4.2 MB/s eta 0:00:01\n",
      "     ------------------ --------------------- 1.0/2.2 MB 4.3 MB/s eta 0:00:01\n",
      "     --------------------- ------------------ 1.2/2.2 MB 4.2 MB/s eta 0:00:01\n",
      "     --------------------------- ------------ 1.5/2.2 MB 4.7 MB/s eta 0:00:01\n",
      "     -------------------------------- ------- 1.8/2.2 MB 4.6 MB/s eta 0:00:01\n",
      "     ------------------------------------- -- 2.1/2.2 MB 4.6 MB/s eta 0:00:01\n",
      "     ---------------------------------------- 2.2/2.2 MB 4.4 MB/s eta 0:00:00\n",
      "Collecting rapidfuzz<3.0.0,>=2.0.2\n",
      "  Downloading rapidfuzz-2.15.1-cp38-cp38-win_amd64.whl (1.8 MB)\n",
      "     ---------------------------------------- 0.0/1.8 MB ? eta -:--:--\n",
      "     ------- -------------------------------- 0.3/1.8 MB 6.5 MB/s eta 0:00:01\n",
      "     ------------ --------------------------- 0.6/1.8 MB 5.9 MB/s eta 0:00:01\n",
      "     ------------------ --------------------- 0.8/1.8 MB 5.8 MB/s eta 0:00:01\n",
      "     ----------------------- ---------------- 1.1/1.8 MB 5.6 MB/s eta 0:00:01\n",
      "     ---------------------------- ----------- 1.3/1.8 MB 5.9 MB/s eta 0:00:01\n",
      "     ---------------------------------- ----- 1.5/1.8 MB 5.5 MB/s eta 0:00:01\n",
      "     ---------------------------------------  1.8/1.8 MB 5.7 MB/s eta 0:00:01\n",
      "     ---------------------------------------  1.8/1.8 MB 5.0 MB/s eta 0:00:01\n",
      "     ---------------------------------------- 1.8/1.8 MB 4.6 MB/s eta 0:00:00\n",
      "Requirement already satisfied: requests-oauthlib in c:\\users\\vivia\\appdata\\roaming\\jupyterlab-desktop\\jlab_server\\lib\\site-packages (from mwclient<0.11.0,>=0.10.1->leaguepedia_parser) (1.3.1)\n",
      "Requirement already satisfied: six in c:\\users\\vivia\\appdata\\roaming\\jupyterlab-desktop\\jlab_server\\lib\\site-packages (from mwclient<0.11.0,>=0.10.1->leaguepedia_parser) (1.16.0)\n",
      "Requirement already satisfied: mwcleric in c:\\users\\vivia\\appdata\\roaming\\jupyterlab-desktop\\jlab_server\\lib\\site-packages (from mwrogue<0.2.0,>=0.1.0->leaguepedia_parser) (0.8.7)\n",
      "Requirement already satisfied: mwparserfromhell in c:\\users\\vivia\\appdata\\roaming\\jupyterlab-desktop\\jlab_server\\lib\\site-packages (from mwrogue<0.2.0,>=0.1.0->leaguepedia_parser) (0.6.4)\n",
      "Requirement already satisfied: pytz in c:\\users\\vivia\\appdata\\roaming\\jupyterlab-desktop\\jlab_server\\lib\\site-packages (from mwrogue<0.2.0,>=0.1.0->leaguepedia_parser) (2022.7.1)\n",
      "Requirement already satisfied: python-dateutil in c:\\users\\vivia\\appdata\\roaming\\jupyterlab-desktop\\jlab_server\\lib\\site-packages (from mwrogue<0.2.0,>=0.1.0->leaguepedia_parser) (2.8.2)\n",
      "Requirement already satisfied: Unidecode in c:\\users\\vivia\\appdata\\roaming\\jupyterlab-desktop\\jlab_server\\lib\\site-packages (from mwrogue<0.2.0,>=0.1.0->leaguepedia_parser) (1.3.6)\n",
      "Requirement already satisfied: typing-extensions>=4.2.0 in c:\\users\\vivia\\appdata\\roaming\\jupyterlab-desktop\\jlab_server\\lib\\site-packages (from pydantic<2.0.0,>=1.9.0->lol-id-tools<3.0.0,>=2.0.0->leaguepedia_parser) (4.4.0)\n",
      "Requirement already satisfied: certifi>=2017.4.17 in c:\\users\\vivia\\appdata\\roaming\\jupyterlab-desktop\\jlab_server\\lib\\site-packages (from requests<3.0.0,>=2.27.1->lol-id-tools<3.0.0,>=2.0.0->leaguepedia_parser) (2022.12.7)\n",
      "Requirement already satisfied: idna<4,>=2.5 in c:\\users\\vivia\\appdata\\roaming\\jupyterlab-desktop\\jlab_server\\lib\\site-packages (from requests<3.0.0,>=2.27.1->lol-id-tools<3.0.0,>=2.0.0->leaguepedia_parser) (3.4)\n",
      "Requirement already satisfied: urllib3<1.27,>=1.21.1 in c:\\users\\vivia\\appdata\\roaming\\jupyterlab-desktop\\jlab_server\\lib\\site-packages (from requests<3.0.0,>=2.27.1->lol-id-tools<3.0.0,>=2.0.0->leaguepedia_parser) (1.26.14)\n",
      "Requirement already satisfied: charset-normalizer<4,>=2 in c:\\users\\vivia\\appdata\\roaming\\jupyterlab-desktop\\jlab_server\\lib\\site-packages (from requests<3.0.0,>=2.27.1->lol-id-tools<3.0.0,>=2.0.0->leaguepedia_parser) (2.1.1)\n",
      "Requirement already satisfied: oauthlib>=3.0.0 in c:\\users\\vivia\\appdata\\roaming\\jupyterlab-desktop\\jlab_server\\lib\\site-packages (from requests-oauthlib->mwclient<0.11.0,>=0.10.1->leaguepedia_parser) (3.2.2)\n",
      "Installing collected packages: rapidfuzz, pydantic, lol-dto, lol-id-tools, leaguepedia_parser\n",
      "Successfully installed leaguepedia_parser-2.0.2 lol-dto-2.0.0 lol-id-tools-2.0.1 pydantic-1.10.9 rapidfuzz-2.15.1\n"
     ]
    },
    {
     "data": {
      "text/plain": [
       "[None,\n",
       " 'Africa',\n",
       " 'Asia',\n",
       " 'Brazil',\n",
       " 'China',\n",
       " 'CIS',\n",
       " 'EMEA',\n",
       " 'Europe',\n",
       " 'International',\n",
       " 'Japan',\n",
       " 'Korea',\n",
       " 'LAN',\n",
       " 'LAS',\n",
       " 'Latin America',\n",
       " 'LMS',\n",
       " 'MENA',\n",
       " 'North America',\n",
       " 'Oceania',\n",
       " 'PCS',\n",
       " 'SEA',\n",
       " 'Turkey',\n",
       " 'Unknown',\n",
       " 'Vietnam',\n",
       " 'Wildcard']"
      ]
     },
     "execution_count": 13,
     "metadata": {},
     "output_type": "execute_result"
    }
   ],
   "source": [
    "#https://hextechdocs.dev/gathering-lolesports-data/\n",
    "!pip install leaguepedia_parser\n",
    "import leaguepedia_parser as lp\n",
    "\n"
   ]
  },
  {
   "cell_type": "code",
   "execution_count": 14,
   "id": "c972be9e-d109-4e4b-949f-7330224785e4",
   "metadata": {
    "tags": []
   },
   "outputs": [
    {
     "data": {
      "text/plain": [
       "[None,\n",
       " 'Africa',\n",
       " 'Asia',\n",
       " 'Brazil',\n",
       " 'China',\n",
       " 'CIS',\n",
       " 'EMEA',\n",
       " 'Europe',\n",
       " 'International',\n",
       " 'Japan',\n",
       " 'Korea',\n",
       " 'LAN',\n",
       " 'LAS',\n",
       " 'Latin America',\n",
       " 'LMS',\n",
       " 'MENA',\n",
       " 'North America',\n",
       " 'Oceania',\n",
       " 'PCS',\n",
       " 'SEA',\n",
       " 'Turkey',\n",
       " 'Unknown',\n",
       " 'Vietnam',\n",
       " 'Wildcard']"
      ]
     },
     "execution_count": 14,
     "metadata": {},
     "output_type": "execute_result"
    }
   ],
   "source": [
    "lp.get_regions()"
   ]
  },
  {
   "cell_type": "code",
   "execution_count": null,
   "id": "b10ee4c1-b5ff-463b-ab62-18b328264e33",
   "metadata": {},
   "outputs": [],
   "source": []
  }
 ],
 "metadata": {
  "kernelspec": {
   "display_name": "Python 3 (ipykernel)",
   "language": "python",
   "name": "python3"
  },
  "language_info": {
   "codemirror_mode": {
    "name": "ipython",
    "version": 3
   },
   "file_extension": ".py",
   "mimetype": "text/x-python",
   "name": "python",
   "nbconvert_exporter": "python",
   "pygments_lexer": "ipython3",
   "version": "3.8.16"
  }
 },
 "nbformat": 4,
 "nbformat_minor": 5
}
