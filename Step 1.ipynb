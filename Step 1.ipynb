{
 "cells": [
  {
   "cell_type": "markdown",
   "id": "49d1e596-fd4b-4072-b858-d4b10424e10a",
   "metadata": {},
   "source": [
    "# Project - Who will win the LoL 2023 Worlds?"
   ]
  },
  {
   "cell_type": "markdown",
   "id": "b9c8776c-ffe2-4fa2-b67c-d822eaf5c807",
   "metadata": {},
   "source": [
    "# Step 1"
   ]
  },
  {
   "cell_type": "code",
   "execution_count": 43,
   "id": "0ecdb07e-322d-43e5-b9dd-1f479eec9007",
   "metadata": {
    "tags": []
   },
   "outputs": [],
   "source": [
    "#import pandas package for dataframe\n",
    "import pandas as pd"
   ]
  },
  {
   "cell_type": "code",
   "execution_count": 45,
   "id": "2bd6e2b2-746e-4eb6-967f-69f9674a3caa",
   "metadata": {
    "tags": []
   },
   "outputs": [],
   "source": [
    "# import dataset - match_stats (KAGGLE -Lol Worlds)\n",
    "match_stats_csv = pd.read_csv(\"match_stats_K.csv\",index_col=0)"
   ]
  },
  {
   "cell_type": "code",
   "execution_count": 34,
   "id": "3dd7a4b8-b808-462c-ad7d-3e5f709e92e0",
   "metadata": {
    "collapsed": true,
    "jupyter": {
     "outputs_hidden": true
    },
    "tags": []
   },
   "outputs": [
    {
     "name": "stdout",
     "output_type": "stream",
     "text": [
      "              date event  patch              blue_team               red_team  \\\n",
      "Season                                                                          \n",
      "1       20/06/2011  Main    NaN  Against_All_authority                 Fnatic   \n",
      "1       20/06/2011  Main    NaN                 Fnatic  Against_All_authority   \n",
      "1       20/06/2011  Main    NaN  Against_All_authority                    TSM   \n",
      "1       20/06/2011  Main    NaN             Epik_Gamer                    TSM   \n",
      "1       20/06/2011  Main    NaN                    TSM             Epik_Gamer   \n",
      "\n",
      "                       winner ban_1_blue_team ban_2_blue_team ban_3_blue_team  \\\n",
      "Season                                                                          \n",
      "1                      Fnatic         Alistar          Gragas          Anivia   \n",
      "1       Against_All_authority            Nunu         Warwick           Amumu   \n",
      "1       Against_All_authority       Jarvan IV           Annie          Singed   \n",
      "1                         TSM          Zilean           Vayne         Alistar   \n",
      "1                         TSM           Akali        Vladimir           Taric   \n",
      "\n",
      "       ban_4_blue_team  ... top_blue_team jungler_blue_team mid_blue_team  \\\n",
      "Season                  ...                                                 \n",
      "1                  NaN  ...          MoMa             Linak          sOAZ   \n",
      "1                  NaN  ...       Shushei           Cyanide         xPeke   \n",
      "1                  NaN  ...    YellOwStaR             Linak          MoMa   \n",
      "1                  NaN  ...         Dyrus          Dan Dinh         Salce   \n",
      "1                  NaN  ...    TheRainMan         TheOddOne      Reginald   \n",
      "\n",
      "       adc_blue_team support_blue_team top_red_team jungler_red_team  \\\n",
      "Season                                                                 \n",
      "1         YellOwStaR             Kujaa      Shushei          Cyanide   \n",
      "1              Lamia          Mellisan         sOAZ            Linak   \n",
      "1               sOAZ             Kujaa        Chaox        TheOddOne   \n",
      "1           Westrice        Doublelift   TheRainMan        TheOddOne   \n",
      "1              Chaox           Xpecial     Westrice         Dan Dinh   \n",
      "\n",
      "       mid_red_team adc_red_team support_red_team  \n",
      "Season                                             \n",
      "1             xPeke        Lamia         Mellisan  \n",
      "1              MoMa   YellOwStaR            Kujaa  \n",
      "1          Reginald   TheRainMan          Xpecial  \n",
      "1          Reginald        Chaox          Xpecial  \n",
      "1             Salce        Dyrus       Doublelift  \n",
      "\n",
      "[5 rows x 36 columns]\n"
     ]
    }
   ],
   "source": [
    "match_stats = pd.DataFrame(match_stats_csv)\n",
    "print(match_stats.head())"
   ]
  },
  {
   "cell_type": "code",
   "execution_count": null,
   "id": "de912443-2e45-4a34-b144-8c15ec0f506f",
   "metadata": {},
   "outputs": [],
   "source": [
    "#add column for stage, "
   ]
  },
  {
   "cell_type": "code",
   "execution_count": 46,
   "id": "5abde4a0-6a99-4a4b-b05c-a8739810f05d",
   "metadata": {
    "tags": []
   },
   "outputs": [
    {
     "name": "stdout",
     "output_type": "stream",
     "text": [
      "(28, 36)\n"
     ]
    }
   ],
   "source": [
    "#table - season 1\n",
    "season1_match_stats = match_stats.loc[1]\n",
    "print(season1_match_stats.shape)"
   ]
  },
  {
   "cell_type": "code",
   "execution_count": 50,
   "id": "fd4fdc7d-54d8-4a73-b96f-94baeb70580d",
   "metadata": {
    "tags": []
   },
   "outputs": [
    {
     "ename": "KeyError",
     "evalue": "'Season'",
     "output_type": "error",
     "traceback": [
      "\u001b[1;31m---------------------------------------------------------------------------\u001b[0m",
      "\u001b[1;31mKeyError\u001b[0m                                  Traceback (most recent call last)",
      "File \u001b[1;32m~\\AppData\\Roaming\\jupyterlab-desktop\\jlab_server\\lib\\site-packages\\pandas\\core\\indexes\\base.py:3802\u001b[0m, in \u001b[0;36mIndex.get_loc\u001b[1;34m(self, key, method, tolerance)\u001b[0m\n\u001b[0;32m   3801\u001b[0m \u001b[38;5;28;01mtry\u001b[39;00m:\n\u001b[1;32m-> 3802\u001b[0m     \u001b[38;5;28;01mreturn\u001b[39;00m \u001b[38;5;28;43mself\u001b[39;49m\u001b[38;5;241;43m.\u001b[39;49m\u001b[43m_engine\u001b[49m\u001b[38;5;241;43m.\u001b[39;49m\u001b[43mget_loc\u001b[49m\u001b[43m(\u001b[49m\u001b[43mcasted_key\u001b[49m\u001b[43m)\u001b[49m\n\u001b[0;32m   3803\u001b[0m \u001b[38;5;28;01mexcept\u001b[39;00m \u001b[38;5;167;01mKeyError\u001b[39;00m \u001b[38;5;28;01mas\u001b[39;00m err:\n",
      "File \u001b[1;32m~\\AppData\\Roaming\\jupyterlab-desktop\\jlab_server\\lib\\site-packages\\pandas\\_libs\\index.pyx:138\u001b[0m, in \u001b[0;36mpandas._libs.index.IndexEngine.get_loc\u001b[1;34m()\u001b[0m\n",
      "File \u001b[1;32m~\\AppData\\Roaming\\jupyterlab-desktop\\jlab_server\\lib\\site-packages\\pandas\\_libs\\index.pyx:165\u001b[0m, in \u001b[0;36mpandas._libs.index.IndexEngine.get_loc\u001b[1;34m()\u001b[0m\n",
      "File \u001b[1;32mpandas\\_libs\\hashtable_class_helper.pxi:5745\u001b[0m, in \u001b[0;36mpandas._libs.hashtable.PyObjectHashTable.get_item\u001b[1;34m()\u001b[0m\n",
      "File \u001b[1;32mpandas\\_libs\\hashtable_class_helper.pxi:5753\u001b[0m, in \u001b[0;36mpandas._libs.hashtable.PyObjectHashTable.get_item\u001b[1;34m()\u001b[0m\n",
      "\u001b[1;31mKeyError\u001b[0m: 'Season'",
      "\nThe above exception was the direct cause of the following exception:\n",
      "\u001b[1;31mKeyError\u001b[0m                                  Traceback (most recent call last)",
      "Cell \u001b[1;32mIn[50], line 3\u001b[0m\n\u001b[0;32m      1\u001b[0m \u001b[38;5;66;03m#add column for stage\u001b[39;00m\n\u001b[0;32m      2\u001b[0m \u001b[38;5;28;01mfor\u001b[39;00m lab, row \u001b[38;5;129;01min\u001b[39;00m season1_match_stats\u001b[38;5;241m.\u001b[39miterrows():\n\u001b[1;32m----> 3\u001b[0m     season1_match_stats\u001b[38;5;241m.\u001b[39mloc[lab, \u001b[38;5;124m\"\u001b[39m\u001b[38;5;124mStage\u001b[39m\u001b[38;5;124m\"\u001b[39m] \u001b[38;5;241m=\u001b[39m \u001b[43mrow\u001b[49m\u001b[43m[\u001b[49m\u001b[38;5;124;43m\"\u001b[39;49m\u001b[38;5;124;43mSeason\u001b[39;49m\u001b[38;5;124;43m\"\u001b[39;49m\u001b[43m]\u001b[49m\n\u001b[0;32m      5\u001b[0m \u001b[38;5;28mprint\u001b[39m(season1_match_stats\u001b[38;5;241m.\u001b[39mshape)\n\u001b[0;32m      7\u001b[0m \u001b[38;5;66;03m#get finals\u001b[39;00m\n\u001b[0;32m      8\u001b[0m \u001b[38;5;66;03m#season1_match_\u001b[39;00m\n",
      "File \u001b[1;32m~\\AppData\\Roaming\\jupyterlab-desktop\\jlab_server\\lib\\site-packages\\pandas\\core\\series.py:981\u001b[0m, in \u001b[0;36mSeries.__getitem__\u001b[1;34m(self, key)\u001b[0m\n\u001b[0;32m    978\u001b[0m     \u001b[38;5;28;01mreturn\u001b[39;00m \u001b[38;5;28mself\u001b[39m\u001b[38;5;241m.\u001b[39m_values[key]\n\u001b[0;32m    980\u001b[0m \u001b[38;5;28;01melif\u001b[39;00m key_is_scalar:\n\u001b[1;32m--> 981\u001b[0m     \u001b[38;5;28;01mreturn\u001b[39;00m \u001b[38;5;28;43mself\u001b[39;49m\u001b[38;5;241;43m.\u001b[39;49m\u001b[43m_get_value\u001b[49m\u001b[43m(\u001b[49m\u001b[43mkey\u001b[49m\u001b[43m)\u001b[49m\n\u001b[0;32m    983\u001b[0m \u001b[38;5;28;01mif\u001b[39;00m is_hashable(key):\n\u001b[0;32m    984\u001b[0m     \u001b[38;5;66;03m# Otherwise index.get_value will raise InvalidIndexError\u001b[39;00m\n\u001b[0;32m    985\u001b[0m     \u001b[38;5;28;01mtry\u001b[39;00m:\n\u001b[0;32m    986\u001b[0m         \u001b[38;5;66;03m# For labels that don't resolve as scalars like tuples and frozensets\u001b[39;00m\n",
      "File \u001b[1;32m~\\AppData\\Roaming\\jupyterlab-desktop\\jlab_server\\lib\\site-packages\\pandas\\core\\series.py:1089\u001b[0m, in \u001b[0;36mSeries._get_value\u001b[1;34m(self, label, takeable)\u001b[0m\n\u001b[0;32m   1086\u001b[0m     \u001b[38;5;28;01mreturn\u001b[39;00m \u001b[38;5;28mself\u001b[39m\u001b[38;5;241m.\u001b[39m_values[label]\n\u001b[0;32m   1088\u001b[0m \u001b[38;5;66;03m# Similar to Index.get_value, but we do not fall back to positional\u001b[39;00m\n\u001b[1;32m-> 1089\u001b[0m loc \u001b[38;5;241m=\u001b[39m \u001b[38;5;28;43mself\u001b[39;49m\u001b[38;5;241;43m.\u001b[39;49m\u001b[43mindex\u001b[49m\u001b[38;5;241;43m.\u001b[39;49m\u001b[43mget_loc\u001b[49m\u001b[43m(\u001b[49m\u001b[43mlabel\u001b[49m\u001b[43m)\u001b[49m\n\u001b[0;32m   1090\u001b[0m \u001b[38;5;28;01mreturn\u001b[39;00m \u001b[38;5;28mself\u001b[39m\u001b[38;5;241m.\u001b[39mindex\u001b[38;5;241m.\u001b[39m_get_values_for_loc(\u001b[38;5;28mself\u001b[39m, loc, label)\n",
      "File \u001b[1;32m~\\AppData\\Roaming\\jupyterlab-desktop\\jlab_server\\lib\\site-packages\\pandas\\core\\indexes\\base.py:3804\u001b[0m, in \u001b[0;36mIndex.get_loc\u001b[1;34m(self, key, method, tolerance)\u001b[0m\n\u001b[0;32m   3802\u001b[0m     \u001b[38;5;28;01mreturn\u001b[39;00m \u001b[38;5;28mself\u001b[39m\u001b[38;5;241m.\u001b[39m_engine\u001b[38;5;241m.\u001b[39mget_loc(casted_key)\n\u001b[0;32m   3803\u001b[0m \u001b[38;5;28;01mexcept\u001b[39;00m \u001b[38;5;167;01mKeyError\u001b[39;00m \u001b[38;5;28;01mas\u001b[39;00m err:\n\u001b[1;32m-> 3804\u001b[0m     \u001b[38;5;28;01mraise\u001b[39;00m \u001b[38;5;167;01mKeyError\u001b[39;00m(key) \u001b[38;5;28;01mfrom\u001b[39;00m \u001b[38;5;21;01merr\u001b[39;00m\n\u001b[0;32m   3805\u001b[0m \u001b[38;5;28;01mexcept\u001b[39;00m \u001b[38;5;167;01mTypeError\u001b[39;00m:\n\u001b[0;32m   3806\u001b[0m     \u001b[38;5;66;03m# If we have a listlike key, _check_indexing_error will raise\u001b[39;00m\n\u001b[0;32m   3807\u001b[0m     \u001b[38;5;66;03m#  InvalidIndexError. Otherwise we fall through and re-raise\u001b[39;00m\n\u001b[0;32m   3808\u001b[0m     \u001b[38;5;66;03m#  the TypeError.\u001b[39;00m\n\u001b[0;32m   3809\u001b[0m     \u001b[38;5;28mself\u001b[39m\u001b[38;5;241m.\u001b[39m_check_indexing_error(key)\n",
      "\u001b[1;31mKeyError\u001b[0m: 'Season'"
     ]
    }
   ],
   "source": [
    "#add column for stage\n",
    "for lab, row in season1_match_stats.iterrows():\n",
    "    season1_match_stats.loc[lab, \"Stage\"] = row[\"Season\"]\n",
    "    \n",
    "print(season1_match_stats.shape)\n",
    "\n",
    "#get finals\n",
    "#season1_match_"
   ]
  },
  {
   "cell_type": "code",
   "execution_count": null,
   "id": "afb61293-2411-43d2-af26-74e5aca2f634",
   "metadata": {},
   "outputs": [],
   "source": []
  }
 ],
 "metadata": {
  "kernelspec": {
   "display_name": "Python 3 (ipykernel)",
   "language": "python",
   "name": "python3"
  },
  "language_info": {
   "codemirror_mode": {
    "name": "ipython",
    "version": 3
   },
   "file_extension": ".py",
   "mimetype": "text/x-python",
   "name": "python",
   "nbconvert_exporter": "python",
   "pygments_lexer": "ipython3",
   "version": "3.8.16"
  }
 },
 "nbformat": 4,
 "nbformat_minor": 5
}
