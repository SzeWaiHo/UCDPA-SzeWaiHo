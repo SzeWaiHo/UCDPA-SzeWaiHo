{
 "cells": [
  {
   "cell_type": "code",
   "execution_count": 1,
   "id": "f714c047-18e2-4049-becb-ef7b410d6e65",
   "metadata": {
    "tags": []
   },
   "outputs": [],
   "source": [
    "# Project - Who will win the LoL 2023 Worlds?"
   ]
  },
  {
   "cell_type": "code",
   "execution_count": 2,
   "id": "37f03fb9-bdf4-4b4c-a35e-93c89843c18a",
   "metadata": {
    "tags": []
   },
   "outputs": [],
   "source": [
    "# Step 0.5"
   ]
  },
  {
   "cell_type": "code",
   "execution_count": null,
   "id": "78fff606-3ce1-4458-b8a7-8bc8815713fc",
   "metadata": {},
   "outputs": [],
   "source": []
  }
 ],
 "metadata": {
  "kernelspec": {
   "display_name": "Python 3 (ipykernel)",
   "language": "python",
   "name": "python3"
  },
  "language_info": {
   "codemirror_mode": {
    "name": "ipython",
    "version": 3
   },
   "file_extension": ".py",
   "mimetype": "text/x-python",
   "name": "python",
   "nbconvert_exporter": "python",
   "pygments_lexer": "ipython3",
   "version": "3.8.16"
  }
 },
 "nbformat": 4,
 "nbformat_minor": 5
}
