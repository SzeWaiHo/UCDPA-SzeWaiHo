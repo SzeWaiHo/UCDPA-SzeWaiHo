{
 "cells": [
  {
   "cell_type": "code",
   "execution_count": 11,
   "id": "9ed589f4-eb56-441d-a5df-bf93c23092d5",
   "metadata": {
    "jupyter": {
     "source_hidden": true
    },
    "tags": []
   },
   "outputs": [
    {
     "ename": "SyntaxError",
     "evalue": "invalid syntax (149600976.py, line 9)",
     "output_type": "error",
     "traceback": [
      "\u001b[1;36m  Cell \u001b[1;32mIn[11], line 9\u001b[1;36m\u001b[0m\n\u001b[1;33m    {{MHG|preload=Tournament|spl=yes|tournament=LCK/2022 Season/Summer Season}}\u001b[0m\n\u001b[1;37m    ^\u001b[0m\n\u001b[1;31mSyntaxError\u001b[0m\u001b[1;31m:\u001b[0m invalid syntax\n"
     ]
    }
   ],
   "source": [
    "!pip install mwrogue\n",
    "from mwrogue.esports_client import EsportsClient\n",
    "site = EsportsClient(\"lol\")\n",
    "\n",
    "response = site.cargo_client.query(\n",
    "    tables=\"ScoreboardGames=SG, Tournaments=T\",\n",
    "    join_on=\"SG.OverviewPage=T.OverviewPage\",\n",
    "    fields=\"T.Name, SG.DateTime_UTC, SG.Team1, SG.Team2\"\n",
    ")"
   ]
  },
  {
   "cell_type": "code",
   "execution_count": 13,
   "id": "e4c0818a-fa2d-40e8-a2be-32cc40e21287",
   "metadata": {
    "collapsed": true,
    "jupyter": {
     "outputs_hidden": true
    },
    "tags": []
   },
   "outputs": [
    {
     "name": "stdout",
     "output_type": "stream",
     "text": [
      "Collecting leaguepedia_parser\n",
      "  Downloading leaguepedia_parser-2.0.2-py3-none-any.whl (11 kB)\n",
      "Requirement already satisfied: mwrogue<0.2.0,>=0.1.0 in c:\\users\\vivia\\appdata\\roaming\\jupyterlab-desktop\\jlab_server\\lib\\site-packages (from leaguepedia_parser) (0.1.5)\n",
      "Requirement already satisfied: mwclient<0.11.0,>=0.10.1 in c:\\users\\vivia\\appdata\\roaming\\jupyterlab-desktop\\jlab_server\\lib\\site-packages (from leaguepedia_parser) (0.10.1)\n",
      "Collecting lol-id-tools<3.0.0,>=2.0.0\n",
      "  Downloading lol_id_tools-2.0.1-py3-none-any.whl (14 kB)\n",
      "Collecting lol-dto<3.0.0,>=2.0.0\n",
      "  Downloading lol_dto-2.0.0-py3-none-any.whl (16 kB)\n",
      "Requirement already satisfied: requests<3.0.0,>=2.27.1 in c:\\users\\vivia\\appdata\\roaming\\jupyterlab-desktop\\jlab_server\\lib\\site-packages (from lol-id-tools<3.0.0,>=2.0.0->leaguepedia_parser) (2.28.2)\n",
      "Collecting pydantic<2.0.0,>=1.9.0\n",
      "  Downloading pydantic-1.10.9-cp38-cp38-win_amd64.whl (2.2 MB)\n",
      "     ---------------------------------------- 0.0/2.2 MB ? eta -:--:--\n",
      "     -- ------------------------------------- 0.1/2.2 MB 2.8 MB/s eta 0:00:01\n",
      "     ------ --------------------------------- 0.3/2.2 MB 3.6 MB/s eta 0:00:01\n",
      "     ---------- ----------------------------- 0.6/2.2 MB 4.0 MB/s eta 0:00:01\n",
      "     ------------- -------------------------- 0.7/2.2 MB 4.2 MB/s eta 0:00:01\n",
      "     ------------------ --------------------- 1.0/2.2 MB 4.3 MB/s eta 0:00:01\n",
      "     --------------------- ------------------ 1.2/2.2 MB 4.2 MB/s eta 0:00:01\n",
      "     --------------------------- ------------ 1.5/2.2 MB 4.7 MB/s eta 0:00:01\n",
      "     -------------------------------- ------- 1.8/2.2 MB 4.6 MB/s eta 0:00:01\n",
      "     ------------------------------------- -- 2.1/2.2 MB 4.6 MB/s eta 0:00:01\n",
      "     ---------------------------------------- 2.2/2.2 MB 4.4 MB/s eta 0:00:00\n",
      "Collecting rapidfuzz<3.0.0,>=2.0.2\n",
      "  Downloading rapidfuzz-2.15.1-cp38-cp38-win_amd64.whl (1.8 MB)\n",
      "     ---------------------------------------- 0.0/1.8 MB ? eta -:--:--\n",
      "     ------- -------------------------------- 0.3/1.8 MB 6.5 MB/s eta 0:00:01\n",
      "     ------------ --------------------------- 0.6/1.8 MB 5.9 MB/s eta 0:00:01\n",
      "     ------------------ --------------------- 0.8/1.8 MB 5.8 MB/s eta 0:00:01\n",
      "     ----------------------- ---------------- 1.1/1.8 MB 5.6 MB/s eta 0:00:01\n",
      "     ---------------------------- ----------- 1.3/1.8 MB 5.9 MB/s eta 0:00:01\n",
      "     ---------------------------------- ----- 1.5/1.8 MB 5.5 MB/s eta 0:00:01\n",
      "     ---------------------------------------  1.8/1.8 MB 5.7 MB/s eta 0:00:01\n",
      "     ---------------------------------------  1.8/1.8 MB 5.0 MB/s eta 0:00:01\n",
      "     ---------------------------------------- 1.8/1.8 MB 4.6 MB/s eta 0:00:00\n",
      "Requirement already satisfied: requests-oauthlib in c:\\users\\vivia\\appdata\\roaming\\jupyterlab-desktop\\jlab_server\\lib\\site-packages (from mwclient<0.11.0,>=0.10.1->leaguepedia_parser) (1.3.1)\n",
      "Requirement already satisfied: six in c:\\users\\vivia\\appdata\\roaming\\jupyterlab-desktop\\jlab_server\\lib\\site-packages (from mwclient<0.11.0,>=0.10.1->leaguepedia_parser) (1.16.0)\n",
      "Requirement already satisfied: mwcleric in c:\\users\\vivia\\appdata\\roaming\\jupyterlab-desktop\\jlab_server\\lib\\site-packages (from mwrogue<0.2.0,>=0.1.0->leaguepedia_parser) (0.8.7)\n",
      "Requirement already satisfied: mwparserfromhell in c:\\users\\vivia\\appdata\\roaming\\jupyterlab-desktop\\jlab_server\\lib\\site-packages (from mwrogue<0.2.0,>=0.1.0->leaguepedia_parser) (0.6.4)\n",
      "Requirement already satisfied: pytz in c:\\users\\vivia\\appdata\\roaming\\jupyterlab-desktop\\jlab_server\\lib\\site-packages (from mwrogue<0.2.0,>=0.1.0->leaguepedia_parser) (2022.7.1)\n",
      "Requirement already satisfied: python-dateutil in c:\\users\\vivia\\appdata\\roaming\\jupyterlab-desktop\\jlab_server\\lib\\site-packages (from mwrogue<0.2.0,>=0.1.0->leaguepedia_parser) (2.8.2)\n",
      "Requirement already satisfied: Unidecode in c:\\users\\vivia\\appdata\\roaming\\jupyterlab-desktop\\jlab_server\\lib\\site-packages (from mwrogue<0.2.0,>=0.1.0->leaguepedia_parser) (1.3.6)\n",
      "Requirement already satisfied: typing-extensions>=4.2.0 in c:\\users\\vivia\\appdata\\roaming\\jupyterlab-desktop\\jlab_server\\lib\\site-packages (from pydantic<2.0.0,>=1.9.0->lol-id-tools<3.0.0,>=2.0.0->leaguepedia_parser) (4.4.0)\n",
      "Requirement already satisfied: certifi>=2017.4.17 in c:\\users\\vivia\\appdata\\roaming\\jupyterlab-desktop\\jlab_server\\lib\\site-packages (from requests<3.0.0,>=2.27.1->lol-id-tools<3.0.0,>=2.0.0->leaguepedia_parser) (2022.12.7)\n",
      "Requirement already satisfied: idna<4,>=2.5 in c:\\users\\vivia\\appdata\\roaming\\jupyterlab-desktop\\jlab_server\\lib\\site-packages (from requests<3.0.0,>=2.27.1->lol-id-tools<3.0.0,>=2.0.0->leaguepedia_parser) (3.4)\n",
      "Requirement already satisfied: urllib3<1.27,>=1.21.1 in c:\\users\\vivia\\appdata\\roaming\\jupyterlab-desktop\\jlab_server\\lib\\site-packages (from requests<3.0.0,>=2.27.1->lol-id-tools<3.0.0,>=2.0.0->leaguepedia_parser) (1.26.14)\n",
      "Requirement already satisfied: charset-normalizer<4,>=2 in c:\\users\\vivia\\appdata\\roaming\\jupyterlab-desktop\\jlab_server\\lib\\site-packages (from requests<3.0.0,>=2.27.1->lol-id-tools<3.0.0,>=2.0.0->leaguepedia_parser) (2.1.1)\n",
      "Requirement already satisfied: oauthlib>=3.0.0 in c:\\users\\vivia\\appdata\\roaming\\jupyterlab-desktop\\jlab_server\\lib\\site-packages (from requests-oauthlib->mwclient<0.11.0,>=0.10.1->leaguepedia_parser) (3.2.2)\n",
      "Installing collected packages: rapidfuzz, pydantic, lol-dto, lol-id-tools, leaguepedia_parser\n",
      "Successfully installed leaguepedia_parser-2.0.2 lol-dto-2.0.0 lol-id-tools-2.0.1 pydantic-1.10.9 rapidfuzz-2.15.1\n"
     ]
    },
    {
     "data": {
      "text/plain": [
       "[None,\n",
       " 'Africa',\n",
       " 'Asia',\n",
       " 'Brazil',\n",
       " 'China',\n",
       " 'CIS',\n",
       " 'EMEA',\n",
       " 'Europe',\n",
       " 'International',\n",
       " 'Japan',\n",
       " 'Korea',\n",
       " 'LAN',\n",
       " 'LAS',\n",
       " 'Latin America',\n",
       " 'LMS',\n",
       " 'MENA',\n",
       " 'North America',\n",
       " 'Oceania',\n",
       " 'PCS',\n",
       " 'SEA',\n",
       " 'Turkey',\n",
       " 'Unknown',\n",
       " 'Vietnam',\n",
       " 'Wildcard']"
      ]
     },
     "execution_count": 13,
     "metadata": {},
     "output_type": "execute_result"
    }
   ],
   "source": [
    "#https://hextechdocs.dev/gathering-lolesports-data/\n",
    "!pip install leaguepedia_parser\n",
    "import leaguepedia_parser as lp\n",
    "\n"
   ]
  },
  {
   "cell_type": "code",
   "execution_count": 14,
   "id": "c972be9e-d109-4e4b-949f-7330224785e4",
   "metadata": {
    "tags": []
   },
   "outputs": [
    {
     "data": {
      "text/plain": [
       "[None,\n",
       " 'Africa',\n",
       " 'Asia',\n",
       " 'Brazil',\n",
       " 'China',\n",
       " 'CIS',\n",
       " 'EMEA',\n",
       " 'Europe',\n",
       " 'International',\n",
       " 'Japan',\n",
       " 'Korea',\n",
       " 'LAN',\n",
       " 'LAS',\n",
       " 'Latin America',\n",
       " 'LMS',\n",
       " 'MENA',\n",
       " 'North America',\n",
       " 'Oceania',\n",
       " 'PCS',\n",
       " 'SEA',\n",
       " 'Turkey',\n",
       " 'Unknown',\n",
       " 'Vietnam',\n",
       " 'Wildcard']"
      ]
     },
     "execution_count": 14,
     "metadata": {},
     "output_type": "execute_result"
    }
   ],
   "source": [
    "lp.get_regions()"
   ]
  },
  {
   "cell_type": "code",
   "execution_count": 23,
   "id": "b10ee4c1-b5ff-463b-ab62-18b328264e33",
   "metadata": {
    "tags": []
   },
   "outputs": [
    {
     "name": "stdout",
     "output_type": "stream",
     "text": [
      "[LeaguepediaTournament(name='LEC 2022 Spring', start='2022-01-14', end='2022-03-06', region='Europe', league='LoL EMEA Championship', leagueShort='LEC', rulebook='Archive:Official Rulebooks/Riot/LEC/2022', tournamentLevel='Primary', isQualifier=True, isPlayoffs=True, isOfficial=True, overviewPage='LEC/2022 Season/Spring Season'), LeaguepediaTournament(name='LEC 2022 Spring Playoffs', start='2022-03-25', end='2022-04-10', region='Europe', league='LoL EMEA Championship', leagueShort='LEC', rulebook='Archive:Official Rulebooks/Riot/LEC/2022', tournamentLevel='Primary', isQualifier=True, isPlayoffs=True, isOfficial=True, overviewPage='LEC/2022 Season/Spring Playoffs'), LeaguepediaTournament(name='LEC 2022 Summer', start='2022-06-17', end='2022-08-14', region='Europe', league='LoL EMEA Championship', leagueShort='LEC', rulebook='Archive:Official Rulebooks/Riot/LEC/2022', tournamentLevel='Primary', isQualifier=True, isPlayoffs=True, isOfficial=True, overviewPage='LEC/2022 Season/Summer Season'), LeaguepediaTournament(name='LEC 2022 Summer Playoffs', start='2022-08-26', end='2022-09-11', region='Europe', league='LoL EMEA Championship', leagueShort='LEC', rulebook='Archive:Official_Rulebooks/Riot/LEC/2022', tournamentLevel='Primary', isQualifier=True, isPlayoffs=True, isOfficial=True, overviewPage='LEC/2022 Season/Summer Playoffs')]\n"
     ]
    }
   ],
   "source": [
    "tournaments = lp.get_tournaments('Europe', year=2022)\n",
    "#[t['name'] for t in tournaments]\n",
    "print(tournaments)"
   ]
  },
  {
   "cell_type": "code",
   "execution_count": 24,
   "id": "f6fe5ab5-b48f-4b15-9cc8-f21ec28c0ac4",
   "metadata": {
    "tags": []
   },
   "outputs": [],
   "source": [
    "import types\n",
    "from leaguepedia_parser.site.leaguepedia import leaguepedia\n",
    "\n",
    "def get_games_hashes(self, tournament_name=None, **kwargs):\n",
    "    \"\"\"\n",
    "    Returns the list server, gameId and hashes of games played in a tournament.\n",
    "\n",
    "    :param tournament_name\n",
    "                Name of the tournament, which can be gotten from get_tournaments().\n",
    "    :return:\n",
    "                A list of game dictionaries.\n",
    "    \"\"\"\n",
    "    games = leaguepedia.query(tables='ScoreboardGames',\n",
    "                             fields='Tournament = tournament, '\n",
    "                                    'MatchHistory = match_history_url, ',\n",
    "                             where=\"ScoreboardGames.Tournament='{}'\".format(tournament_name),\n",
    "                             order_by=\"ScoreboardGames.DateTime_UTC\",\n",
    "                             **kwargs)\n",
    "    data = [\n",
    "        {\n",
    "            \"tournament\":game[\"tournament\"],\n",
    "            \"server\":game[\"match_history_url\"].split(\"/\")[5],\n",
    "            \"gameId\":game[\"match_history_url\"].split(\"/\")[6].split(\"?gameHash=\")[0],\n",
    "            \"hash\":game[\"match_history_url\"].split(\"/\")[6].split(\"?gameHash=\")[1],\n",
    "        }\n",
    "        for game in games\n",
    "    ]\n",
    "    return data\n",
    "\n",
    "lp.get_games_hashes = types.MethodType(get_games_hashes, lp)"
   ]
  },
  {
   "cell_type": "code",
   "execution_count": 26,
   "id": "d583c11b-c4bf-4c85-9a23-9a4cd034005f",
   "metadata": {
    "tags": []
   },
   "outputs": [
    {
     "ename": "TypeError",
     "evalue": "'LeaguepediaTournament' object is not subscriptable",
     "output_type": "error",
     "traceback": [
      "\u001b[1;31m---------------------------------------------------------------------------\u001b[0m",
      "\u001b[1;31mTypeError\u001b[0m                                 Traceback (most recent call last)",
      "Cell \u001b[1;32mIn[26], line 1\u001b[0m\n\u001b[1;32m----> 1\u001b[0m games \u001b[38;5;241m=\u001b[39m lp\u001b[38;5;241m.\u001b[39mget_games_hashes(\u001b[43mtournaments\u001b[49m\u001b[43m[\u001b[49m\u001b[38;5;241;43m3\u001b[39;49m\u001b[43m]\u001b[49m\u001b[43m[\u001b[49m\u001b[38;5;124;43m'\u001b[39;49m\u001b[38;5;124;43mname\u001b[39;49m\u001b[38;5;124;43m'\u001b[39;49m\u001b[43m]\u001b[49m)\n\u001b[0;32m      2\u001b[0m games[:\u001b[38;5;241m3\u001b[39m]\n",
      "\u001b[1;31mTypeError\u001b[0m: 'LeaguepediaTournament' object is not subscriptable"
     ]
    }
   ],
   "source": [
    "games = lp.get_games_hashes(tournaments[3]['name'])\n",
    "games[:3]"
   ]
  },
  {
   "cell_type": "code",
   "execution_count": null,
   "id": "ab404ed7-70fd-4f37-ae07-28521f65067f",
   "metadata": {},
   "outputs": [],
   "source": []
  }
 ],
 "metadata": {
  "kernelspec": {
   "display_name": "Python 3 (ipykernel)",
   "language": "python",
   "name": "python3"
  },
  "language_info": {
   "codemirror_mode": {
    "name": "ipython",
    "version": 3
   },
   "file_extension": ".py",
   "mimetype": "text/x-python",
   "name": "python",
   "nbconvert_exporter": "python",
   "pygments_lexer": "ipython3",
   "version": "3.8.16"
  }
 },
 "nbformat": 4,
 "nbformat_minor": 5
}
