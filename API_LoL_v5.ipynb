{
 "cells": [
  {
   "cell_type": "markdown",
   "id": "c5a62311-034a-425c-b891-de5c57810422",
   "metadata": {},
   "source": [
    "# UCDPA - Introduction to Data Analytics\n",
    "# Project: 2023 LoL Worlds Winner Prediction"
   ]
  },
  {
   "cell_type": "code",
   "execution_count": 1,
   "id": "f221217f-e4ba-4dc8-9245-897cd658faf6",
   "metadata": {},
   "outputs": [],
   "source": [
    "\"\"\"\n",
    "    Import Packages\n",
    "\"\"\"\n",
    "\n",
    "#mathematical\n",
    "import pandas as pd\n",
    "import numpy as np\n",
    "\n",
    "#API\n",
    "import mwclient\n",
    "from tqdm.notebook import tqdm\n",
    "\n",
    "#visualisation\n",
    "import seaborn as sns\n",
    "import matplotlib.pyplot as plt"
   ]
  },
  {
   "cell_type": "code",
   "execution_count": 259,
   "id": "953f9ead-4448-43d9-9afd-f6ea531eff82",
   "metadata": {
    "tags": []
   },
   "outputs": [],
   "source": [
    "\"\"\"\n",
    "    Graph Settings\n",
    "\"\"\"\n",
    "region_colours = {\"KR\":\"royalblue\", \"CN\":\"red\", \"EMEA\":\"orange\", \"NA\":\"green\", \\\n",
    "               \"BR\":\"yellow\", \"INT\":\"black\",\"JP\":\"pink\",\"LAT\":\"lime\",\"PCS\":\"aqua\",\"VN\":\"violet\"}"
   ]
  },
  {
   "cell_type": "markdown",
   "id": "b1200aea-db9d-48f4-a731-d14eec83d7c0",
   "metadata": {},
   "source": [
    "#"
   ]
  },
  {
   "cell_type": "markdown",
   "id": "332c32c6-3c40-4893-8b3c-2b6dab020cc8",
   "metadata": {},
   "source": [
    "## Shortcut"
   ]
  },
  {
   "cell_type": "code",
   "execution_count": null,
   "id": "4e828b5a-22de-4918-9e80-5d079620fa00",
   "metadata": {},
   "outputs": [],
   "source": [
    "# ===== Shortcut - Import df_Scoreboard ===== #\n",
    "df_Scoreboard = pd.read_csv(\"Scoreboard.csv\")\n",
    "df_Scoreboard.head()\n",
    "\n",
    "#save as csv\n",
    "df_Scoreboard.to_csv(\"Scoreboard.csv\", index=False)"
   ]
  },
  {
   "cell_type": "markdown",
   "id": "a5944fb9-97a6-4db4-8bbf-3f3ecc26dc12",
   "metadata": {},
   "source": [
    "#"
   ]
  },
  {
   "cell_type": "markdown",
   "id": "13cf46fe-0704-4fb7-8810-c907b1be2026",
   "metadata": {},
   "source": [
    "# Import Scoreboard data from Leaguepedia through API"
   ]
  },
  {
   "cell_type": "markdown",
   "id": "082bc0e2-902c-4237-b0d1-f1562683f1cc",
   "metadata": {},
   "source": [
    "## API full set of Scoreboard data with: "
   ]
  },
  {
   "cell_type": "code",
   "execution_count": 220,
   "id": "84855732-aad3-4f2b-88f0-307f6f9635fd",
   "metadata": {
    "tags": []
   },
   "outputs": [
    {
     "data": {
      "application/vnd.jupyter.widget-view+json": {
       "model_id": "f90662e67c66465a92a6ec4ba8a1c121",
       "version_major": 2,
       "version_minor": 0
      },
      "text/plain": [
       "  0%|          | 0/21 [00:00<?, ?it/s]"
      ]
     },
     "metadata": {},
     "output_type": "display_data"
    }
   ],
   "source": [
    "\"\"\"\n",
    "    Import Scoreboard Games data from Leaguepedia\n",
    "    For all leagues\n",
    "    Get detailed information\n",
    "\"\"\"\n",
    "site = mwclient.Site('lol.fandom.com', path='/')\n",
    "\n",
    "leagues = [\"GPL\", \"IWCQ\", \"WCS\", \"LCS\", \"LEC\", \"LCK\", \"LPL\", \"CBLOL\", \"LCL\", \"LJL\", \"LLA\", \"OPL\", \"PCS\", \"VCS\", \"TCL\", \"LMS\", \"LST\", \"NA LCS\", \"EU LCS\", \"LLN\", \"CLS\"]\n",
    "results = []\n",
    "\n",
    "for league in tqdm(leagues):\n",
    "    off=0\n",
    "    \n",
    "    while True:\n",
    "    \n",
    "        response = site.api(\"cargoquery\",\n",
    "                            offset=str(off),\n",
    "                            \n",
    "                            limit=\"max\",\n",
    "                            \n",
    "                            tables = \"ScoreboardGames=SG,Tournaments=T, Leagues=L\",\n",
    "                            \n",
    "                            fields=\"T.Name=Tournament,\\\n",
    "                            L.League_Short=League,\\\n",
    "                            SG.DateTime_UTC=Date, SG.Team1, SG.Team2, SG.WinTeam, \\\n",
    "                            SG.Team1Kills, SG.Team2Kills, SG.Team1Gold , SG.Team2Gold, SG.Team1Dragons, SG.Team2Dragons, \\\n",
    "                            SG.Team1Barons, SG.Team2Barons, SG.Team1RiftHeralds, SG.Team2RiftHeralds, SG.Team1Towers, SG.Team2Towers, \\\n",
    "                            SG.Team1Inhibitors, SG.Team2Inhibitors\",\n",
    "\n",
    "                            where = 'L.League_Short = \"'+league+'\"',\n",
    "                            \n",
    "                            join_on = \"SG.OverviewPage=T.OverviewPage, T.League = L.League\")\n",
    "    \n",
    "        results += response[\"cargoquery\"] \n",
    "        \n",
    "        off=off+500\n",
    "        if(len(response[\"cargoquery\"])<500): break"
   ]
  },
  {
   "cell_type": "code",
   "execution_count": 221,
   "id": "875f75b2-718b-40df-a39d-88a9888e8ddf",
   "metadata": {
    "tags": []
   },
   "outputs": [],
   "source": [
    "\"\"\"\n",
    "    Convert results into DataFrame and clean\n",
    "\"\"\"\n",
    "df_Scoreboard = pd.DataFrame([ a[\"title\"] for a in results ])\n",
    "\n",
    "df_Scoreboard = df_Scoreboard.drop(\"Date__precision\", axis=1)\n",
    "df_Scoreboard.sort_values(by = \"Date\",inplace=True)\n",
    "\n",
    "df_Scoreboard[\"Date\"] = pd.to_datetime(df_Scoreboard[\"Date\"])\n",
    "df_Scoreboard[\"Year\"]= df_Scoreboard[\"Date\"].dt.year"
   ]
  },
  {
   "cell_type": "markdown",
   "id": "d4d4899f-8d94-4155-a33b-cd85462f03ed",
   "metadata": {
    "tags": []
   },
   "source": [
    "# "
   ]
  },
  {
   "cell_type": "markdown",
   "id": "10f10c15-d5d6-44f7-b052-ae5e72cfdbc2",
   "metadata": {
    "tags": []
   },
   "source": [
    "## API full set of Teams Region data with: "
   ]
  },
  {
   "cell_type": "code",
   "execution_count": 222,
   "id": "74a8749a-5bcc-4fea-9d17-d64483cd1d61",
   "metadata": {
    "tags": []
   },
   "outputs": [
    {
     "data": {
      "application/vnd.jupyter.widget-view+json": {
       "model_id": "0ebafda496db4867905a9892f619e76e",
       "version_major": 2,
       "version_minor": 0
      },
      "text/plain": [
       "  0%|          | 0/21 [00:00<?, ?it/s]"
      ]
     },
     "metadata": {},
     "output_type": "display_data"
    }
   ],
   "source": [
    "\"\"\"\n",
    "    Import Teams and Region data from Leaguepedia\n",
    "    For all leagues\n",
    "    Get detailed information\n",
    "\"\"\"\n",
    "site = mwclient.Site(\"lol.fandom.com\", path='/')\n",
    "\n",
    "leagues = [\"GPL\", \"IWCQ\", \"WCS\", \"LCS\", \"LEC\", \"LCK\", \"LPL\", \"CBLOL\", \"LCL\", \"LJL\", \"LLA\", \"OPL\", \"PCS\", \"VCS\", \"TCL\", \"LMS\", \"LST\", \"NA LCS\", \"EU LCS\", \"LLN\", \"CLS\"]\n",
    "\n",
    "results = []\n",
    "\n",
    "for league in tqdm(leagues):\n",
    "    off=0\n",
    "    \n",
    "    while True:\n",
    "\n",
    "        response = site.api(\"cargoquery\",\n",
    "                            offset=str(off),\n",
    "                            \n",
    "                            limit=\"max\",\n",
    "                            \n",
    "                            tables = \"Teams=T\",\n",
    "                            \n",
    "                            fields=\"T.Name=Team, T.Region=Region, T.Short=Team_abbr\")\n",
    "                            \n",
    "        results += response[\"cargoquery\"] \n",
    "        \n",
    "        off=off+500\n",
    "        if(len(response[\"cargoquery\"])<500): break"
   ]
  },
  {
   "cell_type": "code",
   "execution_count": 223,
   "id": "c667bf63-abe4-44c4-ac17-cc4e489697ce",
   "metadata": {
    "tags": []
   },
   "outputs": [],
   "source": [
    "\"\"\"\n",
    "    Convert results into DataFrame and clean\n",
    "\"\"\"\n",
    "df_TeamRegion = pd.DataFrame([ a[\"title\"] for a in results ])\n",
    "\n",
    "df_TeamRegion = df_TeamRegion.dropna()\n",
    "df_TeamRegion = df_TeamRegion.drop_duplicates(subset=\"Team\")"
   ]
  },
  {
   "cell_type": "code",
   "execution_count": 224,
   "id": "a8a53022-e3a5-4a46-ba18-9f91c879353a",
   "metadata": {
    "tags": []
   },
   "outputs": [
    {
     "name": "stderr",
     "output_type": "stream",
     "text": [
      "C:\\Users\\vivia\\AppData\\Local\\Temp\\ipykernel_7324\\3815273305.py:15: FutureWarning: The frame.append method is deprecated and will be removed from pandas in a future version. Use pandas.concat instead.\n",
      "  df_TeamRegion = df_TeamRegion.append([df_TeamRegion2,df_TeamRegion3], ignore_index=True)\n"
     ]
    }
   ],
   "source": [
    "\"\"\"\n",
    "    Add DAMWON Gaming and DWG KIA to df_Team_Region:\n",
    "    because they are Worlds Winners of 2020, 2021 \n",
    "    They both renamed => DK\n",
    "\"\"\"\n",
    "\n",
    "df_TeamRegion2 = {\"Team\":\"DAMWON Gaming\",\n",
    "                  \"Region\":\"Korea\",\n",
    "                  \"Team_abbr\":\"DK\"}\n",
    "\n",
    "df_TeamRegion3 = {\"Team\":\"DWG KIA\",\n",
    "                  \"Region\":\"Korea\",\n",
    "                  \"Team_abbr\":\"DK\"}\n",
    "\n",
    "df_TeamRegion = df_TeamRegion.append([df_TeamRegion2,df_TeamRegion3], ignore_index=True)"
   ]
  },
  {
   "cell_type": "code",
   "execution_count": 225,
   "id": "26ab57bb-276d-46f7-8189-d71dcbcb9528",
   "metadata": {
    "tags": []
   },
   "outputs": [],
   "source": [
    "\"\"\"\n",
    "    Some teams cannot be matched to regions because they have renamed\n",
    "    I created a csv matching the old team names to new team names\n",
    "    Which are then merged together\n",
    "\"\"\"\n",
    "\n",
    "df_OldtoNewTeams = pd.read_csv(\"OldtoNewTeams.csv\")\n",
    "\n",
    "df_TeamRegion = pd.concat([df_TeamRegion,df_OldtoNewTeams])\n",
    "df_TeamRegion.to_csv(\"TeamRegion.csv\",index=False)"
   ]
  },
  {
   "cell_type": "code",
   "execution_count": 225,
   "id": "428ba85e-81df-4b9e-b4da-4a9870b64a9f",
   "metadata": {
    "collapsed": true,
    "jupyter": {
     "outputs_hidden": true
    },
    "tags": []
   },
   "outputs": [
    {
     "ename": "NameError",
     "evalue": "name 'df_TeamRegion' is not defined",
     "output_type": "error",
     "traceback": [
      "\u001b[1;31m---------------------------------------------------------------------------\u001b[0m",
      "\u001b[1;31mNameError\u001b[0m                                 Traceback (most recent call last)",
      "Cell \u001b[1;32mIn[225], line 10\u001b[0m\n\u001b[0;32m      1\u001b[0m \u001b[38;5;124;03m\"\"\"\u001b[39;00m\n\u001b[0;32m      2\u001b[0m \u001b[38;5;124;03m    Some regions have merged together with others historically\u001b[39;00m\n\u001b[0;32m      3\u001b[0m \u001b[38;5;124;03m    This information cannot be found on Leaguepedia\u001b[39;00m\n\u001b[0;32m      4\u001b[0m \u001b[38;5;124;03m    I created a csv matching the correct regions to their abbreviations\u001b[39;00m\n\u001b[0;32m      5\u001b[0m \u001b[38;5;124;03m    Which are then merged together\u001b[39;00m\n\u001b[0;32m      6\u001b[0m \u001b[38;5;124;03m\"\"\"\u001b[39;00m\n\u001b[0;32m      8\u001b[0m df_Region_code \u001b[38;5;241m=\u001b[39m pd\u001b[38;5;241m.\u001b[39mread_csv(\u001b[38;5;124m\"\u001b[39m\u001b[38;5;124mRegion_Code.csv\u001b[39m\u001b[38;5;124m\"\u001b[39m,na_filter \u001b[38;5;241m=\u001b[39m \u001b[38;5;28;01mFalse\u001b[39;00m) \u001b[38;5;66;03m#interprets NA as string instead of NaN value\u001b[39;00m\n\u001b[1;32m---> 10\u001b[0m df_TeamRegion_code \u001b[38;5;241m=\u001b[39m \u001b[43mdf_TeamRegion\u001b[49m\u001b[38;5;241m.\u001b[39mmerge(df_Region_code, on \u001b[38;5;241m=\u001b[39m \u001b[38;5;124m'\u001b[39m\u001b[38;5;124mRegion\u001b[39m\u001b[38;5;124m'\u001b[39m, how \u001b[38;5;241m=\u001b[39m \u001b[38;5;124m'\u001b[39m\u001b[38;5;124mleft\u001b[39m\u001b[38;5;124m'\u001b[39m)\n\u001b[0;32m     11\u001b[0m df_TeamRegion_code\u001b[38;5;241m.\u001b[39mdrop(columns\u001b[38;5;241m=\u001b[39m[\u001b[38;5;124m\"\u001b[39m\u001b[38;5;124mRegion\u001b[39m\u001b[38;5;124m\"\u001b[39m], inplace \u001b[38;5;241m=\u001b[39m \u001b[38;5;28;01mTrue\u001b[39;00m)\n",
      "\u001b[1;31mNameError\u001b[0m: name 'df_TeamRegion' is not defined"
     ]
    }
   ],
   "source": [
    "\"\"\"\n",
    "    Some regions have merged together with others historically\n",
    "    This information cannot be found on Leaguepedia\n",
    "    I created a csv matching the correct regions to their abbreviations\n",
    "    Which are then merged together\n",
    "\"\"\"\n",
    "\n",
    "df_Region_code = pd.read_csv(\"Region_Code.csv\",na_filter = False) #interprets NA as string instead of NaN value\n",
    "\n",
    "df_TeamRegion_code = df_TeamRegion.merge(df_Region_code, on = 'Region', how = 'left')\n",
    "df_TeamRegion_code.drop(columns=[\"Region\"], inplace = True)"
   ]
  },
  {
   "cell_type": "code",
   "execution_count": 227,
   "id": "ad328300-47de-4d0f-afbf-b84e46160e78",
   "metadata": {
    "tags": []
   },
   "outputs": [],
   "source": [
    "\"\"\"\n",
    "    SK Telecom T1 has renamed to T1\n",
    "    This is important as they played and won many matches which can affect the analysis\n",
    "    Therefore I replaced the code for SK Telecom T1 to T1\n",
    "\"\"\"\n",
    "\n",
    "df_TeamRegion_code = df_TeamRegion_code.replace(to_replace = \"SKT\", value = \"T1\")\n",
    "df_TeamRegion_code.to_csv(\"TeamRegion.csv\", index=False)"
   ]
  },
  {
   "cell_type": "markdown",
   "id": "a30a11ad-e8a6-4dc6-9ca1-b5251072120e",
   "metadata": {},
   "source": [
    "#"
   ]
  },
  {
   "cell_type": "markdown",
   "id": "5ab4de2e-f473-4bc5-98b3-8b56c2f86ec5",
   "metadata": {},
   "source": [
    "## Merge Scoreboard and TeamRegion to get:\n",
    "- Team1, Team2, WinTeam Regions\n",
    "- blue/red side"
   ]
  },
  {
   "cell_type": "markdown",
   "id": "2b87c94f-af9b-4f34-ac89-d32dbaa9f36c",
   "metadata": {
    "tags": []
   },
   "source": [
    "## Add Region and Region Code to Scoreboard"
   ]
  },
  {
   "cell_type": "code",
   "execution_count": 229,
   "id": "61b1a897-c9a8-4fa4-b38a-54cc0c8348da",
   "metadata": {
    "tags": []
   },
   "outputs": [],
   "source": [
    "\"\"\"\n",
    "    Merging Region codes with Scoreboard Games data\n",
    "    So I can find out which teams are from which regions\n",
    "    (This helps looking at which regions have participated and won the most matches)\n",
    "\"\"\"\n",
    "\n",
    "df_Scoreboard = df_Scoreboard.merge(df_TeamRegion_code, left_on = 'Team1', right_on = 'Team', how = 'left')\n",
    "\n",
    "df_Scoreboard = df_team1.merge(df_TeamRegion_code, left_on = 'Team2', right_on = 'Team', how = 'left')\n",
    "\n",
    "df_Scoreboard = df_team1and2.merge(df_TeamRegion_code, left_on = 'WinTeam', right_on = 'Team', how = 'left')\n",
    "\n",
    "df_Scoreboard.drop(columns=[\"Team_x\",\"Team_y\",\"Team\"], inplace = True)\n",
    "df_Scoreboard.rename(columns={'Region_x':'Region_T1','Team_abbr_x':'Team_T1','Region_code_x':'Region_code_T1','Region_y':'Region_T2','Team_abbr_y':'Team_T2','Region_code_y':'Region_code_T2','Region':'Region_Win','Team_abbr':'Team_Win','Region_code':'Region_code_Win'},inplace=True)"
   ]
  },
  {
   "cell_type": "markdown",
   "id": "3ec04f78-4b9f-4af0-b6f8-097e58f81d07",
   "metadata": {
    "tags": []
   },
   "source": [
    "## Add Blue/Red Side to Scoreboard"
   ]
  },
  {
   "cell_type": "code",
   "execution_count": 230,
   "id": "2503661e-e2ee-40d4-bcb2-0d74f1025699",
   "metadata": {
    "tags": []
   },
   "outputs": [
    {
     "data": {
      "text/html": [
       "<div>\n",
       "<style scoped>\n",
       "    .dataframe tbody tr th:only-of-type {\n",
       "        vertical-align: middle;\n",
       "    }\n",
       "\n",
       "    .dataframe tbody tr th {\n",
       "        vertical-align: top;\n",
       "    }\n",
       "\n",
       "    .dataframe thead th {\n",
       "        text-align: right;\n",
       "    }\n",
       "</style>\n",
       "<table border=\"1\" class=\"dataframe\">\n",
       "  <thead>\n",
       "    <tr style=\"text-align: right;\">\n",
       "      <th></th>\n",
       "      <th>Tournament</th>\n",
       "      <th>League</th>\n",
       "      <th>Date</th>\n",
       "      <th>Team1</th>\n",
       "      <th>Team2</th>\n",
       "      <th>WinTeam</th>\n",
       "      <th>Team1Kills</th>\n",
       "      <th>Team2Kills</th>\n",
       "      <th>Team1Gold</th>\n",
       "      <th>Team2Gold</th>\n",
       "      <th>...</th>\n",
       "      <th>Team1Inhibitors</th>\n",
       "      <th>Team2Inhibitors</th>\n",
       "      <th>Year</th>\n",
       "      <th>Team_T1</th>\n",
       "      <th>Region_code_T1</th>\n",
       "      <th>Team_T2</th>\n",
       "      <th>Region_code_T2</th>\n",
       "      <th>Team_Win</th>\n",
       "      <th>Region_code_Win</th>\n",
       "      <th>Blue/Red</th>\n",
       "    </tr>\n",
       "  </thead>\n",
       "  <tbody>\n",
       "    <tr>\n",
       "      <th>0</th>\n",
       "      <td>Worlds Season 1</td>\n",
       "      <td>WCS</td>\n",
       "      <td>2011-06-18 08:30:00</td>\n",
       "      <td>against All authority</td>\n",
       "      <td>Epik Gamer</td>\n",
       "      <td>Epik Gamer</td>\n",
       "      <td>None</td>\n",
       "      <td>None</td>\n",
       "      <td>None</td>\n",
       "      <td>None</td>\n",
       "      <td>...</td>\n",
       "      <td>None</td>\n",
       "      <td>None</td>\n",
       "      <td>2011</td>\n",
       "      <td>aAa</td>\n",
       "      <td>EMEA</td>\n",
       "      <td>EPIK</td>\n",
       "      <td>NA</td>\n",
       "      <td>EPIK</td>\n",
       "      <td>NA</td>\n",
       "      <td>Red</td>\n",
       "    </tr>\n",
       "    <tr>\n",
       "      <th>1</th>\n",
       "      <td>Worlds Season 1</td>\n",
       "      <td>WCS</td>\n",
       "      <td>2011-06-18 09:45:00</td>\n",
       "      <td>Fnatic</td>\n",
       "      <td>Team Pacific</td>\n",
       "      <td>Fnatic</td>\n",
       "      <td>None</td>\n",
       "      <td>None</td>\n",
       "      <td>None</td>\n",
       "      <td>None</td>\n",
       "      <td>...</td>\n",
       "      <td>None</td>\n",
       "      <td>None</td>\n",
       "      <td>2011</td>\n",
       "      <td>FNC</td>\n",
       "      <td>EMEA</td>\n",
       "      <td>PCFC</td>\n",
       "      <td>PCS</td>\n",
       "      <td>FNC</td>\n",
       "      <td>EMEA</td>\n",
       "      <td>Blue</td>\n",
       "    </tr>\n",
       "    <tr>\n",
       "      <th>2</th>\n",
       "      <td>Worlds Season 1</td>\n",
       "      <td>WCS</td>\n",
       "      <td>2011-06-18 11:00:00</td>\n",
       "      <td>Epik Gamer</td>\n",
       "      <td>Team Pacific</td>\n",
       "      <td>Epik Gamer</td>\n",
       "      <td>None</td>\n",
       "      <td>None</td>\n",
       "      <td>None</td>\n",
       "      <td>None</td>\n",
       "      <td>...</td>\n",
       "      <td>None</td>\n",
       "      <td>None</td>\n",
       "      <td>2011</td>\n",
       "      <td>EPIK</td>\n",
       "      <td>NA</td>\n",
       "      <td>PCFC</td>\n",
       "      <td>PCS</td>\n",
       "      <td>EPIK</td>\n",
       "      <td>NA</td>\n",
       "      <td>Blue</td>\n",
       "    </tr>\n",
       "    <tr>\n",
       "      <th>3</th>\n",
       "      <td>Worlds Season 1</td>\n",
       "      <td>WCS</td>\n",
       "      <td>2011-06-18 11:00:00</td>\n",
       "      <td>against All authority</td>\n",
       "      <td>Fnatic</td>\n",
       "      <td>against All authority</td>\n",
       "      <td>None</td>\n",
       "      <td>None</td>\n",
       "      <td>None</td>\n",
       "      <td>None</td>\n",
       "      <td>...</td>\n",
       "      <td>None</td>\n",
       "      <td>None</td>\n",
       "      <td>2011</td>\n",
       "      <td>aAa</td>\n",
       "      <td>EMEA</td>\n",
       "      <td>FNC</td>\n",
       "      <td>EMEA</td>\n",
       "      <td>aAa</td>\n",
       "      <td>EMEA</td>\n",
       "      <td>Blue</td>\n",
       "    </tr>\n",
       "    <tr>\n",
       "      <th>4</th>\n",
       "      <td>Worlds Season 1</td>\n",
       "      <td>WCS</td>\n",
       "      <td>2011-06-18 12:15:00</td>\n",
       "      <td>against All authority</td>\n",
       "      <td>Team Pacific</td>\n",
       "      <td>against All authority</td>\n",
       "      <td>None</td>\n",
       "      <td>None</td>\n",
       "      <td>None</td>\n",
       "      <td>None</td>\n",
       "      <td>...</td>\n",
       "      <td>None</td>\n",
       "      <td>None</td>\n",
       "      <td>2011</td>\n",
       "      <td>aAa</td>\n",
       "      <td>EMEA</td>\n",
       "      <td>PCFC</td>\n",
       "      <td>PCS</td>\n",
       "      <td>aAa</td>\n",
       "      <td>EMEA</td>\n",
       "      <td>Blue</td>\n",
       "    </tr>\n",
       "  </tbody>\n",
       "</table>\n",
       "<p>5 rows × 28 columns</p>\n",
       "</div>"
      ],
      "text/plain": [
       "        Tournament League                Date                  Team1  \\\n",
       "0  Worlds Season 1    WCS 2011-06-18 08:30:00  against All authority   \n",
       "1  Worlds Season 1    WCS 2011-06-18 09:45:00                 Fnatic   \n",
       "2  Worlds Season 1    WCS 2011-06-18 11:00:00             Epik Gamer   \n",
       "3  Worlds Season 1    WCS 2011-06-18 11:00:00  against All authority   \n",
       "4  Worlds Season 1    WCS 2011-06-18 12:15:00  against All authority   \n",
       "\n",
       "          Team2                WinTeam Team1Kills Team2Kills Team1Gold  \\\n",
       "0    Epik Gamer             Epik Gamer       None       None      None   \n",
       "1  Team Pacific                 Fnatic       None       None      None   \n",
       "2  Team Pacific             Epik Gamer       None       None      None   \n",
       "3        Fnatic  against All authority       None       None      None   \n",
       "4  Team Pacific  against All authority       None       None      None   \n",
       "\n",
       "  Team2Gold  ... Team1Inhibitors Team2Inhibitors  Year Team_T1 Region_code_T1  \\\n",
       "0      None  ...            None            None  2011     aAa           EMEA   \n",
       "1      None  ...            None            None  2011     FNC           EMEA   \n",
       "2      None  ...            None            None  2011    EPIK             NA   \n",
       "3      None  ...            None            None  2011     aAa           EMEA   \n",
       "4      None  ...            None            None  2011     aAa           EMEA   \n",
       "\n",
       "  Team_T2 Region_code_T2 Team_Win Region_code_Win Blue/Red  \n",
       "0    EPIK             NA     EPIK              NA      Red  \n",
       "1    PCFC            PCS      FNC            EMEA     Blue  \n",
       "2    PCFC            PCS     EPIK              NA     Blue  \n",
       "3     FNC           EMEA      aAa            EMEA     Blue  \n",
       "4    PCFC            PCS      aAa            EMEA     Blue  \n",
       "\n",
       "[5 rows x 28 columns]"
      ]
     },
     "execution_count": 230,
     "metadata": {},
     "output_type": "execute_result"
    }
   ],
   "source": [
    "\"\"\"\n",
    "    Add a column to Scoreboard Games data: Blue/Red\n",
    "    Leaguepedia states that Team1 is on blue side and Team2 is on red side\n",
    "    So I created a for loop to differentiate between blue and red side\n",
    "\"\"\"\n",
    "\n",
    "#get if blue side or red side is winner\n",
    "for lab, row in df_Scoreboard.iterrows():\n",
    "    if row[\"Team1\"] == row[\"WinTeam\"]:\n",
    "        df_Scoreboard.loc[lab,\"Blue/Red\"] = \"Blue\"\n",
    "    else:\n",
    "        df_Scoreboard.loc[lab,\"Blue/Red\"] = \"Red\"\n",
    "\n",
    "df_Scoreboard[[\"Region_code_T1\", \"Region_code_T2\",\"Region_code_Win\"]] = df_Scoreboard[[\"Region_code_T1\", \"Region_code_T2\",\"Region_code_Win\"]].fillna(\"NA\")"
   ]
  },
  {
   "cell_type": "code",
   "execution_count": 18,
   "id": "8bdfc34d-69fb-4c70-b3a4-184aa37f2c7d",
   "metadata": {
    "tags": []
   },
   "outputs": [],
   "source": [
    "#replace SKT to T1\n",
    "df_Scoreboard = df_Scoreboard.replace(to_replace = \"SKT\", value = \"T1\")\n",
    "df_Scoreboard.to_csv(\"Scoreboard.csv\", index=False)"
   ]
  },
  {
   "cell_type": "markdown",
   "id": "0cb2acfe-99a1-44e7-8fc7-12731a71523a",
   "metadata": {
    "tags": []
   },
   "source": [
    "#"
   ]
  },
  {
   "cell_type": "markdown",
   "id": "0998fbc1-c74d-474e-9a68-88730de0e608",
   "metadata": {},
   "source": [
    "# Worlds Winners 2011 - 2022"
   ]
  },
  {
   "cell_type": "markdown",
   "id": "d0ce582f-8da5-4479-bd2e-985fad4ed107",
   "metadata": {
    "tags": []
   },
   "source": [
    "## Get Worlds Tournament only - original dataset contains regional finals"
   ]
  },
  {
   "cell_type": "code",
   "execution_count": 122,
   "id": "279f6c66-d646-4c30-80d9-e4b42be49edc",
   "metadata": {
    "tags": []
   },
   "outputs": [],
   "source": [
    "\"\"\"\n",
    "    LoL Worlds Winners Analysis 2011 - 2022\n",
    "    Leagues labeled WCS include regional finals\n",
    "    Must filter Tournaments that start with \"Worlds\"\n",
    "\"\"\"\n",
    "\n",
    "df_Scoreboard_Worlds = df_Scoreboard[df_Scoreboard[\"Tournament\"].str.startswith(\"Worlds\")]\n",
    "df_Scoreboard_Worlds = df_Scoreboard_Worlds.reset_index(drop=True)\n",
    "df_Scoreboard_Worlds = df_Scoreboard_Worlds.drop_duplicates(keep=\"first\")"
   ]
  },
  {
   "cell_type": "markdown",
   "id": "b4a50715-f9de-4ea9-9df9-077648232adc",
   "metadata": {},
   "source": [
    "## Graph - Top 10 Team Winners in ALL matches of Worlds"
   ]
  },
  {
   "cell_type": "code",
   "execution_count": 331,
   "id": "ad13220d-6f7d-4709-9418-fd8fd4e6225e",
   "metadata": {
    "tags": []
   },
   "outputs": [
    {
     "data": {
      "text/plain": [
       "<matplotlib.legend.Legend at 0x23a24d38160>"
      ]
     },
     "execution_count": 331,
     "metadata": {},
     "output_type": "execute_result"
    },
    {
     "data": {
      "image/png": "[encoded data removed]",
      "text/plain": [
       "<Figure size 640x480 with 1 Axes>"
      ]
     },
     "metadata": {},
     "output_type": "display_data"
    }
   ],
   "source": [
    "top_10_Worlds_teams = pd.DataFrame((df_Scoreboard_Worlds[\"Team_Win\"].value_counts()).iloc[:10]).reset_index()\n",
    "top_10_Worlds_teams = top_10_Worlds_teams.rename(columns={top_10_Worlds_teams.columns[0]:\"Team\",\"Team_Win\":\"Matches Won\"})\n",
    "top_10_Worlds_teams = top_10_Worlds_teams.merge(df_TeamRegion_code, left_on = \"Team\", right_on = \"Team_abbr\", how = \"left\" )\n",
    "top_10_Worlds_teams = top_10_Worlds_teams.drop(columns = [\"Team_y\",\"Team_abbr\"])\n",
    "top_10_Worlds_teams = top_10_Worlds_teams.drop_duplicates(subset=\"Team_x\")\n",
    "top_10_Worlds_teams = top_10_Worlds_teams.rename(columns={\"Team_x\":\"Team\"})\n",
    "\n",
    "hue_order = [\"KR\",\"EMEA\",\"NA\",\"CN\"]\n",
    "sns.barplot(x = \"Team\", y = \"Matches Won\", data = top_10_Worlds_teams ,hue = \"Region_code\", hue_order = hue_order, dodge = False)\\\n",
    "    .set(title=\"Top 10 Teams in Worlds\")\n",
    "plt.legend(bbox_to_anchor=(1.02, 1), loc='upper left', borderaxespad=0)"
   ]
  },
  {
   "cell_type": "markdown",
   "id": "665c48b6-6207-42e5-a44e-f3ad96cc1b3b",
   "metadata": {
    "tags": []
   },
   "source": [
    "## Graph - Top 10 Region Winners in ALL matches of Worlds"
   ]
  },
  {
   "cell_type": "code",
   "execution_count": 124,
   "id": "9c200da8-8bdc-408b-90e4-4529e052e6bc",
   "metadata": {
    "tags": []
   },
   "outputs": [
    {
     "data": {
      "text/plain": [
       "[Text(0.5, 1.0, 'Top 10 Regions in Worlds')]"
      ]
     },
     "execution_count": 124,
     "metadata": {},
     "output_type": "execute_result"
    },
    {
     "data": {
      "image/png": "[encoded data removed]",
      "text/plain": [
       "<Figure size 640x480 with 1 Axes>"
      ]
     },
     "metadata": {},
     "output_type": "display_data"
    }
   ],
   "source": [
    "top_10_Worlds_regions = pd.DataFrame((df_Scoreboard_Worlds['Region_code_Win'].value_counts()).iloc[:10]).reset_index()\n",
    "top_10_Worlds_regions = top_10_Worlds_regions.rename(columns = {top_10_Worlds_regions.columns[0]:\"Region\",\"Region_code_Win\":\"Matches Won\"})\n",
    "\n",
    "sns.barplot(x = \"Matches Won\", y = \"Region\", data = top_10_Worlds_regions, orient = \"h\").set(title=\"Top 10 Regions in Worlds\")"
   ]
  },
  {
   "cell_type": "markdown",
   "id": "aeeb25b7-eb40-4560-8573-6c9de89bf396",
   "metadata": {},
   "source": [
    "## Get list of all World Winners - filter who won most matches in Finals"
   ]
  },
  {
   "cell_type": "code",
   "execution_count": 128,
   "id": "057b7ef5-b35b-4bc7-9b52-fa2a351ed147",
   "metadata": {
    "tags": []
   },
   "outputs": [],
   "source": [
    "\"\"\"\n",
    "    Create function to get winner of each year for Worlds\n",
    "\"\"\"\n",
    "\n",
    "def get_winner(year):\n",
    "    finals_year = df_Scoreboard_Worlds[df_Scoreboard_Worlds[\"Year\"]==year]\n",
    "    winner = finals_year[\"WinTeam\"].value_counts( ).idxmax()\n",
    "    return winner\n",
    "\n",
    "years = [i for i in range(2011,2023)]\n",
    "winners = []\n",
    "\n",
    "for i in range(2011,2023):\n",
    "    winners.append(get_winner(i))\n",
    "\n",
    "dict_worlds_winners = {}\n",
    "for i in range(len(years)):\n",
    "    dict_worlds_winners[years[i]] = winners[i]"
   ]
  },
  {
   "cell_type": "markdown",
   "id": "e2f827f4-1819-404a-ae0c-3a4448f7f6b5",
   "metadata": {},
   "source": [
    "## Graph - Frequency of Worlds Winner : Teams "
   ]
  },
  {
   "cell_type": "code",
   "execution_count": 330,
   "id": "fcb0f1b5-aa97-42ff-8c18-9418e732a5c9",
   "metadata": {
    "tags": []
   },
   "outputs": [
    {
     "data": {
      "text/plain": [
       "<matplotlib.legend.Legend at 0x23a2e2007c0>"
      ]
     },
     "execution_count": 330,
     "metadata": {},
     "output_type": "execute_result"
    },
    {
     "data": {
      "image/png": "[encoded data removed]",
      "text/plain": [
       "<Figure size 640x480 with 1 Axes>"
      ]
     },
     "metadata": {},
     "output_type": "display_data"
    }
   ],
   "source": [
    "df_worlds_winners = pd.DataFrame(data = [dict_worlds_winners])\n",
    "df_worlds_winners = df_worlds_winners.transpose()\n",
    "df_worlds_winners.reset_index(inplace=True)\n",
    "df_worlds_winners.columns = [\"Year\",\"Winner\"]\n",
    "\n",
    "df_worlds_winners = pd.DataFrame(df_worlds_winners[\"Winner\"].value_counts())\n",
    "df_worlds_winners = df_worlds_winners.rename(columns = {\"Winner\":\"Worlds Won\"})\n",
    "df_worlds_winners = df_worlds_winners.reset_index()\n",
    "df_worlds_winners = df_worlds_winners.rename(columns = {df_worlds_winners.columns[0]:\"Team\"})\n",
    "df_worlds_winners = df_worlds_winners.merge(df_TeamRegion_code, on = \"Team\", how = \"left\")\n",
    "df_worlds_winners\n",
    "\n",
    "sns.barplot(x = \"Team_abbr\", y = \"Worlds Won\", data = df_worlds_winners ,hue = \"Region_code\", palette = region_colours , dodge = False).set(title=\"Worlds Winners by Teams\")\n",
    "plt.yticks([1,2,3])\n",
    "plt.legend(bbox_to_anchor=(1.02, 1), loc='upper left', borderaxespad=0)"
   ]
  },
  {
   "cell_type": "markdown",
   "id": "2df732c7-f4eb-4a54-bc8a-6ce2be589288",
   "metadata": {},
   "source": [
    "## Graph - Frequency of Worlds Winner : Regions "
   ]
  },
  {
   "cell_type": "code",
   "execution_count": 329,
   "id": "349d8d34-058a-464c-8ec4-e75305ae25dc",
   "metadata": {
    "tags": []
   },
   "outputs": [
    {
     "data": {
      "text/plain": [
       "[Text(0.5, 1.0, 'Worlds Winners by Region')]"
      ]
     },
     "execution_count": 329,
     "metadata": {},
     "output_type": "execute_result"
    },
    {
     "data": {
      "image/png": "[encoded data removed]",
      "text/plain": [
       "<Figure size 640x480 with 1 Axes>"
      ]
     },
     "metadata": {},
     "output_type": "display_data"
    }
   ],
   "source": [
    "df_worlds_winners_regions = pd.DataFrame(df_worlds_winners[\"Region_code\"].value_counts())\n",
    "df_worlds_winners_regions = df_worlds_winners_regions.reset_index()\n",
    "df_worlds_winners_regions = df_worlds_winners_regions.rename(columns={df_worlds_winners_regions.columns[0]:\"Region\",\n",
    "                                                                     df_worlds_winners_regions.columns[1]:\"Worlds Won\"})\n",
    "sns.barplot(x =  \"Worlds Won\", y = \"Region\", data = df_worlds_winners_regions, palette = region_colours, orient = \"h\") \\\n",
    "    .set(title=\"Worlds Winners by Region\")"
   ]
  },
  {
   "cell_type": "markdown",
   "id": "5bd50316-e58b-4064-a7c1-8840b866cfb7",
   "metadata": {},
   "source": [
    "## Get Participation of Regions in Worlds\n",
    "- to show that Korea participated later but won a lot more matches/worlds finals\n"
   ]
  },
  {
   "cell_type": "markdown",
   "id": "983c215e-e09d-420f-9588-ea55e28be722",
   "metadata": {},
   "source": [
    "## Group by years and find out region participation"
   ]
  },
  {
   "cell_type": "code",
   "execution_count": 214,
   "id": "83c74dbb-417d-407f-849e-24c8aa2b7ab6",
   "metadata": {
    "tags": []
   },
   "outputs": [
    {
     "data": {
      "text/html": [
       "<div>\n",
       "<style scoped>\n",
       "    .dataframe tbody tr th:only-of-type {\n",
       "        vertical-align: middle;\n",
       "    }\n",
       "\n",
       "    .dataframe tbody tr th {\n",
       "        vertical-align: top;\n",
       "    }\n",
       "\n",
       "    .dataframe thead th {\n",
       "        text-align: right;\n",
       "    }\n",
       "</style>\n",
       "<table border=\"1\" class=\"dataframe\">\n",
       "  <thead>\n",
       "    <tr style=\"text-align: right;\">\n",
       "      <th></th>\n",
       "      <th></th>\n",
       "      <th>Participation_counts</th>\n",
       "    </tr>\n",
       "    <tr>\n",
       "      <th>Year</th>\n",
       "      <th>Region</th>\n",
       "      <th></th>\n",
       "    </tr>\n",
       "  </thead>\n",
       "  <tbody>\n",
       "    <tr>\n",
       "      <th rowspan=\"3\" valign=\"top\">2011</th>\n",
       "      <th>EMEA</th>\n",
       "      <td>28.0</td>\n",
       "    </tr>\n",
       "    <tr>\n",
       "      <th>NA</th>\n",
       "      <td>22.0</td>\n",
       "    </tr>\n",
       "    <tr>\n",
       "      <th>PCS</th>\n",
       "      <td>0.0</td>\n",
       "    </tr>\n",
       "    <tr>\n",
       "      <th rowspan=\"2\" valign=\"top\">2012</th>\n",
       "      <th>CN</th>\n",
       "      <td>8.0</td>\n",
       "    </tr>\n",
       "    <tr>\n",
       "      <th>EMEA</th>\n",
       "      <td>12.0</td>\n",
       "    </tr>\n",
       "    <tr>\n",
       "      <th>...</th>\n",
       "      <th>...</th>\n",
       "      <td>...</td>\n",
       "    </tr>\n",
       "    <tr>\n",
       "      <th rowspan=\"5\" valign=\"top\">2022</th>\n",
       "      <th>KR</th>\n",
       "      <td>72.0</td>\n",
       "    </tr>\n",
       "    <tr>\n",
       "      <th>LAT</th>\n",
       "      <td>5.0</td>\n",
       "    </tr>\n",
       "    <tr>\n",
       "      <th>NA</th>\n",
       "      <td>28.0</td>\n",
       "    </tr>\n",
       "    <tr>\n",
       "      <th>PCS</th>\n",
       "      <td>16.0</td>\n",
       "    </tr>\n",
       "    <tr>\n",
       "      <th>VN</th>\n",
       "      <td>15.0</td>\n",
       "    </tr>\n",
       "  </tbody>\n",
       "</table>\n",
       "<p>93 rows × 1 columns</p>\n",
       "</div>"
      ],
      "text/plain": [
       "             Participation_counts\n",
       "Year Region                      \n",
       "2011 EMEA                    28.0\n",
       "     NA                      22.0\n",
       "     PCS                      0.0\n",
       "2012 CN                       8.0\n",
       "     EMEA                    12.0\n",
       "...                           ...\n",
       "2022 KR                      72.0\n",
       "     LAT                      5.0\n",
       "     NA                      28.0\n",
       "     PCS                     16.0\n",
       "     VN                      15.0\n",
       "\n",
       "[93 rows x 1 columns]"
      ]
     },
     "execution_count": 214,
     "metadata": {},
     "output_type": "execute_result"
    }
   ],
   "source": [
    "\"\"\"\n",
    "    Group Team1 and Team2 together \n",
    "    Get Participation Counts (how many times each time has played a match)\n",
    "    Convert to DataFrame\n",
    "    Clean DataFrame\n",
    "\"\"\"\n",
    "\n",
    "data1 = df_Scoreboard_Worlds.groupby([\"Year\",\"Region_code_T1\"])[\"Region_code_T1\"].count()\n",
    "data2 = df_Scoreboard_Worlds.groupby([\"Year\",\"Region_code_T2\"])[\"Region_code_T2\"].count()\n",
    "df_participation = pd.DataFrame(pd.concat([data1,data2],axis=1))\n",
    "\n",
    "df_participation[\"Region_T1_T2\"]=df_participation[\"Region_code_T1\"] + df_participation[\"Region_code_T2\"] \n",
    "df_participation= df_participation.reset_index()\n",
    "df_participation.rename(columns={df_participation.columns[1]:\"Region\",df_participation.columns[4]:\"Participation_counts\"},inplace=True)\n",
    "\n",
    "df_participation = pd.DataFrame(df_participation.groupby([\"Year\",\"Region\"])[\"Participation_counts\"].sum())"
   ]
  },
  {
   "cell_type": "code",
   "execution_count": 217,
   "id": "08ed639c-6f1f-41e5-8590-4b4856d6d2fe",
   "metadata": {
    "tags": []
   },
   "outputs": [],
   "source": [
    "\"\"\"\n",
    "    Get Win Counts\n",
    "    Compare Participation Counts vs Win Counts\n",
    "    Get Ratio for 'Win Rate %'\n",
    "\"\"\"\n",
    "dfwins = pd.DataFrame(df_Scoreboard_Worlds.groupby([\"Year\",\"Region_code_Win\"])[\"Region_code_Win\"].count())\n",
    "dfwins.rename(columns={\"Region_code_Win\":\"Win_counts\"},inplace=True)\n",
    "dfwins = dfwins.reset_index()\n",
    "dfwins.rename(columns={\"Region_code_Win\":\"Region\"},inplace=True)\n",
    "\n",
    "dfcompare_part_wins = dfwins.merge(df_participation, on = [\"Year\",\"Region\"], how = \"left\")\n",
    "dfcompare_part_wins = dfcompare_part_wins.set_index([\"Region\",\"Year\"])"
   ]
  },
  {
   "cell_type": "code",
   "execution_count": 327,
   "id": "3d9369c1-ae03-4e8f-b95d-716b94ca427f",
   "metadata": {
    "tags": []
   },
   "outputs": [
    {
     "data": {
      "text/plain": [
       "<matplotlib.legend.Legend at 0x23a1fce8370>"
      ]
     },
     "execution_count": 327,
     "metadata": {},
     "output_type": "execute_result"
    },
    {
     "data": {
      "image/png": "[encoded data removed]",
      "text/plain": [
       "<Figure size 640x480 with 1 Axes>"
      ]
     },
     "metadata": {},
     "output_type": "display_data"
    }
   ],
   "source": [
    "\"\"\"\n",
    "    Graph for Partcipation to Win Ratio\n",
    "\"\"\"\n",
    "def graph_part_win_counts(region):\n",
    "    dfcompare_part_wins.loc[region].plot(kind=\"bar\", title=region, color = [\"crimson\",\"indigo\"])\n",
    "\n",
    "graph_part_win_counts(\"KR\")\n",
    "plt.legend(bbox_to_anchor=(1.02, 1), loc='upper left', borderaxespad=0)"
   ]
  },
  {
   "cell_type": "code",
   "execution_count": 227,
   "id": "e648d81d-0fa4-4468-bb65-7d5c89b7dd60",
   "metadata": {
    "tags": []
   },
   "outputs": [
    {
     "data": {
      "text/html": [
       "<div>\n",
       "<style scoped>\n",
       "    .dataframe tbody tr th:only-of-type {\n",
       "        vertical-align: middle;\n",
       "    }\n",
       "\n",
       "    .dataframe tbody tr th {\n",
       "        vertical-align: top;\n",
       "    }\n",
       "\n",
       "    .dataframe thead th {\n",
       "        text-align: right;\n",
       "    }\n",
       "</style>\n",
       "<table border=\"1\" class=\"dataframe\">\n",
       "  <thead>\n",
       "    <tr style=\"text-align: right;\">\n",
       "      <th></th>\n",
       "      <th>Regions</th>\n",
       "      <th>Win Rate %</th>\n",
       "    </tr>\n",
       "  </thead>\n",
       "  <tbody>\n",
       "    <tr>\n",
       "      <th>5</th>\n",
       "      <td>KR</td>\n",
       "      <td>66.338297</td>\n",
       "    </tr>\n",
       "    <tr>\n",
       "      <th>2</th>\n",
       "      <td>CN</td>\n",
       "      <td>55.865905</td>\n",
       "    </tr>\n",
       "    <tr>\n",
       "      <th>0</th>\n",
       "      <td>EMEA</td>\n",
       "      <td>46.548568</td>\n",
       "    </tr>\n",
       "    <tr>\n",
       "      <th>7</th>\n",
       "      <td>NA</td>\n",
       "      <td>41.285467</td>\n",
       "    </tr>\n",
       "    <tr>\n",
       "      <th>3</th>\n",
       "      <td>INT</td>\n",
       "      <td>34.337217</td>\n",
       "    </tr>\n",
       "    <tr>\n",
       "      <th>4</th>\n",
       "      <td>JP</td>\n",
       "      <td>31.272727</td>\n",
       "    </tr>\n",
       "    <tr>\n",
       "      <th>9</th>\n",
       "      <td>VN</td>\n",
       "      <td>29.285714</td>\n",
       "    </tr>\n",
       "    <tr>\n",
       "      <th>6</th>\n",
       "      <td>LAT</td>\n",
       "      <td>27.214286</td>\n",
       "    </tr>\n",
       "    <tr>\n",
       "      <th>1</th>\n",
       "      <td>BR</td>\n",
       "      <td>25.925926</td>\n",
       "    </tr>\n",
       "    <tr>\n",
       "      <th>8</th>\n",
       "      <td>PCS</td>\n",
       "      <td>0.354104</td>\n",
       "    </tr>\n",
       "  </tbody>\n",
       "</table>\n",
       "</div>"
      ],
      "text/plain": [
       "  Regions  Win Rate %\n",
       "5      KR   66.338297\n",
       "2      CN   55.865905\n",
       "0    EMEA   46.548568\n",
       "7      NA   41.285467\n",
       "3     INT   34.337217\n",
       "4      JP   31.272727\n",
       "9      VN   29.285714\n",
       "6     LAT   27.214286\n",
       "1      BR   25.925926\n",
       "8     PCS    0.354104"
      ]
     },
     "execution_count": 227,
     "metadata": {},
     "output_type": "execute_result"
    }
   ],
   "source": [
    "\"\"\"\n",
    "    Create a table that shows Win Rate% per region\n",
    "\"\"\"\n",
    "list_regions = list(df_Region_code[\"Region_code\"].unique())\n",
    "\n",
    "def get_part_win_ratio(region): \n",
    "    part_wins_ratio = dfcompare_part_wins.loc[region][\"Win_counts\"]/dfcompare_part_wins.loc[region][\"Participation_counts\"]\n",
    "    return 100*part_wins_ratio.mean()\n",
    "\n",
    "df_ratios = pd.DataFrame()\n",
    "df_ratios[\"Regions\"] = list_regions\n",
    "df_ratios[\"Win Rate %\"] = df_ratios[\"Regions\"].apply(get_part_win_ratio)\n",
    "\n",
    "#correct for PCS - inf\n",
    "df_part_wins_ratio_PCS = dfcompare_part_wins.loc[\"PCS\"][\"Win_counts\"]/dfcompare_part_wins.loc[\"PCS\"][\"Participation_counts\"]\n",
    "df_part_wins_ratio_PCS.replace([np.inf, -np.inf], np.nan, inplace=True)\n",
    "df_part_wins_ratio_PCS.dropna(inplace=True)\n",
    "df_ratios.at[8,\"Win Rate %\"] = df_part_wins_ratio_PCS.mean()\n",
    "\n",
    "df_ratios = df_ratios.sort_values(\"Win Rate %\",ascending = False)\n",
    "df_ratios"
   ]
  },
  {
   "cell_type": "code",
   "execution_count": 326,
   "id": "a05af796-f3ef-4954-8b5f-f5f041a96e90",
   "metadata": {
    "tags": []
   },
   "outputs": [
    {
     "data": {
      "text/plain": [
       "<matplotlib.legend.Legend at 0x23a32e5fd60>"
      ]
     },
     "execution_count": 326,
     "metadata": {},
     "output_type": "execute_result"
    },
    {
     "data": {
      "image/png": "[encoded data removed]",
      "text/plain": [
       "<Figure size 1500x500 with 1 Axes>"
      ]
     },
     "metadata": {},
     "output_type": "display_data"
    }
   ],
   "source": [
    "\"\"\"\n",
    "    Graph - Regional Participation in Worlds\n",
    "    How many matches does each Region play in Worlds \n",
    "\"\"\"\n",
    "\n",
    "piv_participation_finals = pd.pivot_table(dfcompare_part_wins, index=\"Year\",columns=\"Region\",values=\"Participation_counts\", fill_value=0)\n",
    "piv_participation_finals\n",
    "\n",
    "piv_participation_finals.plot(title = \"Regions Participation in Worlds\", linewidth = 4, figsize = (15,5), color = region_colours)\n",
    "plt.legend(bbox_to_anchor=(1.02, 1), loc='upper left', borderaxespad=0)"
   ]
  },
  {
   "cell_type": "markdown",
   "id": "dbf0f370-d034-449b-93c2-92c5e631851f",
   "metadata": {},
   "source": [
    "## KR and CN has wr% > 50% and EMEA has close to wr% 47%\n",
    "## From Graph -  can see these 3 regions has most teams entered and playing in Worlds"
   ]
  },
  {
   "cell_type": "markdown",
   "id": "0677c518-b99e-40a8-b8ad-7ff2ac7c3c56",
   "metadata": {},
   "source": [
    "## Decide to only look at KR, CN, EMEA as a result of analysis:\n",
    "- Worlds Winners region frequency\n",
    "- Match winners region frequency\n",
    "- Participation counts region frequency"
   ]
  },
  {
   "cell_type": "markdown",
   "id": "1059e83e-c1f3-475c-8186-7e04f24cbf14",
   "metadata": {},
   "source": [
    "# "
   ]
  },
  {
   "cell_type": "markdown",
   "id": "badb0692-e905-40c3-91f6-020ddb0caff8",
   "metadata": {},
   "source": [
    "## Get KR, CN and EMEA top x teams to qualify to Swiss Round\n",
    "- Get top x teams to qualify to Swiss Round by Win-to-Participation Ratio (where teams have played > y matches)\n",
    "- KR(LCK) has 4 teams qualifying, CN(LPL) 4, EMEA(LEC) 3"
   ]
  },
  {
   "cell_type": "code",
   "execution_count": 344,
   "id": "a8395738-4488-492e-8a4d-1a3bcd1841eb",
   "metadata": {
    "tags": []
   },
   "outputs": [],
   "source": [
    "def get_top_x_teams_league(league,x, y=100):\n",
    "    \n",
    "    df_Scoreboard_TL = df_Scoreboard[df_Scoreboard[\"League\"]==league]\n",
    "\n",
    "\n",
    "    teams_wins = df_Scoreboard_TL.groupby([\"Team_Win\"])[\"Team_Win\"].count()\n",
    "    teams_wins.name=\"Win_Counts\"\n",
    "    df_teams_wins = pd.DataFrame(teams_wins).reset_index()\n",
    "    df_teams_wins.rename(columns={\"Team_Win\":\"Team\"},inplace=True)\n",
    "\n",
    "\n",
    "    teams_T1 =  df_Scoreboard_TL.groupby([\"Team_T1\"])[\"Team_T1\"].count()\n",
    "    teams_T2 = df_Scoreboard_TL.groupby([\"Team_T2\"])[\"Team_T2\"].count()\n",
    "    df_teams_part = pd.DataFrame(pd.concat([teams_T1,teams_T2],axis=1))\n",
    "    df_teams_part[\"Participation_Counts\"]=df_teams_part[\"Team_T1\"] + df_teams_part[\"Team_T2\"] \n",
    "    df_teams_part = df_teams_part.drop(columns=[\"Team_T1\",\"Team_T2\"]).reset_index()\n",
    "    df_teams_part.rename(columns={df_teams_part.columns[0]:\"Team\"},inplace=True)\n",
    "\n",
    "\n",
    "    teams = df_teams_part.merge(df_teams_wins, on = \"Team\", how = \"left\")\n",
    "    teams = teams[teams[\"Participation_Counts\"]>y] #count only teams who have played more than 100 matches\n",
    "    teams[\"Ratio\"] = (teams[\"Win_Counts\"]/teams[\"Participation_Counts\"]*100).round(1).astype(str) + '%'\n",
    "    teams = teams.sort_values(\"Ratio\",ascending=False)\n",
    "\n",
    "\n",
    "    return teams[0:x]"
   ]
  },
  {
   "cell_type": "code",
   "execution_count": 345,
   "id": "bc0ab934-5132-4129-bd70-8cc063a44cba",
   "metadata": {
    "collapsed": true,
    "jupyter": {
     "outputs_hidden": true
    },
    "tags": []
   },
   "outputs": [
    {
     "data": {
      "text/html": [
       "<div>\n",
       "<style scoped>\n",
       "    .dataframe tbody tr th:only-of-type {\n",
       "        vertical-align: middle;\n",
       "    }\n",
       "\n",
       "    .dataframe tbody tr th {\n",
       "        vertical-align: top;\n",
       "    }\n",
       "\n",
       "    .dataframe thead th {\n",
       "        text-align: right;\n",
       "    }\n",
       "</style>\n",
       "<table border=\"1\" class=\"dataframe\">\n",
       "  <thead>\n",
       "    <tr style=\"text-align: right;\">\n",
       "      <th></th>\n",
       "      <th>Team</th>\n",
       "      <th>Participation_Counts</th>\n",
       "      <th>Win_Counts</th>\n",
       "      <th>Ratio</th>\n",
       "    </tr>\n",
       "  </thead>\n",
       "  <tbody>\n",
       "    <tr>\n",
       "      <th>6</th>\n",
       "      <td>EDG</td>\n",
       "      <td>906</td>\n",
       "      <td>593.0</td>\n",
       "      <td>65.5%</td>\n",
       "    </tr>\n",
       "    <tr>\n",
       "      <th>36</th>\n",
       "      <td>TES</td>\n",
       "      <td>411</td>\n",
       "      <td>262.0</td>\n",
       "      <td>63.7%</td>\n",
       "    </tr>\n",
       "    <tr>\n",
       "      <th>29</th>\n",
       "      <td>RNG</td>\n",
       "      <td>784</td>\n",
       "      <td>479.0</td>\n",
       "      <td>61.1%</td>\n",
       "    </tr>\n",
       "    <tr>\n",
       "      <th>13</th>\n",
       "      <td>JDG</td>\n",
       "      <td>580</td>\n",
       "      <td>351.0</td>\n",
       "      <td>60.5%</td>\n",
       "    </tr>\n",
       "    <tr>\n",
       "      <th>41</th>\n",
       "      <td>WBG</td>\n",
       "      <td>147</td>\n",
       "      <td>85.0</td>\n",
       "      <td>57.8%</td>\n",
       "    </tr>\n",
       "    <tr>\n",
       "      <th>9</th>\n",
       "      <td>FPX</td>\n",
       "      <td>526</td>\n",
       "      <td>299.0</td>\n",
       "      <td>56.8%</td>\n",
       "    </tr>\n",
       "    <tr>\n",
       "      <th>49</th>\n",
       "      <td>iG</td>\n",
       "      <td>903</td>\n",
       "      <td>494.0</td>\n",
       "      <td>54.7%</td>\n",
       "    </tr>\n",
       "    <tr>\n",
       "      <th>34</th>\n",
       "      <td>SN</td>\n",
       "      <td>400</td>\n",
       "      <td>210.0</td>\n",
       "      <td>52.5%</td>\n",
       "    </tr>\n",
       "    <tr>\n",
       "      <th>3</th>\n",
       "      <td>BLG</td>\n",
       "      <td>524</td>\n",
       "      <td>270.0</td>\n",
       "      <td>51.5%</td>\n",
       "    </tr>\n",
       "    <tr>\n",
       "      <th>42</th>\n",
       "      <td>WE</td>\n",
       "      <td>922</td>\n",
       "      <td>473.0</td>\n",
       "      <td>51.3%</td>\n",
       "    </tr>\n",
       "  </tbody>\n",
       "</table>\n",
       "</div>"
      ],
      "text/plain": [
       "   Team  Participation_Counts  Win_Counts  Ratio\n",
       "6   EDG                   906       593.0  65.5%\n",
       "36  TES                   411       262.0  63.7%\n",
       "29  RNG                   784       479.0  61.1%\n",
       "13  JDG                   580       351.0  60.5%\n",
       "41  WBG                   147        85.0  57.8%\n",
       "9   FPX                   526       299.0  56.8%\n",
       "49   iG                   903       494.0  54.7%\n",
       "34   SN                   400       210.0  52.5%\n",
       "3   BLG                   524       270.0  51.5%\n",
       "42   WE                   922       473.0  51.3%"
      ]
     },
     "execution_count": 345,
     "metadata": {},
     "output_type": "execute_result"
    }
   ],
   "source": [
    "get_top_x_teams_league(\"LPL\",10,100)"
   ]
  },
  {
   "cell_type": "code",
   "execution_count": 346,
   "id": "b8d9a51f-06b9-4dba-8bd4-ee9bcbafba03",
   "metadata": {
    "tags": []
   },
   "outputs": [],
   "source": [
    "def get_top_x_teams_global(x, y=100):\n",
    "    \n",
    "    df_Scoreboard_TL = df_Scoreboard\n",
    "\n",
    "\n",
    "    teams_wins = df_Scoreboard_TL.groupby([\"Team_Win\"])[\"Team_Win\"].count()\n",
    "    teams_wins.name=\"Win_Counts\"\n",
    "    df_teams_wins = pd.DataFrame(teams_wins).reset_index()\n",
    "    df_teams_wins.rename(columns={\"Team_Win\":\"Team\"},inplace=True)\n",
    "\n",
    "\n",
    "    teams_T1 =  df_Scoreboard_TL.groupby([\"Team_T1\"])[\"Team_T1\"].count()\n",
    "    teams_T2 = df_Scoreboard_TL.groupby([\"Team_T2\"])[\"Team_T2\"].count()\n",
    "    df_teams_part = pd.DataFrame(pd.concat([teams_T1,teams_T2],axis=1))\n",
    "    df_teams_part[\"Participation_Counts\"]=df_teams_part[\"Team_T1\"] + df_teams_part[\"Team_T2\"] \n",
    "    df_teams_part = df_teams_part.drop(columns=[\"Team_T1\",\"Team_T2\"]).reset_index()\n",
    "    df_teams_part.rename(columns={df_teams_part.columns[0]:\"Team\"},inplace=True)\n",
    "\n",
    "\n",
    "    teams = df_teams_part.merge(df_teams_wins, on = \"Team\", how = \"left\")\n",
    "    teams = teams[teams[\"Participation_Counts\"]>y] #count only teams who have played more than 100 matches\n",
    "    teams[\"Ratio\"] = (teams[\"Win_Counts\"]/teams[\"Participation_Counts\"]*100).round(1).astype(str) + '%'\n",
    "    teams = teams.sort_values(\"Ratio\",ascending=False)\n",
    "\n",
    "\n",
    "    return teams[0:x]"
   ]
  },
  {
   "cell_type": "code",
   "execution_count": 347,
   "id": "66ff2aa6-82dd-4b94-8bda-3328dfdc1e82",
   "metadata": {
    "tags": []
   },
   "outputs": [
    {
     "data": {
      "text/html": [
       "<div>\n",
       "<style scoped>\n",
       "    .dataframe tbody tr th:only-of-type {\n",
       "        vertical-align: middle;\n",
       "    }\n",
       "\n",
       "    .dataframe tbody tr th {\n",
       "        vertical-align: top;\n",
       "    }\n",
       "\n",
       "    .dataframe thead th {\n",
       "        text-align: right;\n",
       "    }\n",
       "</style>\n",
       "<table border=\"1\" class=\"dataframe\">\n",
       "  <thead>\n",
       "    <tr style=\"text-align: right;\">\n",
       "      <th></th>\n",
       "      <th>Team</th>\n",
       "      <th>Participation_Counts</th>\n",
       "      <th>Win_Counts</th>\n",
       "      <th>Ratio</th>\n",
       "    </tr>\n",
       "  </thead>\n",
       "  <tbody>\n",
       "    <tr>\n",
       "      <th>402</th>\n",
       "      <td>T1</td>\n",
       "      <td>907.0</td>\n",
       "      <td>601.0</td>\n",
       "      <td>66.3%</td>\n",
       "    </tr>\n",
       "    <tr>\n",
       "      <th>171</th>\n",
       "      <td>G2</td>\n",
       "      <td>581.0</td>\n",
       "      <td>385.0</td>\n",
       "      <td>66.3%</td>\n",
       "    </tr>\n",
       "    <tr>\n",
       "      <th>110</th>\n",
       "      <td>DK</td>\n",
       "      <td>518.0</td>\n",
       "      <td>343.0</td>\n",
       "      <td>66.2%</td>\n",
       "    </tr>\n",
       "    <tr>\n",
       "      <th>127</th>\n",
       "      <td>EDG</td>\n",
       "      <td>1016.0</td>\n",
       "      <td>656.0</td>\n",
       "      <td>64.6%</td>\n",
       "    </tr>\n",
       "    <tr>\n",
       "      <th>63</th>\n",
       "      <td>C9</td>\n",
       "      <td>809.0</td>\n",
       "      <td>520.0</td>\n",
       "      <td>64.3%</td>\n",
       "    </tr>\n",
       "    <tr>\n",
       "      <th>487</th>\n",
       "      <td>ahq</td>\n",
       "      <td>536.0</td>\n",
       "      <td>337.0</td>\n",
       "      <td>62.9%</td>\n",
       "    </tr>\n",
       "    <tr>\n",
       "      <th>179</th>\n",
       "      <td>GEN</td>\n",
       "      <td>562.0</td>\n",
       "      <td>353.0</td>\n",
       "      <td>62.8%</td>\n",
       "    </tr>\n",
       "    <tr>\n",
       "      <th>159</th>\n",
       "      <td>FNC</td>\n",
       "      <td>809.0</td>\n",
       "      <td>495.0</td>\n",
       "      <td>61.2%</td>\n",
       "    </tr>\n",
       "    <tr>\n",
       "      <th>352</th>\n",
       "      <td>RNG</td>\n",
       "      <td>871.0</td>\n",
       "      <td>530.0</td>\n",
       "      <td>60.8%</td>\n",
       "    </tr>\n",
       "    <tr>\n",
       "      <th>228</th>\n",
       "      <td>JDG</td>\n",
       "      <td>614.0</td>\n",
       "      <td>370.0</td>\n",
       "      <td>60.3%</td>\n",
       "    </tr>\n",
       "  </tbody>\n",
       "</table>\n",
       "</div>"
      ],
      "text/plain": [
       "    Team  Participation_Counts  Win_Counts  Ratio\n",
       "402   T1                 907.0       601.0  66.3%\n",
       "171   G2                 581.0       385.0  66.3%\n",
       "110   DK                 518.0       343.0  66.2%\n",
       "127  EDG                1016.0       656.0  64.6%\n",
       "63    C9                 809.0       520.0  64.3%\n",
       "487  ahq                 536.0       337.0  62.9%\n",
       "179  GEN                 562.0       353.0  62.8%\n",
       "159  FNC                 809.0       495.0  61.2%\n",
       "352  RNG                 871.0       530.0  60.8%\n",
       "228  JDG                 614.0       370.0  60.3%"
      ]
     },
     "execution_count": 347,
     "metadata": {},
     "output_type": "execute_result"
    }
   ],
   "source": [
    "get_top_x_teams_global(10,500)"
   ]
  },
  {
   "cell_type": "markdown",
   "id": "0aa56d0e-88f5-409a-a686-6dc38001c88e",
   "metadata": {},
   "source": [
    "#"
   ]
  },
  {
   "cell_type": "markdown",
   "id": "87f694fa-0f3c-41b8-b7a0-f54d81ad955a",
   "metadata": {
    "tags": []
   },
   "source": [
    "# Model with Factor Rating: Find relationship between\n",
    "- KDA (.Team1Kills,.Team2Kills)\n",
    "- Barons/Dragons (.Team1Dragons, .Team2Dragons, .Team1Barons , .Team2Barons )\n",
    "- RiftHeralds: .Team1RiftHeralds .Team2RiftHeralds \n",
    "-  Inhibitors: .Team1Inhibitors  .Team2Inhibitors \n",
    "- Gold Lead: .Team1Gold .Team2Gold \n",
    "- Towers: .Team1Towers .Team2Towers "
   ]
  },
  {
   "cell_type": "code",
   "execution_count": 263,
   "id": "69b77c91-62f8-4925-8837-74cff3de4525",
   "metadata": {
    "tags": []
   },
   "outputs": [],
   "source": [
    "df_Scoreboard.replace('  ', np.nan, inplace=True)\n",
    "df_Scoreboard_factors = df_Scoreboard.dropna()"
   ]
  },
  {
   "cell_type": "markdown",
   "id": "004cc01a-6efb-4e10-b3a7-b22438b657cc",
   "metadata": {},
   "source": [
    "## Blue/Red Side"
   ]
  },
  {
   "cell_type": "code",
   "execution_count": 264,
   "id": "14058e05-bcf1-4256-951c-06c5de876642",
   "metadata": {
    "tags": []
   },
   "outputs": [
    {
     "data": {
      "text/plain": [
       "Blue/Red\n",
       "Blue      17317.000000\n",
       "Red       14826.000000\n",
       "blue %       53.874872\n",
       "red %        46.047947\n",
       "Name: Blue/Red, dtype: float64"
      ]
     },
     "execution_count": 264,
     "metadata": {},
     "output_type": "execute_result"
    }
   ],
   "source": [
    "\"\"\"\n",
    "    Find out if blue or red side wins more\n",
    "    Blue side has a slightly higher win rate (considering a 50% change getting blue or red)\n",
    "\"\"\"\n",
    "\n",
    "df_Scoreboard_factors_BR = df_Scoreboard_factors.groupby([\"Blue/Red\"])[\"Blue/Red\"].count()\n",
    "\n",
    "df_Scoreboard_factors_BR[\"blue %\"] = 100*df_Scoreboard_factors_BR.iloc[0]/df_Scoreboard_factors_BR.sum()\n",
    "df_Scoreboard_factors_BR[\"red %\"] = 100*df_Scoreboard_factors_BR.iloc[1]/df_Scoreboard_factors_BR.sum()\n",
    "df_Scoreboard_factors_BR"
   ]
  },
  {
   "cell_type": "markdown",
   "id": "67f0417b-30a1-4743-bd9d-8b56d4ba0324",
   "metadata": {},
   "source": [
    "## Gold Lead, Kills ,Barons, Dragons, RiftHeralds, Towers, Inhibitors"
   ]
  },
  {
   "cell_type": "code",
   "execution_count": 267,
   "id": "f113ffa7-169c-44ef-b8e0-008b44706f15",
   "metadata": {
    "tags": []
   },
   "outputs": [
    {
     "ename": "TypeError",
     "evalue": "unsupported operand type(s) for -: 'str' and 'str'",
     "output_type": "error",
     "traceback": [
      "\u001b[1;31m---------------------------------------------------------------------------\u001b[0m",
      "\u001b[1;31mTypeError\u001b[0m                                 Traceback (most recent call last)",
      "Cell \u001b[1;32mIn[267], line 16\u001b[0m\n\u001b[0;32m     14\u001b[0m             df_Scoreboard_factors\u001b[38;5;241m.\u001b[39mloc[lab,\u001b[38;5;124m\"\u001b[39m\u001b[38;5;124mWin_GoldLead\u001b[39m\u001b[38;5;124m\"\u001b[39m] \u001b[38;5;241m=\u001b[39m df_Scoreboard_factors\u001b[38;5;241m.\u001b[39mloc[lab,\u001b[38;5;124m\"\u001b[39m\u001b[38;5;124mTeam1Gold\u001b[39m\u001b[38;5;124m\"\u001b[39m] \u001b[38;5;241m-\u001b[39m df_Scoreboard_factors\u001b[38;5;241m.\u001b[39mloc[lab,\u001b[38;5;124m\"\u001b[39m\u001b[38;5;124mTeam2Gold\u001b[39m\u001b[38;5;124m\"\u001b[39m] \n\u001b[0;32m     15\u001b[0m         \u001b[38;5;28;01melse\u001b[39;00m:\n\u001b[1;32m---> 16\u001b[0m             df_Scoreboard_factors\u001b[38;5;241m.\u001b[39mloc[lab,\u001b[38;5;124m\"\u001b[39m\u001b[38;5;124mWin_GoldLead\u001b[39m\u001b[38;5;124m\"\u001b[39m] \u001b[38;5;241m=\u001b[39m \u001b[43mdf_Scoreboard_factors\u001b[49m\u001b[38;5;241;43m.\u001b[39;49m\u001b[43mloc\u001b[49m\u001b[43m[\u001b[49m\u001b[43mlab\u001b[49m\u001b[43m,\u001b[49m\u001b[38;5;124;43m\"\u001b[39;49m\u001b[38;5;124;43mTeam2Gold\u001b[39;49m\u001b[38;5;124;43m\"\u001b[39;49m\u001b[43m]\u001b[49m\u001b[43m \u001b[49m\u001b[38;5;241;43m-\u001b[39;49m\u001b[43m \u001b[49m\u001b[43mdf_Scoreboard_factors\u001b[49m\u001b[38;5;241;43m.\u001b[39;49m\u001b[43mloc\u001b[49m\u001b[43m[\u001b[49m\u001b[43mlab\u001b[49m\u001b[43m,\u001b[49m\u001b[38;5;124;43m\"\u001b[39;49m\u001b[38;5;124;43mTeam1Gold\u001b[39;49m\u001b[38;5;124;43m\"\u001b[39;49m\u001b[43m]\u001b[49m \n\u001b[0;32m     17\u001b[0m \u001b[38;5;28;01melse\u001b[39;00m:\n\u001b[0;32m     18\u001b[0m     \u001b[38;5;28;01mfor\u001b[39;00m lab, row \u001b[38;5;129;01min\u001b[39;00m df_Scoreboard_factors\u001b[38;5;241m.\u001b[39miterrows():\n",
      "\u001b[1;31mTypeError\u001b[0m: unsupported operand type(s) for -: 'str' and 'str'"
     ]
    }
   ],
   "source": [
    "\"\"\"\n",
    "    Create a function that would add columns for each factor for winning and losing team\n",
    "    Next step is summary stats for each factor to select which ones are significant\n",
    "\"\"\"\n",
    "\n",
    "df_Scoreboard_factors = df_Scoreboard_factors.astype({'Team1Gold':'int','Team2Gold':'int',})\n",
    "\n",
    "factors = {\"Gold\",\"Kills\",\"Barons\",\"Dragons\",\"RiftHeralds\",\"Towers\",\"Inhibitors\"}\n",
    "\n",
    "for i in factors:\n",
    "    if i == \"Gold\":\n",
    "        for lab, row in df_Scoreboard_factors.iterrows():\n",
    "            if row[\"Team1\"] == row[\"WinTeam\"]:\n",
    "                df_Scoreboard_factors.loc[lab,\"Win_GoldLead\"] = df_Scoreboard_factors.loc[lab,\"Team1Gold\"] - df_Scoreboard_factors.loc[lab,\"Team2Gold\"] \n",
    "            else:\n",
    "                df_Scoreboard_factors.loc[lab,\"Win_GoldLead\"] = df_Scoreboard_factors.loc[lab,\"Team2Gold\"] - df_Scoreboard_factors.loc[lab,\"Team1Gold\"] \n",
    "    else:\n",
    "        for lab, row in df_Scoreboard_factors.iterrows():\n",
    "            if row[\"Team1\"] == row[\"WinTeam\"]:\n",
    "                df_Scoreboard_factors.loc[lab,\"Win_\"+i] = df_Scoreboard_factors.loc[lab,\"Team1\"+i] \n",
    "                df_Scoreboard_factors.loc[lab,\"Lose_\"+i] = df_Scoreboard_factors.loc[lab,\"Team2\"+i] \n",
    "            else:\n",
    "                df_Scoreboard_factors.loc[lab,\"Win_\"+i] = df_Scoreboard_factors.loc[lab,\"Team2\"+i] \n",
    "                df_Scoreboard_factors.loc[lab,\"Lose_\"+i] = df_Scoreboard_factors.loc[lab,\"Team1\"+i] \n",
    "                \n",
    "df_Scoreboard_factors = df_Scoreboard_factors.astype({'Win_Kills':'int','Win_Barons':'int','Win_Dragons':'int','Win_Towers':'int'})"
   ]
  },
  {
   "cell_type": "markdown",
   "id": "d5ffa781-07e2-4b29-ba9b-12f8e4e2d118",
   "metadata": {
    "tags": []
   },
   "source": [
    "## Get summary statistics to form model"
   ]
  },
  {
   "cell_type": "code",
   "execution_count": 269,
   "id": "ec6ab92b-c9fa-4c29-b238-c78f1c819482",
   "metadata": {
    "tags": []
   },
   "outputs": [
    {
     "data": {
      "text/html": [
       "<div>\n",
       "<style scoped>\n",
       "    .dataframe tbody tr th:only-of-type {\n",
       "        vertical-align: middle;\n",
       "    }\n",
       "\n",
       "    .dataframe tbody tr th {\n",
       "        vertical-align: top;\n",
       "    }\n",
       "\n",
       "    .dataframe thead th {\n",
       "        text-align: right;\n",
       "    }\n",
       "</style>\n",
       "<table border=\"1\" class=\"dataframe\">\n",
       "  <thead>\n",
       "    <tr style=\"text-align: right;\">\n",
       "      <th></th>\n",
       "      <th>Win_Kills</th>\n",
       "      <th>Lose_Kills</th>\n",
       "      <th>Win_GoldLead</th>\n",
       "      <th>Win_Barons</th>\n",
       "      <th>Lose_Barons</th>\n",
       "      <th>Win_Dragons</th>\n",
       "      <th>Lose_Dragons</th>\n",
       "      <th>Win_RiftHeralds</th>\n",
       "      <th>Lose_RiftHeralds</th>\n",
       "      <th>Win_Towers</th>\n",
       "      <th>Win_Inhibitors</th>\n",
       "      <th>Lose_Inhibitors</th>\n",
       "    </tr>\n",
       "  </thead>\n",
       "  <tbody>\n",
       "    <tr>\n",
       "      <th>count</th>\n",
       "      <td>13941</td>\n",
       "      <td>13941</td>\n",
       "      <td>13941</td>\n",
       "      <td>13941</td>\n",
       "      <td>13941</td>\n",
       "      <td>13941</td>\n",
       "      <td>13941</td>\n",
       "      <td>13941</td>\n",
       "      <td>13941</td>\n",
       "      <td>13941</td>\n",
       "      <td>13941</td>\n",
       "      <td>13941</td>\n",
       "    </tr>\n",
       "    <tr>\n",
       "      <th>mean</th>\n",
       "      <td>17</td>\n",
       "      <td>8</td>\n",
       "      <td>10351</td>\n",
       "      <td>1</td>\n",
       "      <td>0</td>\n",
       "      <td>2</td>\n",
       "      <td>1</td>\n",
       "      <td>0</td>\n",
       "      <td>0</td>\n",
       "      <td>9</td>\n",
       "      <td>1</td>\n",
       "      <td>0</td>\n",
       "    </tr>\n",
       "    <tr>\n",
       "      <th>std</th>\n",
       "      <td>5</td>\n",
       "      <td>5</td>\n",
       "      <td>4388</td>\n",
       "      <td>0</td>\n",
       "      <td>0</td>\n",
       "      <td>1</td>\n",
       "      <td>1</td>\n",
       "      <td>0</td>\n",
       "      <td>0</td>\n",
       "      <td>1</td>\n",
       "      <td>1</td>\n",
       "      <td>0</td>\n",
       "    </tr>\n",
       "    <tr>\n",
       "      <th>min</th>\n",
       "      <td>1</td>\n",
       "      <td>0</td>\n",
       "      <td>-12124</td>\n",
       "      <td>0</td>\n",
       "      <td>0</td>\n",
       "      <td>0</td>\n",
       "      <td>0</td>\n",
       "      <td>0</td>\n",
       "      <td>0</td>\n",
       "      <td>0</td>\n",
       "      <td>0</td>\n",
       "      <td>0</td>\n",
       "    </tr>\n",
       "    <tr>\n",
       "      <th>25%</th>\n",
       "      <td>13</td>\n",
       "      <td>4</td>\n",
       "      <td>7700</td>\n",
       "      <td>1</td>\n",
       "      <td>0</td>\n",
       "      <td>2</td>\n",
       "      <td>0</td>\n",
       "      <td>0</td>\n",
       "      <td>0</td>\n",
       "      <td>8</td>\n",
       "      <td>1</td>\n",
       "      <td>0</td>\n",
       "    </tr>\n",
       "    <tr>\n",
       "      <th>50%</th>\n",
       "      <td>17</td>\n",
       "      <td>7</td>\n",
       "      <td>10686</td>\n",
       "      <td>1</td>\n",
       "      <td>0</td>\n",
       "      <td>3</td>\n",
       "      <td>1</td>\n",
       "      <td>1</td>\n",
       "      <td>0</td>\n",
       "      <td>9</td>\n",
       "      <td>2</td>\n",
       "      <td>0</td>\n",
       "    </tr>\n",
       "    <tr>\n",
       "      <th>75%</th>\n",
       "      <td>20</td>\n",
       "      <td>11</td>\n",
       "      <td>13414</td>\n",
       "      <td>1</td>\n",
       "      <td>0</td>\n",
       "      <td>4</td>\n",
       "      <td>2</td>\n",
       "      <td>1</td>\n",
       "      <td>1</td>\n",
       "      <td>11</td>\n",
       "      <td>2</td>\n",
       "      <td>0</td>\n",
       "    </tr>\n",
       "    <tr>\n",
       "      <th>max</th>\n",
       "      <td>56</td>\n",
       "      <td>48</td>\n",
       "      <td>34489</td>\n",
       "      <td>5</td>\n",
       "      <td>6</td>\n",
       "      <td>8</td>\n",
       "      <td>7</td>\n",
       "      <td>2</td>\n",
       "      <td>2</td>\n",
       "      <td>11</td>\n",
       "      <td>16</td>\n",
       "      <td>13</td>\n",
       "    </tr>\n",
       "  </tbody>\n",
       "</table>\n",
       "</div>"
      ],
      "text/plain": [
       "       Win_Kills  Lose_Kills  Win_GoldLead  Win_Barons  Lose_Barons  \\\n",
       "count      13941       13941         13941       13941        13941   \n",
       "mean          17           8         10351           1            0   \n",
       "std            5           5          4388           0            0   \n",
       "min            1           0        -12124           0            0   \n",
       "25%           13           4          7700           1            0   \n",
       "50%           17           7         10686           1            0   \n",
       "75%           20          11         13414           1            0   \n",
       "max           56          48         34489           5            6   \n",
       "\n",
       "       Win_Dragons  Lose_Dragons  Win_RiftHeralds  Lose_RiftHeralds  \\\n",
       "count        13941         13941            13941             13941   \n",
       "mean             2             1                0                 0   \n",
       "std              1             1                0                 0   \n",
       "min              0             0                0                 0   \n",
       "25%              2             0                0                 0   \n",
       "50%              3             1                1                 0   \n",
       "75%              4             2                1                 1   \n",
       "max              8             7                2                 2   \n",
       "\n",
       "       Win_Towers  Win_Inhibitors  Lose_Inhibitors  \n",
       "count       13941           13941            13941  \n",
       "mean            9               1                0  \n",
       "std             1               1                0  \n",
       "min             0               0                0  \n",
       "25%             8               1                0  \n",
       "50%             9               2                0  \n",
       "75%            11               2                0  \n",
       "max            11              16               13  "
      ]
     },
     "execution_count": 269,
     "metadata": {},
     "output_type": "execute_result"
    }
   ],
   "source": [
    "\"\"\"\n",
    "    Summary Stats\n",
    "\"\"\"\n",
    "df_Scoreboard_factors_SS = df_Scoreboard_factors[[\"Win_Kills\",\"Lose_Kills\",\"Win_GoldLead\",\"Win_Barons\",\"Lose_Barons\",\"Win_Dragons\",\"Lose_Dragons\", \n",
    "                      \"Win_RiftHeralds\",\"Lose_RiftHeralds\",\"Win_Towers\",\"Win_Inhibitors\",\"Lose_Inhibitors\"]].describe(include=\"all\")\n",
    "df_Scoreboard_factors_SS.astype(int)\n",
    "\n",
    "#if kills = 11-17: 1pt\n",
    "#if kills = 17-20: 2pts\n",
    "#if kills > 20: 3pts\n",
    "\n",
    "#if gold lead = 7701 ~ 10686: 1pts\n",
    "#if gold lead = 10687 ~ 13414: 2pts\n",
    "#if gold lead > 13414: 3pts\n",
    "\n",
    "#seems like barons don't make much of a difference\n",
    "#seems like rift heralds don't make much of a difference\n",
    "#seems like inhibitors don't make much of a difference \n",
    "\n",
    "#if dragons = 2 - 3: 1pt\n",
    "#if dragons = 4 : 2pts\n",
    "#if dragons > 4 : 3pts\n",
    "\n",
    "#not a huge differentiation but can see more more towers = more wins\n",
    "#if towers = 8 - 9: 1pt\n",
    "#if towers = 10 - 11: 2pts"
   ]
  },
  {
   "cell_type": "code",
   "execution_count": 270,
   "id": "570088e7-6dd3-4793-85d0-083daed9acb3",
   "metadata": {},
   "outputs": [],
   "source": [
    "\"\"\"\n",
    "    Create function for TeamPoints model using factors selected\n",
    "    Apply to each team\n",
    "\"\"\"\n",
    "\n",
    "def Win_Points(team):\n",
    "\n",
    "    team_points = 0\n",
    "    \n",
    "    for lab, row in df_Scoreboard_factors.iterrows():\n",
    "        if  df_Scoreboard_factors.loc[lab,\"Team_Win\"] == team:\n",
    "            \n",
    "            #Blue/Red Side\n",
    "            if df_Scoreboard_factors.loc[lab,\"Blue/Red\"] == \"Blue\":\n",
    "                team_points +=1\n",
    "            \n",
    "            #Kills\n",
    "            if df_Scoreboard_factors.loc[lab,\"Win_Kills\"] >= 11 and df_Scoreboard_factors.loc[lab,\"Win_Kills\"] < 17:\n",
    "                team_points +=1\n",
    "            elif df_Scoreboard_factors.loc[lab,\"Win_Kills\"] >= 17 and df_Scoreboard_factors.loc[lab,\"Win_Kills\"] <= 20:\n",
    "                team_points +=2\n",
    "            elif df_Scoreboard_factors.loc[lab,\"Win_Kills\"] >20:\n",
    "                team_points +=3\n",
    "                \n",
    "            #Gold Lead\n",
    "            if df_Scoreboard_factors.loc[lab,\"Win_GoldLead\"] >= 7701  and df_Scoreboard_factors.loc[lab,\"Win_GoldLead\"] < 10686:\n",
    "                team_points +=1\n",
    "            elif df_Scoreboard_factors.loc[lab,\"Win_GoldLead\"] >= 10687 and df_Scoreboard_factors.loc[lab,\"Win_GoldLead\"] <= 13414:\n",
    "                team_points +=2\n",
    "            elif df_Scoreboard_factors.loc[lab,\"Win_GoldLead\"] >13414:\n",
    "                team_points +=3\n",
    "                \n",
    "            #Dragons\n",
    "            if df_Scoreboard_factors.loc[lab,\"Win_Dragons\"] >= 2  and df_Scoreboard_factors.loc[lab,\"Win_Dragons\"] <= 3:\n",
    "                team_points +=1\n",
    "            elif df_Scoreboard_factors.loc[lab,\"Win_Dragons\"] == 4:\n",
    "                team_points +=2\n",
    "            elif df_Scoreboard_factors.loc[lab,\"Win_Dragons\"] > 4:\n",
    "                team_points +=3  \n",
    "            \n",
    "            #Towers\n",
    "            if df_Scoreboard_factors.loc[lab,\"Win_Towers\"] >= 8  and df_Scoreboard_factors.loc[lab,\"Win_Towers\"] <= 9:\n",
    "                team_points +=1\n",
    "            elif df_Scoreboard_factors.loc[lab,\"Win_Towers\"] >= 10:\n",
    "                team_points +=2\n",
    "\n",
    "                \n",
    "    #get total points            \n",
    "    return team_points "
   ]
  },
  {
   "cell_type": "code",
   "execution_count": 299,
   "id": "026e4e21-ae5f-4c7c-aedd-bde5244c4da1",
   "metadata": {
    "tags": []
   },
   "outputs": [],
   "source": [
    "\"\"\"\n",
    "    Create dictionary to match Teams with their TeamPoints\n",
    "\"\"\"\n",
    "top_leagues = [\"T1\",\"DK\",\"KZ\",\"GEN\",\"EDG\",\"TES\",\"RNG\",\"JDG\",\"G2\",\"MAD\",\"FNC\"]\n",
    "dict_team_points = {\"Team_abbr\":top_leagues , \"Points\": []}\n",
    "\n",
    "for league in top_leagues:\n",
    "    w = Win_Points(league)\n",
    "    dict_team_points[\"Points\"].append(w)"
   ]
  },
  {
   "cell_type": "code",
   "execution_count": 325,
   "id": "5647121f-a189-45dc-9b92-442628e972fa",
   "metadata": {
    "tags": []
   },
   "outputs": [
    {
     "data": {
      "text/plain": [
       "<matplotlib.legend.Legend at 0x23a2fe21880>"
      ]
     },
     "execution_count": 325,
     "metadata": {},
     "output_type": "execute_result"
    },
    {
     "data": {
      "image/png": "[encoded data removed]",
      "text/plain": [
       "<Figure size 640x480 with 1 Axes>"
      ]
     },
     "metadata": {},
     "output_type": "display_data"
    }
   ],
   "source": [
    "\"\"\"\n",
    "    Graph - Plot Team Points for the Top Leagues (4KR,4CN,3EMEA)\n",
    "\"\"\"\n",
    "df_top_league_team_points = pd.DataFrame(dict_top_leagues_team_points).sort_values(\"Points\",ascending=False)\n",
    "df_top_league_team_points = df_top_league_team_points.merge(df_TeamRegion_code, on = \"Team_abbr\", how = \"left\")\n",
    "df_top_league_team_points = df_top_league_team_points.drop_duplicates(subset=\"Team_abbr\")\n",
    "\n",
    "#MAD is code for many teams - but this team is MAD Lions\n",
    "df_top_league_team_points.at[13,\"Team\"] = \"MAD Lions\"\n",
    "df_top_league_team_points.at[13,\"Region_code\"] = \"EMEA\"\n",
    "\n",
    "sns.barplot(x=\"Team_abbr\" ,y= \"Points\", data = df_top_league_team_points, hue = \"Region_code\", \n",
    "            palette = region_colours, dodge = False).set_title(\"Top Leagues by Team Points\")\n",
    "plt.legend(bbox_to_anchor=(1.02, 1), loc='upper left', borderaxespad=0)"
   ]
  },
  {
   "cell_type": "code",
   "execution_count": 300,
   "id": "4469410f-fd30-4334-a1c1-a9bceacc0c38",
   "metadata": {
    "collapsed": true,
    "jupyter": {
     "outputs_hidden": true
    },
    "tags": []
   },
   "outputs": [
    {
     "ename": "KeyboardInterrupt",
     "evalue": "",
     "output_type": "error",
     "traceback": [
      "\u001b[1;31m---------------------------------------------------------------------------\u001b[0m",
      "\u001b[1;31mKeyboardInterrupt\u001b[0m                         Traceback (most recent call last)",
      "Cell \u001b[1;32mIn[300], line 8\u001b[0m\n\u001b[0;32m      5\u001b[0m df_all_team_points \u001b[38;5;241m=\u001b[39m {\u001b[38;5;124m\"\u001b[39m\u001b[38;5;124mTeam\u001b[39m\u001b[38;5;124m\"\u001b[39m:all_leagues , \u001b[38;5;124m\"\u001b[39m\u001b[38;5;124mPoints\u001b[39m\u001b[38;5;124m\"\u001b[39m: []}\n\u001b[0;32m      7\u001b[0m \u001b[38;5;28;01mfor\u001b[39;00m league \u001b[38;5;129;01min\u001b[39;00m all_leagues:\n\u001b[1;32m----> 8\u001b[0m     w \u001b[38;5;241m=\u001b[39m \u001b[43mWin_Points\u001b[49m\u001b[43m(\u001b[49m\u001b[43mleague\u001b[49m\u001b[43m)\u001b[49m\n\u001b[0;32m      9\u001b[0m     dict_team_points[\u001b[38;5;124m\"\u001b[39m\u001b[38;5;124mPoints\u001b[39m\u001b[38;5;124m\"\u001b[39m]\u001b[38;5;241m.\u001b[39mappend(w)\n\u001b[0;32m     11\u001b[0m df_all_team_points \u001b[38;5;241m=\u001b[39m pd\u001b[38;5;241m.\u001b[39mDataFrame(dict_team_points)\u001b[38;5;241m.\u001b[39msort_values(\u001b[38;5;124m\"\u001b[39m\u001b[38;5;124mPoints\u001b[39m\u001b[38;5;124m\"\u001b[39m,ascending\u001b[38;5;241m=\u001b[39m\u001b[38;5;28;01mFalse\u001b[39;00m)\n",
      "Cell \u001b[1;32mIn[270], line 10\u001b[0m, in \u001b[0;36mWin_Points\u001b[1;34m(team)\u001b[0m\n\u001b[0;32m      6\u001b[0m \u001b[38;5;28;01mdef\u001b[39;00m \u001b[38;5;21mWin_Points\u001b[39m(team):\n\u001b[0;32m      8\u001b[0m     team_points \u001b[38;5;241m=\u001b[39m \u001b[38;5;241m0\u001b[39m\n\u001b[1;32m---> 10\u001b[0m     \u001b[38;5;28;01mfor\u001b[39;00m lab, row \u001b[38;5;129;01min\u001b[39;00m df_Scoreboard_factors\u001b[38;5;241m.\u001b[39miterrows():\n\u001b[0;32m     11\u001b[0m         \u001b[38;5;28;01mif\u001b[39;00m  df_Scoreboard_factors\u001b[38;5;241m.\u001b[39mloc[lab,\u001b[38;5;124m\"\u001b[39m\u001b[38;5;124mTeam_Win\u001b[39m\u001b[38;5;124m\"\u001b[39m] \u001b[38;5;241m==\u001b[39m team:\n\u001b[0;32m     12\u001b[0m             \n\u001b[0;32m     13\u001b[0m             \u001b[38;5;66;03m#Blue/Red Side\u001b[39;00m\n\u001b[0;32m     14\u001b[0m             \u001b[38;5;28;01mif\u001b[39;00m df_Scoreboard_factors\u001b[38;5;241m.\u001b[39mloc[lab,\u001b[38;5;124m\"\u001b[39m\u001b[38;5;124mBlue/Red\u001b[39m\u001b[38;5;124m\"\u001b[39m] \u001b[38;5;241m==\u001b[39m \u001b[38;5;124m\"\u001b[39m\u001b[38;5;124mBlue\u001b[39m\u001b[38;5;124m\"\u001b[39m:\n",
      "File \u001b[1;32m~\\AppData\\Roaming\\jupyterlab-desktop\\jlab_server\\lib\\site-packages\\pandas\\core\\frame.py:1411\u001b[0m, in \u001b[0;36mDataFrame.iterrows\u001b[1;34m(self)\u001b[0m\n\u001b[0;32m   1409\u001b[0m klass \u001b[38;5;241m=\u001b[39m \u001b[38;5;28mself\u001b[39m\u001b[38;5;241m.\u001b[39m_constructor_sliced\n\u001b[0;32m   1410\u001b[0m \u001b[38;5;28;01mfor\u001b[39;00m k, v \u001b[38;5;129;01min\u001b[39;00m \u001b[38;5;28mzip\u001b[39m(\u001b[38;5;28mself\u001b[39m\u001b[38;5;241m.\u001b[39mindex, \u001b[38;5;28mself\u001b[39m\u001b[38;5;241m.\u001b[39mvalues):\n\u001b[1;32m-> 1411\u001b[0m     s \u001b[38;5;241m=\u001b[39m \u001b[43mklass\u001b[49m\u001b[43m(\u001b[49m\u001b[43mv\u001b[49m\u001b[43m,\u001b[49m\u001b[43m \u001b[49m\u001b[43mindex\u001b[49m\u001b[38;5;241;43m=\u001b[39;49m\u001b[43mcolumns\u001b[49m\u001b[43m,\u001b[49m\u001b[43m \u001b[49m\u001b[43mname\u001b[49m\u001b[38;5;241;43m=\u001b[39;49m\u001b[43mk\u001b[49m\u001b[43m)\u001b[49m\u001b[38;5;241m.\u001b[39m__finalize__(\u001b[38;5;28mself\u001b[39m)\n\u001b[0;32m   1412\u001b[0m     \u001b[38;5;28;01myield\u001b[39;00m k, s\n",
      "File \u001b[1;32m~\\AppData\\Roaming\\jupyterlab-desktop\\jlab_server\\lib\\site-packages\\pandas\\core\\series.py:470\u001b[0m, in \u001b[0;36mSeries.__init__\u001b[1;34m(self, data, index, dtype, name, copy, fastpath)\u001b[0m\n\u001b[0;32m    468\u001b[0m         data \u001b[38;5;241m=\u001b[39m data\u001b[38;5;241m.\u001b[39mcopy()\n\u001b[0;32m    469\u001b[0m \u001b[38;5;28;01melse\u001b[39;00m:\n\u001b[1;32m--> 470\u001b[0m     data \u001b[38;5;241m=\u001b[39m \u001b[43msanitize_array\u001b[49m\u001b[43m(\u001b[49m\u001b[43mdata\u001b[49m\u001b[43m,\u001b[49m\u001b[43m \u001b[49m\u001b[43mindex\u001b[49m\u001b[43m,\u001b[49m\u001b[43m \u001b[49m\u001b[43mdtype\u001b[49m\u001b[43m,\u001b[49m\u001b[43m \u001b[49m\u001b[43mcopy\u001b[49m\u001b[43m)\u001b[49m\n\u001b[0;32m    472\u001b[0m     manager \u001b[38;5;241m=\u001b[39m get_option(\u001b[38;5;124m\"\u001b[39m\u001b[38;5;124mmode.data_manager\u001b[39m\u001b[38;5;124m\"\u001b[39m)\n\u001b[0;32m    473\u001b[0m     \u001b[38;5;28;01mif\u001b[39;00m manager \u001b[38;5;241m==\u001b[39m \u001b[38;5;124m\"\u001b[39m\u001b[38;5;124mblock\u001b[39m\u001b[38;5;124m\"\u001b[39m:\n",
      "File \u001b[1;32m~\\AppData\\Roaming\\jupyterlab-desktop\\jlab_server\\lib\\site-packages\\pandas\\core\\construction.py:597\u001b[0m, in \u001b[0;36msanitize_array\u001b[1;34m(data, index, dtype, copy, raise_cast_failure, allow_2d)\u001b[0m\n\u001b[0;32m    594\u001b[0m             subarr \u001b[38;5;241m=\u001b[39m np\u001b[38;5;241m.\u001b[39marray(data, copy\u001b[38;5;241m=\u001b[39mcopy)\n\u001b[0;32m    595\u001b[0m     \u001b[38;5;28;01melse\u001b[39;00m:\n\u001b[0;32m    596\u001b[0m         \u001b[38;5;66;03m# we will try to copy by-definition here\u001b[39;00m\n\u001b[1;32m--> 597\u001b[0m         subarr \u001b[38;5;241m=\u001b[39m \u001b[43m_try_cast\u001b[49m\u001b[43m(\u001b[49m\u001b[43mdata\u001b[49m\u001b[43m,\u001b[49m\u001b[43m \u001b[49m\u001b[43mdtype\u001b[49m\u001b[43m,\u001b[49m\u001b[43m \u001b[49m\u001b[43mcopy\u001b[49m\u001b[43m,\u001b[49m\u001b[43m \u001b[49m\u001b[43mraise_cast_failure\u001b[49m\u001b[43m)\u001b[49m\n\u001b[0;32m    599\u001b[0m \u001b[38;5;28;01melif\u001b[39;00m \u001b[38;5;28misinstance\u001b[39m(data, ABCExtensionArray):\n\u001b[0;32m    600\u001b[0m     \u001b[38;5;66;03m# it is already ensured above this is not a PandasArray\u001b[39;00m\n\u001b[0;32m    601\u001b[0m     subarr \u001b[38;5;241m=\u001b[39m data\n",
      "File \u001b[1;32m~\\AppData\\Roaming\\jupyterlab-desktop\\jlab_server\\lib\\site-packages\\pandas\\core\\construction.py:777\u001b[0m, in \u001b[0;36m_try_cast\u001b[1;34m(arr, dtype, copy, raise_cast_failure)\u001b[0m\n\u001b[0;32m    774\u001b[0m \u001b[38;5;28;01mif\u001b[39;00m arr\u001b[38;5;241m.\u001b[39mdtype \u001b[38;5;241m!=\u001b[39m \u001b[38;5;28mobject\u001b[39m:\n\u001b[0;32m    775\u001b[0m     \u001b[38;5;28;01mreturn\u001b[39;00m sanitize_to_nanoseconds(arr, copy\u001b[38;5;241m=\u001b[39mcopy)\n\u001b[1;32m--> 777\u001b[0m out \u001b[38;5;241m=\u001b[39m \u001b[43mmaybe_infer_to_datetimelike\u001b[49m\u001b[43m(\u001b[49m\u001b[43marr\u001b[49m\u001b[43m)\u001b[49m\n\u001b[0;32m    778\u001b[0m \u001b[38;5;28;01mif\u001b[39;00m out \u001b[38;5;129;01mis\u001b[39;00m arr \u001b[38;5;129;01mand\u001b[39;00m copy:\n\u001b[0;32m    779\u001b[0m     out \u001b[38;5;241m=\u001b[39m out\u001b[38;5;241m.\u001b[39mcopy()\n",
      "File \u001b[1;32m~\\AppData\\Roaming\\jupyterlab-desktop\\jlab_server\\lib\\site-packages\\pandas\\core\\dtypes\\cast.py:1211\u001b[0m, in \u001b[0;36mmaybe_infer_to_datetimelike\u001b[1;34m(value)\u001b[0m\n\u001b[0;32m   1208\u001b[0m \u001b[38;5;28;01mif\u001b[39;00m \u001b[38;5;129;01mnot\u001b[39;00m \u001b[38;5;28mlen\u001b[39m(v):\n\u001b[0;32m   1209\u001b[0m     \u001b[38;5;28;01mreturn\u001b[39;00m value\n\u001b[1;32m-> 1211\u001b[0m \u001b[38;5;28;01mdef\u001b[39;00m \u001b[38;5;21mtry_datetime\u001b[39m(v: np\u001b[38;5;241m.\u001b[39mndarray) \u001b[38;5;241m-\u001b[39m\u001b[38;5;241m>\u001b[39m ArrayLike:\n\u001b[0;32m   1212\u001b[0m     \u001b[38;5;66;03m# Coerce to datetime64, datetime64tz, or in corner cases\u001b[39;00m\n\u001b[0;32m   1213\u001b[0m     \u001b[38;5;66;03m#  object[datetimes]\u001b[39;00m\n\u001b[0;32m   1214\u001b[0m     \u001b[38;5;28;01mfrom\u001b[39;00m \u001b[38;5;21;01mpandas\u001b[39;00m\u001b[38;5;21;01m.\u001b[39;00m\u001b[38;5;21;01mcore\u001b[39;00m\u001b[38;5;21;01m.\u001b[39;00m\u001b[38;5;21;01marrays\u001b[39;00m\u001b[38;5;21;01m.\u001b[39;00m\u001b[38;5;21;01mdatetimes\u001b[39;00m \u001b[38;5;28;01mimport\u001b[39;00m sequence_to_datetimes\n\u001b[0;32m   1216\u001b[0m     \u001b[38;5;28;01mtry\u001b[39;00m:\n\u001b[0;32m   1217\u001b[0m         \u001b[38;5;66;03m# GH#19671 we pass require_iso8601 to be relatively strict\u001b[39;00m\n\u001b[0;32m   1218\u001b[0m         \u001b[38;5;66;03m#  when parsing strings.\u001b[39;00m\n",
      "\u001b[1;31mKeyboardInterrupt\u001b[0m: "
     ]
    }
   ],
   "source": [
    "\"\"\"\n",
    "    Apply to all teams in Scoreboard Games data with TeamPoints Model\n",
    "\"\"\"\n",
    "all_leagues = df_Scoreboard_factors[\"Team_T1\"].unique()\n",
    "df_all_team_points = {\"Team\":all_leagues , \"Points\": []}\n",
    "\n",
    "for league in all_leagues:\n",
    "    w = Win_Points(league)\n",
    "    dict_team_points[\"Points\"].append(w)\n",
    "    \n",
    "df_all_team_points = pd.DataFrame(dict_team_points).sort_values(\"Points\",ascending=False)"
   ]
  },
  {
   "cell_type": "code",
   "execution_count": 324,
   "id": "3d014fb4-5883-4c51-b087-7212cd3ec3ac",
   "metadata": {
    "tags": []
   },
   "outputs": [
    {
     "data": {
      "text/plain": [
       "<matplotlib.legend.Legend at 0x23a31c06280>"
      ]
     },
     "execution_count": 324,
     "metadata": {},
     "output_type": "execute_result"
    },
    {
     "data": {
      "image/png": "[encoded data removed]",
      "text/plain": [
       "<Figure size 640x480 with 1 Axes>"
      ]
     },
     "metadata": {},
     "output_type": "display_data"
    }
   ],
   "source": [
    "\"\"\"\n",
    "    Graph - Top 10 Teams from ALL Leagues by TeamPoints\n",
    "\"\"\"\n",
    "\n",
    "df_all_team_points_region = df_all_team_points.merge(df_TeamRegion_code, left_on = \"Team\", right_on = \"Team_abbr\", how = \"left\")\n",
    "df_all_team_points_region = df_all_team_points_region.drop_duplicates(subset = \"Team_x\")\n",
    "\n",
    "top_10_team_points = df_all_team_points_region['Points'].iloc[:10]\n",
    "top_10_team_points_region = df_all_team_points_region['Region_code'].iloc[:10]\n",
    "\n",
    "sns.barplot(x = df_all_team_points_region[\"Team_x\"].iloc[:10], y = df_all_team_points_region[\"Points\"].iloc[:10], \n",
    "            hue = top_10_team_points_region, hue_order = region_colours, dodge = False).set(title='Top 10 Global Teams')\n",
    "plt.legend(bbox_to_anchor=(1.02, 1), loc='upper left', borderaxespad=0)"
   ]
  },
  {
   "cell_type": "code",
   "execution_count": null,
   "id": "0bdd5a61-0127-4d50-ac70-ed57fadc63b7",
   "metadata": {},
   "outputs": [],
   "source": []
  }
 ],
 "metadata": {
  "kernelspec": {
   "display_name": "Python 3 (ipykernel)",
   "language": "python",
   "name": "python3"
  },
  "language_info": {
   "codemirror_mode": {
    "name": "ipython",
    "version": 3
   },
   "file_extension": ".py",
   "mimetype": "text/x-python",
   "name": "python",
   "nbconvert_exporter": "python",
   "pygments_lexer": "ipython3",
   "version": "3.8.16"
  }
 },
 "nbformat": 4,
 "nbformat_minor": 5
}
