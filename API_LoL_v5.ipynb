{
 "cells": [
  {
   "cell_type": "markdown",
   "id": "66a6825b-0e59-4de1-ab58-254798d034f2",
   "metadata": {
    "jp-MarkdownHeadingCollapsed": true,
    "tags": []
   },
   "source": [
    "# Graphs to demonstrate 2022 Stages of Worlds Tournament"
   ]
  },
  {
   "cell_type": "markdown",
   "id": "996646b7-b835-4953-b599-94551f6ae38b",
   "metadata": {},
   "source": [
    "## Stage 1 - PlayIns"
   ]
  },
  {
   "cell_type": "code",
   "execution_count": null,
   "id": "da8a827f-dcd2-453d-bc44-dc671fabfad1",
   "metadata": {
    "jupyter": {
     "source_hidden": true
    },
    "tags": []
   },
   "outputs": [],
   "source": [
    "import graphviz\n",
    "\n",
    "dot_data = '''\n",
    "digraph brackets {\n",
    "\n",
    "rankdir=LR\n",
    "\n",
    "    // title\n",
    "    labelloc=\"t\";\n",
    "    label=\"2022 LoL Worlds - Stage 1 - Play Ins\";\n",
    "    fontname = \"Helvetica\";\n",
    "    fontsize = 30;\n",
    "   \n",
    "node [shape=box, fixedsize = True, style=invis, label=\"\",fontname = \"Helvetica\"]\n",
    "edge [style=invis]\n",
    "\n",
    "node [style=solid, fontname = \"Helvetica\"]\n",
    "edge [style=solid]\n",
    "\n",
    "\n",
    "# ===== Group A =====\n",
    "subgraph cluster_group_A {\n",
    "\n",
    "    bgcolor=\"palegreen\"\n",
    "    label=\"Group A\"\n",
    "    fontsize = 20\n",
    "    \n",
    "    # ===== Round A Play Offs =====\n",
    "    rA1 [shape = record, label = \"{#1|FNC}\", fontsize = 10] \n",
    "    rA2 [shape = record, label = \"{#2|EG}\", fontsize = 10]\n",
    "    rA3 [shape = record, label = \"{#3|LLL}\", fontsize = 10]\n",
    "    rA4 [shape = record, label = \"{#4|DFM}\", fontsize = 10]\n",
    "    rA5 [shape = record, label = \"{#5|BG}\", fontsize = 10]\n",
    "    rA6 [shape = record, label = \"{#6|CEC}\", fontsize = 10]\n",
    "    \n",
    "    # === Winner of Play Ins Group A automatically enters Swiss Round\n",
    "    subgraph cluster_winner_A {\n",
    "        label = \"Swiss Round\"\n",
    "        fontsize = 10\n",
    "        bgcolor = \"khaki\"\n",
    "        rAA1 [shape = record, label = \"{A1|FNC}\", fontsize = 10]\n",
    "    }\n",
    "    \n",
    "    # === Group A 3rd and 4th play Elimination Round to challenge Group B Runner Up  ===\n",
    "    subgraph cluster_elimination_A {\n",
    "        label = \"Elimination Round\"\n",
    "        fontsize = 10\n",
    "        bgcolor = \"coral\"\n",
    "        rAA3 [shape = record, label = \"{A3|LLL}\", fontsize = 10]\n",
    "        rAA4 [shape = record, label = \"{A4|DFM}\", fontsize = 10]\n",
    "    }\n",
    "       \n",
    "    # === Runner Up of Group A plays in Elimination Round ===\n",
    "    subgraph cluster_runnerup_A {\n",
    "        label = \"Runner Up\"\n",
    "        fontsize = 10\n",
    "        bgcolor = \"dodgerblue\"\n",
    "        rAA2 [shape = record, label = \"{A2|EG}\", fontsize = 10]\n",
    "        rBB2 [shape = record, label = \"{B2|RNG}\", fontsize = 10]\n",
    "    }    \n",
    "    \n",
    "    # === Qualification Round ===\n",
    "    subgraph cluster_qualification_A {\n",
    "        label = \"Qualification Round\"\n",
    "        fontsize = 10\n",
    "        bgcolor = \"dodgerblue\"\n",
    "        rQA3 [shape = record, label = \"{WEA|DFM}\", fontsize = 10]\n",
    "        rQB2 [shape = record, label = \"{B2|RNG}\", fontsize = 10] \n",
    "    }    \n",
    "    \n",
    "    # === Swiss Qualification Round ===\n",
    "    subgraph cluster_swiss_qualification_A {\n",
    "        label = \"Swiss Round\"\n",
    "        fontsize = 10\n",
    "        bgcolor = \"khaki\"\n",
    "        rAAA [shape = record, label = \"{WQA|RNG}\", fontsize = 10]\n",
    "    }    \n",
    "\n",
    "    \n",
    "# ===== Setting arrows =====\n",
    "\n",
    "#Winner of Group A\n",
    "rA1:e->rAA1:w\n",
    "rA2:e->rAA1:w\n",
    "rA3:e->rAA1:w\n",
    "rA4:e->rAA1:w\n",
    "rA5:e->rAA1:w\n",
    "rA6:e->rAA1:w\n",
    "\n",
    "# Qualification Round \n",
    "rA1:e->rAA2:w\n",
    "rA2:e->rAA2:w\n",
    "rA3:e->rAA2:w\n",
    "rA4:e->rAA2:w\n",
    "rA5:e->rAA2:w\n",
    "rA6:e->rAA2:w\n",
    "\n",
    "#Elimination Round\n",
    "rA1:e->rAA3:w\n",
    "rA2:e->rAA3:w\n",
    "rA3:e->rAA3:w\n",
    "rA4:e->rAA3:w\n",
    "rA5:e->rAA3:w\n",
    "rA6:e->rAA3:w\n",
    "rA1:e->rAA4:w\n",
    "rA2:e->rAA4:w\n",
    "rA3:e->rAA4:w\n",
    "rA4:e->rAA4:w\n",
    "rA5:e->rAA4:w\n",
    "rA6:e->rAA4:w\n",
    "\n",
    "#Winner of Elimination Round A\n",
    "rAA3:e->rQA3:w\n",
    "rAA4:e->rQA3:w\n",
    "rBB2:e->rQB2:w\n",
    "\n",
    "#Winner of Qualification Round A\n",
    "rQA3:e->rAAA:w\n",
    "rQB2:e->rAAA:w\n",
    "\n",
    "}\n",
    "\n",
    "# ===== Group B =====\n",
    "subgraph cluster_group_B {\n",
    "\n",
    "    bgcolor=\"darksalmon\"\n",
    "    label=\"Group B\"\n",
    "    fontsize = 20\n",
    "    \n",
    "    # ===== Round B Play Offs =====\n",
    "    rB1 [shape = record, label = \"{#1|DRX}\", fontsize = 10] \n",
    "    rB2 [shape = record, label = \"{#2|RNG}\", fontsize = 10]\n",
    "    rB3 [shape = record, label = \"{#3|MAD}\", fontsize = 10]\n",
    "    rB4 [shape = record, label = \"{#4|SGB}\", fontsize = 10]\n",
    "    rB5 [shape = record, label = \"{#5|ISC}\", fontsize = 10]\n",
    "    rB6 [shape = record, label = \"{#6|HWA}\", fontsize = 10]\n",
    "    \n",
    "    # === Winner of Play Ins Group B automatically enters Swiss Round\n",
    "    subgraph cluster_winner_B {\n",
    "        label = \"Swiss Round\"\n",
    "        fontsize = 10\n",
    "        bgcolor = \"khaki\"\n",
    "        rBB1 [shape = record, label = \"{B1|DRX}\", fontsize = 10]\n",
    "    }\n",
    "    \n",
    "    # === Group B 3rd and 4th play Elimination Round to challenge Group A Runner Up  ===\n",
    "    subgraph cluster_elimination_B {\n",
    "        label = \"Elimination Round\"\n",
    "        fontsize = 10\n",
    "        bgcolor = \"coral\"\n",
    "        rBB3 [shape = record, label = \"{B3|MAD}\", fontsize = 10]\n",
    "        rBB4 [shape = record, label = \"{B4|SGB}\", fontsize = 10]\n",
    "    }\n",
    "           \n",
    "    # === Qualification Round ===\n",
    "    subgraph cluster_qualification_B {\n",
    "        label = \"Qualification Round\"\n",
    "        fontsize = 10\n",
    "        bgcolor = \"dodgerblue\"\n",
    "        rQB3 [shape = record, label = \"{WEB|MAD}\", fontsize = 10]\n",
    "        rQA2 [shape = record, label = \"{A2|EG}\", fontsize = 10] \n",
    "    }    \n",
    "    \n",
    "    # === Swiss Qualification Round ===\n",
    "    subgraph cluster_swiss_qualification_B {\n",
    "        label = \"Swiss Round\"\n",
    "        fontsize = 10\n",
    "        bgcolor = \"khaki\"\n",
    "        rBBB [shape = record, label = \"{WQB|EG}\", fontsize = 10]\n",
    "    }      \n",
    "    \n",
    "# ===== Setting arrows =====\n",
    "\n",
    "#Winner of Group B\n",
    "rB1:e->rBB1:w\n",
    "rB2:e->rBB1:w\n",
    "rB3:e->rBB1:w\n",
    "rB4:e->rBB1:w\n",
    "rB5:e->rBB1:w\n",
    "rB6:e->rBB1:w\n",
    "\n",
    "# Qualification Round \n",
    "rB1:e->rBB2:w\n",
    "rB2:e->rBB2:w\n",
    "rB3:e->rBB2:w\n",
    "rB4:e->rBB2:w\n",
    "rB5:e->rBB2:w\n",
    "rB6:e->rBB2:w\n",
    "\n",
    "#Elimination Round\n",
    "rB1:e->rBB3:w\n",
    "rB2:e->rBB3:w\n",
    "rB3:e->rBB3:w\n",
    "rB4:e->rBB3:w\n",
    "rB5:e->rBB3:w\n",
    "rB6:e->rBB3:w\n",
    "rB1:e->rBB4:w\n",
    "rB2:e->rBB4:w\n",
    "rB3:e->rBB4:w\n",
    "rB4:e->rBB4:w\n",
    "rB5:e->rBB4:w\n",
    "rB6:e->rBB4:w\n",
    "\n",
    "#Winner of Elimination Round B\n",
    "rBB3:e->rQB3:w\n",
    "rBB4:e->rQB3:w\n",
    "rAA2:e->rQA2:w\n",
    "\n",
    "#Winner of Qualification Round B\n",
    "rQB3:e->rBBB:w\n",
    "rQA2:e->rBBB:w\n",
    "\n",
    "}\n",
    "\n",
    "}\n",
    "'''\n",
    "\n",
    "graph = graphviz.Source(dot_data, filename = \"2022PlayIns.gv\")\n",
    "\n",
    "graph\n",
    "#graph.view()\n"
   ]
  },
  {
   "cell_type": "markdown",
   "id": "ebe61fa7-4078-4dc9-992a-8ae3d5a771f8",
   "metadata": {},
   "source": [
    "## Stage 2 - Swiss Round"
   ]
  },
  {
   "cell_type": "code",
   "execution_count": null,
   "id": "f791b745-2ccd-4660-83a4-bc1cb32b890a",
   "metadata": {
    "jupyter": {
     "source_hidden": true
    },
    "tags": []
   },
   "outputs": [],
   "source": [
    "import graphviz\n",
    "\n",
    "dot_data = '''\n",
    "digraph brackets {\n",
    "\n",
    "rankdir=LR\n",
    "\n",
    "    // title\n",
    "    labelloc=\"t\";\n",
    "    label=\"2022 LoL Worlds - Stage 2 - Swiss Rounds Stage\";\n",
    "    fontname = \"Helvetica\";\n",
    "    fontsize = 30;\n",
    "\n",
    "bgcolor = \"khaki\"\n",
    "  \n",
    "node [shape=box, fixedsize = True, style=invis, label=\"\",fontname = \"Helvetica\"]\n",
    "edge [style=invis]\n",
    "\n",
    "node [style=solid, fontname = \"Helvetica\"]\n",
    "edge [style=solid]\n",
    "\n",
    "# ===== Group D =====\n",
    "subgraph cluster_group_D {\n",
    "    bgcolor=\"plum\"\n",
    "    label=\"Group D\"\n",
    "    fontsize = 20\n",
    "    # ===== Quarter Finals =====\n",
    "    rD1 [shape = record, label = \"{KR|GEN}\", fontsize = 10] \n",
    "    rD2 [shape = record, label = \"{CN|RNG}\", fontsize = 10]\n",
    "    rD3 [shape = record, label = \"{PCS|CFO}\", fontsize = 10]\n",
    "    rD4 [shape = record, label = \"{NA|100T}\", fontsize = 10]\n",
    "    \n",
    "    # === Seeds C1 and C2 qualifies to Knockout Stage ===\n",
    "    subgraph cluster_group_C_qualified {\n",
    "        label = \"Qualifies to Knockout\"\n",
    "        bgcolor = \"lightblue\"\n",
    "        fontsize = 15\n",
    "        # ===== Semi Finals =====\n",
    "        rDD1 [shape = record, label = \"{SD1|GEN}\", fontsize = 10]\n",
    "        rDD2 [shape = record, label = \"{SD2|RNG}\", fontsize = 10]\n",
    "    }\n",
    "\n",
    "# ===== Setting arrows =====\n",
    "rD1:e->rDD1:w\n",
    "rD2:e->rDD1:w\n",
    "rD3:e->rDD1:w\n",
    "rD4:e->rDD1:w\n",
    "rD1:e->rDD2:w\n",
    "rD2:e->rDD2:w\n",
    "rD3:e->rDD2:w\n",
    "rD4:e->rDD2:w\n",
    "\n",
    "}\n",
    "\n",
    "# ===== Group C =====\n",
    "subgraph cluster_group_C {\n",
    "    bgcolor=\"lightcoral\"\n",
    "    label=\"Group C\"\n",
    "    fontsize = 20\n",
    "    # ===== Quarter Finals =====\n",
    "    rC1 [shape = record, label = \"{KR|DRX}\", fontsize = 10] \n",
    "    rC2 [shape = record, label = \"{CN|TES}\", fontsize = 10]\n",
    "    rC3 [shape = record, label = \"{EMEA|RGE}\", fontsize = 10]\n",
    "    rC4 [shape = record, label = \"{VN|GAM}\", fontsize = 10]\n",
    "    \n",
    "    # === Seeds C1 and C2 qualifies to Knockout Stage ===\n",
    "    subgraph cluster_group_C_qualified {\n",
    "        label = \"Qualifies to Knockout\"\n",
    "        bgcolor = \"lightblue\"\n",
    "        fontsize = 15\n",
    "        # ===== Semi Finals =====\n",
    "        rCC1 [shape = record, label = \"{SC1|DRX}\", fontsize = 10]\n",
    "        rCC2 [shape = record, label = \"{SC2|RGE}\", fontsize = 10]\n",
    "    }\n",
    "\n",
    "# ===== Setting arrows =====\n",
    "rC1:e->rCC1:w\n",
    "rC2:e->rCC1:w\n",
    "rC3:e->rCC1:w\n",
    "rC4:e->rCC1:w\n",
    "rC1:e->rCC2:w\n",
    "rC2:e->rCC2:w\n",
    "rC3:e->rCC2:w\n",
    "rC4:e->rCC2:w\n",
    "\n",
    "}\n",
    "\n",
    "# ===== Group B =====\n",
    "subgraph cluster_group_B {\n",
    "    bgcolor=\"gold\"\n",
    "    label=\"Group B\"\n",
    "    fontsize = 20\n",
    "    # ===== Quarter Finals =====\n",
    "    rB1 [shape = record, label = \"{KR|DK}\", fontsize = 10] \n",
    "    rB2 [shape = record, label = \"{CN|JDG}\", fontsize = 10]\n",
    "    rB3 [shape = record, label = \"{EMEA|G2}\", fontsize = 10]\n",
    "    rB4 [shape = record, label = \"{NA|EG}\", fontsize = 10]\n",
    "    \n",
    "    # === Seeds B1 and B2 qualifies to Knockout Stage ===\n",
    "    subgraph cluster_group_B_qualified {\n",
    "        label = \"Qualifies to Knockout\"\n",
    "        bgcolor = \"lightblue\"\n",
    "        fontsize = 15\n",
    "        # ===== Semi Finals =====\n",
    "        rBB1 [shape = record, label = \"{SB1|JDG}\", fontsize = 10]\n",
    "        rBB2 [shape = record, label = \"{SB2|DK}\", fontsize = 10]\n",
    "    }\n",
    "\n",
    "# ===== Setting arrows =====\n",
    "rB1:e->rBB1:w\n",
    "rB2:e->rBB1:w\n",
    "rB3:e->rBB1:w\n",
    "rB4:e->rBB1:w\n",
    "rB1:e->rBB2:w\n",
    "rB2:e->rBB2:w\n",
    "rB3:e->rBB2:w\n",
    "rB4:e->rBB2:w\n",
    "\n",
    "}\n",
    "\n",
    "# ===== Group A =====\n",
    "subgraph cluster_group_A {\n",
    "    bgcolor=\"lightgreen\"\n",
    "    label=\"Group A\"\n",
    "    fontsize = 20\n",
    "    # ===== Quarter Finals =====\n",
    "    rA1 [shape = record, label = \"{KR|T1}\", fontsize = 10] \n",
    "    rA2 [shape = record, label = \"{CN|EDG}\", fontsize = 10]\n",
    "    rA3 [shape = record, label = \"{EMEA|FNC}\", fontsize = 10]\n",
    "    rA4 [shape = record, label = \"{NA|C9}\", fontsize = 10]\n",
    "    \n",
    "    # === Seeds A1 and A2 qualifies to Knockout Stage ===\n",
    "    subgraph cluster_group_A_qualified {\n",
    "        label = \"Qualifies to Knockout\"\n",
    "        fontsize = 15\n",
    "        bgcolor = \"lightblue\"\n",
    "        # ===== Semi Finals =====\n",
    "        rAA1 [shape = record, label = \"{SA1|T1}\", fontsize = 10]\n",
    "        rAA2 [shape = record, label = \"{SA2|EDG}\", fontsize = 10]\n",
    "    }\n",
    "\n",
    "# ===== Setting arrows =====\n",
    "rA1:e->rAA1:w\n",
    "rA2:e->rAA1:w\n",
    "rA3:e->rAA1:w\n",
    "rA4:e->rAA1:w\n",
    "rA1:e->rAA2:w\n",
    "rA2:e->rAA2:w\n",
    "rA3:e->rAA2:w\n",
    "rA4:e->rAA2:w\n",
    "\n",
    "}\n",
    "\n",
    "}\n",
    "'''\n",
    "\n",
    "graph = graphviz.Source(dot_data, filename = \"2022SwissRound.gv\")\n",
    "\n",
    "graph\n",
    "graph.view()"
   ]
  },
  {
   "cell_type": "markdown",
   "id": "8412666f-1b53-4182-901a-39f7f8d2592f",
   "metadata": {},
   "source": [
    "## Stage 3 - Knockout Round "
   ]
  },
  {
   "cell_type": "code",
   "execution_count": null,
   "id": "c1ed2727-55ec-42a5-9c4e-c54135e11218",
   "metadata": {
    "jupyter": {
     "source_hidden": true
    },
    "tags": []
   },
   "outputs": [],
   "source": [
    "import graphviz\n",
    "\n",
    "dot_data = '''\n",
    "digraph brackets {\n",
    "\n",
    "rankdir=LR\n",
    "\n",
    "    // title\n",
    "    labelloc=\"t\";\n",
    "    label=\"2022 LoL Worlds - Stage 3 - Knockout Stage\";\n",
    "    fontname = \"Helvetica\";\n",
    "    fontsize = 25;\n",
    "    \n",
    "bgcolor=\"lightblue\"\n",
    "       \n",
    "node [shape=box, width=2, style=invis, label=\"\",fontname = \"Helvetica\"]\n",
    "edge [style=invis]\n",
    "\n",
    "node [style=solid, fontname = \"Helvetica\"]\n",
    "edge [style=solid]\n",
    "\n",
    "# ===== Quarter Finals =====\n",
    "r1a [shape = record, label = \"{QUARTER FINALS}|{A1|JDG}\"]\n",
    "r1b [shape = record, label = \"{B2|RGE}\"]\n",
    "r1c [shape = record, label = \"{B1|T1}\"]\n",
    "r1d [shape = record, label = \"{A2|RNG}\"]\n",
    "r1e [shape = record, label = \"{C1|GEN}\"]\n",
    "r1f [shape = record, label = \"{D2|DK}\"]\n",
    "r1g [shape = record, label = \"{D1|DRX}\"]\n",
    "r1h [shape = record, label = \"{C2|EDG}\"]\n",
    "\n",
    "# ===== Semi Finals =====\n",
    "r2a [shape = record, label = \"{SEMI FINALS}|{Q1|JDG}\"]\n",
    "r2b [shape = record, label = \"{Q2|T1}\"]\n",
    "r2c [shape = record, label = \"{Q3|GEN}\"]\n",
    "r2d [shape = record, label = \"{Q4|DRX}\"]\n",
    "\n",
    "# ===== Finals =====\n",
    "r3a [shape = record, label = \"{FINALS}|{S1|T1}\"]\n",
    "r3b [shape = record, label = \"{S2|DRX}\"]\n",
    "\n",
    "# ===== Winner =====\n",
    "r4a [shape = record, label = \"{WINNER|DRX}\"]\n",
    "\n",
    "# ===== Setting arrows =====\n",
    "r1a:e->r2a:w\n",
    "r1b:e->r2a:w\n",
    "r1c:e->r2b:w\n",
    "r1d:e->r2b:w\n",
    "r1e:e->r2c:w\n",
    "r1f:e->r2c:w\n",
    "r1g:e->r2d:w\n",
    "r1h:e->r2d:w\n",
    "\n",
    "r2a:e->r3a:w\n",
    "r2b:e->r3a:w\n",
    "r2c:e->r3b:w\n",
    "r2d:e->r3b:w\n",
    "\n",
    "r3a:e->r4a:w\n",
    "r3b:e->r4a:w\n",
    "\n",
    "}\n",
    "'''\n",
    "\n",
    "graph = graphviz.Source(dot_data, filename = \"2022KnockoutStage.gv\")\n",
    "\n",
    "graph\n",
    "graph.view()"
   ]
  },
  {
   "cell_type": "markdown",
   "id": "86884747-c842-4bf3-a989-e5d8ff185b6e",
   "metadata": {},
   "source": [
    "#"
   ]
  },
  {
   "cell_type": "markdown",
   "id": "c5a62311-034a-425c-b891-de5c57810422",
   "metadata": {},
   "source": [
    "# UCDPA - Introduction to Data Analytics\n",
    "# Project: 2023 LoL Worlds Winner Prediction"
   ]
  },
  {
   "cell_type": "code",
   "execution_count": 1,
   "id": "f221217f-e4ba-4dc8-9245-897cd658faf6",
   "metadata": {},
   "outputs": [],
   "source": [
    "\"\"\"\n",
    "    Import Packages\n",
    "\"\"\"\n",
    "#mathematical\n",
    "import pandas as pd\n",
    "import numpy as np\n",
    "\n",
    "#API\n",
    "import mwclient\n",
    "from tqdm.notebook import tqdm\n",
    "\n",
    "#visualisation\n",
    "import seaborn as sns\n",
    "import matplotlib.pyplot as plt"
   ]
  },
  {
   "cell_type": "code",
   "execution_count": 2,
   "id": "953f9ead-4448-43d9-9afd-f6ea531eff82",
   "metadata": {
    "tags": []
   },
   "outputs": [],
   "source": [
    "\"\"\"\n",
    "    Graph Settings\n",
    "\"\"\"\n",
    "region_colours = {\"KR\":\"royalblue\", \"CN\":\"red\", \"EMEA\":\"orange\", \"NA\":\"green\", \\\n",
    "               \"BR\":\"yellow\", \"INT\":\"black\",\"JP\":\"pink\",\"LAT\":\"lime\",\"PCS\":\"aqua\",\"VN\":\"violet\"}"
   ]
  },
  {
   "cell_type": "markdown",
   "id": "b1200aea-db9d-48f4-a731-d14eec83d7c0",
   "metadata": {},
   "source": [
    "#"
   ]
  },
  {
   "cell_type": "markdown",
   "id": "13cf46fe-0704-4fb7-8810-c907b1be2026",
   "metadata": {},
   "source": [
    "# Import data from Leaguepedia through API"
   ]
  },
  {
   "cell_type": "markdown",
   "id": "082bc0e2-902c-4237-b0d1-f1562683f1cc",
   "metadata": {},
   "source": [
    "## API full set of Scoreboard data with: "
   ]
  },
  {
   "cell_type": "code",
   "execution_count": 78,
   "id": "84855732-aad3-4f2b-88f0-307f6f9635fd",
   "metadata": {
    "tags": []
   },
   "outputs": [
    {
     "data": {
      "application/vnd.jupyter.widget-view+json": {
       "model_id": "5fb1fb468ed44457866af049858ad287",
       "version_major": 2,
       "version_minor": 0
      },
      "text/plain": [
       "  0%|          | 0/21 [00:00<?, ?it/s]"
      ]
     },
     "metadata": {},
     "output_type": "display_data"
    }
   ],
   "source": [
    "\"\"\"\n",
    "    Import Scoreboard Games data from Leaguepedia\n",
    "    For all leagues\n",
    "    Get detailed information\n",
    "\"\"\"\n",
    "site = mwclient.Site('lol.fandom.com', path='/')\n",
    "leagues = [\"GPL\", \"IWCQ\", \"WCS\", \"LCS\", \"LEC\", \"LCK\", \"LPL\", \"CBLOL\", \"LCL\", \"LJL\", \"LLA\", \"OPL\", \"PCS\", \"VCS\", \"TCL\", \"LMS\", \"LST\", \"NA LCS\", \n",
    "           \"EU LCS\", \"LLN\", \"CLS\"]\n",
    "results = []\n",
    "\n",
    "for league in tqdm(leagues):\n",
    "    off=0\n",
    "    while True:\n",
    "        response = site.api(\"cargoquery\",\n",
    "                            offset=str(off),\n",
    "                            \n",
    "                            limit=\"max\",\n",
    "                            \n",
    "                            tables = \"ScoreboardGames=SG,Tournaments=T, Leagues=L\",\n",
    "                            \n",
    "                            fields=\"T.Name=Tournament,\\\n",
    "                            L.League_Short=League,\\\n",
    "                            SG.DateTime_UTC=Date, SG.Team1, SG.Team2, SG.WinTeam, \\\n",
    "                            SG.Team1Kills, SG.Team2Kills, SG.Team1Gold , SG.Team2Gold, SG.Team1Dragons, SG.Team2Dragons, \\\n",
    "                            SG.Team1Barons, SG.Team2Barons, SG.Team1RiftHeralds, SG.Team2RiftHeralds, SG.Team1Towers, SG.Team2Towers, \\\n",
    "                            SG.Team1Inhibitors, SG.Team2Inhibitors\",\n",
    "\n",
    "                            where = 'L.League_Short = \"'+league+'\"',\n",
    "                            \n",
    "                            join_on = \"SG.OverviewPage=T.OverviewPage, T.League = L.League\")\n",
    "    \n",
    "        results += response[\"cargoquery\"] \n",
    "        off=off+500\n",
    "        if(len(response[\"cargoquery\"])<500): break"
   ]
  },
  {
   "cell_type": "code",
   "execution_count": 79,
   "id": "875f75b2-718b-40df-a39d-88a9888e8ddf",
   "metadata": {
    "tags": []
   },
   "outputs": [],
   "source": [
    "\"\"\"\n",
    "    Convert results into DataFrame and clean\n",
    "\"\"\"\n",
    "df_Scoreboard = pd.DataFrame([ a[\"title\"] for a in results ])\n",
    "\n",
    "df_Scoreboard = df_Scoreboard.drop(\"Date__precision\", axis=1)\n",
    "df_Scoreboard.sort_values(by = \"Date\",inplace=True)\n",
    "\n",
    "df_Scoreboard[\"Date\"] = pd.to_datetime(df_Scoreboard[\"Date\"])\n",
    "df_Scoreboard[\"Year\"]= df_Scoreboard[\"Date\"].dt.year"
   ]
  },
  {
   "cell_type": "markdown",
   "id": "d4d4899f-8d94-4155-a33b-cd85462f03ed",
   "metadata": {
    "tags": []
   },
   "source": [
    "# "
   ]
  },
  {
   "cell_type": "markdown",
   "id": "10f10c15-d5d6-44f7-b052-ae5e72cfdbc2",
   "metadata": {
    "tags": []
   },
   "source": [
    "## API full set of Teams Region data with: "
   ]
  },
  {
   "cell_type": "code",
   "execution_count": 80,
   "id": "74a8749a-5bcc-4fea-9d17-d64483cd1d61",
   "metadata": {
    "tags": []
   },
   "outputs": [
    {
     "data": {
      "application/vnd.jupyter.widget-view+json": {
       "model_id": "f304ea86f6934b728460e2d13eaf71c8",
       "version_major": 2,
       "version_minor": 0
      },
      "text/plain": [
       "  0%|          | 0/21 [00:00<?, ?it/s]"
      ]
     },
     "metadata": {},
     "output_type": "display_data"
    }
   ],
   "source": [
    "\"\"\"\n",
    "    Import Teams and Region data from Leaguepedia\n",
    "    For all leagues\n",
    "    Get detailed information\n",
    "\"\"\"\n",
    "site = mwclient.Site(\"lol.fandom.com\", path='/')\n",
    "leagues = [\"GPL\", \"IWCQ\", \"WCS\", \"LCS\", \"LEC\", \"LCK\", \"LPL\", \"CBLOL\", \"LCL\", \"LJL\", \"LLA\", \"OPL\", \"PCS\", \"VCS\", \"TCL\", \"LMS\", \"LST\", \"NA LCS\", \n",
    "           \"EU LCS\", \"LLN\", \"CLS\"]\n",
    "results = []\n",
    "\n",
    "for league in tqdm(leagues):\n",
    "    off=0\n",
    "    while True:\n",
    "        response = site.api(\"cargoquery\",\n",
    "                            offset=str(off),\n",
    "                            \n",
    "                            limit=\"max\",\n",
    "                            \n",
    "                            tables = \"Teams=T\",\n",
    "                            \n",
    "                            fields=\"T.Name=Team, T.Region=Region, T.Short=Team_abbr\")\n",
    "                            \n",
    "        results += response[\"cargoquery\"] \n",
    "        off=off+500\n",
    "        if(len(response[\"cargoquery\"])<500): break"
   ]
  },
  {
   "cell_type": "code",
   "execution_count": 81,
   "id": "c667bf63-abe4-44c4-ac17-cc4e489697ce",
   "metadata": {
    "tags": []
   },
   "outputs": [],
   "source": [
    "\"\"\"\n",
    "    Convert results into DataFrame and clean\n",
    "\"\"\"\n",
    "df_TeamRegion = pd.DataFrame([ a[\"title\"] for a in results ])\n",
    "\n",
    "df_TeamRegion = df_TeamRegion.dropna()\n",
    "df_TeamRegion = df_TeamRegion.drop_duplicates(subset=\"Team\")"
   ]
  },
  {
   "cell_type": "code",
   "execution_count": 82,
   "id": "a8a53022-e3a5-4a46-ba18-9f91c879353a",
   "metadata": {
    "tags": []
   },
   "outputs": [
    {
     "name": "stderr",
     "output_type": "stream",
     "text": [
      "C:\\Users\\vivia\\AppData\\Local\\Temp\\ipykernel_4780\\243462606.py:18: FutureWarning: The frame.append method is deprecated and will be removed from pandas in a future version. Use pandas.concat instead.\n",
      "  df_TeamRegion = df_TeamRegion.append([df_TeamRegion2,df_TeamRegion3], ignore_index=True)\n"
     ]
    }
   ],
   "source": [
    "\"\"\"\n",
    "    Add DAMWON Gaming and DWG KIA to df_Team_Region:\n",
    "    because they are Worlds Winners of 2020, 2021 \n",
    "    They both renamed => DK\n",
    "\"\"\"\n",
    "#drop DK - too many duplicates\n",
    "df_TeamRegion.drop(df_TeamRegion.index[df_TeamRegion[\"Team_abbr\"] == \"DK\"], inplace=True)\n",
    "\n",
    "\n",
    "df_TeamRegion2 = {\"Team\":\"DAMWON Gaming\",\n",
    "                  \"Region\":\"Korea\",\n",
    "                  \"Team_abbr\":\"DK\"}\n",
    "\n",
    "df_TeamRegion3 = {\"Team\":\"DWG KIA\",\n",
    "                  \"Region\":\"Korea\",\n",
    "                  \"Team_abbr\":\"DK\"}\n",
    "\n",
    "df_TeamRegion = df_TeamRegion.append([df_TeamRegion2,df_TeamRegion3], ignore_index=True)"
   ]
  },
  {
   "cell_type": "code",
   "execution_count": 83,
   "id": "26ab57bb-276d-46f7-8189-d71dcbcb9528",
   "metadata": {
    "tags": []
   },
   "outputs": [],
   "source": [
    "\"\"\"\n",
    "    Some teams cannot be matched to regions because they have renamed\n",
    "    I created a csv matching the old team names to new team names\n",
    "    Which are then merged together\n",
    "\"\"\"\n",
    "df_OldtoNewTeams = pd.read_csv(\"OldtoNewTeams.csv\")\n",
    "\n",
    "df_TeamRegion = pd.concat([df_TeamRegion,df_OldtoNewTeams])"
   ]
  },
  {
   "cell_type": "code",
   "execution_count": 84,
   "id": "428ba85e-81df-4b9e-b4da-4a9870b64a9f",
   "metadata": {
    "tags": []
   },
   "outputs": [],
   "source": [
    "\"\"\"\n",
    "    Some regions have merged together with others historically\n",
    "    This information cannot be found on Leaguepedia\n",
    "    I created a csv matching the correct regions to their abbreviations\n",
    "    Which are then merged together\n",
    "\"\"\"\n",
    "df_Region_code = pd.read_csv(\"Region_Code.csv\",na_filter = False) #interprets NA as string instead of NaN value\n",
    "\n",
    "df_TeamRegion_code = df_TeamRegion.merge(df_Region_code, on = 'Region', how = 'left')\n",
    "df_TeamRegion_code.drop(columns=[\"Region\"], inplace = True)"
   ]
  },
  {
   "cell_type": "code",
   "execution_count": 85,
   "id": "ad328300-47de-4d0f-afbf-b84e46160e78",
   "metadata": {
    "tags": []
   },
   "outputs": [],
   "source": [
    "\"\"\"\n",
    "    SK Telecom T1 has renamed to T1\n",
    "    This is important as they played and won many matches which can affect the analysis\n",
    "    Therefore I replaced the code for SK Telecom T1 to T1\n",
    "\"\"\"\n",
    "df_TeamRegion_code = df_TeamRegion_code.replace(to_replace = \"SKT\", value = \"T1\")"
   ]
  },
  {
   "cell_type": "markdown",
   "id": "a30a11ad-e8a6-4dc6-9ca1-b5251072120e",
   "metadata": {},
   "source": [
    "#"
   ]
  },
  {
   "cell_type": "markdown",
   "id": "5ab4de2e-f473-4bc5-98b3-8b56c2f86ec5",
   "metadata": {},
   "source": [
    "## Merge Scoreboard and TeamRegion to get:\n",
    "- Team1, Team2, WinTeam Regions\n",
    "- blue/red side"
   ]
  },
  {
   "cell_type": "markdown",
   "id": "2b87c94f-af9b-4f34-ac89-d32dbaa9f36c",
   "metadata": {
    "tags": []
   },
   "source": [
    "## Add Region and Region Code to Scoreboard"
   ]
  },
  {
   "cell_type": "code",
   "execution_count": 86,
   "id": "61b1a897-c9a8-4fa4-b38a-54cc0c8348da",
   "metadata": {
    "tags": []
   },
   "outputs": [],
   "source": [
    "\"\"\"\n",
    "    Merging Region codes with Scoreboard Games data\n",
    "    So I can find out which teams are from which regions\n",
    "    (This helps looking at which regions have participated and won the most matches)\n",
    "\"\"\"\n",
    "df_Scoreboard_T1 = df_Scoreboard.merge(df_TeamRegion_code, left_on = 'Team1', right_on = 'Team', how = 'left')\n",
    "\n",
    "df_Scoreboard_T2 = df_Scoreboard_T1.merge(df_TeamRegion_code, left_on = 'Team2', right_on = 'Team', how = 'left')\n",
    "\n",
    "df_Scoreboard = df_Scoreboard_T2.merge(df_TeamRegion_code, left_on = 'WinTeam', right_on = 'Team', how = 'left')\n",
    "\n",
    "df_Scoreboard.drop(columns=[\"Team_x\",\"Team_y\",\"Team\"], inplace = True)\n",
    "df_Scoreboard.rename(columns={'Region_x':'Region_T1','Team_abbr_x':'Team_T1','Region_code_x':'Region_code_T1',\n",
    "                              'Region_y':'Region_T2','Team_abbr_y':'Team_T2','Region_code_y':'Region_code_T2',\n",
    "                              'Region':'Region_Win','Team_abbr':'Team_Win','Region_code':'Region_code_Win'},inplace=True)"
   ]
  },
  {
   "cell_type": "markdown",
   "id": "3ec04f78-4b9f-4af0-b6f8-097e58f81d07",
   "metadata": {
    "tags": []
   },
   "source": [
    "## Add Blue/Red Side to Scoreboard"
   ]
  },
  {
   "cell_type": "code",
   "execution_count": 87,
   "id": "2503661e-e2ee-40d4-bcb2-0d74f1025699",
   "metadata": {
    "tags": []
   },
   "outputs": [],
   "source": [
    "\"\"\"\n",
    "    Add a column to Scoreboard Games data: Blue/Red\n",
    "    Leaguepedia states that Team1 is on blue side and Team2 is on red side\n",
    "    So I created a for loop to differentiate between blue and red side\n",
    "\"\"\"\n",
    "\n",
    "#get if blue side or red side is winner\n",
    "for lab, row in df_Scoreboard.iterrows():\n",
    "    if row[\"Team1\"] == row[\"WinTeam\"]:\n",
    "        df_Scoreboard.loc[lab,\"Blue/Red\"] = \"Blue\"\n",
    "    else:\n",
    "        df_Scoreboard.loc[lab,\"Blue/Red\"] = \"Red\"\n",
    "\n",
    "df_Scoreboard[[\"Region_code_T1\", \"Region_code_T2\",\"Region_code_Win\"]] = df_Scoreboard[[\"Region_code_T1\", \"Region_code_T2\",\"Region_code_Win\"]] .fillna(\"NA\")"
   ]
  },
  {
   "cell_type": "code",
   "execution_count": 88,
   "id": "8bdfc34d-69fb-4c70-b3a4-184aa37f2c7d",
   "metadata": {
    "tags": []
   },
   "outputs": [],
   "source": [
    "#replace SKT to T1\n",
    "df_Scoreboard = df_Scoreboard.replace(to_replace = \"SKT\", value = \"T1\")"
   ]
  },
  {
   "cell_type": "code",
   "execution_count": null,
   "id": "6f1f3bfa-a78e-458a-962b-19d9cb148848",
   "metadata": {},
   "outputs": [],
   "source": []
  },
  {
   "cell_type": "markdown",
   "id": "0cb2acfe-99a1-44e7-8fc7-12731a71523a",
   "metadata": {
    "tags": []
   },
   "source": [
    "#"
   ]
  },
  {
   "cell_type": "markdown",
   "id": "0998fbc1-c74d-474e-9a68-88730de0e608",
   "metadata": {},
   "source": [
    "# Worlds Winners 2011 - 2022"
   ]
  },
  {
   "cell_type": "markdown",
   "id": "d0ce582f-8da5-4479-bd2e-985fad4ed107",
   "metadata": {
    "tags": []
   },
   "source": [
    "## Get Worlds Tournament only - original dataset contains regional finals"
   ]
  },
  {
   "cell_type": "code",
   "execution_count": 89,
   "id": "279f6c66-d646-4c30-80d9-e4b42be49edc",
   "metadata": {
    "tags": []
   },
   "outputs": [],
   "source": [
    "\"\"\"\n",
    "    LoL Worlds Winners Analysis 2011 - 2022\n",
    "    Leagues labeled WCS include regional finals\n",
    "    Must filter Tournaments that start with \"Worlds\"\n",
    "\"\"\"\n",
    "df_Scoreboard_Worlds = df_Scoreboard[df_Scoreboard[\"Tournament\"].str.startswith(\"Worlds\")]\n",
    "df_Scoreboard_Worlds = df_Scoreboard_Worlds.reset_index(drop=True)\n",
    "df_Scoreboard_Worlds = df_Scoreboard_Worlds.drop_duplicates(keep=\"first\")"
   ]
  },
  {
   "cell_type": "markdown",
   "id": "b4a50715-f9de-4ea9-9df9-077648232adc",
   "metadata": {},
   "source": [
    "## Graph - Top 10 Team Winners in ALL matches of Worlds"
   ]
  },
  {
   "cell_type": "code",
   "execution_count": 77,
   "id": "c99d67d2-4fc1-4072-9417-f681d6e7e84c",
   "metadata": {
    "tags": []
   },
   "outputs": [
    {
     "data": {
      "text/html": [
       "<div>\n",
       "<style scoped>\n",
       "    .dataframe tbody tr th:only-of-type {\n",
       "        vertical-align: middle;\n",
       "    }\n",
       "\n",
       "    .dataframe tbody tr th {\n",
       "        vertical-align: top;\n",
       "    }\n",
       "\n",
       "    .dataframe thead th {\n",
       "        text-align: right;\n",
       "    }\n",
       "</style>\n",
       "<table border=\"1\" class=\"dataframe\">\n",
       "  <thead>\n",
       "    <tr style=\"text-align: right;\">\n",
       "      <th></th>\n",
       "      <th>Tournament</th>\n",
       "      <th>League</th>\n",
       "      <th>Date</th>\n",
       "      <th>Team1</th>\n",
       "      <th>Team2</th>\n",
       "      <th>WinTeam</th>\n",
       "      <th>Team1Kills</th>\n",
       "      <th>Team2Kills</th>\n",
       "      <th>Team1Gold</th>\n",
       "      <th>Team2Gold</th>\n",
       "      <th>...</th>\n",
       "      <th>Region_code_T2</th>\n",
       "      <th>Team_Win</th>\n",
       "      <th>Region_code_Win</th>\n",
       "      <th>Blue/Red</th>\n",
       "      <th>Team_T1</th>\n",
       "      <th>Region_code_T1</th>\n",
       "      <th>Team_T2</th>\n",
       "      <th>Region_code_T2</th>\n",
       "      <th>Team_Win</th>\n",
       "      <th>Region_code_Win</th>\n",
       "    </tr>\n",
       "  </thead>\n",
       "  <tbody>\n",
       "    <tr>\n",
       "      <th>0</th>\n",
       "      <td>Worlds Season 1</td>\n",
       "      <td>WCS</td>\n",
       "      <td>2011-06-18 08:30:00</td>\n",
       "      <td>against All authority</td>\n",
       "      <td>Epik Gamer</td>\n",
       "      <td>Epik Gamer</td>\n",
       "      <td>None</td>\n",
       "      <td>None</td>\n",
       "      <td>None</td>\n",
       "      <td>None</td>\n",
       "      <td>...</td>\n",
       "      <td>EMEA</td>\n",
       "      <td>EPIK</td>\n",
       "      <td>NA</td>\n",
       "      <td>Red</td>\n",
       "      <td>aAa</td>\n",
       "      <td>EMEA</td>\n",
       "      <td>EPIK</td>\n",
       "      <td>EMEA</td>\n",
       "      <td>EPIK</td>\n",
       "      <td>NA</td>\n",
       "    </tr>\n",
       "    <tr>\n",
       "      <th>4</th>\n",
       "      <td>Worlds Season 1</td>\n",
       "      <td>WCS</td>\n",
       "      <td>2011-06-18 09:45:00</td>\n",
       "      <td>Fnatic</td>\n",
       "      <td>Team Pacific</td>\n",
       "      <td>Fnatic</td>\n",
       "      <td>None</td>\n",
       "      <td>None</td>\n",
       "      <td>None</td>\n",
       "      <td>None</td>\n",
       "      <td>...</td>\n",
       "      <td>EMEA</td>\n",
       "      <td>FNC</td>\n",
       "      <td>PCS</td>\n",
       "      <td>Blue</td>\n",
       "      <td>FNC</td>\n",
       "      <td>EMEA</td>\n",
       "      <td>PCFC</td>\n",
       "      <td>EMEA</td>\n",
       "      <td>FNC</td>\n",
       "      <td>PCS</td>\n",
       "    </tr>\n",
       "    <tr>\n",
       "      <th>6</th>\n",
       "      <td>Worlds Season 1</td>\n",
       "      <td>WCS</td>\n",
       "      <td>2011-06-18 11:00:00</td>\n",
       "      <td>Epik Gamer</td>\n",
       "      <td>Team Pacific</td>\n",
       "      <td>Epik Gamer</td>\n",
       "      <td>None</td>\n",
       "      <td>None</td>\n",
       "      <td>None</td>\n",
       "      <td>None</td>\n",
       "      <td>...</td>\n",
       "      <td>NA</td>\n",
       "      <td>EPIK</td>\n",
       "      <td>PCS</td>\n",
       "      <td>Blue</td>\n",
       "      <td>EPIK</td>\n",
       "      <td>NA</td>\n",
       "      <td>PCFC</td>\n",
       "      <td>NA</td>\n",
       "      <td>EPIK</td>\n",
       "      <td>PCS</td>\n",
       "    </tr>\n",
       "    <tr>\n",
       "      <th>14</th>\n",
       "      <td>Worlds Season 1</td>\n",
       "      <td>WCS</td>\n",
       "      <td>2011-06-18 11:00:00</td>\n",
       "      <td>against All authority</td>\n",
       "      <td>Fnatic</td>\n",
       "      <td>against All authority</td>\n",
       "      <td>None</td>\n",
       "      <td>None</td>\n",
       "      <td>None</td>\n",
       "      <td>None</td>\n",
       "      <td>...</td>\n",
       "      <td>EMEA</td>\n",
       "      <td>aAa</td>\n",
       "      <td>EMEA</td>\n",
       "      <td>Blue</td>\n",
       "      <td>aAa</td>\n",
       "      <td>EMEA</td>\n",
       "      <td>FNC</td>\n",
       "      <td>EMEA</td>\n",
       "      <td>aAa</td>\n",
       "      <td>EMEA</td>\n",
       "    </tr>\n",
       "    <tr>\n",
       "      <th>15</th>\n",
       "      <td>Worlds Season 1</td>\n",
       "      <td>WCS</td>\n",
       "      <td>2011-06-18 12:15:00</td>\n",
       "      <td>against All authority</td>\n",
       "      <td>Team Pacific</td>\n",
       "      <td>against All authority</td>\n",
       "      <td>None</td>\n",
       "      <td>None</td>\n",
       "      <td>None</td>\n",
       "      <td>None</td>\n",
       "      <td>...</td>\n",
       "      <td>EMEA</td>\n",
       "      <td>aAa</td>\n",
       "      <td>PCS</td>\n",
       "      <td>Blue</td>\n",
       "      <td>aAa</td>\n",
       "      <td>EMEA</td>\n",
       "      <td>PCFC</td>\n",
       "      <td>EMEA</td>\n",
       "      <td>aAa</td>\n",
       "      <td>PCS</td>\n",
       "    </tr>\n",
       "  </tbody>\n",
       "</table>\n",
       "<p>5 rows × 34 columns</p>\n",
       "</div>"
      ],
      "text/plain": [
       "         Tournament League                Date                  Team1  \\\n",
       "0   Worlds Season 1    WCS 2011-06-18 08:30:00  against All authority   \n",
       "4   Worlds Season 1    WCS 2011-06-18 09:45:00                 Fnatic   \n",
       "6   Worlds Season 1    WCS 2011-06-18 11:00:00             Epik Gamer   \n",
       "14  Worlds Season 1    WCS 2011-06-18 11:00:00  against All authority   \n",
       "15  Worlds Season 1    WCS 2011-06-18 12:15:00  against All authority   \n",
       "\n",
       "           Team2                WinTeam Team1Kills Team2Kills Team1Gold  \\\n",
       "0     Epik Gamer             Epik Gamer       None       None      None   \n",
       "4   Team Pacific                 Fnatic       None       None      None   \n",
       "6   Team Pacific             Epik Gamer       None       None      None   \n",
       "14        Fnatic  against All authority       None       None      None   \n",
       "15  Team Pacific  against All authority       None       None      None   \n",
       "\n",
       "   Team2Gold  ... Region_code_T2 Team_Win Region_code_Win Blue/Red Team_T1  \\\n",
       "0       None  ...           EMEA     EPIK              NA      Red     aAa   \n",
       "4       None  ...           EMEA      FNC             PCS     Blue     FNC   \n",
       "6       None  ...             NA     EPIK             PCS     Blue    EPIK   \n",
       "14      None  ...           EMEA      aAa            EMEA     Blue     aAa   \n",
       "15      None  ...           EMEA      aAa             PCS     Blue     aAa   \n",
       "\n",
       "   Region_code_T1 Team_T2 Region_code_T2 Team_Win Region_code_Win  \n",
       "0            EMEA    EPIK           EMEA     EPIK              NA  \n",
       "4            EMEA    PCFC           EMEA      FNC             PCS  \n",
       "6              NA    PCFC             NA     EPIK             PCS  \n",
       "14           EMEA     FNC           EMEA      aAa            EMEA  \n",
       "15           EMEA    PCFC           EMEA      aAa             PCS  \n",
       "\n",
       "[5 rows x 34 columns]"
      ]
     },
     "execution_count": 77,
     "metadata": {},
     "output_type": "execute_result"
    }
   ],
   "source": [
    "df_Scoreboard_Worlds.head()"
   ]
  },
  {
   "cell_type": "code",
   "execution_count": 92,
   "id": "ad13220d-6f7d-4709-9418-fd8fd4e6225e",
   "metadata": {
    "tags": []
   },
   "outputs": [
    {
     "data": {
      "text/plain": [
       "<matplotlib.legend.Legend at 0x27cf262cf10>"
      ]
     },
     "execution_count": 92,
     "metadata": {},
     "output_type": "execute_result"
    },
    {
     "data": {
      "image/png": "[encoded data removed]",
      "text/plain": [
       "<Figure size 640x480 with 1 Axes>"
      ]
     },
     "metadata": {},
     "output_type": "display_data"
    }
   ],
   "source": [
    "top_10_Worlds_teams = pd.DataFrame((df_Scoreboard_Worlds[\"Team_Win\"].value_counts()).iloc[:10]).reset_index()\n",
    "top_10_Worlds_teams = top_10_Worlds_teams.rename(columns={top_10_Worlds_teams.columns[0]:\"Team\",\"Team_Win\":\"Matches Won\"})\n",
    "top_10_Worlds_teams = top_10_Worlds_teams.merge(df_TeamRegion_code, left_on = \"Team\", right_on = \"Team_abbr\", how = \"left\" )\n",
    "top_10_Worlds_teams = top_10_Worlds_teams.drop(columns = [\"Team_y\",\"Team_abbr\"])\n",
    "top_10_Worlds_teams = top_10_Worlds_teams.drop_duplicates(subset=\"Team_x\")\n",
    "top_10_Worlds_teams = top_10_Worlds_teams.rename(columns={\"Team_x\":\"Team\"})\n",
    "top_10_Worlds_teams\n",
    "\n",
    "sns.barplot(x = \"Team\", y = \"Matches Won\", data = top_10_Worlds_teams ,hue = \"Region_code\", palette = region_colours, dodge = False)\\\n",
    "    .set(title=\"Top 10 Teams in Worlds\")\n",
    "plt.legend(bbox_to_anchor=(1.02, 1), loc='upper left', borderaxespad=0)"
   ]
  },
  {
   "cell_type": "markdown",
   "id": "665c48b6-6207-42e5-a44e-f3ad96cc1b3b",
   "metadata": {
    "tags": []
   },
   "source": [
    "## Graph - Top 10 Region Winners in ALL matches of Worlds"
   ]
  },
  {
   "cell_type": "code",
   "execution_count": 93,
   "id": "9c200da8-8bdc-408b-90e4-4529e052e6bc",
   "metadata": {
    "tags": []
   },
   "outputs": [
    {
     "data": {
      "text/plain": [
       "[Text(0.5, 1.0, 'Top 10 Regions in Worlds')]"
      ]
     },
     "execution_count": 93,
     "metadata": {},
     "output_type": "execute_result"
    },
    {
     "data": {
      "image/png": "[encoded data removed]",
      "text/plain": [
       "<Figure size 640x480 with 1 Axes>"
      ]
     },
     "metadata": {},
     "output_type": "display_data"
    }
   ],
   "source": [
    "top_10_Worlds_regions = pd.DataFrame((df_Scoreboard_Worlds['Region_code_Win'].value_counts()).iloc[:10]).reset_index()\n",
    "top_10_Worlds_regions = top_10_Worlds_regions.rename(columns = {top_10_Worlds_regions.columns[0]:\"Region\",\"Region_code_Win\":\"Matches Won\"})\n",
    "\n",
    "sns.barplot(x = \"Matches Won\", y = \"Region\", data = top_10_Worlds_regions, palette = region_colours, orient = \"h\").set(title=\"Top 10 Regions in Worlds\")"
   ]
  },
  {
   "cell_type": "markdown",
   "id": "aeeb25b7-eb40-4560-8573-6c9de89bf396",
   "metadata": {},
   "source": [
    "## Get list of all World Winners - filter who won most matches in Finals"
   ]
  },
  {
   "cell_type": "code",
   "execution_count": 29,
   "id": "057b7ef5-b35b-4bc7-9b52-fa2a351ed147",
   "metadata": {
    "tags": []
   },
   "outputs": [],
   "source": [
    "\"\"\"\n",
    "    Create function to get winner of each year for Worlds\n",
    "\"\"\"\n",
    "\n",
    "def get_winner(year):\n",
    "    finals_year = df_Scoreboard_Worlds[df_Scoreboard_Worlds[\"Year\"]==year]\n",
    "    winner = finals_year[\"WinTeam\"].value_counts( ).idxmax()\n",
    "    return winner\n",
    "\n",
    "years = [i for i in range(2011,2023)]\n",
    "winners = []\n",
    "\n",
    "for i in range(2011,2023):\n",
    "    winners.append(get_winner(i))\n",
    "\n",
    "dict_worlds_winners = {}\n",
    "for i in range(len(years)):\n",
    "    dict_worlds_winners[years[i]] = winners[i]"
   ]
  },
  {
   "cell_type": "markdown",
   "id": "e2f827f4-1819-404a-ae0c-3a4448f7f6b5",
   "metadata": {},
   "source": [
    "## Graph - Frequency of Worlds Winner : Teams "
   ]
  },
  {
   "cell_type": "code",
   "execution_count": 98,
   "id": "fcb0f1b5-aa97-42ff-8c18-9418e732a5c9",
   "metadata": {
    "tags": []
   },
   "outputs": [
    {
     "data": {
      "text/plain": [
       "<matplotlib.legend.Legend at 0x27cf9752100>"
      ]
     },
     "execution_count": 98,
     "metadata": {},
     "output_type": "execute_result"
    },
    {
     "data": {
      "image/png": "[encoded data removed]",
      "text/plain": [
       "<Figure size 640x480 with 1 Axes>"
      ]
     },
     "metadata": {},
     "output_type": "display_data"
    }
   ],
   "source": [
    "df_worlds_winners = pd.DataFrame(data = [dict_worlds_winners])\n",
    "df_worlds_winners = df_worlds_winners.transpose()\n",
    "df_worlds_winners.reset_index(inplace=True)\n",
    "df_worlds_winners.columns = [\"Year\",\"Winner\"]\n",
    "\n",
    "df_worlds_winners = pd.DataFrame(df_worlds_winners[\"Winner\"].value_counts())\n",
    "df_worlds_winners = df_worlds_winners.rename(columns = {\"Winner\":\"Worlds Won\"})\n",
    "df_worlds_winners = df_worlds_winners.reset_index()\n",
    "df_worlds_winners = df_worlds_winners.rename(columns = {df_worlds_winners.columns[0]:\"Team\"})\n",
    "df_worlds_winners = df_worlds_winners.merge(df_TeamRegion_code, on = \"Team\", how = \"left\")\n",
    "df_worlds_winners\n",
    "\n",
    "sns.barplot(x = \"Team_abbr\", y = \"Worlds Won\", data = df_worlds_winners ,hue = \"Region_code\", palette = region_colours , dodge = False).set(title=\"Worlds Winners by Teams\")\n",
    "plt.xlabel(\"Team\")\n",
    "plt.yticks([1,2,3])\n",
    "plt.legend(bbox_to_anchor=(1.02, 1), loc='upper left', borderaxespad=0)"
   ]
  },
  {
   "cell_type": "markdown",
   "id": "2df732c7-f4eb-4a54-bc8a-6ce2be589288",
   "metadata": {},
   "source": [
    "## Graph - Frequency of Worlds Winner : Regions "
   ]
  },
  {
   "cell_type": "code",
   "execution_count": 31,
   "id": "349d8d34-058a-464c-8ec4-e75305ae25dc",
   "metadata": {
    "tags": []
   },
   "outputs": [
    {
     "data": {
      "text/plain": [
       "[Text(0.5, 1.0, 'Worlds Winners by Region')]"
      ]
     },
     "execution_count": 31,
     "metadata": {},
     "output_type": "execute_result"
    },
    {
     "data": {
      "image/png": "[encoded data removed]",
      "text/plain": [
       "<Figure size 640x480 with 1 Axes>"
      ]
     },
     "metadata": {},
     "output_type": "display_data"
    }
   ],
   "source": [
    "df_worlds_winners_regions = pd.DataFrame(df_worlds_winners[\"Region_code\"].value_counts())\n",
    "df_worlds_winners_regions = df_worlds_winners_regions.reset_index()\n",
    "df_worlds_winners_regions = df_worlds_winners_regions.rename(columns={df_worlds_winners_regions.columns[0]:\"Region\",\n",
    "                                                                     df_worlds_winners_regions.columns[1]:\"Worlds Won\"})\n",
    "sns.barplot(x =  \"Worlds Won\", y = \"Region\", data = df_worlds_winners_regions, palette = region_colours, orient = \"h\") \\\n",
    "    .set(title=\"Worlds Winners by Region\")"
   ]
  },
  {
   "cell_type": "markdown",
   "id": "5bd50316-e58b-4064-a7c1-8840b866cfb7",
   "metadata": {},
   "source": [
    "## Get Participation of Regions in Worlds\n",
    "- to show that Korea participated later but won a lot more matches/worlds finals\n"
   ]
  },
  {
   "cell_type": "markdown",
   "id": "983c215e-e09d-420f-9588-ea55e28be722",
   "metadata": {},
   "source": [
    "## Group by years and find out region participation"
   ]
  },
  {
   "cell_type": "code",
   "execution_count": 32,
   "id": "83c74dbb-417d-407f-849e-24c8aa2b7ab6",
   "metadata": {
    "tags": []
   },
   "outputs": [],
   "source": [
    "\"\"\"\n",
    "    Group Team1 and Team2 together \n",
    "    Get Participation Counts (how many times each time has played a match)\n",
    "    Convert to DataFrame\n",
    "    Clean DataFrame\n",
    "\"\"\"\n",
    "\n",
    "data1 = df_Scoreboard_Worlds.groupby([\"Year\",\"Region_code_T1\"])[\"Region_code_T1\"].count()\n",
    "data2 = df_Scoreboard_Worlds.groupby([\"Year\",\"Region_code_T2\"])[\"Region_code_T2\"].count()\n",
    "df_participation = pd.DataFrame(pd.concat([data1,data2],axis=1))\n",
    "\n",
    "df_participation[\"Region_T1_T2\"]=df_participation[\"Region_code_T1\"] + df_participation[\"Region_code_T2\"] \n",
    "df_participation= df_participation.reset_index()\n",
    "df_participation.rename(columns={df_participation.columns[1]:\"Region\",df_participation.columns[4]:\"Participation_counts\"},inplace=True)\n",
    "\n",
    "df_participation = pd.DataFrame(df_participation.groupby([\"Year\",\"Region\"])[\"Participation_counts\"].sum())"
   ]
  },
  {
   "cell_type": "code",
   "execution_count": 33,
   "id": "08ed639c-6f1f-41e5-8590-4b4856d6d2fe",
   "metadata": {
    "tags": []
   },
   "outputs": [],
   "source": [
    "\"\"\"\n",
    "    Get Win Counts\n",
    "    Compare Participation Counts vs Win Counts\n",
    "    Get Ratio for 'Win Rate %'\n",
    "\"\"\"\n",
    "dfwins = pd.DataFrame(df_Scoreboard_Worlds.groupby([\"Year\",\"Region_code_Win\"])[\"Region_code_Win\"].count())\n",
    "dfwins.rename(columns={\"Region_code_Win\":\"Win_counts\"},inplace=True)\n",
    "dfwins = dfwins.reset_index()\n",
    "dfwins.rename(columns={\"Region_code_Win\":\"Region\"},inplace=True)\n",
    "\n",
    "dfcompare_part_wins = dfwins.merge(df_participation, on = [\"Year\",\"Region\"], how = \"left\")\n",
    "dfcompare_part_wins = dfcompare_part_wins.set_index([\"Region\",\"Year\"])"
   ]
  },
  {
   "cell_type": "code",
   "execution_count": 101,
   "id": "3d9369c1-ae03-4e8f-b95d-716b94ca427f",
   "metadata": {
    "tags": []
   },
   "outputs": [
    {
     "data": {
      "text/plain": [
       "<matplotlib.legend.Legend at 0x27cfb285370>"
      ]
     },
     "execution_count": 101,
     "metadata": {},
     "output_type": "execute_result"
    },
    {
     "data": {
      "image/png": "[encoded data removed]",
      "text/plain": [
       "<Figure size 640x480 with 1 Axes>"
      ]
     },
     "metadata": {},
     "output_type": "display_data"
    }
   ],
   "source": [
    "\"\"\"\n",
    "    Graph for Partcipation to Win Ratio\n",
    "\"\"\"\n",
    "def graph_part_win_counts(region):\n",
    "    dfcompare_part_wins.loc[region].plot(kind=\"bar\", title=region, color = [\"crimson\",\"indigo\"])\n",
    "\n",
    "graph_part_win_counts(\"KR\")\n",
    "plt.legend(bbox_to_anchor=(1.02, 1), loc='upper left', borderaxespad=0)"
   ]
  },
  {
   "cell_type": "code",
   "execution_count": 102,
   "id": "e648d81d-0fa4-4468-bb65-7d5c89b7dd60",
   "metadata": {
    "tags": []
   },
   "outputs": [
    {
     "data": {
      "text/html": [
       "<div>\n",
       "<style scoped>\n",
       "    .dataframe tbody tr th:only-of-type {\n",
       "        vertical-align: middle;\n",
       "    }\n",
       "\n",
       "    .dataframe tbody tr th {\n",
       "        vertical-align: top;\n",
       "    }\n",
       "\n",
       "    .dataframe thead th {\n",
       "        text-align: right;\n",
       "    }\n",
       "</style>\n",
       "<table border=\"1\" class=\"dataframe\">\n",
       "  <thead>\n",
       "    <tr style=\"text-align: right;\">\n",
       "      <th></th>\n",
       "      <th>Regions</th>\n",
       "      <th>Win Rate %</th>\n",
       "    </tr>\n",
       "  </thead>\n",
       "  <tbody>\n",
       "    <tr>\n",
       "      <th>5</th>\n",
       "      <td>KR</td>\n",
       "      <td>66.338297</td>\n",
       "    </tr>\n",
       "    <tr>\n",
       "      <th>2</th>\n",
       "      <td>CN</td>\n",
       "      <td>55.865905</td>\n",
       "    </tr>\n",
       "    <tr>\n",
       "      <th>0</th>\n",
       "      <td>EMEA</td>\n",
       "      <td>46.548568</td>\n",
       "    </tr>\n",
       "    <tr>\n",
       "      <th>7</th>\n",
       "      <td>NA</td>\n",
       "      <td>41.285467</td>\n",
       "    </tr>\n",
       "    <tr>\n",
       "      <th>3</th>\n",
       "      <td>INT</td>\n",
       "      <td>34.337217</td>\n",
       "    </tr>\n",
       "    <tr>\n",
       "      <th>4</th>\n",
       "      <td>JP</td>\n",
       "      <td>31.272727</td>\n",
       "    </tr>\n",
       "    <tr>\n",
       "      <th>9</th>\n",
       "      <td>VN</td>\n",
       "      <td>29.285714</td>\n",
       "    </tr>\n",
       "    <tr>\n",
       "      <th>6</th>\n",
       "      <td>LAT</td>\n",
       "      <td>27.214286</td>\n",
       "    </tr>\n",
       "    <tr>\n",
       "      <th>1</th>\n",
       "      <td>BR</td>\n",
       "      <td>25.925926</td>\n",
       "    </tr>\n",
       "    <tr>\n",
       "      <th>8</th>\n",
       "      <td>PCS</td>\n",
       "      <td>0.354104</td>\n",
       "    </tr>\n",
       "  </tbody>\n",
       "</table>\n",
       "</div>"
      ],
      "text/plain": [
       "  Regions  Win Rate %\n",
       "5      KR   66.338297\n",
       "2      CN   55.865905\n",
       "0    EMEA   46.548568\n",
       "7      NA   41.285467\n",
       "3     INT   34.337217\n",
       "4      JP   31.272727\n",
       "9      VN   29.285714\n",
       "6     LAT   27.214286\n",
       "1      BR   25.925926\n",
       "8     PCS    0.354104"
      ]
     },
     "execution_count": 102,
     "metadata": {},
     "output_type": "execute_result"
    }
   ],
   "source": [
    "\"\"\"\n",
    "    Create a table that shows Win Rate% per region\n",
    "\"\"\"\n",
    "list_regions = list(df_Region_code[\"Region_code\"].unique())\n",
    "\n",
    "def get_part_win_ratio(region): \n",
    "    part_wins_ratio = dfcompare_part_wins.loc[region][\"Win_counts\"]/dfcompare_part_wins.loc[region][\"Participation_counts\"]\n",
    "    return 100*part_wins_ratio.mean()\n",
    "\n",
    "df_ratios = pd.DataFrame()\n",
    "df_ratios[\"Regions\"] = list_regions\n",
    "df_ratios[\"Win Rate %\"] = df_ratios[\"Regions\"].apply(get_part_win_ratio)\n",
    "\n",
    "#correct for PCS - inf\n",
    "df_part_wins_ratio_PCS = dfcompare_part_wins.loc[\"PCS\"][\"Win_counts\"]/dfcompare_part_wins.loc[\"PCS\"][\"Participation_counts\"]\n",
    "df_part_wins_ratio_PCS.replace([np.inf, -np.inf], np.nan, inplace=True)\n",
    "df_part_wins_ratio_PCS.dropna(inplace=True)\n",
    "df_ratios.at[8,\"Win Rate %\"] = df_part_wins_ratio_PCS.mean()\n",
    "\n",
    "df_ratios = df_ratios.sort_values(\"Win Rate %\",ascending = False)\n",
    "df_ratios"
   ]
  },
  {
   "cell_type": "code",
   "execution_count": 37,
   "id": "a05af796-f3ef-4954-8b5f-f5f041a96e90",
   "metadata": {
    "tags": []
   },
   "outputs": [
    {
     "data": {
      "text/plain": [
       "<matplotlib.legend.Legend at 0x27cf262c8b0>"
      ]
     },
     "execution_count": 37,
     "metadata": {},
     "output_type": "execute_result"
    },
    {
     "data": {
      "image/png": "[encoded data removed]",
      "text/plain": [
       "<Figure size 1500x500 with 1 Axes>"
      ]
     },
     "metadata": {},
     "output_type": "display_data"
    }
   ],
   "source": [
    "\"\"\"\n",
    "    Graph - Regional Participation in Worlds\n",
    "    How many matches does each Region play in Worlds \n",
    "\"\"\"\n",
    "piv_participation_Worlds = pd.pivot_table(dfcompare_part_wins, index=\"Year\",columns=\"Region\",values=\"Participation_counts\", fill_value=0)\n",
    "piv_participation_Worlds\n",
    "\n",
    "piv_participation_Worlds.plot(title = \"Regions Participation in Worlds\", linewidth = 4, figsize = (15,5), color = region_colours)\n",
    "plt.legend(bbox_to_anchor=(1.02, 1), loc='upper left', borderaxespad=0)"
   ]
  },
  {
   "cell_type": "markdown",
   "id": "dbf0f370-d034-449b-93c2-92c5e631851f",
   "metadata": {},
   "source": [
    "## KR and CN has wr% > 50% and EMEA has close to wr% 47%\n",
    "## From Graph -  can see these 3 regions has most teams entered and playing in Worlds"
   ]
  },
  {
   "cell_type": "markdown",
   "id": "0677c518-b99e-40a8-b8ad-7ff2ac7c3c56",
   "metadata": {},
   "source": [
    "## Decide to only look at KR, CN, EMEA as a result of analysis:\n",
    "- Worlds Winners region frequency\n",
    "- Match winners region frequency\n",
    "- Participation counts region frequency"
   ]
  },
  {
   "cell_type": "markdown",
   "id": "1059e83e-c1f3-475c-8186-7e04f24cbf14",
   "metadata": {},
   "source": [
    "# "
   ]
  },
  {
   "cell_type": "markdown",
   "id": "badb0692-e905-40c3-91f6-020ddb0caff8",
   "metadata": {},
   "source": [
    "## Get KR, CN and EMEA top x teams to qualify to Swiss Round\n",
    "- Get top x teams to qualify to Swiss Round by Win-to-Participation Ratio (where teams have played > y matches)\n",
    "- KR(LCK) has 4 teams qualifying, CN(LPL) 4, EMEA(LEC) 3"
   ]
  },
  {
   "cell_type": "code",
   "execution_count": 38,
   "id": "a8395738-4488-492e-8a4d-1a3bcd1841eb",
   "metadata": {
    "tags": []
   },
   "outputs": [],
   "source": [
    "def get_top_x_teams_league(league,x, y=100):\n",
    "    \n",
    "    df_Scoreboard_TL = df_Scoreboard[df_Scoreboard[\"League\"]==league]\n",
    "\n",
    "    teams_wins = df_Scoreboard_TL.groupby([\"Team_Win\"])[\"Team_Win\"].count()\n",
    "    teams_wins.name=\"Win_Counts\"\n",
    "    df_teams_wins = pd.DataFrame(teams_wins).reset_index()\n",
    "    df_teams_wins.rename(columns={\"Team_Win\":\"Team\"},inplace=True)\n",
    "\n",
    "    teams_T1 =  df_Scoreboard_TL.groupby([\"Team_T1\"])[\"Team_T1\"].count()\n",
    "    teams_T2 = df_Scoreboard_TL.groupby([\"Team_T2\"])[\"Team_T2\"].count()\n",
    "    df_teams_part = pd.DataFrame(pd.concat([teams_T1,teams_T2],axis=1))\n",
    "    df_teams_part[\"Participation_Counts\"]=df_teams_part[\"Team_T1\"] + df_teams_part[\"Team_T2\"] \n",
    "    df_teams_part = df_teams_part.drop(columns=[\"Team_T1\",\"Team_T2\"]).reset_index()\n",
    "    df_teams_part.rename(columns={df_teams_part.columns[0]:\"Team\"},inplace=True)\n",
    "\n",
    "    teams = df_teams_part.merge(df_teams_wins, on = \"Team\", how = \"left\")\n",
    "    teams = teams[teams[\"Participation_Counts\"]>y] #count only teams who have played more than 100 matches\n",
    "    teams[\"Ratio\"] = (teams[\"Win_Counts\"]/teams[\"Participation_Counts\"]*100).round(1).astype(str) + '%'\n",
    "    teams = teams.sort_values(\"Ratio\",ascending=False)\n",
    "\n",
    "    return teams[0:x]"
   ]
  },
  {
   "cell_type": "code",
   "execution_count": 132,
   "id": "7e874107-cc86-4646-a1b9-e66e030a9aea",
   "metadata": {
    "tags": []
   },
   "outputs": [
    {
     "data": {
      "text/plain": [
       "106.25"
      ]
     },
     "execution_count": 132,
     "metadata": {},
     "output_type": "execute_result"
    }
   ],
   "source": [
    "df_Scoreboard_LEC = df_Scoreboard[df_Scoreboard[\"League\"]==\"LCS\"]\n",
    "df_Scoreboard_LEC.shape\n",
    "1275/12"
   ]
  },
  {
   "cell_type": "code",
   "execution_count": 149,
   "id": "d6c18921-4efc-4139-b504-b76a1b7f994b",
   "metadata": {
    "tags": []
   },
   "outputs": [
    {
     "data": {
      "text/html": [
       "<div>\n",
       "<style scoped>\n",
       "    .dataframe tbody tr th:only-of-type {\n",
       "        vertical-align: middle;\n",
       "    }\n",
       "\n",
       "    .dataframe tbody tr th {\n",
       "        vertical-align: top;\n",
       "    }\n",
       "\n",
       "    .dataframe thead th {\n",
       "        text-align: right;\n",
       "    }\n",
       "</style>\n",
       "<table border=\"1\" class=\"dataframe\">\n",
       "  <thead>\n",
       "    <tr style=\"text-align: right;\">\n",
       "      <th></th>\n",
       "      <th>Team</th>\n",
       "      <th>Participation_Counts</th>\n",
       "      <th>Win_Counts</th>\n",
       "      <th>Ratio</th>\n",
       "    </tr>\n",
       "  </thead>\n",
       "  <tbody>\n",
       "    <tr>\n",
       "      <th>6</th>\n",
       "      <td>EDG</td>\n",
       "      <td>906</td>\n",
       "      <td>593.0</td>\n",
       "      <td>65.5%</td>\n",
       "    </tr>\n",
       "    <tr>\n",
       "      <th>29</th>\n",
       "      <td>RNG</td>\n",
       "      <td>784</td>\n",
       "      <td>479.0</td>\n",
       "      <td>61.1%</td>\n",
       "    </tr>\n",
       "    <tr>\n",
       "      <th>13</th>\n",
       "      <td>JDG</td>\n",
       "      <td>583</td>\n",
       "      <td>353.0</td>\n",
       "      <td>60.5%</td>\n",
       "    </tr>\n",
       "    <tr>\n",
       "      <th>9</th>\n",
       "      <td>FPX</td>\n",
       "      <td>526</td>\n",
       "      <td>299.0</td>\n",
       "      <td>56.8%</td>\n",
       "    </tr>\n",
       "  </tbody>\n",
       "</table>\n",
       "</div>"
      ],
      "text/plain": [
       "   Team  Participation_Counts  Win_Counts  Ratio\n",
       "6   EDG                   906       593.0  65.5%\n",
       "29  RNG                   784       479.0  61.1%\n",
       "13  JDG                   583       353.0  60.5%\n",
       "9   FPX                   526       299.0  56.8%"
      ]
     },
     "execution_count": 149,
     "metadata": {},
     "output_type": "execute_result"
    }
   ],
   "source": [
    "get_top_x_teams_league(\"LPL\",4,500)"
   ]
  },
  {
   "cell_type": "code",
   "execution_count": 146,
   "id": "b8d9a51f-06b9-4dba-8bd4-ee9bcbafba03",
   "metadata": {
    "tags": []
   },
   "outputs": [],
   "source": [
    "def get_top_x_teams_Worlds(x, y):\n",
    "    \n",
    "    df_Scoreboard_TL = df_Scoreboard_Worlds\n",
    "\n",
    "\n",
    "    teams_wins = df_Scoreboard_TL.groupby([\"Team_Win\"])[\"Team_Win\"].count()\n",
    "    teams_wins.name=\"Win_Counts\"\n",
    "    df_teams_wins = pd.DataFrame(teams_wins).reset_index()\n",
    "    df_teams_wins.rename(columns={\"Team_Win\":\"Team\"},inplace=True)\n",
    "\n",
    "\n",
    "    teams_T1 =  df_Scoreboard_TL.groupby([\"Team_T1\"])[\"Team_T1\"].count()\n",
    "    teams_T2 = df_Scoreboard_TL.groupby([\"Team_T2\"])[\"Team_T2\"].count()\n",
    "    df_teams_part = pd.DataFrame(pd.concat([teams_T1,teams_T2],axis=1))\n",
    "    df_teams_part[\"Participation_Counts\"]=df_teams_part[\"Team_T1\"] + df_teams_part[\"Team_T2\"] \n",
    "    df_teams_part = df_teams_part.drop(columns=[\"Team_T1\",\"Team_T2\"]).reset_index()\n",
    "    df_teams_part.rename(columns={df_teams_part.columns[0]:\"Team\"},inplace=True)\n",
    "\n",
    "\n",
    "    teams = df_teams_part.merge(df_teams_wins, on = \"Team\", how = \"left\")\n",
    "    teams = teams[teams[\"Participation_Counts\"]>y] #count only teams who have played more than 100 matches\n",
    "    teams[\"Ratio\"] = (teams[\"Win_Counts\"]/teams[\"Participation_Counts\"]*100).round(1).astype(str) + '%'\n",
    "    teams = teams.sort_values(\"Ratio\",ascending=False)\n",
    "\n",
    "\n",
    "    return teams[0:x]"
   ]
  },
  {
   "cell_type": "code",
   "execution_count": 147,
   "id": "1fd13308-be59-43d3-8b49-d034282d36ac",
   "metadata": {
    "tags": []
   },
   "outputs": [
    {
     "data": {
      "text/html": [
       "<div>\n",
       "<style scoped>\n",
       "    .dataframe tbody tr th:only-of-type {\n",
       "        vertical-align: middle;\n",
       "    }\n",
       "\n",
       "    .dataframe tbody tr th {\n",
       "        vertical-align: top;\n",
       "    }\n",
       "\n",
       "    .dataframe thead th {\n",
       "        text-align: right;\n",
       "    }\n",
       "</style>\n",
       "<table border=\"1\" class=\"dataframe\">\n",
       "  <thead>\n",
       "    <tr style=\"text-align: right;\">\n",
       "      <th></th>\n",
       "      <th>Team</th>\n",
       "      <th>Participation_Counts</th>\n",
       "      <th>Win_Counts</th>\n",
       "      <th>Ratio</th>\n",
       "    </tr>\n",
       "  </thead>\n",
       "  <tbody>\n",
       "    <tr>\n",
       "      <th>94</th>\n",
       "      <td>T1</td>\n",
       "      <td>119.0</td>\n",
       "      <td>87.0</td>\n",
       "      <td>73.1%</td>\n",
       "    </tr>\n",
       "    <tr>\n",
       "      <th>15</th>\n",
       "      <td>DK</td>\n",
       "      <td>66.0</td>\n",
       "      <td>48.0</td>\n",
       "      <td>72.7%</td>\n",
       "    </tr>\n",
       "    <tr>\n",
       "      <th>81</th>\n",
       "      <td>RNG</td>\n",
       "      <td>74.0</td>\n",
       "      <td>43.0</td>\n",
       "      <td>58.1%</td>\n",
       "    </tr>\n",
       "    <tr>\n",
       "      <th>25</th>\n",
       "      <td>FNC</td>\n",
       "      <td>118.0</td>\n",
       "      <td>68.0</td>\n",
       "      <td>57.6%</td>\n",
       "    </tr>\n",
       "    <tr>\n",
       "      <th>19</th>\n",
       "      <td>EDG</td>\n",
       "      <td>87.0</td>\n",
       "      <td>47.0</td>\n",
       "      <td>54.0%</td>\n",
       "    </tr>\n",
       "    <tr>\n",
       "      <th>28</th>\n",
       "      <td>G2</td>\n",
       "      <td>74.0</td>\n",
       "      <td>38.0</td>\n",
       "      <td>51.4%</td>\n",
       "    </tr>\n",
       "    <tr>\n",
       "      <th>7</th>\n",
       "      <td>C9</td>\n",
       "      <td>100.0</td>\n",
       "      <td>50.0</td>\n",
       "      <td>50.0%</td>\n",
       "    </tr>\n",
       "    <tr>\n",
       "      <th>98</th>\n",
       "      <td>TSM</td>\n",
       "      <td>54.0</td>\n",
       "      <td>19.0</td>\n",
       "      <td>35.2%</td>\n",
       "    </tr>\n",
       "  </tbody>\n",
       "</table>\n",
       "</div>"
      ],
      "text/plain": [
       "   Team  Participation_Counts  Win_Counts  Ratio\n",
       "94   T1                 119.0        87.0  73.1%\n",
       "15   DK                  66.0        48.0  72.7%\n",
       "81  RNG                  74.0        43.0  58.1%\n",
       "25  FNC                 118.0        68.0  57.6%\n",
       "19  EDG                  87.0        47.0  54.0%\n",
       "28   G2                  74.0        38.0  51.4%\n",
       "7    C9                 100.0        50.0  50.0%\n",
       "98  TSM                  54.0        19.0  35.2%"
      ]
     },
     "execution_count": 147,
     "metadata": {},
     "output_type": "execute_result"
    }
   ],
   "source": [
    "get_top_x_teams_Worlds(10,50)"
   ]
  },
  {
   "cell_type": "markdown",
   "id": "0aa56d0e-88f5-409a-a686-6dc38001c88e",
   "metadata": {},
   "source": [
    "#"
   ]
  },
  {
   "cell_type": "markdown",
   "id": "87f694fa-0f3c-41b8-b7a0-f54d81ad955a",
   "metadata": {
    "tags": []
   },
   "source": [
    "# Model with Factor Rating: Find relationship between\n",
    "- KDA (.Team1Kills,.Team2Kills)\n",
    "- Barons/Dragons (.Team1Dragons, .Team2Dragons, .Team1Barons , .Team2Barons )\n",
    "- RiftHeralds: .Team1RiftHeralds .Team2RiftHeralds \n",
    "-  Inhibitors: .Team1Inhibitors  .Team2Inhibitors \n",
    "- Gold Lead: .Team1Gold .Team2Gold \n",
    "- Towers: .Team1Towers .Team2Towers "
   ]
  },
  {
   "cell_type": "code",
   "execution_count": 40,
   "id": "69b77c91-62f8-4925-8837-74cff3de4525",
   "metadata": {
    "tags": []
   },
   "outputs": [],
   "source": [
    "df_Scoreboard.replace('  ', np.nan, inplace=True)\n",
    "df_Scoreboard_factors = df_Scoreboard.dropna()"
   ]
  },
  {
   "cell_type": "markdown",
   "id": "004cc01a-6efb-4e10-b3a7-b22438b657cc",
   "metadata": {},
   "source": [
    "## Blue/Red Side"
   ]
  },
  {
   "cell_type": "code",
   "execution_count": 41,
   "id": "14058e05-bcf1-4256-951c-06c5de876642",
   "metadata": {
    "tags": []
   },
   "outputs": [
    {
     "data": {
      "text/plain": [
       "Blue/Red\n",
       "Blue      8608.000000\n",
       "Red       7416.000000\n",
       "blue %      53.719421\n",
       "red %       46.125945\n",
       "Name: Blue/Red, dtype: float64"
      ]
     },
     "execution_count": 41,
     "metadata": {},
     "output_type": "execute_result"
    }
   ],
   "source": [
    "\"\"\"\n",
    "    Find out if blue or red side wins more\n",
    "    Blue side has a slightly higher win rate (considering a 50% change getting blue or red)\n",
    "\"\"\"\n",
    "\n",
    "df_Scoreboard_factors_BR = df_Scoreboard_factors.groupby([\"Blue/Red\"])[\"Blue/Red\"].count()\n",
    "\n",
    "df_Scoreboard_factors_BR[\"blue %\"] = 100*df_Scoreboard_factors_BR.iloc[0]/df_Scoreboard_factors_BR.sum()\n",
    "df_Scoreboard_factors_BR[\"red %\"] = 100*df_Scoreboard_factors_BR.iloc[1]/df_Scoreboard_factors_BR.sum()\n",
    "df_Scoreboard_factors_BR"
   ]
  },
  {
   "cell_type": "markdown",
   "id": "67f0417b-30a1-4743-bd9d-8b56d4ba0324",
   "metadata": {},
   "source": [
    "## Gold Lead, Kills ,Barons, Dragons, RiftHeralds, Towers, Inhibitors"
   ]
  },
  {
   "cell_type": "code",
   "execution_count": 42,
   "id": "f113ffa7-169c-44ef-b8e0-008b44706f15",
   "metadata": {
    "tags": []
   },
   "outputs": [],
   "source": [
    "\"\"\"\n",
    "    Create a function that would add columns for each factor for winning and losing team\n",
    "    Next step is summary stats for each factor to select which ones are significant\n",
    "\"\"\"\n",
    "\n",
    "df_Scoreboard_factors = df_Scoreboard_factors.astype({'Team1Gold':'int','Team2Gold':'int',})\n",
    "\n",
    "factors = {\"Gold\",\"Kills\",\"Barons\",\"Dragons\",\"RiftHeralds\",\"Towers\",\"Inhibitors\"}\n",
    "\n",
    "for i in factors:\n",
    "    if i == \"Gold\":\n",
    "        for lab, row in df_Scoreboard_factors.iterrows():\n",
    "            if row[\"Team1\"] == row[\"WinTeam\"]:\n",
    "                df_Scoreboard_factors.loc[lab,\"Win_GoldLead\"] = df_Scoreboard_factors.loc[lab,\"Team1Gold\"] - df_Scoreboard_factors.loc[lab,\"Team2Gold\"] \n",
    "            else:\n",
    "                df_Scoreboard_factors.loc[lab,\"Win_GoldLead\"] = df_Scoreboard_factors.loc[lab,\"Team2Gold\"] - df_Scoreboard_factors.loc[lab,\"Team1Gold\"] \n",
    "    else:\n",
    "        for lab, row in df_Scoreboard_factors.iterrows():\n",
    "            if row[\"Team1\"] == row[\"WinTeam\"]:\n",
    "                df_Scoreboard_factors.loc[lab,\"Win_\"+i] = df_Scoreboard_factors.loc[lab,\"Team1\"+i] \n",
    "                df_Scoreboard_factors.loc[lab,\"Lose_\"+i] = df_Scoreboard_factors.loc[lab,\"Team2\"+i] \n",
    "            else:\n",
    "                df_Scoreboard_factors.loc[lab,\"Win_\"+i] = df_Scoreboard_factors.loc[lab,\"Team2\"+i] \n",
    "                df_Scoreboard_factors.loc[lab,\"Lose_\"+i] = df_Scoreboard_factors.loc[lab,\"Team1\"+i] \n",
    "                \n",
    "df_Scoreboard_factors = df_Scoreboard_factors.astype({'Win_Kills':'int','Win_Barons':'int','Win_Dragons':'int','Win_Towers':'int'})"
   ]
  },
  {
   "cell_type": "markdown",
   "id": "d5ffa781-07e2-4b29-ba9b-12f8e4e2d118",
   "metadata": {
    "tags": []
   },
   "source": [
    "## Get summary statistics to form model"
   ]
  },
  {
   "cell_type": "code",
   "execution_count": 159,
   "id": "ec6ab92b-c9fa-4c29-b238-c78f1c819482",
   "metadata": {
    "tags": []
   },
   "outputs": [
    {
     "data": {
      "text/html": [
       "<div>\n",
       "<style scoped>\n",
       "    .dataframe tbody tr th:only-of-type {\n",
       "        vertical-align: middle;\n",
       "    }\n",
       "\n",
       "    .dataframe tbody tr th {\n",
       "        vertical-align: top;\n",
       "    }\n",
       "\n",
       "    .dataframe thead th {\n",
       "        text-align: right;\n",
       "    }\n",
       "</style>\n",
       "<table border=\"1\" class=\"dataframe\">\n",
       "  <thead>\n",
       "    <tr style=\"text-align: right;\">\n",
       "      <th></th>\n",
       "      <th>Win_Barons</th>\n",
       "      <th>Lose_Barons</th>\n",
       "      <th>Win_RiftHeralds</th>\n",
       "      <th>Lose_RiftHeralds</th>\n",
       "      <th>Win_Inhibitors</th>\n",
       "      <th>Lose_Inhibitors</th>\n",
       "    </tr>\n",
       "  </thead>\n",
       "  <tbody>\n",
       "    <tr>\n",
       "      <th>count</th>\n",
       "      <td>13941</td>\n",
       "      <td>13941</td>\n",
       "      <td>13941</td>\n",
       "      <td>13941</td>\n",
       "      <td>13941</td>\n",
       "      <td>13941</td>\n",
       "    </tr>\n",
       "    <tr>\n",
       "      <th>mean</th>\n",
       "      <td>1</td>\n",
       "      <td>0</td>\n",
       "      <td>0</td>\n",
       "      <td>0</td>\n",
       "      <td>1</td>\n",
       "      <td>0</td>\n",
       "    </tr>\n",
       "    <tr>\n",
       "      <th>std</th>\n",
       "      <td>0</td>\n",
       "      <td>0</td>\n",
       "      <td>0</td>\n",
       "      <td>0</td>\n",
       "      <td>1</td>\n",
       "      <td>0</td>\n",
       "    </tr>\n",
       "    <tr>\n",
       "      <th>min</th>\n",
       "      <td>0</td>\n",
       "      <td>0</td>\n",
       "      <td>0</td>\n",
       "      <td>0</td>\n",
       "      <td>0</td>\n",
       "      <td>0</td>\n",
       "    </tr>\n",
       "    <tr>\n",
       "      <th>25%</th>\n",
       "      <td>1</td>\n",
       "      <td>0</td>\n",
       "      <td>0</td>\n",
       "      <td>0</td>\n",
       "      <td>1</td>\n",
       "      <td>0</td>\n",
       "    </tr>\n",
       "    <tr>\n",
       "      <th>50%</th>\n",
       "      <td>1</td>\n",
       "      <td>0</td>\n",
       "      <td>1</td>\n",
       "      <td>0</td>\n",
       "      <td>2</td>\n",
       "      <td>0</td>\n",
       "    </tr>\n",
       "    <tr>\n",
       "      <th>75%</th>\n",
       "      <td>1</td>\n",
       "      <td>0</td>\n",
       "      <td>1</td>\n",
       "      <td>1</td>\n",
       "      <td>2</td>\n",
       "      <td>0</td>\n",
       "    </tr>\n",
       "    <tr>\n",
       "      <th>max</th>\n",
       "      <td>5</td>\n",
       "      <td>6</td>\n",
       "      <td>2</td>\n",
       "      <td>2</td>\n",
       "      <td>16</td>\n",
       "      <td>13</td>\n",
       "    </tr>\n",
       "  </tbody>\n",
       "</table>\n",
       "</div>"
      ],
      "text/plain": [
       "       Win_Barons  Lose_Barons  Win_RiftHeralds  Lose_RiftHeralds  \\\n",
       "count       13941        13941            13941             13941   \n",
       "mean            1            0                0                 0   \n",
       "std             0            0                0                 0   \n",
       "min             0            0                0                 0   \n",
       "25%             1            0                0                 0   \n",
       "50%             1            0                1                 0   \n",
       "75%             1            0                1                 1   \n",
       "max             5            6                2                 2   \n",
       "\n",
       "       Win_Inhibitors  Lose_Inhibitors  \n",
       "count           13941            13941  \n",
       "mean                1                0  \n",
       "std                 1                0  \n",
       "min                 0                0  \n",
       "25%                 1                0  \n",
       "50%                 2                0  \n",
       "75%                 2                0  \n",
       "max                16               13  "
      ]
     },
     "execution_count": 159,
     "metadata": {},
     "output_type": "execute_result"
    }
   ],
   "source": [
    "\"\"\"\n",
    "    Summary Stats\n",
    "\"\"\"\n",
    "#df_Scoreboard_factors_SS = df_Scoreboard_factors[[\"Win_Kills\",\"Lose_Kills\",\"Win_GoldLead\",\"Win_Barons\",\"Lose_Barons\",\"Win_Dragons\",\"Lose_Dragons\", \n",
    "#                      \"Win_RiftHeralds\",\"Lose_RiftHeralds\",\"Win_Towers\",\"Lose_Towers\",\"Win_Inhibitors\",\"Lose_Inhibitors\"]].describe(include=\"all\")\n",
    "df_Scoreboard_factors_SS = df_Scoreboard_factors[[\"Win_Barons\",\"Lose_Barons\",\"Win_RiftHeralds\",\"Lose_RiftHeralds\",\"Win_Inhibitors\",\"Lose_Inhibitors\"]].describe(include=\"all\")\n",
    "df_Scoreboard_factors_SS = df_Scoreboard_factors_SS.fillna(0)\n",
    "df_Scoreboard_factors_SS.astype(int)\n",
    "\n",
    "#if kills = 11-17: 1pt\n",
    "#if kills = 17-20: 2pts\n",
    "#if kills > 20: 3pts\n",
    "\n",
    "#if gold lead = 7701 ~ 10686: 1pts\n",
    "#if gold lead = 10687 ~ 13414: 2pts\n",
    "#if gold lead > 13414: 3pts\n",
    "\n",
    "#seems like barons don't make much of a difference\n",
    "#seems like rift heralds don't make much of a difference\n",
    "#seems like inhibitors don't make much of a difference \n",
    "\n",
    "#if dragons = 2 - 3: 1pt\n",
    "#if dragons = 4 : 2pts\n",
    "#if dragons > 4 : 3pts\n",
    "\n",
    "#not a huge differentiation but can see more more towers = more wins\n",
    "#if towers = 8 - 9: 1pt\n",
    "#if towers = 10 - 11: 2pts"
   ]
  },
  {
   "cell_type": "code",
   "execution_count": 162,
   "id": "570088e7-6dd3-4793-85d0-083daed9acb3",
   "metadata": {},
   "outputs": [],
   "source": [
    "\"\"\"\n",
    "    Create function for TeamPoints model using factors selected\n",
    "    Apply to each team\n",
    "\"\"\"\n",
    "\n",
    "def get_TeamPoints(team):\n",
    "\n",
    "    team_points = 0\n",
    "    \n",
    "    for lab, row in df_Scoreboard_factors.iterrows():\n",
    "        if  df_Scoreboard_factors.loc[lab,\"Team_Win\"] == team:\n",
    "            \n",
    "            #Blue/Red Side\n",
    "            if df_Scoreboard_factors.loc[lab,\"Blue/Red\"] == \"Blue\":\n",
    "                team_points +=1\n",
    "            \n",
    "            #Kills\n",
    "            if df_Scoreboard_factors.loc[lab,\"Win_Kills\"] >= 11 and df_Scoreboard_factors.loc[lab,\"Win_Kills\"] < 17:\n",
    "                team_points +=1\n",
    "            elif df_Scoreboard_factors.loc[lab,\"Win_Kills\"] >= 17 and df_Scoreboard_factors.loc[lab,\"Win_Kills\"] <= 20:\n",
    "                team_points +=2\n",
    "            elif df_Scoreboard_factors.loc[lab,\"Win_Kills\"] >20:\n",
    "                team_points +=3\n",
    "                \n",
    "            #Gold Lead\n",
    "            if df_Scoreboard_factors.loc[lab,\"Win_GoldLead\"] >= 7701  and df_Scoreboard_factors.loc[lab,\"Win_GoldLead\"] < 10686:\n",
    "                team_points +=1\n",
    "            elif df_Scoreboard_factors.loc[lab,\"Win_GoldLead\"] >= 10687 and df_Scoreboard_factors.loc[lab,\"Win_GoldLead\"] <= 13414:\n",
    "                team_points +=2\n",
    "            elif df_Scoreboard_factors.loc[lab,\"Win_GoldLead\"] >13414:\n",
    "                team_points +=3\n",
    "                \n",
    "            #Dragons\n",
    "            if df_Scoreboard_factors.loc[lab,\"Win_Dragons\"] >= 2  and df_Scoreboard_factors.loc[lab,\"Win_Dragons\"] <= 3:\n",
    "                team_points +=1\n",
    "            elif df_Scoreboard_factors.loc[lab,\"Win_Dragons\"] == 4:\n",
    "                team_points +=2\n",
    "            elif df_Scoreboard_factors.loc[lab,\"Win_Dragons\"] > 4:\n",
    "                team_points +=3  \n",
    "            \n",
    "            #Towers\n",
    "            if df_Scoreboard_factors.loc[lab,\"Win_Towers\"] >= 8  and df_Scoreboard_factors.loc[lab,\"Win_Towers\"] <= 9:\n",
    "                team_points +=1\n",
    "            elif df_Scoreboard_factors.loc[lab,\"Win_Towers\"] >= 10:\n",
    "                team_points +=2\n",
    "\n",
    "                \n",
    "    #get total points            \n",
    "    return team_points "
   ]
  },
  {
   "cell_type": "code",
   "execution_count": 179,
   "id": "026e4e21-ae5f-4c7c-aedd-bde5244c4da1",
   "metadata": {
    "tags": []
   },
   "outputs": [],
   "source": [
    "\"\"\"\n",
    "    Create dictionary to match Teams with their TeamPoints\n",
    "\"\"\"\n",
    "top_leagues = [\"T1\",\"DK\",\"KZ\",\"GEN\",\"EDG\",\"TES\",\"RNG\",\"JDG\",\"G2\",\"MAD\",\"FNC\"]\n",
    "dict_team_points = {\"Team_abbr\":top_leagues , \"Points\": []}\n",
    "\n",
    "for league in top_leagues:\n",
    "    w = get_TeamPoints(league)\n",
    "    dict_team_points[\"Points\"].append(w)"
   ]
  },
  {
   "cell_type": "code",
   "execution_count": 176,
   "id": "5647121f-a189-45dc-9b92-442628e972fa",
   "metadata": {
    "tags": []
   },
   "outputs": [
    {
     "data": {
      "text/plain": [
       "<matplotlib.legend.Legend at 0x27cf5853760>"
      ]
     },
     "execution_count": 176,
     "metadata": {},
     "output_type": "execute_result"
    },
    {
     "data": {
      "image/png": "[encoded data removed]",
      "text/plain": [
       "<Figure size 640x480 with 1 Axes>"
      ]
     },
     "metadata": {},
     "output_type": "display_data"
    }
   ],
   "source": [
    "\"\"\"\n",
    "    Graph - Plot Team Points for the Top Leagues (4KR,4CN,3EMEA)\n",
    "\"\"\"\n",
    "df_top_league_team_points = pd.DataFrame(dict_team_points).sort_values(\"Points\",ascending=False)\n",
    "df_top_league_team_points = df_top_league_team_points.merge(df_TeamRegion_code, on = \"Team_abbr\", how = \"left\")\n",
    "df_top_league_team_points = df_top_league_team_points.drop_duplicates(subset=\"Team_abbr\")\n",
    "\n",
    "#MAD is code for many teams - but this team is MAD Lions\n",
    "df_top_league_team_points.at[9,\"Team\"] = \"MAD Lions\"\n",
    "df_top_league_team_points.at[9,\"Region_code\"] = \"EMEA\"\n",
    "\n",
    "sns.barplot(x=\"Team_abbr\" ,y= \"Points\", data = df_top_league_team_points, hue = \"Region_code\", \n",
    "            palette = region_colours, dodge = False).set_title(\"Top League Teams by Team Points\")\n",
    "plt.xlabel(\"Team\")\n",
    "plt.ylabel(\"TeamPoints\")\n",
    "plt.legend(bbox_to_anchor=(1.02, 1), loc='upper left', borderaxespad=0)"
   ]
  },
  {
   "cell_type": "code",
   "execution_count": 300,
   "id": "4469410f-fd30-4334-a1c1-a9bceacc0c38",
   "metadata": {
    "collapsed": true,
    "jupyter": {
     "outputs_hidden": true
    },
    "tags": []
   },
   "outputs": [
    {
     "ename": "KeyboardInterrupt",
     "evalue": "",
     "output_type": "error",
     "traceback": [
      "\u001b[1;31m---------------------------------------------------------------------------\u001b[0m",
      "\u001b[1;31mKeyboardInterrupt\u001b[0m                         Traceback (most recent call last)",
      "Cell \u001b[1;32mIn[300], line 8\u001b[0m\n\u001b[0;32m      5\u001b[0m df_all_team_points \u001b[38;5;241m=\u001b[39m {\u001b[38;5;124m\"\u001b[39m\u001b[38;5;124mTeam\u001b[39m\u001b[38;5;124m\"\u001b[39m:all_leagues , \u001b[38;5;124m\"\u001b[39m\u001b[38;5;124mPoints\u001b[39m\u001b[38;5;124m\"\u001b[39m: []}\n\u001b[0;32m      7\u001b[0m \u001b[38;5;28;01mfor\u001b[39;00m league \u001b[38;5;129;01min\u001b[39;00m all_leagues:\n\u001b[1;32m----> 8\u001b[0m     w \u001b[38;5;241m=\u001b[39m \u001b[43mWin_Points\u001b[49m\u001b[43m(\u001b[49m\u001b[43mleague\u001b[49m\u001b[43m)\u001b[49m\n\u001b[0;32m      9\u001b[0m     dict_team_points[\u001b[38;5;124m\"\u001b[39m\u001b[38;5;124mPoints\u001b[39m\u001b[38;5;124m\"\u001b[39m]\u001b[38;5;241m.\u001b[39mappend(w)\n\u001b[0;32m     11\u001b[0m df_all_team_points \u001b[38;5;241m=\u001b[39m pd\u001b[38;5;241m.\u001b[39mDataFrame(dict_team_points)\u001b[38;5;241m.\u001b[39msort_values(\u001b[38;5;124m\"\u001b[39m\u001b[38;5;124mPoints\u001b[39m\u001b[38;5;124m\"\u001b[39m,ascending\u001b[38;5;241m=\u001b[39m\u001b[38;5;28;01mFalse\u001b[39;00m)\n",
      "Cell \u001b[1;32mIn[270], line 10\u001b[0m, in \u001b[0;36mWin_Points\u001b[1;34m(team)\u001b[0m\n\u001b[0;32m      6\u001b[0m \u001b[38;5;28;01mdef\u001b[39;00m \u001b[38;5;21mWin_Points\u001b[39m(team):\n\u001b[0;32m      8\u001b[0m     team_points \u001b[38;5;241m=\u001b[39m \u001b[38;5;241m0\u001b[39m\n\u001b[1;32m---> 10\u001b[0m     \u001b[38;5;28;01mfor\u001b[39;00m lab, row \u001b[38;5;129;01min\u001b[39;00m df_Scoreboard_factors\u001b[38;5;241m.\u001b[39miterrows():\n\u001b[0;32m     11\u001b[0m         \u001b[38;5;28;01mif\u001b[39;00m  df_Scoreboard_factors\u001b[38;5;241m.\u001b[39mloc[lab,\u001b[38;5;124m\"\u001b[39m\u001b[38;5;124mTeam_Win\u001b[39m\u001b[38;5;124m\"\u001b[39m] \u001b[38;5;241m==\u001b[39m team:\n\u001b[0;32m     12\u001b[0m             \n\u001b[0;32m     13\u001b[0m             \u001b[38;5;66;03m#Blue/Red Side\u001b[39;00m\n\u001b[0;32m     14\u001b[0m             \u001b[38;5;28;01mif\u001b[39;00m df_Scoreboard_factors\u001b[38;5;241m.\u001b[39mloc[lab,\u001b[38;5;124m\"\u001b[39m\u001b[38;5;124mBlue/Red\u001b[39m\u001b[38;5;124m\"\u001b[39m] \u001b[38;5;241m==\u001b[39m \u001b[38;5;124m\"\u001b[39m\u001b[38;5;124mBlue\u001b[39m\u001b[38;5;124m\"\u001b[39m:\n",
      "File \u001b[1;32m~\\AppData\\Roaming\\jupyterlab-desktop\\jlab_server\\lib\\site-packages\\pandas\\core\\frame.py:1411\u001b[0m, in \u001b[0;36mDataFrame.iterrows\u001b[1;34m(self)\u001b[0m\n\u001b[0;32m   1409\u001b[0m klass \u001b[38;5;241m=\u001b[39m \u001b[38;5;28mself\u001b[39m\u001b[38;5;241m.\u001b[39m_constructor_sliced\n\u001b[0;32m   1410\u001b[0m \u001b[38;5;28;01mfor\u001b[39;00m k, v \u001b[38;5;129;01min\u001b[39;00m \u001b[38;5;28mzip\u001b[39m(\u001b[38;5;28mself\u001b[39m\u001b[38;5;241m.\u001b[39mindex, \u001b[38;5;28mself\u001b[39m\u001b[38;5;241m.\u001b[39mvalues):\n\u001b[1;32m-> 1411\u001b[0m     s \u001b[38;5;241m=\u001b[39m \u001b[43mklass\u001b[49m\u001b[43m(\u001b[49m\u001b[43mv\u001b[49m\u001b[43m,\u001b[49m\u001b[43m \u001b[49m\u001b[43mindex\u001b[49m\u001b[38;5;241;43m=\u001b[39;49m\u001b[43mcolumns\u001b[49m\u001b[43m,\u001b[49m\u001b[43m \u001b[49m\u001b[43mname\u001b[49m\u001b[38;5;241;43m=\u001b[39;49m\u001b[43mk\u001b[49m\u001b[43m)\u001b[49m\u001b[38;5;241m.\u001b[39m__finalize__(\u001b[38;5;28mself\u001b[39m)\n\u001b[0;32m   1412\u001b[0m     \u001b[38;5;28;01myield\u001b[39;00m k, s\n",
      "File \u001b[1;32m~\\AppData\\Roaming\\jupyterlab-desktop\\jlab_server\\lib\\site-packages\\pandas\\core\\series.py:470\u001b[0m, in \u001b[0;36mSeries.__init__\u001b[1;34m(self, data, index, dtype, name, copy, fastpath)\u001b[0m\n\u001b[0;32m    468\u001b[0m         data \u001b[38;5;241m=\u001b[39m data\u001b[38;5;241m.\u001b[39mcopy()\n\u001b[0;32m    469\u001b[0m \u001b[38;5;28;01melse\u001b[39;00m:\n\u001b[1;32m--> 470\u001b[0m     data \u001b[38;5;241m=\u001b[39m \u001b[43msanitize_array\u001b[49m\u001b[43m(\u001b[49m\u001b[43mdata\u001b[49m\u001b[43m,\u001b[49m\u001b[43m \u001b[49m\u001b[43mindex\u001b[49m\u001b[43m,\u001b[49m\u001b[43m \u001b[49m\u001b[43mdtype\u001b[49m\u001b[43m,\u001b[49m\u001b[43m \u001b[49m\u001b[43mcopy\u001b[49m\u001b[43m)\u001b[49m\n\u001b[0;32m    472\u001b[0m     manager \u001b[38;5;241m=\u001b[39m get_option(\u001b[38;5;124m\"\u001b[39m\u001b[38;5;124mmode.data_manager\u001b[39m\u001b[38;5;124m\"\u001b[39m)\n\u001b[0;32m    473\u001b[0m     \u001b[38;5;28;01mif\u001b[39;00m manager \u001b[38;5;241m==\u001b[39m \u001b[38;5;124m\"\u001b[39m\u001b[38;5;124mblock\u001b[39m\u001b[38;5;124m\"\u001b[39m:\n",
      "File \u001b[1;32m~\\AppData\\Roaming\\jupyterlab-desktop\\jlab_server\\lib\\site-packages\\pandas\\core\\construction.py:597\u001b[0m, in \u001b[0;36msanitize_array\u001b[1;34m(data, index, dtype, copy, raise_cast_failure, allow_2d)\u001b[0m\n\u001b[0;32m    594\u001b[0m             subarr \u001b[38;5;241m=\u001b[39m np\u001b[38;5;241m.\u001b[39marray(data, copy\u001b[38;5;241m=\u001b[39mcopy)\n\u001b[0;32m    595\u001b[0m     \u001b[38;5;28;01melse\u001b[39;00m:\n\u001b[0;32m    596\u001b[0m         \u001b[38;5;66;03m# we will try to copy by-definition here\u001b[39;00m\n\u001b[1;32m--> 597\u001b[0m         subarr \u001b[38;5;241m=\u001b[39m \u001b[43m_try_cast\u001b[49m\u001b[43m(\u001b[49m\u001b[43mdata\u001b[49m\u001b[43m,\u001b[49m\u001b[43m \u001b[49m\u001b[43mdtype\u001b[49m\u001b[43m,\u001b[49m\u001b[43m \u001b[49m\u001b[43mcopy\u001b[49m\u001b[43m,\u001b[49m\u001b[43m \u001b[49m\u001b[43mraise_cast_failure\u001b[49m\u001b[43m)\u001b[49m\n\u001b[0;32m    599\u001b[0m \u001b[38;5;28;01melif\u001b[39;00m \u001b[38;5;28misinstance\u001b[39m(data, ABCExtensionArray):\n\u001b[0;32m    600\u001b[0m     \u001b[38;5;66;03m# it is already ensured above this is not a PandasArray\u001b[39;00m\n\u001b[0;32m    601\u001b[0m     subarr \u001b[38;5;241m=\u001b[39m data\n",
      "File \u001b[1;32m~\\AppData\\Roaming\\jupyterlab-desktop\\jlab_server\\lib\\site-packages\\pandas\\core\\construction.py:777\u001b[0m, in \u001b[0;36m_try_cast\u001b[1;34m(arr, dtype, copy, raise_cast_failure)\u001b[0m\n\u001b[0;32m    774\u001b[0m \u001b[38;5;28;01mif\u001b[39;00m arr\u001b[38;5;241m.\u001b[39mdtype \u001b[38;5;241m!=\u001b[39m \u001b[38;5;28mobject\u001b[39m:\n\u001b[0;32m    775\u001b[0m     \u001b[38;5;28;01mreturn\u001b[39;00m sanitize_to_nanoseconds(arr, copy\u001b[38;5;241m=\u001b[39mcopy)\n\u001b[1;32m--> 777\u001b[0m out \u001b[38;5;241m=\u001b[39m \u001b[43mmaybe_infer_to_datetimelike\u001b[49m\u001b[43m(\u001b[49m\u001b[43marr\u001b[49m\u001b[43m)\u001b[49m\n\u001b[0;32m    778\u001b[0m \u001b[38;5;28;01mif\u001b[39;00m out \u001b[38;5;129;01mis\u001b[39;00m arr \u001b[38;5;129;01mand\u001b[39;00m copy:\n\u001b[0;32m    779\u001b[0m     out \u001b[38;5;241m=\u001b[39m out\u001b[38;5;241m.\u001b[39mcopy()\n",
      "File \u001b[1;32m~\\AppData\\Roaming\\jupyterlab-desktop\\jlab_server\\lib\\site-packages\\pandas\\core\\dtypes\\cast.py:1211\u001b[0m, in \u001b[0;36mmaybe_infer_to_datetimelike\u001b[1;34m(value)\u001b[0m\n\u001b[0;32m   1208\u001b[0m \u001b[38;5;28;01mif\u001b[39;00m \u001b[38;5;129;01mnot\u001b[39;00m \u001b[38;5;28mlen\u001b[39m(v):\n\u001b[0;32m   1209\u001b[0m     \u001b[38;5;28;01mreturn\u001b[39;00m value\n\u001b[1;32m-> 1211\u001b[0m \u001b[38;5;28;01mdef\u001b[39;00m \u001b[38;5;21mtry_datetime\u001b[39m(v: np\u001b[38;5;241m.\u001b[39mndarray) \u001b[38;5;241m-\u001b[39m\u001b[38;5;241m>\u001b[39m ArrayLike:\n\u001b[0;32m   1212\u001b[0m     \u001b[38;5;66;03m# Coerce to datetime64, datetime64tz, or in corner cases\u001b[39;00m\n\u001b[0;32m   1213\u001b[0m     \u001b[38;5;66;03m#  object[datetimes]\u001b[39;00m\n\u001b[0;32m   1214\u001b[0m     \u001b[38;5;28;01mfrom\u001b[39;00m \u001b[38;5;21;01mpandas\u001b[39;00m\u001b[38;5;21;01m.\u001b[39;00m\u001b[38;5;21;01mcore\u001b[39;00m\u001b[38;5;21;01m.\u001b[39;00m\u001b[38;5;21;01marrays\u001b[39;00m\u001b[38;5;21;01m.\u001b[39;00m\u001b[38;5;21;01mdatetimes\u001b[39;00m \u001b[38;5;28;01mimport\u001b[39;00m sequence_to_datetimes\n\u001b[0;32m   1216\u001b[0m     \u001b[38;5;28;01mtry\u001b[39;00m:\n\u001b[0;32m   1217\u001b[0m         \u001b[38;5;66;03m# GH#19671 we pass require_iso8601 to be relatively strict\u001b[39;00m\n\u001b[0;32m   1218\u001b[0m         \u001b[38;5;66;03m#  when parsing strings.\u001b[39;00m\n",
      "\u001b[1;31mKeyboardInterrupt\u001b[0m: "
     ]
    }
   ],
   "source": [
    "\"\"\"\n",
    "    Apply to all teams in Scoreboard Games data with TeamPoints Model\n",
    "\"\"\"\n",
    "all_leagues = df_Scoreboard_factors[\"Team_T1\"].unique()\n",
    "df_all_team_points = {\"Team\":all_leagues , \"Points\": []}\n",
    "\n",
    "for league in all_leagues:\n",
    "    w = get_TeamPoints(league)\n",
    "    dict_team_points[\"Points\"].append(w)\n",
    "    \n",
    "df_all_team_points = pd.DataFrame(dict_team_points).sort_values(\"Points\",ascending=False)"
   ]
  },
  {
   "cell_type": "code",
   "execution_count": 184,
   "id": "3d014fb4-5883-4c51-b087-7212cd3ec3ac",
   "metadata": {
    "tags": []
   },
   "outputs": [
    {
     "data": {
      "text/plain": [
       "<matplotlib.legend.Legend at 0x27cfa059c70>"
      ]
     },
     "execution_count": 184,
     "metadata": {},
     "output_type": "execute_result"
    },
    {
     "data": {
      "image/png": "[encoded data removed]",
      "text/plain": [
       "<Figure size 640x480 with 1 Axes>"
      ]
     },
     "metadata": {},
     "output_type": "display_data"
    }
   ],
   "source": [
    "\"\"\"\n",
    "    Graph - Top 10 Teams from ALL Leagues by TeamPoints\n",
    "\"\"\"\n",
    "\n",
    "df_all_team_points_region = df_all_team_points.merge(df_TeamRegion_code, left_on = \"Team\", right_on = \"Team_abbr\", how = \"left\")\n",
    "df_all_team_points_region = df_all_team_points_region.drop_duplicates(subset = \"Team_x\")\n",
    "\n",
    "top_10_team_points = df_all_team_points_region['Points'].iloc[:10]\n",
    "top_10_team_points_region = df_all_team_points_region['Region_code'].iloc[:10]\n",
    "\n",
    "sns.barplot(x = df_all_team_points_region[\"Team_x\"].iloc[:10], y = df_all_team_points_region[\"Points\"].iloc[:10], \n",
    "            hue = top_10_team_points_region, hue_order = region_colours, dodge = False).set(title='Top 10 Teams - by TeamPoints')\n",
    "plt.xlabel(\"Team\")\n",
    "plt.ylabel(\"TeamPoints\")\n",
    "plt.legend(bbox_to_anchor=(1.02, 1), loc='upper left', borderaxespad=0)"
   ]
  },
  {
   "cell_type": "code",
   "execution_count": null,
   "id": "0bdd5a61-0127-4d50-ac70-ed57fadc63b7",
   "metadata": {},
   "outputs": [],
   "source": []
  }
 ],
 "metadata": {
  "kernelspec": {
   "display_name": "Python 3 (ipykernel)",
   "language": "python",
   "name": "python3"
  },
  "language_info": {
   "codemirror_mode": {
    "name": "ipython",
    "version": 3
   },
   "file_extension": ".py",
   "mimetype": "text/x-python",
   "name": "python",
   "nbconvert_exporter": "python",
   "pygments_lexer": "ipython3",
   "version": "3.8.16"
  }
 },
 "nbformat": 4,
 "nbformat_minor": 5
}
