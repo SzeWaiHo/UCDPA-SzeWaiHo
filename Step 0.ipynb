{
 "cells": [
  {
   "cell_type": "markdown",
   "id": "572660c6-4299-4c2b-b97c-be266a281f90",
   "metadata": {},
   "source": [
    "# Project - Who will win the LoL 2023 Worlds?"
   ]
  },
  {
   "cell_type": "markdown",
   "id": "40c4a960-e957-4223-a30e-1e763bc54f17",
   "metadata": {
    "tags": []
   },
   "source": [
    "## Step 0"
   ]
  },
  {
   "cell_type": "code",
   "execution_count": 4,
   "id": "a04232bd-9a50-4017-a26d-6b8567fe5621",
   "metadata": {
    "tags": []
   },
   "outputs": [],
   "source": [
    "# This is where I will track and store my progress and next steps"
   ]
  },
  {
   "cell_type": "code",
   "execution_count": null,
   "id": "155881db-ef63-49d4-ab63-6598fd5f9475",
   "metadata": {},
   "outputs": [],
   "source": []
  },
  {
   "cell_type": "code",
   "execution_count": 9,
   "id": "0c92ee15-0a95-46e2-a4da-4637efb5d378",
   "metadata": {
    "tags": []
   },
   "outputs": [],
   "source": [
    "#1. First, I need data sets. \n",
    "#I need to figure out what data sets I need\n",
    "#I need to check those data sets\n",
    "#I then need to clean and merge them in my notebook"
   ]
  },
  {
   "cell_type": "code",
   "execution_count": null,
   "id": "aed387c7-f6a9-4ac5-9920-14902e025335",
   "metadata": {},
   "outputs": [],
   "source": [
    "#2. I need to figure out what teams I want to include\n",
    "#Draw a mind map of how the MSI/Worlds works\n",
    "#How teams get into the tournament\n",
    "#Regional restrictions etc.\n",
    "#Last brackets"
   ]
  }
 ],
 "metadata": {
  "kernelspec": {
   "display_name": "Python 3 (ipykernel)",
   "language": "python",
   "name": "python3"
  },
  "language_info": {
   "codemirror_mode": {
    "name": "ipython",
    "version": 3
   },
   "file_extension": ".py",
   "mimetype": "text/x-python",
   "name": "python",
   "nbconvert_exporter": "python",
   "pygments_lexer": "ipython3",
   "version": "3.8.16"
  }
 },
 "nbformat": 4,
 "nbformat_minor": 5
}
