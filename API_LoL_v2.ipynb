{
 "cells": [
  {
   "cell_type": "code",
   "execution_count": 2,
   "id": "5735a250-98a8-4e3a-945a-07ddfec8c596",
   "metadata": {
    "tags": []
   },
   "outputs": [
    {
     "data": {
      "application/vnd.jupyter.widget-view+json": {
       "model_id": "26f3a3087b2a4fc08bd9705d91458aee",
       "version_major": 2,
       "version_minor": 0
      },
      "text/plain": [
       "  0%|          | 0/1 [00:00<?, ?it/s]"
      ]
     },
     "metadata": {},
     "output_type": "display_data"
    },
    {
     "name": "stderr",
     "output_type": "stream",
     "text": [
      "\n",
      "KeyboardInterrupt\n",
      "\n"
     ]
    }
   ],
   "source": [
    "#https://lol.fandom.com/wiki/Help:Leaguepedia_API\n",
    "\"\"\" \n",
    "    This is the website I used to figure out how to query API from Leaguepedia (storing all match statistics)\n",
    "\"\"\"\n",
    "import mwclient\n",
    "\n",
    "#This is the LeaguePedia website that stores all match and team statistics\n",
    "site = mwclient.Site('lol.fandom.com', path='/')\n",
    "\n",
    "\n",
    "\"\"\"\n",
    "    I searched for a quicker way to iterate for loops because it took too long to run\n",
    "\"\"\"\n",
    "#https://github.com/tqdm/tqdm \n",
    "from tqdm.notebook import tqdm\n",
    "\n",
    "#pre-set the leagues I want to look at - all those that will qualify to worlds\n",
    "#leagues=['GPL','IWCQ','WCS','LCS','LEC','LCK','LPL','CBLOL','LCL','LJL','LLA','OPL','PCS','VCS','TCL','LMS','LST','NA LCS','EU LCS','LLN','CLS']\n",
    "#leagues=['LCS','LEC','LCK','LPL','CBLOL','LJL','LLA','PCS','VCS']\n",
    "leagues=['LCK']\n",
    "\n",
    "#create an empty list to store my dataset\n",
    "results = []\n",
    "\n",
    "#for loop to create my data base of match stats\n",
    "for league in tqdm(leagues):\n",
    "    off=0\n",
    "    \n",
    "    #while loop to retrive data thruogh API\n",
    "    while True:\n",
    "        #API query\n",
    "        response = site.api('cargoquery',\n",
    "                            offset=str(off),\n",
    "                            \n",
    "                            limit=\"500\",\n",
    "                            \n",
    "                            #retrive tables\n",
    "                            tables = \"ScoreboardGames=SG, ScoreboardPlayers=SP,Tournaments=T, Leagues=L\",\n",
    "                            \n",
    "                            #retrive fields as columns\n",
    "                            fields=\"T.Name=Tournament,\\\n",
    "                                    L.League_Short=League,\\\n",
    "                                    SP.Link,\\\n",
    "                                    SG.DateTime_UTC, SG.Gamelength, SG.Team1, SG.Team2, SG.Team1Score, SG.Team2Score\", \n",
    "                            \n",
    "                            #set condition (only include specified leagues)\n",
    "                            where = 'L.League_Short = \"'+league+'\"',\n",
    "                            \n",
    "                            #similar to vlookup in the web pages\n",
    "                            join_on = \"SG.OverviewPage=T.OverviewPage, T.League = L.League, SP.MatchId=SG.MatchId\")\n",
    "        \n",
    "        #add to database\n",
    "        results += response[\"cargoquery\"] \n",
    "        \n",
    "        #speed\n",
    "        off=off+500\n",
    "        if(len(response[\"cargoquery\"])<500): break\n",
    "        \n",
    "\n",
    "#import pandas as pd\n",
    "#df_Scoreboard = pd.DataFrame([ a['title'] for a in results ])\n",
    "#df_Scoreboard = df_Scoreboard.drop(\"DateTime UTC__precision\", axis=1)\n",
    "#df_Scoreboard.sort_values(\"DateTime UTC\")\n",
    "#df_Scoreboard.head()\n",
    "#df_Scoreboard.to_csv(\"Scoreboard.csv\")"
   ]
  },
  {
   "cell_type": "code",
   "execution_count": null,
   "id": "fe49c99b-bd02-4548-828b-7b69e288d75f",
   "metadata": {
    "tags": []
   },
   "outputs": [],
   "source": [
    "import pandas as pd\n",
    "df_Scoreboard = pd.DataFrame([ a['title'] for a in results ])\n",
    "df_Scoreboard = df_Scoreboard.drop(\"DateTime UTC__precision\", axis=1)\n",
    "df_Scoreboard.sort_values(\"DateTime UTC\")\n",
    "df_Scoreboard.head()\n",
    "#df_Scoreboard.to_csv(\"Scoreboard.csv\")"
   ]
  },
  {
   "cell_type": "code",
   "execution_count": null,
   "id": "5284909a-3a93-43f1-938b-f47d20b551eb",
   "metadata": {
    "tags": []
   },
   "outputs": [],
   "source": [
    "#https://lol.fandom.com/wiki/Help:Leaguepedia_API\n",
    "\"\"\" \n",
    "    This is the website I used to figure out how to query API from Leaguepedia (storing all match statistics)\n",
    "\"\"\"\n",
    "import mwclient\n",
    "\n",
    "#This is the LeaguePedia website that stores all match and team statistics\n",
    "site = mwclient.Site('lol.fandom.com', path='/')\n",
    "\n",
    "\n",
    "\"\"\"\n",
    "    I searched for a quicker way to iterate for loops because it took too long to run\n",
    "\"\"\"\n",
    "#https://github.com/tqdm/tqdm \n",
    "from tqdm.notebook import tqdm\n",
    "\n",
    "#pre-set the leagues I want to look at - all those that will qualify to worlds\n",
    "#leagues=['LCS','LEC','LCK','LPL','CBLOL','LJL','LLA','PCS','VCS']\n",
    "leagues=['LCK']\n",
    "\n",
    "#create an empty list to store my dataset\n",
    "results = []\n",
    "\n",
    "#for loop to create my data base of match stats\n",
    "for league in tqdm(leagues):\n",
    "    off=0\n",
    "    \n",
    "    #while loop to retrive data thruogh API\n",
    "    while True:\n",
    "        #API query\n",
    "        response = site.api('cargoquery',\n",
    "                            offset=str(off),\n",
    "                            \n",
    "                            limit=\"max\",\n",
    "                            \n",
    "                            #retrive tables\n",
    "                            tables = \"Teams=T, Players=P\",\n",
    "                            \n",
    "                            #retrive fields as columns\n",
    "                            fields=\"P.Team=Team, P.ID=ID, P.Nationality, P.Country,P.Birthdate,\\\n",
    "                                    T.Region=Region, T.Short\", \n",
    "                            \n",
    "                            #set condition \n",
    "                            #where = 'T.Name = P.Team',\n",
    "                            \n",
    "                            #similar to vlookup in the web pages\n",
    "                            join_on = \"T.Name = P.Team\")\n",
    "        \n",
    "        #add to database\n",
    "        results += response[\"cargoquery\"] \n",
    "        \n",
    "        #speed\n",
    "        off=off+500\n",
    "        if(len(response[\"cargoquery\"])<500): break\n",
    "\n",
    "        \n",
    "        \n",
    "import pandas as pd\n",
    "df_Players = pd.DataFrame([ a['title'] for a in results ])\n",
    "\n",
    "#drop birthdate precision\n",
    "df_Players = df_Players.drop(\"Birthdate__precision\", axis=1)\n",
    "\n",
    "df_Players.head()\n",
    "#df_Players.to_csv(\"Players.csv\")"
   ]
  },
  {
   "cell_type": "code",
   "execution_count": null,
   "id": "f741b03b-6963-416d-a5e6-73e7b194e97f",
   "metadata": {
    "tags": []
   },
   "outputs": [],
   "source": [
    "df_stats = df_Scoreboard.merge(df_Players, left_on = 'Team1', right_on = 'Team', how = 'left')\n",
    "df_stats.head()\n",
    "df_stats.to_csv(\"Merged.csv\")"
   ]
  },
  {
   "cell_type": "code",
   "execution_count": null,
   "id": "a2a2b374-236e-4bc2-acb3-d3e3ccbfb562",
   "metadata": {},
   "outputs": [],
   "source": [
    "#############################################################################################################################\n",
    "#############################################################################################################################\n",
    "#############################################################################################################################\n",
    "#############################################################################################################################"
   ]
  },
  {
   "cell_type": "markdown",
   "id": "082bc0e2-902c-4237-b0d1-f1562683f1cc",
   "metadata": {},
   "source": [
    "# Imported all leagues scoreboard games data"
   ]
  },
  {
   "cell_type": "code",
   "execution_count": null,
   "id": "84855732-aad3-4f2b-88f0-307f6f9635fd",
   "metadata": {
    "tags": []
   },
   "outputs": [],
   "source": [
    "\"\"\" \n",
    "    This is the website I used to figure out how to query API from Leaguepedia (storing all match statistics)\n",
    "\"\"\"\n",
    "#https://lol.fandom.com/wiki/Help:Leaguepedia_API\n",
    "import mwclient\n",
    "\n",
    "#This is the LeaguePedia website that stores all match and team statistics\n",
    "site = mwclient.Site('lol.fandom.com', path='/')\n",
    "\n",
    "\n",
    "\"\"\"\n",
    "    I searched for a quicker way to iterate for loops because it took too long to run\n",
    "\"\"\"\n",
    "#https://github.com/tqdm/tqdm \n",
    "from tqdm.notebook import tqdm\n",
    "\n",
    "#pre-set the leagues I want to look at - all those that will qualify to worlds\n",
    "leagues=['GPL','IWCQ','WCS','LCS','LEC','LCK','LPL','CBLOL','LCL','LJL','LLA','OPL','PCS','VCS','TCL','LMS','LST','NA LCS','EU LCS','LLN','CLS']\n",
    "\n",
    "\n",
    "#create an empty list to store my dataset\n",
    "results = []\n",
    "\n",
    "#for loop to create my data base of match stats\n",
    "for league in tqdm(leagues):\n",
    "    off=0\n",
    "    \n",
    "    #while loop to retrive data thruogh API\n",
    "    while True:\n",
    "        #API query\n",
    "        response = site.api('cargoquery',\n",
    "                            offset=str(off),\n",
    "                            \n",
    "                            limit=\"max\",\n",
    "                            \n",
    "                            #retrive tables\n",
    "                            tables = \"ScoreboardGames=SG,Tournaments=T, Leagues=L\",\n",
    "                            \n",
    "                            #retrive fields as columns\n",
    "                            fields=\"T.Name=Tournament,\\\n",
    "                                    L.League_Short=League,\\\n",
    "                                    SG.DateTime_UTC=Date, SG.Gamelength, SG.Team1, SG.Team2, SG.Team1Score, SG.Team2Score,SG.WinTeam\", \n",
    "                            \n",
    "                            #set condition (only include specified leagues)\n",
    "                            where = 'L.League_Short = \"'+league+'\"',\n",
    "                            \n",
    "                            #similar to vlookup in the web pages\n",
    "                            join_on = \"SG.OverviewPage=T.OverviewPage, T.League = L.League\")\n",
    "        \n",
    "        #add to database\n",
    "        results += response[\"cargoquery\"] \n",
    "        \n",
    "        #speed\n",
    "        off=off+500\n",
    "        if(len(response[\"cargoquery\"])<500): break"
   ]
  },
  {
   "cell_type": "markdown",
   "id": "11607804-ad9e-4f9a-a569-18bcc46a8332",
   "metadata": {},
   "source": [
    "# Convert to Panda DataFrame and Clean Data"
   ]
  },
  {
   "cell_type": "code",
   "execution_count": null,
   "id": "875f75b2-718b-40df-a39d-88a9888e8ddf",
   "metadata": {
    "tags": []
   },
   "outputs": [],
   "source": [
    "#import pandas package\n",
    "import pandas as pd\n",
    "\n",
    "#convert to dataframe from dictionary\n",
    "df_Scoreboard = pd.DataFrame([ a['title'] for a in results ])\n",
    "#df_Scoreboard = pd.read_csv(\"Scoreboard.csv\")\n",
    "\n",
    "#drop unused column\n",
    "df_Scoreboard = df_Scoreboard.drop(\"Date__precision\", axis=1)\n",
    "\n",
    "#sort by date\n",
    "df_Scoreboard.sort_values(by = \"Date\",inplace=True)\n",
    "\n",
    "#split date and time\n",
    "df_Scoreboard[\"Date\"] = pd.to_datetime(df_Scoreboard[\"Date\"])\n",
    "df_Scoreboard[\"Year\"]= df_Scoreboard[\"Date\"].dt.year\n",
    "\n",
    "#convert Team 1 & 2 score as integers\n",
    "df_Scoreboard = df_Scoreboard.astype({'Team1Score':'int','Team2Score':'int'})\n",
    "\n",
    "#preview first few rows\n",
    "df_Scoreboard.head()\n",
    "\n",
    "#save as csv\n",
    "df_Scoreboard.to_csv(\"Scoreboard.csv\")"
   ]
  },
  {
   "cell_type": "markdown",
   "id": "4e1b3f9c-5a33-4a4a-be7c-a2d59657662f",
   "metadata": {},
   "source": [
    "# Get Worlds 2011 - 2022 Winners"
   ]
  },
  {
   "cell_type": "code",
   "execution_count": null,
   "id": "853bc0a4-573d-423f-89d0-5a1d3504ede3",
   "metadata": {
    "tags": []
   },
   "outputs": [],
   "source": [
    "\"\"\" \n",
    "    This is the website I used to figure out how to query API from Leaguepedia (storing all match statistics)\n",
    "\"\"\"\n",
    "#https://lol.fandom.com/wiki/Help:Leaguepedia_API\n",
    "import mwclient\n",
    "\n",
    "#This is the LeaguePedia website that stores all match and team statistics\n",
    "site = mwclient.Site('lol.fandom.com', path='/')\n",
    "\n",
    "\n",
    "\"\"\"\n",
    "    I searched for a quicker way to iterate for loops because it took too long to run\n",
    "\"\"\"\n",
    "#https://github.com/tqdm/tqdm \n",
    "from tqdm.notebook import tqdm\n",
    "\n",
    "#pre-set the leagues I want to look at - all those that will qualify to worlds\n",
    "leagues=['WCS']\n",
    "\n",
    "\n",
    "#create an empty list to store my dataset\n",
    "results = []\n",
    "\n",
    "#for loop to create my data base of match stats\n",
    "for league in tqdm(leagues):\n",
    "    off=0\n",
    "    \n",
    "    #while loop to retrive data thruogh API\n",
    "    while True:\n",
    "        #API query\n",
    "        response = site.api('cargoquery',\n",
    "                            offset=str(off),\n",
    "                            \n",
    "                            limit=\"max\",\n",
    "                            \n",
    "                            #retrive tables\n",
    "                            tables = \"ScoreboardGames=SG,Tournaments=T, Leagues=L, MatchSchedule=M\",\n",
    "                            \n",
    "                            #retrive fields as columns\n",
    "                            fields=\"T.Name=Tournament,\\\n",
    "                                    L.League_Short=League,\\\n",
    "                                    SG.DateTime_UTC=Date, SG.Gamelength, SG.Team1, SG.Team2, SG.Team1Score, SG.Team2Score,SG.WinTeam, M.Tab\", \n",
    "                            \n",
    "                            #set condition (only include specified leagues)\n",
    "                            where = 'L.League_Short = \"'+league+'\"',\n",
    "                            \n",
    "                            #similar to vlookup in the web pages\n",
    "                            join_on = \"SG.OverviewPage=T.OverviewPage, T.League = L.League, M.OverviewPage=T.OverviewPage\")\n",
    "        \n",
    "        #add to database\n",
    "        results += response[\"cargoquery\"] \n",
    "        \n",
    "        #speed\n",
    "        off=off+500\n",
    "        if(len(response[\"cargoquery\"])<500): break"
   ]
  },
  {
   "cell_type": "code",
   "execution_count": null,
   "id": "27b8f390-c714-4362-8955-3c898aca2605",
   "metadata": {
    "tags": []
   },
   "outputs": [],
   "source": [
    "#import pandas package\n",
    "import pandas as pd\n",
    "\n",
    "#convert to dataframe from dictionary\n",
    "df_Scoreboard_Worlds = pd.DataFrame([ a['title'] for a in results ])\n",
    "#df_Scoreboard = pd.read_csv(\"Scoreboard.csv\")\n",
    "\n",
    "#drop unused column\n",
    "df_Scoreboard_Worlds = df_Scoreboard_Worlds.drop(\"Date__precision\", axis=1)\n",
    "\n",
    "#sort by date\n",
    "df_Scoreboard_Worlds.sort_values(by = \"Date\",inplace=True)\n",
    "\n",
    "#split date and time\n",
    "df_Scoreboard_Worlds[\"Date\"] = pd.to_datetime(df_Scoreboard_Worlds[\"Date\"])\n",
    "df_Scoreboard_Worlds[\"Year\"]= df_Scoreboard_Worlds[\"Date\"].dt.year\n",
    "\n",
    "#convert Team 1 & 2 score as integers\n",
    "df_Scoreboard_Worlds = df_Scoreboard_Worlds.astype({'Team1Score':'int','Team2Score':'int'})\n",
    "\n",
    "#preview first few rows\n",
    "df_Scoreboard_Worlds.head()\n",
    "\n",
    "#save as csv\n",
    "df_Scoreboard_Worlds.to_csv(\"Scoreboard_Worlds.csv\")"
   ]
  },
  {
   "cell_type": "code",
   "execution_count": 3,
   "id": "debbf695-23a3-4719-bf2e-58c737469421",
   "metadata": {
    "tags": []
   },
   "outputs": [
    {
     "data": {
      "text/html": [
       "<div>\n",
       "<style scoped>\n",
       "    .dataframe tbody tr th:only-of-type {\n",
       "        vertical-align: middle;\n",
       "    }\n",
       "\n",
       "    .dataframe tbody tr th {\n",
       "        vertical-align: top;\n",
       "    }\n",
       "\n",
       "    .dataframe thead th {\n",
       "        text-align: right;\n",
       "    }\n",
       "</style>\n",
       "<table border=\"1\" class=\"dataframe\">\n",
       "  <thead>\n",
       "    <tr style=\"text-align: right;\">\n",
       "      <th></th>\n",
       "      <th>Unnamed: 0</th>\n",
       "      <th>Tournament</th>\n",
       "      <th>League</th>\n",
       "      <th>Date</th>\n",
       "      <th>Gamelength</th>\n",
       "      <th>Team1</th>\n",
       "      <th>Team2</th>\n",
       "      <th>Team1Score</th>\n",
       "      <th>Team2Score</th>\n",
       "      <th>WinTeam</th>\n",
       "      <th>Tab</th>\n",
       "      <th>Year</th>\n",
       "    </tr>\n",
       "  </thead>\n",
       "  <tbody>\n",
       "    <tr>\n",
       "      <th>0</th>\n",
       "      <td>49542</td>\n",
       "      <td>Worlds Season 1</td>\n",
       "      <td>WCS</td>\n",
       "      <td>2011-06-18 08:30:00</td>\n",
       "      <td>45:09</td>\n",
       "      <td>against All authority</td>\n",
       "      <td>Epik Gamer</td>\n",
       "      <td>0</td>\n",
       "      <td>1</td>\n",
       "      <td>Epik Gamer</td>\n",
       "      <td>Group Stage</td>\n",
       "      <td>2011</td>\n",
       "    </tr>\n",
       "    <tr>\n",
       "      <th>1</th>\n",
       "      <td>49562</td>\n",
       "      <td>Worlds Season 1</td>\n",
       "      <td>WCS</td>\n",
       "      <td>2011-06-18 08:30:00</td>\n",
       "      <td>45:09</td>\n",
       "      <td>against All authority</td>\n",
       "      <td>Epik Gamer</td>\n",
       "      <td>0</td>\n",
       "      <td>1</td>\n",
       "      <td>Epik Gamer</td>\n",
       "      <td>Finals</td>\n",
       "      <td>2011</td>\n",
       "    </tr>\n",
       "    <tr>\n",
       "      <th>2</th>\n",
       "      <td>49561</td>\n",
       "      <td>Worlds Season 1</td>\n",
       "      <td>WCS</td>\n",
       "      <td>2011-06-18 08:30:00</td>\n",
       "      <td>45:09</td>\n",
       "      <td>against All authority</td>\n",
       "      <td>Epik Gamer</td>\n",
       "      <td>0</td>\n",
       "      <td>1</td>\n",
       "      <td>Epik Gamer</td>\n",
       "      <td>Round 3</td>\n",
       "      <td>2011</td>\n",
       "    </tr>\n",
       "    <tr>\n",
       "      <th>3</th>\n",
       "      <td>49560</td>\n",
       "      <td>Worlds Season 1</td>\n",
       "      <td>WCS</td>\n",
       "      <td>2011-06-18 08:30:00</td>\n",
       "      <td>45:09</td>\n",
       "      <td>against All authority</td>\n",
       "      <td>Epik Gamer</td>\n",
       "      <td>0</td>\n",
       "      <td>1</td>\n",
       "      <td>Epik Gamer</td>\n",
       "      <td>Round 3</td>\n",
       "      <td>2011</td>\n",
       "    </tr>\n",
       "    <tr>\n",
       "      <th>4</th>\n",
       "      <td>49559</td>\n",
       "      <td>Worlds Season 1</td>\n",
       "      <td>WCS</td>\n",
       "      <td>2011-06-18 08:30:00</td>\n",
       "      <td>45:09</td>\n",
       "      <td>against All authority</td>\n",
       "      <td>Epik Gamer</td>\n",
       "      <td>0</td>\n",
       "      <td>1</td>\n",
       "      <td>Epik Gamer</td>\n",
       "      <td>Round 2</td>\n",
       "      <td>2011</td>\n",
       "    </tr>\n",
       "  </tbody>\n",
       "</table>\n",
       "</div>"
      ],
      "text/plain": [
       "   Unnamed: 0       Tournament League                 Date Gamelength  \\\n",
       "0       49542  Worlds Season 1    WCS  2011-06-18 08:30:00      45:09   \n",
       "1       49562  Worlds Season 1    WCS  2011-06-18 08:30:00      45:09   \n",
       "2       49561  Worlds Season 1    WCS  2011-06-18 08:30:00      45:09   \n",
       "3       49560  Worlds Season 1    WCS  2011-06-18 08:30:00      45:09   \n",
       "4       49559  Worlds Season 1    WCS  2011-06-18 08:30:00      45:09   \n",
       "\n",
       "                   Team1       Team2  Team1Score  Team2Score     WinTeam  \\\n",
       "0  against All authority  Epik Gamer           0           1  Epik Gamer   \n",
       "1  against All authority  Epik Gamer           0           1  Epik Gamer   \n",
       "2  against All authority  Epik Gamer           0           1  Epik Gamer   \n",
       "3  against All authority  Epik Gamer           0           1  Epik Gamer   \n",
       "4  against All authority  Epik Gamer           0           1  Epik Gamer   \n",
       "\n",
       "           Tab  Year  \n",
       "0  Group Stage  2011  \n",
       "1       Finals  2011  \n",
       "2      Round 3  2011  \n",
       "3      Round 3  2011  \n",
       "4      Round 2  2011  "
      ]
     },
     "execution_count": 3,
     "metadata": {},
     "output_type": "execute_result"
    }
   ],
   "source": [
    "#I want to get the winners of all the Worlds Championships only\n",
    "#I can't filter from 'WCS' league because it randomly includes regional finals\n",
    "#But the tournaments that begin with \"Worlds\" can be identified\n",
    "df_Scoreboard_Worlds2 = df_Scoreboard_Worlds[df_Scoreboard_Worlds[\"Tournament\"].str.startswith(\"Worlds\")]\n",
    "\n",
    "df_Scoreboard_Worlds2.head()\n",
    "#df_Scoreboard_Worlds2.to_csv(\"Scoreboard_Worlds2.csv\")"
   ]
  },
  {
   "cell_type": "code",
   "execution_count": null,
   "id": "eb7fb028-efb3-45ca-897c-07789883fe2c",
   "metadata": {},
   "outputs": [],
   "source": [
    "#define function to get winner of each match\n",
    "def get_Winner(year):\n",
    "    df_Scoreboard_Worlds2[df_Scoreboard_Worlds2[\"Year\"]==year]\n",
    "    return"
   ]
  },
  {
   "cell_type": "code",
   "execution_count": null,
   "id": "f0e63afe-f37c-49ea-a322-8b1d9a2b1943",
   "metadata": {
    "tags": []
   },
   "outputs": [],
   "source": [
    "#who won the most matches in Worlds Championship\n",
    "#most_wins = df_Scoreboard_Worlds2[\"WinTeam\"].value_counts()\n",
    "\n",
    "import seaborn as sns\n",
    "\n",
    "top_10_teams = (df_Scoreboard_Worlds2['WinTeam'].value_counts()).iloc[:10]\n",
    "\n",
    "#create bar chart of top 10 teams\n",
    "top_10_teams.plot(kind='bar',title='Top 10 Teams')"
   ]
  },
  {
   "cell_type": "code",
   "execution_count": null,
   "id": "057b7ef5-b35b-4bc7-9b52-fa2a351ed147",
   "metadata": {
    "tags": []
   },
   "outputs": [],
   "source": [
    "#create function to get winner of each season/worlds \n",
    "def get_winner(year):\n",
    "    finals = df_Scoreboard_Worlds2[df_Scoreboard_Worlds2[\"Tab\"]==\"Finals\"]\n",
    "    finals_year = finals[finals[\"Year\"]==year]\n",
    "    winner = finals_year[\"WinTeam\"].value_counts( ).idxmax()\n",
    "    return winner\n",
    "\n",
    "get_winner(2020)\n",
    "\n",
    "#create dictionary for Worlds Winners\n",
    "years = [i for i in range(2011,2023)]\n",
    "\n",
    "winners = []\n",
    "for i in range(2011,2023):\n",
    "    winners.append(get_winner(i))\n",
    "\n",
    "dict_worlds_winners = {}\n",
    "for i in range(len(keys)):\n",
    "    dict_worlds_winners[years[i]] = winners[i]\n",
    "\n",
    "#create dataframe from dictionary\n",
    "df_worlds_winners = pd.DataFrame(data = [dict_worlds_winners])\n",
    "df_worlds_winners = df_worlds_winners.transpose()\n",
    "df_worlds_winners.reset_index(inplace=True)\n",
    "df_worlds_winners.columns = [\"Year\",\"Winner\"]\n",
    "df_worlds_winners"
   ]
  },
  {
   "cell_type": "markdown",
   "id": "10f10c15-d5d6-44f7-b052-ae5e72cfdbc2",
   "metadata": {
    "tags": []
   },
   "source": [
    "# Imported all teams region data"
   ]
  },
  {
   "cell_type": "code",
   "execution_count": null,
   "id": "74a8749a-5bcc-4fea-9d17-d64483cd1d61",
   "metadata": {
    "tags": []
   },
   "outputs": [],
   "source": [
    "import mwclient\n",
    "site = mwclient.Site('lol.fandom.com', path='/')\n",
    "\n",
    "from tqdm.notebook import tqdm\n",
    "\n",
    "#pre-set the leagues I want to look at - all those that will qualify to worlds\n",
    "leagues=['GPL','IWCQ','WCS','LCS','LEC','LCK','LPL','CBLOL','LCL','LJL','LLA','OPL','PCS','VCS','TCL','LMS','LST','NA LCS','EU LCS','LLN','CLS']\n",
    "\n",
    "\n",
    "#create an empty list to store my dataset\n",
    "results = []\n",
    "\n",
    "#for loop to create my data base of match stats\n",
    "for league in tqdm(leagues):\n",
    "    off=0\n",
    "    \n",
    "    #while loop to retrive data thruogh API\n",
    "    while True:\n",
    "        #API query\n",
    "        response = site.api(\"cargoquery\",\n",
    "                            offset=str(off),\n",
    "                            \n",
    "                            limit=\"max\",\n",
    "                            \n",
    "                            #retrive tables\n",
    "                            tables = \"Teams=T\",\n",
    "                            \n",
    "                            #retrive fields as columns\n",
    "                            fields=\"T.Name=Team, T.Region=Region, T.Short=Team_abbr\")\n",
    "                            \n",
    "        #add to database\n",
    "        results += response[\"cargoquery\"] \n",
    "        \n",
    "        #speed\n",
    "        off=off+500\n",
    "        if(len(response[\"cargoquery\"])<500): break"
   ]
  },
  {
   "cell_type": "markdown",
   "id": "a11bcc9f-a89a-4214-8676-f1658958de15",
   "metadata": {
    "tags": []
   },
   "source": [
    "# Convert to Panda DataFrame and Clean Data"
   ]
  },
  {
   "cell_type": "code",
   "execution_count": null,
   "id": "c667bf63-abe4-44c4-ac17-cc4e489697ce",
   "metadata": {
    "tags": []
   },
   "outputs": [],
   "source": [
    "import pandas as pd\n",
    "df_TeamRegion = pd.DataFrame([ a['title'] for a in results ])\n",
    "#df_TeamRegion = pd.read_csv(\"TeamRegion.csv\", index_col = 0)\n",
    "\n",
    "\n",
    "df_TeamRegion = df_TeamRegion.dropna()\n",
    "df_TeamRegion = df_TeamRegion.drop_duplicates(subset=\"Team\")\n",
    "df_TeamRegion.head()\n",
    "\n",
    "#df_TeamRegion.to_csv(\"TeamRegion.csv\")"
   ]
  },
  {
   "cell_type": "code",
   "execution_count": null,
   "id": "57dc4ab3-6043-4f19-9732-a2750bea3ba8",
   "metadata": {
    "tags": []
   },
   "outputs": [],
   "source": [
    "df_worlds_winners2 = df_worlds_winners.merge(df_TeamRegion, left_on = \"Winner\", right_on = \"Team\", how = \"left\")\n",
    "df_worlds_winners2 = df_worlds_winners2.drop(columns=\"Team\")\n",
    "df_worlds_winners2"
   ]
  },
  {
   "cell_type": "code",
   "execution_count": null,
   "id": "a8a53022-e3a5-4a46-ba18-9f91c879353a",
   "metadata": {
    "tags": []
   },
   "outputs": [],
   "source": [
    "#DAMWON Gaming and DWG KIA both renamed - They are the same team...\n",
    "#need to add this detail in df\n",
    "df_TeamRegion2 = {\"Team\":\"DAMWON Gaming\",\n",
    "                  \"Region\":\"Korea\",\n",
    "                  \"Team_abbr\":\"DK\"}\n",
    "\n",
    "df_TeamRegion3 = {\"Team\":\"DWG KIA\",\n",
    "                  \"Region\":\"Korea\",\n",
    "                  \"Team_abbr\":\"DK\"}\n",
    "\n",
    "df_TeamRegion = df_TeamRegion.append(df_TeamRegion2, ignore_index=True)\n",
    "df_TeamRegion = df_TeamRegion.append(df_TeamRegion3, ignore_index=True)\n",
    "df_TeamRegion"
   ]
  },
  {
   "cell_type": "code",
   "execution_count": null,
   "id": "1831e456-2c81-49e2-8eb6-95f3a781d9c9",
   "metadata": {
    "tags": []
   },
   "outputs": [],
   "source": [
    "#repeat after adding the missing teams\n",
    "df_worlds_winners2 = df_worlds_winners.merge(df_TeamRegion, left_on = \"Winner\", right_on = \"Team\", how = \"left\")\n",
    "df_worlds_winners2 = df_worlds_winners2.drop(columns=\"Team\")\n",
    "df_worlds_winners2"
   ]
  },
  {
   "cell_type": "code",
   "execution_count": null,
   "id": "e3bfb348-ddd0-4b64-a53c-f9a498046959",
   "metadata": {
    "tags": []
   },
   "outputs": [],
   "source": [
    "#Plot frequencies of team winners\n",
    "import matplotlib.pyplot as plt\n",
    "fig, ax = plt.subplots()\n",
    "\n",
    "ax = df_worlds_winners2[\"Team_abbr\"].value_counts().plot(kind='bar',\n",
    "                                    figsize=(10,5),\n",
    "                                    title=\"LoL Worlds Winners - Teams\")\n",
    "ax.set_xlabel(\"Teams\")\n",
    "ax.set_ylabel(\"Frequency\")\n",
    "\n",
    "import numpy as np\n",
    "plt.yticks(np.arange(0, 4, 1))"
   ]
  },
  {
   "cell_type": "code",
   "execution_count": null,
   "id": "88dde8bf-41f6-4c47-91f8-fcc9d1bc55ef",
   "metadata": {
    "tags": []
   },
   "outputs": [],
   "source": [
    "#Plot frequencies of region winners\n",
    "import matplotlib.pyplot as plt\n",
    "fig, ax = plt.subplots()\n",
    "\n",
    "ax = df_worlds_winners2[\"Region\"].value_counts().plot(kind='bar',\n",
    "                                    figsize=(10,5),\n",
    "                                    title=\"LoL Worlds Winners - Regions\")\n",
    "ax.set_xlabel(\"Regions\")\n",
    "ax.set_ylabel(\"Frequency\")\n",
    "\n",
    "import numpy as np\n",
    "plt.yticks(np.arange(0, 10, 1))"
   ]
  },
  {
   "cell_type": "code",
   "execution_count": 19,
   "id": "52cee025-d9d8-441d-b7b3-6ca730451a17",
   "metadata": {
    "tags": []
   },
   "outputs": [],
   "source": [
    "#Get Participation of Regions\n",
    "\n",
    "df_TeamRegion = pd.read_csv(\"TeamRegion.csv\")\n",
    "\n",
    "#get unique regions\n",
    "df_TeamRegion[\"Region\"].unique()\n",
    "\n",
    "#there are 20 regions to be matched\n",
    "len(df_TeamRegion[\"Region\"].unique())\n",
    "\n",
    "#dictionary to match regions - from googling\n",
    "dict_regions_code = {\n",
    "    'Africa':'EMEA',\n",
    "    'Brazil':'BR',\n",
    "    'China':'CN',\n",
    "    'CIS':'INT',\n",
    "    'EMEA':'EMEA',\n",
    "    'Europe':'EMEA',\n",
    "    'International':'INT',\n",
    "    'Japan':'JP',\n",
    "    'Korea':'KR',\n",
    "    'LAN':'INT',\n",
    "    'LAS':'INT',\n",
    "    'Latin America':'LAT',\n",
    "    'LMS':'INT',\n",
    "    'MENA':'INT',\n",
    "    'North America':'NA',\n",
    "    'Oceania':'PCS',\n",
    "    'PCS':'PCS',\n",
    "    'SEA':'PCS',\n",
    "    'Turkey':'EMEA',\n",
    "    'Vietnam':'VN'\n",
    "}\n",
    "\n",
    "#len(dict_regions_code)\n",
    "#checked that there are 20 pairs of key:values here\n",
    "\n",
    "\n",
    "\n",
    "#define function to get region code from dictionary\n",
    "def get_region_code(region):\n",
    "    return dict_regions_code[region]\n"
   ]
  },
  {
   "cell_type": "code",
   "execution_count": 21,
   "id": "a6d0428c-0961-49a0-87e2-6d3b45dc0cc2",
   "metadata": {
    "tags": []
   },
   "outputs": [],
   "source": [
    "#create a dictionary to match teams to regions\n",
    "\n",
    "#SOURCE - https://www.skytowner.com/explore/converting_two_columns_into_a_dictionary_in_pandas_dataframe\n",
    "dict_regions = dict(zip(df_TeamRegion[\"Team\"], df_TeamRegion[\"Region\"]))\n",
    "\n",
    "#define function to get region code from dictionary\n",
    "def get_region(team):\n",
    "    if dict_regions[team]\n",
    "    return dict_regions[team]"
   ]
  },
  {
   "cell_type": "code",
   "execution_count": 25,
   "id": "fe18f03a-b8e3-422c-8d20-2f659300be55",
   "metadata": {
    "tags": []
   },
   "outputs": [
    {
     "data": {
      "text/plain": [
       "str"
      ]
     },
     "execution_count": 25,
     "metadata": {},
     "output_type": "execute_result"
    }
   ],
   "source": []
  },
  {
   "cell_type": "code",
   "execution_count": 22,
   "id": "3e320f34-89f0-49dc-843e-390abaa25546",
   "metadata": {
    "tags": []
   },
   "outputs": [
    {
     "ename": "KeyError",
     "evalue": "'NaJin Sword'",
     "output_type": "error",
     "traceback": [
      "\u001b[1;31m---------------------------------------------------------------------------\u001b[0m",
      "\u001b[1;31mKeyError\u001b[0m                                  Traceback (most recent call last)",
      "Cell \u001b[1;32mIn[22], line 3\u001b[0m\n\u001b[0;32m      1\u001b[0m \u001b[38;5;66;03m#add column for region code to Worlds Scoreboard\u001b[39;00m\n\u001b[0;32m      2\u001b[0m \u001b[38;5;28;01mfor\u001b[39;00m index,row \u001b[38;5;129;01min\u001b[39;00m df_Scoreboard_Worlds2\u001b[38;5;241m.\u001b[39miterrows():\n\u001b[1;32m----> 3\u001b[0m     df_Scoreboard_Worlds2[\u001b[38;5;124m\"\u001b[39m\u001b[38;5;124mRegion\u001b[39m\u001b[38;5;124m\"\u001b[39m] \u001b[38;5;241m=\u001b[39m \u001b[43mdf_Scoreboard_Worlds2\u001b[49m\u001b[43m[\u001b[49m\u001b[38;5;124;43m\"\u001b[39;49m\u001b[38;5;124;43mTeam1\u001b[39;49m\u001b[38;5;124;43m\"\u001b[39;49m\u001b[43m]\u001b[49m\u001b[38;5;241;43m.\u001b[39;49m\u001b[43mapply\u001b[49m\u001b[43m(\u001b[49m\u001b[43mget_region\u001b[49m\u001b[43m)\u001b[49m\n\u001b[0;32m      5\u001b[0m df_Scoreboard_Worlds2\u001b[38;5;241m.\u001b[39mhead()\n\u001b[0;32m      7\u001b[0m \u001b[38;5;66;03m#df_Scoreboard_Worlds2 = df_Scoreboard_Worlds2.merge(df_TeamRegion, on = \"\")\u001b[39;00m\n",
      "File \u001b[1;32m~\\AppData\\Roaming\\jupyterlab-desktop\\jlab_server\\lib\\site-packages\\pandas\\core\\series.py:4771\u001b[0m, in \u001b[0;36mSeries.apply\u001b[1;34m(self, func, convert_dtype, args, **kwargs)\u001b[0m\n\u001b[0;32m   4661\u001b[0m \u001b[38;5;28;01mdef\u001b[39;00m \u001b[38;5;21mapply\u001b[39m(\n\u001b[0;32m   4662\u001b[0m     \u001b[38;5;28mself\u001b[39m,\n\u001b[0;32m   4663\u001b[0m     func: AggFuncType,\n\u001b[1;32m   (...)\u001b[0m\n\u001b[0;32m   4666\u001b[0m     \u001b[38;5;241m*\u001b[39m\u001b[38;5;241m*\u001b[39mkwargs,\n\u001b[0;32m   4667\u001b[0m ) \u001b[38;5;241m-\u001b[39m\u001b[38;5;241m>\u001b[39m DataFrame \u001b[38;5;241m|\u001b[39m Series:\n\u001b[0;32m   4668\u001b[0m \u001b[38;5;250m    \u001b[39m\u001b[38;5;124;03m\"\"\"\u001b[39;00m\n\u001b[0;32m   4669\u001b[0m \u001b[38;5;124;03m    Invoke function on values of Series.\u001b[39;00m\n\u001b[0;32m   4670\u001b[0m \n\u001b[1;32m   (...)\u001b[0m\n\u001b[0;32m   4769\u001b[0m \u001b[38;5;124;03m    dtype: float64\u001b[39;00m\n\u001b[0;32m   4770\u001b[0m \u001b[38;5;124;03m    \"\"\"\u001b[39;00m\n\u001b[1;32m-> 4771\u001b[0m     \u001b[38;5;28;01mreturn\u001b[39;00m \u001b[43mSeriesApply\u001b[49m\u001b[43m(\u001b[49m\u001b[38;5;28;43mself\u001b[39;49m\u001b[43m,\u001b[49m\u001b[43m \u001b[49m\u001b[43mfunc\u001b[49m\u001b[43m,\u001b[49m\u001b[43m \u001b[49m\u001b[43mconvert_dtype\u001b[49m\u001b[43m,\u001b[49m\u001b[43m \u001b[49m\u001b[43margs\u001b[49m\u001b[43m,\u001b[49m\u001b[43m \u001b[49m\u001b[43mkwargs\u001b[49m\u001b[43m)\u001b[49m\u001b[38;5;241;43m.\u001b[39;49m\u001b[43mapply\u001b[49m\u001b[43m(\u001b[49m\u001b[43m)\u001b[49m\n",
      "File \u001b[1;32m~\\AppData\\Roaming\\jupyterlab-desktop\\jlab_server\\lib\\site-packages\\pandas\\core\\apply.py:1123\u001b[0m, in \u001b[0;36mSeriesApply.apply\u001b[1;34m(self)\u001b[0m\n\u001b[0;32m   1120\u001b[0m     \u001b[38;5;28;01mreturn\u001b[39;00m \u001b[38;5;28mself\u001b[39m\u001b[38;5;241m.\u001b[39mapply_str()\n\u001b[0;32m   1122\u001b[0m \u001b[38;5;66;03m# self.f is Callable\u001b[39;00m\n\u001b[1;32m-> 1123\u001b[0m \u001b[38;5;28;01mreturn\u001b[39;00m \u001b[38;5;28;43mself\u001b[39;49m\u001b[38;5;241;43m.\u001b[39;49m\u001b[43mapply_standard\u001b[49m\u001b[43m(\u001b[49m\u001b[43m)\u001b[49m\n",
      "File \u001b[1;32m~\\AppData\\Roaming\\jupyterlab-desktop\\jlab_server\\lib\\site-packages\\pandas\\core\\apply.py:1174\u001b[0m, in \u001b[0;36mSeriesApply.apply_standard\u001b[1;34m(self)\u001b[0m\n\u001b[0;32m   1172\u001b[0m     \u001b[38;5;28;01melse\u001b[39;00m:\n\u001b[0;32m   1173\u001b[0m         values \u001b[38;5;241m=\u001b[39m obj\u001b[38;5;241m.\u001b[39mastype(\u001b[38;5;28mobject\u001b[39m)\u001b[38;5;241m.\u001b[39m_values\n\u001b[1;32m-> 1174\u001b[0m         mapped \u001b[38;5;241m=\u001b[39m \u001b[43mlib\u001b[49m\u001b[38;5;241;43m.\u001b[39;49m\u001b[43mmap_infer\u001b[49m\u001b[43m(\u001b[49m\n\u001b[0;32m   1175\u001b[0m \u001b[43m            \u001b[49m\u001b[43mvalues\u001b[49m\u001b[43m,\u001b[49m\n\u001b[0;32m   1176\u001b[0m \u001b[43m            \u001b[49m\u001b[43mf\u001b[49m\u001b[43m,\u001b[49m\n\u001b[0;32m   1177\u001b[0m \u001b[43m            \u001b[49m\u001b[43mconvert\u001b[49m\u001b[38;5;241;43m=\u001b[39;49m\u001b[38;5;28;43mself\u001b[39;49m\u001b[38;5;241;43m.\u001b[39;49m\u001b[43mconvert_dtype\u001b[49m\u001b[43m,\u001b[49m\n\u001b[0;32m   1178\u001b[0m \u001b[43m        \u001b[49m\u001b[43m)\u001b[49m\n\u001b[0;32m   1180\u001b[0m \u001b[38;5;28;01mif\u001b[39;00m \u001b[38;5;28mlen\u001b[39m(mapped) \u001b[38;5;129;01mand\u001b[39;00m \u001b[38;5;28misinstance\u001b[39m(mapped[\u001b[38;5;241m0\u001b[39m], ABCSeries):\n\u001b[0;32m   1181\u001b[0m     \u001b[38;5;66;03m# GH#43986 Need to do list(mapped) in order to get treated as nested\u001b[39;00m\n\u001b[0;32m   1182\u001b[0m     \u001b[38;5;66;03m#  See also GH#25959 regarding EA support\u001b[39;00m\n\u001b[0;32m   1183\u001b[0m     \u001b[38;5;28;01mreturn\u001b[39;00m obj\u001b[38;5;241m.\u001b[39m_constructor_expanddim(\u001b[38;5;28mlist\u001b[39m(mapped), index\u001b[38;5;241m=\u001b[39mobj\u001b[38;5;241m.\u001b[39mindex)\n",
      "File \u001b[1;32m~\\AppData\\Roaming\\jupyterlab-desktop\\jlab_server\\lib\\site-packages\\pandas\\_libs\\lib.pyx:2924\u001b[0m, in \u001b[0;36mpandas._libs.lib.map_infer\u001b[1;34m()\u001b[0m\n",
      "Cell \u001b[1;32mIn[21], line 8\u001b[0m, in \u001b[0;36mget_region\u001b[1;34m(team)\u001b[0m\n\u001b[0;32m      7\u001b[0m \u001b[38;5;28;01mdef\u001b[39;00m \u001b[38;5;21mget_region\u001b[39m(team):\n\u001b[1;32m----> 8\u001b[0m     \u001b[38;5;28;01mreturn\u001b[39;00m \u001b[43mdict_regions\u001b[49m\u001b[43m[\u001b[49m\u001b[43mteam\u001b[49m\u001b[43m]\u001b[49m\n",
      "\u001b[1;31mKeyError\u001b[0m: 'NaJin Sword'"
     ]
    }
   ],
   "source": [
    "#add column for region code to Worlds Scoreboard\n",
    "for index,row in df_Scoreboard_Worlds2.iterrows():\n",
    "    df_Scoreboard_Worlds2[\"Region\"] = df_Scoreboard_Worlds2[\"Team1\"].apply(get_region)\n",
    "    \n",
    "df_Scoreboard_Worlds2.head()\n",
    "\n",
    "#df_Scoreboard_Worlds2 = df_Scoreboard_Worlds2.merge(df_TeamRegion, on = \"\")"
   ]
  },
  {
   "cell_type": "code",
   "execution_count": null,
   "id": "61b1a897-c9a8-4fa4-b38a-54cc0c8348da",
   "metadata": {},
   "outputs": [],
   "source": []
  },
  {
   "cell_type": "code",
   "execution_count": null,
   "id": "54905293-5ce4-45e9-862b-2e1d06fd2038",
   "metadata": {},
   "outputs": [],
   "source": []
  },
  {
   "cell_type": "code",
   "execution_count": null,
   "id": "45ad4a18-8151-49a5-802e-161247e31e7a",
   "metadata": {},
   "outputs": [],
   "source": []
  },
  {
   "cell_type": "code",
   "execution_count": null,
   "id": "56135e96-adc0-408a-b0f9-8ce9f9888392",
   "metadata": {
    "tags": []
   },
   "outputs": [],
   "source": [
    "#add column for region code to Worlds Scoreboard\n",
    "for index,row in df_Scoreboard_Worlds2.iterrows():\n",
    "    df_Scoreboard_Worlds2[\"Region_code\"] = df_TeamRegion[\"Region\"].apply(get_region_code,axis=1)\n",
    "    \n",
    "df_Scoreboard_Worlds2.head()"
   ]
  },
  {
   "cell_type": "code",
   "execution_count": null,
   "id": "2348949e-a2f0-4363-a3de-ea9588aec4a6",
   "metadata": {},
   "outputs": [],
   "source": []
  },
  {
   "cell_type": "code",
   "execution_count": null,
   "id": "a05af796-f3ef-4954-8b5f-f5f041a96e90",
   "metadata": {},
   "outputs": [],
   "source": []
  },
  {
   "cell_type": "code",
   "execution_count": null,
   "id": "a83b3107-b37c-4612-8d55-4b566a13d4a3",
   "metadata": {},
   "outputs": [],
   "source": []
  },
  {
   "cell_type": "code",
   "execution_count": null,
   "id": "2503661e-e2ee-40d4-bcb2-0d74f1025699",
   "metadata": {},
   "outputs": [],
   "source": []
  },
  {
   "cell_type": "code",
   "execution_count": null,
   "id": "bae6d75f-9a2c-4357-b4b4-90326af10cc3",
   "metadata": {},
   "outputs": [],
   "source": []
  },
  {
   "cell_type": "code",
   "execution_count": null,
   "id": "7ea5fc4a-c590-424f-9352-b49d87ba08e1",
   "metadata": {},
   "outputs": [],
   "source": []
  },
  {
   "cell_type": "code",
   "execution_count": null,
   "id": "1e98bb70-cac3-42de-a6af-c91266854ae8",
   "metadata": {},
   "outputs": [],
   "source": []
  },
  {
   "cell_type": "code",
   "execution_count": null,
   "id": "21e2a984-c515-42fa-9a60-b7b708fad36b",
   "metadata": {
    "collapsed": true,
    "jupyter": {
     "outputs_hidden": true
    },
    "tags": []
   },
   "outputs": [],
   "source": []
  },
  {
   "cell_type": "code",
   "execution_count": null,
   "id": "0e26ce87-e93f-434d-9482-8904630244e6",
   "metadata": {
    "tags": []
   },
   "outputs": [],
   "source": [
    "#############################################################################################################################"
   ]
  },
  {
   "cell_type": "code",
   "execution_count": null,
   "id": "239149c7-7c4b-40df-8681-f9dbd40785e8",
   "metadata": {
    "tags": []
   },
   "outputs": [],
   "source": [
    "df_team1 = df_Scoreboard.merge(df_TeamRegion, left_on = 'Team1', right_on = 'Team', how = 'left')\n",
    "df_team1.rename(columns = {'Team':'Team1','Region':'Region_T1','Team_abbr':'T1_code'}, inplace = True)\n",
    "df_team1.head()\n",
    "#df_team1.to_csv(\"Merged Team 1.csv\")"
   ]
  },
  {
   "cell_type": "code",
   "execution_count": null,
   "id": "ca6286ea-7851-43c0-b14c-1f20e1576aef",
   "metadata": {
    "tags": []
   },
   "outputs": [],
   "source": [
    "#create dictionary to match start and end of league season\n",
    "#season dates found on Leaguepedia\n",
    "dict_match_season = {\n",
    "    2023:{'Start':'2022-11-11 00:00:00','End':'2023-10-01 00:00:00'},\n",
    "    2022:{'Start':'2021-11-11 00:00:00','End':'2022-10-01 00:00:00'},  \n",
    "    2021:{'Start':'2020-11-11 00:00:00','End':'2021-10-01 00:00:00'},  \n",
    "    2020:{'Start':'2019-11-11 00:00:00','End':'2020-10-01 00:00:00'},  \n",
    "    2019:{'Start':'2018-11-04 00:00:00','End':'2019-10-09 00:00:00'},\n",
    "    2018:{'Start':'2017-11-05 00:00:00','End':'2018-10-08 00:00:00'},\n",
    "    2017:{'Start':'2016-10-30 00:00:00','End':'2017-09-30 00:00:00'},\n",
    "    2016:{'Start':'2015-10-30 00:00:00','End':'2016-09-30 00:00:00'},\n",
    "    2015:{'Start':'2014-10-30 00:00:00','End':'2015-09-30 00:00:00'},\n",
    "    2014:{'Start':'2013-10-30 00:00:00','End':'2014-09-30 00:00:00'},\n",
    "    2013:{'Start':'2012-10-30 00:00:00','End':'2013-09-30 00:00:00'},\n",
    "    2012:{'Start':'2011-10-30 00:00:00','End':'2012-09-30 00:00:00'},\n",
    "}"
   ]
  },
  {
   "cell_type": "code",
   "execution_count": null,
   "id": "8c2467bb-c93f-403c-940c-203192124d47",
   "metadata": {
    "tags": []
   },
   "outputs": [],
   "source": [
    "df_team1_2 = df_Scoreboard.merge(df_TeamRegion, left_on = 'Team1', right_on = 'Team', how = 'left')#\\\n",
    "                            #.merge(df_TeamRegion,left_on = 'Team2', right_on = 'Team', how = 'left', suffixes=(\"_T1\",\"_T2\"))\n",
    "#df_team1_2.head()\n",
    "df_team1_2.to_csv(\"Merged Teams.csv\")"
   ]
  },
  {
   "cell_type": "code",
   "execution_count": null,
   "id": "4a19f27c-a23e-428c-a9e1-c5c126088e44",
   "metadata": {
    "tags": []
   },
   "outputs": [],
   "source": [
    "#create dictionary for all match stats within the season \n",
    "dict_match_data_per_season=dict()\n",
    "for date in dict_match_season:\n",
    "    dict_match_data_per_season[date] = df_Scoreboard[\n",
    "        (df_Scoreboard.Date>dict_match_season[date]['Start'])&\n",
    "        (df_Scoreboard.Date<dict_match_season[date]['End'])]"
   ]
  },
  {
   "cell_type": "code",
   "execution_count": null,
   "id": "7fb9830e-caee-47c2-8449-a54658b6cf0b",
   "metadata": {
    "tags": []
   },
   "outputs": [],
   "source": [
    "#get match data per season\n",
    "df_match_data_per_season = pd.DataFrame(dict_match_data_per_season[2015])\n",
    "df_match_data_per_season.head()\n"
   ]
  },
  {
   "cell_type": "code",
   "execution_count": null,
   "id": "292ea83a-6d74-4f36-a4ac-86797947570a",
   "metadata": {
    "tags": []
   },
   "outputs": [],
   "source": [
    "#get leagues - without duplicates\n",
    "dict_match_data_per_season[2022][\"League\"].unique()"
   ]
  },
  {
   "cell_type": "code",
   "execution_count": null,
   "id": "6e7b5091-2cd6-48a7-b7e3-1d951e21d4dc",
   "metadata": {
    "tags": []
   },
   "outputs": [],
   "source": [
    "#because LoL changed the league names, I create a dictionary to match the old and new league names\n",
    "#alias = {\n",
    "dict_league_names = {\n",
    "    'GPL': 'PCS', \n",
    "    'NA LCS': 'LCS', \n",
    "    'EU LCS': 'LEC', \n",
    "    'LPL': 'LPL', \n",
    "    'TCL': 'PCS', \n",
    "    'LJL': 'LJL', \n",
    "    'CBLOL': 'CBLOL',\n",
    "    'LMS': 'PCS', \n",
    "    'OPL': 'OPL', \n",
    "    'CLS': 'LLA', \n",
    "    'LCK': 'LCK', \n",
    "    'LCL': 'LCL', \n",
    "    'LLN': 'LLA', \n",
    "    'VCS': 'PCS', \n",
    "    'LEC': 'LEC',\n",
    "    'LLA': 'LLA', \n",
    "    'LCS': 'LCS', \n",
    "    'PCS': 'PCS',\n",
    "    'LST': 'PCS'\n",
    "}\n",
    "list_regions = list(set([dict_league_names[name] for name in dict_league_names]))"
   ]
  },
  {
   "cell_type": "code",
   "execution_count": null,
   "id": "36808f48-da36-4b9e-85a1-b674bb504f74",
   "metadata": {},
   "outputs": [],
   "source": [
    "#create a dictionary for Worlds Stats \n",
    "dict_Worlds_data=dict()\n",
    "\n",
    "#create a dictionary for Groups Data\n",
    "dict_groups_data=dict()\n",
    "\n",
    "#for all years in stats 2011 - 2022:\n",
    "for year in range (2011, 2023):\n",
    "    \n",
    "    response = site.api('cargoquery',\n",
    "                        limit=\"max\",\n",
    "                        tables = \"MatchSchedule=M\",\n",
    "                        fields=\"M.Team1Final=Team1, M.Team2Final=Team2, M.Team1Score, M.Team2Score, M.Tab\",\n",
    "                        where = 'M.OverviewPage = \"'+str(year)+' Season World Championship/Main Event\"')\n",
    "    \n",
    "    #create dictionary for LoL Worlds Championship match stats\n",
    "    dict_Worlds_data[year] = pd.DataFrame ( [ a['title'] for a in response['cargoquery'] ] )\n",
    "    \n",
    "    response = site.api('cargoquery',\n",
    "                        limit=\"max\",\n",
    "                        tables = \"TournamentGroups=T\",\n",
    "                        fields=\"T.Team, T.GroupName\",\n",
    "                        where = 'T.OverviewPage = \"'+str(year)+' Season World Championship/Main Event\"')\n",
    "    \n",
    "    #create dictionary for Groups Data\n",
    "    dict_groups_data[year] = pd.DataFrame ( [ a['title'] for a in response['cargoquery'] ] )"
   ]
  },
  {
   "cell_type": "code",
   "execution_count": null,
   "id": "37da3b65-2ae2-4655-9c9e-4da2c4f41e9a",
   "metadata": {
    "tags": []
   },
   "outputs": [],
   "source": [
    "dict_Worlds_data"
   ]
  },
  {
   "cell_type": "code",
   "execution_count": null,
   "id": "c53da966-23a5-4999-b5b9-9ddd14286872",
   "metadata": {},
   "outputs": [],
   "source": [
    "def WhoWon(row):\n",
    "    if row[\"Team1Score\"]>row[\"Team2Score\"]: return row[\"Team1\"]\n",
    "    else: return row[\"Team2\"]"
   ]
  },
  {
   "cell_type": "code",
   "execution_count": null,
   "id": "ec3baf99-09c1-4bf8-9747-6a607ffa6cd4",
   "metadata": {},
   "outputs": [],
   "source": []
  },
  {
   "cell_type": "code",
   "execution_count": null,
   "id": "53f5d054-1eb3-49f2-9d5b-591376f3539c",
   "metadata": {
    "tags": []
   },
   "outputs": [],
   "source": [
    "df_KnockoutStage = dict() # Will contain the matches for the quarterfinals,semifinals and finals\n",
    "for year in range(2017,2023):\n",
    "    dict_groups_data[year][\"Wins\"] = 0\n",
    "    df_KnockoutStage[year] = pd.DataFrame([], columns=dict_Worlds_data[year].columns)\n",
    "    for index,row in dict_Worlds_data[year].iterrows():\n",
    "        if (row.Tab not in ['Quarterfinals', 'Semifinals', 'Finals']):\n",
    "            winner_row = dict_groups_data[year].Team == WhoWon(row)\n",
    "            dict_groups_data[year].Wins[winner_row] += 1\n",
    "        else:\n",
    "            df_KnockoutStage[year] = df_KnockoutStage[year].append(row)\n",
    "    df_KnockoutStage[year][\"Winner\"] = df_KnockoutStage[year].apply(WhoWon,axis=1)"
   ]
  },
  {
   "cell_type": "code",
   "execution_count": null,
   "id": "b52df2c4-e933-4fb9-ab83-ec89723b46d8",
   "metadata": {
    "tags": []
   },
   "outputs": [],
   "source": [
    "df_KnockoutStage[2022]"
   ]
  },
  {
   "cell_type": "code",
   "execution_count": null,
   "id": "d1bf76de-1ea2-4180-ab82-a4c47600824c",
   "metadata": {},
   "outputs": [],
   "source": [
    "df_Worlds_Winners = dict() # Will contain the matches for the quarterfinals,semifinals and finals\n",
    "for year in range(2015,2023):\n",
    "    dict_groups_data[year][\"Wins\"] = 0\n",
    "    df_KnockoutStage[year] = pd.DataFrame([], columns=dict_Worlds_data[year].columns)\n",
    "    for index,row in dict_Worlds_data[year].iterrows():\n",
    "        if (row.Tab not in ['Quarterfinals', 'Semifinals', 'Finals']):\n",
    "            winner_row = dict_groups_data[year].Team == WhoWon(row)\n",
    "            dict_groups_data[year].Wins[winner_row] += 1\n",
    "        else:\n",
    "            df_KnockoutStage[year] = df_KnockoutStage[year].append(row)\n",
    "    df_KnockoutStage[year][\"Winner\"] = df_KnockoutStage[year].apply(WhoWon,axis=1)"
   ]
  },
  {
   "cell_type": "code",
   "execution_count": null,
   "id": "03c58dfb-2ede-4263-814c-c9c43ee80050",
   "metadata": {},
   "outputs": [],
   "source": []
  }
 ],
 "metadata": {
  "kernelspec": {
   "display_name": "Python 3 (ipykernel)",
   "language": "python",
   "name": "python3"
  },
  "language_info": {
   "codemirror_mode": {
    "name": "ipython",
    "version": 3
   },
   "file_extension": ".py",
   "mimetype": "text/x-python",
   "name": "python",
   "nbconvert_exporter": "python",
   "pygments_lexer": "ipython3",
   "version": "3.8.16"
  }
 },
 "nbformat": 4,
 "nbformat_minor": 5
}
