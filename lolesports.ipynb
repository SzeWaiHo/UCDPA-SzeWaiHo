{
 "cells": [
  {
   "cell_type": "markdown",
   "metadata": {},
   "source": [
    "# Gathering LoLEsports data"
   ]
  },
  {
   "cell_type": "markdown",
   "metadata": {},
   "source": [
    "Following the shutdown of some important API from the lolesports website that allowed us to get hashes to gather data from official matches, the solution is to rely on Leaguepedia which has everything we need."
   ]
  },
  {
   "cell_type": "markdown",
   "metadata": {},
   "source": [
    "We will use the [leaguepdia-parser](https://pypi.org/project/leaguepedia-parser/) package to gather what we need from Leaguepedia."
   ]
  },
  {
   "cell_type": "markdown",
   "metadata": {},
   "source": [
    "## Find the tournament"
   ]
  },
  {
   "cell_type": "code",
   "execution_count": 1,
   "metadata": {
    "tags": []
   },
   "outputs": [
    {
     "data": {
      "text/plain": [
       "[None,\n",
       " 'Africa',\n",
       " 'Asia',\n",
       " 'Brazil',\n",
       " 'China',\n",
       " 'CIS',\n",
       " 'EMEA',\n",
       " 'Europe',\n",
       " 'International',\n",
       " 'Japan',\n",
       " 'Korea',\n",
       " 'LAN',\n",
       " 'LAS',\n",
       " 'Latin America',\n",
       " 'LMS',\n",
       " 'MENA',\n",
       " 'North America',\n",
       " 'Oceania',\n",
       " 'PCS',\n",
       " 'SEA',\n",
       " 'Turkey',\n",
       " 'Unknown',\n",
       " 'Vietnam',\n",
       " 'Wildcard']"
      ]
     },
     "execution_count": 1,
     "metadata": {},
     "output_type": "execute_result"
    }
   ],
   "source": [
    "import leaguepedia_parser as lp\n",
    "\n",
    "lp.get_regions()"
   ]
  },
  {
   "cell_type": "markdown",
   "metadata": {},
   "source": [
    "Pick your favorite region to get the list of tournaments in this region : "
   ]
  },
  {
   "cell_type": "code",
   "execution_count": 2,
   "metadata": {
    "tags": []
   },
   "outputs": [
    {
     "ename": "TypeError",
     "evalue": "'LeaguepediaTournament' object is not subscriptable",
     "output_type": "error",
     "traceback": [
      "\u001b[1;31m---------------------------------------------------------------------------\u001b[0m",
      "\u001b[1;31mTypeError\u001b[0m                                 Traceback (most recent call last)",
      "Cell \u001b[1;32mIn[2], line 2\u001b[0m\n\u001b[0;32m      1\u001b[0m tournaments \u001b[38;5;241m=\u001b[39m lp\u001b[38;5;241m.\u001b[39mget_tournaments(\u001b[38;5;124m'\u001b[39m\u001b[38;5;124mEurope\u001b[39m\u001b[38;5;124m'\u001b[39m, year\u001b[38;5;241m=\u001b[39m\u001b[38;5;241m2020\u001b[39m)\n\u001b[1;32m----> 2\u001b[0m [t[\u001b[38;5;124m\"\u001b[39m\u001b[38;5;124mname\u001b[39m\u001b[38;5;124m\"\u001b[39m] \u001b[38;5;28;01mfor\u001b[39;00m t \u001b[38;5;129;01min\u001b[39;00m tournaments]\n",
      "Cell \u001b[1;32mIn[2], line 2\u001b[0m, in \u001b[0;36m<listcomp>\u001b[1;34m(.0)\u001b[0m\n\u001b[0;32m      1\u001b[0m tournaments \u001b[38;5;241m=\u001b[39m lp\u001b[38;5;241m.\u001b[39mget_tournaments(\u001b[38;5;124m'\u001b[39m\u001b[38;5;124mEurope\u001b[39m\u001b[38;5;124m'\u001b[39m, year\u001b[38;5;241m=\u001b[39m\u001b[38;5;241m2020\u001b[39m)\n\u001b[1;32m----> 2\u001b[0m [\u001b[43mt\u001b[49m\u001b[43m[\u001b[49m\u001b[38;5;124;43m\"\u001b[39;49m\u001b[38;5;124;43mname\u001b[39;49m\u001b[38;5;124;43m\"\u001b[39;49m\u001b[43m]\u001b[49m \u001b[38;5;28;01mfor\u001b[39;00m t \u001b[38;5;129;01min\u001b[39;00m tournaments]\n",
      "\u001b[1;31mTypeError\u001b[0m: 'LeaguepediaTournament' object is not subscriptable"
     ]
    }
   ],
   "source": [
    "tournaments = lp.get_tournaments('Europe', year=2020)\n",
    "[t[\"name\"] for t in tournaments]"
   ]
  },
  {
   "cell_type": "markdown",
   "metadata": {},
   "source": [
    "We will create a custom method for the leaguepedia_parser to get only the information we need : "
   ]
  },
  {
   "cell_type": "code",
   "execution_count": 3,
   "metadata": {},
   "outputs": [],
   "source": [
    "import types\n",
    "from leaguepedia_parser.site.leaguepedia import leaguepedia\n",
    "\n",
    "def get_games_hashes(self, tournament_name=None, **kwargs):\n",
    "    \"\"\"\n",
    "    Returns the list server, gameId and hashes of games played in a tournament.\n",
    "\n",
    "    :param tournament_name\n",
    "                Name of the tournament, which can be gotten from get_tournaments().\n",
    "    :return:\n",
    "                A list of game dictionaries.\n",
    "    \"\"\"\n",
    "    games = leaguepedia.query(tables='ScoreboardGames',\n",
    "                             fields='Tournament = tournament, '\n",
    "                                    'MatchHistory = match_history_url, ',\n",
    "                             where=\"ScoreboardGames.Tournament='{}'\".format(tournament_name),\n",
    "                             order_by=\"ScoreboardGames.DateTime_UTC\",\n",
    "                             **kwargs)\n",
    "    data = [\n",
    "        {\n",
    "            \"tournament\":game[\"tournament\"],\n",
    "            \"server\":game[\"match_history_url\"].split(\"/\")[5],\n",
    "            \"gameId\":game[\"match_history_url\"].split(\"/\")[6].split(\"?gameHash=\")[0],\n",
    "            \"hash\":game[\"match_history_url\"].split(\"/\")[6].split(\"?gameHash=\")[1],\n",
    "        }\n",
    "        for game in games\n",
    "    ]\n",
    "    return data\n",
    "\n",
    "lp.get_games_hashes = types.MethodType(get_games_hashes, lp)"
   ]
  },
  {
   "cell_type": "markdown",
   "metadata": {},
   "source": [
    "## Getting the hashes"
   ]
  },
  {
   "cell_type": "markdown",
   "metadata": {},
   "source": [
    "Getting the hashes for LEC 2020 Summer : "
   ]
  },
  {
   "cell_type": "code",
   "execution_count": 5,
   "metadata": {
    "tags": []
   },
   "outputs": [
    {
     "ename": "SyntaxError",
     "evalue": "invalid syntax (2281199616.py, line 1)",
     "output_type": "error",
     "traceback": [
      "\u001b[1;36m  Cell \u001b[1;32mIn[5], line 1\u001b[1;36m\u001b[0m\n\u001b[1;33m    games = lp.get_games_hashes(tournaments[3]['name']) games[:3]\u001b[0m\n\u001b[1;37m                                                        ^\u001b[0m\n\u001b[1;31mSyntaxError\u001b[0m\u001b[1;31m:\u001b[0m invalid syntax\n"
     ]
    }
   ],
   "source": [
    "games = lp.get_games_hashes(tournaments[3]['name']) games[:3]"
   ]
  },
  {
   "cell_type": "markdown",
   "metadata": {},
   "source": [
    "Requesting the match data from all those games : "
   ]
  },
  {
   "cell_type": "code",
   "execution_count": 3,
   "metadata": {
    "tags": []
   },
   "outputs": [
    {
     "ename": "NameError",
     "evalue": "name 'games' is not defined",
     "output_type": "error",
     "traceback": [
      "\u001b[1;31m---------------------------------------------------------------------------\u001b[0m",
      "\u001b[1;31mNameError\u001b[0m                                 Traceback (most recent call last)",
      "Cell \u001b[1;32mIn[3], line 8\u001b[0m\n\u001b[0;32m      4\u001b[0m base_match_history_stats_timeline_url \u001b[38;5;241m=\u001b[39m \u001b[38;5;124m\"\u001b[39m\u001b[38;5;124mhttps://acs.leagueoflegends.com/v1/stats/game/\u001b[39m\u001b[38;5;132;01m{}\u001b[39;00m\u001b[38;5;124m/\u001b[39m\u001b[38;5;132;01m{}\u001b[39;00m\u001b[38;5;124m/timeline?gameHash=\u001b[39m\u001b[38;5;132;01m{}\u001b[39;00m\u001b[38;5;124m\"\u001b[39m\n\u001b[0;32m      6\u001b[0m all_games_data \u001b[38;5;241m=\u001b[39m []\n\u001b[1;32m----> 8\u001b[0m \u001b[38;5;28;01mfor\u001b[39;00m g \u001b[38;5;129;01min\u001b[39;00m \u001b[43mgames\u001b[49m:\n\u001b[0;32m      9\u001b[0m     url \u001b[38;5;241m=\u001b[39m base_match_history_stats_url\u001b[38;5;241m.\u001b[39mformat(g[\u001b[38;5;124m\"\u001b[39m\u001b[38;5;124mserver\u001b[39m\u001b[38;5;124m\"\u001b[39m],g[\u001b[38;5;124m\"\u001b[39m\u001b[38;5;124mgameId\u001b[39m\u001b[38;5;124m\"\u001b[39m],g[\u001b[38;5;124m\"\u001b[39m\u001b[38;5;124mhash\u001b[39m\u001b[38;5;124m\"\u001b[39m])\n\u001b[0;32m     10\u001b[0m     timeline_url \u001b[38;5;241m=\u001b[39m base_match_history_stats_timeline_url\u001b[38;5;241m.\u001b[39mformat(g[\u001b[38;5;124m\"\u001b[39m\u001b[38;5;124mserver\u001b[39m\u001b[38;5;124m\"\u001b[39m],g[\u001b[38;5;124m\"\u001b[39m\u001b[38;5;124mgameId\u001b[39m\u001b[38;5;124m\"\u001b[39m],g[\u001b[38;5;124m\"\u001b[39m\u001b[38;5;124mhash\u001b[39m\u001b[38;5;124m\"\u001b[39m])\n",
      "\u001b[1;31mNameError\u001b[0m: name 'games' is not defined"
     ]
    }
   ],
   "source": [
    "import requests\n",
    "\n",
    "base_match_history_stats_url = \"https://acs.leagueoflegends.com/v1/stats/game/{}/{}?gameHash={}\"\n",
    "base_match_history_stats_timeline_url = \"https://acs.leagueoflegends.com/v1/stats/game/{}/{}/timeline?gameHash={}\"\n",
    "\n",
    "all_games_data = []\n",
    "\n",
    "for g in games:\n",
    "    url = base_match_history_stats_url.format(g[\"server\"],g[\"gameId\"],g[\"hash\"])\n",
    "    timeline_url = base_match_history_stats_timeline_url.format(g[\"server\"],g[\"gameId\"],g[\"hash\"])\n",
    "    \n",
    "    game_data = requests.get(url).json()\n",
    "    game_data[\"timeline\"] = requests.get(timeline_url).json()\n",
    "    \n",
    "    all_games_data.append(game_data)"
   ]
  },
  {
   "cell_type": "markdown",
   "metadata": {},
   "source": [
    "## In need of Cookies"
   ]
  },
  {
   "cell_type": "markdown",
   "metadata": {},
   "source": [
    "ACS is highly rate limited and you might need to authenticate yourself to avoid this."
   ]
  },
  {
   "cell_type": "markdown",
   "metadata": {},
   "source": [
    "For that, you will need to : \n",
    " * Open your browser\n",
    " * Log in League of Legends website (or any one dependent on Riot log in)\n",
    " * Open an acs link (e.g. https://acs.leagueoflegends.com/v1/stats/game/ESPORTSTMNT06/1070986?gameHash=1787d1ea36a382c3 )\n",
    " * Right clic -> Inspect element\n",
    " * Network tab\n",
    " * Select the first item in the network list (might need a refresh with the tab open)\n",
    " * Find the request header\n",
    " * Copy the value of the Cookie header"
   ]
  },
  {
   "cell_type": "markdown",
   "metadata": {},
   "source": [
    "![ACS header](https://canisback.com/images/acs.png)"
   ]
  },
  {
   "cell_type": "markdown",
   "metadata": {},
   "source": [
    "Paste this value in here : "
   ]
  },
  {
   "cell_type": "code",
   "execution_count": 12,
   "metadata": {},
   "outputs": [],
   "source": [
    "cookies = \"\""
   ]
  },
  {
   "cell_type": "code",
   "execution_count": 13,
   "metadata": {},
   "outputs": [],
   "source": [
    "import requests\n",
    "\n",
    "base_match_history_stats_url = \"https://acs.leagueoflegends.com/v1/stats/game/{}/{}?gameHash={}\"\n",
    "base_match_history_stats_timeline_url = \"https://acs.leagueoflegends.com/v1/stats/game/{}/{}/timeline?gameHash={}\"\n",
    "\n",
    "all_games_data = []\n",
    "\n",
    "for g in games:\n",
    "    url = base_match_history_stats_url.format(g[\"server\"],g[\"gameId\"],g[\"hash\"])\n",
    "    timeline_url = base_match_history_stats_timeline_url.format(g[\"server\"],g[\"gameId\"],g[\"hash\"])\n",
    "    \n",
    "    game_data = requests.get(url,  cookies={c.split(\"=\")[0]:c.split(\"=\")[1] for c in cookies.split(\";\")}).json()\n",
    "    game_data[\"timeline\"] = requests.get(timeline_url,  cookies={c.split(\"=\")[0]:c.split(\"=\")[1] for c in cookies.split(\";\")}).json()\n",
    "    \n",
    "    all_games_data.append(game_data)"
   ]
  },
  {
   "cell_type": "code",
   "execution_count": 14,
   "metadata": {},
   "outputs": [
    {
     "data": {
      "text/plain": [
       "[{'participantId': 1,\n",
       "  'player': {'summonerName': 'G2 Wunder', 'profileIcon': 29}},\n",
       " {'participantId': 2,\n",
       "  'player': {'summonerName': 'G2 Jankos', 'profileIcon': 29}},\n",
       " {'participantId': 3,\n",
       "  'player': {'summonerName': 'G2 Caps', 'profileIcon': 29}},\n",
       " {'participantId': 4,\n",
       "  'player': {'summonerName': 'G2 Perkz', 'profileIcon': 29}},\n",
       " {'participantId': 5,\n",
       "  'player': {'summonerName': 'G2 Mikyx', 'profileIcon': 29}},\n",
       " {'participantId': 6,\n",
       "  'player': {'summonerName': 'MAD Orome', 'profileIcon': 29}},\n",
       " {'participantId': 7,\n",
       "  'player': {'summonerName': 'MAD Shad0w', 'profileIcon': 29}},\n",
       " {'participantId': 8,\n",
       "  'player': {'summonerName': 'MAD Humanoid', 'profileIcon': 29}},\n",
       " {'participantId': 9,\n",
       "  'player': {'summonerName': 'MAD Carzzy', 'profileIcon': 29}},\n",
       " {'participantId': 10,\n",
       "  'player': {'summonerName': 'MAD Kaiser', 'profileIcon': 29}}]"
      ]
     },
     "execution_count": 14,
     "metadata": {},
     "output_type": "execute_result"
    }
   ],
   "source": [
    "all_games_data[0][\"participantIdentities\"]"
   ]
  },
  {
   "cell_type": "markdown",
   "metadata": {},
   "source": [
    "Now you have all the match data you need, in the same format as the Riot Games API matches."
   ]
  },
  {
   "cell_type": "code",
   "execution_count": null,
   "metadata": {},
   "outputs": [],
   "source": []
  }
 ],
 "metadata": {
  "kernelspec": {
   "display_name": "Python 3 (ipykernel)",
   "language": "python",
   "name": "python3"
  },
  "language_info": {
   "codemirror_mode": {
    "name": "ipython",
    "version": 3
   },
   "file_extension": ".py",
   "mimetype": "text/x-python",
   "name": "python",
   "nbconvert_exporter": "python",
   "pygments_lexer": "ipython3",
   "version": "3.8.16"
  }
 },
 "nbformat": 4,
 "nbformat_minor": 4
}
