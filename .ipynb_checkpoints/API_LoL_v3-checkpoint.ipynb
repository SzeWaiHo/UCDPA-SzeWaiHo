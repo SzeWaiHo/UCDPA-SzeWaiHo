{
 "cells": [
  {
   "cell_type": "markdown",
   "id": "7e4b2bb8-0758-4e48-bb34-c63f5730742c",
   "metadata": {},
   "source": [
    "# unused code"
   ]
  },
  {
   "cell_type": "markdown",
   "id": "71d1eaf4-94e6-4bd5-af85-8a77677d45f7",
   "metadata": {
    "tags": []
   },
   "source": [
    "##"
   ]
  },
  {
   "cell_type": "markdown",
   "id": "8377a56b-f5bf-4f87-87b9-6da0ebd95ddf",
   "metadata": {
    "jp-MarkdownHeadingCollapsed": true,
    "tags": []
   },
   "source": [
    "## API full set of data with:\n",
    "- MATCH: Tournament, Date, League, GameLength, Team1, Team2, T1 Score, T2 Score\n",
    "- PLAYERS"
   ]
  },
  {
   "cell_type": "code",
   "execution_count": 2,
   "id": "5735a250-98a8-4e3a-945a-07ddfec8c596",
   "metadata": {
    "collapsed": true,
    "jupyter": {
     "outputs_hidden": true
    },
    "tags": []
   },
   "outputs": [
    {
     "data": {
      "application/vnd.jupyter.widget-view+json": {
       "model_id": "26f3a3087b2a4fc08bd9705d91458aee",
       "version_major": 2,
       "version_minor": 0
      },
      "text/plain": [
       "  0%|          | 0/1 [00:00<?, ?it/s]"
      ]
     },
     "metadata": {},
     "output_type": "display_data"
    },
    {
     "name": "stderr",
     "output_type": "stream",
     "text": [
      "\n",
      "KeyboardInterrupt\n",
      "\n"
     ]
    }
   ],
   "source": [
    "#https://lol.fandom.com/wiki/Help:Leaguepedia_API\n",
    "\"\"\" \n",
    "    This is the website I used to figure out how to query API from Leaguepedia (storing all match statistics)\n",
    "\"\"\"\n",
    "import mwclient\n",
    "\n",
    "#This is the LeaguePedia website that stores all match and team statistics\n",
    "site = mwclient.Site('lol.fandom.com', path='/')\n",
    "\n",
    "\n",
    "\"\"\"\n",
    "    I searched for a quicker way to iterate for loops because it took too long to run\n",
    "\"\"\"\n",
    "#https://github.com/tqdm/tqdm \n",
    "from tqdm.notebook import tqdm\n",
    "\n",
    "#pre-set the leagues I want to look at - all those that will qualify to worlds\n",
    "leagues=['GPL','IWCQ','WCS','LCS','LEC','LCK','LPL','CBLOL','LCL','LJL','LLA','OPL','PCS','VCS','TCL','LMS','LST','NA LCS','EU LCS','LLN','CLS']\n",
    "\n",
    "#create an empty list to store my dataset\n",
    "results = []\n",
    "\n",
    "#for loop to create my data base of match stats\n",
    "for league in tqdm(leagues):\n",
    "    off=0\n",
    "    \n",
    "    #while loop to retrive data thruogh API\n",
    "    while True:\n",
    "        #API query\n",
    "        response = site.api('cargoquery',\n",
    "                            offset=str(off),\n",
    "                            \n",
    "                            limit=\"500\",\n",
    "                            \n",
    "                            #retrive tables\n",
    "                            tables = \"ScoreboardGames=SG, ScoreboardPlayers=SP,Tournaments=T, Leagues=L\",\n",
    "                            \n",
    "                            #retrive fields as columns\n",
    "                            fields=\"T.Name=Tournament,\\\n",
    "                                    L.League_Short=League,\\\n",
    "                                    SP.Link,\\\n",
    "                                    SG.DateTime_UTC, SG.Gamelength, SG.Team1, SG.Team2, SG.Team1Score, SG.Team2Score\", \n",
    "                            \n",
    "                            #set condition (only include specified leagues)\n",
    "                            where = 'L.League_Short = \"'+league+'\"',\n",
    "                            \n",
    "                            #similar to vlookup in the web pages\n",
    "                            join_on = \"SG.OverviewPage=T.OverviewPage, T.League = L.League, SP.MatchId=SG.MatchId\")\n",
    "        \n",
    "        #add to database\n",
    "        results += response[\"cargoquery\"] \n",
    "        \n",
    "        #speed\n",
    "        off=off+500\n",
    "        if(len(response[\"cargoquery\"])<500): break\n",
    "        "
   ]
  },
  {
   "cell_type": "markdown",
   "id": "71cd2d24-705a-4454-84e7-c8eac64307eb",
   "metadata": {
    "jp-MarkdownHeadingCollapsed": true,
    "tags": []
   },
   "source": [
    "## Import df_Scoreboard"
   ]
  },
  {
   "cell_type": "code",
   "execution_count": null,
   "id": "fe49c99b-bd02-4548-828b-7b69e288d75f",
   "metadata": {
    "tags": []
   },
   "outputs": [],
   "source": [
    "import pandas as pd\n",
    "df_Scoreboard = pd.DataFrame([ a['title'] for a in results ])\n",
    "df_Scoreboard = df_Scoreboard.drop(\"DateTime UTC__precision\", axis=1)\n",
    "df_Scoreboard.sort_values(\"DateTime UTC\")\n",
    "df_Scoreboard.head()\n",
    "#df_Scoreboard.to_csv(\"Scoreboard.csv\")"
   ]
  },
  {
   "cell_type": "markdown",
   "id": "f6ae0c5c-bc9b-444c-85ce-b06c126bc3ec",
   "metadata": {
    "jp-MarkdownHeadingCollapsed": true,
    "tags": []
   },
   "source": [
    "## API LCK set of data with PLAYERS team, ID, age, nationality, birthday"
   ]
  },
  {
   "cell_type": "code",
   "execution_count": null,
   "id": "5284909a-3a93-43f1-938b-f47d20b551eb",
   "metadata": {
    "tags": []
   },
   "outputs": [],
   "source": [
    "#https://lol.fandom.com/wiki/Help:Leaguepedia_API\n",
    "\"\"\" \n",
    "    This is the website I used to figure out how to query API from Leaguepedia (storing all match statistics)\n",
    "\"\"\"\n",
    "import mwclient\n",
    "\n",
    "#This is the LeaguePedia website that stores all match and team statistics\n",
    "site = mwclient.Site('lol.fandom.com', path='/')\n",
    "\n",
    "\n",
    "\"\"\"\n",
    "    I searched for a quicker way to iterate for loops because it took too long to run\n",
    "\"\"\"\n",
    "#https://github.com/tqdm/tqdm \n",
    "from tqdm.notebook import tqdm\n",
    "\n",
    "#pre-set the leagues I want to look at - all those that will qualify to worlds\n",
    "#leagues=['LCS','LEC','LCK','LPL','CBLOL','LJL','LLA','PCS','VCS']\n",
    "leagues=['LCK']\n",
    "\n",
    "#create an empty list to store my dataset\n",
    "results = []\n",
    "\n",
    "#for loop to create my data base of match stats\n",
    "for league in tqdm(leagues):\n",
    "    off=0\n",
    "    \n",
    "    #while loop to retrive data thruogh API\n",
    "    while True:\n",
    "        #API query\n",
    "        response = site.api('cargoquery',\n",
    "                            offset=str(off),\n",
    "                            \n",
    "                            limit=\"max\",\n",
    "                            \n",
    "                            #retrive tables\n",
    "                            tables = \"Teams=T, Players=P\",\n",
    "                            \n",
    "                            #retrive fields as columns\n",
    "                            fields=\"P.Team=Team, P.ID=ID, P.Nationality, P.Country,P.Birthdate,\\\n",
    "                                    T.Region=Region, T.Short\", \n",
    "                            \n",
    "                            #set condition \n",
    "                            #where = 'T.Name = P.Team',\n",
    "                            \n",
    "                            #similar to vlookup in the web pages\n",
    "                            join_on = \"T.Name = P.Team\")\n",
    "        \n",
    "        #add to database\n",
    "        results += response[\"cargoquery\"] \n",
    "        \n",
    "        #speed\n",
    "        off=off+500\n",
    "        if(len(response[\"cargoquery\"])<500): break\n",
    "\n",
    "        \n",
    "        \n",
    "import pandas as pd\n",
    "df_Players = pd.DataFrame([ a['title'] for a in results ])\n",
    "\n",
    "#drop birthdate precision\n",
    "df_Players = df_Players.drop(\"Birthdate__precision\", axis=1)\n",
    "\n",
    "df_Players.head()\n",
    "#df_Players.to_csv(\"Players.csv\")"
   ]
  },
  {
   "cell_type": "code",
   "execution_count": null,
   "id": "f741b03b-6963-416d-a5e6-73e7b194e97f",
   "metadata": {
    "tags": []
   },
   "outputs": [],
   "source": [
    "df_stats = df_Scoreboard.merge(df_Players, left_on = 'Team1', right_on = 'Team', how = 'left')\n",
    "df_stats.head()\n",
    "df_stats.to_csv(\"Merged.csv\")"
   ]
  },
  {
   "cell_type": "code",
   "execution_count": null,
   "id": "a2a2b374-236e-4bc2-acb3-d3e3ccbfb562",
   "metadata": {
    "tags": []
   },
   "outputs": [],
   "source": [
    "#####################################################################################################################################################\n",
    "#####################################################################################################################################################\n",
    "#####################################################################################################################################################\n",
    "#####################################################################################################################################################\n",
    "#####################################################################################################################################################"
   ]
  },
  {
   "cell_type": "markdown",
   "id": "41ecdefe-6971-452f-bbd8-515f2e4baddd",
   "metadata": {},
   "source": [
    "# Used Code"
   ]
  },
  {
   "cell_type": "markdown",
   "id": "c5a62311-034a-425c-b891-de5c57810422",
   "metadata": {},
   "source": [
    "## "
   ]
  },
  {
   "cell_type": "markdown",
   "id": "082bc0e2-902c-4237-b0d1-f1562683f1cc",
   "metadata": {},
   "source": [
    "## API full set of data with: (much faster)\n",
    "- MATCH: Tournament, Date, League, GameLength, Team1, Team2, T1 Score, T2 Score"
   ]
  },
  {
   "cell_type": "code",
   "execution_count": 46,
   "id": "84855732-aad3-4f2b-88f0-307f6f9635fd",
   "metadata": {
    "tags": []
   },
   "outputs": [
    {
     "data": {
      "application/vnd.jupyter.widget-view+json": {
       "model_id": "75369d1e0020469da44081dff253d7f2",
       "version_major": 2,
       "version_minor": 0
      },
      "text/plain": [
       "  0%|          | 0/21 [00:00<?, ?it/s]"
      ]
     },
     "metadata": {},
     "output_type": "display_data"
    }
   ],
   "source": [
    "import mwclient\n",
    "site = mwclient.Site('lol.fandom.com', path='/')\n",
    "\n",
    "from tqdm.notebook import tqdm\n",
    "\n",
    "leagues=['GPL','IWCQ','WCS','LCS','LEC','LCK','LPL','CBLOL','LCL','LJL','LLA','OPL','PCS','VCS','TCL','LMS','LST','NA LCS','EU LCS','LLN','CLS']\n",
    "\n",
    "results = []\n",
    "\n",
    "for league in tqdm(leagues):\n",
    "    off=0\n",
    "    \n",
    "    while True:\n",
    "    \n",
    "        response = site.api('cargoquery',\n",
    "                            offset=str(off),\n",
    "                            \n",
    "                            limit=\"max\",\n",
    "                            \n",
    "                            tables = \"ScoreboardGames=SG,Tournaments=T, Leagues=L\",\n",
    "                            \n",
    "                            fields=\"T.Name=Tournament,\\\n",
    "                                    L.League_Short=League,\\\n",
    "                                    SG.DateTime_UTC=Date, SG.Gamelength, SG.Team1, SG.Team2, SG.Team1Score, SG.Team2Score,SG.WinTeam\", \n",
    "                            \n",
    "                            where = 'L.League_Short = \"'+league+'\"',\n",
    "                            \n",
    "                            join_on = \"SG.OverviewPage=T.OverviewPage, T.League = L.League\")\n",
    "    \n",
    "        results += response[\"cargoquery\"] \n",
    "        \n",
    "        off=off+500\n",
    "        if(len(response[\"cargoquery\"])<500): break"
   ]
  },
  {
   "cell_type": "markdown",
   "id": "11607804-ad9e-4f9a-a569-18bcc46a8332",
   "metadata": {},
   "source": [
    "# Convert to Panda DataFrame and Clean Data"
   ]
  },
  {
   "cell_type": "code",
   "execution_count": 56,
   "id": "875f75b2-718b-40df-a39d-88a9888e8ddf",
   "metadata": {
    "tags": []
   },
   "outputs": [],
   "source": [
    "#import pandas package\n",
    "import pandas as pd\n",
    "\n",
    "#convert to dataframe from dictionary\n",
    "df_Scoreboard = pd.DataFrame([ a['title'] for a in results ])\n",
    "\n",
    "#drop unused column\n",
    "df_Scoreboard = df_Scoreboard.drop(\"Date__precision\", axis=1)\n",
    "\n",
    "#sort by date\n",
    "df_Scoreboard.sort_values(by = \"Date\",inplace=True)\n",
    "\n",
    "#split date and time\n",
    "df_Scoreboard[\"Date\"] = pd.to_datetime(df_Scoreboard[\"Date\"])\n",
    "df_Scoreboard[\"Year\"]= df_Scoreboard[\"Date\"].dt.year\n",
    "\n",
    "#convert Team 1 & 2 score as integers\n",
    "df_Scoreboard = df_Scoreboard.astype({'Team1Score':'int','Team2Score':'int'})\n",
    "\n",
    "#no index\n",
    "df_Scoreboard = df_Scoreboard.reset_index(drop=True)\n",
    "\n",
    "#preview first few rows\n",
    "df_Scoreboard.head()\n",
    "\n",
    "#save as csv\n",
    "df_Scoreboard.to_csv(\"Scoreboard.csv\", index=False)"
   ]
  },
  {
   "cell_type": "markdown",
   "id": "cc0927ec-3ef4-4bbc-a4ce-a0c9ae5f537b",
   "metadata": {},
   "source": [
    "## Shortcut - Import df_Scoreboard"
   ]
  },
  {
   "cell_type": "code",
   "execution_count": 1,
   "id": "8c6efbc6-0578-42fe-9424-c340d04b3f4c",
   "metadata": {
    "tags": []
   },
   "outputs": [],
   "source": [
    "import pandas as pd\n",
    "df_Scoreboard = pd.read_csv(\"Scoreboard.csv\",index_col=0)"
   ]
  },
  {
   "cell_type": "markdown",
   "id": "4e1b3f9c-5a33-4a4a-be7c-a2d59657662f",
   "metadata": {},
   "source": [
    "## Get Worlds 2011 - 2022 Winners\n",
    "## API full set of data with: (much faster)\n",
    "- MATCH: Tournament, Date, League, GameLength, Team1, Team2, T1 Score, T2 Score\n",
    "- Tab: Quarterfinals, Semifinals, Finals"
   ]
  },
  {
   "cell_type": "code",
   "execution_count": 49,
   "id": "853bc0a4-573d-423f-89d0-5a1d3504ede3",
   "metadata": {
    "tags": []
   },
   "outputs": [
    {
     "data": {
      "application/vnd.jupyter.widget-view+json": {
       "model_id": "0b00e913ed17455487797b2edce5fd89",
       "version_major": 2,
       "version_minor": 0
      },
      "text/plain": [
       "  0%|          | 0/1 [00:00<?, ?it/s]"
      ]
     },
     "metadata": {},
     "output_type": "display_data"
    }
   ],
   "source": [
    "import mwclient\n",
    "site = mwclient.Site('lol.fandom.com', path='/')\n",
    "\n",
    "from tqdm.notebook import tqdm\n",
    "\n",
    "leagues=['WCS']\n",
    "\n",
    "results = []\n",
    "\n",
    "for league in tqdm(leagues):\n",
    "    off=0\n",
    "    \n",
    "    while True:\n",
    " \n",
    "        response = site.api('cargoquery',\n",
    "                            offset=str(off),\n",
    "                            \n",
    "                            limit=\"max\",\n",
    "                            \n",
    "                            tables = \"ScoreboardGames=SG,Tournaments=T, Leagues=L, MatchSchedule=M\",\n",
    "                            \n",
    "                            fields=\"T.Name=Tournament,\\\n",
    "                                    L.League_Short=League,\\\n",
    "                                    SG.DateTime_UTC=Date, SG.Gamelength, SG.Team1, SG.Team2, SG.Team1Score, SG.Team2Score,SG.WinTeam, M.Tab\", \n",
    "                            \n",
    "                            where = 'L.League_Short = \"'+league+'\"',\n",
    "                            \n",
    "                            join_on = \"SG.OverviewPage=T.OverviewPage, T.League = L.League, M.OverviewPage=T.OverviewPage\")\n",
    "        \n",
    "        results += response[\"cargoquery\"] \n",
    "        \n",
    "        off=off+500\n",
    "        if(len(response[\"cargoquery\"])<500): break"
   ]
  },
  {
   "cell_type": "markdown",
   "id": "4838a1d1-bc9a-4bfa-8f77-ce5db63cdb37",
   "metadata": {},
   "source": [
    "## Convert to Panda DataFrame and Clean Data"
   ]
  },
  {
   "cell_type": "code",
   "execution_count": 60,
   "id": "27b8f390-c714-4362-8955-3c898aca2605",
   "metadata": {
    "tags": []
   },
   "outputs": [],
   "source": [
    "#import pandas package\n",
    "import pandas as pd\n",
    "\n",
    "#convert to dataframe from dictionary\n",
    "df_Scoreboard_Worlds = pd.DataFrame([ a['title'] for a in results ])\n",
    "\n",
    "#drop unused column\n",
    "df_Scoreboard_Worlds = df_Scoreboard_Worlds.drop(\"Date__precision\", axis=1)\n",
    "\n",
    "#sort by date\n",
    "df_Scoreboard_Worlds.sort_values(by = \"Date\",inplace=True)\n",
    "\n",
    "#split date and time\n",
    "df_Scoreboard_Worlds[\"Date\"] = pd.to_datetime(df_Scoreboard_Worlds[\"Date\"])\n",
    "df_Scoreboard_Worlds[\"Year\"]= df_Scoreboard_Worlds[\"Date\"].dt.year\n",
    "\n",
    "#convert Team 1 & 2 score as integers\n",
    "df_Scoreboard_Worlds = df_Scoreboard_Worlds.astype({'Team1Score':'int','Team2Score':'int'})\n",
    "\n",
    "#no index\n",
    "df_Scoreboard_Worlds = df_Scoreboard_Worlds.reset_index(drop=True)\n",
    "\n",
    "#preview first few rows\n",
    "df_Scoreboard_Worlds.head()\n",
    "\n",
    "#save as csv\n",
    "df_Scoreboard_Worlds.to_csv(\"Scoreboard_Worlds.csv\", index=False)"
   ]
  },
  {
   "cell_type": "markdown",
   "id": "d0ce582f-8da5-4479-bd2e-985fad4ed107",
   "metadata": {},
   "source": [
    "## Get Worlds Tournament only - dataset above contains regional finals"
   ]
  },
  {
   "cell_type": "code",
   "execution_count": 65,
   "id": "debbf695-23a3-4719-bf2e-58c737469421",
   "metadata": {
    "tags": []
   },
   "outputs": [],
   "source": [
    "#I want to get the winners of all the Worlds Championships only\n",
    "#I can't filter from 'WCS' league because it randomly includes regional finals\n",
    "#But the tournaments that begin with \"Worlds\" can be identified\n",
    "df_Scoreboard_Worlds2 = df_Scoreboard_Worlds[df_Scoreboard_Worlds[\"Tournament\"].str.startswith(\"Worlds\")]\n",
    "df_Scoreboard_Worlds2 = df_Scoreboard_Worlds2.reset_index(drop=True)\n",
    "df_Scoreboard_Worlds2.head()\n",
    "df_Scoreboard_Worlds2.to_csv(\"Scoreboard_Worlds2.csv\", index=False)"
   ]
  },
  {
   "cell_type": "markdown",
   "id": "3f42a335-73a9-415b-a86a-324422ff8b38",
   "metadata": {},
   "source": [
    "## Shortcut - Import df_Scoreboard_Worlds, df_Scoreboard_Worlds2"
   ]
  },
  {
   "cell_type": "code",
   "execution_count": 40,
   "id": "3b643eeb-930b-47f2-a76e-c8329ce463fb",
   "metadata": {
    "collapsed": true,
    "jupyter": {
     "outputs_hidden": true
    },
    "tags": []
   },
   "outputs": [
    {
     "data": {
      "text/html": [
       "<div>\n",
       "<style scoped>\n",
       "    .dataframe tbody tr th:only-of-type {\n",
       "        vertical-align: middle;\n",
       "    }\n",
       "\n",
       "    .dataframe tbody tr th {\n",
       "        vertical-align: top;\n",
       "    }\n",
       "\n",
       "    .dataframe thead th {\n",
       "        text-align: right;\n",
       "    }\n",
       "</style>\n",
       "<table border=\"1\" class=\"dataframe\">\n",
       "  <thead>\n",
       "    <tr style=\"text-align: right;\">\n",
       "      <th></th>\n",
       "      <th>League</th>\n",
       "      <th>Date</th>\n",
       "      <th>Gamelength</th>\n",
       "      <th>Team1</th>\n",
       "      <th>Team2</th>\n",
       "      <th>Team1Score</th>\n",
       "      <th>Team2Score</th>\n",
       "      <th>WinTeam</th>\n",
       "      <th>Tab</th>\n",
       "      <th>Date__precision</th>\n",
       "      <th>Year</th>\n",
       "    </tr>\n",
       "    <tr>\n",
       "      <th>Tournament</th>\n",
       "      <th></th>\n",
       "      <th></th>\n",
       "      <th></th>\n",
       "      <th></th>\n",
       "      <th></th>\n",
       "      <th></th>\n",
       "      <th></th>\n",
       "      <th></th>\n",
       "      <th></th>\n",
       "      <th></th>\n",
       "      <th></th>\n",
       "    </tr>\n",
       "  </thead>\n",
       "  <tbody>\n",
       "    <tr>\n",
       "      <th>Worlds Season 1</th>\n",
       "      <td>WCS</td>\n",
       "      <td>18/06/2011 08:30</td>\n",
       "      <td>45:09:00</td>\n",
       "      <td>against All authority</td>\n",
       "      <td>Epik Gamer</td>\n",
       "      <td>0</td>\n",
       "      <td>1</td>\n",
       "      <td>Epik Gamer</td>\n",
       "      <td>Group Stage</td>\n",
       "      <td>0</td>\n",
       "      <td>2011</td>\n",
       "    </tr>\n",
       "    <tr>\n",
       "      <th>Worlds Season 1</th>\n",
       "      <td>WCS</td>\n",
       "      <td>18/06/2011 08:30</td>\n",
       "      <td>45:09:00</td>\n",
       "      <td>against All authority</td>\n",
       "      <td>Epik Gamer</td>\n",
       "      <td>0</td>\n",
       "      <td>1</td>\n",
       "      <td>Epik Gamer</td>\n",
       "      <td>Finals</td>\n",
       "      <td>0</td>\n",
       "      <td>2011</td>\n",
       "    </tr>\n",
       "    <tr>\n",
       "      <th>Worlds Season 1</th>\n",
       "      <td>WCS</td>\n",
       "      <td>18/06/2011 08:30</td>\n",
       "      <td>45:09:00</td>\n",
       "      <td>against All authority</td>\n",
       "      <td>Epik Gamer</td>\n",
       "      <td>0</td>\n",
       "      <td>1</td>\n",
       "      <td>Epik Gamer</td>\n",
       "      <td>Round 3</td>\n",
       "      <td>0</td>\n",
       "      <td>2011</td>\n",
       "    </tr>\n",
       "    <tr>\n",
       "      <th>Worlds Season 1</th>\n",
       "      <td>WCS</td>\n",
       "      <td>18/06/2011 08:30</td>\n",
       "      <td>45:09:00</td>\n",
       "      <td>against All authority</td>\n",
       "      <td>Epik Gamer</td>\n",
       "      <td>0</td>\n",
       "      <td>1</td>\n",
       "      <td>Epik Gamer</td>\n",
       "      <td>Round 3</td>\n",
       "      <td>0</td>\n",
       "      <td>2011</td>\n",
       "    </tr>\n",
       "    <tr>\n",
       "      <th>Worlds Season 1</th>\n",
       "      <td>WCS</td>\n",
       "      <td>18/06/2011 08:30</td>\n",
       "      <td>45:09:00</td>\n",
       "      <td>against All authority</td>\n",
       "      <td>Epik Gamer</td>\n",
       "      <td>0</td>\n",
       "      <td>1</td>\n",
       "      <td>Epik Gamer</td>\n",
       "      <td>Round 2</td>\n",
       "      <td>0</td>\n",
       "      <td>2011</td>\n",
       "    </tr>\n",
       "  </tbody>\n",
       "</table>\n",
       "</div>"
      ],
      "text/plain": [
       "                League              Date Gamelength                  Team1  \\\n",
       "Tournament                                                                   \n",
       "Worlds Season 1    WCS  18/06/2011 08:30   45:09:00  against All authority   \n",
       "Worlds Season 1    WCS  18/06/2011 08:30   45:09:00  against All authority   \n",
       "Worlds Season 1    WCS  18/06/2011 08:30   45:09:00  against All authority   \n",
       "Worlds Season 1    WCS  18/06/2011 08:30   45:09:00  against All authority   \n",
       "Worlds Season 1    WCS  18/06/2011 08:30   45:09:00  against All authority   \n",
       "\n",
       "                      Team2  Team1Score  Team2Score     WinTeam          Tab  \\\n",
       "Tournament                                                                     \n",
       "Worlds Season 1  Epik Gamer           0           1  Epik Gamer  Group Stage   \n",
       "Worlds Season 1  Epik Gamer           0           1  Epik Gamer       Finals   \n",
       "Worlds Season 1  Epik Gamer           0           1  Epik Gamer      Round 3   \n",
       "Worlds Season 1  Epik Gamer           0           1  Epik Gamer      Round 3   \n",
       "Worlds Season 1  Epik Gamer           0           1  Epik Gamer      Round 2   \n",
       "\n",
       "                 Date__precision  Year  \n",
       "Tournament                              \n",
       "Worlds Season 1                0  2011  \n",
       "Worlds Season 1                0  2011  \n",
       "Worlds Season 1                0  2011  \n",
       "Worlds Season 1                0  2011  \n",
       "Worlds Season 1                0  2011  "
      ]
     },
     "execution_count": 40,
     "metadata": {},
     "output_type": "execute_result"
    }
   ],
   "source": [
    "import pandas as pd\n",
    "df_Scoreboard_Worlds = pd.read_csv(\"Scoreboard_Worlds.csv\", index_col=0)\n",
    "df_Scoreboard_Worlds2 = pd.read_csv(\"Scoreboard_Worlds2.csv\", index_col=0)"
   ]
  },
  {
   "cell_type": "markdown",
   "id": "0998fbc1-c74d-474e-9a68-88730de0e608",
   "metadata": {},
   "source": [
    "## Get Winners of Finals in Worlds "
   ]
  },
  {
   "cell_type": "code",
   "execution_count": 66,
   "id": "eb7fb028-efb3-45ca-897c-07789883fe2c",
   "metadata": {},
   "outputs": [],
   "source": [
    "#define function to get winner of each match\n",
    "def get_Winner(year):\n",
    "    df_Scoreboard_Worlds2[df_Scoreboard_Worlds2[\"Year\"]==year]\n",
    "    return"
   ]
  },
  {
   "cell_type": "markdown",
   "id": "b4a50715-f9de-4ea9-9df9-077648232adc",
   "metadata": {},
   "source": [
    "## Graph - Top 10 Team Winners in ALL matches of Worlds"
   ]
  },
  {
   "cell_type": "code",
   "execution_count": 67,
   "id": "f0e63afe-f37c-49ea-a322-8b1d9a2b1943",
   "metadata": {
    "tags": []
   },
   "outputs": [
    {
     "data": {
      "text/plain": [
       "<AxesSubplot: title={'center': 'Top 10 Teams'}, xlabel='Teams', ylabel='Matches won'>"
      ]
     },
     "execution_count": 67,
     "metadata": {},
     "output_type": "execute_result"
    },
    {
     "data": {
      "image/png": "[encoded data removed]",
      "text/plain": [
       "<Figure size 640x480 with 1 Axes>"
      ]
     },
     "metadata": {},
     "output_type": "display_data"
    }
   ],
   "source": [
    "#who won the most matches in Worlds Championship\n",
    "#most_wins = df_Scoreboard_Worlds2[\"WinTeam\"].value_counts()\n",
    "\n",
    "import seaborn as sns\n",
    "\n",
    "top_10_teams = (df_Scoreboard_Worlds2['WinTeam'].value_counts()).iloc[:10]\n",
    "\n",
    "#create bar chart of top 10 teams\n",
    "top_10_teams.plot(kind='bar',title='Top 10 Teams', xlabel = \"Teams\", ylabel = \"Matches won\")"
   ]
  },
  {
   "cell_type": "markdown",
   "id": "aeeb25b7-eb40-4560-8573-6c9de89bf396",
   "metadata": {},
   "source": [
    "## Get list of all World Winners - filter who won most matches in Finals"
   ]
  },
  {
   "cell_type": "code",
   "execution_count": 68,
   "id": "057b7ef5-b35b-4bc7-9b52-fa2a351ed147",
   "metadata": {
    "tags": []
   },
   "outputs": [],
   "source": [
    "#create function to get winner of each season/worlds \n",
    "def get_winner(year):\n",
    "    finals = df_Scoreboard_Worlds2[df_Scoreboard_Worlds2[\"Tab\"]==\"Finals\"]\n",
    "    finals_year = finals[finals[\"Year\"]==year]\n",
    "    winner = finals_year[\"WinTeam\"].value_counts( ).idxmax()\n",
    "    return winner\n",
    "\n",
    "get_winner(2020)\n",
    "\n",
    "#create dictionary for Worlds Winners\n",
    "years = [i for i in range(2011,2023)]\n",
    "\n",
    "winners = []\n",
    "for i in range(2011,2023):\n",
    "    winners.append(get_winner(i))\n",
    "\n",
    "dict_worlds_winners = {}\n",
    "for i in range(len(years)):\n",
    "    dict_worlds_winners[years[i]] = winners[i]\n"
   ]
  },
  {
   "cell_type": "markdown",
   "id": "88b816f6-cee5-4d10-821d-36b8dfdc66fe",
   "metadata": {},
   "source": [
    "## Convert to Panda DataFrame and Clean Data"
   ]
  },
  {
   "cell_type": "code",
   "execution_count": 69,
   "id": "fcb0f1b5-aa97-42ff-8c18-9418e732a5c9",
   "metadata": {
    "tags": []
   },
   "outputs": [],
   "source": [
    "#create dataframe from dictionary\n",
    "df_worlds_winners = pd.DataFrame(data = [dict_worlds_winners])\n",
    "df_worlds_winners = df_worlds_winners.transpose()\n",
    "df_worlds_winners.reset_index(inplace=True)\n",
    "df_worlds_winners.columns = [\"Year\",\"Winner\"]\n",
    "df_worlds_winners.to_csv(\"Worlds_Winners.csv\",index=False) "
   ]
  },
  {
   "cell_type": "markdown",
   "id": "9bf3d16a-7ff6-4074-892f-36730a9f780d",
   "metadata": {},
   "source": [
    "## Shortcut - Import df_worlds_winners"
   ]
  },
  {
   "cell_type": "code",
   "execution_count": 10,
   "id": "853b435f-69fa-4f03-acc8-0f47f1b77a24",
   "metadata": {
    "tags": []
   },
   "outputs": [],
   "source": [
    "import pandas as pd\n",
    "df_worlds_winners = pd.read_csv(\"Worlds_Winners.csv\",index_col=0) "
   ]
  },
  {
   "cell_type": "markdown",
   "id": "10f10c15-d5d6-44f7-b052-ae5e72cfdbc2",
   "metadata": {
    "tags": []
   },
   "source": [
    "## Get All Teams Region data\n",
    "## API full set of data with: (much faster)\n",
    "- TEAM: Name, Region, Abbreviation "
   ]
  },
  {
   "cell_type": "code",
   "execution_count": 70,
   "id": "74a8749a-5bcc-4fea-9d17-d64483cd1d61",
   "metadata": {
    "tags": []
   },
   "outputs": [
    {
     "data": {
      "application/vnd.jupyter.widget-view+json": {
       "model_id": "4270c572d682404a9603ac15c2690c8f",
       "version_major": 2,
       "version_minor": 0
      },
      "text/plain": [
       "  0%|          | 0/21 [00:00<?, ?it/s]"
      ]
     },
     "metadata": {},
     "output_type": "display_data"
    }
   ],
   "source": [
    "import mwclient\n",
    "site = mwclient.Site('lol.fandom.com', path='/')\n",
    "\n",
    "from tqdm.notebook import tqdm\n",
    "\n",
    "leagues=['GPL','IWCQ','WCS','LCS','LEC','LCK','LPL','CBLOL','LCL','LJL','LLA','OPL','PCS','VCS','TCL','LMS','LST','NA LCS','EU LCS','LLN','CLS']\n",
    "\n",
    "results = []\n",
    "\n",
    "for league in tqdm(leagues):\n",
    "    off=0\n",
    "    \n",
    "    while True:\n",
    "\n",
    "        response = site.api(\"cargoquery\",\n",
    "                            offset=str(off),\n",
    "                            \n",
    "                            limit=\"max\",\n",
    "                            \n",
    "                            tables = \"Teams=T\",\n",
    "                            \n",
    "                            fields=\"T.Name=Team, T.Region=Region, T.Short=Team_abbr\")\n",
    "                            \n",
    "        results += response[\"cargoquery\"] \n",
    "        \n",
    "        off=off+500\n",
    "        if(len(response[\"cargoquery\"])<500): break"
   ]
  },
  {
   "cell_type": "markdown",
   "id": "a11bcc9f-a89a-4214-8676-f1658958de15",
   "metadata": {
    "tags": []
   },
   "source": [
    "# Convert to Panda DataFrame and Clean Data"
   ]
  },
  {
   "cell_type": "code",
   "execution_count": 72,
   "id": "c667bf63-abe4-44c4-ac17-cc4e489697ce",
   "metadata": {
    "tags": []
   },
   "outputs": [],
   "source": [
    "import pandas as pd\n",
    "df_TeamRegion = pd.DataFrame([ a['title'] for a in results ])\n",
    "\n",
    "#clean data - remove NaN's and duplicates\n",
    "df_TeamRegion = df_TeamRegion.dropna()\n",
    "df_TeamRegion = df_TeamRegion.drop_duplicates(subset=\"Team\")\n",
    "\n",
    "\n",
    "#no index\n",
    "df_TeamRegion = df_TeamRegion.reset_index(drop=True)\n",
    "\n",
    "#preview first few rows\n",
    "df_TeamRegion.head()\n",
    "\n",
    "#save as csv\n",
    "df_TeamRegion.to_csv(\"TeamRegion.csv\", index=False)"
   ]
  },
  {
   "cell_type": "markdown",
   "id": "9d42c836-5acc-4247-87eb-fca20937f24d",
   "metadata": {},
   "source": [
    "## Shortcut - Import df_TeamRegion"
   ]
  },
  {
   "cell_type": "code",
   "execution_count": 5,
   "id": "945307a1-669c-4bce-aefa-bdbf526fe3e7",
   "metadata": {
    "tags": []
   },
   "outputs": [],
   "source": [
    "import pandas as pd\n",
    "df_TeamRegion = pd.read_csv(\"TeamRegion.csv\",index_col=0)"
   ]
  },
  {
   "cell_type": "code",
   "execution_count": 6,
   "id": "46cddd84-5776-4193-bb09-352e8fcd9f7a",
   "metadata": {
    "tags": []
   },
   "outputs": [
    {
     "data": {
      "text/html": [
       "<div>\n",
       "<style scoped>\n",
       "    .dataframe tbody tr th:only-of-type {\n",
       "        vertical-align: middle;\n",
       "    }\n",
       "\n",
       "    .dataframe tbody tr th {\n",
       "        vertical-align: top;\n",
       "    }\n",
       "\n",
       "    .dataframe thead th {\n",
       "        text-align: right;\n",
       "    }\n",
       "</style>\n",
       "<table border=\"1\" class=\"dataframe\">\n",
       "  <thead>\n",
       "    <tr style=\"text-align: right;\">\n",
       "      <th></th>\n",
       "      <th>Region</th>\n",
       "      <th>Team_abbr</th>\n",
       "    </tr>\n",
       "    <tr>\n",
       "      <th>Team</th>\n",
       "      <th></th>\n",
       "      <th></th>\n",
       "    </tr>\n",
       "  </thead>\n",
       "  <tbody>\n",
       "    <tr>\n",
       "      <th>00 Nation</th>\n",
       "      <td>Europe</td>\n",
       "      <td>00N</td>\n",
       "    </tr>\n",
       "    <tr>\n",
       "      <th>00 Prospects</th>\n",
       "      <td>Europe</td>\n",
       "      <td>00P</td>\n",
       "    </tr>\n",
       "    <tr>\n",
       "      <th>1 Trick Ponies</th>\n",
       "      <td>North America</td>\n",
       "      <td>1TP</td>\n",
       "    </tr>\n",
       "    <tr>\n",
       "      <th>1. Berliner Esport-Club e.V.</th>\n",
       "      <td>Europe</td>\n",
       "      <td>BESC</td>\n",
       "    </tr>\n",
       "    <tr>\n",
       "      <th>100 Thieves</th>\n",
       "      <td>North America</td>\n",
       "      <td>100</td>\n",
       "    </tr>\n",
       "  </tbody>\n",
       "</table>\n",
       "</div>"
      ],
      "text/plain": [
       "                                     Region Team_abbr\n",
       "Team                                                 \n",
       "00 Nation                            Europe       00N\n",
       "00 Prospects                         Europe       00P\n",
       "1 Trick Ponies                North America       1TP\n",
       "1. Berliner Esport-Club e.V.         Europe      BESC\n",
       "100 Thieves                   North America       100"
      ]
     },
     "execution_count": 6,
     "metadata": {},
     "output_type": "execute_result"
    }
   ],
   "source": [
    "df_TeamRegion.head()"
   ]
  },
  {
   "cell_type": "code",
   "execution_count": 74,
   "id": "57dc4ab3-6043-4f19-9732-a2750bea3ba8",
   "metadata": {
    "collapsed": true,
    "jupyter": {
     "outputs_hidden": true
    },
    "tags": []
   },
   "outputs": [
    {
     "data": {
      "text/html": [
       "<div>\n",
       "<style scoped>\n",
       "    .dataframe tbody tr th:only-of-type {\n",
       "        vertical-align: middle;\n",
       "    }\n",
       "\n",
       "    .dataframe tbody tr th {\n",
       "        vertical-align: top;\n",
       "    }\n",
       "\n",
       "    .dataframe thead th {\n",
       "        text-align: right;\n",
       "    }\n",
       "</style>\n",
       "<table border=\"1\" class=\"dataframe\">\n",
       "  <thead>\n",
       "    <tr style=\"text-align: right;\">\n",
       "      <th></th>\n",
       "      <th>Year</th>\n",
       "      <th>Winner</th>\n",
       "      <th>Region</th>\n",
       "      <th>Team_abbr</th>\n",
       "    </tr>\n",
       "  </thead>\n",
       "  <tbody>\n",
       "    <tr>\n",
       "      <th>0</th>\n",
       "      <td>2011</td>\n",
       "      <td>Fnatic</td>\n",
       "      <td>EMEA</td>\n",
       "      <td>FNC</td>\n",
       "    </tr>\n",
       "    <tr>\n",
       "      <th>1</th>\n",
       "      <td>2012</td>\n",
       "      <td>Azubu Frost</td>\n",
       "      <td>Korea</td>\n",
       "      <td>AZF</td>\n",
       "    </tr>\n",
       "    <tr>\n",
       "      <th>2</th>\n",
       "      <td>2013</td>\n",
       "      <td>SK Telecom T1</td>\n",
       "      <td>Korea</td>\n",
       "      <td>SKT</td>\n",
       "    </tr>\n",
       "    <tr>\n",
       "      <th>3</th>\n",
       "      <td>2014</td>\n",
       "      <td>Samsung White</td>\n",
       "      <td>Korea</td>\n",
       "      <td>SSW</td>\n",
       "    </tr>\n",
       "    <tr>\n",
       "      <th>4</th>\n",
       "      <td>2015</td>\n",
       "      <td>SK Telecom T1</td>\n",
       "      <td>Korea</td>\n",
       "      <td>SKT</td>\n",
       "    </tr>\n",
       "  </tbody>\n",
       "</table>\n",
       "</div>"
      ],
      "text/plain": [
       "   Year         Winner Region Team_abbr\n",
       "0  2011         Fnatic   EMEA       FNC\n",
       "1  2012    Azubu Frost  Korea       AZF\n",
       "2  2013  SK Telecom T1  Korea       SKT\n",
       "3  2014  Samsung White  Korea       SSW\n",
       "4  2015  SK Telecom T1  Korea       SKT"
      ]
     },
     "execution_count": 74,
     "metadata": {},
     "output_type": "execute_result"
    }
   ],
   "source": [
    "df_worlds_winners2 = df_worlds_winners.merge(df_TeamRegion, left_on = \"Winner\", right_on = \"Team\", how = \"left\")\n",
    "df_worlds_winners2 = df_worlds_winners2.drop(columns=\"Team\")\n",
    "df_worlds_winners2.head()\n",
    "df_worlds_winners2.to_csv(\"Worlds_Winners2.csv\",index=False)"
   ]
  },
  {
   "cell_type": "markdown",
   "id": "3528c942-b463-43b9-ad69-53cf6915a0b5",
   "metadata": {},
   "source": [
    "## Shortcut - Import df_worlds_winners2"
   ]
  },
  {
   "cell_type": "code",
   "execution_count": 32,
   "id": "6f367035-e495-4665-b81f-712978901c39",
   "metadata": {
    "tags": []
   },
   "outputs": [],
   "source": [
    "df_worlds_winners2 = pd.read_csv(\"Worlds_Winners2.csv\",index_col=0)"
   ]
  },
  {
   "cell_type": "markdown",
   "id": "72bbd5b5-e255-44be-9187-66ae78e9cb43",
   "metadata": {},
   "source": [
    "## Add DAMWON Gaming and DWG KIA to df_Team_Region"
   ]
  },
  {
   "cell_type": "code",
   "execution_count": 79,
   "id": "a8a53022-e3a5-4a46-ba18-9f91c879353a",
   "metadata": {
    "tags": []
   },
   "outputs": [
    {
     "name": "stderr",
     "output_type": "stream",
     "text": [
      "C:\\Users\\vivia\\AppData\\Local\\Temp\\ipykernel_2288\\577713607.py:11: FutureWarning: The frame.append method is deprecated and will be removed from pandas in a future version. Use pandas.concat instead.\n",
      "  df_TeamRegion = df_TeamRegion.append(df_TeamRegion2, ignore_index=True)\n",
      "C:\\Users\\vivia\\AppData\\Local\\Temp\\ipykernel_2288\\577713607.py:12: FutureWarning: The frame.append method is deprecated and will be removed from pandas in a future version. Use pandas.concat instead.\n",
      "  df_TeamRegion = df_TeamRegion.append(df_TeamRegion3, ignore_index=True)\n"
     ]
    }
   ],
   "source": [
    "#DAMWON Gaming and DWG KIA both renamed - They are the same team...\n",
    "#create new rows for DAMWON Gaming and DWG KIA\n",
    "df_TeamRegion2 = {\"Team\":\"DAMWON Gaming\",\n",
    "                  \"Region\":\"Korea\",\n",
    "                  \"Team_abbr\":\"DK\"}\n",
    "\n",
    "df_TeamRegion3 = {\"Team\":\"DWG KIA\",\n",
    "                  \"Region\":\"Korea\",\n",
    "                  \"Team_abbr\":\"DK\"}\n",
    "\n",
    "#add new rows to df\n",
    "df_TeamRegion = df_TeamRegion.append(df_TeamRegion2, ignore_index=True)\n",
    "df_TeamRegion = df_TeamRegion.append(df_TeamRegion3, ignore_index=True)\n",
    "df_TeamRegion.head()\n",
    "\n",
    "#re-save as csv\n",
    "df_TeamRegion.to_csv(\"TeamRegion.csv\", index=False)"
   ]
  },
  {
   "cell_type": "code",
   "execution_count": 84,
   "id": "1831e456-2c81-49e2-8eb6-95f3a781d9c9",
   "metadata": {
    "tags": []
   },
   "outputs": [],
   "source": [
    "#repeat after adding the missing teams\n",
    "df_worlds_winners2 = df_worlds_winners.merge(df_TeamRegion, left_on = \"Winner\", right_on = \"Team\", how = \"left\")\n",
    "#df_worlds_winners2 = df_worlds_winners2.drop(columns=\"Team\")\n",
    "df_worlds_winners2.head()\n",
    "df_worlds_winners2.to_csv(\"Worlds_Winners2.csv\",index=False)"
   ]
  },
  {
   "cell_type": "markdown",
   "id": "e2f827f4-1819-404a-ae0c-3a4448f7f6b5",
   "metadata": {},
   "source": [
    "## Graph - Frequency of Worlds Winner : Teams "
   ]
  },
  {
   "cell_type": "code",
   "execution_count": 85,
   "id": "e3bfb348-ddd0-4b64-a53c-f9a498046959",
   "metadata": {
    "tags": []
   },
   "outputs": [
    {
     "data": {
      "text/plain": [
       "([<matplotlib.axis.YTick at 0x1e8f72b2760>,\n",
       "  <matplotlib.axis.YTick at 0x1e8f72b2220>,\n",
       "  <matplotlib.axis.YTick at 0x1e8f72db6a0>,\n",
       "  <matplotlib.axis.YTick at 0x1e8f72f9460>],\n",
       " [Text(0, 0, '0'), Text(0, 1, '1'), Text(0, 2, '2'), Text(0, 3, '3')])"
      ]
     },
     "execution_count": 85,
     "metadata": {},
     "output_type": "execute_result"
    },
    {
     "data": {
      "image/png": "[encoded data removed]",
      "text/plain": [
       "<Figure size 1000x500 with 1 Axes>"
      ]
     },
     "metadata": {},
     "output_type": "display_data"
    }
   ],
   "source": [
    "#Plot frequencies of team winners\n",
    "import matplotlib.pyplot as plt\n",
    "fig, ax = plt.subplots()\n",
    "\n",
    "ax = df_worlds_winners2[\"Team_abbr\"].value_counts().plot(kind='bar',\n",
    "                                    figsize=(10,5),\n",
    "                                    title=\"LoL Worlds Winners - Teams\")\n",
    "ax.set_xlabel(\"Teams\")\n",
    "ax.set_ylabel(\"Frequency\")\n",
    "\n",
    "import numpy as np\n",
    "plt.yticks(np.arange(0, 4, 1))"
   ]
  },
  {
   "cell_type": "markdown",
   "id": "2df732c7-f4eb-4a54-bc8a-6ce2be589288",
   "metadata": {},
   "source": [
    "## Graph - Frequency of Worlds Winner : Regions "
   ]
  },
  {
   "cell_type": "code",
   "execution_count": 86,
   "id": "88dde8bf-41f6-4c47-91f8-fcc9d1bc55ef",
   "metadata": {
    "tags": []
   },
   "outputs": [
    {
     "data": {
      "text/plain": [
       "([<matplotlib.axis.YTick at 0x1e8f7315cd0>,\n",
       "  <matplotlib.axis.YTick at 0x1e8f7315790>,\n",
       "  <matplotlib.axis.YTick at 0x1e8f733a130>,\n",
       "  <matplotlib.axis.YTick at 0x1e8f7346f10>,\n",
       "  <matplotlib.axis.YTick at 0x1e8f734bc40>,\n",
       "  <matplotlib.axis.YTick at 0x1e8f7350730>,\n",
       "  <matplotlib.axis.YTick at 0x1e8f7350fa0>,\n",
       "  <matplotlib.axis.YTick at 0x1e8f734b4f0>,\n",
       "  <matplotlib.axis.YTick at 0x1e8f7357a00>,\n",
       "  <matplotlib.axis.YTick at 0x1e8f735f4f0>],\n",
       " [Text(0, 0, '0'),\n",
       "  Text(0, 1, '1'),\n",
       "  Text(0, 2, '2'),\n",
       "  Text(0, 3, '3'),\n",
       "  Text(0, 4, '4'),\n",
       "  Text(0, 5, '5'),\n",
       "  Text(0, 6, '6'),\n",
       "  Text(0, 7, '7'),\n",
       "  Text(0, 8, '8'),\n",
       "  Text(0, 9, '9')])"
      ]
     },
     "execution_count": 86,
     "metadata": {},
     "output_type": "execute_result"
    },
    {
     "data": {
      "image/png": "[encoded data removed]",
      "text/plain": [
       "<Figure size 1000x500 with 1 Axes>"
      ]
     },
     "metadata": {},
     "output_type": "display_data"
    }
   ],
   "source": [
    "#Plot frequencies of region winners\n",
    "import matplotlib.pyplot as plt\n",
    "fig, ax = plt.subplots()\n",
    "\n",
    "ax = df_worlds_winners2[\"Region\"].value_counts().plot(kind='bar',\n",
    "                                    figsize=(10,5),\n",
    "                                    title=\"LoL Worlds Winners - Regions\")\n",
    "ax.set_xlabel(\"Regions\")\n",
    "ax.set_ylabel(\"Frequency\")\n",
    "\n",
    "import numpy as np\n",
    "plt.yticks(np.arange(0, 10, 1))"
   ]
  },
  {
   "cell_type": "markdown",
   "id": "5bd50316-e58b-4064-a7c1-8840b866cfb7",
   "metadata": {},
   "source": [
    "## Get Participation of Regions\n",
    "- to show that Korea participated later but won a lot more matches/worlds finals\n"
   ]
  },
  {
   "cell_type": "code",
   "execution_count": 19,
   "id": "52cee025-d9d8-441d-b7b3-6ca730451a17",
   "metadata": {
    "tags": []
   },
   "outputs": [],
   "source": [
    "#get unique regions\n",
    "#df_TeamRegion[\"Region\"].unique()\n",
    "\n",
    "#there are 20 regions to be matched\n",
    "#len(df_TeamRegion[\"Region\"].unique())\n",
    "\n",
    "#dictionary to match regions - from googling\n",
    "dict_regions_code = {\n",
    "    'Africa':'EMEA',\n",
    "    'Brazil':'BR',\n",
    "    'China':'CN',\n",
    "    'CIS':'INT',\n",
    "    'EMEA':'EMEA',\n",
    "    'Europe':'EMEA',\n",
    "    'International':'INT',\n",
    "    'Japan':'JP',\n",
    "    'Korea':'KR',\n",
    "    'LAN':'INT',\n",
    "    'LAS':'INT',\n",
    "    'Latin America':'LAT',\n",
    "    'LMS':'INT',\n",
    "    'MENA':'INT',\n",
    "    'North America':'NA',\n",
    "    'Oceania':'PCS',\n",
    "    'PCS':'PCS',\n",
    "    'SEA':'PCS',\n",
    "    'Turkey':'EMEA',\n",
    "    'Vietnam':'VN'\n",
    "}\n",
    "\n",
    "#define function to get region code from dictionary\n",
    "def get_region_code(region):\n",
    "    return dict_regions_code[region]"
   ]
  },
  {
   "cell_type": "code",
   "execution_count": 27,
   "id": "a6d0428c-0961-49a0-87e2-6d3b45dc0cc2",
   "metadata": {
    "tags": []
   },
   "outputs": [],
   "source": [
    "#create a dictionary to match teams to regions\n",
    "\n",
    "#SOURCE - https://www.skytowner.com/explore/converting_two_columns_into_a_dictionary_in_pandas_dataframe\n",
    "dict_regions = dict(zip(df_TeamRegion[\"Team\"], df_TeamRegion[\"Region\"]))\n",
    "\n",
    "#define function to get region code from dictionary\n",
    "def get_region(team):\n",
    "    return dict_regions[team]"
   ]
  },
  {
   "cell_type": "markdown",
   "id": "2042dd53-9bd2-4446-9b37-a2357ea81161",
   "metadata": {},
   "source": [
    "## Add Region to Scoreboard - so I can show participation of regions"
   ]
  },
  {
   "cell_type": "code",
   "execution_count": 87,
   "id": "61b1a897-c9a8-4fa4-b38a-54cc0c8348da",
   "metadata": {},
   "outputs": [
    {
     "data": {
      "text/html": [
       "<div>\n",
       "<style scoped>\n",
       "    .dataframe tbody tr th:only-of-type {\n",
       "        vertical-align: middle;\n",
       "    }\n",
       "\n",
       "    .dataframe tbody tr th {\n",
       "        vertical-align: top;\n",
       "    }\n",
       "\n",
       "    .dataframe thead th {\n",
       "        text-align: right;\n",
       "    }\n",
       "</style>\n",
       "<table border=\"1\" class=\"dataframe\">\n",
       "  <thead>\n",
       "    <tr style=\"text-align: right;\">\n",
       "      <th></th>\n",
       "      <th>Tournament</th>\n",
       "      <th>League</th>\n",
       "      <th>Date</th>\n",
       "      <th>Gamelength</th>\n",
       "      <th>Team1</th>\n",
       "      <th>Team2</th>\n",
       "      <th>Team1Score</th>\n",
       "      <th>Team2Score</th>\n",
       "      <th>WinTeam</th>\n",
       "      <th>Tab</th>\n",
       "      <th>Year</th>\n",
       "      <th>Region</th>\n",
       "      <th>Team_abbr</th>\n",
       "    </tr>\n",
       "  </thead>\n",
       "  <tbody>\n",
       "    <tr>\n",
       "      <th>0</th>\n",
       "      <td>Worlds Season 1</td>\n",
       "      <td>WCS</td>\n",
       "      <td>2011-06-18 08:30:00</td>\n",
       "      <td>45:09</td>\n",
       "      <td>against All authority</td>\n",
       "      <td>Epik Gamer</td>\n",
       "      <td>0</td>\n",
       "      <td>1</td>\n",
       "      <td>Epik Gamer</td>\n",
       "      <td>Group Stage</td>\n",
       "      <td>2011</td>\n",
       "      <td>Europe</td>\n",
       "      <td>aAa</td>\n",
       "    </tr>\n",
       "    <tr>\n",
       "      <th>1</th>\n",
       "      <td>Worlds Season 1</td>\n",
       "      <td>WCS</td>\n",
       "      <td>2011-06-18 08:30:00</td>\n",
       "      <td>45:09</td>\n",
       "      <td>against All authority</td>\n",
       "      <td>Epik Gamer</td>\n",
       "      <td>0</td>\n",
       "      <td>1</td>\n",
       "      <td>Epik Gamer</td>\n",
       "      <td>Finals</td>\n",
       "      <td>2011</td>\n",
       "      <td>Europe</td>\n",
       "      <td>aAa</td>\n",
       "    </tr>\n",
       "    <tr>\n",
       "      <th>2</th>\n",
       "      <td>Worlds Season 1</td>\n",
       "      <td>WCS</td>\n",
       "      <td>2011-06-18 08:30:00</td>\n",
       "      <td>45:09</td>\n",
       "      <td>against All authority</td>\n",
       "      <td>Epik Gamer</td>\n",
       "      <td>0</td>\n",
       "      <td>1</td>\n",
       "      <td>Epik Gamer</td>\n",
       "      <td>Round 3</td>\n",
       "      <td>2011</td>\n",
       "      <td>Europe</td>\n",
       "      <td>aAa</td>\n",
       "    </tr>\n",
       "    <tr>\n",
       "      <th>3</th>\n",
       "      <td>Worlds Season 1</td>\n",
       "      <td>WCS</td>\n",
       "      <td>2011-06-18 08:30:00</td>\n",
       "      <td>45:09</td>\n",
       "      <td>against All authority</td>\n",
       "      <td>Epik Gamer</td>\n",
       "      <td>0</td>\n",
       "      <td>1</td>\n",
       "      <td>Epik Gamer</td>\n",
       "      <td>Round 3</td>\n",
       "      <td>2011</td>\n",
       "      <td>Europe</td>\n",
       "      <td>aAa</td>\n",
       "    </tr>\n",
       "    <tr>\n",
       "      <th>4</th>\n",
       "      <td>Worlds Season 1</td>\n",
       "      <td>WCS</td>\n",
       "      <td>2011-06-18 08:30:00</td>\n",
       "      <td>45:09</td>\n",
       "      <td>against All authority</td>\n",
       "      <td>Epik Gamer</td>\n",
       "      <td>0</td>\n",
       "      <td>1</td>\n",
       "      <td>Epik Gamer</td>\n",
       "      <td>Round 2</td>\n",
       "      <td>2011</td>\n",
       "      <td>Europe</td>\n",
       "      <td>aAa</td>\n",
       "    </tr>\n",
       "  </tbody>\n",
       "</table>\n",
       "</div>"
      ],
      "text/plain": [
       "        Tournament League                Date Gamelength  \\\n",
       "0  Worlds Season 1    WCS 2011-06-18 08:30:00      45:09   \n",
       "1  Worlds Season 1    WCS 2011-06-18 08:30:00      45:09   \n",
       "2  Worlds Season 1    WCS 2011-06-18 08:30:00      45:09   \n",
       "3  Worlds Season 1    WCS 2011-06-18 08:30:00      45:09   \n",
       "4  Worlds Season 1    WCS 2011-06-18 08:30:00      45:09   \n",
       "\n",
       "                   Team1       Team2  Team1Score  Team2Score     WinTeam  \\\n",
       "0  against All authority  Epik Gamer           0           1  Epik Gamer   \n",
       "1  against All authority  Epik Gamer           0           1  Epik Gamer   \n",
       "2  against All authority  Epik Gamer           0           1  Epik Gamer   \n",
       "3  against All authority  Epik Gamer           0           1  Epik Gamer   \n",
       "4  against All authority  Epik Gamer           0           1  Epik Gamer   \n",
       "\n",
       "           Tab  Year  Region Team_abbr  \n",
       "0  Group Stage  2011  Europe       aAa  \n",
       "1       Finals  2011  Europe       aAa  \n",
       "2      Round 3  2011  Europe       aAa  \n",
       "3      Round 3  2011  Europe       aAa  \n",
       "4      Round 2  2011  Europe       aAa  "
      ]
     },
     "execution_count": 87,
     "metadata": {},
     "output_type": "execute_result"
    }
   ],
   "source": [
    "df_team1 = df_Scoreboard_Worlds2.merge(df_TeamRegion, left_on = 'Team1', right_on = 'Team', how = 'left')\n",
    "df_team1.head()"
   ]
  },
  {
   "cell_type": "code",
   "execution_count": 90,
   "id": "db918734-fca3-403e-9287-59bb7be667d9",
   "metadata": {
    "tags": []
   },
   "outputs": [],
   "source": [
    "df_team1and2 = df_team1.merge(df_TeamRegion, left_on = 'Team2', right_on = 'Team', how = 'left')\n",
    "df_team1and2.head()\n",
    "#cannot find some teams because they changed name"
   ]
  },
  {
   "cell_type": "markdown",
   "id": "c3bb43ff-3dc6-495f-a8da-05e707ffa1f4",
   "metadata": {},
   "source": [
    "## Matching old to new team names \n",
    "- only the ones that cannot be found in df above\n",
    "- some old team names may still not be matched to new ones unfortunately"
   ]
  },
  {
   "cell_type": "code",
   "execution_count": 107,
   "id": "26ab57bb-276d-46f7-8189-d71dcbcb9528",
   "metadata": {
    "tags": []
   },
   "outputs": [],
   "source": [
    "#import manually stored file for matching old to new team names\n",
    "df_OldtoNewTeams = pd.read_csv(\"OldtoNewTeams.csv\",index_col=0)\n",
    "\n",
    "#concatenate the two dataframes to add the new list of teams\n",
    "df_TeamRegion = pd.concat([df_TeamRegion,df_OldtoNewTeams])\n",
    "df_TeamRegion.to_csv(\"TeamRegion.csv\")"
   ]
  },
  {
   "cell_type": "code",
   "execution_count": 117,
   "id": "fc8978d7-a783-4909-a6eb-267d67de35fa",
   "metadata": {
    "tags": []
   },
   "outputs": [
    {
     "data": {
      "text/html": [
       "<div>\n",
       "<style scoped>\n",
       "    .dataframe tbody tr th:only-of-type {\n",
       "        vertical-align: middle;\n",
       "    }\n",
       "\n",
       "    .dataframe tbody tr th {\n",
       "        vertical-align: top;\n",
       "    }\n",
       "\n",
       "    .dataframe thead th {\n",
       "        text-align: right;\n",
       "    }\n",
       "</style>\n",
       "<table border=\"1\" class=\"dataframe\">\n",
       "  <thead>\n",
       "    <tr style=\"text-align: right;\">\n",
       "      <th></th>\n",
       "      <th>Tournament</th>\n",
       "      <th>League</th>\n",
       "      <th>Date</th>\n",
       "      <th>Gamelength</th>\n",
       "      <th>Team1</th>\n",
       "      <th>Team2</th>\n",
       "      <th>Team1Score</th>\n",
       "      <th>Team2Score</th>\n",
       "      <th>WinTeam</th>\n",
       "      <th>Stage</th>\n",
       "      <th>Year</th>\n",
       "      <th>Region_T1</th>\n",
       "      <th>Team_T1</th>\n",
       "      <th>Region_T2</th>\n",
       "      <th>Team_T2</th>\n",
       "    </tr>\n",
       "  </thead>\n",
       "  <tbody>\n",
       "    <tr>\n",
       "      <th>0</th>\n",
       "      <td>Worlds Season 1</td>\n",
       "      <td>WCS</td>\n",
       "      <td>2011-06-18 08:30:00</td>\n",
       "      <td>45:09</td>\n",
       "      <td>against All authority</td>\n",
       "      <td>Epik Gamer</td>\n",
       "      <td>0</td>\n",
       "      <td>1</td>\n",
       "      <td>Epik Gamer</td>\n",
       "      <td>Group Stage</td>\n",
       "      <td>2011</td>\n",
       "      <td>Europe</td>\n",
       "      <td>aAa</td>\n",
       "      <td>North America</td>\n",
       "      <td>EPIK</td>\n",
       "    </tr>\n",
       "    <tr>\n",
       "      <th>1</th>\n",
       "      <td>Worlds Season 1</td>\n",
       "      <td>WCS</td>\n",
       "      <td>2011-06-18 08:30:00</td>\n",
       "      <td>45:09</td>\n",
       "      <td>against All authority</td>\n",
       "      <td>Epik Gamer</td>\n",
       "      <td>0</td>\n",
       "      <td>1</td>\n",
       "      <td>Epik Gamer</td>\n",
       "      <td>Group Stage</td>\n",
       "      <td>2011</td>\n",
       "      <td>Europe</td>\n",
       "      <td>aAa</td>\n",
       "      <td>North America</td>\n",
       "      <td>EPIK</td>\n",
       "    </tr>\n",
       "    <tr>\n",
       "      <th>2</th>\n",
       "      <td>Worlds Season 1</td>\n",
       "      <td>WCS</td>\n",
       "      <td>2011-06-18 08:30:00</td>\n",
       "      <td>45:09</td>\n",
       "      <td>against All authority</td>\n",
       "      <td>Epik Gamer</td>\n",
       "      <td>0</td>\n",
       "      <td>1</td>\n",
       "      <td>Epik Gamer</td>\n",
       "      <td>Group Stage</td>\n",
       "      <td>2011</td>\n",
       "      <td>Europe</td>\n",
       "      <td>aAa</td>\n",
       "      <td>North America</td>\n",
       "      <td>EPIK</td>\n",
       "    </tr>\n",
       "    <tr>\n",
       "      <th>3</th>\n",
       "      <td>Worlds Season 1</td>\n",
       "      <td>WCS</td>\n",
       "      <td>2011-06-18 08:30:00</td>\n",
       "      <td>45:09</td>\n",
       "      <td>against All authority</td>\n",
       "      <td>Epik Gamer</td>\n",
       "      <td>0</td>\n",
       "      <td>1</td>\n",
       "      <td>Epik Gamer</td>\n",
       "      <td>Group Stage</td>\n",
       "      <td>2011</td>\n",
       "      <td>Europe</td>\n",
       "      <td>aAa</td>\n",
       "      <td>North America</td>\n",
       "      <td>EPIK</td>\n",
       "    </tr>\n",
       "    <tr>\n",
       "      <th>4</th>\n",
       "      <td>Worlds Season 1</td>\n",
       "      <td>WCS</td>\n",
       "      <td>2011-06-18 08:30:00</td>\n",
       "      <td>45:09</td>\n",
       "      <td>against All authority</td>\n",
       "      <td>Epik Gamer</td>\n",
       "      <td>0</td>\n",
       "      <td>1</td>\n",
       "      <td>Epik Gamer</td>\n",
       "      <td>Group Stage</td>\n",
       "      <td>2011</td>\n",
       "      <td>Europe</td>\n",
       "      <td>aAa</td>\n",
       "      <td>North America</td>\n",
       "      <td>EPIK</td>\n",
       "    </tr>\n",
       "  </tbody>\n",
       "</table>\n",
       "</div>"
      ],
      "text/plain": [
       "        Tournament League                Date Gamelength  \\\n",
       "0  Worlds Season 1    WCS 2011-06-18 08:30:00      45:09   \n",
       "1  Worlds Season 1    WCS 2011-06-18 08:30:00      45:09   \n",
       "2  Worlds Season 1    WCS 2011-06-18 08:30:00      45:09   \n",
       "3  Worlds Season 1    WCS 2011-06-18 08:30:00      45:09   \n",
       "4  Worlds Season 1    WCS 2011-06-18 08:30:00      45:09   \n",
       "\n",
       "                   Team1       Team2  Team1Score  Team2Score     WinTeam  \\\n",
       "0  against All authority  Epik Gamer           0           1  Epik Gamer   \n",
       "1  against All authority  Epik Gamer           0           1  Epik Gamer   \n",
       "2  against All authority  Epik Gamer           0           1  Epik Gamer   \n",
       "3  against All authority  Epik Gamer           0           1  Epik Gamer   \n",
       "4  against All authority  Epik Gamer           0           1  Epik Gamer   \n",
       "\n",
       "         Stage  Year Region_T1 Team_T1      Region_T2 Team_T2  \n",
       "0  Group Stage  2011    Europe     aAa  North America    EPIK  \n",
       "1  Group Stage  2011    Europe     aAa  North America    EPIK  \n",
       "2  Group Stage  2011    Europe     aAa  North America    EPIK  \n",
       "3  Group Stage  2011    Europe     aAa  North America    EPIK  \n",
       "4  Group Stage  2011    Europe     aAa  North America    EPIK  "
      ]
     },
     "execution_count": 117,
     "metadata": {},
     "output_type": "execute_result"
    }
   ],
   "source": [
    "#redo previous merge now that the teams can be found\n",
    "df_team1 = df_Scoreboard_Worlds2.merge(df_TeamRegion, left_on = 'Team1', right_on = 'Team', how = 'left')\n",
    "df_team1and2 = df_team1.merge(df_TeamRegion, left_on = 'Team2', right_on = 'Team', how = 'left')\n",
    "\n",
    "#clean dataframe\n",
    "df_team1and2.rename(columns={'Tab':'Stage','Region_x':'Region_T1','Team_abbr_x':'Team_T1','Region_y':'Region_T2','Team_abbr_y':'Team_T2'},inplace=True)\n",
    "\n",
    "df_team1and2.head()\n",
    "\n",
    "#df_team1and2.to_csv(\"Merged_1_2.csv\",index=False)"
   ]
  },
  {
   "cell_type": "code",
   "execution_count": 24,
   "id": "3e320f34-89f0-49dc-843e-390abaa25546",
   "metadata": {
    "collapsed": true,
    "jupyter": {
     "outputs_hidden": true
    },
    "tags": []
   },
   "outputs": [
    {
     "data": {
      "application/vnd.jupyter.widget-view+json": {
       "model_id": "e3554a0e78ee45368fd7393f919f352f",
       "version_major": 2,
       "version_minor": 0
      },
      "text/plain": [
       "0it [00:00, ?it/s]"
      ]
     },
     "metadata": {},
     "output_type": "display_data"
    },
    {
     "ename": "KeyboardInterrupt",
     "evalue": "",
     "output_type": "error",
     "traceback": [
      "\u001b[1;31m---------------------------------------------------------------------------\u001b[0m",
      "\u001b[1;31mKeyboardInterrupt\u001b[0m                         Traceback (most recent call last)",
      "Cell \u001b[1;32mIn[24], line 4\u001b[0m\n\u001b[0;32m      2\u001b[0m \u001b[38;5;28;01mfrom\u001b[39;00m \u001b[38;5;21;01mtqdm\u001b[39;00m\u001b[38;5;21;01m.\u001b[39;00m\u001b[38;5;21;01mnotebook\u001b[39;00m \u001b[38;5;28;01mimport\u001b[39;00m tqdm\n\u001b[0;32m      3\u001b[0m \u001b[38;5;28;01mfor\u001b[39;00m index,row \u001b[38;5;129;01min\u001b[39;00m tqdm(df_team1and2\u001b[38;5;241m.\u001b[39miterrows()):\n\u001b[1;32m----> 4\u001b[0m     df_team1and2[\u001b[38;5;124m\"\u001b[39m\u001b[38;5;124mRegion_T1_abbr\u001b[39m\u001b[38;5;124m\"\u001b[39m] \u001b[38;5;241m=\u001b[39m \u001b[43mdf_team1and2\u001b[49m\u001b[43m[\u001b[49m\u001b[38;5;124;43m\"\u001b[39;49m\u001b[38;5;124;43mRegion_T1\u001b[39;49m\u001b[38;5;124;43m\"\u001b[39;49m\u001b[43m]\u001b[49m\u001b[38;5;241;43m.\u001b[39;49m\u001b[43mapply\u001b[49m\u001b[43m(\u001b[49m\u001b[43mget_region_code\u001b[49m\u001b[43m)\u001b[49m\n",
      "File \u001b[1;32m~\\AppData\\Roaming\\jupyterlab-desktop\\jlab_server\\lib\\site-packages\\pandas\\core\\series.py:4771\u001b[0m, in \u001b[0;36mSeries.apply\u001b[1;34m(self, func, convert_dtype, args, **kwargs)\u001b[0m\n\u001b[0;32m   4661\u001b[0m \u001b[38;5;28;01mdef\u001b[39;00m \u001b[38;5;21mapply\u001b[39m(\n\u001b[0;32m   4662\u001b[0m     \u001b[38;5;28mself\u001b[39m,\n\u001b[0;32m   4663\u001b[0m     func: AggFuncType,\n\u001b[1;32m   (...)\u001b[0m\n\u001b[0;32m   4666\u001b[0m     \u001b[38;5;241m*\u001b[39m\u001b[38;5;241m*\u001b[39mkwargs,\n\u001b[0;32m   4667\u001b[0m ) \u001b[38;5;241m-\u001b[39m\u001b[38;5;241m>\u001b[39m DataFrame \u001b[38;5;241m|\u001b[39m Series:\n\u001b[0;32m   4668\u001b[0m \u001b[38;5;250m    \u001b[39m\u001b[38;5;124;03m\"\"\"\u001b[39;00m\n\u001b[0;32m   4669\u001b[0m \u001b[38;5;124;03m    Invoke function on values of Series.\u001b[39;00m\n\u001b[0;32m   4670\u001b[0m \n\u001b[1;32m   (...)\u001b[0m\n\u001b[0;32m   4769\u001b[0m \u001b[38;5;124;03m    dtype: float64\u001b[39;00m\n\u001b[0;32m   4770\u001b[0m \u001b[38;5;124;03m    \"\"\"\u001b[39;00m\n\u001b[1;32m-> 4771\u001b[0m     \u001b[38;5;28;01mreturn\u001b[39;00m \u001b[43mSeriesApply\u001b[49m\u001b[43m(\u001b[49m\u001b[38;5;28;43mself\u001b[39;49m\u001b[43m,\u001b[49m\u001b[43m \u001b[49m\u001b[43mfunc\u001b[49m\u001b[43m,\u001b[49m\u001b[43m \u001b[49m\u001b[43mconvert_dtype\u001b[49m\u001b[43m,\u001b[49m\u001b[43m \u001b[49m\u001b[43margs\u001b[49m\u001b[43m,\u001b[49m\u001b[43m \u001b[49m\u001b[43mkwargs\u001b[49m\u001b[43m)\u001b[49m\u001b[38;5;241;43m.\u001b[39;49m\u001b[43mapply\u001b[49m\u001b[43m(\u001b[49m\u001b[43m)\u001b[49m\n",
      "File \u001b[1;32m~\\AppData\\Roaming\\jupyterlab-desktop\\jlab_server\\lib\\site-packages\\pandas\\core\\apply.py:1123\u001b[0m, in \u001b[0;36mSeriesApply.apply\u001b[1;34m(self)\u001b[0m\n\u001b[0;32m   1120\u001b[0m     \u001b[38;5;28;01mreturn\u001b[39;00m \u001b[38;5;28mself\u001b[39m\u001b[38;5;241m.\u001b[39mapply_str()\n\u001b[0;32m   1122\u001b[0m \u001b[38;5;66;03m# self.f is Callable\u001b[39;00m\n\u001b[1;32m-> 1123\u001b[0m \u001b[38;5;28;01mreturn\u001b[39;00m \u001b[38;5;28;43mself\u001b[39;49m\u001b[38;5;241;43m.\u001b[39;49m\u001b[43mapply_standard\u001b[49m\u001b[43m(\u001b[49m\u001b[43m)\u001b[49m\n",
      "File \u001b[1;32m~\\AppData\\Roaming\\jupyterlab-desktop\\jlab_server\\lib\\site-packages\\pandas\\core\\apply.py:1174\u001b[0m, in \u001b[0;36mSeriesApply.apply_standard\u001b[1;34m(self)\u001b[0m\n\u001b[0;32m   1172\u001b[0m     \u001b[38;5;28;01melse\u001b[39;00m:\n\u001b[0;32m   1173\u001b[0m         values \u001b[38;5;241m=\u001b[39m obj\u001b[38;5;241m.\u001b[39mastype(\u001b[38;5;28mobject\u001b[39m)\u001b[38;5;241m.\u001b[39m_values\n\u001b[1;32m-> 1174\u001b[0m         mapped \u001b[38;5;241m=\u001b[39m \u001b[43mlib\u001b[49m\u001b[38;5;241;43m.\u001b[39;49m\u001b[43mmap_infer\u001b[49m\u001b[43m(\u001b[49m\n\u001b[0;32m   1175\u001b[0m \u001b[43m            \u001b[49m\u001b[43mvalues\u001b[49m\u001b[43m,\u001b[49m\n\u001b[0;32m   1176\u001b[0m \u001b[43m            \u001b[49m\u001b[43mf\u001b[49m\u001b[43m,\u001b[49m\n\u001b[0;32m   1177\u001b[0m \u001b[43m            \u001b[49m\u001b[43mconvert\u001b[49m\u001b[38;5;241;43m=\u001b[39;49m\u001b[38;5;28;43mself\u001b[39;49m\u001b[38;5;241;43m.\u001b[39;49m\u001b[43mconvert_dtype\u001b[49m\u001b[43m,\u001b[49m\n\u001b[0;32m   1178\u001b[0m \u001b[43m        \u001b[49m\u001b[43m)\u001b[49m\n\u001b[0;32m   1180\u001b[0m \u001b[38;5;28;01mif\u001b[39;00m \u001b[38;5;28mlen\u001b[39m(mapped) \u001b[38;5;129;01mand\u001b[39;00m \u001b[38;5;28misinstance\u001b[39m(mapped[\u001b[38;5;241m0\u001b[39m], ABCSeries):\n\u001b[0;32m   1181\u001b[0m     \u001b[38;5;66;03m# GH#43986 Need to do list(mapped) in order to get treated as nested\u001b[39;00m\n\u001b[0;32m   1182\u001b[0m     \u001b[38;5;66;03m#  See also GH#25959 regarding EA support\u001b[39;00m\n\u001b[0;32m   1183\u001b[0m     \u001b[38;5;28;01mreturn\u001b[39;00m obj\u001b[38;5;241m.\u001b[39m_constructor_expanddim(\u001b[38;5;28mlist\u001b[39m(mapped), index\u001b[38;5;241m=\u001b[39mobj\u001b[38;5;241m.\u001b[39mindex)\n",
      "File \u001b[1;32m~\\AppData\\Roaming\\jupyterlab-desktop\\jlab_server\\lib\\site-packages\\pandas\\_libs\\lib.pyx:2924\u001b[0m, in \u001b[0;36mpandas._libs.lib.map_infer\u001b[1;34m()\u001b[0m\n",
      "Cell \u001b[1;32mIn[19], line 33\u001b[0m, in \u001b[0;36mget_region_code\u001b[1;34m(region)\u001b[0m\n\u001b[0;32m     32\u001b[0m \u001b[38;5;28;01mdef\u001b[39;00m \u001b[38;5;21mget_region_code\u001b[39m(region):\n\u001b[1;32m---> 33\u001b[0m     \u001b[38;5;28;01mreturn\u001b[39;00m \u001b[43mdict_regions_code\u001b[49m[region]\n",
      "\u001b[1;31mKeyboardInterrupt\u001b[0m: "
     ]
    }
   ],
   "source": [
    "#add column for region code to Worlds Scoreboard\n",
    "from tqdm.notebook import tqdm\n",
    "for index,row in tqdm(df_team1and2.iterrows()):\n",
    "    df_team1and2[\"Region_T1_abbr\"] = df_team1and2[\"Region_T1\"].apply(get_region_code)\n",
    "\n",
    "#.iterrows() takes too long for so many rows using a dict and function\n",
    "#I decided to save a csv with the Region codes and merge instead - it should take less time"
   ]
  },
  {
   "cell_type": "code",
   "execution_count": 55,
   "id": "32a1b057-0f95-4eb8-b4ad-e37316cc382b",
   "metadata": {
    "tags": []
   },
   "outputs": [
    {
     "data": {
      "text/html": [
       "<div>\n",
       "<style scoped>\n",
       "    .dataframe tbody tr th:only-of-type {\n",
       "        vertical-align: middle;\n",
       "    }\n",
       "\n",
       "    .dataframe tbody tr th {\n",
       "        vertical-align: top;\n",
       "    }\n",
       "\n",
       "    .dataframe thead th {\n",
       "        text-align: right;\n",
       "    }\n",
       "</style>\n",
       "<table border=\"1\" class=\"dataframe\">\n",
       "  <thead>\n",
       "    <tr style=\"text-align: right;\">\n",
       "      <th></th>\n",
       "      <th>Tournament</th>\n",
       "      <th>League</th>\n",
       "      <th>Date</th>\n",
       "      <th>Gamelength</th>\n",
       "      <th>Team1</th>\n",
       "      <th>Team2</th>\n",
       "      <th>Team1Score</th>\n",
       "      <th>Team2Score</th>\n",
       "      <th>WinTeam</th>\n",
       "      <th>Stage</th>\n",
       "      <th>Year</th>\n",
       "      <th>Region_T1</th>\n",
       "      <th>Team_T1</th>\n",
       "      <th>Region_T2</th>\n",
       "      <th>Team_T2</th>\n",
       "      <th>Region_code_T1</th>\n",
       "      <th>Region_code_T2</th>\n",
       "    </tr>\n",
       "  </thead>\n",
       "  <tbody>\n",
       "    <tr>\n",
       "      <th>0</th>\n",
       "      <td>Worlds Season 1</td>\n",
       "      <td>WCS</td>\n",
       "      <td>2011-06-18 08:30:00</td>\n",
       "      <td>45:09</td>\n",
       "      <td>against All authority</td>\n",
       "      <td>Epik Gamer</td>\n",
       "      <td>0</td>\n",
       "      <td>1</td>\n",
       "      <td>Epik Gamer</td>\n",
       "      <td>Group Stage</td>\n",
       "      <td>2011</td>\n",
       "      <td>Europe</td>\n",
       "      <td>aAa</td>\n",
       "      <td>North America</td>\n",
       "      <td>EPIK</td>\n",
       "      <td>EMEA</td>\n",
       "      <td>NA</td>\n",
       "    </tr>\n",
       "    <tr>\n",
       "      <th>1</th>\n",
       "      <td>Worlds Season 1</td>\n",
       "      <td>WCS</td>\n",
       "      <td>2011-06-18 08:30:00</td>\n",
       "      <td>45:09</td>\n",
       "      <td>against All authority</td>\n",
       "      <td>Epik Gamer</td>\n",
       "      <td>0</td>\n",
       "      <td>1</td>\n",
       "      <td>Epik Gamer</td>\n",
       "      <td>Group Stage</td>\n",
       "      <td>2011</td>\n",
       "      <td>Europe</td>\n",
       "      <td>aAa</td>\n",
       "      <td>North America</td>\n",
       "      <td>EPIK</td>\n",
       "      <td>EMEA</td>\n",
       "      <td>NA</td>\n",
       "    </tr>\n",
       "    <tr>\n",
       "      <th>2</th>\n",
       "      <td>Worlds Season 1</td>\n",
       "      <td>WCS</td>\n",
       "      <td>2011-06-18 08:30:00</td>\n",
       "      <td>45:09</td>\n",
       "      <td>against All authority</td>\n",
       "      <td>Epik Gamer</td>\n",
       "      <td>0</td>\n",
       "      <td>1</td>\n",
       "      <td>Epik Gamer</td>\n",
       "      <td>Group Stage</td>\n",
       "      <td>2011</td>\n",
       "      <td>Europe</td>\n",
       "      <td>aAa</td>\n",
       "      <td>North America</td>\n",
       "      <td>EPIK</td>\n",
       "      <td>EMEA</td>\n",
       "      <td>NA</td>\n",
       "    </tr>\n",
       "    <tr>\n",
       "      <th>3</th>\n",
       "      <td>Worlds Season 1</td>\n",
       "      <td>WCS</td>\n",
       "      <td>2011-06-18 08:30:00</td>\n",
       "      <td>45:09</td>\n",
       "      <td>against All authority</td>\n",
       "      <td>Epik Gamer</td>\n",
       "      <td>0</td>\n",
       "      <td>1</td>\n",
       "      <td>Epik Gamer</td>\n",
       "      <td>Group Stage</td>\n",
       "      <td>2011</td>\n",
       "      <td>Europe</td>\n",
       "      <td>aAa</td>\n",
       "      <td>North America</td>\n",
       "      <td>EPIK</td>\n",
       "      <td>EMEA</td>\n",
       "      <td>NA</td>\n",
       "    </tr>\n",
       "    <tr>\n",
       "      <th>4</th>\n",
       "      <td>Worlds Season 1</td>\n",
       "      <td>WCS</td>\n",
       "      <td>2011-06-18 08:30:00</td>\n",
       "      <td>45:09</td>\n",
       "      <td>against All authority</td>\n",
       "      <td>Epik Gamer</td>\n",
       "      <td>0</td>\n",
       "      <td>1</td>\n",
       "      <td>Epik Gamer</td>\n",
       "      <td>Group Stage</td>\n",
       "      <td>2011</td>\n",
       "      <td>Europe</td>\n",
       "      <td>aAa</td>\n",
       "      <td>North America</td>\n",
       "      <td>EPIK</td>\n",
       "      <td>EMEA</td>\n",
       "      <td>NA</td>\n",
       "    </tr>\n",
       "  </tbody>\n",
       "</table>\n",
       "</div>"
      ],
      "text/plain": [
       "        Tournament League                 Date Gamelength  \\\n",
       "0  Worlds Season 1    WCS  2011-06-18 08:30:00      45:09   \n",
       "1  Worlds Season 1    WCS  2011-06-18 08:30:00      45:09   \n",
       "2  Worlds Season 1    WCS  2011-06-18 08:30:00      45:09   \n",
       "3  Worlds Season 1    WCS  2011-06-18 08:30:00      45:09   \n",
       "4  Worlds Season 1    WCS  2011-06-18 08:30:00      45:09   \n",
       "\n",
       "                   Team1       Team2  Team1Score  Team2Score     WinTeam  \\\n",
       "0  against All authority  Epik Gamer           0           1  Epik Gamer   \n",
       "1  against All authority  Epik Gamer           0           1  Epik Gamer   \n",
       "2  against All authority  Epik Gamer           0           1  Epik Gamer   \n",
       "3  against All authority  Epik Gamer           0           1  Epik Gamer   \n",
       "4  against All authority  Epik Gamer           0           1  Epik Gamer   \n",
       "\n",
       "         Stage  Year Region_T1 Team_T1      Region_T2 Team_T2 Region_code_T1  \\\n",
       "0  Group Stage  2011    Europe     aAa  North America    EPIK           EMEA   \n",
       "1  Group Stage  2011    Europe     aAa  North America    EPIK           EMEA   \n",
       "2  Group Stage  2011    Europe     aAa  North America    EPIK           EMEA   \n",
       "3  Group Stage  2011    Europe     aAa  North America    EPIK           EMEA   \n",
       "4  Group Stage  2011    Europe     aAa  North America    EPIK           EMEA   \n",
       "\n",
       "  Region_code_T2  \n",
       "0             NA  \n",
       "1             NA  \n",
       "2             NA  \n",
       "3             NA  \n",
       "4             NA  "
      ]
     },
     "execution_count": 55,
     "metadata": {},
     "output_type": "execute_result"
    }
   ],
   "source": [
    "df_Region_code = pd.read_csv(\"Region_Code.csv\",na_filter = False) #interprets NA as string instead of NaN value\n",
    "\n",
    "df_team1_code = df_team1and2.merge(df_Region_code, left_on = 'Region_T1', right_on = 'Region', how = 'left')\n",
    "df_team1_code.drop(columns=\"Region\",inplace=True)\n",
    "df_team1_code.head()\n",
    "\n",
    "df_team1and2_code = df_team1_code.merge(df_Region_code, left_on = 'Region_T2', right_on = 'Region', how = 'left')\n",
    "df_team1and2_code.drop(columns=\"Region\",inplace=True)\n",
    "\n",
    "#clean dataframe\n",
    "df_team1and2_code.rename(columns={\"Region_code_x\":\"Region_code_T1\",\"Region_code_y\":\"Region_code_T2\"},inplace=True)\n",
    "\n",
    "df_team1and2_code.head()\n",
    "\n",
    "#df_team1and2_code.to_csv(\"Merged_1_2_code.csv\",index=False)"
   ]
  },
  {
   "cell_type": "markdown",
   "id": "a90d44f8-76b5-46aa-8fa2-d7ff2aa26d7b",
   "metadata": {},
   "source": [
    "## Shortcut - Import df_team1and2"
   ]
  },
  {
   "cell_type": "code",
   "execution_count": 49,
   "id": "a81e6e15-01c6-437f-acda-4089838fd49c",
   "metadata": {},
   "outputs": [
    {
     "data": {
      "text/html": [
       "<div>\n",
       "<style scoped>\n",
       "    .dataframe tbody tr th:only-of-type {\n",
       "        vertical-align: middle;\n",
       "    }\n",
       "\n",
       "    .dataframe tbody tr th {\n",
       "        vertical-align: top;\n",
       "    }\n",
       "\n",
       "    .dataframe thead th {\n",
       "        text-align: right;\n",
       "    }\n",
       "</style>\n",
       "<table border=\"1\" class=\"dataframe\">\n",
       "  <thead>\n",
       "    <tr style=\"text-align: right;\">\n",
       "      <th></th>\n",
       "      <th>Tournament</th>\n",
       "      <th>League</th>\n",
       "      <th>Date</th>\n",
       "      <th>Gamelength</th>\n",
       "      <th>Team1</th>\n",
       "      <th>Team2</th>\n",
       "      <th>Team1Score</th>\n",
       "      <th>Team2Score</th>\n",
       "      <th>WinTeam</th>\n",
       "      <th>Stage</th>\n",
       "      <th>Year</th>\n",
       "      <th>Region_T1</th>\n",
       "      <th>Team_T1</th>\n",
       "      <th>Region_T2</th>\n",
       "      <th>Team_T2</th>\n",
       "    </tr>\n",
       "  </thead>\n",
       "  <tbody>\n",
       "    <tr>\n",
       "      <th>0</th>\n",
       "      <td>Worlds Season 1</td>\n",
       "      <td>WCS</td>\n",
       "      <td>2011-06-18 08:30:00</td>\n",
       "      <td>45:09</td>\n",
       "      <td>against All authority</td>\n",
       "      <td>Epik Gamer</td>\n",
       "      <td>0</td>\n",
       "      <td>1</td>\n",
       "      <td>Epik Gamer</td>\n",
       "      <td>Group Stage</td>\n",
       "      <td>2011</td>\n",
       "      <td>Europe</td>\n",
       "      <td>aAa</td>\n",
       "      <td>North America</td>\n",
       "      <td>EPIK</td>\n",
       "    </tr>\n",
       "    <tr>\n",
       "      <th>1</th>\n",
       "      <td>Worlds Season 1</td>\n",
       "      <td>WCS</td>\n",
       "      <td>2011-06-18 08:30:00</td>\n",
       "      <td>45:09</td>\n",
       "      <td>against All authority</td>\n",
       "      <td>Epik Gamer</td>\n",
       "      <td>0</td>\n",
       "      <td>1</td>\n",
       "      <td>Epik Gamer</td>\n",
       "      <td>Group Stage</td>\n",
       "      <td>2011</td>\n",
       "      <td>Europe</td>\n",
       "      <td>aAa</td>\n",
       "      <td>North America</td>\n",
       "      <td>EPIK</td>\n",
       "    </tr>\n",
       "    <tr>\n",
       "      <th>2</th>\n",
       "      <td>Worlds Season 1</td>\n",
       "      <td>WCS</td>\n",
       "      <td>2011-06-18 08:30:00</td>\n",
       "      <td>45:09</td>\n",
       "      <td>against All authority</td>\n",
       "      <td>Epik Gamer</td>\n",
       "      <td>0</td>\n",
       "      <td>1</td>\n",
       "      <td>Epik Gamer</td>\n",
       "      <td>Group Stage</td>\n",
       "      <td>2011</td>\n",
       "      <td>Europe</td>\n",
       "      <td>aAa</td>\n",
       "      <td>North America</td>\n",
       "      <td>EPIK</td>\n",
       "    </tr>\n",
       "    <tr>\n",
       "      <th>3</th>\n",
       "      <td>Worlds Season 1</td>\n",
       "      <td>WCS</td>\n",
       "      <td>2011-06-18 08:30:00</td>\n",
       "      <td>45:09</td>\n",
       "      <td>against All authority</td>\n",
       "      <td>Epik Gamer</td>\n",
       "      <td>0</td>\n",
       "      <td>1</td>\n",
       "      <td>Epik Gamer</td>\n",
       "      <td>Group Stage</td>\n",
       "      <td>2011</td>\n",
       "      <td>Europe</td>\n",
       "      <td>aAa</td>\n",
       "      <td>North America</td>\n",
       "      <td>EPIK</td>\n",
       "    </tr>\n",
       "    <tr>\n",
       "      <th>4</th>\n",
       "      <td>Worlds Season 1</td>\n",
       "      <td>WCS</td>\n",
       "      <td>2011-06-18 08:30:00</td>\n",
       "      <td>45:09</td>\n",
       "      <td>against All authority</td>\n",
       "      <td>Epik Gamer</td>\n",
       "      <td>0</td>\n",
       "      <td>1</td>\n",
       "      <td>Epik Gamer</td>\n",
       "      <td>Group Stage</td>\n",
       "      <td>2011</td>\n",
       "      <td>Europe</td>\n",
       "      <td>aAa</td>\n",
       "      <td>North America</td>\n",
       "      <td>EPIK</td>\n",
       "    </tr>\n",
       "  </tbody>\n",
       "</table>\n",
       "</div>"
      ],
      "text/plain": [
       "        Tournament League                 Date Gamelength  \\\n",
       "0  Worlds Season 1    WCS  2011-06-18 08:30:00      45:09   \n",
       "1  Worlds Season 1    WCS  2011-06-18 08:30:00      45:09   \n",
       "2  Worlds Season 1    WCS  2011-06-18 08:30:00      45:09   \n",
       "3  Worlds Season 1    WCS  2011-06-18 08:30:00      45:09   \n",
       "4  Worlds Season 1    WCS  2011-06-18 08:30:00      45:09   \n",
       "\n",
       "                   Team1       Team2  Team1Score  Team2Score     WinTeam  \\\n",
       "0  against All authority  Epik Gamer           0           1  Epik Gamer   \n",
       "1  against All authority  Epik Gamer           0           1  Epik Gamer   \n",
       "2  against All authority  Epik Gamer           0           1  Epik Gamer   \n",
       "3  against All authority  Epik Gamer           0           1  Epik Gamer   \n",
       "4  against All authority  Epik Gamer           0           1  Epik Gamer   \n",
       "\n",
       "         Stage  Year Region_T1 Team_T1      Region_T2 Team_T2  \n",
       "0  Group Stage  2011    Europe     aAa  North America    EPIK  \n",
       "1  Group Stage  2011    Europe     aAa  North America    EPIK  \n",
       "2  Group Stage  2011    Europe     aAa  North America    EPIK  \n",
       "3  Group Stage  2011    Europe     aAa  North America    EPIK  \n",
       "4  Group Stage  2011    Europe     aAa  North America    EPIK  "
      ]
     },
     "execution_count": 49,
     "metadata": {},
     "output_type": "execute_result"
    }
   ],
   "source": [
    "import pandas as pd\n",
    "df_team1and2 = pd.read_csv(\"Merged_1_2.csv\")"
   ]
  },
  {
   "cell_type": "markdown",
   "id": "983c215e-e09d-420f-9588-ea55e28be722",
   "metadata": {},
   "source": [
    "## Group by years and find out region participation"
   ]
  },
  {
   "cell_type": "code",
   "execution_count": 220,
   "id": "83c74dbb-417d-407f-849e-24c8aa2b7ab6",
   "metadata": {
    "tags": []
   },
   "outputs": [
    {
     "data": {
      "text/html": [
       "<div>\n",
       "<style scoped>\n",
       "    .dataframe tbody tr th:only-of-type {\n",
       "        vertical-align: middle;\n",
       "    }\n",
       "\n",
       "    .dataframe tbody tr th {\n",
       "        vertical-align: top;\n",
       "    }\n",
       "\n",
       "    .dataframe thead th {\n",
       "        text-align: right;\n",
       "    }\n",
       "</style>\n",
       "<table border=\"1\" class=\"dataframe\">\n",
       "  <thead>\n",
       "    <tr style=\"text-align: right;\">\n",
       "      <th></th>\n",
       "      <th>Year</th>\n",
       "      <th>Region_Code</th>\n",
       "      <th>Region_code_T1</th>\n",
       "      <th>Region_code_T2</th>\n",
       "      <th>Region_T1_T2</th>\n",
       "    </tr>\n",
       "  </thead>\n",
       "  <tbody>\n",
       "    <tr>\n",
       "      <th>0</th>\n",
       "      <td>2011</td>\n",
       "      <td>EMEA</td>\n",
       "      <td>672.0</td>\n",
       "      <td>420</td>\n",
       "      <td>1092.0</td>\n",
       "    </tr>\n",
       "    <tr>\n",
       "      <th>1</th>\n",
       "      <td>2011</td>\n",
       "      <td>NA</td>\n",
       "      <td>1092.0</td>\n",
       "      <td>546</td>\n",
       "      <td>1638.0</td>\n",
       "    </tr>\n",
       "    <tr>\n",
       "      <th>2</th>\n",
       "      <td>2012</td>\n",
       "      <td>CN</td>\n",
       "      <td>228.0</td>\n",
       "      <td>152</td>\n",
       "      <td>380.0</td>\n",
       "    </tr>\n",
       "    <tr>\n",
       "      <th>3</th>\n",
       "      <td>2012</td>\n",
       "      <td>EMEA</td>\n",
       "      <td>285.0</td>\n",
       "      <td>95</td>\n",
       "      <td>380.0</td>\n",
       "    </tr>\n",
       "    <tr>\n",
       "      <th>4</th>\n",
       "      <td>2012</td>\n",
       "      <td>INT</td>\n",
       "      <td>513.0</td>\n",
       "      <td>513</td>\n",
       "      <td>1026.0</td>\n",
       "    </tr>\n",
       "  </tbody>\n",
       "</table>\n",
       "</div>"
      ],
      "text/plain": [
       "   Year Region_Code  Region_code_T1  Region_code_T2  Region_T1_T2\n",
       "0  2011        EMEA           672.0             420        1092.0\n",
       "1  2011          NA          1092.0             546        1638.0\n",
       "2  2012          CN           228.0             152         380.0\n",
       "3  2012        EMEA           285.0              95         380.0\n",
       "4  2012         INT           513.0             513        1026.0"
      ]
     },
     "execution_count": 220,
     "metadata": {},
     "output_type": "execute_result"
    }
   ],
   "source": [
    "data1 = df_team1and2_code.groupby([\"Year\",\"Region_code_T1\"])[\"Region_code_T1\"].count()\n",
    "data2 = df_team1and2_code.groupby([\"Year\",\"Region_code_T2\"])[\"Region_code_T2\"].count()\n",
    "data = pd.concat([data1,data2],axis=1)\n",
    "df_participation = pd.DataFrame(data)\n",
    "df_participation[\"Region_T1_T2\"]=df_participation[\"Region_code_T1\"] + df_participation[\"Region_code_T2\"] \n",
    "df_participation= df_participation.reset_index()\n",
    "df_participation.rename(columns={df_participation.columns[1]:\"Region_Code\"},inplace=True)\n",
    "df_participation.head()\n",
    "#df_participation.to_csv(\"Try.csv\")\n",
    "\n",
    "#participation_data = df_participation.groupby([\"Year\",\"Region_Code\"])[\"Region_Code\"].count()\n",
    "#participation_data"
   ]
  },
  {
   "cell_type": "code",
   "execution_count": 204,
   "id": "cd65df20-b8ca-4d2a-939f-da4404db4724",
   "metadata": {
    "tags": []
   },
   "outputs": [],
   "source": [
    "data = df_team1and2_code.groupby([\"Region_code_T1\",\"Year\"])[\"Region_code_T1\"].count()\n"
   ]
  },
  {
   "cell_type": "code",
   "execution_count": 124,
   "id": "a7b14b82-e407-4fc9-b618-616c11e7f92e",
   "metadata": {
    "tags": []
   },
   "outputs": [
    {
     "data": {
      "image/png": "[encoded data removed]",
      "text/plain": [
       "<Figure size 500x2500 with 12 Axes>"
      ]
     },
     "metadata": {},
     "output_type": "display_data"
    }
   ],
   "source": [
    "data = df_team1and2_code.groupby([\"Year\",\"Region_code_T1\"])[\"Region_code_T1\"].count()\n",
    "\n",
    "#subplots per year of region participation\n",
    "import matplotlib.pyplot as plt\n",
    "\n",
    "fig, ax = plt.subplots(12,1, figsize = (5,25), sharey=True)\n",
    "#fig.suptitle(\"Region Participation per Year: 2011 - 2022\") \n",
    "\n",
    "ax[0].plot(data[2011])\n",
    "ax[1].plot(data[2012])\n",
    "ax[2].plot(data[2013])\n",
    "ax[3].plot(data[2014])\n",
    "ax[4].plot(data[2015])\n",
    "ax[5].plot(data[2016])\n",
    "ax[6].plot(data[2017])\n",
    "ax[7].plot(data[2018])\n",
    "ax[8].plot(data[2019])\n",
    "ax[9].plot(data[2020])\n",
    "ax[10].plot(data[2021])\n",
    "ax[11].plot(data[2022])\n",
    "\n",
    "fig.subplots_adjust(hspace=0.5)"
   ]
  },
  {
   "cell_type": "code",
   "execution_count": 193,
   "id": "02c4b20f-46c6-4e0a-806d-c41b930de28f",
   "metadata": {
    "tags": []
   },
   "outputs": [
    {
     "ename": "KeyError",
     "evalue": "2011",
     "output_type": "error",
     "traceback": [
      "\u001b[1;31m---------------------------------------------------------------------------\u001b[0m",
      "\u001b[1;31mKeyError\u001b[0m                                  Traceback (most recent call last)",
      "File \u001b[1;32m~\\AppData\\Roaming\\jupyterlab-desktop\\jlab_server\\lib\\site-packages\\pandas\\core\\indexes\\base.py:3802\u001b[0m, in \u001b[0;36mIndex.get_loc\u001b[1;34m(self, key, method, tolerance)\u001b[0m\n\u001b[0;32m   3801\u001b[0m \u001b[38;5;28;01mtry\u001b[39;00m:\n\u001b[1;32m-> 3802\u001b[0m     \u001b[38;5;28;01mreturn\u001b[39;00m \u001b[38;5;28;43mself\u001b[39;49m\u001b[38;5;241;43m.\u001b[39;49m\u001b[43m_engine\u001b[49m\u001b[38;5;241;43m.\u001b[39;49m\u001b[43mget_loc\u001b[49m\u001b[43m(\u001b[49m\u001b[43mcasted_key\u001b[49m\u001b[43m)\u001b[49m\n\u001b[0;32m   3803\u001b[0m \u001b[38;5;28;01mexcept\u001b[39;00m \u001b[38;5;167;01mKeyError\u001b[39;00m \u001b[38;5;28;01mas\u001b[39;00m err:\n",
      "File \u001b[1;32m~\\AppData\\Roaming\\jupyterlab-desktop\\jlab_server\\lib\\site-packages\\pandas\\_libs\\index.pyx:138\u001b[0m, in \u001b[0;36mpandas._libs.index.IndexEngine.get_loc\u001b[1;34m()\u001b[0m\n",
      "File \u001b[1;32m~\\AppData\\Roaming\\jupyterlab-desktop\\jlab_server\\lib\\site-packages\\pandas\\_libs\\index.pyx:165\u001b[0m, in \u001b[0;36mpandas._libs.index.IndexEngine.get_loc\u001b[1;34m()\u001b[0m\n",
      "File \u001b[1;32mpandas\\_libs\\hashtable_class_helper.pxi:5745\u001b[0m, in \u001b[0;36mpandas._libs.hashtable.PyObjectHashTable.get_item\u001b[1;34m()\u001b[0m\n",
      "File \u001b[1;32mpandas\\_libs\\hashtable_class_helper.pxi:5753\u001b[0m, in \u001b[0;36mpandas._libs.hashtable.PyObjectHashTable.get_item\u001b[1;34m()\u001b[0m\n",
      "\u001b[1;31mKeyError\u001b[0m: 2011",
      "\nThe above exception was the direct cause of the following exception:\n",
      "\u001b[1;31mKeyError\u001b[0m                                  Traceback (most recent call last)",
      "Cell \u001b[1;32mIn[193], line 9\u001b[0m\n\u001b[0;32m      6\u001b[0m \u001b[38;5;66;03m#fig.suptitle(\"Region Participation per Year: 2011 - 2022\") \u001b[39;00m\n\u001b[0;32m      8\u001b[0m \u001b[38;5;28;01mfor\u001b[39;00m i \u001b[38;5;129;01min\u001b[39;00m \u001b[38;5;28mrange\u001b[39m(\u001b[38;5;241m2011\u001b[39m,\u001b[38;5;241m2023\u001b[39m):\n\u001b[1;32m----> 9\u001b[0m     ax[i\u001b[38;5;241m-\u001b[39m\u001b[38;5;241m2011\u001b[39m]\u001b[38;5;241m.\u001b[39mplot(\u001b[43mdata\u001b[49m\u001b[43m[\u001b[49m\u001b[43mi\u001b[49m\u001b[43m]\u001b[49m)\n\u001b[0;32m     10\u001b[0m     ax[i\u001b[38;5;241m-\u001b[39m\u001b[38;5;241m2011\u001b[39m]\u001b[38;5;241m.\u001b[39mset_title(i)\n\u001b[0;32m     11\u001b[0m fig\u001b[38;5;241m.\u001b[39msubplots_adjust(hspace\u001b[38;5;241m=\u001b[39m\u001b[38;5;241m1.0\u001b[39m)\n",
      "File \u001b[1;32m~\\AppData\\Roaming\\jupyterlab-desktop\\jlab_server\\lib\\site-packages\\pandas\\core\\frame.py:3807\u001b[0m, in \u001b[0;36mDataFrame.__getitem__\u001b[1;34m(self, key)\u001b[0m\n\u001b[0;32m   3805\u001b[0m \u001b[38;5;28;01mif\u001b[39;00m \u001b[38;5;28mself\u001b[39m\u001b[38;5;241m.\u001b[39mcolumns\u001b[38;5;241m.\u001b[39mnlevels \u001b[38;5;241m>\u001b[39m \u001b[38;5;241m1\u001b[39m:\n\u001b[0;32m   3806\u001b[0m     \u001b[38;5;28;01mreturn\u001b[39;00m \u001b[38;5;28mself\u001b[39m\u001b[38;5;241m.\u001b[39m_getitem_multilevel(key)\n\u001b[1;32m-> 3807\u001b[0m indexer \u001b[38;5;241m=\u001b[39m \u001b[38;5;28;43mself\u001b[39;49m\u001b[38;5;241;43m.\u001b[39;49m\u001b[43mcolumns\u001b[49m\u001b[38;5;241;43m.\u001b[39;49m\u001b[43mget_loc\u001b[49m\u001b[43m(\u001b[49m\u001b[43mkey\u001b[49m\u001b[43m)\u001b[49m\n\u001b[0;32m   3808\u001b[0m \u001b[38;5;28;01mif\u001b[39;00m is_integer(indexer):\n\u001b[0;32m   3809\u001b[0m     indexer \u001b[38;5;241m=\u001b[39m [indexer]\n",
      "File \u001b[1;32m~\\AppData\\Roaming\\jupyterlab-desktop\\jlab_server\\lib\\site-packages\\pandas\\core\\indexes\\base.py:3804\u001b[0m, in \u001b[0;36mIndex.get_loc\u001b[1;34m(self, key, method, tolerance)\u001b[0m\n\u001b[0;32m   3802\u001b[0m     \u001b[38;5;28;01mreturn\u001b[39;00m \u001b[38;5;28mself\u001b[39m\u001b[38;5;241m.\u001b[39m_engine\u001b[38;5;241m.\u001b[39mget_loc(casted_key)\n\u001b[0;32m   3803\u001b[0m \u001b[38;5;28;01mexcept\u001b[39;00m \u001b[38;5;167;01mKeyError\u001b[39;00m \u001b[38;5;28;01mas\u001b[39;00m err:\n\u001b[1;32m-> 3804\u001b[0m     \u001b[38;5;28;01mraise\u001b[39;00m \u001b[38;5;167;01mKeyError\u001b[39;00m(key) \u001b[38;5;28;01mfrom\u001b[39;00m \u001b[38;5;21;01merr\u001b[39;00m\n\u001b[0;32m   3805\u001b[0m \u001b[38;5;28;01mexcept\u001b[39;00m \u001b[38;5;167;01mTypeError\u001b[39;00m:\n\u001b[0;32m   3806\u001b[0m     \u001b[38;5;66;03m# If we have a listlike key, _check_indexing_error will raise\u001b[39;00m\n\u001b[0;32m   3807\u001b[0m     \u001b[38;5;66;03m#  InvalidIndexError. Otherwise we fall through and re-raise\u001b[39;00m\n\u001b[0;32m   3808\u001b[0m     \u001b[38;5;66;03m#  the TypeError.\u001b[39;00m\n\u001b[0;32m   3809\u001b[0m     \u001b[38;5;28mself\u001b[39m\u001b[38;5;241m.\u001b[39m_check_indexing_error(key)\n",
      "\u001b[1;31mKeyError\u001b[0m: 2011"
     ]
    },
    {
     "data": {
      "image/png": "[encoded data removed]",
      "text/plain": [
       "<Figure size 500x2500 with 12 Axes>"
      ]
     },
     "metadata": {},
     "output_type": "display_data"
    }
   ],
   "source": [
    "#participation_data = df_team1and2_code.groupby([\"Year\",\"Region_code_T1\"])[\"Region_code_T1\"].count()\n",
    "\n",
    "import matplotlib.pyplot as plt\n",
    "\n",
    "fig, ax = plt.subplots(12,1, figsize = (5,25), sharey=True)\n",
    "#fig.suptitle(\"Region Participation per Year: 2011 - 2022\") \n",
    "\n",
    "for i in range(2011,2023):\n",
    "    ax[i-2011].plot(data[i])\n",
    "    ax[i-2011].set_title(i)\n",
    "fig.subplots_adjust(hspace=1.0)"
   ]
  },
  {
   "cell_type": "code",
   "execution_count": null,
   "id": "45ad4a18-8151-49a5-802e-161247e31e7a",
   "metadata": {
    "tags": []
   },
   "outputs": [],
   "source": [
    "wins_data = df_team1and2_code.groupby([\"Year\",\"Region_code_T1\"])[\"Region_code_T1\"].count()\n",
    "import matplotlib.pyplot as plt\n",
    "\n",
    "fig, ax = plt.subplots(12,1, figsize = (5,25), sharey=True)\n",
    "#fig.suptitle(\"Region Participation per Year: 2011 - 2022\") \n",
    "\n",
    "for i in range(2011,2023):\n",
    "    ax[i-2011].plot(data[i])\n",
    "    ax[i-2011].set_title(i)\n",
    "fig.subplots_adjust(hspace=1.0)"
   ]
  },
  {
   "cell_type": "code",
   "execution_count": null,
   "id": "56135e96-adc0-408a-b0f9-8ce9f9888392",
   "metadata": {
    "tags": []
   },
   "outputs": [],
   "source": [
    "#add column for region code to Worlds Scoreboard\n",
    "for index,row in df_Scoreboard_Worlds2.iterrows():\n",
    "    df_Scoreboard_Worlds2[\"Region_code\"] = df_TeamRegion[\"Region\"].apply(get_region_code)\n",
    "    \n",
    "df_Scoreboard_Worlds2.head()"
   ]
  },
  {
   "cell_type": "code",
   "execution_count": null,
   "id": "2348949e-a2f0-4363-a3de-ea9588aec4a6",
   "metadata": {},
   "outputs": [],
   "source": []
  },
  {
   "cell_type": "code",
   "execution_count": null,
   "id": "a05af796-f3ef-4954-8b5f-f5f041a96e90",
   "metadata": {},
   "outputs": [],
   "source": []
  },
  {
   "cell_type": "code",
   "execution_count": null,
   "id": "a83b3107-b37c-4612-8d55-4b566a13d4a3",
   "metadata": {},
   "outputs": [],
   "source": []
  },
  {
   "cell_type": "code",
   "execution_count": null,
   "id": "2503661e-e2ee-40d4-bcb2-0d74f1025699",
   "metadata": {},
   "outputs": [],
   "source": []
  },
  {
   "cell_type": "code",
   "execution_count": null,
   "id": "bae6d75f-9a2c-4357-b4b4-90326af10cc3",
   "metadata": {},
   "outputs": [],
   "source": []
  },
  {
   "cell_type": "code",
   "execution_count": null,
   "id": "7ea5fc4a-c590-424f-9352-b49d87ba08e1",
   "metadata": {},
   "outputs": [],
   "source": []
  },
  {
   "cell_type": "code",
   "execution_count": null,
   "id": "1e98bb70-cac3-42de-a6af-c91266854ae8",
   "metadata": {},
   "outputs": [],
   "source": []
  },
  {
   "cell_type": "code",
   "execution_count": null,
   "id": "21e2a984-c515-42fa-9a60-b7b708fad36b",
   "metadata": {
    "collapsed": true,
    "jupyter": {
     "outputs_hidden": true
    },
    "tags": []
   },
   "outputs": [],
   "source": []
  },
  {
   "cell_type": "code",
   "execution_count": null,
   "id": "0e26ce87-e93f-434d-9482-8904630244e6",
   "metadata": {
    "tags": []
   },
   "outputs": [],
   "source": [
    "#############################################################################################################################"
   ]
  },
  {
   "cell_type": "code",
   "execution_count": null,
   "id": "239149c7-7c4b-40df-8681-f9dbd40785e8",
   "metadata": {
    "tags": []
   },
   "outputs": [],
   "source": [
    "df_team1 = df_Scoreboard.merge(df_TeamRegion, left_on = 'Team1', right_on = 'Team', how = 'left')\n",
    "df_team1.rename(columns = {'Team':'Team1','Region':'Region_T1','Team_abbr':'T1_code'}, inplace = True)\n",
    "df_team1.head()\n",
    "#df_team1.to_csv(\"Merged Team 1.csv\")"
   ]
  },
  {
   "cell_type": "code",
   "execution_count": null,
   "id": "ca6286ea-7851-43c0-b14c-1f20e1576aef",
   "metadata": {
    "tags": []
   },
   "outputs": [],
   "source": [
    "#create dictionary to match start and end of league season\n",
    "#season dates found on Leaguepedia\n",
    "dict_match_season = {\n",
    "    2023:{'Start':'2022-11-11 00:00:00','End':'2023-10-01 00:00:00'},\n",
    "    2022:{'Start':'2021-11-11 00:00:00','End':'2022-10-01 00:00:00'},  \n",
    "    2021:{'Start':'2020-11-11 00:00:00','End':'2021-10-01 00:00:00'},  \n",
    "    2020:{'Start':'2019-11-11 00:00:00','End':'2020-10-01 00:00:00'},  \n",
    "    2019:{'Start':'2018-11-04 00:00:00','End':'2019-10-09 00:00:00'},\n",
    "    2018:{'Start':'2017-11-05 00:00:00','End':'2018-10-08 00:00:00'},\n",
    "    2017:{'Start':'2016-10-30 00:00:00','End':'2017-09-30 00:00:00'},\n",
    "    2016:{'Start':'2015-10-30 00:00:00','End':'2016-09-30 00:00:00'},\n",
    "    2015:{'Start':'2014-10-30 00:00:00','End':'2015-09-30 00:00:00'},\n",
    "    2014:{'Start':'2013-10-30 00:00:00','End':'2014-09-30 00:00:00'},\n",
    "    2013:{'Start':'2012-10-30 00:00:00','End':'2013-09-30 00:00:00'},\n",
    "    2012:{'Start':'2011-10-30 00:00:00','End':'2012-09-30 00:00:00'},\n",
    "}"
   ]
  },
  {
   "cell_type": "code",
   "execution_count": null,
   "id": "8c2467bb-c93f-403c-940c-203192124d47",
   "metadata": {
    "tags": []
   },
   "outputs": [],
   "source": [
    "df_team1_2 = df_Scoreboard.merge(df_TeamRegion, left_on = 'Team1', right_on = 'Team', how = 'left')#\\\n",
    "                            #.merge(df_TeamRegion,left_on = 'Team2', right_on = 'Team', how = 'left', suffixes=(\"_T1\",\"_T2\"))\n",
    "#df_team1_2.head()\n",
    "df_team1_2.to_csv(\"Merged Teams.csv\")"
   ]
  },
  {
   "cell_type": "code",
   "execution_count": null,
   "id": "4a19f27c-a23e-428c-a9e1-c5c126088e44",
   "metadata": {
    "tags": []
   },
   "outputs": [],
   "source": [
    "#create dictionary for all match stats within the season \n",
    "dict_match_data_per_season=dict()\n",
    "for date in dict_match_season:\n",
    "    dict_match_data_per_season[date] = df_Scoreboard[\n",
    "        (df_Scoreboard.Date>dict_match_season[date]['Start'])&\n",
    "        (df_Scoreboard.Date<dict_match_season[date]['End'])]"
   ]
  },
  {
   "cell_type": "code",
   "execution_count": null,
   "id": "7fb9830e-caee-47c2-8449-a54658b6cf0b",
   "metadata": {
    "tags": []
   },
   "outputs": [],
   "source": [
    "#get match data per season\n",
    "df_match_data_per_season = pd.DataFrame(dict_match_data_per_season[2015])\n",
    "df_match_data_per_season.head()\n"
   ]
  },
  {
   "cell_type": "code",
   "execution_count": null,
   "id": "292ea83a-6d74-4f36-a4ac-86797947570a",
   "metadata": {
    "tags": []
   },
   "outputs": [],
   "source": [
    "#get leagues - without duplicates\n",
    "dict_match_data_per_season[2022][\"League\"].unique()"
   ]
  },
  {
   "cell_type": "code",
   "execution_count": null,
   "id": "6e7b5091-2cd6-48a7-b7e3-1d951e21d4dc",
   "metadata": {
    "tags": []
   },
   "outputs": [],
   "source": [
    "#because LoL changed the league names, I create a dictionary to match the old and new league names\n",
    "#alias = {\n",
    "dict_league_names = {\n",
    "    'GPL': 'PCS', \n",
    "    'NA LCS': 'LCS', \n",
    "    'EU LCS': 'LEC', \n",
    "    'LPL': 'LPL', \n",
    "    'TCL': 'PCS', \n",
    "    'LJL': 'LJL', \n",
    "    'CBLOL': 'CBLOL',\n",
    "    'LMS': 'PCS', \n",
    "    'OPL': 'OPL', \n",
    "    'CLS': 'LLA', \n",
    "    'LCK': 'LCK', \n",
    "    'LCL': 'LCL', \n",
    "    'LLN': 'LLA', \n",
    "    'VCS': 'PCS', \n",
    "    'LEC': 'LEC',\n",
    "    'LLA': 'LLA', \n",
    "    'LCS': 'LCS', \n",
    "    'PCS': 'PCS',\n",
    "    'LST': 'PCS'\n",
    "}\n",
    "list_regions = list(set([dict_league_names[name] for name in dict_league_names]))"
   ]
  },
  {
   "cell_type": "code",
   "execution_count": null,
   "id": "36808f48-da36-4b9e-85a1-b674bb504f74",
   "metadata": {},
   "outputs": [],
   "source": [
    "#create a dictionary for Worlds Stats \n",
    "dict_Worlds_data=dict()\n",
    "\n",
    "#create a dictionary for Groups Data\n",
    "dict_groups_data=dict()\n",
    "\n",
    "#for all years in stats 2011 - 2022:\n",
    "for year in range (2011, 2023):\n",
    "    \n",
    "    response = site.api('cargoquery',\n",
    "                        limit=\"max\",\n",
    "                        tables = \"MatchSchedule=M\",\n",
    "                        fields=\"M.Team1Final=Team1, M.Team2Final=Team2, M.Team1Score, M.Team2Score, M.Tab\",\n",
    "                        where = 'M.OverviewPage = \"'+str(year)+' Season World Championship/Main Event\"')\n",
    "    \n",
    "    #create dictionary for LoL Worlds Championship match stats\n",
    "    dict_Worlds_data[year] = pd.DataFrame ( [ a['title'] for a in response['cargoquery'] ] )\n",
    "    \n",
    "    response = site.api('cargoquery',\n",
    "                        limit=\"max\",\n",
    "                        tables = \"TournamentGroups=T\",\n",
    "                        fields=\"T.Team, T.GroupName\",\n",
    "                        where = 'T.OverviewPage = \"'+str(year)+' Season World Championship/Main Event\"')\n",
    "    \n",
    "    #create dictionary for Groups Data\n",
    "    dict_groups_data[year] = pd.DataFrame ( [ a['title'] for a in response['cargoquery'] ] )"
   ]
  },
  {
   "cell_type": "code",
   "execution_count": null,
   "id": "37da3b65-2ae2-4655-9c9e-4da2c4f41e9a",
   "metadata": {
    "tags": []
   },
   "outputs": [],
   "source": [
    "dict_Worlds_data"
   ]
  },
  {
   "cell_type": "code",
   "execution_count": null,
   "id": "c53da966-23a5-4999-b5b9-9ddd14286872",
   "metadata": {},
   "outputs": [],
   "source": [
    "def WhoWon(row):\n",
    "    if row[\"Team1Score\"]>row[\"Team2Score\"]: return row[\"Team1\"]\n",
    "    else: return row[\"Team2\"]"
   ]
  },
  {
   "cell_type": "code",
   "execution_count": null,
   "id": "ec3baf99-09c1-4bf8-9747-6a607ffa6cd4",
   "metadata": {},
   "outputs": [],
   "source": []
  },
  {
   "cell_type": "code",
   "execution_count": null,
   "id": "53f5d054-1eb3-49f2-9d5b-591376f3539c",
   "metadata": {
    "tags": []
   },
   "outputs": [],
   "source": [
    "df_KnockoutStage = dict() # Will contain the matches for the quarterfinals,semifinals and finals\n",
    "for year in range(2017,2023):\n",
    "    dict_groups_data[year][\"Wins\"] = 0\n",
    "    df_KnockoutStage[year] = pd.DataFrame([], columns=dict_Worlds_data[year].columns)\n",
    "    for index,row in dict_Worlds_data[year].iterrows():\n",
    "        if (row.Tab not in ['Quarterfinals', 'Semifinals', 'Finals']):\n",
    "            winner_row = dict_groups_data[year].Team == WhoWon(row)\n",
    "            dict_groups_data[year].Wins[winner_row] += 1\n",
    "        else:\n",
    "            df_KnockoutStage[year] = df_KnockoutStage[year].append(row)\n",
    "    df_KnockoutStage[year][\"Winner\"] = df_KnockoutStage[year].apply(WhoWon,axis=1)"
   ]
  },
  {
   "cell_type": "code",
   "execution_count": null,
   "id": "b52df2c4-e933-4fb9-ab83-ec89723b46d8",
   "metadata": {
    "tags": []
   },
   "outputs": [],
   "source": [
    "df_KnockoutStage[2022]"
   ]
  },
  {
   "cell_type": "code",
   "execution_count": null,
   "id": "d1bf76de-1ea2-4180-ab82-a4c47600824c",
   "metadata": {},
   "outputs": [],
   "source": [
    "df_Worlds_Winners = dict() # Will contain the matches for the quarterfinals,semifinals and finals\n",
    "for year in range(2015,2023):\n",
    "    dict_groups_data[year][\"Wins\"] = 0\n",
    "    df_KnockoutStage[year] = pd.DataFrame([], columns=dict_Worlds_data[year].columns)\n",
    "    for index,row in dict_Worlds_data[year].iterrows():\n",
    "        if (row.Tab not in ['Quarterfinals', 'Semifinals', 'Finals']):\n",
    "            winner_row = dict_groups_data[year].Team == WhoWon(row)\n",
    "            dict_groups_data[year].Wins[winner_row] += 1\n",
    "        else:\n",
    "            df_KnockoutStage[year] = df_KnockoutStage[year].append(row)\n",
    "    df_KnockoutStage[year][\"Winner\"] = df_KnockoutStage[year].apply(WhoWon,axis=1)"
   ]
  },
  {
   "cell_type": "code",
   "execution_count": null,
   "id": "03c58dfb-2ede-4263-814c-c9c43ee80050",
   "metadata": {},
   "outputs": [],
   "source": [
    "\n",
    "##########\n",
    "class CaseInsensitiveDict(dict):\n",
    "    \"\"\"Case-insensitive dictionary implementation.\"\"\"\n",
    "\n",
    "    def __getitem__(self, key):\n",
    "        return dict.__getitem__(self, key.casefold())\n"
   ]
  }
 ],
 "metadata": {
  "kernelspec": {
   "display_name": "Python 3 (ipykernel)",
   "language": "python",
   "name": "python3"
  },
  "language_info": {
   "codemirror_mode": {
    "name": "ipython",
    "version": 3
   },
   "file_extension": ".py",
   "mimetype": "text/x-python",
   "name": "python",
   "nbconvert_exporter": "python",
   "pygments_lexer": "ipython3",
   "version": "3.8.16"
  }
 },
 "nbformat": 4,
 "nbformat_minor": 5
}
