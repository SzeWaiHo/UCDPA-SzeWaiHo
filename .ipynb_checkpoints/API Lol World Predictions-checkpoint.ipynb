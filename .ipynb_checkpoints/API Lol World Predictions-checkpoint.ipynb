{
 "cells": [
  {
   "cell_type": "code",
   "execution_count": 1,
   "id": "0e95e314-30fc-4b14-93db-47f7dc9a5650",
   "metadata": {
    "tags": []
   },
   "outputs": [],
   "source": [
    "#https://github.com/Arakkun/LolWorldsPredictions/blob/main/Dataset-Scrape-And-Analysis.ipynb"
   ]
  },
  {
   "cell_type": "code",
   "execution_count": 3,
   "id": "93e0f3f9-c201-4bb3-979e-9883e10b1876",
   "metadata": {
    "tags": []
   },
   "outputs": [],
   "source": [
    "import mwclient"
   ]
  },
  {
   "cell_type": "code",
   "execution_count": 7,
   "id": "38f162d0-ad0c-4540-8304-063a2e490595",
   "metadata": {
    "tags": []
   },
   "outputs": [],
   "source": [
    "site = mwclient.Site('lol.fandom.com', path='/')"
   ]
  },
  {
   "cell_type": "code",
   "execution_count": 8,
   "id": "f685fe87-044e-4712-86e8-8ff0a9eb10da",
   "metadata": {
    "tags": []
   },
   "outputs": [
    {
     "data": {
      "application/vnd.jupyter.widget-view+json": {
       "model_id": "75f984d6de5345baa384c980bf6531fe",
       "version_major": 2,
       "version_minor": 0
      },
      "text/plain": [
       "  0%|          | 0/21 [00:00<?, ?it/s]"
      ]
     },
     "metadata": {},
     "output_type": "display_data"
    }
   ],
   "source": [
    "#https://lol.fandom.com/wiki/Help:Leaguepedia_API\n",
    "from tqdm.notebook import tqdm\n",
    "leagues=['GPL','IWCQ','WCS','LCS','LEC','LCK','LPL','CBLOL','LCL','LJL','LLA','OPL','PCS','VCS','TCL','LMS','LST','NA LCS','EU LCS','LLN','CLS']\n",
    "results = []\n",
    "for league in tqdm(leagues):\n",
    "    off=0\n",
    "    while(True):\n",
    "        response = site.api('cargoquery',\n",
    "                            offset=str(off),\n",
    "                            limit=\"500\",\n",
    "                            tables = \"Tournaments=T, Leagues=L, MatchSchedule=M\",\n",
    "                            fields=\"L.League_Short=League, T.Name=Tournament, M.DateTime_UTC=Date, M.Team1Final=Team1, M.Team2Final=Team2, M.Team1Score, M.Team2Score\",\n",
    "                            where = 'L.League_Short = \"'+league+'\"',\n",
    "                            join_on = \"T.League = L.League, T.OverviewPage=M.OverviewPage\")\n",
    "        results += response[\"cargoquery\"] \n",
    "        off=off+500\n",
    "        if(len(response[\"cargoquery\"])<500): break"
   ]
  },
  {
   "cell_type": "code",
   "execution_count": 35,
   "id": "6a7819e5-4d57-4b2f-9316-7b9698b107f9",
   "metadata": {
    "tags": []
   },
   "outputs": [],
   "source": [
    "off=0\n",
    "while(True):\n",
    "        response = site.api('cargoquery',\n",
    "                            offset=str(off),\n",
    "                            limit=\"500\",\n",
    "                            tables = \"Tournaments=T, Leagues=L, MatchSchedule=M\",\n",
    "                            fields=\"T.League, T.Name=Tournament, M.DateTime_UTC=Date, M.Team1Final=Team1, M.Team2Final=Team2, M.Team1Score, M.Team2Score\",\n",
    "                            where = 'T.League = \"League of Legends SEA Tour\"',\n",
    "                            join_on = \"T.League = L.League, T.OverviewPage=M.OverviewPage\")\n",
    "        results += response[\"cargoquery\"] \n",
    "        off=off+500\n",
    "        if(len(response[\"cargoquery\"])<500): break"
   ]
  },
  {
   "cell_type": "code",
   "execution_count": 10,
   "id": "a36a6b71-8e6a-43a3-9c29-c2449deb112c",
   "metadata": {
    "tags": []
   },
   "outputs": [],
   "source": [
    "import pandas as pd\n",
    "MatchData = pd.DataFrame ( [ a['title'] for a in results ] )"
   ]
  },
  {
   "cell_type": "code",
   "execution_count": 34,
   "id": "ab74208a-337c-4c57-b3ac-2d40edd4ed1d",
   "metadata": {
    "tags": []
   },
   "outputs": [],
   "source": [
    "import pandas as pd\n",
    "MatchStats = pd.DataFrame (results)\n",
    "MatchStats.to_csv(\"Match_Stats_API.csv\")"
   ]
  },
  {
   "cell_type": "code",
   "execution_count": 11,
   "id": "53d88d40-4ab4-4282-bd35-ed4798a1cbd3",
   "metadata": {
    "tags": []
   },
   "outputs": [],
   "source": [
    "MatchData = MatchData.replace(\"\",float(\"NaN\")).dropna(axis='index', how='any')"
   ]
  },
  {
   "cell_type": "code",
   "execution_count": 12,
   "id": "98029698-698b-436c-aa33-203c53abc498",
   "metadata": {
    "tags": []
   },
   "outputs": [],
   "source": [
    "MatchData.sort_values(by=\"Date\",inplace=True)\n",
    "MatchData = MatchData.astype({'Team1Score':'int32','Team2Score':'int32'})"
   ]
  },
  {
   "cell_type": "code",
   "execution_count": 14,
   "id": "522504f6-378d-4125-a489-5b872e20bc8e",
   "metadata": {
    "tags": []
   },
   "outputs": [],
   "source": [
    "MatchData[\"Date\"] = pd.to_datetime(MatchData[\"Date\"], format='%Y-%m-%d %H:%M:%S')"
   ]
  },
  {
   "cell_type": "code",
   "execution_count": 15,
   "id": "3816b88e-fb7f-4cb9-bdd1-bacd96d79b3e",
   "metadata": {
    "tags": []
   },
   "outputs": [],
   "source": [
    "MatchData = MatchData.drop(\"Date__precision\", axis=1)"
   ]
  },
  {
   "cell_type": "code",
   "execution_count": 16,
   "id": "0b03fb3a-8f3e-4e76-a400-9c2eb094d621",
   "metadata": {
    "tags": []
   },
   "outputs": [
    {
     "name": "stderr",
     "output_type": "stream",
     "text": [
      "C:\\Users\\vivia\\AppData\\Local\\Temp\\ipykernel_2080\\1890168818.py:1: SettingWithCopyWarning: \n",
      "A value is trying to be set on a copy of a slice from a DataFrame\n",
      "\n",
      "See the caveats in the documentation: https://pandas.pydata.org/pandas-docs/stable/user_guide/indexing.html#returning-a-view-versus-a-copy\n",
      "  MatchData.League[MatchData.League=='League of Legends SEA Tour']=\"LST\"\n"
     ]
    }
   ],
   "source": [
    "MatchData.League[MatchData.League=='League of Legends SEA Tour']=\"LST\""
   ]
  },
  {
   "cell_type": "code",
   "execution_count": 28,
   "id": "2b20f0b3-3f84-46d2-9247-1392828fd500",
   "metadata": {
    "tags": []
   },
   "outputs": [],
   "source": [
    "LearningDates = {\n",
    "    2022:{'PreviousWCSEnd':'2021-11-11 00:00:00','PlayInEnd':'2022-10-01 00:00:00'},  \n",
    "    2021:{'PreviousWCSEnd':'2020-11-11 00:00:00','PlayInEnd':'2021-10-01 00:00:00'},  \n",
    "    2020:{'PreviousWCSEnd':'2019-11-11 00:00:00','PlayInEnd':'2020-10-01 00:00:00'},  \n",
    "    2019:{'PreviousWCSEnd':'2018-11-04 00:00:00','PlayInEnd':'2019-10-09 00:00:00'},\n",
    "    2018:{'PreviousWCSEnd':'2017-11-05 00:00:00','PlayInEnd':'2018-10-08 00:00:00'},\n",
    "    2017:{'PreviousWCSEnd':'2016-10-30 00:00:00','PlayInEnd':'2017-09-30 00:00:00'}\n",
    "}"
   ]
  },
  {
   "cell_type": "code",
   "execution_count": 29,
   "id": "71615f21-13ef-4721-9110-b61484a1f4fc",
   "metadata": {
    "tags": []
   },
   "outputs": [],
   "source": [
    "PerYearMatchData=dict()\n",
    "for date in LearningDates:\n",
    "    PerYearMatchData[date] = MatchData[\n",
    "        (MatchData.Date>LearningDates[date]['PreviousWCSEnd'])&\n",
    "        (MatchData.Date<LearningDates[date]['PlayInEnd'])]"
   ]
  },
  {
   "cell_type": "code",
   "execution_count": 32,
   "id": "855db70b-89c4-4429-ab46-f6aff8dacaa7",
   "metadata": {
    "tags": []
   },
   "outputs": [
    {
     "data": {
      "text/html": [
       "<div>\n",
       "<style scoped>\n",
       "    .dataframe tbody tr th:only-of-type {\n",
       "        vertical-align: middle;\n",
       "    }\n",
       "\n",
       "    .dataframe tbody tr th {\n",
       "        vertical-align: top;\n",
       "    }\n",
       "\n",
       "    .dataframe thead th {\n",
       "        text-align: right;\n",
       "    }\n",
       "</style>\n",
       "<table border=\"1\" class=\"dataframe\">\n",
       "  <thead>\n",
       "    <tr style=\"text-align: right;\">\n",
       "      <th></th>\n",
       "      <th>League</th>\n",
       "      <th>Tournament</th>\n",
       "      <th>Date</th>\n",
       "      <th>Team1</th>\n",
       "      <th>Team2</th>\n",
       "      <th>Team1Score</th>\n",
       "      <th>Team2Score</th>\n",
       "    </tr>\n",
       "  </thead>\n",
       "  <tbody>\n",
       "    <tr>\n",
       "      <th>13988</th>\n",
       "      <td>VCS</td>\n",
       "      <td>VCS 2021 Winter</td>\n",
       "      <td>2021-11-16 09:00:00</td>\n",
       "      <td>SBTC Esports</td>\n",
       "      <td>Team Secret (Vietnamese Team)</td>\n",
       "      <td>2</td>\n",
       "      <td>0</td>\n",
       "    </tr>\n",
       "    <tr>\n",
       "      <th>13989</th>\n",
       "      <td>VCS</td>\n",
       "      <td>VCS 2021 Winter</td>\n",
       "      <td>2021-11-16 12:00:00</td>\n",
       "      <td>Team Flash.Vietnam</td>\n",
       "      <td>Saigon Buffalo</td>\n",
       "      <td>0</td>\n",
       "      <td>2</td>\n",
       "    </tr>\n",
       "    <tr>\n",
       "      <th>13990</th>\n",
       "      <td>VCS</td>\n",
       "      <td>VCS 2021 Winter</td>\n",
       "      <td>2021-11-17 09:00:00</td>\n",
       "      <td>Burst The Sky Esports</td>\n",
       "      <td>Luxury Esports</td>\n",
       "      <td>0</td>\n",
       "      <td>2</td>\n",
       "    </tr>\n",
       "    <tr>\n",
       "      <th>13991</th>\n",
       "      <td>VCS</td>\n",
       "      <td>VCS 2021 Winter</td>\n",
       "      <td>2021-11-17 12:00:00</td>\n",
       "      <td>GAM Esports</td>\n",
       "      <td>CERBERUS Esports (Vietnamese Team)</td>\n",
       "      <td>1</td>\n",
       "      <td>2</td>\n",
       "    </tr>\n",
       "    <tr>\n",
       "      <th>13992</th>\n",
       "      <td>VCS</td>\n",
       "      <td>VCS 2021 Winter</td>\n",
       "      <td>2021-11-18 09:00:00</td>\n",
       "      <td>Team Secret (Vietnamese Team)</td>\n",
       "      <td>Team Flash.Vietnam</td>\n",
       "      <td>2</td>\n",
       "      <td>1</td>\n",
       "    </tr>\n",
       "    <tr>\n",
       "      <th>...</th>\n",
       "      <td>...</td>\n",
       "      <td>...</td>\n",
       "      <td>...</td>\n",
       "      <td>...</td>\n",
       "      <td>...</td>\n",
       "      <td>...</td>\n",
       "      <td>...</td>\n",
       "    </tr>\n",
       "    <tr>\n",
       "      <th>1756</th>\n",
       "      <td>WCS</td>\n",
       "      <td>Worlds 2022 Play-In</td>\n",
       "      <td>2022-09-30 03:00:00</td>\n",
       "      <td>DRX</td>\n",
       "      <td>Royal Never Give Up</td>\n",
       "      <td>1</td>\n",
       "      <td>0</td>\n",
       "    </tr>\n",
       "    <tr>\n",
       "      <th>1757</th>\n",
       "      <td>WCS</td>\n",
       "      <td>Worlds 2022 Play-In</td>\n",
       "      <td>2022-09-30 20:00:00</td>\n",
       "      <td>Fnatic</td>\n",
       "      <td>DetonatioN FocusMe</td>\n",
       "      <td>1</td>\n",
       "      <td>0</td>\n",
       "    </tr>\n",
       "    <tr>\n",
       "      <th>1758</th>\n",
       "      <td>WCS</td>\n",
       "      <td>Worlds 2022 Play-In</td>\n",
       "      <td>2022-09-30 21:00:00</td>\n",
       "      <td>Evil Geniuses.NA</td>\n",
       "      <td>LOUD</td>\n",
       "      <td>1</td>\n",
       "      <td>0</td>\n",
       "    </tr>\n",
       "    <tr>\n",
       "      <th>1759</th>\n",
       "      <td>WCS</td>\n",
       "      <td>Worlds 2022 Play-In</td>\n",
       "      <td>2022-09-30 22:00:00</td>\n",
       "      <td>Saigon Buffalo</td>\n",
       "      <td>Isurus</td>\n",
       "      <td>1</td>\n",
       "      <td>0</td>\n",
       "    </tr>\n",
       "    <tr>\n",
       "      <th>1760</th>\n",
       "      <td>WCS</td>\n",
       "      <td>Worlds 2022 Play-In</td>\n",
       "      <td>2022-09-30 23:00:00</td>\n",
       "      <td>DetonatioN FocusMe</td>\n",
       "      <td>Chiefs Esports Club</td>\n",
       "      <td>1</td>\n",
       "      <td>0</td>\n",
       "    </tr>\n",
       "  </tbody>\n",
       "</table>\n",
       "<p>2043 rows × 7 columns</p>\n",
       "</div>"
      ],
      "text/plain": [
       "      League           Tournament                Date  \\\n",
       "13988    VCS      VCS 2021 Winter 2021-11-16 09:00:00   \n",
       "13989    VCS      VCS 2021 Winter 2021-11-16 12:00:00   \n",
       "13990    VCS      VCS 2021 Winter 2021-11-17 09:00:00   \n",
       "13991    VCS      VCS 2021 Winter 2021-11-17 12:00:00   \n",
       "13992    VCS      VCS 2021 Winter 2021-11-18 09:00:00   \n",
       "...      ...                  ...                 ...   \n",
       "1756     WCS  Worlds 2022 Play-In 2022-09-30 03:00:00   \n",
       "1757     WCS  Worlds 2022 Play-In 2022-09-30 20:00:00   \n",
       "1758     WCS  Worlds 2022 Play-In 2022-09-30 21:00:00   \n",
       "1759     WCS  Worlds 2022 Play-In 2022-09-30 22:00:00   \n",
       "1760     WCS  Worlds 2022 Play-In 2022-09-30 23:00:00   \n",
       "\n",
       "                               Team1                               Team2  \\\n",
       "13988                   SBTC Esports       Team Secret (Vietnamese Team)   \n",
       "13989             Team Flash.Vietnam                      Saigon Buffalo   \n",
       "13990          Burst The Sky Esports                      Luxury Esports   \n",
       "13991                    GAM Esports  CERBERUS Esports (Vietnamese Team)   \n",
       "13992  Team Secret (Vietnamese Team)                  Team Flash.Vietnam   \n",
       "...                              ...                                 ...   \n",
       "1756                             DRX                 Royal Never Give Up   \n",
       "1757                          Fnatic                  DetonatioN FocusMe   \n",
       "1758                Evil Geniuses.NA                                LOUD   \n",
       "1759                  Saigon Buffalo                              Isurus   \n",
       "1760              DetonatioN FocusMe                 Chiefs Esports Club   \n",
       "\n",
       "       Team1Score  Team2Score  \n",
       "13988           2           0  \n",
       "13989           0           2  \n",
       "13990           0           2  \n",
       "13991           1           2  \n",
       "13992           2           1  \n",
       "...           ...         ...  \n",
       "1756            1           0  \n",
       "1757            1           0  \n",
       "1758            1           0  \n",
       "1759            1           0  \n",
       "1760            1           0  \n",
       "\n",
       "[2043 rows x 7 columns]"
      ]
     },
     "execution_count": 32,
     "metadata": {},
     "output_type": "execute_result"
    }
   ],
   "source": [
    "PerYearMatchData[2022]"
   ]
  },
  {
   "cell_type": "code",
   "execution_count": 20,
   "id": "f5c6aa8c-2b8e-4ff3-8e19-2ac2c581bf8b",
   "metadata": {
    "tags": []
   },
   "outputs": [
    {
     "data": {
      "text/plain": [
       "array(['VCS', 'LPL', 'LEC', 'CBLOL', 'LCS', 'OPL', 'TCL', 'LCK', 'LJL',\n",
       "       'LLA', 'LCL', 'PCS', 'WCS'], dtype=object)"
      ]
     },
     "execution_count": 20,
     "metadata": {},
     "output_type": "execute_result"
    }
   ],
   "source": [
    "PerYearMatchData[2020][\"League\"].unique()"
   ]
  },
  {
   "cell_type": "code",
   "execution_count": 21,
   "id": "f759598a-5942-4d94-90f7-543aa8722616",
   "metadata": {
    "tags": []
   },
   "outputs": [],
   "source": [
    "alias = {\n",
    "    'GPL': 'PCS', \n",
    "    'NA LCS': 'LCS', \n",
    "    'EU LCS': 'LEC', \n",
    "    'LPL': 'LPL', \n",
    "    'TCL': 'PCS', \n",
    "    'LJL': 'LJL', \n",
    "    'CBLOL': 'CBLOL',\n",
    "    'LMS': 'PCS', \n",
    "    'OPL': 'OPL', \n",
    "    'CLS': 'LLA', \n",
    "    'LCK': 'LCK', \n",
    "    'LCL': 'LCL', \n",
    "    'LLN': 'LLA', \n",
    "    'VCS': 'PCS', \n",
    "    'LEC': 'LEC',\n",
    "    'LLA': 'LLA', \n",
    "    'LCS': 'LCS', \n",
    "    'PCS': 'PCS',\n",
    "    'LST': 'PCS'\n",
    "}\n",
    "regions = list(set([alias[name] for name in alias]))"
   ]
  },
  {
   "cell_type": "code",
   "execution_count": 22,
   "id": "1352d99a-1295-4d0e-a256-4c1d34c62d2e",
   "metadata": {
    "tags": []
   },
   "outputs": [],
   "source": [
    "regions_dict = {regions[i]:i for i in range(len(regions))}\n",
    "regions_indexes = {region:regions_dict[alias[region]] for region in alias}"
   ]
  },
  {
   "cell_type": "code",
   "execution_count": 23,
   "id": "17346b30-448f-4009-a96e-4121800b7242",
   "metadata": {
    "tags": []
   },
   "outputs": [],
   "source": [
    "WorldsData=dict()\n",
    "GroupsData=dict()\n",
    "for year in [2017,2018,2019,2020]:\n",
    "    response = site.api('cargoquery',\n",
    "                        limit=\"max\",\n",
    "                        tables = \"MatchSchedule=M\",\n",
    "                        fields=\"M.Team1Final=Team1, M.Team2Final=Team2, M.Team1Score, M.Team2Score, M.Tab\",\n",
    "                        where = 'M.OverviewPage = \"'+str(year)+' Season World Championship/Main Event\"')\n",
    "    WorldsData[year] = pd.DataFrame ( [ a['title'] for a in response['cargoquery'] ] )\n",
    "    response = site.api('cargoquery',\n",
    "                        limit=\"max\",\n",
    "                        tables = \"TournamentGroups=T\",\n",
    "                        fields=\"T.Team, T.GroupName\",\n",
    "                        where = 'T.OverviewPage = \"'+str(year)+' Season World Championship/Main Event\"')\n",
    "    GroupsData[year] = pd.DataFrame ( [ a['title'] for a in response['cargoquery'] ] )"
   ]
  },
  {
   "cell_type": "code",
   "execution_count": 24,
   "id": "7bd68ce2-2b76-48a4-8fdf-51dc1de642be",
   "metadata": {
    "tags": []
   },
   "outputs": [
    {
     "data": {
      "text/html": [
       "<div>\n",
       "<style scoped>\n",
       "    .dataframe tbody tr th:only-of-type {\n",
       "        vertical-align: middle;\n",
       "    }\n",
       "\n",
       "    .dataframe tbody tr th {\n",
       "        vertical-align: top;\n",
       "    }\n",
       "\n",
       "    .dataframe thead th {\n",
       "        text-align: right;\n",
       "    }\n",
       "</style>\n",
       "<table border=\"1\" class=\"dataframe\">\n",
       "  <thead>\n",
       "    <tr style=\"text-align: right;\">\n",
       "      <th></th>\n",
       "      <th>Team</th>\n",
       "      <th>GroupName</th>\n",
       "    </tr>\n",
       "  </thead>\n",
       "  <tbody>\n",
       "    <tr>\n",
       "      <th>0</th>\n",
       "      <td>DAMWON Gaming</td>\n",
       "      <td>Group B</td>\n",
       "    </tr>\n",
       "    <tr>\n",
       "      <th>1</th>\n",
       "      <td>DRX</td>\n",
       "      <td>Group D</td>\n",
       "    </tr>\n",
       "    <tr>\n",
       "      <th>2</th>\n",
       "      <td>FlyQuest</td>\n",
       "      <td>Group D</td>\n",
       "    </tr>\n",
       "    <tr>\n",
       "      <th>3</th>\n",
       "      <td>Fnatic</td>\n",
       "      <td>Group C</td>\n",
       "    </tr>\n",
       "    <tr>\n",
       "      <th>4</th>\n",
       "      <td>G2 Esports</td>\n",
       "      <td>Group A</td>\n",
       "    </tr>\n",
       "    <tr>\n",
       "      <th>5</th>\n",
       "      <td>Gen.G</td>\n",
       "      <td>Group C</td>\n",
       "    </tr>\n",
       "    <tr>\n",
       "      <th>6</th>\n",
       "      <td>JD Gaming</td>\n",
       "      <td>Group B</td>\n",
       "    </tr>\n",
       "    <tr>\n",
       "      <th>7</th>\n",
       "      <td>LGD Gaming</td>\n",
       "      <td>Group C</td>\n",
       "    </tr>\n",
       "    <tr>\n",
       "      <th>8</th>\n",
       "      <td>Machi Esports</td>\n",
       "      <td>Group A</td>\n",
       "    </tr>\n",
       "    <tr>\n",
       "      <th>9</th>\n",
       "      <td>PSG Talon</td>\n",
       "      <td>Group B</td>\n",
       "    </tr>\n",
       "    <tr>\n",
       "      <th>10</th>\n",
       "      <td>Rogue (European Team)</td>\n",
       "      <td>Group B</td>\n",
       "    </tr>\n",
       "    <tr>\n",
       "      <th>11</th>\n",
       "      <td>Suning</td>\n",
       "      <td>Group A</td>\n",
       "    </tr>\n",
       "    <tr>\n",
       "      <th>12</th>\n",
       "      <td>Team Liquid</td>\n",
       "      <td>Group A</td>\n",
       "    </tr>\n",
       "    <tr>\n",
       "      <th>13</th>\n",
       "      <td>Top Esports</td>\n",
       "      <td>Group D</td>\n",
       "    </tr>\n",
       "    <tr>\n",
       "      <th>14</th>\n",
       "      <td>TSM</td>\n",
       "      <td>Group C</td>\n",
       "    </tr>\n",
       "    <tr>\n",
       "      <th>15</th>\n",
       "      <td>Unicorns of Love.CIS</td>\n",
       "      <td>Group D</td>\n",
       "    </tr>\n",
       "  </tbody>\n",
       "</table>\n",
       "</div>"
      ],
      "text/plain": [
       "                     Team GroupName\n",
       "0           DAMWON Gaming   Group B\n",
       "1                     DRX   Group D\n",
       "2                FlyQuest   Group D\n",
       "3                  Fnatic   Group C\n",
       "4              G2 Esports   Group A\n",
       "5                   Gen.G   Group C\n",
       "6               JD Gaming   Group B\n",
       "7              LGD Gaming   Group C\n",
       "8           Machi Esports   Group A\n",
       "9               PSG Talon   Group B\n",
       "10  Rogue (European Team)   Group B\n",
       "11                 Suning   Group A\n",
       "12            Team Liquid   Group A\n",
       "13            Top Esports   Group D\n",
       "14                    TSM   Group C\n",
       "15   Unicorns of Love.CIS   Group D"
      ]
     },
     "execution_count": 24,
     "metadata": {},
     "output_type": "execute_result"
    }
   ],
   "source": [
    "GroupsData[2020]"
   ]
  },
  {
   "cell_type": "code",
   "execution_count": 25,
   "id": "1b559d94-5fc8-49f7-89d5-a704ced868ac",
   "metadata": {
    "tags": []
   },
   "outputs": [],
   "source": [
    "def WhoWon(row):\n",
    "    if row[\"Team1Score\"]>row[\"Team2Score\"]: return row[\"Team1\"]\n",
    "    else: return row[\"Team2\"]"
   ]
  },
  {
   "cell_type": "code",
   "execution_count": null,
   "id": "e764a789-00ac-46fd-9d62-67ce59eb186a",
   "metadata": {},
   "outputs": [],
   "source": []
  }
 ],
 "metadata": {
  "kernelspec": {
   "display_name": "Python 3 (ipykernel)",
   "language": "python",
   "name": "python3"
  },
  "language_info": {
   "codemirror_mode": {
    "name": "ipython",
    "version": 3
   },
   "file_extension": ".py",
   "mimetype": "text/x-python",
   "name": "python",
   "nbconvert_exporter": "python",
   "pygments_lexer": "ipython3",
   "version": "3.8.16"
  }
 },
 "nbformat": 4,
 "nbformat_minor": 5
}
