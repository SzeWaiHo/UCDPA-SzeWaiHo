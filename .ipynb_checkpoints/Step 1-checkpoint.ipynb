{
 "cells": [
  {
   "cell_type": "markdown",
   "id": "49d1e596-fd4b-4072-b858-d4b10424e10a",
   "metadata": {},
   "source": [
    "# Project - Who will win the LoL 2023 Worlds?"
   ]
  },
  {
   "cell_type": "markdown",
   "id": "b9c8776c-ffe2-4fa2-b67c-d822eaf5c807",
   "metadata": {},
   "source": [
    "# Step 1"
   ]
  },
  {
   "cell_type": "code",
   "execution_count": 2,
   "id": "0ecdb07e-322d-43e5-b9dd-1f479eec9007",
   "metadata": {
    "tags": []
   },
   "outputs": [],
   "source": [
    "#import pandas package for dataframe\n",
    "import pandas as pd"
   ]
  },
  {
   "cell_type": "code",
   "execution_count": 11,
   "id": "2bd6e2b2-746e-4eb6-967f-69f9674a3caa",
   "metadata": {
    "tags": []
   },
   "outputs": [],
   "source": [
    "# import dataset - match_stats (KAGGLE -Lol Worlds)\n",
    "match_stats_csv = pd.read_csv(\"match_stats_K.csv\", index_col = 0)"
   ]
  },
  {
   "cell_type": "code",
   "execution_count": 13,
   "id": "3dd7a4b8-b808-462c-ad7d-3e5f709e92e0",
   "metadata": {
    "collapsed": true,
    "jupyter": {
     "outputs_hidden": true
    },
    "tags": []
   },
   "outputs": [
    {
     "name": "stdout",
     "output_type": "stream",
     "text": [
      "                                                          date event  patch  \\\n",
      "League of Legends Worlds (2011-2022) Stats | Ka...                            \n",
      "1                                                   20/06/2011  Main    NaN   \n",
      "1                                                   20/06/2011  Main    NaN   \n",
      "1                                                   20/06/2011  Main    NaN   \n",
      "1                                                   20/06/2011  Main    NaN   \n",
      "1                                                   20/06/2011  Main    NaN   \n",
      "\n",
      "                                                                blue_team  \\\n",
      "League of Legends Worlds (2011-2022) Stats | Ka...                          \n",
      "1                                                   Against_All_authority   \n",
      "1                                                                  Fnatic   \n",
      "1                                                   Against_All_authority   \n",
      "1                                                              Epik_Gamer   \n",
      "1                                                                     TSM   \n",
      "\n",
      "                                                                 red_team  \\\n",
      "League of Legends Worlds (2011-2022) Stats | Ka...                          \n",
      "1                                                                  Fnatic   \n",
      "1                                                   Against_All_authority   \n",
      "1                                                                     TSM   \n",
      "1                                                                     TSM   \n",
      "1                                                              Epik_Gamer   \n",
      "\n",
      "                                                                   winner  \\\n",
      "League of Legends Worlds (2011-2022) Stats | Ka...                          \n",
      "1                                                                  Fnatic   \n",
      "1                                                   Against_All_authority   \n",
      "1                                                   Against_All_authority   \n",
      "1                                                                     TSM   \n",
      "1                                                                     TSM   \n",
      "\n",
      "                                                   ban_1_blue_team  \\\n",
      "League of Legends Worlds (2011-2022) Stats | Ka...                   \n",
      "1                                                          Alistar   \n",
      "1                                                             Nunu   \n",
      "1                                                        Jarvan IV   \n",
      "1                                                           Zilean   \n",
      "1                                                            Akali   \n",
      "\n",
      "                                                   ban_2_blue_team  \\\n",
      "League of Legends Worlds (2011-2022) Stats | Ka...                   \n",
      "1                                                           Gragas   \n",
      "1                                                          Warwick   \n",
      "1                                                            Annie   \n",
      "1                                                            Vayne   \n",
      "1                                                         Vladimir   \n",
      "\n",
      "                                                   ban_3_blue_team  \\\n",
      "League of Legends Worlds (2011-2022) Stats | Ka...                   \n",
      "1                                                           Anivia   \n",
      "1                                                            Amumu   \n",
      "1                                                           Singed   \n",
      "1                                                          Alistar   \n",
      "1                                                            Taric   \n",
      "\n",
      "                                                   ban_4_blue_team  ...  \\\n",
      "League of Legends Worlds (2011-2022) Stats | Ka...                  ...   \n",
      "1                                                              NaN  ...   \n",
      "1                                                              NaN  ...   \n",
      "1                                                              NaN  ...   \n",
      "1                                                              NaN  ...   \n",
      "1                                                              NaN  ...   \n",
      "\n",
      "                                                   top_blue_team  \\\n",
      "League of Legends Worlds (2011-2022) Stats | Ka...                 \n",
      "1                                                           MoMa   \n",
      "1                                                        Shushei   \n",
      "1                                                     YellOwStaR   \n",
      "1                                                          Dyrus   \n",
      "1                                                     TheRainMan   \n",
      "\n",
      "                                                   jungler_blue_team  \\\n",
      "League of Legends Worlds (2011-2022) Stats | Ka...                     \n",
      "1                                                              Linak   \n",
      "1                                                            Cyanide   \n",
      "1                                                              Linak   \n",
      "1                                                           Dan Dinh   \n",
      "1                                                          TheOddOne   \n",
      "\n",
      "                                                   mid_blue_team  \\\n",
      "League of Legends Worlds (2011-2022) Stats | Ka...                 \n",
      "1                                                           sOAZ   \n",
      "1                                                          xPeke   \n",
      "1                                                           MoMa   \n",
      "1                                                          Salce   \n",
      "1                                                       Reginald   \n",
      "\n",
      "                                                   adc_blue_team  \\\n",
      "League of Legends Worlds (2011-2022) Stats | Ka...                 \n",
      "1                                                     YellOwStaR   \n",
      "1                                                          Lamia   \n",
      "1                                                           sOAZ   \n",
      "1                                                       Westrice   \n",
      "1                                                          Chaox   \n",
      "\n",
      "                                                   support_blue_team  \\\n",
      "League of Legends Worlds (2011-2022) Stats | Ka...                     \n",
      "1                                                              Kujaa   \n",
      "1                                                           Mellisan   \n",
      "1                                                              Kujaa   \n",
      "1                                                         Doublelift   \n",
      "1                                                            Xpecial   \n",
      "\n",
      "                                                   top_red_team  \\\n",
      "League of Legends Worlds (2011-2022) Stats | Ka...                \n",
      "1                                                       Shushei   \n",
      "1                                                          sOAZ   \n",
      "1                                                         Chaox   \n",
      "1                                                    TheRainMan   \n",
      "1                                                      Westrice   \n",
      "\n",
      "                                                   jungler_red_team  \\\n",
      "League of Legends Worlds (2011-2022) Stats | Ka...                    \n",
      "1                                                           Cyanide   \n",
      "1                                                             Linak   \n",
      "1                                                         TheOddOne   \n",
      "1                                                         TheOddOne   \n",
      "1                                                          Dan Dinh   \n",
      "\n",
      "                                                   mid_red_team adc_red_team  \\\n",
      "League of Legends Worlds (2011-2022) Stats | Ka...                             \n",
      "1                                                         xPeke        Lamia   \n",
      "1                                                          MoMa   YellOwStaR   \n",
      "1                                                      Reginald   TheRainMan   \n",
      "1                                                      Reginald        Chaox   \n",
      "1                                                         Salce        Dyrus   \n",
      "\n",
      "                                                   support_red_team  \n",
      "League of Legends Worlds (2011-2022) Stats | Ka...                   \n",
      "1                                                          Mellisan  \n",
      "1                                                             Kujaa  \n",
      "1                                                           Xpecial  \n",
      "1                                                           Xpecial  \n",
      "1                                                        Doublelift  \n",
      "\n",
      "[5 rows x 36 columns]\n"
     ]
    }
   ],
   "source": [
    "df_match_stats = pd.DataFrame(match_stats_csv)\n",
    "print(df_match_stats.head())"
   ]
  },
  {
   "cell_type": "code",
   "execution_count": null,
   "id": "5abde4a0-6a99-4a4b-b05c-a8739810f05d",
   "metadata": {},
   "outputs": [],
   "source": []
  }
 ],
 "metadata": {
  "kernelspec": {
   "display_name": "Python 3 (ipykernel)",
   "language": "python",
   "name": "python3"
  },
  "language_info": {
   "codemirror_mode": {
    "name": "ipython",
    "version": 3
   },
   "file_extension": ".py",
   "mimetype": "text/x-python",
   "name": "python",
   "nbconvert_exporter": "python",
   "pygments_lexer": "ipython3",
   "version": "3.8.16"
  }
 },
 "nbformat": 4,
 "nbformat_minor": 5
}
