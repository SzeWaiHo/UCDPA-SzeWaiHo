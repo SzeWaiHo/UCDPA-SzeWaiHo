{
 "cells": [
  {
   "cell_type": "markdown",
   "id": "7e4b2bb8-0758-4e48-bb34-c63f5730742c",
   "metadata": {},
   "source": [
    "# unused code"
   ]
  },
  {
   "cell_type": "markdown",
   "id": "71d1eaf4-94e6-4bd5-af85-8a77677d45f7",
   "metadata": {
    "tags": []
   },
   "source": [
    "##"
   ]
  },
  {
   "cell_type": "markdown",
   "id": "8377a56b-f5bf-4f87-87b9-6da0ebd95ddf",
   "metadata": {
    "jp-MarkdownHeadingCollapsed": true,
    "tags": []
   },
   "source": [
    "## API full set of data with:\n",
    "- MATCH: Tournament, Date, League, GameLength, Team1, Team2, T1 Score, T2 Score\n",
    "- PLAYERS"
   ]
  },
  {
   "cell_type": "code",
   "execution_count": 2,
   "id": "5735a250-98a8-4e3a-945a-07ddfec8c596",
   "metadata": {
    "collapsed": true,
    "jupyter": {
     "outputs_hidden": true
    },
    "tags": []
   },
   "outputs": [
    {
     "data": {
      "application/vnd.jupyter.widget-view+json": {
       "model_id": "26f3a3087b2a4fc08bd9705d91458aee",
       "version_major": 2,
       "version_minor": 0
      },
      "text/plain": [
       "  0%|          | 0/1 [00:00<?, ?it/s]"
      ]
     },
     "metadata": {},
     "output_type": "display_data"
    },
    {
     "name": "stderr",
     "output_type": "stream",
     "text": [
      "\n",
      "KeyboardInterrupt\n",
      "\n"
     ]
    }
   ],
   "source": [
    "#https://lol.fandom.com/wiki/Help:Leaguepedia_API\n",
    "\"\"\" \n",
    "    This is the website I used to figure out how to query API from Leaguepedia (storing all match statistics)\n",
    "\"\"\"\n",
    "import mwclient\n",
    "\n",
    "#This is the LeaguePedia website that stores all match and team statistics\n",
    "site = mwclient.Site('lol.fandom.com', path='/')\n",
    "\n",
    "\n",
    "\"\"\"\n",
    "    I searched for a quicker way to iterate for loops because it took too long to run\n",
    "\"\"\"\n",
    "#https://github.com/tqdm/tqdm \n",
    "from tqdm.notebook import tqdm\n",
    "\n",
    "#pre-set the leagues I want to look at - all those that will qualify to worlds\n",
    "leagues=['GPL','IWCQ','WCS','LCS','LEC','LCK','LPL','CBLOL','LCL','LJL','LLA','OPL','PCS','VCS','TCL','LMS','LST','NA LCS','EU LCS','LLN','CLS']\n",
    "\n",
    "#create an empty list to store my dataset\n",
    "results = []\n",
    "\n",
    "#for loop to create my data base of match stats\n",
    "for league in tqdm(leagues):\n",
    "    off=0\n",
    "    \n",
    "    #while loop to retrive data thruogh API\n",
    "    while True:\n",
    "        #API query\n",
    "        response = site.api('cargoquery',\n",
    "                            offset=str(off),\n",
    "                            \n",
    "                            limit=\"500\",\n",
    "                            \n",
    "                            #retrive tables\n",
    "                            tables = \"ScoreboardGames=SG, ScoreboardPlayers=SP,Tournaments=T, Leagues=L\",\n",
    "                            \n",
    "                            #retrive fields as columns\n",
    "                            fields=\"T.Name=Tournament,\\\n",
    "                                    L.League_Short=League,\\\n",
    "                                    SP.Link,\\\n",
    "                                    SG.DateTime_UTC, SG.Gamelength, SG.Team1, SG.Team2, SG.Team1Score, SG.Team2Score\", \n",
    "                            \n",
    "                            #set condition (only include specified leagues)\n",
    "                            where = 'L.League_Short = \"'+league+'\"',\n",
    "                            \n",
    "                            #similar to vlookup in the web pages\n",
    "                            join_on = \"SG.OverviewPage=T.OverviewPage, T.League = L.League, SP.MatchId=SG.MatchId\")\n",
    "        \n",
    "        #add to database\n",
    "        results += response[\"cargoquery\"] \n",
    "        \n",
    "        #speed\n",
    "        off=off+500\n",
    "        if(len(response[\"cargoquery\"])<500): break\n",
    "        "
   ]
  },
  {
   "cell_type": "markdown",
   "id": "71cd2d24-705a-4454-84e7-c8eac64307eb",
   "metadata": {
    "jp-MarkdownHeadingCollapsed": true,
    "tags": []
   },
   "source": [
    "## Import df_Scoreboard"
   ]
  },
  {
   "cell_type": "code",
   "execution_count": null,
   "id": "fe49c99b-bd02-4548-828b-7b69e288d75f",
   "metadata": {
    "tags": []
   },
   "outputs": [],
   "source": [
    "import pandas as pd\n",
    "df_Scoreboard = pd.DataFrame([ a['title'] for a in results ])\n",
    "df_Scoreboard = df_Scoreboard.drop(\"DateTime UTC__precision\", axis=1)\n",
    "df_Scoreboard.sort_values(\"DateTime UTC\")\n",
    "df_Scoreboard.head()\n",
    "#df_Scoreboard.to_csv(\"Scoreboard.csv\")"
   ]
  },
  {
   "cell_type": "markdown",
   "id": "f6ae0c5c-bc9b-444c-85ce-b06c126bc3ec",
   "metadata": {
    "tags": []
   },
   "source": [
    "## API LCK set of data with PLAYERS team, ID, age, nationality, birthday"
   ]
  },
  {
   "cell_type": "code",
   "execution_count": null,
   "id": "5284909a-3a93-43f1-938b-f47d20b551eb",
   "metadata": {
    "tags": []
   },
   "outputs": [],
   "source": [
    "#https://lol.fandom.com/wiki/Help:Leaguepedia_API\n",
    "\"\"\" \n",
    "    This is the website I used to figure out how to query API from Leaguepedia (storing all match statistics)\n",
    "\"\"\"\n",
    "import mwclient\n",
    "\n",
    "#This is the LeaguePedia website that stores all match and team statistics\n",
    "site = mwclient.Site('lol.fandom.com', path='/')\n",
    "\n",
    "\n",
    "\"\"\"\n",
    "    I searched for a quicker way to iterate for loops because it took too long to run\n",
    "\"\"\"\n",
    "#https://github.com/tqdm/tqdm \n",
    "from tqdm.notebook import tqdm\n",
    "\n",
    "#pre-set the leagues I want to look at - all those that will qualify to worlds\n",
    "#leagues=['LCS','LEC','LCK','LPL','CBLOL','LJL','LLA','PCS','VCS']\n",
    "leagues=['LCK']\n",
    "\n",
    "#create an empty list to store my dataset\n",
    "results = []\n",
    "\n",
    "#for loop to create my data base of match stats\n",
    "for league in tqdm(leagues):\n",
    "    off=0\n",
    "    \n",
    "    #while loop to retrive data thruogh API\n",
    "    while True:\n",
    "        #API query\n",
    "        response = site.api('cargoquery',\n",
    "                            offset=str(off),\n",
    "                            \n",
    "                            limit=\"max\",\n",
    "                            \n",
    "                            #retrive tables\n",
    "                            tables = \"Teams=T, Players=P\",\n",
    "                            \n",
    "                            #retrive fields as columns\n",
    "                            fields=\"P.Team=Team, P.ID=ID, P.Nationality, P.Country,P.Birthdate,\\\n",
    "                                    T.Region=Region, T.Short\", \n",
    "                            \n",
    "                            #set condition \n",
    "                            #where = 'T.Name = P.Team',\n",
    "                            \n",
    "                            #similar to vlookup in the web pages\n",
    "                            join_on = \"T.Name = P.Team\")\n",
    "        \n",
    "        #add to database\n",
    "        results += response[\"cargoquery\"] \n",
    "        \n",
    "        #speed\n",
    "        off=off+500\n",
    "        if(len(response[\"cargoquery\"])<500): break\n",
    "\n",
    "        \n",
    "        \n",
    "import pandas as pd\n",
    "df_Players = pd.DataFrame([ a['title'] for a in results ])\n",
    "\n",
    "#drop birthdate precision\n",
    "df_Players = df_Players.drop(\"Birthdate__precision\", axis=1)\n",
    "\n",
    "df_Players.head()\n",
    "#df_Players.to_csv(\"Players.csv\")"
   ]
  },
  {
   "cell_type": "code",
   "execution_count": null,
   "id": "f741b03b-6963-416d-a5e6-73e7b194e97f",
   "metadata": {
    "tags": []
   },
   "outputs": [],
   "source": [
    "df_stats = df_Scoreboard.merge(df_Players, left_on = 'Team1', right_on = 'Team', how = 'left')\n",
    "df_stats.head()\n",
    "df_stats.to_csv(\"Merged.csv\")"
   ]
  },
  {
   "cell_type": "code",
   "execution_count": null,
   "id": "a2a2b374-236e-4bc2-acb3-d3e3ccbfb562",
   "metadata": {
    "tags": []
   },
   "outputs": [],
   "source": [
    "#####################################################################################################################################################\n",
    "#####################################################################################################################################################\n",
    "#####################################################################################################################################################\n",
    "#####################################################################################################################################################\n",
    "#####################################################################################################################################################"
   ]
  },
  {
   "cell_type": "markdown",
   "id": "41ecdefe-6971-452f-bbd8-515f2e4baddd",
   "metadata": {},
   "source": [
    "# Used Code"
   ]
  },
  {
   "cell_type": "markdown",
   "id": "c5a62311-034a-425c-b891-de5c57810422",
   "metadata": {},
   "source": [
    "## "
   ]
  },
  {
   "cell_type": "markdown",
   "id": "082bc0e2-902c-4237-b0d1-f1562683f1cc",
   "metadata": {},
   "source": [
    "## API full set of data with: (much faster)\n",
    "- MATCH: Tournament, Date, League, GameLength, Team1, Team2, T1 Score, T2 Score"
   ]
  },
  {
   "cell_type": "code",
   "execution_count": 46,
   "id": "84855732-aad3-4f2b-88f0-307f6f9635fd",
   "metadata": {
    "tags": []
   },
   "outputs": [
    {
     "data": {
      "application/vnd.jupyter.widget-view+json": {
       "model_id": "75369d1e0020469da44081dff253d7f2",
       "version_major": 2,
       "version_minor": 0
      },
      "text/plain": [
       "  0%|          | 0/21 [00:00<?, ?it/s]"
      ]
     },
     "metadata": {},
     "output_type": "display_data"
    }
   ],
   "source": [
    "import mwclient\n",
    "site = mwclient.Site('lol.fandom.com', path='/')\n",
    "\n",
    "from tqdm.notebook import tqdm\n",
    "\n",
    "leagues=['GPL','IWCQ','WCS','LCS','LEC','LCK','LPL','CBLOL','LCL','LJL','LLA','OPL','PCS','VCS','TCL','LMS','LST','NA LCS','EU LCS','LLN','CLS']\n",
    "\n",
    "results = []\n",
    "\n",
    "for league in tqdm(leagues):\n",
    "    off=0\n",
    "    \n",
    "    while True:\n",
    "    \n",
    "        response = site.api('cargoquery',\n",
    "                            offset=str(off),\n",
    "                            \n",
    "                            limit=\"max\",\n",
    "                            \n",
    "                            tables = \"ScoreboardGames=SG,Tournaments=T, Leagues=L\",\n",
    "                            \n",
    "                            fields=\"T.Name=Tournament,\\\n",
    "                                    L.League_Short=League,\\\n",
    "                                    SG.DateTime_UTC=Date, SG.Gamelength, SG.Team1, SG.Team2, SG.Team1Score, SG.Team2Score,SG.WinTeam\", \n",
    "                            \n",
    "                            where = 'L.League_Short = \"'+league+'\"',\n",
    "                            \n",
    "                            join_on = \"SG.OverviewPage=T.OverviewPage, T.League = L.League\")\n",
    "    \n",
    "        results += response[\"cargoquery\"] \n",
    "        \n",
    "        off=off+500\n",
    "        if(len(response[\"cargoquery\"])<500): break"
   ]
  },
  {
   "cell_type": "markdown",
   "id": "11607804-ad9e-4f9a-a569-18bcc46a8332",
   "metadata": {},
   "source": [
    "# Convert to Panda DataFrame and Clean Data"
   ]
  },
  {
   "cell_type": "code",
   "execution_count": 56,
   "id": "875f75b2-718b-40df-a39d-88a9888e8ddf",
   "metadata": {
    "tags": []
   },
   "outputs": [],
   "source": [
    "#import pandas package\n",
    "import pandas as pd\n",
    "\n",
    "#convert to dataframe from dictionary\n",
    "df_Scoreboard = pd.DataFrame([ a['title'] for a in results ])\n",
    "\n",
    "#drop unused column\n",
    "df_Scoreboard = df_Scoreboard.drop(\"Date__precision\", axis=1)\n",
    "\n",
    "#sort by date\n",
    "df_Scoreboard.sort_values(by = \"Date\",inplace=True)\n",
    "\n",
    "#split date and time\n",
    "df_Scoreboard[\"Date\"] = pd.to_datetime(df_Scoreboard[\"Date\"])\n",
    "df_Scoreboard[\"Year\"]= df_Scoreboard[\"Date\"].dt.year\n",
    "\n",
    "#convert Team 1 & 2 score as integers\n",
    "df_Scoreboard = df_Scoreboard.astype({'Team1Score':'int','Team2Score':'int'})\n",
    "\n",
    "#no index\n",
    "df_Scoreboard = df_Scoreboard.reset_index(drop=True)\n",
    "\n",
    "#preview first few rows\n",
    "df_Scoreboard.head()\n",
    "\n",
    "#save as csv\n",
    "df_Scoreboard.to_csv(\"Scoreboard.csv\", index=False)"
   ]
  },
  {
   "cell_type": "markdown",
   "id": "cc0927ec-3ef4-4bbc-a4ce-a0c9ae5f537b",
   "metadata": {},
   "source": [
    "## Shortcut - Import df_Scoreboard"
   ]
  },
  {
   "cell_type": "code",
   "execution_count": 1,
   "id": "8c6efbc6-0578-42fe-9424-c340d04b3f4c",
   "metadata": {
    "tags": []
   },
   "outputs": [],
   "source": [
    "import pandas as pd\n",
    "df_Scoreboard = pd.read_csv(\"Scoreboard.csv\",index_col=0)"
   ]
  },
  {
   "cell_type": "markdown",
   "id": "4e1b3f9c-5a33-4a4a-be7c-a2d59657662f",
   "metadata": {},
   "source": [
    "## Get Worlds 2011 - 2022 Winners\n",
    "## API full set of data with: (much faster)\n",
    "- MATCH: Tournament, Date, League, GameLength, Team1, Team2, T1 Score, T2 Score\n",
    "- Tab: Quarterfinals, Semifinals, Finals"
   ]
  },
  {
   "cell_type": "code",
   "execution_count": 49,
   "id": "853bc0a4-573d-423f-89d0-5a1d3504ede3",
   "metadata": {
    "tags": []
   },
   "outputs": [
    {
     "data": {
      "application/vnd.jupyter.widget-view+json": {
       "model_id": "0b00e913ed17455487797b2edce5fd89",
       "version_major": 2,
       "version_minor": 0
      },
      "text/plain": [
       "  0%|          | 0/1 [00:00<?, ?it/s]"
      ]
     },
     "metadata": {},
     "output_type": "display_data"
    }
   ],
   "source": [
    "import mwclient\n",
    "site = mwclient.Site('lol.fandom.com', path='/')\n",
    "\n",
    "from tqdm.notebook import tqdm\n",
    "\n",
    "leagues=['WCS']\n",
    "\n",
    "results = []\n",
    "\n",
    "for league in tqdm(leagues):\n",
    "    off=0\n",
    "    \n",
    "    while True:\n",
    " \n",
    "        response = site.api('cargoquery',\n",
    "                            offset=str(off),\n",
    "                            \n",
    "                            limit=\"max\",\n",
    "                            \n",
    "                            tables = \"ScoreboardGames=SG,Tournaments=T, Leagues=L, MatchSchedule=M\",\n",
    "                            \n",
    "                            fields=\"T.Name=Tournament,\\\n",
    "                                    L.League_Short=League,\\\n",
    "                                    SG.DateTime_UTC=Date, SG.Gamelength, SG.Team1, SG.Team2, SG.Team1Score, SG.Team2Score,SG.WinTeam, M.Tab\", \n",
    "                            \n",
    "                            where = 'L.League_Short = \"'+league+'\"',\n",
    "                            \n",
    "                            join_on = \"SG.OverviewPage=T.OverviewPage, T.League = L.League, M.OverviewPage=T.OverviewPage\")\n",
    "        \n",
    "        results += response[\"cargoquery\"] \n",
    "        \n",
    "        off=off+500\n",
    "        if(len(response[\"cargoquery\"])<500): break"
   ]
  },
  {
   "cell_type": "markdown",
   "id": "4838a1d1-bc9a-4bfa-8f77-ce5db63cdb37",
   "metadata": {},
   "source": [
    "## Convert to Panda DataFrame and Clean Data"
   ]
  },
  {
   "cell_type": "code",
   "execution_count": 60,
   "id": "27b8f390-c714-4362-8955-3c898aca2605",
   "metadata": {
    "tags": []
   },
   "outputs": [],
   "source": [
    "#import pandas package\n",
    "import pandas as pd\n",
    "\n",
    "#convert to dataframe from dictionary\n",
    "df_Scoreboard_Worlds = pd.DataFrame([ a['title'] for a in results ])\n",
    "\n",
    "#drop unused column\n",
    "df_Scoreboard_Worlds = df_Scoreboard_Worlds.drop(\"Date__precision\", axis=1)\n",
    "\n",
    "#sort by date\n",
    "df_Scoreboard_Worlds.sort_values(by = \"Date\",inplace=True)\n",
    "\n",
    "#split date and time\n",
    "df_Scoreboard_Worlds[\"Date\"] = pd.to_datetime(df_Scoreboard_Worlds[\"Date\"])\n",
    "df_Scoreboard_Worlds[\"Year\"]= df_Scoreboard_Worlds[\"Date\"].dt.year\n",
    "\n",
    "#convert Team 1 & 2 score as integers\n",
    "df_Scoreboard_Worlds = df_Scoreboard_Worlds.astype({'Team1Score':'int','Team2Score':'int'})\n",
    "\n",
    "#no index\n",
    "df_Scoreboard_Worlds = df_Scoreboard_Worlds.reset_index(drop=True)\n",
    "\n",
    "#preview first few rows\n",
    "df_Scoreboard_Worlds.head()\n",
    "\n",
    "#save as csv\n",
    "df_Scoreboard_Worlds.to_csv(\"Scoreboard_Worlds.csv\", index=False)"
   ]
  },
  {
   "cell_type": "markdown",
   "id": "d0ce582f-8da5-4479-bd2e-985fad4ed107",
   "metadata": {},
   "source": [
    "## Get Worlds Tournament only - dataset above contains regional finals"
   ]
  },
  {
   "cell_type": "code",
   "execution_count": 65,
   "id": "debbf695-23a3-4719-bf2e-58c737469421",
   "metadata": {
    "tags": []
   },
   "outputs": [],
   "source": [
    "#I want to get the winners of all the Worlds Championships only\n",
    "#I can't filter from 'WCS' league because it randomly includes regional finals\n",
    "#But the tournaments that begin with \"Worlds\" can be identified\n",
    "df_Scoreboard_Worlds2 = df_Scoreboard_Worlds[df_Scoreboard_Worlds[\"Tournament\"].str.startswith(\"Worlds\")]\n",
    "df_Scoreboard_Worlds2 = df_Scoreboard_Worlds2.reset_index(drop=True)\n",
    "df_Scoreboard_Worlds2.head()\n",
    "df_Scoreboard_Worlds2.to_csv(\"Scoreboard_Worlds2.csv\", index=False)"
   ]
  },
  {
   "cell_type": "markdown",
   "id": "3f42a335-73a9-415b-a86a-324422ff8b38",
   "metadata": {},
   "source": [
    "## Shortcut - Import df_Scoreboard_Worlds, df_Scoreboard_Worlds2"
   ]
  },
  {
   "cell_type": "code",
   "execution_count": 242,
   "id": "3b643eeb-930b-47f2-a76e-c8329ce463fb",
   "metadata": {
    "tags": []
   },
   "outputs": [],
   "source": [
    "import pandas as pd\n",
    "df_Scoreboard_Worlds = pd.read_csv(\"Scoreboard_Worlds.csv\", index_col=0)\n",
    "df_Scoreboard_Worlds2 = pd.read_csv(\"Scoreboard_Worlds2.csv\", index_col=0)"
   ]
  },
  {
   "cell_type": "markdown",
   "id": "0998fbc1-c74d-474e-9a68-88730de0e608",
   "metadata": {},
   "source": [
    "## Get Winners of Finals in Worlds "
   ]
  },
  {
   "cell_type": "code",
   "execution_count": 66,
   "id": "eb7fb028-efb3-45ca-897c-07789883fe2c",
   "metadata": {},
   "outputs": [],
   "source": [
    "#define function to get winner of each match\n",
    "def get_Winner(year):\n",
    "    df_Scoreboard_Worlds2[df_Scoreboard_Worlds2[\"Year\"]==year]\n",
    "    return"
   ]
  },
  {
   "cell_type": "markdown",
   "id": "b4a50715-f9de-4ea9-9df9-077648232adc",
   "metadata": {},
   "source": [
    "## Graph - Top 10 Team Winners in ALL matches of Worlds"
   ]
  },
  {
   "cell_type": "code",
   "execution_count": 67,
   "id": "f0e63afe-f37c-49ea-a322-8b1d9a2b1943",
   "metadata": {
    "tags": []
   },
   "outputs": [
    {
     "data": {
      "text/plain": [
       "<AxesSubplot: title={'center': 'Top 10 Teams'}, xlabel='Teams', ylabel='Matches won'>"
      ]
     },
     "execution_count": 67,
     "metadata": {},
     "output_type": "execute_result"
    },
    {
     "data": {
      "image/png": "[encoded data removed]",
      "text/plain": [
       "<Figure size 640x480 with 1 Axes>"
      ]
     },
     "metadata": {},
     "output_type": "display_data"
    }
   ],
   "source": [
    "#who won the most matches in Worlds Championship\n",
    "#most_wins = df_Scoreboard_Worlds2[\"WinTeam\"].value_counts()\n",
    "\n",
    "import seaborn as sns\n",
    "\n",
    "top_10_teams = (df_Scoreboard_Worlds2['WinTeam'].value_counts()).iloc[:10]\n",
    "\n",
    "#create bar chart of top 10 teams\n",
    "top_10_teams.plot(kind='bar',title='Top 10 Teams', xlabel = \"Teams\", ylabel = \"Matches won\")"
   ]
  },
  {
   "cell_type": "markdown",
   "id": "aeeb25b7-eb40-4560-8573-6c9de89bf396",
   "metadata": {},
   "source": [
    "## Get list of all World Winners - filter who won most matches in Finals"
   ]
  },
  {
   "cell_type": "code",
   "execution_count": 68,
   "id": "057b7ef5-b35b-4bc7-9b52-fa2a351ed147",
   "metadata": {
    "tags": []
   },
   "outputs": [],
   "source": [
    "#create function to get winner of each season/worlds \n",
    "def get_winner(year):\n",
    "    finals = df_Scoreboard_Worlds2[df_Scoreboard_Worlds2[\"Tab\"]==\"Finals\"]\n",
    "    finals_year = finals[finals[\"Year\"]==year]\n",
    "    winner = finals_year[\"WinTeam\"].value_counts( ).idxmax()\n",
    "    return winner\n",
    "\n",
    "get_winner(2020)\n",
    "\n",
    "#create dictionary for Worlds Winners\n",
    "years = [i for i in range(2011,2023)]\n",
    "\n",
    "winners = []\n",
    "for i in range(2011,2023):\n",
    "    winners.append(get_winner(i))\n",
    "\n",
    "dict_worlds_winners = {}\n",
    "for i in range(len(years)):\n",
    "    dict_worlds_winners[years[i]] = winners[i]\n"
   ]
  },
  {
   "cell_type": "markdown",
   "id": "88b816f6-cee5-4d10-821d-36b8dfdc66fe",
   "metadata": {},
   "source": [
    "## Convert to Panda DataFrame and Clean Data"
   ]
  },
  {
   "cell_type": "code",
   "execution_count": 69,
   "id": "fcb0f1b5-aa97-42ff-8c18-9418e732a5c9",
   "metadata": {
    "tags": []
   },
   "outputs": [],
   "source": [
    "#create dataframe from dictionary\n",
    "df_worlds_winners = pd.DataFrame(data = [dict_worlds_winners])\n",
    "df_worlds_winners = df_worlds_winners.transpose()\n",
    "df_worlds_winners.reset_index(inplace=True)\n",
    "df_worlds_winners.columns = [\"Year\",\"Winner\"]\n",
    "df_worlds_winners.to_csv(\"Worlds_Winners.csv\",index=False) "
   ]
  },
  {
   "cell_type": "markdown",
   "id": "9bf3d16a-7ff6-4074-892f-36730a9f780d",
   "metadata": {},
   "source": [
    "## Shortcut - Import df_worlds_winners"
   ]
  },
  {
   "cell_type": "code",
   "execution_count": 10,
   "id": "853b435f-69fa-4f03-acc8-0f47f1b77a24",
   "metadata": {
    "tags": []
   },
   "outputs": [],
   "source": [
    "import pandas as pd\n",
    "df_worlds_winners = pd.read_csv(\"Worlds_Winners.csv\",index_col=0) "
   ]
  },
  {
   "cell_type": "markdown",
   "id": "10f10c15-d5d6-44f7-b052-ae5e72cfdbc2",
   "metadata": {
    "tags": []
   },
   "source": [
    "## Get All Teams Region data\n",
    "## API full set of data with: (much faster)\n",
    "- TEAM: Name, Region, Abbreviation "
   ]
  },
  {
   "cell_type": "code",
   "execution_count": 480,
   "id": "74a8749a-5bcc-4fea-9d17-d64483cd1d61",
   "metadata": {
    "tags": []
   },
   "outputs": [
    {
     "data": {
      "application/vnd.jupyter.widget-view+json": {
       "model_id": "4d43771efc4a467d898b84d0e1bcf07f",
       "version_major": 2,
       "version_minor": 0
      },
      "text/plain": [
       "  0%|          | 0/21 [00:00<?, ?it/s]"
      ]
     },
     "metadata": {},
     "output_type": "display_data"
    }
   ],
   "source": [
    "import mwclient\n",
    "site = mwclient.Site('lol.fandom.com', path='/')\n",
    "\n",
    "from tqdm.notebook import tqdm\n",
    "\n",
    "leagues=['GPL','IWCQ','WCS','LCS','LEC','LCK','LPL','CBLOL','LCL','LJL','LLA','OPL','PCS','VCS','TCL','LMS','LST','NA LCS','EU LCS','LLN','CLS']\n",
    "\n",
    "results = []\n",
    "\n",
    "for league in tqdm(leagues):\n",
    "    off=0\n",
    "    \n",
    "    while True:\n",
    "\n",
    "        response = site.api(\"cargoquery\",\n",
    "                            offset=str(off),\n",
    "                            \n",
    "                            limit=\"max\",\n",
    "                            \n",
    "                            tables = \"Teams=T\",\n",
    "                            \n",
    "                            fields=\"T.Name=Team, T.Region=Region, T.Short=Team_abbr\")\n",
    "                            \n",
    "        results += response[\"cargoquery\"] \n",
    "        \n",
    "        off=off+500\n",
    "        if(len(response[\"cargoquery\"])<500): break"
   ]
  },
  {
   "cell_type": "markdown",
   "id": "a11bcc9f-a89a-4214-8676-f1658958de15",
   "metadata": {
    "tags": []
   },
   "source": [
    "# Convert to Panda DataFrame and Clean Data"
   ]
  },
  {
   "cell_type": "code",
   "execution_count": 481,
   "id": "c667bf63-abe4-44c4-ac17-cc4e489697ce",
   "metadata": {
    "tags": []
   },
   "outputs": [],
   "source": [
    "import pandas as pd\n",
    "df_TeamRegion = pd.DataFrame([ a['title'] for a in results ])\n",
    "\n",
    "#clean data - remove NaN's and duplicates\n",
    "df_TeamRegion = df_TeamRegion.dropna()\n",
    "df_TeamRegion = df_TeamRegion.drop_duplicates(subset=\"Team\")\n",
    "\n",
    "\n",
    "#no index\n",
    "df_TeamRegion = df_TeamRegion.reset_index(drop=True)\n",
    "\n",
    "#preview first few rows\n",
    "df_TeamRegion.head()\n",
    "\n",
    "#save as csv\n",
    "df_TeamRegion.to_csv(\"TeamRegion.csv\", index=False)"
   ]
  },
  {
   "cell_type": "markdown",
   "id": "9d42c836-5acc-4247-87eb-fca20937f24d",
   "metadata": {},
   "source": [
    "## Shortcut - Import df_TeamRegion"
   ]
  },
  {
   "cell_type": "code",
   "execution_count": 485,
   "id": "945307a1-669c-4bce-aefa-bdbf526fe3e7",
   "metadata": {
    "tags": []
   },
   "outputs": [],
   "source": [
    "import pandas as pd\n",
    "df_TeamRegion = pd.read_csv(\"TeamRegion.csv\",index_col=0)"
   ]
  },
  {
   "cell_type": "code",
   "execution_count": 6,
   "id": "46cddd84-5776-4193-bb09-352e8fcd9f7a",
   "metadata": {
    "tags": []
   },
   "outputs": [
    {
     "data": {
      "text/html": [
       "<div>\n",
       "<style scoped>\n",
       "    .dataframe tbody tr th:only-of-type {\n",
       "        vertical-align: middle;\n",
       "    }\n",
       "\n",
       "    .dataframe tbody tr th {\n",
       "        vertical-align: top;\n",
       "    }\n",
       "\n",
       "    .dataframe thead th {\n",
       "        text-align: right;\n",
       "    }\n",
       "</style>\n",
       "<table border=\"1\" class=\"dataframe\">\n",
       "  <thead>\n",
       "    <tr style=\"text-align: right;\">\n",
       "      <th></th>\n",
       "      <th>Region</th>\n",
       "      <th>Team_abbr</th>\n",
       "    </tr>\n",
       "    <tr>\n",
       "      <th>Team</th>\n",
       "      <th></th>\n",
       "      <th></th>\n",
       "    </tr>\n",
       "  </thead>\n",
       "  <tbody>\n",
       "    <tr>\n",
       "      <th>00 Nation</th>\n",
       "      <td>Europe</td>\n",
       "      <td>00N</td>\n",
       "    </tr>\n",
       "    <tr>\n",
       "      <th>00 Prospects</th>\n",
       "      <td>Europe</td>\n",
       "      <td>00P</td>\n",
       "    </tr>\n",
       "    <tr>\n",
       "      <th>1 Trick Ponies</th>\n",
       "      <td>North America</td>\n",
       "      <td>1TP</td>\n",
       "    </tr>\n",
       "    <tr>\n",
       "      <th>1. Berliner Esport-Club e.V.</th>\n",
       "      <td>Europe</td>\n",
       "      <td>BESC</td>\n",
       "    </tr>\n",
       "    <tr>\n",
       "      <th>100 Thieves</th>\n",
       "      <td>North America</td>\n",
       "      <td>100</td>\n",
       "    </tr>\n",
       "  </tbody>\n",
       "</table>\n",
       "</div>"
      ],
      "text/plain": [
       "                                     Region Team_abbr\n",
       "Team                                                 \n",
       "00 Nation                            Europe       00N\n",
       "00 Prospects                         Europe       00P\n",
       "1 Trick Ponies                North America       1TP\n",
       "1. Berliner Esport-Club e.V.         Europe      BESC\n",
       "100 Thieves                   North America       100"
      ]
     },
     "execution_count": 6,
     "metadata": {},
     "output_type": "execute_result"
    }
   ],
   "source": [
    "df_TeamRegion.head()"
   ]
  },
  {
   "cell_type": "code",
   "execution_count": 74,
   "id": "57dc4ab3-6043-4f19-9732-a2750bea3ba8",
   "metadata": {
    "collapsed": true,
    "jupyter": {
     "outputs_hidden": true
    },
    "tags": []
   },
   "outputs": [
    {
     "data": {
      "text/html": [
       "<div>\n",
       "<style scoped>\n",
       "    .dataframe tbody tr th:only-of-type {\n",
       "        vertical-align: middle;\n",
       "    }\n",
       "\n",
       "    .dataframe tbody tr th {\n",
       "        vertical-align: top;\n",
       "    }\n",
       "\n",
       "    .dataframe thead th {\n",
       "        text-align: right;\n",
       "    }\n",
       "</style>\n",
       "<table border=\"1\" class=\"dataframe\">\n",
       "  <thead>\n",
       "    <tr style=\"text-align: right;\">\n",
       "      <th></th>\n",
       "      <th>Year</th>\n",
       "      <th>Winner</th>\n",
       "      <th>Region</th>\n",
       "      <th>Team_abbr</th>\n",
       "    </tr>\n",
       "  </thead>\n",
       "  <tbody>\n",
       "    <tr>\n",
       "      <th>0</th>\n",
       "      <td>2011</td>\n",
       "      <td>Fnatic</td>\n",
       "      <td>EMEA</td>\n",
       "      <td>FNC</td>\n",
       "    </tr>\n",
       "    <tr>\n",
       "      <th>1</th>\n",
       "      <td>2012</td>\n",
       "      <td>Azubu Frost</td>\n",
       "      <td>Korea</td>\n",
       "      <td>AZF</td>\n",
       "    </tr>\n",
       "    <tr>\n",
       "      <th>2</th>\n",
       "      <td>2013</td>\n",
       "      <td>SK Telecom T1</td>\n",
       "      <td>Korea</td>\n",
       "      <td>SKT</td>\n",
       "    </tr>\n",
       "    <tr>\n",
       "      <th>3</th>\n",
       "      <td>2014</td>\n",
       "      <td>Samsung White</td>\n",
       "      <td>Korea</td>\n",
       "      <td>SSW</td>\n",
       "    </tr>\n",
       "    <tr>\n",
       "      <th>4</th>\n",
       "      <td>2015</td>\n",
       "      <td>SK Telecom T1</td>\n",
       "      <td>Korea</td>\n",
       "      <td>SKT</td>\n",
       "    </tr>\n",
       "  </tbody>\n",
       "</table>\n",
       "</div>"
      ],
      "text/plain": [
       "   Year         Winner Region Team_abbr\n",
       "0  2011         Fnatic   EMEA       FNC\n",
       "1  2012    Azubu Frost  Korea       AZF\n",
       "2  2013  SK Telecom T1  Korea       SKT\n",
       "3  2014  Samsung White  Korea       SSW\n",
       "4  2015  SK Telecom T1  Korea       SKT"
      ]
     },
     "execution_count": 74,
     "metadata": {},
     "output_type": "execute_result"
    }
   ],
   "source": [
    "df_worlds_winners2 = df_worlds_winners.merge(df_TeamRegion, left_on = \"Winner\", right_on = \"Team\", how = \"left\")\n",
    "df_worlds_winners2 = df_worlds_winners2.drop(columns=\"Team\")\n",
    "df_worlds_winners2.head()\n",
    "df_worlds_winners2.to_csv(\"Worlds_Winners2.csv\",index=False)"
   ]
  },
  {
   "cell_type": "markdown",
   "id": "3528c942-b463-43b9-ad69-53cf6915a0b5",
   "metadata": {},
   "source": [
    "## Shortcut - Import df_worlds_winners2"
   ]
  },
  {
   "cell_type": "code",
   "execution_count": 240,
   "id": "6f367035-e495-4665-b81f-712978901c39",
   "metadata": {
    "tags": []
   },
   "outputs": [],
   "source": [
    "df_worlds_winners2 = pd.read_csv(\"Worlds_Winners2.csv\",index_col=0)"
   ]
  },
  {
   "cell_type": "markdown",
   "id": "72bbd5b5-e255-44be-9187-66ae78e9cb43",
   "metadata": {},
   "source": [
    "## Add DAMWON Gaming and DWG KIA to df_Team_Region"
   ]
  },
  {
   "cell_type": "code",
   "execution_count": 482,
   "id": "a8a53022-e3a5-4a46-ba18-9f91c879353a",
   "metadata": {
    "tags": []
   },
   "outputs": [
    {
     "name": "stderr",
     "output_type": "stream",
     "text": [
      "C:\\Users\\vivia\\AppData\\Local\\Temp\\ipykernel_10512\\1473232610.py:12: FutureWarning: The frame.append method is deprecated and will be removed from pandas in a future version. Use pandas.concat instead.\n",
      "  df_TeamRegion = df_TeamRegion.append(df_TeamRegion2, ignore_index=True)\n",
      "C:\\Users\\vivia\\AppData\\Local\\Temp\\ipykernel_10512\\1473232610.py:13: FutureWarning: The frame.append method is deprecated and will be removed from pandas in a future version. Use pandas.concat instead.\n",
      "  df_TeamRegion = df_TeamRegion.append(df_TeamRegion3, ignore_index=True)\n"
     ]
    }
   ],
   "source": [
    "#DAMWON Gaming and DWG KIA both renamed - They are the same team...\n",
    "#create new rows for DAMWON Gaming and DWG KIA\n",
    "df_TeamRegion2 = {\"Team\":\"DAMWON Gaming\",\n",
    "                  \"Region\":\"Korea\",\n",
    "                  \"Team_abbr\":\"DK\"}\n",
    "\n",
    "df_TeamRegion3 = {\"Team\":\"DWG KIA\",\n",
    "                  \"Region\":\"Korea\",\n",
    "                  \"Team_abbr\":\"DK\"}\n",
    "\n",
    "#add new rows to df\n",
    "df_TeamRegion = df_TeamRegion.append(df_TeamRegion2, ignore_index=True)\n",
    "df_TeamRegion = df_TeamRegion.append(df_TeamRegion3, ignore_index=True)\n",
    "df_TeamRegion.head()\n",
    "\n",
    "#re-save as csv\n",
    "df_TeamRegion.to_csv(\"TeamRegion.csv\", index=False)"
   ]
  },
  {
   "cell_type": "code",
   "execution_count": 84,
   "id": "1831e456-2c81-49e2-8eb6-95f3a781d9c9",
   "metadata": {
    "tags": []
   },
   "outputs": [],
   "source": [
    "#repeat after adding the missing teams\n",
    "df_worlds_winners2 = df_worlds_winners.merge(df_TeamRegion, left_on = \"Winner\", right_on = \"Team\", how = \"left\")\n",
    "#df_worlds_winners2 = df_worlds_winners2.drop(columns=\"Team\")\n",
    "df_worlds_winners2.head()\n",
    "df_worlds_winners2.to_csv(\"Worlds_Winners2.csv\",index=False)"
   ]
  },
  {
   "cell_type": "markdown",
   "id": "e2f827f4-1819-404a-ae0c-3a4448f7f6b5",
   "metadata": {},
   "source": [
    "## Graph - Frequency of Worlds Winner : Teams "
   ]
  },
  {
   "cell_type": "code",
   "execution_count": 85,
   "id": "e3bfb348-ddd0-4b64-a53c-f9a498046959",
   "metadata": {
    "tags": []
   },
   "outputs": [
    {
     "data": {
      "text/plain": [
       "([<matplotlib.axis.YTick at 0x1e8f72b2760>,\n",
       "  <matplotlib.axis.YTick at 0x1e8f72b2220>,\n",
       "  <matplotlib.axis.YTick at 0x1e8f72db6a0>,\n",
       "  <matplotlib.axis.YTick at 0x1e8f72f9460>],\n",
       " [Text(0, 0, '0'), Text(0, 1, '1'), Text(0, 2, '2'), Text(0, 3, '3')])"
      ]
     },
     "execution_count": 85,
     "metadata": {},
     "output_type": "execute_result"
    },
    {
     "data": {
      "image/png": "[encoded data removed]",
      "text/plain": [
       "<Figure size 1000x500 with 1 Axes>"
      ]
     },
     "metadata": {},
     "output_type": "display_data"
    }
   ],
   "source": [
    "#Plot frequencies of team winners\n",
    "import matplotlib.pyplot as plt\n",
    "fig, ax = plt.subplots()\n",
    "\n",
    "ax = df_worlds_winners2[\"Team_abbr\"].value_counts().plot(kind='bar',\n",
    "                                    figsize=(10,5),\n",
    "                                    title=\"LoL Worlds Winners - Teams\")\n",
    "ax.set_xlabel(\"Teams\")\n",
    "ax.set_ylabel(\"Frequency\")\n",
    "\n",
    "import numpy as np\n",
    "plt.yticks(np.arange(0, 4, 1))"
   ]
  },
  {
   "cell_type": "markdown",
   "id": "2df732c7-f4eb-4a54-bc8a-6ce2be589288",
   "metadata": {},
   "source": [
    "## Graph - Frequency of Worlds Winner : Regions "
   ]
  },
  {
   "cell_type": "code",
   "execution_count": 86,
   "id": "88dde8bf-41f6-4c47-91f8-fcc9d1bc55ef",
   "metadata": {
    "tags": []
   },
   "outputs": [
    {
     "data": {
      "text/plain": [
       "([<matplotlib.axis.YTick at 0x1e8f7315cd0>,\n",
       "  <matplotlib.axis.YTick at 0x1e8f7315790>,\n",
       "  <matplotlib.axis.YTick at 0x1e8f733a130>,\n",
       "  <matplotlib.axis.YTick at 0x1e8f7346f10>,\n",
       "  <matplotlib.axis.YTick at 0x1e8f734bc40>,\n",
       "  <matplotlib.axis.YTick at 0x1e8f7350730>,\n",
       "  <matplotlib.axis.YTick at 0x1e8f7350fa0>,\n",
       "  <matplotlib.axis.YTick at 0x1e8f734b4f0>,\n",
       "  <matplotlib.axis.YTick at 0x1e8f7357a00>,\n",
       "  <matplotlib.axis.YTick at 0x1e8f735f4f0>],\n",
       " [Text(0, 0, '0'),\n",
       "  Text(0, 1, '1'),\n",
       "  Text(0, 2, '2'),\n",
       "  Text(0, 3, '3'),\n",
       "  Text(0, 4, '4'),\n",
       "  Text(0, 5, '5'),\n",
       "  Text(0, 6, '6'),\n",
       "  Text(0, 7, '7'),\n",
       "  Text(0, 8, '8'),\n",
       "  Text(0, 9, '9')])"
      ]
     },
     "execution_count": 86,
     "metadata": {},
     "output_type": "execute_result"
    },
    {
     "data": {
      "image/png": "[encoded data removed]",
      "text/plain": [
       "<Figure size 1000x500 with 1 Axes>"
      ]
     },
     "metadata": {},
     "output_type": "display_data"
    }
   ],
   "source": [
    "#Plot frequencies of region winners\n",
    "import matplotlib.pyplot as plt\n",
    "fig, ax = plt.subplots()\n",
    "\n",
    "ax = df_worlds_winners2[\"Region\"].value_counts().plot(kind='bar',\n",
    "                                    figsize=(10,5),\n",
    "                                    title=\"LoL Worlds Winners - Regions\")\n",
    "ax.set_xlabel(\"Regions\")\n",
    "ax.set_ylabel(\"Frequency\")\n",
    "\n",
    "import numpy as np\n",
    "plt.yticks(np.arange(0, 10, 1))"
   ]
  },
  {
   "cell_type": "markdown",
   "id": "5bd50316-e58b-4064-a7c1-8840b866cfb7",
   "metadata": {},
   "source": [
    "## Get Participation of Regions\n",
    "- to show that Korea participated later but won a lot more matches/worlds finals\n"
   ]
  },
  {
   "cell_type": "code",
   "execution_count": 19,
   "id": "52cee025-d9d8-441d-b7b3-6ca730451a17",
   "metadata": {
    "tags": []
   },
   "outputs": [],
   "source": [
    "#get unique regions\n",
    "#df_TeamRegion[\"Region\"].unique()\n",
    "\n",
    "#there are 20 regions to be matched\n",
    "#len(df_TeamRegion[\"Region\"].unique())\n",
    "\n",
    "#dictionary to match regions - from googling\n",
    "dict_regions_code = {\n",
    "    'Africa':'EMEA',\n",
    "    'Brazil':'BR',\n",
    "    'China':'CN',\n",
    "    'CIS':'INT',\n",
    "    'EMEA':'EMEA',\n",
    "    'Europe':'EMEA',\n",
    "    'International':'INT',\n",
    "    'Japan':'JP',\n",
    "    'Korea':'KR',\n",
    "    'LAN':'INT',\n",
    "    'LAS':'INT',\n",
    "    'Latin America':'LAT',\n",
    "    'LMS':'INT',\n",
    "    'MENA':'INT',\n",
    "    'North America':'NA',\n",
    "    'Oceania':'PCS',\n",
    "    'PCS':'PCS',\n",
    "    'SEA':'PCS',\n",
    "    'Turkey':'EMEA',\n",
    "    'Vietnam':'VN'\n",
    "}\n",
    "\n",
    "#define function to get region code from dictionary\n",
    "def get_region_code(region):\n",
    "    return dict_regions_code[region]"
   ]
  },
  {
   "cell_type": "code",
   "execution_count": 27,
   "id": "a6d0428c-0961-49a0-87e2-6d3b45dc0cc2",
   "metadata": {
    "tags": []
   },
   "outputs": [],
   "source": [
    "#create a dictionary to match teams to regions\n",
    "\n",
    "#SOURCE - https://www.skytowner.com/explore/converting_two_columns_into_a_dictionary_in_pandas_dataframe\n",
    "dict_regions = dict(zip(df_TeamRegion[\"Team\"], df_TeamRegion[\"Region\"]))\n",
    "\n",
    "#define function to get region code from dictionary\n",
    "def get_region(team):\n",
    "    return dict_regions[team]"
   ]
  },
  {
   "cell_type": "markdown",
   "id": "2042dd53-9bd2-4446-9b37-a2357ea81161",
   "metadata": {},
   "source": [
    "## Add Region to Scoreboard - so I can show participation of regions"
   ]
  },
  {
   "cell_type": "code",
   "execution_count": 87,
   "id": "61b1a897-c9a8-4fa4-b38a-54cc0c8348da",
   "metadata": {},
   "outputs": [
    {
     "data": {
      "text/html": [
       "<div>\n",
       "<style scoped>\n",
       "    .dataframe tbody tr th:only-of-type {\n",
       "        vertical-align: middle;\n",
       "    }\n",
       "\n",
       "    .dataframe tbody tr th {\n",
       "        vertical-align: top;\n",
       "    }\n",
       "\n",
       "    .dataframe thead th {\n",
       "        text-align: right;\n",
       "    }\n",
       "</style>\n",
       "<table border=\"1\" class=\"dataframe\">\n",
       "  <thead>\n",
       "    <tr style=\"text-align: right;\">\n",
       "      <th></th>\n",
       "      <th>Tournament</th>\n",
       "      <th>League</th>\n",
       "      <th>Date</th>\n",
       "      <th>Gamelength</th>\n",
       "      <th>Team1</th>\n",
       "      <th>Team2</th>\n",
       "      <th>Team1Score</th>\n",
       "      <th>Team2Score</th>\n",
       "      <th>WinTeam</th>\n",
       "      <th>Tab</th>\n",
       "      <th>Year</th>\n",
       "      <th>Region</th>\n",
       "      <th>Team_abbr</th>\n",
       "    </tr>\n",
       "  </thead>\n",
       "  <tbody>\n",
       "    <tr>\n",
       "      <th>0</th>\n",
       "      <td>Worlds Season 1</td>\n",
       "      <td>WCS</td>\n",
       "      <td>2011-06-18 08:30:00</td>\n",
       "      <td>45:09</td>\n",
       "      <td>against All authority</td>\n",
       "      <td>Epik Gamer</td>\n",
       "      <td>0</td>\n",
       "      <td>1</td>\n",
       "      <td>Epik Gamer</td>\n",
       "      <td>Group Stage</td>\n",
       "      <td>2011</td>\n",
       "      <td>Europe</td>\n",
       "      <td>aAa</td>\n",
       "    </tr>\n",
       "    <tr>\n",
       "      <th>1</th>\n",
       "      <td>Worlds Season 1</td>\n",
       "      <td>WCS</td>\n",
       "      <td>2011-06-18 08:30:00</td>\n",
       "      <td>45:09</td>\n",
       "      <td>against All authority</td>\n",
       "      <td>Epik Gamer</td>\n",
       "      <td>0</td>\n",
       "      <td>1</td>\n",
       "      <td>Epik Gamer</td>\n",
       "      <td>Finals</td>\n",
       "      <td>2011</td>\n",
       "      <td>Europe</td>\n",
       "      <td>aAa</td>\n",
       "    </tr>\n",
       "    <tr>\n",
       "      <th>2</th>\n",
       "      <td>Worlds Season 1</td>\n",
       "      <td>WCS</td>\n",
       "      <td>2011-06-18 08:30:00</td>\n",
       "      <td>45:09</td>\n",
       "      <td>against All authority</td>\n",
       "      <td>Epik Gamer</td>\n",
       "      <td>0</td>\n",
       "      <td>1</td>\n",
       "      <td>Epik Gamer</td>\n",
       "      <td>Round 3</td>\n",
       "      <td>2011</td>\n",
       "      <td>Europe</td>\n",
       "      <td>aAa</td>\n",
       "    </tr>\n",
       "    <tr>\n",
       "      <th>3</th>\n",
       "      <td>Worlds Season 1</td>\n",
       "      <td>WCS</td>\n",
       "      <td>2011-06-18 08:30:00</td>\n",
       "      <td>45:09</td>\n",
       "      <td>against All authority</td>\n",
       "      <td>Epik Gamer</td>\n",
       "      <td>0</td>\n",
       "      <td>1</td>\n",
       "      <td>Epik Gamer</td>\n",
       "      <td>Round 3</td>\n",
       "      <td>2011</td>\n",
       "      <td>Europe</td>\n",
       "      <td>aAa</td>\n",
       "    </tr>\n",
       "    <tr>\n",
       "      <th>4</th>\n",
       "      <td>Worlds Season 1</td>\n",
       "      <td>WCS</td>\n",
       "      <td>2011-06-18 08:30:00</td>\n",
       "      <td>45:09</td>\n",
       "      <td>against All authority</td>\n",
       "      <td>Epik Gamer</td>\n",
       "      <td>0</td>\n",
       "      <td>1</td>\n",
       "      <td>Epik Gamer</td>\n",
       "      <td>Round 2</td>\n",
       "      <td>2011</td>\n",
       "      <td>Europe</td>\n",
       "      <td>aAa</td>\n",
       "    </tr>\n",
       "  </tbody>\n",
       "</table>\n",
       "</div>"
      ],
      "text/plain": [
       "        Tournament League                Date Gamelength  \\\n",
       "0  Worlds Season 1    WCS 2011-06-18 08:30:00      45:09   \n",
       "1  Worlds Season 1    WCS 2011-06-18 08:30:00      45:09   \n",
       "2  Worlds Season 1    WCS 2011-06-18 08:30:00      45:09   \n",
       "3  Worlds Season 1    WCS 2011-06-18 08:30:00      45:09   \n",
       "4  Worlds Season 1    WCS 2011-06-18 08:30:00      45:09   \n",
       "\n",
       "                   Team1       Team2  Team1Score  Team2Score     WinTeam  \\\n",
       "0  against All authority  Epik Gamer           0           1  Epik Gamer   \n",
       "1  against All authority  Epik Gamer           0           1  Epik Gamer   \n",
       "2  against All authority  Epik Gamer           0           1  Epik Gamer   \n",
       "3  against All authority  Epik Gamer           0           1  Epik Gamer   \n",
       "4  against All authority  Epik Gamer           0           1  Epik Gamer   \n",
       "\n",
       "           Tab  Year  Region Team_abbr  \n",
       "0  Group Stage  2011  Europe       aAa  \n",
       "1       Finals  2011  Europe       aAa  \n",
       "2      Round 3  2011  Europe       aAa  \n",
       "3      Round 3  2011  Europe       aAa  \n",
       "4      Round 2  2011  Europe       aAa  "
      ]
     },
     "execution_count": 87,
     "metadata": {},
     "output_type": "execute_result"
    }
   ],
   "source": [
    "df_team1 = df_Scoreboard_Worlds2.merge(df_TeamRegion, left_on = 'Team1', right_on = 'Team', how = 'left')\n",
    "df_team1.head()"
   ]
  },
  {
   "cell_type": "code",
   "execution_count": 90,
   "id": "db918734-fca3-403e-9287-59bb7be667d9",
   "metadata": {
    "tags": []
   },
   "outputs": [],
   "source": [
    "df_team1and2 = df_team1.merge(df_TeamRegion, left_on = 'Team2', right_on = 'Team', how = 'left')\n",
    "df_team1and2.head()\n",
    "#cannot find some teams because they changed name"
   ]
  },
  {
   "cell_type": "markdown",
   "id": "c3bb43ff-3dc6-495f-a8da-05e707ffa1f4",
   "metadata": {},
   "source": [
    "## Matching old to new team names \n",
    "- only the ones that cannot be found in df above\n",
    "- some old team names may still not be matched to new ones unfortunately"
   ]
  },
  {
   "cell_type": "code",
   "execution_count": 484,
   "id": "26ab57bb-276d-46f7-8189-d71dcbcb9528",
   "metadata": {
    "tags": []
   },
   "outputs": [],
   "source": [
    "#import manually stored file for matching old to new team names\n",
    "df_OldtoNewTeams = pd.read_csv(\"OldtoNewTeams.csv\")\n",
    "\n",
    "#concatenate the two dataframes to add the new list of teams\n",
    "df_TeamRegion = pd.concat([df_TeamRegion,df_OldtoNewTeams])\n",
    "df_TeamRegion.to_csv(\"TeamRegion.csv\",index=False)"
   ]
  },
  {
   "cell_type": "code",
   "execution_count": 117,
   "id": "fc8978d7-a783-4909-a6eb-267d67de35fa",
   "metadata": {
    "tags": []
   },
   "outputs": [
    {
     "data": {
      "text/html": [
       "<div>\n",
       "<style scoped>\n",
       "    .dataframe tbody tr th:only-of-type {\n",
       "        vertical-align: middle;\n",
       "    }\n",
       "\n",
       "    .dataframe tbody tr th {\n",
       "        vertical-align: top;\n",
       "    }\n",
       "\n",
       "    .dataframe thead th {\n",
       "        text-align: right;\n",
       "    }\n",
       "</style>\n",
       "<table border=\"1\" class=\"dataframe\">\n",
       "  <thead>\n",
       "    <tr style=\"text-align: right;\">\n",
       "      <th></th>\n",
       "      <th>Tournament</th>\n",
       "      <th>League</th>\n",
       "      <th>Date</th>\n",
       "      <th>Gamelength</th>\n",
       "      <th>Team1</th>\n",
       "      <th>Team2</th>\n",
       "      <th>Team1Score</th>\n",
       "      <th>Team2Score</th>\n",
       "      <th>WinTeam</th>\n",
       "      <th>Stage</th>\n",
       "      <th>Year</th>\n",
       "      <th>Region_T1</th>\n",
       "      <th>Team_T1</th>\n",
       "      <th>Region_T2</th>\n",
       "      <th>Team_T2</th>\n",
       "    </tr>\n",
       "  </thead>\n",
       "  <tbody>\n",
       "    <tr>\n",
       "      <th>0</th>\n",
       "      <td>Worlds Season 1</td>\n",
       "      <td>WCS</td>\n",
       "      <td>2011-06-18 08:30:00</td>\n",
       "      <td>45:09</td>\n",
       "      <td>against All authority</td>\n",
       "      <td>Epik Gamer</td>\n",
       "      <td>0</td>\n",
       "      <td>1</td>\n",
       "      <td>Epik Gamer</td>\n",
       "      <td>Group Stage</td>\n",
       "      <td>2011</td>\n",
       "      <td>Europe</td>\n",
       "      <td>aAa</td>\n",
       "      <td>North America</td>\n",
       "      <td>EPIK</td>\n",
       "    </tr>\n",
       "    <tr>\n",
       "      <th>1</th>\n",
       "      <td>Worlds Season 1</td>\n",
       "      <td>WCS</td>\n",
       "      <td>2011-06-18 08:30:00</td>\n",
       "      <td>45:09</td>\n",
       "      <td>against All authority</td>\n",
       "      <td>Epik Gamer</td>\n",
       "      <td>0</td>\n",
       "      <td>1</td>\n",
       "      <td>Epik Gamer</td>\n",
       "      <td>Group Stage</td>\n",
       "      <td>2011</td>\n",
       "      <td>Europe</td>\n",
       "      <td>aAa</td>\n",
       "      <td>North America</td>\n",
       "      <td>EPIK</td>\n",
       "    </tr>\n",
       "    <tr>\n",
       "      <th>2</th>\n",
       "      <td>Worlds Season 1</td>\n",
       "      <td>WCS</td>\n",
       "      <td>2011-06-18 08:30:00</td>\n",
       "      <td>45:09</td>\n",
       "      <td>against All authority</td>\n",
       "      <td>Epik Gamer</td>\n",
       "      <td>0</td>\n",
       "      <td>1</td>\n",
       "      <td>Epik Gamer</td>\n",
       "      <td>Group Stage</td>\n",
       "      <td>2011</td>\n",
       "      <td>Europe</td>\n",
       "      <td>aAa</td>\n",
       "      <td>North America</td>\n",
       "      <td>EPIK</td>\n",
       "    </tr>\n",
       "    <tr>\n",
       "      <th>3</th>\n",
       "      <td>Worlds Season 1</td>\n",
       "      <td>WCS</td>\n",
       "      <td>2011-06-18 08:30:00</td>\n",
       "      <td>45:09</td>\n",
       "      <td>against All authority</td>\n",
       "      <td>Epik Gamer</td>\n",
       "      <td>0</td>\n",
       "      <td>1</td>\n",
       "      <td>Epik Gamer</td>\n",
       "      <td>Group Stage</td>\n",
       "      <td>2011</td>\n",
       "      <td>Europe</td>\n",
       "      <td>aAa</td>\n",
       "      <td>North America</td>\n",
       "      <td>EPIK</td>\n",
       "    </tr>\n",
       "    <tr>\n",
       "      <th>4</th>\n",
       "      <td>Worlds Season 1</td>\n",
       "      <td>WCS</td>\n",
       "      <td>2011-06-18 08:30:00</td>\n",
       "      <td>45:09</td>\n",
       "      <td>against All authority</td>\n",
       "      <td>Epik Gamer</td>\n",
       "      <td>0</td>\n",
       "      <td>1</td>\n",
       "      <td>Epik Gamer</td>\n",
       "      <td>Group Stage</td>\n",
       "      <td>2011</td>\n",
       "      <td>Europe</td>\n",
       "      <td>aAa</td>\n",
       "      <td>North America</td>\n",
       "      <td>EPIK</td>\n",
       "    </tr>\n",
       "  </tbody>\n",
       "</table>\n",
       "</div>"
      ],
      "text/plain": [
       "        Tournament League                Date Gamelength  \\\n",
       "0  Worlds Season 1    WCS 2011-06-18 08:30:00      45:09   \n",
       "1  Worlds Season 1    WCS 2011-06-18 08:30:00      45:09   \n",
       "2  Worlds Season 1    WCS 2011-06-18 08:30:00      45:09   \n",
       "3  Worlds Season 1    WCS 2011-06-18 08:30:00      45:09   \n",
       "4  Worlds Season 1    WCS 2011-06-18 08:30:00      45:09   \n",
       "\n",
       "                   Team1       Team2  Team1Score  Team2Score     WinTeam  \\\n",
       "0  against All authority  Epik Gamer           0           1  Epik Gamer   \n",
       "1  against All authority  Epik Gamer           0           1  Epik Gamer   \n",
       "2  against All authority  Epik Gamer           0           1  Epik Gamer   \n",
       "3  against All authority  Epik Gamer           0           1  Epik Gamer   \n",
       "4  against All authority  Epik Gamer           0           1  Epik Gamer   \n",
       "\n",
       "         Stage  Year Region_T1 Team_T1      Region_T2 Team_T2  \n",
       "0  Group Stage  2011    Europe     aAa  North America    EPIK  \n",
       "1  Group Stage  2011    Europe     aAa  North America    EPIK  \n",
       "2  Group Stage  2011    Europe     aAa  North America    EPIK  \n",
       "3  Group Stage  2011    Europe     aAa  North America    EPIK  \n",
       "4  Group Stage  2011    Europe     aAa  North America    EPIK  "
      ]
     },
     "execution_count": 117,
     "metadata": {},
     "output_type": "execute_result"
    }
   ],
   "source": [
    "#redo previous merge now that the teams can be found\n",
    "df_team1 = df_Scoreboard_Worlds2.merge(df_TeamRegion, left_on = 'Team1', right_on = 'Team', how = 'left')\n",
    "df_team1and2 = df_team1.merge(df_TeamRegion, left_on = 'Team2', right_on = 'Team', how = 'left')\n",
    "\n",
    "#clean dataframe\n",
    "df_team1and2.rename(columns={'Tab':'Stage','Region_x':'Region_T1','Team_abbr_x':'Team_T1','Region_y':'Region_T2','Team_abbr_y':'Team_T2'},inplace=True)\n",
    "\n",
    "df_team1and2.head()\n",
    "\n",
    "#df_team1and2.to_csv(\"Merged_1_2.csv\",index=False)"
   ]
  },
  {
   "cell_type": "code",
   "execution_count": 24,
   "id": "3e320f34-89f0-49dc-843e-390abaa25546",
   "metadata": {
    "collapsed": true,
    "jupyter": {
     "outputs_hidden": true
    },
    "tags": []
   },
   "outputs": [
    {
     "data": {
      "application/vnd.jupyter.widget-view+json": {
       "model_id": "e3554a0e78ee45368fd7393f919f352f",
       "version_major": 2,
       "version_minor": 0
      },
      "text/plain": [
       "0it [00:00, ?it/s]"
      ]
     },
     "metadata": {},
     "output_type": "display_data"
    },
    {
     "ename": "KeyboardInterrupt",
     "evalue": "",
     "output_type": "error",
     "traceback": [
      "\u001b[1;31m---------------------------------------------------------------------------\u001b[0m",
      "\u001b[1;31mKeyboardInterrupt\u001b[0m                         Traceback (most recent call last)",
      "Cell \u001b[1;32mIn[24], line 4\u001b[0m\n\u001b[0;32m      2\u001b[0m \u001b[38;5;28;01mfrom\u001b[39;00m \u001b[38;5;21;01mtqdm\u001b[39;00m\u001b[38;5;21;01m.\u001b[39;00m\u001b[38;5;21;01mnotebook\u001b[39;00m \u001b[38;5;28;01mimport\u001b[39;00m tqdm\n\u001b[0;32m      3\u001b[0m \u001b[38;5;28;01mfor\u001b[39;00m index,row \u001b[38;5;129;01min\u001b[39;00m tqdm(df_team1and2\u001b[38;5;241m.\u001b[39miterrows()):\n\u001b[1;32m----> 4\u001b[0m     df_team1and2[\u001b[38;5;124m\"\u001b[39m\u001b[38;5;124mRegion_T1_abbr\u001b[39m\u001b[38;5;124m\"\u001b[39m] \u001b[38;5;241m=\u001b[39m \u001b[43mdf_team1and2\u001b[49m\u001b[43m[\u001b[49m\u001b[38;5;124;43m\"\u001b[39;49m\u001b[38;5;124;43mRegion_T1\u001b[39;49m\u001b[38;5;124;43m\"\u001b[39;49m\u001b[43m]\u001b[49m\u001b[38;5;241;43m.\u001b[39;49m\u001b[43mapply\u001b[49m\u001b[43m(\u001b[49m\u001b[43mget_region_code\u001b[49m\u001b[43m)\u001b[49m\n",
      "File \u001b[1;32m~\\AppData\\Roaming\\jupyterlab-desktop\\jlab_server\\lib\\site-packages\\pandas\\core\\series.py:4771\u001b[0m, in \u001b[0;36mSeries.apply\u001b[1;34m(self, func, convert_dtype, args, **kwargs)\u001b[0m\n\u001b[0;32m   4661\u001b[0m \u001b[38;5;28;01mdef\u001b[39;00m \u001b[38;5;21mapply\u001b[39m(\n\u001b[0;32m   4662\u001b[0m     \u001b[38;5;28mself\u001b[39m,\n\u001b[0;32m   4663\u001b[0m     func: AggFuncType,\n\u001b[1;32m   (...)\u001b[0m\n\u001b[0;32m   4666\u001b[0m     \u001b[38;5;241m*\u001b[39m\u001b[38;5;241m*\u001b[39mkwargs,\n\u001b[0;32m   4667\u001b[0m ) \u001b[38;5;241m-\u001b[39m\u001b[38;5;241m>\u001b[39m DataFrame \u001b[38;5;241m|\u001b[39m Series:\n\u001b[0;32m   4668\u001b[0m \u001b[38;5;250m    \u001b[39m\u001b[38;5;124;03m\"\"\"\u001b[39;00m\n\u001b[0;32m   4669\u001b[0m \u001b[38;5;124;03m    Invoke function on values of Series.\u001b[39;00m\n\u001b[0;32m   4670\u001b[0m \n\u001b[1;32m   (...)\u001b[0m\n\u001b[0;32m   4769\u001b[0m \u001b[38;5;124;03m    dtype: float64\u001b[39;00m\n\u001b[0;32m   4770\u001b[0m \u001b[38;5;124;03m    \"\"\"\u001b[39;00m\n\u001b[1;32m-> 4771\u001b[0m     \u001b[38;5;28;01mreturn\u001b[39;00m \u001b[43mSeriesApply\u001b[49m\u001b[43m(\u001b[49m\u001b[38;5;28;43mself\u001b[39;49m\u001b[43m,\u001b[49m\u001b[43m \u001b[49m\u001b[43mfunc\u001b[49m\u001b[43m,\u001b[49m\u001b[43m \u001b[49m\u001b[43mconvert_dtype\u001b[49m\u001b[43m,\u001b[49m\u001b[43m \u001b[49m\u001b[43margs\u001b[49m\u001b[43m,\u001b[49m\u001b[43m \u001b[49m\u001b[43mkwargs\u001b[49m\u001b[43m)\u001b[49m\u001b[38;5;241;43m.\u001b[39;49m\u001b[43mapply\u001b[49m\u001b[43m(\u001b[49m\u001b[43m)\u001b[49m\n",
      "File \u001b[1;32m~\\AppData\\Roaming\\jupyterlab-desktop\\jlab_server\\lib\\site-packages\\pandas\\core\\apply.py:1123\u001b[0m, in \u001b[0;36mSeriesApply.apply\u001b[1;34m(self)\u001b[0m\n\u001b[0;32m   1120\u001b[0m     \u001b[38;5;28;01mreturn\u001b[39;00m \u001b[38;5;28mself\u001b[39m\u001b[38;5;241m.\u001b[39mapply_str()\n\u001b[0;32m   1122\u001b[0m \u001b[38;5;66;03m# self.f is Callable\u001b[39;00m\n\u001b[1;32m-> 1123\u001b[0m \u001b[38;5;28;01mreturn\u001b[39;00m \u001b[38;5;28;43mself\u001b[39;49m\u001b[38;5;241;43m.\u001b[39;49m\u001b[43mapply_standard\u001b[49m\u001b[43m(\u001b[49m\u001b[43m)\u001b[49m\n",
      "File \u001b[1;32m~\\AppData\\Roaming\\jupyterlab-desktop\\jlab_server\\lib\\site-packages\\pandas\\core\\apply.py:1174\u001b[0m, in \u001b[0;36mSeriesApply.apply_standard\u001b[1;34m(self)\u001b[0m\n\u001b[0;32m   1172\u001b[0m     \u001b[38;5;28;01melse\u001b[39;00m:\n\u001b[0;32m   1173\u001b[0m         values \u001b[38;5;241m=\u001b[39m obj\u001b[38;5;241m.\u001b[39mastype(\u001b[38;5;28mobject\u001b[39m)\u001b[38;5;241m.\u001b[39m_values\n\u001b[1;32m-> 1174\u001b[0m         mapped \u001b[38;5;241m=\u001b[39m \u001b[43mlib\u001b[49m\u001b[38;5;241;43m.\u001b[39;49m\u001b[43mmap_infer\u001b[49m\u001b[43m(\u001b[49m\n\u001b[0;32m   1175\u001b[0m \u001b[43m            \u001b[49m\u001b[43mvalues\u001b[49m\u001b[43m,\u001b[49m\n\u001b[0;32m   1176\u001b[0m \u001b[43m            \u001b[49m\u001b[43mf\u001b[49m\u001b[43m,\u001b[49m\n\u001b[0;32m   1177\u001b[0m \u001b[43m            \u001b[49m\u001b[43mconvert\u001b[49m\u001b[38;5;241;43m=\u001b[39;49m\u001b[38;5;28;43mself\u001b[39;49m\u001b[38;5;241;43m.\u001b[39;49m\u001b[43mconvert_dtype\u001b[49m\u001b[43m,\u001b[49m\n\u001b[0;32m   1178\u001b[0m \u001b[43m        \u001b[49m\u001b[43m)\u001b[49m\n\u001b[0;32m   1180\u001b[0m \u001b[38;5;28;01mif\u001b[39;00m \u001b[38;5;28mlen\u001b[39m(mapped) \u001b[38;5;129;01mand\u001b[39;00m \u001b[38;5;28misinstance\u001b[39m(mapped[\u001b[38;5;241m0\u001b[39m], ABCSeries):\n\u001b[0;32m   1181\u001b[0m     \u001b[38;5;66;03m# GH#43986 Need to do list(mapped) in order to get treated as nested\u001b[39;00m\n\u001b[0;32m   1182\u001b[0m     \u001b[38;5;66;03m#  See also GH#25959 regarding EA support\u001b[39;00m\n\u001b[0;32m   1183\u001b[0m     \u001b[38;5;28;01mreturn\u001b[39;00m obj\u001b[38;5;241m.\u001b[39m_constructor_expanddim(\u001b[38;5;28mlist\u001b[39m(mapped), index\u001b[38;5;241m=\u001b[39mobj\u001b[38;5;241m.\u001b[39mindex)\n",
      "File \u001b[1;32m~\\AppData\\Roaming\\jupyterlab-desktop\\jlab_server\\lib\\site-packages\\pandas\\_libs\\lib.pyx:2924\u001b[0m, in \u001b[0;36mpandas._libs.lib.map_infer\u001b[1;34m()\u001b[0m\n",
      "Cell \u001b[1;32mIn[19], line 33\u001b[0m, in \u001b[0;36mget_region_code\u001b[1;34m(region)\u001b[0m\n\u001b[0;32m     32\u001b[0m \u001b[38;5;28;01mdef\u001b[39;00m \u001b[38;5;21mget_region_code\u001b[39m(region):\n\u001b[1;32m---> 33\u001b[0m     \u001b[38;5;28;01mreturn\u001b[39;00m \u001b[43mdict_regions_code\u001b[49m[region]\n",
      "\u001b[1;31mKeyboardInterrupt\u001b[0m: "
     ]
    }
   ],
   "source": [
    "#add column for region code to Worlds Scoreboard\n",
    "from tqdm.notebook import tqdm\n",
    "for index,row in tqdm(df_team1and2.iterrows()):\n",
    "    df_team1and2[\"Region_T1_abbr\"] = df_team1and2[\"Region_T1\"].apply(get_region_code)\n",
    "\n",
    "#.iterrows() takes too long for so many rows using a dict and function\n",
    "#I decided to save a csv with the Region codes and merge instead - it should take less time"
   ]
  },
  {
   "cell_type": "code",
   "execution_count": 237,
   "id": "32a1b057-0f95-4eb8-b4ad-e37316cc382b",
   "metadata": {
    "tags": []
   },
   "outputs": [
    {
     "data": {
      "text/html": [
       "<div>\n",
       "<style scoped>\n",
       "    .dataframe tbody tr th:only-of-type {\n",
       "        vertical-align: middle;\n",
       "    }\n",
       "\n",
       "    .dataframe tbody tr th {\n",
       "        vertical-align: top;\n",
       "    }\n",
       "\n",
       "    .dataframe thead th {\n",
       "        text-align: right;\n",
       "    }\n",
       "</style>\n",
       "<table border=\"1\" class=\"dataframe\">\n",
       "  <thead>\n",
       "    <tr style=\"text-align: right;\">\n",
       "      <th></th>\n",
       "      <th>Tournament</th>\n",
       "      <th>League</th>\n",
       "      <th>Date</th>\n",
       "      <th>Gamelength</th>\n",
       "      <th>Team1</th>\n",
       "      <th>Team2</th>\n",
       "      <th>Team1Score</th>\n",
       "      <th>Team2Score</th>\n",
       "      <th>WinTeam</th>\n",
       "      <th>Stage</th>\n",
       "      <th>Year</th>\n",
       "      <th>Region_T1</th>\n",
       "      <th>Team_T1</th>\n",
       "      <th>Region_T2</th>\n",
       "      <th>Team_T2</th>\n",
       "      <th>Region_code_T1</th>\n",
       "      <th>Region_code_T2</th>\n",
       "    </tr>\n",
       "  </thead>\n",
       "  <tbody>\n",
       "    <tr>\n",
       "      <th>0</th>\n",
       "      <td>Worlds Season 1</td>\n",
       "      <td>WCS</td>\n",
       "      <td>2011-06-18 08:30:00</td>\n",
       "      <td>45:09</td>\n",
       "      <td>against All authority</td>\n",
       "      <td>Epik Gamer</td>\n",
       "      <td>0</td>\n",
       "      <td>1</td>\n",
       "      <td>Epik Gamer</td>\n",
       "      <td>Group Stage</td>\n",
       "      <td>2011</td>\n",
       "      <td>Europe</td>\n",
       "      <td>aAa</td>\n",
       "      <td>North America</td>\n",
       "      <td>EPIK</td>\n",
       "      <td>EMEA</td>\n",
       "      <td>NA</td>\n",
       "    </tr>\n",
       "    <tr>\n",
       "      <th>1</th>\n",
       "      <td>Worlds Season 1</td>\n",
       "      <td>WCS</td>\n",
       "      <td>2011-06-18 08:30:00</td>\n",
       "      <td>45:09</td>\n",
       "      <td>against All authority</td>\n",
       "      <td>Epik Gamer</td>\n",
       "      <td>0</td>\n",
       "      <td>1</td>\n",
       "      <td>Epik Gamer</td>\n",
       "      <td>Group Stage</td>\n",
       "      <td>2011</td>\n",
       "      <td>Europe</td>\n",
       "      <td>aAa</td>\n",
       "      <td>North America</td>\n",
       "      <td>EPIK</td>\n",
       "      <td>EMEA</td>\n",
       "      <td>NA</td>\n",
       "    </tr>\n",
       "    <tr>\n",
       "      <th>2</th>\n",
       "      <td>Worlds Season 1</td>\n",
       "      <td>WCS</td>\n",
       "      <td>2011-06-18 08:30:00</td>\n",
       "      <td>45:09</td>\n",
       "      <td>against All authority</td>\n",
       "      <td>Epik Gamer</td>\n",
       "      <td>0</td>\n",
       "      <td>1</td>\n",
       "      <td>Epik Gamer</td>\n",
       "      <td>Group Stage</td>\n",
       "      <td>2011</td>\n",
       "      <td>Europe</td>\n",
       "      <td>aAa</td>\n",
       "      <td>North America</td>\n",
       "      <td>EPIK</td>\n",
       "      <td>EMEA</td>\n",
       "      <td>NA</td>\n",
       "    </tr>\n",
       "    <tr>\n",
       "      <th>3</th>\n",
       "      <td>Worlds Season 1</td>\n",
       "      <td>WCS</td>\n",
       "      <td>2011-06-18 08:30:00</td>\n",
       "      <td>45:09</td>\n",
       "      <td>against All authority</td>\n",
       "      <td>Epik Gamer</td>\n",
       "      <td>0</td>\n",
       "      <td>1</td>\n",
       "      <td>Epik Gamer</td>\n",
       "      <td>Group Stage</td>\n",
       "      <td>2011</td>\n",
       "      <td>Europe</td>\n",
       "      <td>aAa</td>\n",
       "      <td>North America</td>\n",
       "      <td>EPIK</td>\n",
       "      <td>EMEA</td>\n",
       "      <td>NA</td>\n",
       "    </tr>\n",
       "    <tr>\n",
       "      <th>4</th>\n",
       "      <td>Worlds Season 1</td>\n",
       "      <td>WCS</td>\n",
       "      <td>2011-06-18 08:30:00</td>\n",
       "      <td>45:09</td>\n",
       "      <td>against All authority</td>\n",
       "      <td>Epik Gamer</td>\n",
       "      <td>0</td>\n",
       "      <td>1</td>\n",
       "      <td>Epik Gamer</td>\n",
       "      <td>Group Stage</td>\n",
       "      <td>2011</td>\n",
       "      <td>Europe</td>\n",
       "      <td>aAa</td>\n",
       "      <td>North America</td>\n",
       "      <td>EPIK</td>\n",
       "      <td>EMEA</td>\n",
       "      <td>NA</td>\n",
       "    </tr>\n",
       "  </tbody>\n",
       "</table>\n",
       "</div>"
      ],
      "text/plain": [
       "        Tournament League                 Date Gamelength  \\\n",
       "0  Worlds Season 1    WCS  2011-06-18 08:30:00      45:09   \n",
       "1  Worlds Season 1    WCS  2011-06-18 08:30:00      45:09   \n",
       "2  Worlds Season 1    WCS  2011-06-18 08:30:00      45:09   \n",
       "3  Worlds Season 1    WCS  2011-06-18 08:30:00      45:09   \n",
       "4  Worlds Season 1    WCS  2011-06-18 08:30:00      45:09   \n",
       "\n",
       "                   Team1       Team2  Team1Score  Team2Score     WinTeam  \\\n",
       "0  against All authority  Epik Gamer           0           1  Epik Gamer   \n",
       "1  against All authority  Epik Gamer           0           1  Epik Gamer   \n",
       "2  against All authority  Epik Gamer           0           1  Epik Gamer   \n",
       "3  against All authority  Epik Gamer           0           1  Epik Gamer   \n",
       "4  against All authority  Epik Gamer           0           1  Epik Gamer   \n",
       "\n",
       "         Stage  Year Region_T1 Team_T1      Region_T2 Team_T2 Region_code_T1  \\\n",
       "0  Group Stage  2011    Europe     aAa  North America    EPIK           EMEA   \n",
       "1  Group Stage  2011    Europe     aAa  North America    EPIK           EMEA   \n",
       "2  Group Stage  2011    Europe     aAa  North America    EPIK           EMEA   \n",
       "3  Group Stage  2011    Europe     aAa  North America    EPIK           EMEA   \n",
       "4  Group Stage  2011    Europe     aAa  North America    EPIK           EMEA   \n",
       "\n",
       "  Region_code_T2  \n",
       "0             NA  \n",
       "1             NA  \n",
       "2             NA  \n",
       "3             NA  \n",
       "4             NA  "
      ]
     },
     "execution_count": 237,
     "metadata": {},
     "output_type": "execute_result"
    }
   ],
   "source": [
    "df_Region_code = pd.read_csv(\"Region_Code.csv\",na_filter = False) #interprets NA as string instead of NaN value\n",
    "\n",
    "df_team1_code = df_team1and2.merge(df_Region_code, left_on = 'Region_T1', right_on = 'Region', how = 'left')\n",
    "df_team1_code.drop(columns=\"Region\",inplace=True)\n",
    "df_team1_code.head()\n",
    "\n",
    "df_team1and2_code = df_team1_code.merge(df_Region_code, left_on = 'Region_T2', right_on = 'Region', how = 'left')\n",
    "df_team1and2_code.drop(columns=\"Region\",inplace=True)\n",
    "\n",
    "#clean dataframe\n",
    "df_team1and2_code.rename(columns={\"Region_code_x\":\"Region_code_T1\",\"Region_code_y\":\"Region_code_T2\"},inplace=True)\n",
    "\n",
    "df_team1and2_code.head()\n",
    "\n",
    "#df_team1and2_code.to_csv(\"Merged_1_2_code.csv\",index=False)"
   ]
  },
  {
   "cell_type": "markdown",
   "id": "a90d44f8-76b5-46aa-8fa2-d7ff2aa26d7b",
   "metadata": {},
   "source": [
    "## Shortcut - Import df_team1and2"
   ]
  },
  {
   "cell_type": "code",
   "execution_count": 49,
   "id": "a81e6e15-01c6-437f-acda-4089838fd49c",
   "metadata": {},
   "outputs": [
    {
     "data": {
      "text/html": [
       "<div>\n",
       "<style scoped>\n",
       "    .dataframe tbody tr th:only-of-type {\n",
       "        vertical-align: middle;\n",
       "    }\n",
       "\n",
       "    .dataframe tbody tr th {\n",
       "        vertical-align: top;\n",
       "    }\n",
       "\n",
       "    .dataframe thead th {\n",
       "        text-align: right;\n",
       "    }\n",
       "</style>\n",
       "<table border=\"1\" class=\"dataframe\">\n",
       "  <thead>\n",
       "    <tr style=\"text-align: right;\">\n",
       "      <th></th>\n",
       "      <th>Tournament</th>\n",
       "      <th>League</th>\n",
       "      <th>Date</th>\n",
       "      <th>Gamelength</th>\n",
       "      <th>Team1</th>\n",
       "      <th>Team2</th>\n",
       "      <th>Team1Score</th>\n",
       "      <th>Team2Score</th>\n",
       "      <th>WinTeam</th>\n",
       "      <th>Stage</th>\n",
       "      <th>Year</th>\n",
       "      <th>Region_T1</th>\n",
       "      <th>Team_T1</th>\n",
       "      <th>Region_T2</th>\n",
       "      <th>Team_T2</th>\n",
       "    </tr>\n",
       "  </thead>\n",
       "  <tbody>\n",
       "    <tr>\n",
       "      <th>0</th>\n",
       "      <td>Worlds Season 1</td>\n",
       "      <td>WCS</td>\n",
       "      <td>2011-06-18 08:30:00</td>\n",
       "      <td>45:09</td>\n",
       "      <td>against All authority</td>\n",
       "      <td>Epik Gamer</td>\n",
       "      <td>0</td>\n",
       "      <td>1</td>\n",
       "      <td>Epik Gamer</td>\n",
       "      <td>Group Stage</td>\n",
       "      <td>2011</td>\n",
       "      <td>Europe</td>\n",
       "      <td>aAa</td>\n",
       "      <td>North America</td>\n",
       "      <td>EPIK</td>\n",
       "    </tr>\n",
       "    <tr>\n",
       "      <th>1</th>\n",
       "      <td>Worlds Season 1</td>\n",
       "      <td>WCS</td>\n",
       "      <td>2011-06-18 08:30:00</td>\n",
       "      <td>45:09</td>\n",
       "      <td>against All authority</td>\n",
       "      <td>Epik Gamer</td>\n",
       "      <td>0</td>\n",
       "      <td>1</td>\n",
       "      <td>Epik Gamer</td>\n",
       "      <td>Group Stage</td>\n",
       "      <td>2011</td>\n",
       "      <td>Europe</td>\n",
       "      <td>aAa</td>\n",
       "      <td>North America</td>\n",
       "      <td>EPIK</td>\n",
       "    </tr>\n",
       "    <tr>\n",
       "      <th>2</th>\n",
       "      <td>Worlds Season 1</td>\n",
       "      <td>WCS</td>\n",
       "      <td>2011-06-18 08:30:00</td>\n",
       "      <td>45:09</td>\n",
       "      <td>against All authority</td>\n",
       "      <td>Epik Gamer</td>\n",
       "      <td>0</td>\n",
       "      <td>1</td>\n",
       "      <td>Epik Gamer</td>\n",
       "      <td>Group Stage</td>\n",
       "      <td>2011</td>\n",
       "      <td>Europe</td>\n",
       "      <td>aAa</td>\n",
       "      <td>North America</td>\n",
       "      <td>EPIK</td>\n",
       "    </tr>\n",
       "    <tr>\n",
       "      <th>3</th>\n",
       "      <td>Worlds Season 1</td>\n",
       "      <td>WCS</td>\n",
       "      <td>2011-06-18 08:30:00</td>\n",
       "      <td>45:09</td>\n",
       "      <td>against All authority</td>\n",
       "      <td>Epik Gamer</td>\n",
       "      <td>0</td>\n",
       "      <td>1</td>\n",
       "      <td>Epik Gamer</td>\n",
       "      <td>Group Stage</td>\n",
       "      <td>2011</td>\n",
       "      <td>Europe</td>\n",
       "      <td>aAa</td>\n",
       "      <td>North America</td>\n",
       "      <td>EPIK</td>\n",
       "    </tr>\n",
       "    <tr>\n",
       "      <th>4</th>\n",
       "      <td>Worlds Season 1</td>\n",
       "      <td>WCS</td>\n",
       "      <td>2011-06-18 08:30:00</td>\n",
       "      <td>45:09</td>\n",
       "      <td>against All authority</td>\n",
       "      <td>Epik Gamer</td>\n",
       "      <td>0</td>\n",
       "      <td>1</td>\n",
       "      <td>Epik Gamer</td>\n",
       "      <td>Group Stage</td>\n",
       "      <td>2011</td>\n",
       "      <td>Europe</td>\n",
       "      <td>aAa</td>\n",
       "      <td>North America</td>\n",
       "      <td>EPIK</td>\n",
       "    </tr>\n",
       "  </tbody>\n",
       "</table>\n",
       "</div>"
      ],
      "text/plain": [
       "        Tournament League                 Date Gamelength  \\\n",
       "0  Worlds Season 1    WCS  2011-06-18 08:30:00      45:09   \n",
       "1  Worlds Season 1    WCS  2011-06-18 08:30:00      45:09   \n",
       "2  Worlds Season 1    WCS  2011-06-18 08:30:00      45:09   \n",
       "3  Worlds Season 1    WCS  2011-06-18 08:30:00      45:09   \n",
       "4  Worlds Season 1    WCS  2011-06-18 08:30:00      45:09   \n",
       "\n",
       "                   Team1       Team2  Team1Score  Team2Score     WinTeam  \\\n",
       "0  against All authority  Epik Gamer           0           1  Epik Gamer   \n",
       "1  against All authority  Epik Gamer           0           1  Epik Gamer   \n",
       "2  against All authority  Epik Gamer           0           1  Epik Gamer   \n",
       "3  against All authority  Epik Gamer           0           1  Epik Gamer   \n",
       "4  against All authority  Epik Gamer           0           1  Epik Gamer   \n",
       "\n",
       "         Stage  Year Region_T1 Team_T1      Region_T2 Team_T2  \n",
       "0  Group Stage  2011    Europe     aAa  North America    EPIK  \n",
       "1  Group Stage  2011    Europe     aAa  North America    EPIK  \n",
       "2  Group Stage  2011    Europe     aAa  North America    EPIK  \n",
       "3  Group Stage  2011    Europe     aAa  North America    EPIK  \n",
       "4  Group Stage  2011    Europe     aAa  North America    EPIK  "
      ]
     },
     "execution_count": 49,
     "metadata": {},
     "output_type": "execute_result"
    }
   ],
   "source": [
    "import pandas as pd\n",
    "df_team1and2 = pd.read_csv(\"Merged_1_2.csv\")"
   ]
  },
  {
   "cell_type": "markdown",
   "id": "983c215e-e09d-420f-9588-ea55e28be722",
   "metadata": {},
   "source": [
    "## Group by years and find out region participation"
   ]
  },
  {
   "cell_type": "code",
   "execution_count": 338,
   "id": "83c74dbb-417d-407f-849e-24c8aa2b7ab6",
   "metadata": {
    "tags": []
   },
   "outputs": [],
   "source": [
    "#concatenate teams 1 and 2 for full partcipation\n",
    "data1 = df_team1and2_code.groupby([\"Year\",\"Region_code_T1\"])[\"Region_code_T1\"].count()\n",
    "data2 = df_team1and2_code.groupby([\"Year\",\"Region_code_T2\"])[\"Region_code_T2\"].count()\n",
    "data = pd.concat([data1,data2],axis=1)\n",
    "df_participation = pd.DataFrame(data)\n",
    "df_participation[\"Region_T1_T2\"]=df_participation[\"Region_code_T1\"] + df_participation[\"Region_code_T2\"] \n",
    "df_participation= df_participation.reset_index()\n",
    "df_participation.rename(columns={df_participation.columns[1]:\"Region_Participation\",df_participation.columns[4]:\"Participation_counts\"},inplace=True)\n",
    "df_participation.head()\n",
    "\n",
    "#groupby years and regions\n",
    "participation_data = df_participation.groupby([\"Year\",\"Region_Participation\"])[\"Participation_counts\"].sum()\n",
    "participation_data\n",
    "\n",
    "df_participation_data = pd.DataFrame(participation_data)\n",
    "\n",
    "#df_team1_code = df_team1and2.merge(df_Region_code, left_on = 'Region_T1', right_on = 'Region', how = 'left')\n",
    "#df_team1_code=df_team1_code.drop(columns=\"Region\",inplace=True)\n",
    "#df_team1_code.head()"
   ]
  },
  {
   "cell_type": "code",
   "execution_count": 285,
   "id": "cd65df20-b8ca-4d2a-939f-da4404db4724",
   "metadata": {
    "collapsed": true,
    "jupyter": {
     "outputs_hidden": true
    },
    "tags": []
   },
   "outputs": [
    {
     "data": {
      "text/html": [
       "<div>\n",
       "<style scoped>\n",
       "    .dataframe tbody tr th:only-of-type {\n",
       "        vertical-align: middle;\n",
       "    }\n",
       "\n",
       "    .dataframe tbody tr th {\n",
       "        vertical-align: top;\n",
       "    }\n",
       "\n",
       "    .dataframe thead th {\n",
       "        text-align: right;\n",
       "    }\n",
       "</style>\n",
       "<table border=\"1\" class=\"dataframe\">\n",
       "  <thead>\n",
       "    <tr style=\"text-align: right;\">\n",
       "      <th></th>\n",
       "      <th>Tournament</th>\n",
       "      <th>League</th>\n",
       "      <th>Date</th>\n",
       "      <th>Gamelength</th>\n",
       "      <th>Team1</th>\n",
       "      <th>Team2</th>\n",
       "      <th>Team1Score</th>\n",
       "      <th>Team2Score</th>\n",
       "      <th>WinTeam</th>\n",
       "      <th>Stage</th>\n",
       "      <th>Year</th>\n",
       "      <th>Region_T1</th>\n",
       "      <th>Team_T1</th>\n",
       "      <th>Region_T2</th>\n",
       "      <th>Team_T2</th>\n",
       "      <th>Region_code_T1</th>\n",
       "      <th>Region_code_T2</th>\n",
       "    </tr>\n",
       "  </thead>\n",
       "  <tbody>\n",
       "    <tr>\n",
       "      <th>0</th>\n",
       "      <td>Worlds Season 1</td>\n",
       "      <td>WCS</td>\n",
       "      <td>2011-06-18 08:30:00</td>\n",
       "      <td>45:09</td>\n",
       "      <td>against All authority</td>\n",
       "      <td>Epik Gamer</td>\n",
       "      <td>0</td>\n",
       "      <td>1</td>\n",
       "      <td>Epik Gamer</td>\n",
       "      <td>Group Stage</td>\n",
       "      <td>2011</td>\n",
       "      <td>Europe</td>\n",
       "      <td>aAa</td>\n",
       "      <td>North America</td>\n",
       "      <td>EPIK</td>\n",
       "      <td>EMEA</td>\n",
       "      <td>NA</td>\n",
       "    </tr>\n",
       "    <tr>\n",
       "      <th>1</th>\n",
       "      <td>Worlds Season 1</td>\n",
       "      <td>WCS</td>\n",
       "      <td>2011-06-18 08:30:00</td>\n",
       "      <td>45:09</td>\n",
       "      <td>against All authority</td>\n",
       "      <td>Epik Gamer</td>\n",
       "      <td>0</td>\n",
       "      <td>1</td>\n",
       "      <td>Epik Gamer</td>\n",
       "      <td>Group Stage</td>\n",
       "      <td>2011</td>\n",
       "      <td>Europe</td>\n",
       "      <td>aAa</td>\n",
       "      <td>North America</td>\n",
       "      <td>EPIK</td>\n",
       "      <td>EMEA</td>\n",
       "      <td>NA</td>\n",
       "    </tr>\n",
       "    <tr>\n",
       "      <th>2</th>\n",
       "      <td>Worlds Season 1</td>\n",
       "      <td>WCS</td>\n",
       "      <td>2011-06-18 08:30:00</td>\n",
       "      <td>45:09</td>\n",
       "      <td>against All authority</td>\n",
       "      <td>Epik Gamer</td>\n",
       "      <td>0</td>\n",
       "      <td>1</td>\n",
       "      <td>Epik Gamer</td>\n",
       "      <td>Group Stage</td>\n",
       "      <td>2011</td>\n",
       "      <td>Europe</td>\n",
       "      <td>aAa</td>\n",
       "      <td>North America</td>\n",
       "      <td>EPIK</td>\n",
       "      <td>EMEA</td>\n",
       "      <td>NA</td>\n",
       "    </tr>\n",
       "    <tr>\n",
       "      <th>3</th>\n",
       "      <td>Worlds Season 1</td>\n",
       "      <td>WCS</td>\n",
       "      <td>2011-06-18 08:30:00</td>\n",
       "      <td>45:09</td>\n",
       "      <td>against All authority</td>\n",
       "      <td>Epik Gamer</td>\n",
       "      <td>0</td>\n",
       "      <td>1</td>\n",
       "      <td>Epik Gamer</td>\n",
       "      <td>Group Stage</td>\n",
       "      <td>2011</td>\n",
       "      <td>Europe</td>\n",
       "      <td>aAa</td>\n",
       "      <td>North America</td>\n",
       "      <td>EPIK</td>\n",
       "      <td>EMEA</td>\n",
       "      <td>NA</td>\n",
       "    </tr>\n",
       "    <tr>\n",
       "      <th>4</th>\n",
       "      <td>Worlds Season 1</td>\n",
       "      <td>WCS</td>\n",
       "      <td>2011-06-18 08:30:00</td>\n",
       "      <td>45:09</td>\n",
       "      <td>against All authority</td>\n",
       "      <td>Epik Gamer</td>\n",
       "      <td>0</td>\n",
       "      <td>1</td>\n",
       "      <td>Epik Gamer</td>\n",
       "      <td>Group Stage</td>\n",
       "      <td>2011</td>\n",
       "      <td>Europe</td>\n",
       "      <td>aAa</td>\n",
       "      <td>North America</td>\n",
       "      <td>EPIK</td>\n",
       "      <td>EMEA</td>\n",
       "      <td>NA</td>\n",
       "    </tr>\n",
       "  </tbody>\n",
       "</table>\n",
       "</div>"
      ],
      "text/plain": [
       "        Tournament League                 Date Gamelength  \\\n",
       "0  Worlds Season 1    WCS  2011-06-18 08:30:00      45:09   \n",
       "1  Worlds Season 1    WCS  2011-06-18 08:30:00      45:09   \n",
       "2  Worlds Season 1    WCS  2011-06-18 08:30:00      45:09   \n",
       "3  Worlds Season 1    WCS  2011-06-18 08:30:00      45:09   \n",
       "4  Worlds Season 1    WCS  2011-06-18 08:30:00      45:09   \n",
       "\n",
       "                   Team1       Team2  Team1Score  Team2Score     WinTeam  \\\n",
       "0  against All authority  Epik Gamer           0           1  Epik Gamer   \n",
       "1  against All authority  Epik Gamer           0           1  Epik Gamer   \n",
       "2  against All authority  Epik Gamer           0           1  Epik Gamer   \n",
       "3  against All authority  Epik Gamer           0           1  Epik Gamer   \n",
       "4  against All authority  Epik Gamer           0           1  Epik Gamer   \n",
       "\n",
       "         Stage  Year Region_T1 Team_T1      Region_T2 Team_T2 Region_code_T1  \\\n",
       "0  Group Stage  2011    Europe     aAa  North America    EPIK           EMEA   \n",
       "1  Group Stage  2011    Europe     aAa  North America    EPIK           EMEA   \n",
       "2  Group Stage  2011    Europe     aAa  North America    EPIK           EMEA   \n",
       "3  Group Stage  2011    Europe     aAa  North America    EPIK           EMEA   \n",
       "4  Group Stage  2011    Europe     aAa  North America    EPIK           EMEA   \n",
       "\n",
       "  Region_code_T2  \n",
       "0             NA  \n",
       "1             NA  \n",
       "2             NA  \n",
       "3             NA  \n",
       "4             NA  "
      ]
     },
     "execution_count": 285,
     "metadata": {},
     "output_type": "execute_result"
    }
   ],
   "source": [
    "df_winteam = df_Scoreboard_Worlds2.merge(df_TeamRegion, left_on = 'WinTeam', right_on = 'Team', how = 'left')\n",
    "\n",
    "df_Region_code = pd.read_csv(\"Region_Code.csv\",na_filter = False)\n",
    "df_winteam_code = df_winteam.merge(df_Region_code, on = 'Region', how = 'left')\n",
    "df_winteam_code=df_winteam_code.drop(\"Team_abbr\",axis=1)\n",
    "df_winteam_code.rename(columns={\"Region_code\":\"Region_Win\"},inplace=True)\n",
    "\n",
    "df_winteam_code.head()\n",
    "\n",
    "win_data = df_winteam_code.groupby([\"Year\",\"Region_Win\"])[\"Region_Win\"].count()\n"
   ]
  },
  {
   "cell_type": "code",
   "execution_count": 307,
   "id": "7d9b836b-7100-4443-9fff-1165e92853f3",
   "metadata": {
    "tags": []
   },
   "outputs": [
    {
     "data": {
      "text/html": [
       "<div>\n",
       "<style scoped>\n",
       "    .dataframe tbody tr th:only-of-type {\n",
       "        vertical-align: middle;\n",
       "    }\n",
       "\n",
       "    .dataframe tbody tr th {\n",
       "        vertical-align: top;\n",
       "    }\n",
       "\n",
       "    .dataframe thead th {\n",
       "        text-align: right;\n",
       "    }\n",
       "</style>\n",
       "<table border=\"1\" class=\"dataframe\">\n",
       "  <thead>\n",
       "    <tr style=\"text-align: right;\">\n",
       "      <th></th>\n",
       "      <th>Tournament</th>\n",
       "      <th>League</th>\n",
       "      <th>Date</th>\n",
       "      <th>Gamelength</th>\n",
       "      <th>Team1</th>\n",
       "      <th>Team2</th>\n",
       "      <th>Team1Score</th>\n",
       "      <th>Team2Score</th>\n",
       "      <th>WinTeam</th>\n",
       "      <th>Stage</th>\n",
       "      <th>Year</th>\n",
       "      <th>Region_T1</th>\n",
       "      <th>Team_T1</th>\n",
       "      <th>Region_T2</th>\n",
       "      <th>Team_T2</th>\n",
       "      <th>Region_code_T1</th>\n",
       "      <th>Region_code_T2</th>\n",
       "      <th>Region_Win</th>\n",
       "      <th>Region_code_Win</th>\n",
       "    </tr>\n",
       "  </thead>\n",
       "  <tbody>\n",
       "    <tr>\n",
       "      <th>0</th>\n",
       "      <td>Worlds Season 1</td>\n",
       "      <td>WCS</td>\n",
       "      <td>2011-06-18 08:30:00</td>\n",
       "      <td>45:09</td>\n",
       "      <td>against All authority</td>\n",
       "      <td>Epik Gamer</td>\n",
       "      <td>0</td>\n",
       "      <td>1</td>\n",
       "      <td>Epik Gamer</td>\n",
       "      <td>Group Stage</td>\n",
       "      <td>2011</td>\n",
       "      <td>Europe</td>\n",
       "      <td>aAa</td>\n",
       "      <td>North America</td>\n",
       "      <td>EPIK</td>\n",
       "      <td>EMEA</td>\n",
       "      <td>NA</td>\n",
       "      <td>North America</td>\n",
       "      <td>NA</td>\n",
       "    </tr>\n",
       "    <tr>\n",
       "      <th>1</th>\n",
       "      <td>Worlds Season 1</td>\n",
       "      <td>WCS</td>\n",
       "      <td>2011-06-18 08:30:00</td>\n",
       "      <td>45:09</td>\n",
       "      <td>against All authority</td>\n",
       "      <td>Epik Gamer</td>\n",
       "      <td>0</td>\n",
       "      <td>1</td>\n",
       "      <td>Epik Gamer</td>\n",
       "      <td>Group Stage</td>\n",
       "      <td>2011</td>\n",
       "      <td>Europe</td>\n",
       "      <td>aAa</td>\n",
       "      <td>North America</td>\n",
       "      <td>EPIK</td>\n",
       "      <td>EMEA</td>\n",
       "      <td>NA</td>\n",
       "      <td>North America</td>\n",
       "      <td>NA</td>\n",
       "    </tr>\n",
       "    <tr>\n",
       "      <th>2</th>\n",
       "      <td>Worlds Season 1</td>\n",
       "      <td>WCS</td>\n",
       "      <td>2011-06-18 08:30:00</td>\n",
       "      <td>45:09</td>\n",
       "      <td>against All authority</td>\n",
       "      <td>Epik Gamer</td>\n",
       "      <td>0</td>\n",
       "      <td>1</td>\n",
       "      <td>Epik Gamer</td>\n",
       "      <td>Group Stage</td>\n",
       "      <td>2011</td>\n",
       "      <td>Europe</td>\n",
       "      <td>aAa</td>\n",
       "      <td>North America</td>\n",
       "      <td>EPIK</td>\n",
       "      <td>EMEA</td>\n",
       "      <td>NA</td>\n",
       "      <td>North America</td>\n",
       "      <td>NA</td>\n",
       "    </tr>\n",
       "    <tr>\n",
       "      <th>3</th>\n",
       "      <td>Worlds Season 1</td>\n",
       "      <td>WCS</td>\n",
       "      <td>2011-06-18 08:30:00</td>\n",
       "      <td>45:09</td>\n",
       "      <td>against All authority</td>\n",
       "      <td>Epik Gamer</td>\n",
       "      <td>0</td>\n",
       "      <td>1</td>\n",
       "      <td>Epik Gamer</td>\n",
       "      <td>Group Stage</td>\n",
       "      <td>2011</td>\n",
       "      <td>Europe</td>\n",
       "      <td>aAa</td>\n",
       "      <td>North America</td>\n",
       "      <td>EPIK</td>\n",
       "      <td>EMEA</td>\n",
       "      <td>NA</td>\n",
       "      <td>North America</td>\n",
       "      <td>NA</td>\n",
       "    </tr>\n",
       "    <tr>\n",
       "      <th>4</th>\n",
       "      <td>Worlds Season 1</td>\n",
       "      <td>WCS</td>\n",
       "      <td>2011-06-18 08:30:00</td>\n",
       "      <td>45:09</td>\n",
       "      <td>against All authority</td>\n",
       "      <td>Epik Gamer</td>\n",
       "      <td>0</td>\n",
       "      <td>1</td>\n",
       "      <td>Epik Gamer</td>\n",
       "      <td>Group Stage</td>\n",
       "      <td>2011</td>\n",
       "      <td>Europe</td>\n",
       "      <td>aAa</td>\n",
       "      <td>North America</td>\n",
       "      <td>EPIK</td>\n",
       "      <td>EMEA</td>\n",
       "      <td>NA</td>\n",
       "      <td>North America</td>\n",
       "      <td>NA</td>\n",
       "    </tr>\n",
       "  </tbody>\n",
       "</table>\n",
       "</div>"
      ],
      "text/plain": [
       "        Tournament League                 Date Gamelength  \\\n",
       "0  Worlds Season 1    WCS  2011-06-18 08:30:00      45:09   \n",
       "1  Worlds Season 1    WCS  2011-06-18 08:30:00      45:09   \n",
       "2  Worlds Season 1    WCS  2011-06-18 08:30:00      45:09   \n",
       "3  Worlds Season 1    WCS  2011-06-18 08:30:00      45:09   \n",
       "4  Worlds Season 1    WCS  2011-06-18 08:30:00      45:09   \n",
       "\n",
       "                   Team1       Team2  Team1Score  Team2Score     WinTeam  \\\n",
       "0  against All authority  Epik Gamer           0           1  Epik Gamer   \n",
       "1  against All authority  Epik Gamer           0           1  Epik Gamer   \n",
       "2  against All authority  Epik Gamer           0           1  Epik Gamer   \n",
       "3  against All authority  Epik Gamer           0           1  Epik Gamer   \n",
       "4  against All authority  Epik Gamer           0           1  Epik Gamer   \n",
       "\n",
       "         Stage  Year Region_T1 Team_T1      Region_T2 Team_T2 Region_code_T1  \\\n",
       "0  Group Stage  2011    Europe     aAa  North America    EPIK           EMEA   \n",
       "1  Group Stage  2011    Europe     aAa  North America    EPIK           EMEA   \n",
       "2  Group Stage  2011    Europe     aAa  North America    EPIK           EMEA   \n",
       "3  Group Stage  2011    Europe     aAa  North America    EPIK           EMEA   \n",
       "4  Group Stage  2011    Europe     aAa  North America    EPIK           EMEA   \n",
       "\n",
       "  Region_code_T2     Region_Win Region_code_Win  \n",
       "0             NA  North America              NA  \n",
       "1             NA  North America              NA  \n",
       "2             NA  North America              NA  \n",
       "3             NA  North America              NA  \n",
       "4             NA  North America              NA  "
      ]
     },
     "execution_count": 307,
     "metadata": {},
     "output_type": "execute_result"
    }
   ],
   "source": [
    "#df_win_data = pd.DataFrame(win_data)\n",
    "df_team1and2_winner_code = df_team1and2_code.merge(df_TeamRegion, left_on = 'WinTeam', right_on = 'Team', how = 'left')\n",
    "df_team1and2_winner_code = df_team1and2_winner_code.drop([\"Team\",\"Team_abbr\"],axis=1)\n",
    "df_team1and2_winner_code.rename(columns={\"Region\":\"Region_Win\"},inplace=True)\n",
    "\n",
    "df_team1and2_winner_code2 = df_team1and2_winner_code.merge(df_Region_code, left_on = 'Region_Win', right_on = 'Region', how = 'left')\n",
    "df_team1and2_winner_code2 = df_team1and2_winner_code2.drop([\"Region\"],axis=1)\n",
    "df_team1and2_winner_code2.rename(columns={\"Region_code\":\"Region_code_Win\"},inplace=True)\n",
    "df_team1and2_winner_code2.head()"
   ]
  },
  {
   "cell_type": "code",
   "execution_count": 460,
   "id": "08ed639c-6f1f-41e5-8590-4b4856d6d2fe",
   "metadata": {
    "tags": []
   },
   "outputs": [
    {
     "data": {
      "text/html": [
       "<div>\n",
       "<style scoped>\n",
       "    .dataframe tbody tr th:only-of-type {\n",
       "        vertical-align: middle;\n",
       "    }\n",
       "\n",
       "    .dataframe tbody tr th {\n",
       "        vertical-align: top;\n",
       "    }\n",
       "\n",
       "    .dataframe thead th {\n",
       "        text-align: right;\n",
       "    }\n",
       "</style>\n",
       "<table border=\"1\" class=\"dataframe\">\n",
       "  <thead>\n",
       "    <tr style=\"text-align: right;\">\n",
       "      <th></th>\n",
       "      <th></th>\n",
       "      <th>Win_counts</th>\n",
       "      <th>Participation_counts</th>\n",
       "    </tr>\n",
       "    <tr>\n",
       "      <th>Region_code</th>\n",
       "      <th>Year</th>\n",
       "      <th></th>\n",
       "      <th></th>\n",
       "    </tr>\n",
       "  </thead>\n",
       "  <tbody>\n",
       "    <tr>\n",
       "      <th>EMEA</th>\n",
       "      <th>2011</th>\n",
       "      <td>672</td>\n",
       "      <td>1092.0</td>\n",
       "    </tr>\n",
       "    <tr>\n",
       "      <th>NA</th>\n",
       "      <th>2011</th>\n",
       "      <td>1071</td>\n",
       "      <td>1638.0</td>\n",
       "    </tr>\n",
       "    <tr>\n",
       "      <th>PCS</th>\n",
       "      <th>2011</th>\n",
       "      <td>21</td>\n",
       "      <td>0.0</td>\n",
       "    </tr>\n",
       "    <tr>\n",
       "      <th>CN</th>\n",
       "      <th>2012</th>\n",
       "      <td>133</td>\n",
       "      <td>380.0</td>\n",
       "    </tr>\n",
       "    <tr>\n",
       "      <th>EMEA</th>\n",
       "      <th>2012</th>\n",
       "      <td>95</td>\n",
       "      <td>380.0</td>\n",
       "    </tr>\n",
       "  </tbody>\n",
       "</table>\n",
       "</div>"
      ],
      "text/plain": [
       "                  Win_counts  Participation_counts\n",
       "Region_code Year                                  \n",
       "EMEA        2011         672                1092.0\n",
       "NA          2011        1071                1638.0\n",
       "PCS         2011          21                   0.0\n",
       "CN          2012         133                 380.0\n",
       "EMEA        2012          95                 380.0"
      ]
     },
     "execution_count": 460,
     "metadata": {},
     "output_type": "execute_result"
    }
   ],
   "source": [
    "#compare participation vs wins\n",
    "\n",
    "#group regions and count wins per region\n",
    "wins = df_team1and2_winner_code2.groupby([\"Year\",\"Region_code_Win\"])[\"Region_code_Win\"].count()\n",
    "\n",
    "#table for counting wins per region\n",
    "dfwins = pd.DataFrame(wins)\n",
    "dfwins.rename(columns={\"Region_code_Win\":\"Win_counts\"},inplace=True)\n",
    "dfwins = dfwins.reset_index()\n",
    "dfwins.rename(columns={\"Region_code_Win\":\"Region_code\"},inplace=True)\n",
    "dfwins.head()\n",
    "\n",
    "#table for counting participation per region\n",
    "dfparticipation = pd.DataFrame(participation_data)\n",
    "dfparticipation = dfparticipation.reset_index()\n",
    "dfparticipation.rename(columns={\"Region_Participation\":\"Region_code\"},inplace=True)\n",
    "dfparticipation.head()\n",
    "\n",
    "#merge tables to compare participation vs win counts\n",
    "dfcompare_part_wins = dfwins.merge(dfparticipation, on = [\"Year\",\"Region_code\"], how = \"left\")\n",
    "dfcompare_part_wins = dfcompare_part_wins.set_index([\"Region_code\",\"Year\"])\n",
    "dfcompare_part_wins.head()"
   ]
  },
  {
   "cell_type": "code",
   "execution_count": 488,
   "id": "3d9369c1-ae03-4e8f-b95d-716b94ca427f",
   "metadata": {
    "tags": []
   },
   "outputs": [
    {
     "data": {
      "text/plain": [
       "<AxesSubplot: title={'center': 'KR'}, xlabel='Year'>"
      ]
     },
     "execution_count": 488,
     "metadata": {},
     "output_type": "execute_result"
    },
    {
     "data": {
      "image/png": "[encoded data removed]",
      "text/plain": [
       "<Figure size 640x480 with 1 Axes>"
      ]
     },
     "metadata": {},
     "output_type": "display_data"
    }
   ],
   "source": [
    "#Graph for participation vs wins\n",
    "import matplotlib.pyplot as plt\n",
    "\n",
    "#sample graph for Korea\n",
    "dfcompare_part_wins_KR = dfcompare_part_wins.loc[\"KR\"]\n",
    "dfcompare_part_wins_KR.plot(kind=\"bar\", title=\"KR\")"
   ]
  },
  {
   "cell_type": "code",
   "execution_count": 489,
   "id": "e648d81d-0fa4-4468-bb65-7d5c89b7dd60",
   "metadata": {
    "tags": []
   },
   "outputs": [
    {
     "data": {
      "text/html": [
       "<div>\n",
       "<style scoped>\n",
       "    .dataframe tbody tr th:only-of-type {\n",
       "        vertical-align: middle;\n",
       "    }\n",
       "\n",
       "    .dataframe tbody tr th {\n",
       "        vertical-align: top;\n",
       "    }\n",
       "\n",
       "    .dataframe thead th {\n",
       "        text-align: right;\n",
       "    }\n",
       "</style>\n",
       "<table border=\"1\" class=\"dataframe\">\n",
       "  <thead>\n",
       "    <tr style=\"text-align: right;\">\n",
       "      <th></th>\n",
       "      <th>Regions</th>\n",
       "      <th>Ratio</th>\n",
       "    </tr>\n",
       "  </thead>\n",
       "  <tbody>\n",
       "    <tr>\n",
       "      <th>0</th>\n",
       "      <td>EMEA</td>\n",
       "      <td>0.430608</td>\n",
       "    </tr>\n",
       "    <tr>\n",
       "      <th>1</th>\n",
       "      <td>BR</td>\n",
       "      <td>0.218342</td>\n",
       "    </tr>\n",
       "    <tr>\n",
       "      <th>2</th>\n",
       "      <td>CN</td>\n",
       "      <td>0.574447</td>\n",
       "    </tr>\n",
       "    <tr>\n",
       "      <th>3</th>\n",
       "      <td>INT</td>\n",
       "      <td>0.345308</td>\n",
       "    </tr>\n",
       "    <tr>\n",
       "      <th>4</th>\n",
       "      <td>JP</td>\n",
       "      <td>0.353047</td>\n",
       "    </tr>\n",
       "    <tr>\n",
       "      <th>5</th>\n",
       "      <td>KR</td>\n",
       "      <td>0.666444</td>\n",
       "    </tr>\n",
       "    <tr>\n",
       "      <th>6</th>\n",
       "      <td>LAT</td>\n",
       "      <td>0.343254</td>\n",
       "    </tr>\n",
       "    <tr>\n",
       "      <th>7</th>\n",
       "      <td>NA</td>\n",
       "      <td>0.428368</td>\n",
       "    </tr>\n",
       "    <tr>\n",
       "      <th>8</th>\n",
       "      <td>PCS</td>\n",
       "      <td>inf</td>\n",
       "    </tr>\n",
       "    <tr>\n",
       "      <th>9</th>\n",
       "      <td>VN</td>\n",
       "      <td>0.231249</td>\n",
       "    </tr>\n",
       "  </tbody>\n",
       "</table>\n",
       "</div>"
      ],
      "text/plain": [
       "  Regions     Ratio\n",
       "0    EMEA  0.430608\n",
       "1      BR  0.218342\n",
       "2      CN  0.574447\n",
       "3     INT  0.345308\n",
       "4      JP  0.353047\n",
       "5      KR  0.666444\n",
       "6     LAT  0.343254\n",
       "7      NA  0.428368\n",
       "8     PCS       inf\n",
       "9      VN  0.231249"
      ]
     },
     "execution_count": 489,
     "metadata": {},
     "output_type": "execute_result"
    }
   ],
   "source": [
    "#ratio of participation vs wins\n",
    "list_regions = list(df_Region_code[\"Region_code\"].unique())\n",
    "list_regions\n",
    "\n",
    "#define function for getting wins/participation counts\n",
    "def get_part_win_ratio(region):\n",
    "    part_wins_ratio = dfcompare_part_wins.loc[region][\"Win_counts\"]/dfcompare_part_wins.loc[region][\"Participation_counts\"]\n",
    "    return part_wins_ratio.mean()\n",
    "\n",
    "\n",
    "#make table of region vs ratio\n",
    "df_ratios = pd.DataFrame()\n",
    "df_ratios[\"Regions\"]=list_regions\n",
    "df_ratios[\"Ratio\"] = df_ratios[\"Regions\"].apply(get_part_win_ratio)\n",
    "    \n",
    "df_ratios"
   ]
  },
  {
   "cell_type": "code",
   "execution_count": 490,
   "id": "9073100e-9517-4dd4-92d4-1cbabf30b6a7",
   "metadata": {
    "tags": []
   },
   "outputs": [
    {
     "data": {
      "text/plain": [
       "Year\n",
       "2011         inf\n",
       "2012    0.142857\n",
       "2014    0.428571\n",
       "2015    0.250000\n",
       "2016    0.500000\n",
       "2017    0.319783\n",
       "2018    0.387597\n",
       "2019    0.223992\n",
       "2020    0.438596\n",
       "2021    0.425353\n",
       "2022    0.130522\n",
       "dtype: float64"
      ]
     },
     "execution_count": 490,
     "metadata": {},
     "output_type": "execute_result"
    }
   ],
   "source": [
    "#inspect why PCS mean ratio is 'inf'\n",
    "df_part_wins_ratio_PCS = dfcompare_part_wins.loc[\"PCS\"][\"Win_counts\"]/dfcompare_part_wins.loc[\"PCS\"][\"Participation_counts\"]\n",
    "df_part_wins_ratio_PCS"
   ]
  },
  {
   "cell_type": "code",
   "execution_count": 491,
   "id": "542b9eaf-f925-4505-846d-cf32c3e06820",
   "metadata": {
    "tags": []
   },
   "outputs": [
    {
     "data": {
      "text/html": [
       "<div>\n",
       "<style scoped>\n",
       "    .dataframe tbody tr th:only-of-type {\n",
       "        vertical-align: middle;\n",
       "    }\n",
       "\n",
       "    .dataframe tbody tr th {\n",
       "        vertical-align: top;\n",
       "    }\n",
       "\n",
       "    .dataframe thead th {\n",
       "        text-align: right;\n",
       "    }\n",
       "</style>\n",
       "<table border=\"1\" class=\"dataframe\">\n",
       "  <thead>\n",
       "    <tr style=\"text-align: right;\">\n",
       "      <th></th>\n",
       "      <th>Regions</th>\n",
       "      <th>Ratio</th>\n",
       "    </tr>\n",
       "  </thead>\n",
       "  <tbody>\n",
       "    <tr>\n",
       "      <th>0</th>\n",
       "      <td>EMEA</td>\n",
       "      <td>0.430608</td>\n",
       "    </tr>\n",
       "    <tr>\n",
       "      <th>1</th>\n",
       "      <td>BR</td>\n",
       "      <td>0.218342</td>\n",
       "    </tr>\n",
       "    <tr>\n",
       "      <th>2</th>\n",
       "      <td>CN</td>\n",
       "      <td>0.574447</td>\n",
       "    </tr>\n",
       "    <tr>\n",
       "      <th>3</th>\n",
       "      <td>INT</td>\n",
       "      <td>0.345308</td>\n",
       "    </tr>\n",
       "    <tr>\n",
       "      <th>4</th>\n",
       "      <td>JP</td>\n",
       "      <td>0.353047</td>\n",
       "    </tr>\n",
       "    <tr>\n",
       "      <th>5</th>\n",
       "      <td>KR</td>\n",
       "      <td>0.666444</td>\n",
       "    </tr>\n",
       "    <tr>\n",
       "      <th>6</th>\n",
       "      <td>LAT</td>\n",
       "      <td>0.343254</td>\n",
       "    </tr>\n",
       "    <tr>\n",
       "      <th>7</th>\n",
       "      <td>NA</td>\n",
       "      <td>0.428368</td>\n",
       "    </tr>\n",
       "    <tr>\n",
       "      <th>8</th>\n",
       "      <td>PCS</td>\n",
       "      <td>0.324727</td>\n",
       "    </tr>\n",
       "    <tr>\n",
       "      <th>9</th>\n",
       "      <td>VN</td>\n",
       "      <td>0.231249</td>\n",
       "    </tr>\n",
       "  </tbody>\n",
       "</table>\n",
       "</div>"
      ],
      "text/plain": [
       "  Regions     Ratio\n",
       "0    EMEA  0.430608\n",
       "1      BR  0.218342\n",
       "2      CN  0.574447\n",
       "3     INT  0.345308\n",
       "4      JP  0.353047\n",
       "5      KR  0.666444\n",
       "6     LAT  0.343254\n",
       "7      NA  0.428368\n",
       "8     PCS  0.324727\n",
       "9      VN  0.231249"
      ]
     },
     "execution_count": 491,
     "metadata": {},
     "output_type": "execute_result"
    }
   ],
   "source": [
    "#remove inf (0/0) from PCS because that's where the inf comes from\n",
    "import numpy as np\n",
    "df_part_wins_ratio_PCS.replace([np.inf, -np.inf], np.nan, inplace=True)\n",
    "df_part_wins_ratio_PCS.dropna(inplace=True)\n",
    "df_part_wins_ratio_PCS.mean()\n",
    "\n",
    "#replace PCS mean ratio in table\n",
    "df_ratios.at[8,\"Ratio\"] = df_part_wins_ratio_PCS.mean()\n",
    "df_ratios\n",
    "#df_ratios.to_csv(\"Participation_to_Win_Ratio.csv\",index=False)"
   ]
  },
  {
   "cell_type": "code",
   "execution_count": null,
   "id": "3dbd0a41-a01f-4bb8-be76-3dafd6cdf9a1",
   "metadata": {},
   "outputs": [],
   "source": [
    "#can see that KR and CN has participation to win ratio > 50%\n",
    "#also they have most wins in Worlds\n",
    "#will also look at EMEA and NA"
   ]
  },
  {
   "cell_type": "code",
   "execution_count": 562,
   "id": "f7f1bb9d-6a13-40aa-ac5f-29aa8b387c5b",
   "metadata": {
    "collapsed": true,
    "jupyter": {
     "outputs_hidden": true
    },
    "tags": []
   },
   "outputs": [
    {
     "data": {
      "image/png": "[encoded data removed]",
      "text/plain": [
       "<Figure size 1500x500 with 1 Axes>"
      ]
     },
     "metadata": {},
     "output_type": "display_data"
    },
    {
     "data": {
      "image/png": "[encoded data removed]",
      "text/plain": [
       "<Figure size 1500x500 with 1 Axes>"
      ]
     },
     "metadata": {},
     "output_type": "display_data"
    },
    {
     "data": {
      "image/png": "[encoded data removed]",
      "text/plain": [
       "<Figure size 1500x500 with 1 Axes>"
      ]
     },
     "metadata": {},
     "output_type": "display_data"
    },
    {
     "data": {
      "image/png": "[encoded data removed]",
      "text/plain": [
       "<Figure size 1500x500 with 1 Axes>"
      ]
     },
     "metadata": {},
     "output_type": "display_data"
    },
    {
     "data": {
      "image/png": "[encoded data removed]",
      "text/plain": [
       "<Figure size 1500x500 with 1 Axes>"
      ]
     },
     "metadata": {},
     "output_type": "display_data"
    }
   ],
   "source": [
    "#get finals only\n",
    "df_team1and2_finals = df_team1and2_winner_code2[df_team1and2_winner_code2[\"Stage\"]==\"Finals\"]\n",
    "df_team1and2_finals.head()\n",
    "\n",
    "##compare participation vs wins\n",
    "\n",
    "#concatenate teams 1 and 2 for full partcipation\n",
    "data1 = df_team1and2_finals.groupby([\"Year\",\"Region_code_T1\"])[\"Region_code_T1\"].count()\n",
    "data2 = df_team1and2_finals.groupby([\"Year\",\"Region_code_T2\"])[\"Region_code_T2\"].count()\n",
    "data_finals = pd.concat([data1,data2],axis=1)\n",
    "df_participation_finals = pd.DataFrame(data_finals)\n",
    "df_participation_finals[\"Region_T1_T2\"]=df_participation_finals[\"Region_code_T1\"] + df_participation_finals[\"Region_code_T2\"] \n",
    "df_participation_finals= df_participation_finals.reset_index()\n",
    "df_participation_finals.rename(columns={df_participation_finals.columns[1]:\"Region_Participation\",df_participation_finals.columns[4]:\"Participation_counts\"},inplace=True)\n",
    "\n",
    "#groupby years and regions\n",
    "participation_finals_data = df_participation_finals.groupby([\"Year\",\"Region_Participation\"])[\"Participation_counts\"].sum()\n",
    "\n",
    "#group regions and count wins per region\n",
    "wins_finals = df_team1and2_finals.groupby([\"Year\",\"Region_code_Win\"])[\"Region_code_Win\"].count()\n",
    "\n",
    "#table for counting wins per region\n",
    "dfwins_finals = pd.DataFrame(wins_finals)\n",
    "dfwins_finals.rename(columns={\"Region_code_Win\":\"Win_counts\"},inplace=True)\n",
    "dfwins_finals = dfwins_finals.reset_index()\n",
    "dfwins_finals.rename(columns={\"Region_code_Win\":\"Region_code\"},inplace=True)\n",
    "dfwins_finals.head()\n",
    "\n",
    "#table for counting participation per region\n",
    "dfparticipation_finals = pd.DataFrame(participation_finals_data)\n",
    "dfparticipation_finals = dfparticipation_finals.reset_index()\n",
    "dfparticipation_finals.rename(columns={\"Region_Participation\":\"Region_code\"},inplace=True)\n",
    "dfparticipation_finals = dfparticipation_finals.set_index([\"Year\",\"Region_code\"])\n",
    "\n",
    "\n",
    "\n",
    "#plot Recent 5Y regional matches in Worlds Finals \n",
    "import matplotlib.pyplot as plt\n",
    "\n",
    "for i in range(2018,2023):\n",
    "    dfparticipation_finals.loc[i].plot(kind = \"bar\",title = i, figsize=(15,5), xlabel=\"Region\",ylabel=\"Matches\")\n",
    "    "
   ]
  },
  {
   "cell_type": "code",
   "execution_count": 591,
   "id": "a05af796-f3ef-4954-8b5f-f5f041a96e90",
   "metadata": {},
   "outputs": [
    {
     "data": {
      "text/html": [
       "<div>\n",
       "<style scoped>\n",
       "    .dataframe tbody tr th:only-of-type {\n",
       "        vertical-align: middle;\n",
       "    }\n",
       "\n",
       "    .dataframe tbody tr th {\n",
       "        vertical-align: top;\n",
       "    }\n",
       "\n",
       "    .dataframe thead th {\n",
       "        text-align: right;\n",
       "    }\n",
       "</style>\n",
       "<table border=\"1\" class=\"dataframe\">\n",
       "  <thead>\n",
       "    <tr style=\"text-align: right;\">\n",
       "      <th>Year</th>\n",
       "      <th>2011</th>\n",
       "      <th>2012</th>\n",
       "      <th>2013</th>\n",
       "      <th>2014</th>\n",
       "      <th>2015</th>\n",
       "      <th>2016</th>\n",
       "      <th>2017</th>\n",
       "      <th>2018</th>\n",
       "      <th>2019</th>\n",
       "      <th>2020</th>\n",
       "      <th>2021</th>\n",
       "      <th>2022</th>\n",
       "    </tr>\n",
       "    <tr>\n",
       "      <th>Region_code</th>\n",
       "      <th></th>\n",
       "      <th></th>\n",
       "      <th></th>\n",
       "      <th></th>\n",
       "      <th></th>\n",
       "      <th></th>\n",
       "      <th></th>\n",
       "      <th></th>\n",
       "      <th></th>\n",
       "      <th></th>\n",
       "      <th></th>\n",
       "      <th></th>\n",
       "    </tr>\n",
       "  </thead>\n",
       "  <tbody>\n",
       "    <tr>\n",
       "      <th>BR</th>\n",
       "      <td>0</td>\n",
       "      <td>0</td>\n",
       "      <td>0</td>\n",
       "      <td>6</td>\n",
       "      <td>14</td>\n",
       "      <td>6</td>\n",
       "      <td>0</td>\n",
       "      <td>0</td>\n",
       "      <td>0</td>\n",
       "      <td>0</td>\n",
       "      <td>0</td>\n",
       "      <td>0</td>\n",
       "    </tr>\n",
       "    <tr>\n",
       "      <th>CN</th>\n",
       "      <td>0</td>\n",
       "      <td>20</td>\n",
       "      <td>27</td>\n",
       "      <td>166</td>\n",
       "      <td>21</td>\n",
       "      <td>27</td>\n",
       "      <td>36</td>\n",
       "      <td>40</td>\n",
       "      <td>54</td>\n",
       "      <td>58</td>\n",
       "      <td>59</td>\n",
       "      <td>69</td>\n",
       "    </tr>\n",
       "    <tr>\n",
       "      <th>EMEA</th>\n",
       "      <td>52</td>\n",
       "      <td>20</td>\n",
       "      <td>63</td>\n",
       "      <td>32</td>\n",
       "      <td>43</td>\n",
       "      <td>25</td>\n",
       "      <td>48</td>\n",
       "      <td>46</td>\n",
       "      <td>51</td>\n",
       "      <td>55</td>\n",
       "      <td>57</td>\n",
       "      <td>70</td>\n",
       "    </tr>\n",
       "    <tr>\n",
       "      <th>INT</th>\n",
       "      <td>0</td>\n",
       "      <td>54</td>\n",
       "      <td>42</td>\n",
       "      <td>14</td>\n",
       "      <td>18</td>\n",
       "      <td>16</td>\n",
       "      <td>6</td>\n",
       "      <td>21</td>\n",
       "      <td>0</td>\n",
       "      <td>6</td>\n",
       "      <td>0</td>\n",
       "      <td>0</td>\n",
       "    </tr>\n",
       "    <tr>\n",
       "      <th>JP</th>\n",
       "      <td>0</td>\n",
       "      <td>0</td>\n",
       "      <td>0</td>\n",
       "      <td>0</td>\n",
       "      <td>0</td>\n",
       "      <td>0</td>\n",
       "      <td>0</td>\n",
       "      <td>0</td>\n",
       "      <td>0</td>\n",
       "      <td>0</td>\n",
       "      <td>6</td>\n",
       "      <td>0</td>\n",
       "    </tr>\n",
       "    <tr>\n",
       "      <th>KR</th>\n",
       "      <td>0</td>\n",
       "      <td>41</td>\n",
       "      <td>79</td>\n",
       "      <td>56</td>\n",
       "      <td>143</td>\n",
       "      <td>53</td>\n",
       "      <td>52</td>\n",
       "      <td>62</td>\n",
       "      <td>79</td>\n",
       "      <td>43</td>\n",
       "      <td>67</td>\n",
       "      <td>87</td>\n",
       "    </tr>\n",
       "    <tr>\n",
       "      <th>NA</th>\n",
       "      <td>78</td>\n",
       "      <td>24</td>\n",
       "      <td>35</td>\n",
       "      <td>35</td>\n",
       "      <td>27</td>\n",
       "      <td>21</td>\n",
       "      <td>33</td>\n",
       "      <td>37</td>\n",
       "      <td>26</td>\n",
       "      <td>18</td>\n",
       "      <td>35</td>\n",
       "      <td>42</td>\n",
       "    </tr>\n",
       "    <tr>\n",
       "      <th>PCS</th>\n",
       "      <td>0</td>\n",
       "      <td>7</td>\n",
       "      <td>16</td>\n",
       "      <td>7</td>\n",
       "      <td>16</td>\n",
       "      <td>6</td>\n",
       "      <td>6</td>\n",
       "      <td>6</td>\n",
       "      <td>26</td>\n",
       "      <td>20</td>\n",
       "      <td>6</td>\n",
       "      <td>6</td>\n",
       "    </tr>\n",
       "    <tr>\n",
       "      <th>VN</th>\n",
       "      <td>0</td>\n",
       "      <td>0</td>\n",
       "      <td>0</td>\n",
       "      <td>0</td>\n",
       "      <td>0</td>\n",
       "      <td>0</td>\n",
       "      <td>35</td>\n",
       "      <td>14</td>\n",
       "      <td>6</td>\n",
       "      <td>0</td>\n",
       "      <td>0</td>\n",
       "      <td>14</td>\n",
       "    </tr>\n",
       "  </tbody>\n",
       "</table>\n",
       "</div>"
      ],
      "text/plain": [
       "Year         2011  2012  2013  2014  2015  2016  2017  2018  2019  2020  2021  \\\n",
       "Region_code                                                                     \n",
       "BR              0     0     0     6    14     6     0     0     0     0     0   \n",
       "CN              0    20    27   166    21    27    36    40    54    58    59   \n",
       "EMEA           52    20    63    32    43    25    48    46    51    55    57   \n",
       "INT             0    54    42    14    18    16     6    21     0     6     0   \n",
       "JP              0     0     0     0     0     0     0     0     0     0     6   \n",
       "KR              0    41    79    56   143    53    52    62    79    43    67   \n",
       "NA             78    24    35    35    27    21    33    37    26    18    35   \n",
       "PCS             0     7    16     7    16     6     6     6    26    20     6   \n",
       "VN              0     0     0     0     0     0    35    14     6     0     0   \n",
       "\n",
       "Year         2022  \n",
       "Region_code        \n",
       "BR              0  \n",
       "CN             69  \n",
       "EMEA           70  \n",
       "INT             0  \n",
       "JP              0  \n",
       "KR             87  \n",
       "NA             42  \n",
       "PCS             6  \n",
       "VN             14  "
      ]
     },
     "execution_count": 591,
     "metadata": {},
     "output_type": "execute_result"
    }
   ],
   "source": [
    "#dfparticipation_finals_by_region = dfparticipation_finals.reset_index()\n",
    "#dfparticipation_finals_by_region = dfparticipation_finals_by_region.set_index([\"Region_code\",\"Year\"])\n",
    "#dfparticipation_finals_by_region\n",
    "\n",
    "#dfparticipation_finals = dfparticipation_finals.reset_index()\n",
    "piv_participation_finals = pd.pivot_table(dfparticipation_finals,index=\"Region_code\",columns=\"Year\",values=\"Participation_counts\", fill_value=0)\n",
    "piv_participation_finals\n",
    "\n",
    "#can see that KR, CN and EMEA has similar number of teams playing in finals *knockout stage* matches"
   ]
  },
  {
   "cell_type": "markdown",
   "id": "0677c518-b99e-40a8-b8ad-7ff2ac7c3c56",
   "metadata": {},
   "source": [
    "## Decide to only look at KR, CN, EMEA as a result of analysis:\n",
    "- Worlds Winners region frequency\n",
    "- Match winners region frequency\n",
    "- Entering finals (knockout stage) region frequency"
   ]
  },
  {
   "cell_type": "markdown",
   "id": "badb0692-e905-40c3-91f6-020ddb0caff8",
   "metadata": {},
   "source": [
    "## API LCK Info"
   ]
  },
  {
   "cell_type": "code",
   "execution_count": 493,
   "id": "322d55b2-9249-4219-ab76-4ac4e58fc4d3",
   "metadata": {
    "tags": []
   },
   "outputs": [
    {
     "data": {
      "application/vnd.jupyter.widget-view+json": {
       "model_id": "174544a0d36c4cee8818e6fe19e855e1",
       "version_major": 2,
       "version_minor": 0
      },
      "text/plain": [
       "  0%|          | 0/1 [00:00<?, ?it/s]"
      ]
     },
     "metadata": {},
     "output_type": "display_data"
    }
   ],
   "source": [
    "import mwclient\n",
    "site = mwclient.Site('lol.fandom.com', path='/')\n",
    "\n",
    "from tqdm.notebook import tqdm\n",
    "\n",
    "leagues=['LCK']\n",
    "\n",
    "results = []\n",
    "\n",
    "for league in tqdm(leagues):\n",
    "    off=0\n",
    "    \n",
    "    while True:\n",
    "    \n",
    "        response = site.api('cargoquery',\n",
    "                            offset=str(off),\n",
    "                            \n",
    "                            limit=\"max\",\n",
    "                            \n",
    "                            tables = \"ScoreboardGames=SG,Tournaments=T, Leagues=L\",\n",
    "                            \n",
    "                            fields=\"T.Name=Tournament,\\\n",
    "                                    L.League_Short=League,\\\n",
    "                                    SG.DateTime_UTC=Date, SG.Gamelength, SG.Team1, SG.Team2, SG.Team1Score, SG.Team2Score,SG.WinTeam\", \n",
    "                            \n",
    "                            where = 'L.League_Short = \"'+league+'\"',\n",
    "                            \n",
    "                            join_on = \"SG.OverviewPage=T.OverviewPage, T.League = L.League\")\n",
    "    \n",
    "        results += response[\"cargoquery\"] \n",
    "        \n",
    "        off=off+500\n",
    "        if(len(response[\"cargoquery\"])<500): break"
   ]
  },
  {
   "cell_type": "code",
   "execution_count": 494,
   "id": "a50f37a4-24b9-411d-a7a7-a5ebc3c8f8b9",
   "metadata": {
    "tags": []
   },
   "outputs": [
    {
     "data": {
      "text/html": [
       "<div>\n",
       "<style scoped>\n",
       "    .dataframe tbody tr th:only-of-type {\n",
       "        vertical-align: middle;\n",
       "    }\n",
       "\n",
       "    .dataframe tbody tr th {\n",
       "        vertical-align: top;\n",
       "    }\n",
       "\n",
       "    .dataframe thead th {\n",
       "        text-align: right;\n",
       "    }\n",
       "</style>\n",
       "<table border=\"1\" class=\"dataframe\">\n",
       "  <thead>\n",
       "    <tr style=\"text-align: right;\">\n",
       "      <th></th>\n",
       "      <th>Tournament</th>\n",
       "      <th>League</th>\n",
       "      <th>Date</th>\n",
       "      <th>Gamelength</th>\n",
       "      <th>Team1</th>\n",
       "      <th>Team2</th>\n",
       "      <th>Team1Score</th>\n",
       "      <th>Team2Score</th>\n",
       "      <th>WinTeam</th>\n",
       "      <th>Year</th>\n",
       "    </tr>\n",
       "  </thead>\n",
       "  <tbody>\n",
       "    <tr>\n",
       "      <th>0</th>\n",
       "      <td>LCK 2016 Spring Promotion</td>\n",
       "      <td>LCK</td>\n",
       "      <td>2015-09-11 08:58:00</td>\n",
       "      <td>29:04</td>\n",
       "      <td>Incredible Miracle</td>\n",
       "      <td>Dark Wolves</td>\n",
       "      <td>1</td>\n",
       "      <td>0</td>\n",
       "      <td>Incredible Miracle</td>\n",
       "      <td>2015</td>\n",
       "    </tr>\n",
       "    <tr>\n",
       "      <th>1</th>\n",
       "      <td>LCK 2016 Spring Promotion</td>\n",
       "      <td>LCK</td>\n",
       "      <td>2015-09-11 09:44:00</td>\n",
       "      <td>33:50</td>\n",
       "      <td>Dark Wolves</td>\n",
       "      <td>Incredible Miracle</td>\n",
       "      <td>1</td>\n",
       "      <td>1</td>\n",
       "      <td>Dark Wolves</td>\n",
       "      <td>2015</td>\n",
       "    </tr>\n",
       "    <tr>\n",
       "      <th>2</th>\n",
       "      <td>LCK 2016 Spring Promotion</td>\n",
       "      <td>LCK</td>\n",
       "      <td>2015-09-11 10:34:00</td>\n",
       "      <td>36:57</td>\n",
       "      <td>Incredible Miracle</td>\n",
       "      <td>Dark Wolves</td>\n",
       "      <td>2</td>\n",
       "      <td>1</td>\n",
       "      <td>Incredible Miracle</td>\n",
       "      <td>2015</td>\n",
       "    </tr>\n",
       "    <tr>\n",
       "      <th>3</th>\n",
       "      <td>LCK 2016 Spring Promotion</td>\n",
       "      <td>LCK</td>\n",
       "      <td>2015-09-11 11:28:00</td>\n",
       "      <td>25:52</td>\n",
       "      <td>Dark Wolves</td>\n",
       "      <td>Incredible Miracle</td>\n",
       "      <td>1</td>\n",
       "      <td>3</td>\n",
       "      <td>Incredible Miracle</td>\n",
       "      <td>2015</td>\n",
       "    </tr>\n",
       "    <tr>\n",
       "      <th>4</th>\n",
       "      <td>LCK 2016 Spring Promotion</td>\n",
       "      <td>LCK</td>\n",
       "      <td>2015-09-12 08:45:00</td>\n",
       "      <td>45:31</td>\n",
       "      <td>SBENU Sonicboom</td>\n",
       "      <td>ESC Ever</td>\n",
       "      <td>1</td>\n",
       "      <td>0</td>\n",
       "      <td>SBENU Sonicboom</td>\n",
       "      <td>2015</td>\n",
       "    </tr>\n",
       "  </tbody>\n",
       "</table>\n",
       "</div>"
      ],
      "text/plain": [
       "                  Tournament League                Date Gamelength  \\\n",
       "0  LCK 2016 Spring Promotion    LCK 2015-09-11 08:58:00      29:04   \n",
       "1  LCK 2016 Spring Promotion    LCK 2015-09-11 09:44:00      33:50   \n",
       "2  LCK 2016 Spring Promotion    LCK 2015-09-11 10:34:00      36:57   \n",
       "3  LCK 2016 Spring Promotion    LCK 2015-09-11 11:28:00      25:52   \n",
       "4  LCK 2016 Spring Promotion    LCK 2015-09-12 08:45:00      45:31   \n",
       "\n",
       "                Team1               Team2  Team1Score  Team2Score  \\\n",
       "0  Incredible Miracle         Dark Wolves           1           0   \n",
       "1         Dark Wolves  Incredible Miracle           1           1   \n",
       "2  Incredible Miracle         Dark Wolves           2           1   \n",
       "3         Dark Wolves  Incredible Miracle           1           3   \n",
       "4     SBENU Sonicboom            ESC Ever           1           0   \n",
       "\n",
       "              WinTeam  Year  \n",
       "0  Incredible Miracle  2015  \n",
       "1         Dark Wolves  2015  \n",
       "2  Incredible Miracle  2015  \n",
       "3  Incredible Miracle  2015  \n",
       "4     SBENU Sonicboom  2015  "
      ]
     },
     "execution_count": 494,
     "metadata": {},
     "output_type": "execute_result"
    }
   ],
   "source": [
    "import pandas as pd\n",
    "\n",
    "df_Scoreboard_LCK = pd.DataFrame([ a['title'] for a in results ])\n",
    "\n",
    "df_Scoreboard_LCK = df_Scoreboard_LCK.drop(\"Date__precision\", axis=1)\n",
    "\n",
    "df_Scoreboard_LCK.sort_values(by = \"Date\",inplace=True)\n",
    "\n",
    "df_Scoreboard_LCK[\"Date\"] = pd.to_datetime(df_Scoreboard_LCK[\"Date\"])\n",
    "df_Scoreboard_LCK[\"Year\"]= df_Scoreboard_LCK[\"Date\"].dt.year\n",
    "\n",
    "df_Scoreboard_LCK = df_Scoreboard_LCK.astype({'Team1Score':'int','Team2Score':'int'})\n",
    "\n",
    "df_Scoreboard_LCK = df_Scoreboard_LCK.reset_index(drop=True)\n",
    "\n",
    "df_Scoreboard_LCK.head()\n",
    "\n",
    "#save as csv\n",
    "#df_Scoreboard_LCK.to_csv(\"Scoreboard_LCK.csv\", index=False)"
   ]
  },
  {
   "cell_type": "code",
   "execution_count": 600,
   "id": "2503661e-e2ee-40d4-bcb2-0d74f1025699",
   "metadata": {},
   "outputs": [
    {
     "data": {
      "text/plain": [
       "Blue/Red\n",
       "Blue    1964\n",
       "Red     1691\n",
       "Name: Blue/Red, dtype: int64"
      ]
     },
     "execution_count": 600,
     "metadata": {},
     "output_type": "execute_result"
    }
   ],
   "source": [
    "#get if blue side or red side is winner\n",
    "for lab, row in df_Scoreboard_LCK.iterrows():\n",
    "    if row[\"Team1\"] == row[\"WinTeam\"]:\n",
    "        df_Scoreboard_LCK.loc[lab,\"Blue/Red\"] = \"Blue\"\n",
    "    else:\n",
    "        df_Scoreboard_LCK.loc[lab,\"Blue/Red\"] = \"Red\"\n",
    "    \n",
    "df_Scoreboard_LCK.head()\n",
    "\n",
    "#table form\n",
    "df_Scoreboard_LCK.groupby([\"Blue/Red\"])[\"Blue/Red\"].count()"
   ]
  },
  {
   "cell_type": "code",
   "execution_count": null,
   "id": "7ea5fc4a-c590-424f-9352-b49d87ba08e1",
   "metadata": {},
   "outputs": [],
   "source": []
  },
  {
   "cell_type": "code",
   "execution_count": null,
   "id": "1e98bb70-cac3-42de-a6af-c91266854ae8",
   "metadata": {},
   "outputs": [],
   "source": []
  },
  {
   "cell_type": "code",
   "execution_count": null,
   "id": "21e2a984-c515-42fa-9a60-b7b708fad36b",
   "metadata": {
    "tags": []
   },
   "outputs": [],
   "source": []
  },
  {
   "cell_type": "code",
   "execution_count": null,
   "id": "ec3baf99-09c1-4bf8-9747-6a607ffa6cd4",
   "metadata": {},
   "outputs": [],
   "source": []
  }
 ],
 "metadata": {
  "kernelspec": {
   "display_name": "Python 3 (ipykernel)",
   "language": "python",
   "name": "python3"
  },
  "language_info": {
   "codemirror_mode": {
    "name": "ipython",
    "version": 3
   },
   "file_extension": ".py",
   "mimetype": "text/x-python",
   "name": "python",
   "nbconvert_exporter": "python",
   "pygments_lexer": "ipython3",
   "version": "3.8.16"
  }
 },
 "nbformat": 4,
 "nbformat_minor": 5
}
