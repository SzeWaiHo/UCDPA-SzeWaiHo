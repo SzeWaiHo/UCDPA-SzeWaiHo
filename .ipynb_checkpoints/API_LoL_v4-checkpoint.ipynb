{
 "cells": [
  {
   "cell_type": "markdown",
   "id": "7e4b2bb8-0758-4e48-bb34-c63f5730742c",
   "metadata": {
    "jp-MarkdownHeadingCollapsed": true,
    "tags": []
   },
   "source": [
    "# UNUSED CODE"
   ]
  },
  {
   "cell_type": "markdown",
   "id": "71d1eaf4-94e6-4bd5-af85-8a77677d45f7",
   "metadata": {
    "tags": []
   },
   "source": [
    "##"
   ]
  },
  {
   "cell_type": "markdown",
   "id": "8377a56b-f5bf-4f87-87b9-6da0ebd95ddf",
   "metadata": {
    "jp-MarkdownHeadingCollapsed": true,
    "tags": []
   },
   "source": [
    "## API full set of data with:\n",
    "- MATCH: Tournament, Date, League, GameLength, Team1, Team2, T1 Score, T2 Score\n",
    "- PLAYERS"
   ]
  },
  {
   "cell_type": "code",
   "execution_count": 2,
   "id": "5735a250-98a8-4e3a-945a-07ddfec8c596",
   "metadata": {
    "collapsed": true,
    "jupyter": {
     "outputs_hidden": true
    },
    "tags": []
   },
   "outputs": [
    {
     "data": {
      "application/vnd.jupyter.widget-view+json": {
       "model_id": "26f3a3087b2a4fc08bd9705d91458aee",
       "version_major": 2,
       "version_minor": 0
      },
      "text/plain": [
       "  0%|          | 0/1 [00:00<?, ?it/s]"
      ]
     },
     "metadata": {},
     "output_type": "display_data"
    },
    {
     "name": "stderr",
     "output_type": "stream",
     "text": [
      "\n",
      "KeyboardInterrupt\n",
      "\n"
     ]
    }
   ],
   "source": [
    "#https://lol.fandom.com/wiki/Help:Leaguepedia_API\n",
    "\"\"\" \n",
    "    This is the website I used to figure out how to query API from Leaguepedia (storing all match statistics)\n",
    "\"\"\"\n",
    "import mwclient\n",
    "\n",
    "#This is the LeaguePedia website that stores all match and team statistics\n",
    "site = mwclient.Site('lol.fandom.com', path='/')\n",
    "\n",
    "\n",
    "\"\"\"\n",
    "    I searched for a quicker way to iterate for loops because it took too long to run\n",
    "\"\"\"\n",
    "#https://github.com/tqdm/tqdm \n",
    "from tqdm.notebook import tqdm\n",
    "\n",
    "#pre-set the leagues I want to look at - all those that will qualify to worlds\n",
    "leagues=['GPL','IWCQ','WCS','LCS','LEC','LCK','LPL','CBLOL','LCL','LJL','LLA','OPL','PCS','VCS','TCL','LMS','LST','NA LCS','EU LCS','LLN','CLS']\n",
    "\n",
    "#create an empty list to store my dataset\n",
    "results = []\n",
    "\n",
    "#for loop to create my data base of match stats\n",
    "for league in tqdm(leagues):\n",
    "    off=0\n",
    "    \n",
    "    #while loop to retrive data thruogh API\n",
    "    while True:\n",
    "        #API query\n",
    "        response = site.api('cargoquery',\n",
    "                            offset=str(off),\n",
    "                            \n",
    "                            limit=\"500\",\n",
    "                            \n",
    "                            #retrive tables\n",
    "                            tables = \"ScoreboardGames=SG, ScoreboardPlayers=SP,Tournaments=T, Leagues=L\",\n",
    "                            \n",
    "                            #retrive fields as columns\n",
    "                            fields=\"T.Name=Tournament,\\\n",
    "                                    L.League_Short=League,\\\n",
    "                                    SP.Link,\\\n",
    "                                    SG.DateTime_UTC, SG.Gamelength, SG.Team1, SG.Team2, SG.Team1Score, SG.Team2Score\", \n",
    "                            \n",
    "                            #set condition (only include specified leagues)\n",
    "                            where = 'L.League_Short = \"'+league+'\"',\n",
    "                            \n",
    "                            #similar to vlookup in the web pages\n",
    "                            join_on = \"SG.OverviewPage=T.OverviewPage, T.League = L.League, SP.MatchId=SG.MatchId\")\n",
    "        \n",
    "        #add to database\n",
    "        results += response[\"cargoquery\"] \n",
    "        \n",
    "        #speed\n",
    "        off=off+500\n",
    "        if(len(response[\"cargoquery\"])<500): break\n",
    "        "
   ]
  },
  {
   "cell_type": "markdown",
   "id": "71cd2d24-705a-4454-84e7-c8eac64307eb",
   "metadata": {
    "jp-MarkdownHeadingCollapsed": true,
    "tags": []
   },
   "source": [
    "## Import df_Scoreboard"
   ]
  },
  {
   "cell_type": "code",
   "execution_count": null,
   "id": "fe49c99b-bd02-4548-828b-7b69e288d75f",
   "metadata": {
    "tags": []
   },
   "outputs": [],
   "source": [
    "import pandas as pd\n",
    "df_Scoreboard = pd.DataFrame([ a['title'] for a in results ])\n",
    "df_Scoreboard = df_Scoreboard.drop(\"DateTime UTC__precision\", axis=1)\n",
    "df_Scoreboard.sort_values(\"DateTime UTC\")\n",
    "df_Scoreboard.head()\n",
    "#df_Scoreboard.to_csv(\"Scoreboard.csv\")"
   ]
  },
  {
   "cell_type": "markdown",
   "id": "f6ae0c5c-bc9b-444c-85ce-b06c126bc3ec",
   "metadata": {
    "tags": []
   },
   "source": [
    "## API LCK set of data with PLAYERS team, ID, age, nationality, birthday"
   ]
  },
  {
   "cell_type": "code",
   "execution_count": null,
   "id": "5284909a-3a93-43f1-938b-f47d20b551eb",
   "metadata": {
    "tags": []
   },
   "outputs": [],
   "source": [
    "#https://lol.fandom.com/wiki/Help:Leaguepedia_API\n",
    "\"\"\" \n",
    "    This is the website I used to figure out how to query API from Leaguepedia (storing all match statistics)\n",
    "\"\"\"\n",
    "import mwclient\n",
    "\n",
    "#This is the LeaguePedia website that stores all match and team statistics\n",
    "site = mwclient.Site('lol.fandom.com', path='/')\n",
    "\n",
    "\n",
    "\"\"\"\n",
    "    I searched for a quicker way to iterate for loops because it took too long to run\n",
    "\"\"\"\n",
    "#https://github.com/tqdm/tqdm \n",
    "from tqdm.notebook import tqdm\n",
    "\n",
    "#pre-set the leagues I want to look at - all those that will qualify to worlds\n",
    "#leagues=['LCS','LEC','LCK','LPL','CBLOL','LJL','LLA','PCS','VCS']\n",
    "leagues=['LCK']\n",
    "\n",
    "#create an empty list to store my dataset\n",
    "results = []\n",
    "\n",
    "#for loop to create my data base of match stats\n",
    "for league in tqdm(leagues):\n",
    "    off=0\n",
    "    \n",
    "    #while loop to retrive data thruogh API\n",
    "    while True:\n",
    "        #API query\n",
    "        response = site.api('cargoquery',\n",
    "                            offset=str(off),\n",
    "                            \n",
    "                            limit=\"max\",\n",
    "                            \n",
    "                            #retrive tables\n",
    "                            tables = \"Teams=T, Players=P\",\n",
    "                            \n",
    "                            #retrive fields as columns\n",
    "                            fields=\"P.Team=Team, P.ID=ID, P.Nationality, P.Country,P.Birthdate,\\\n",
    "                                    T.Region=Region, T.Short\", \n",
    "                            \n",
    "                            #set condition \n",
    "                            #where = 'T.Name = P.Team',\n",
    "                            \n",
    "                            #similar to vlookup in the web pages\n",
    "                            join_on = \"T.Name = P.Team\")\n",
    "        \n",
    "        #add to database\n",
    "        results += response[\"cargoquery\"] \n",
    "        \n",
    "        #speed\n",
    "        off=off+500\n",
    "        if(len(response[\"cargoquery\"])<500): break\n",
    "\n",
    "        \n",
    "        \n",
    "import pandas as pd\n",
    "df_Players = pd.DataFrame([ a['title'] for a in results ])\n",
    "\n",
    "#drop birthdate precision\n",
    "df_Players = df_Players.drop(\"Birthdate__precision\", axis=1)\n",
    "\n",
    "df_Players.head()\n",
    "#df_Players.to_csv(\"Players.csv\")"
   ]
  },
  {
   "cell_type": "code",
   "execution_count": null,
   "id": "f741b03b-6963-416d-a5e6-73e7b194e97f",
   "metadata": {
    "tags": []
   },
   "outputs": [],
   "source": [
    "df_stats = df_Scoreboard.merge(df_Players, left_on = 'Team1', right_on = 'Team', how = 'left')\n",
    "df_stats.head()\n",
    "df_stats.to_csv(\"Merged.csv\")"
   ]
  },
  {
   "cell_type": "code",
   "execution_count": null,
   "id": "a2a2b374-236e-4bc2-acb3-d3e3ccbfb562",
   "metadata": {
    "tags": []
   },
   "outputs": [],
   "source": [
    "#####################################################################################################################################################\n",
    "#####################################################################################################################################################\n",
    "#####################################################################################################################################################\n",
    "#####################################################################################################################################################\n",
    "#####################################################################################################################################################"
   ]
  },
  {
   "cell_type": "markdown",
   "id": "021c5795-81b9-4f33-bbc6-961891fc8268",
   "metadata": {},
   "source": [
    "# "
   ]
  },
  {
   "cell_type": "markdown",
   "id": "41ecdefe-6971-452f-bbd8-515f2e4baddd",
   "metadata": {},
   "source": [
    "# USED CODE"
   ]
  },
  {
   "cell_type": "markdown",
   "id": "c5a62311-034a-425c-b891-de5c57810422",
   "metadata": {},
   "source": [
    "## "
   ]
  },
  {
   "cell_type": "markdown",
   "id": "082bc0e2-902c-4237-b0d1-f1562683f1cc",
   "metadata": {},
   "source": [
    "# API full set of Scoreboard data with: \n",
    "- MATCH: Tournament, Date, League, GameLength, Team1, Team2, T1 Score, T2 Score"
   ]
  },
  {
   "cell_type": "code",
   "execution_count": 44,
   "id": "84855732-aad3-4f2b-88f0-307f6f9635fd",
   "metadata": {
    "tags": []
   },
   "outputs": [
    {
     "data": {
      "application/vnd.jupyter.widget-view+json": {
       "model_id": "80947bf8fbc24ea89b57166f3f5ed8a3",
       "version_major": 2,
       "version_minor": 0
      },
      "text/plain": [
       "  0%|          | 0/21 [00:00<?, ?it/s]"
      ]
     },
     "metadata": {},
     "output_type": "display_data"
    }
   ],
   "source": [
    "import mwclient\n",
    "site = mwclient.Site('lol.fandom.com', path='/')\n",
    "\n",
    "from tqdm.notebook import tqdm\n",
    "\n",
    "leagues=['GPL','IWCQ','WCS','LCS','LEC','LCK','LPL','CBLOL','LCL','LJL','LLA','OPL','PCS','VCS','TCL','LMS','LST','NA LCS','EU LCS','LLN','CLS']\n",
    "\n",
    "results = []\n",
    "\n",
    "for league in tqdm(leagues):\n",
    "    off=0\n",
    "    \n",
    "    while True:\n",
    "    \n",
    "        response = site.api('cargoquery',\n",
    "                            offset=str(off),\n",
    "                            \n",
    "                            limit=\"max\",\n",
    "                            \n",
    "                            tables = \"ScoreboardGames=SG,Tournaments=T, Leagues=L\",\n",
    "                            \n",
    "                            fields=\"T.Name=Tournament,\\\n",
    "                                    L.League_Short=League,\\\n",
    "                                    SG.DateTime_UTC=Date, SG.Gamelength, SG.Team1, SG.Team2, SG.Team1Score, SG.Team2Score,SG.WinTeam\", \n",
    "                            \n",
    "                            where = 'L.League_Short = \"'+league+'\"',\n",
    "                            \n",
    "                            join_on = \"SG.OverviewPage=T.OverviewPage, T.League = L.League\")\n",
    "    \n",
    "        results += response[\"cargoquery\"] \n",
    "        \n",
    "        off=off+500\n",
    "        if(len(response[\"cargoquery\"])<500): break"
   ]
  },
  {
   "cell_type": "markdown",
   "id": "11607804-ad9e-4f9a-a569-18bcc46a8332",
   "metadata": {},
   "source": [
    "## Convert to Panda DataFrame and Clean Data"
   ]
  },
  {
   "cell_type": "code",
   "execution_count": 45,
   "id": "875f75b2-718b-40df-a39d-88a9888e8ddf",
   "metadata": {
    "tags": []
   },
   "outputs": [],
   "source": [
    "#import pandas package\n",
    "import pandas as pd\n",
    "\n",
    "#convert to dataframe from dictionary\n",
    "df_Scoreboard = pd.DataFrame([ a['title'] for a in results ])\n",
    "\n",
    "#drop unused column\n",
    "df_Scoreboard = df_Scoreboard.drop(\"Date__precision\", axis=1)\n",
    "\n",
    "#sort by date\n",
    "df_Scoreboard.sort_values(by = \"Date\",inplace=True)\n",
    "\n",
    "#split date and time\n",
    "df_Scoreboard[\"Date\"] = pd.to_datetime(df_Scoreboard[\"Date\"])\n",
    "df_Scoreboard[\"Year\"]= df_Scoreboard[\"Date\"].dt.year\n",
    "\n",
    "#convert Team 1 & 2 score as integers\n",
    "df_Scoreboard = df_Scoreboard.astype({'Team1Score':'int','Team2Score':'int'})\n",
    "\n",
    "#no index\n",
    "df_Scoreboard = df_Scoreboard.reset_index(drop=True)\n",
    "\n",
    "#preview first few rows\n",
    "df_Scoreboard.head()\n",
    "\n",
    "#save as csv\n",
    "df_Scoreboard.to_csv(\"Scoreboard.csv\", index=False)"
   ]
  },
  {
   "cell_type": "markdown",
   "id": "cc0927ec-3ef4-4bbc-a4ce-a0c9ae5f537b",
   "metadata": {},
   "source": [
    "## Shortcut - Import df_Scoreboard"
   ]
  },
  {
   "cell_type": "code",
   "execution_count": 105,
   "id": "8c6efbc6-0578-42fe-9424-c340d04b3f4c",
   "metadata": {
    "tags": []
   },
   "outputs": [
    {
     "data": {
      "text/html": [
       "<div>\n",
       "<style scoped>\n",
       "    .dataframe tbody tr th:only-of-type {\n",
       "        vertical-align: middle;\n",
       "    }\n",
       "\n",
       "    .dataframe tbody tr th {\n",
       "        vertical-align: top;\n",
       "    }\n",
       "\n",
       "    .dataframe thead th {\n",
       "        text-align: right;\n",
       "    }\n",
       "</style>\n",
       "<table border=\"1\" class=\"dataframe\">\n",
       "  <thead>\n",
       "    <tr style=\"text-align: right;\">\n",
       "      <th></th>\n",
       "      <th>Tournament</th>\n",
       "      <th>League</th>\n",
       "      <th>Date</th>\n",
       "      <th>Gamelength</th>\n",
       "      <th>Team1</th>\n",
       "      <th>Team2</th>\n",
       "      <th>Team1Score</th>\n",
       "      <th>Team2Score</th>\n",
       "      <th>WinTeam</th>\n",
       "      <th>Year</th>\n",
       "    </tr>\n",
       "  </thead>\n",
       "  <tbody>\n",
       "    <tr>\n",
       "      <th>0</th>\n",
       "      <td>Worlds Season 1</td>\n",
       "      <td>WCS</td>\n",
       "      <td>18/06/2011 08:30</td>\n",
       "      <td>45:09:00</td>\n",
       "      <td>against All authority</td>\n",
       "      <td>Epik Gamer</td>\n",
       "      <td>0</td>\n",
       "      <td>1</td>\n",
       "      <td>Epik Gamer</td>\n",
       "      <td>2011</td>\n",
       "    </tr>\n",
       "    <tr>\n",
       "      <th>1</th>\n",
       "      <td>Worlds Season 1</td>\n",
       "      <td>WCS</td>\n",
       "      <td>18/06/2011 08:30</td>\n",
       "      <td>45:09:00</td>\n",
       "      <td>against All authority</td>\n",
       "      <td>Epik Gamer</td>\n",
       "      <td>0</td>\n",
       "      <td>1</td>\n",
       "      <td>Epik Gamer</td>\n",
       "      <td>2011</td>\n",
       "    </tr>\n",
       "    <tr>\n",
       "      <th>2</th>\n",
       "      <td>Worlds Season 1</td>\n",
       "      <td>WCS</td>\n",
       "      <td>18/06/2011 09:45</td>\n",
       "      <td>29:38:00</td>\n",
       "      <td>Fnatic</td>\n",
       "      <td>Team Pacific</td>\n",
       "      <td>1</td>\n",
       "      <td>0</td>\n",
       "      <td>Fnatic</td>\n",
       "      <td>2011</td>\n",
       "    </tr>\n",
       "    <tr>\n",
       "      <th>3</th>\n",
       "      <td>Worlds Season 1</td>\n",
       "      <td>WCS</td>\n",
       "      <td>18/06/2011 09:45</td>\n",
       "      <td>29:38:00</td>\n",
       "      <td>Fnatic</td>\n",
       "      <td>Team Pacific</td>\n",
       "      <td>1</td>\n",
       "      <td>0</td>\n",
       "      <td>Fnatic</td>\n",
       "      <td>2011</td>\n",
       "    </tr>\n",
       "    <tr>\n",
       "      <th>4</th>\n",
       "      <td>Worlds Season 1</td>\n",
       "      <td>WCS</td>\n",
       "      <td>18/06/2011 11:00</td>\n",
       "      <td>41:18:00</td>\n",
       "      <td>against All authority</td>\n",
       "      <td>Fnatic</td>\n",
       "      <td>1</td>\n",
       "      <td>0</td>\n",
       "      <td>against All authority</td>\n",
       "      <td>2011</td>\n",
       "    </tr>\n",
       "  </tbody>\n",
       "</table>\n",
       "</div>"
      ],
      "text/plain": [
       "        Tournament League              Date Gamelength                  Team1  \\\n",
       "0  Worlds Season 1    WCS  18/06/2011 08:30   45:09:00  against All authority   \n",
       "1  Worlds Season 1    WCS  18/06/2011 08:30   45:09:00  against All authority   \n",
       "2  Worlds Season 1    WCS  18/06/2011 09:45   29:38:00                 Fnatic   \n",
       "3  Worlds Season 1    WCS  18/06/2011 09:45   29:38:00                 Fnatic   \n",
       "4  Worlds Season 1    WCS  18/06/2011 11:00   41:18:00  against All authority   \n",
       "\n",
       "          Team2  Team1Score  Team2Score                WinTeam  Year  \n",
       "0    Epik Gamer           0           1             Epik Gamer  2011  \n",
       "1    Epik Gamer           0           1             Epik Gamer  2011  \n",
       "2  Team Pacific           1           0                 Fnatic  2011  \n",
       "3  Team Pacific           1           0                 Fnatic  2011  \n",
       "4        Fnatic           1           0  against All authority  2011  "
      ]
     },
     "execution_count": 105,
     "metadata": {},
     "output_type": "execute_result"
    }
   ],
   "source": [
    "import pandas as pd\n",
    "df_Scoreboard = pd.read_csv(\"Scoreboard.csv\")\n",
    "df_Scoreboard.head()"
   ]
  },
  {
   "cell_type": "markdown",
   "id": "d4d4899f-8d94-4155-a33b-cd85462f03ed",
   "metadata": {},
   "source": [
    "# "
   ]
  },
  {
   "cell_type": "markdown",
   "id": "10f10c15-d5d6-44f7-b052-ae5e72cfdbc2",
   "metadata": {
    "tags": []
   },
   "source": [
    "# Get All Teams Region data\n",
    "## API full set of data with: (much faster)\n",
    "- TEAM: Name, Region, Abbreviation "
   ]
  },
  {
   "cell_type": "code",
   "execution_count": 46,
   "id": "74a8749a-5bcc-4fea-9d17-d64483cd1d61",
   "metadata": {
    "tags": []
   },
   "outputs": [
    {
     "data": {
      "application/vnd.jupyter.widget-view+json": {
       "model_id": "cbcce45d937e44a0ada4e65846b65ffc",
       "version_major": 2,
       "version_minor": 0
      },
      "text/plain": [
       "  0%|          | 0/21 [00:00<?, ?it/s]"
      ]
     },
     "metadata": {},
     "output_type": "display_data"
    }
   ],
   "source": [
    "import mwclient\n",
    "site = mwclient.Site('lol.fandom.com', path='/')\n",
    "\n",
    "from tqdm.notebook import tqdm\n",
    "\n",
    "leagues=['GPL','IWCQ','WCS','LCS','LEC','LCK','LPL','CBLOL','LCL','LJL','LLA','OPL','PCS','VCS','TCL','LMS','LST','NA LCS','EU LCS','LLN','CLS']\n",
    "\n",
    "results = []\n",
    "\n",
    "for league in tqdm(leagues):\n",
    "    off=0\n",
    "    \n",
    "    while True:\n",
    "\n",
    "        response = site.api(\"cargoquery\",\n",
    "                            offset=str(off),\n",
    "                            \n",
    "                            limit=\"max\",\n",
    "                            \n",
    "                            tables = \"Teams=T\",\n",
    "                            \n",
    "                            fields=\"T.Name=Team, T.Region=Region, T.Short=Team_abbr\")\n",
    "                            \n",
    "        results += response[\"cargoquery\"] \n",
    "        \n",
    "        off=off+500\n",
    "        if(len(response[\"cargoquery\"])<500): break"
   ]
  },
  {
   "cell_type": "markdown",
   "id": "88b816f6-cee5-4d10-821d-36b8dfdc66fe",
   "metadata": {},
   "source": [
    "## Convert to Panda DataFrame and Clean Data"
   ]
  },
  {
   "cell_type": "code",
   "execution_count": 47,
   "id": "c667bf63-abe4-44c4-ac17-cc4e489697ce",
   "metadata": {
    "tags": []
   },
   "outputs": [],
   "source": [
    "import pandas as pd\n",
    "df_TeamRegion = pd.DataFrame([ a['title'] for a in results ])\n",
    "\n",
    "#clean data - remove NaN's and duplicates\n",
    "df_TeamRegion = df_TeamRegion.dropna()\n",
    "df_TeamRegion = df_TeamRegion.drop_duplicates(subset=\"Team\")\n",
    "\n",
    "#no index\n",
    "df_TeamRegion = df_TeamRegion.reset_index(drop=True)\n",
    "\n",
    "#preview first few rows\n",
    "df_TeamRegion.head()\n",
    "\n",
    "#save as csv\n",
    "df_TeamRegion.to_csv(\"TeamRegion.csv\", index=False)"
   ]
  },
  {
   "cell_type": "markdown",
   "id": "9d42c836-5acc-4247-87eb-fca20937f24d",
   "metadata": {},
   "source": [
    "## Shortcut - Import df_TeamRegion"
   ]
  },
  {
   "cell_type": "code",
   "execution_count": 31,
   "id": "945307a1-669c-4bce-aefa-bdbf526fe3e7",
   "metadata": {
    "tags": []
   },
   "outputs": [
    {
     "data": {
      "text/html": [
       "<div>\n",
       "<style scoped>\n",
       "    .dataframe tbody tr th:only-of-type {\n",
       "        vertical-align: middle;\n",
       "    }\n",
       "\n",
       "    .dataframe tbody tr th {\n",
       "        vertical-align: top;\n",
       "    }\n",
       "\n",
       "    .dataframe thead th {\n",
       "        text-align: right;\n",
       "    }\n",
       "</style>\n",
       "<table border=\"1\" class=\"dataframe\">\n",
       "  <thead>\n",
       "    <tr style=\"text-align: right;\">\n",
       "      <th></th>\n",
       "      <th>Team</th>\n",
       "      <th>Region</th>\n",
       "      <th>Team_abbr</th>\n",
       "    </tr>\n",
       "  </thead>\n",
       "  <tbody>\n",
       "    <tr>\n",
       "      <th>0</th>\n",
       "      <td>00 Nation</td>\n",
       "      <td>Europe</td>\n",
       "      <td>00N</td>\n",
       "    </tr>\n",
       "    <tr>\n",
       "      <th>1</th>\n",
       "      <td>00 Prospects</td>\n",
       "      <td>Europe</td>\n",
       "      <td>00P</td>\n",
       "    </tr>\n",
       "    <tr>\n",
       "      <th>2</th>\n",
       "      <td>1 Trick Ponies</td>\n",
       "      <td>North America</td>\n",
       "      <td>1TP</td>\n",
       "    </tr>\n",
       "    <tr>\n",
       "      <th>3</th>\n",
       "      <td>1. Berliner Esport-Club e.V.</td>\n",
       "      <td>Europe</td>\n",
       "      <td>BESC</td>\n",
       "    </tr>\n",
       "    <tr>\n",
       "      <th>4</th>\n",
       "      <td>100 Thieves</td>\n",
       "      <td>North America</td>\n",
       "      <td>100</td>\n",
       "    </tr>\n",
       "  </tbody>\n",
       "</table>\n",
       "</div>"
      ],
      "text/plain": [
       "                           Team         Region Team_abbr\n",
       "0                     00 Nation         Europe       00N\n",
       "1                  00 Prospects         Europe       00P\n",
       "2                1 Trick Ponies  North America       1TP\n",
       "3  1. Berliner Esport-Club e.V.         Europe      BESC\n",
       "4                   100 Thieves  North America       100"
      ]
     },
     "execution_count": 31,
     "metadata": {},
     "output_type": "execute_result"
    }
   ],
   "source": [
    "import pandas as pd\n",
    "df_TeamRegion = pd.read_csv(\"TeamRegion.csv\",index_col=0)\n",
    "df_TeamRegion.head()"
   ]
  },
  {
   "cell_type": "markdown",
   "id": "72bbd5b5-e255-44be-9187-66ae78e9cb43",
   "metadata": {},
   "source": [
    "## Add DAMWON Gaming and DWG KIA to df_Team_Region\n",
    " - Wolrds Winners 2020 and 2021"
   ]
  },
  {
   "cell_type": "code",
   "execution_count": 48,
   "id": "a8a53022-e3a5-4a46-ba18-9f91c879353a",
   "metadata": {
    "tags": []
   },
   "outputs": [
    {
     "name": "stderr",
     "output_type": "stream",
     "text": [
      "C:\\Users\\vivia\\AppData\\Local\\Temp\\ipykernel_7068\\1473232610.py:12: FutureWarning: The frame.append method is deprecated and will be removed from pandas in a future version. Use pandas.concat instead.\n",
      "  df_TeamRegion = df_TeamRegion.append(df_TeamRegion2, ignore_index=True)\n",
      "C:\\Users\\vivia\\AppData\\Local\\Temp\\ipykernel_7068\\1473232610.py:13: FutureWarning: The frame.append method is deprecated and will be removed from pandas in a future version. Use pandas.concat instead.\n",
      "  df_TeamRegion = df_TeamRegion.append(df_TeamRegion3, ignore_index=True)\n"
     ]
    }
   ],
   "source": [
    "#DAMWON Gaming and DWG KIA both renamed - They are the same team...\n",
    "#create new rows for DAMWON Gaming and DWG KIA\n",
    "df_TeamRegion2 = {\"Team\":\"DAMWON Gaming\",\n",
    "                  \"Region\":\"Korea\",\n",
    "                  \"Team_abbr\":\"DK\"}\n",
    "\n",
    "df_TeamRegion3 = {\"Team\":\"DWG KIA\",\n",
    "                  \"Region\":\"Korea\",\n",
    "                  \"Team_abbr\":\"DK\"}\n",
    "\n",
    "#add new rows to df\n",
    "df_TeamRegion = df_TeamRegion.append(df_TeamRegion2, ignore_index=True)\n",
    "df_TeamRegion = df_TeamRegion.append(df_TeamRegion3, ignore_index=True)\n",
    "df_TeamRegion.head()\n",
    "\n",
    "#re-save as csv\n",
    "df_TeamRegion.to_csv(\"TeamRegion.csv\", index=False)"
   ]
  },
  {
   "cell_type": "code",
   "execution_count": 49,
   "id": "52cee025-d9d8-441d-b7b3-6ca730451a17",
   "metadata": {
    "tags": []
   },
   "outputs": [],
   "source": [
    "#create a dictionary to match teams to regions\n",
    "#some of them have merged and changed so they should be analyzed together\n",
    "dict_regions_code = {\n",
    "    'Africa':'EMEA',\n",
    "    'Brazil':'BR',\n",
    "    'China':'CN',\n",
    "    'CIS':'INT',\n",
    "    'EMEA':'EMEA',\n",
    "    'Europe':'EMEA',\n",
    "    'International':'INT',\n",
    "    'Japan':'JP',\n",
    "    'Korea':'KR',\n",
    "    'LAN':'INT',\n",
    "    'LAS':'INT',\n",
    "    'Latin America':'LAT',\n",
    "    'LMS':'INT',\n",
    "    'MENA':'INT',\n",
    "    'North America':'NA',\n",
    "    'Oceania':'PCS',\n",
    "    'PCS':'PCS',\n",
    "    'SEA':'PCS',\n",
    "    'Turkey':'EMEA',\n",
    "    'Vietnam':'VN'\n",
    "}\n",
    "\n",
    "#define function to get region code from dictionary\n",
    "def get_region_code(region):\n",
    "    return dict_regions_code[region]"
   ]
  },
  {
   "cell_type": "markdown",
   "id": "023e4ee8-f982-441c-be55-9da1138f6c25",
   "metadata": {
    "tags": []
   },
   "source": [
    "## Matching old to new team names \n",
    "- only the ones that cannot be found in df above\n",
    "- some old team names may still not be matched to new ones unfortunately"
   ]
  },
  {
   "cell_type": "code",
   "execution_count": 50,
   "id": "26ab57bb-276d-46f7-8189-d71dcbcb9528",
   "metadata": {
    "tags": []
   },
   "outputs": [],
   "source": [
    "#import manually stored file for matching old to new team names\n",
    "df_OldtoNewTeams = pd.read_csv(\"OldtoNewTeams.csv\")\n",
    "\n",
    "#concatenate the two dataframes to add the new list of teams\n",
    "df_TeamRegion = pd.concat([df_TeamRegion,df_OldtoNewTeams])\n",
    "df_TeamRegion.to_csv(\"TeamRegion.csv\",index=False)"
   ]
  },
  {
   "cell_type": "markdown",
   "id": "c32a47b7-e225-415d-9911-5f39bac30020",
   "metadata": {},
   "source": [
    "## Merge team region with region codes"
   ]
  },
  {
   "cell_type": "code",
   "execution_count": 51,
   "id": "428ba85e-81df-4b9e-b4da-4a9870b64a9f",
   "metadata": {},
   "outputs": [],
   "source": [
    "import pandas as pd\n",
    "#import manually saved csv with Region and code - not accessible on Leaguepedia\n",
    "df_Region_code = pd.read_csv(\"Region_Code.csv\",na_filter = False) #interprets NA as string instead of NaN value\n",
    "\n",
    "#merge with region_code\n",
    "df_TeamRegion_code = df_TeamRegion.merge(df_Region_code, on = 'Region', how = 'left')\n",
    "df_TeamRegion_code.head()\n",
    "\n",
    "#save as csv\n",
    "df_TeamRegion_code.to_csv(\"TeamRegion.csv\",index=False)"
   ]
  },
  {
   "cell_type": "markdown",
   "id": "5ab4de2e-f473-4bc5-98b3-8b56c2f86ec5",
   "metadata": {},
   "source": [
    "## Merge tables to get:\n",
    "- Team1, Team2, WinTeam Regions\n",
    "- blue/red side"
   ]
  },
  {
   "cell_type": "code",
   "execution_count": 32,
   "id": "b0bc3bd9-720a-43b1-8d0f-318814bb4591",
   "metadata": {
    "tags": []
   },
   "outputs": [],
   "source": [
    "# Add Region and Region Code to Scoreboard"
   ]
  },
  {
   "cell_type": "code",
   "execution_count": 52,
   "id": "61b1a897-c9a8-4fa4-b38a-54cc0c8348da",
   "metadata": {
    "tags": []
   },
   "outputs": [
    {
     "data": {
      "text/html": [
       "<div>\n",
       "<style scoped>\n",
       "    .dataframe tbody tr th:only-of-type {\n",
       "        vertical-align: middle;\n",
       "    }\n",
       "\n",
       "    .dataframe tbody tr th {\n",
       "        vertical-align: top;\n",
       "    }\n",
       "\n",
       "    .dataframe thead th {\n",
       "        text-align: right;\n",
       "    }\n",
       "</style>\n",
       "<table border=\"1\" class=\"dataframe\">\n",
       "  <thead>\n",
       "    <tr style=\"text-align: right;\">\n",
       "      <th></th>\n",
       "      <th>Tournament</th>\n",
       "      <th>League</th>\n",
       "      <th>Date</th>\n",
       "      <th>Gamelength</th>\n",
       "      <th>Team1</th>\n",
       "      <th>Team2</th>\n",
       "      <th>Team1Score</th>\n",
       "      <th>Team2Score</th>\n",
       "      <th>WinTeam</th>\n",
       "      <th>Year</th>\n",
       "      <th>Region_T1</th>\n",
       "      <th>Team_T1</th>\n",
       "      <th>Region_code_T1</th>\n",
       "      <th>Region_T2</th>\n",
       "      <th>Team_T2</th>\n",
       "      <th>Region_code_T2</th>\n",
       "      <th>Region_Win</th>\n",
       "      <th>Team_Win</th>\n",
       "      <th>Region_code_Win</th>\n",
       "    </tr>\n",
       "  </thead>\n",
       "  <tbody>\n",
       "    <tr>\n",
       "      <th>0</th>\n",
       "      <td>Worlds Season 1</td>\n",
       "      <td>WCS</td>\n",
       "      <td>2011-06-18 08:30:00</td>\n",
       "      <td>45:09</td>\n",
       "      <td>against All authority</td>\n",
       "      <td>Epik Gamer</td>\n",
       "      <td>0</td>\n",
       "      <td>1</td>\n",
       "      <td>Epik Gamer</td>\n",
       "      <td>2011</td>\n",
       "      <td>Europe</td>\n",
       "      <td>aAa</td>\n",
       "      <td>EMEA</td>\n",
       "      <td>North America</td>\n",
       "      <td>EPIK</td>\n",
       "      <td>NA</td>\n",
       "      <td>North America</td>\n",
       "      <td>EPIK</td>\n",
       "      <td>NA</td>\n",
       "    </tr>\n",
       "    <tr>\n",
       "      <th>1</th>\n",
       "      <td>Worlds Season 1</td>\n",
       "      <td>WCS</td>\n",
       "      <td>2011-06-18 09:45:00</td>\n",
       "      <td>29:38</td>\n",
       "      <td>Fnatic</td>\n",
       "      <td>Team Pacific</td>\n",
       "      <td>1</td>\n",
       "      <td>0</td>\n",
       "      <td>Fnatic</td>\n",
       "      <td>2011</td>\n",
       "      <td>EMEA</td>\n",
       "      <td>FNC</td>\n",
       "      <td>EMEA</td>\n",
       "      <td>SEA</td>\n",
       "      <td>PCFC</td>\n",
       "      <td>PCS</td>\n",
       "      <td>EMEA</td>\n",
       "      <td>FNC</td>\n",
       "      <td>EMEA</td>\n",
       "    </tr>\n",
       "    <tr>\n",
       "      <th>2</th>\n",
       "      <td>Worlds Season 1</td>\n",
       "      <td>WCS</td>\n",
       "      <td>2011-06-18 11:00:00</td>\n",
       "      <td>41:18</td>\n",
       "      <td>against All authority</td>\n",
       "      <td>Fnatic</td>\n",
       "      <td>1</td>\n",
       "      <td>0</td>\n",
       "      <td>against All authority</td>\n",
       "      <td>2011</td>\n",
       "      <td>Europe</td>\n",
       "      <td>aAa</td>\n",
       "      <td>EMEA</td>\n",
       "      <td>EMEA</td>\n",
       "      <td>FNC</td>\n",
       "      <td>EMEA</td>\n",
       "      <td>Europe</td>\n",
       "      <td>aAa</td>\n",
       "      <td>EMEA</td>\n",
       "    </tr>\n",
       "    <tr>\n",
       "      <th>3</th>\n",
       "      <td>Worlds Season 1</td>\n",
       "      <td>WCS</td>\n",
       "      <td>2011-06-18 11:00:00</td>\n",
       "      <td>28:55</td>\n",
       "      <td>Epik Gamer</td>\n",
       "      <td>Team Pacific</td>\n",
       "      <td>1</td>\n",
       "      <td>0</td>\n",
       "      <td>Epik Gamer</td>\n",
       "      <td>2011</td>\n",
       "      <td>North America</td>\n",
       "      <td>EPIK</td>\n",
       "      <td>NA</td>\n",
       "      <td>SEA</td>\n",
       "      <td>PCFC</td>\n",
       "      <td>PCS</td>\n",
       "      <td>North America</td>\n",
       "      <td>EPIK</td>\n",
       "      <td>NA</td>\n",
       "    </tr>\n",
       "    <tr>\n",
       "      <th>4</th>\n",
       "      <td>Worlds Season 1</td>\n",
       "      <td>WCS</td>\n",
       "      <td>2011-06-18 12:15:00</td>\n",
       "      <td>24:13</td>\n",
       "      <td>against All authority</td>\n",
       "      <td>Team Pacific</td>\n",
       "      <td>1</td>\n",
       "      <td>0</td>\n",
       "      <td>against All authority</td>\n",
       "      <td>2011</td>\n",
       "      <td>Europe</td>\n",
       "      <td>aAa</td>\n",
       "      <td>EMEA</td>\n",
       "      <td>SEA</td>\n",
       "      <td>PCFC</td>\n",
       "      <td>PCS</td>\n",
       "      <td>Europe</td>\n",
       "      <td>aAa</td>\n",
       "      <td>EMEA</td>\n",
       "    </tr>\n",
       "  </tbody>\n",
       "</table>\n",
       "</div>"
      ],
      "text/plain": [
       "        Tournament League                Date Gamelength  \\\n",
       "0  Worlds Season 1    WCS 2011-06-18 08:30:00      45:09   \n",
       "1  Worlds Season 1    WCS 2011-06-18 09:45:00      29:38   \n",
       "2  Worlds Season 1    WCS 2011-06-18 11:00:00      41:18   \n",
       "3  Worlds Season 1    WCS 2011-06-18 11:00:00      28:55   \n",
       "4  Worlds Season 1    WCS 2011-06-18 12:15:00      24:13   \n",
       "\n",
       "                   Team1         Team2  Team1Score  Team2Score  \\\n",
       "0  against All authority    Epik Gamer           0           1   \n",
       "1                 Fnatic  Team Pacific           1           0   \n",
       "2  against All authority        Fnatic           1           0   \n",
       "3             Epik Gamer  Team Pacific           1           0   \n",
       "4  against All authority  Team Pacific           1           0   \n",
       "\n",
       "                 WinTeam  Year      Region_T1 Team_T1 Region_code_T1  \\\n",
       "0             Epik Gamer  2011         Europe     aAa           EMEA   \n",
       "1                 Fnatic  2011           EMEA     FNC           EMEA   \n",
       "2  against All authority  2011         Europe     aAa           EMEA   \n",
       "3             Epik Gamer  2011  North America    EPIK             NA   \n",
       "4  against All authority  2011         Europe     aAa           EMEA   \n",
       "\n",
       "       Region_T2 Team_T2 Region_code_T2     Region_Win Team_Win  \\\n",
       "0  North America    EPIK             NA  North America     EPIK   \n",
       "1            SEA    PCFC            PCS           EMEA      FNC   \n",
       "2           EMEA     FNC           EMEA         Europe      aAa   \n",
       "3            SEA    PCFC            PCS  North America     EPIK   \n",
       "4            SEA    PCFC            PCS         Europe      aAa   \n",
       "\n",
       "  Region_code_Win  \n",
       "0              NA  \n",
       "1            EMEA  \n",
       "2            EMEA  \n",
       "3              NA  \n",
       "4            EMEA  "
      ]
     },
     "execution_count": 52,
     "metadata": {},
     "output_type": "execute_result"
    }
   ],
   "source": [
    "#first merge for Team 1\n",
    "df_team1 = df_Scoreboard.merge(df_TeamRegion_code, left_on = 'Team1', right_on = 'Team', how = 'left')\n",
    "df_team1.head()\n",
    "\n",
    "#then merge for Team 2\n",
    "df_team1and2 = df_team1.merge(df_TeamRegion_code, left_on = 'Team2', right_on = 'Team', how = 'left')\n",
    "\n",
    "#then merge for WinTeam\n",
    "df_team1and2_andwinner = df_team1and2.merge(df_TeamRegion_code, left_on = 'WinTeam', right_on = 'Team', how = 'left')\n",
    "\n",
    "#clean dataframe\n",
    "df_team1and2_andwinner.drop(columns=[\"Team_x\",\"Team_y\",\"Team\"], inplace = True)\n",
    "df_team1and2_andwinner.rename(columns={'Region_x':'Region_T1','Team_abbr_x':'Team_T1','Region_code_x':'Region_code_T1','Region_y':'Region_T2','Team_abbr_y':'Team_T2','Region_code_y':'Region_code_T2','Region':'Region_Win','Team_abbr':'Team_Win','Region_code':'Region_code_Win'},inplace=True)\n",
    "\n",
    "df_team1and2_andwinner.head()"
   ]
  },
  {
   "cell_type": "code",
   "execution_count": 53,
   "id": "32a1b057-0f95-4eb8-b4ad-e37316cc382b",
   "metadata": {
    "tags": []
   },
   "outputs": [
    {
     "data": {
      "text/html": [
       "<div>\n",
       "<style scoped>\n",
       "    .dataframe tbody tr th:only-of-type {\n",
       "        vertical-align: middle;\n",
       "    }\n",
       "\n",
       "    .dataframe tbody tr th {\n",
       "        vertical-align: top;\n",
       "    }\n",
       "\n",
       "    .dataframe thead th {\n",
       "        text-align: right;\n",
       "    }\n",
       "</style>\n",
       "<table border=\"1\" class=\"dataframe\">\n",
       "  <thead>\n",
       "    <tr style=\"text-align: right;\">\n",
       "      <th></th>\n",
       "      <th>Tournament</th>\n",
       "      <th>League</th>\n",
       "      <th>Date</th>\n",
       "      <th>Gamelength</th>\n",
       "      <th>Team1</th>\n",
       "      <th>Team2</th>\n",
       "      <th>Team1Score</th>\n",
       "      <th>Team2Score</th>\n",
       "      <th>WinTeam</th>\n",
       "      <th>Year</th>\n",
       "      <th>...</th>\n",
       "      <th>Region_code_T1</th>\n",
       "      <th>Region_T2</th>\n",
       "      <th>Team_T2</th>\n",
       "      <th>Region_code_T2</th>\n",
       "      <th>Region_Win</th>\n",
       "      <th>Team_Win</th>\n",
       "      <th>Region_code_Win</th>\n",
       "      <th>Region_code_T1</th>\n",
       "      <th>Region_code_T2</th>\n",
       "      <th>Region_code_Win</th>\n",
       "    </tr>\n",
       "  </thead>\n",
       "  <tbody>\n",
       "    <tr>\n",
       "      <th>0</th>\n",
       "      <td>Worlds Season 1</td>\n",
       "      <td>WCS</td>\n",
       "      <td>2011-06-18 08:30:00</td>\n",
       "      <td>45:09</td>\n",
       "      <td>against All authority</td>\n",
       "      <td>Epik Gamer</td>\n",
       "      <td>0</td>\n",
       "      <td>1</td>\n",
       "      <td>Epik Gamer</td>\n",
       "      <td>2011</td>\n",
       "      <td>...</td>\n",
       "      <td>EMEA</td>\n",
       "      <td>North America</td>\n",
       "      <td>EPIK</td>\n",
       "      <td>NA</td>\n",
       "      <td>North America</td>\n",
       "      <td>EPIK</td>\n",
       "      <td>NA</td>\n",
       "      <td>EMEA</td>\n",
       "      <td>NA</td>\n",
       "      <td>NA</td>\n",
       "    </tr>\n",
       "    <tr>\n",
       "      <th>1</th>\n",
       "      <td>Worlds Season 1</td>\n",
       "      <td>WCS</td>\n",
       "      <td>2011-06-18 09:45:00</td>\n",
       "      <td>29:38</td>\n",
       "      <td>Fnatic</td>\n",
       "      <td>Team Pacific</td>\n",
       "      <td>1</td>\n",
       "      <td>0</td>\n",
       "      <td>Fnatic</td>\n",
       "      <td>2011</td>\n",
       "      <td>...</td>\n",
       "      <td>EMEA</td>\n",
       "      <td>SEA</td>\n",
       "      <td>PCFC</td>\n",
       "      <td>PCS</td>\n",
       "      <td>EMEA</td>\n",
       "      <td>FNC</td>\n",
       "      <td>EMEA</td>\n",
       "      <td>EMEA</td>\n",
       "      <td>PCS</td>\n",
       "      <td>EMEA</td>\n",
       "    </tr>\n",
       "    <tr>\n",
       "      <th>2</th>\n",
       "      <td>Worlds Season 1</td>\n",
       "      <td>WCS</td>\n",
       "      <td>2011-06-18 11:00:00</td>\n",
       "      <td>41:18</td>\n",
       "      <td>against All authority</td>\n",
       "      <td>Fnatic</td>\n",
       "      <td>1</td>\n",
       "      <td>0</td>\n",
       "      <td>against All authority</td>\n",
       "      <td>2011</td>\n",
       "      <td>...</td>\n",
       "      <td>EMEA</td>\n",
       "      <td>EMEA</td>\n",
       "      <td>FNC</td>\n",
       "      <td>EMEA</td>\n",
       "      <td>Europe</td>\n",
       "      <td>aAa</td>\n",
       "      <td>EMEA</td>\n",
       "      <td>EMEA</td>\n",
       "      <td>EMEA</td>\n",
       "      <td>EMEA</td>\n",
       "    </tr>\n",
       "    <tr>\n",
       "      <th>3</th>\n",
       "      <td>Worlds Season 1</td>\n",
       "      <td>WCS</td>\n",
       "      <td>2011-06-18 11:00:00</td>\n",
       "      <td>28:55</td>\n",
       "      <td>Epik Gamer</td>\n",
       "      <td>Team Pacific</td>\n",
       "      <td>1</td>\n",
       "      <td>0</td>\n",
       "      <td>Epik Gamer</td>\n",
       "      <td>2011</td>\n",
       "      <td>...</td>\n",
       "      <td>NA</td>\n",
       "      <td>SEA</td>\n",
       "      <td>PCFC</td>\n",
       "      <td>PCS</td>\n",
       "      <td>North America</td>\n",
       "      <td>EPIK</td>\n",
       "      <td>NA</td>\n",
       "      <td>NA</td>\n",
       "      <td>PCS</td>\n",
       "      <td>NA</td>\n",
       "    </tr>\n",
       "    <tr>\n",
       "      <th>4</th>\n",
       "      <td>Worlds Season 1</td>\n",
       "      <td>WCS</td>\n",
       "      <td>2011-06-18 12:15:00</td>\n",
       "      <td>24:13</td>\n",
       "      <td>against All authority</td>\n",
       "      <td>Team Pacific</td>\n",
       "      <td>1</td>\n",
       "      <td>0</td>\n",
       "      <td>against All authority</td>\n",
       "      <td>2011</td>\n",
       "      <td>...</td>\n",
       "      <td>EMEA</td>\n",
       "      <td>SEA</td>\n",
       "      <td>PCFC</td>\n",
       "      <td>PCS</td>\n",
       "      <td>Europe</td>\n",
       "      <td>aAa</td>\n",
       "      <td>EMEA</td>\n",
       "      <td>EMEA</td>\n",
       "      <td>PCS</td>\n",
       "      <td>EMEA</td>\n",
       "    </tr>\n",
       "  </tbody>\n",
       "</table>\n",
       "<p>5 rows × 22 columns</p>\n",
       "</div>"
      ],
      "text/plain": [
       "        Tournament League                Date Gamelength  \\\n",
       "0  Worlds Season 1    WCS 2011-06-18 08:30:00      45:09   \n",
       "1  Worlds Season 1    WCS 2011-06-18 09:45:00      29:38   \n",
       "2  Worlds Season 1    WCS 2011-06-18 11:00:00      41:18   \n",
       "3  Worlds Season 1    WCS 2011-06-18 11:00:00      28:55   \n",
       "4  Worlds Season 1    WCS 2011-06-18 12:15:00      24:13   \n",
       "\n",
       "                   Team1         Team2  Team1Score  Team2Score  \\\n",
       "0  against All authority    Epik Gamer           0           1   \n",
       "1                 Fnatic  Team Pacific           1           0   \n",
       "2  against All authority        Fnatic           1           0   \n",
       "3             Epik Gamer  Team Pacific           1           0   \n",
       "4  against All authority  Team Pacific           1           0   \n",
       "\n",
       "                 WinTeam  Year  ... Region_code_T1      Region_T2 Team_T2  \\\n",
       "0             Epik Gamer  2011  ...           EMEA  North America    EPIK   \n",
       "1                 Fnatic  2011  ...           EMEA            SEA    PCFC   \n",
       "2  against All authority  2011  ...           EMEA           EMEA     FNC   \n",
       "3             Epik Gamer  2011  ...             NA            SEA    PCFC   \n",
       "4  against All authority  2011  ...           EMEA            SEA    PCFC   \n",
       "\n",
       "  Region_code_T2     Region_Win Team_Win Region_code_Win Region_code_T1  \\\n",
       "0             NA  North America     EPIK              NA           EMEA   \n",
       "1            PCS           EMEA      FNC            EMEA           EMEA   \n",
       "2           EMEA         Europe      aAa            EMEA           EMEA   \n",
       "3            PCS  North America     EPIK              NA             NA   \n",
       "4            PCS         Europe      aAa            EMEA           EMEA   \n",
       "\n",
       "  Region_code_T2 Region_code_Win  \n",
       "0             NA              NA  \n",
       "1            PCS            EMEA  \n",
       "2           EMEA            EMEA  \n",
       "3            PCS              NA  \n",
       "4            PCS            EMEA  \n",
       "\n",
       "[5 rows x 22 columns]"
      ]
     },
     "execution_count": 53,
     "metadata": {},
     "output_type": "execute_result"
    }
   ],
   "source": [
    "#import manually saved csv with Region and code - not accessible on Leaguepedia\n",
    "df_Region_code = pd.read_csv(\"Region_Code.csv\",na_filter = False) #interprets NA as string instead of NaN value\n",
    "\n",
    "#first merge team1\n",
    "df_team1_code = df_team1and2_andwinner.merge(df_Region_code, left_on = 'Region_T1', right_on = 'Region', how = 'left')\n",
    "df_team1_code.drop(columns=\"Region\",inplace=True)\n",
    "\n",
    "#then merge team2\n",
    "df_team1and2_code = df_team1_code.merge(df_Region_code, left_on = 'Region_T2', right_on = 'Region', how = 'left')\n",
    "df_team1and2_code.drop(columns=\"Region\",inplace=True)\n",
    "\n",
    "#then merge WinTeam\n",
    "df_team1and2_andwinner_code = df_team1and2_code.merge(df_Region_code, left_on = 'Region_Win', right_on = 'Region', how = 'left')\n",
    "df_team1and2_andwinner_code.drop(columns=\"Region\",inplace=True)\n",
    "\n",
    "#clean dataframe\n",
    "df_team1and2_andwinner_code.rename(columns={\"Region_code_x\":\"Region_code_T1\",\"Region_code_y\":\"Region_code_T2\",\"Region_code\":\"Region_code_Win\"},inplace=True)\n",
    "\n",
    "df_team1and2_andwinner_code.head()"
   ]
  },
  {
   "cell_type": "code",
   "execution_count": 57,
   "id": "dd35d984-53bb-4e76-b721-55c519a182af",
   "metadata": {
    "tags": []
   },
   "outputs": [],
   "source": [
    "# Add Blue/Red Side to Scoreboard"
   ]
  },
  {
   "cell_type": "code",
   "execution_count": 54,
   "id": "2503661e-e2ee-40d4-bcb2-0d74f1025699",
   "metadata": {
    "tags": []
   },
   "outputs": [
    {
     "data": {
      "text/plain": [
       "Blue/Red\n",
       "Blue    17308\n",
       "Red     14815\n",
       "Name: Blue/Red, dtype: int64"
      ]
     },
     "execution_count": 54,
     "metadata": {},
     "output_type": "execute_result"
    }
   ],
   "source": [
    "#get if blue side or red side is winner\n",
    "for lab, row in df_team1and2_andwinner_code.iterrows():\n",
    "    if row[\"Team1\"] == row[\"WinTeam\"]:\n",
    "        df_team1and2_andwinner_code.loc[lab,\"Blue/Red\"] = \"Blue\"\n",
    "    else:\n",
    "        df_team1and2_andwinner_code.loc[lab,\"Blue/Red\"] = \"Red\"\n",
    "    \n",
    "df_team1and2_andwinner_code.head()\n",
    "\n",
    "#save to Scoreboard.csv and df_Scoreboard\n",
    "df_team1and2_andwinner_code.to_csv(\"Scoreboard.csv\", index=False)\n",
    "df_Scoreboard = pd.read_csv(\"Scoreboard.csv\")\n",
    "df_Scoreboard[[\"Region_code_T1\", \"Region_code_T2\",\"Region_code_Win\"]] = df_Scoreboard[[\"Region_code_T1\", \"Region_code_T2\",\"Region_code_Win\"]].fillna(\"NA\")\n",
    "df_Scoreboard.to_csv(\"Scoreboard.csv\", index=False)\n",
    "\n",
    "#table form - get blue/red count\n",
    "df_Scoreboard.groupby([\"Blue/Red\"])[\"Blue/Red\"].count()"
   ]
  },
  {
   "cell_type": "markdown",
   "id": "0cb2acfe-99a1-44e7-8fc7-12731a71523a",
   "metadata": {
    "tags": []
   },
   "source": [
    "#"
   ]
  },
  {
   "cell_type": "markdown",
   "id": "0998fbc1-c74d-474e-9a68-88730de0e608",
   "metadata": {},
   "source": [
    "# Worlds Winners 2011 - 2022"
   ]
  },
  {
   "cell_type": "markdown",
   "id": "d0ce582f-8da5-4479-bd2e-985fad4ed107",
   "metadata": {
    "tags": []
   },
   "source": [
    "## Get Worlds Tournament only - original dataset contains regional finals"
   ]
  },
  {
   "cell_type": "code",
   "execution_count": 55,
   "id": "279f6c66-d646-4c30-80d9-e4b42be49edc",
   "metadata": {
    "tags": []
   },
   "outputs": [],
   "source": [
    "#I want to get the winners of all the Worlds Championships only\n",
    "#I can't filter from 'WCS' league because it randomly includes regional finals\n",
    "#But the tournaments that begin with \"Worlds\" can be identified\n",
    "df_Scoreboard_Worlds = df_Scoreboard[df_Scoreboard[\"Tournament\"].str.startswith(\"Worlds\")]\n",
    "df_Scoreboard_Worlds = df_Scoreboard_Worlds.reset_index(drop=True)\n",
    "df_Scoreboard_Worlds = df_Scoreboard_Worlds.drop_duplicates(keep=\"first\")\n",
    "df_Scoreboard_Worlds.head\n",
    "df_Scoreboard_Worlds.to_csv(\"Scoreboard_Worlds.csv\", index=False)"
   ]
  },
  {
   "cell_type": "markdown",
   "id": "b4a50715-f9de-4ea9-9df9-077648232adc",
   "metadata": {},
   "source": [
    "## Graph - Top 10 Team Winners in ALL matches of Worlds"
   ]
  },
  {
   "cell_type": "code",
   "execution_count": 56,
   "id": "f0e63afe-f37c-49ea-a322-8b1d9a2b1943",
   "metadata": {
    "tags": []
   },
   "outputs": [
    {
     "data": {
      "text/plain": [
       "<AxesSubplot: title={'center': 'Top 10 Teams'}, xlabel='Teams', ylabel='Matches won'>"
      ]
     },
     "execution_count": 56,
     "metadata": {},
     "output_type": "execute_result"
    },
    {
     "data": {
      "image/png": "[encoded data removed]",
      "text/plain": [
       "<Figure size 640x480 with 1 Axes>"
      ]
     },
     "metadata": {},
     "output_type": "display_data"
    }
   ],
   "source": [
    "#who won the most matches in Worlds Championship\n",
    "import seaborn as sns\n",
    "\n",
    "top_10_teams = (df_Scoreboard_Worlds['Team_Win'].value_counts()).iloc[:10]\n",
    "\n",
    "#create bar chart of top 10 teams\n",
    "top_10_teams.plot(kind='bar',title='Top 10 Teams', xlabel = \"Teams\", ylabel = \"Matches won\")"
   ]
  },
  {
   "cell_type": "markdown",
   "id": "665c48b6-6207-42e5-a44e-f3ad96cc1b3b",
   "metadata": {
    "tags": []
   },
   "source": [
    "## Graph - Top 10 Region Winners in ALL matches of Worlds"
   ]
  },
  {
   "cell_type": "code",
   "execution_count": 57,
   "id": "9c200da8-8bdc-408b-90e4-4529e052e6bc",
   "metadata": {
    "tags": []
   },
   "outputs": [
    {
     "data": {
      "text/plain": [
       "<AxesSubplot: title={'center': 'Top 10 Regions'}, xlabel='Regions', ylabel='Matches won'>"
      ]
     },
     "execution_count": 57,
     "metadata": {},
     "output_type": "execute_result"
    },
    {
     "data": {
      "image/png": "[encoded data removed]",
      "text/plain": [
       "<Figure size 640x480 with 1 Axes>"
      ]
     },
     "metadata": {},
     "output_type": "display_data"
    }
   ],
   "source": [
    "#who won the most matches in Worlds Championship\n",
    "import seaborn as sns\n",
    "\n",
    "top_10_regions = (df_Scoreboard_Worlds['Region_code_Win'].value_counts()).iloc[:10]\n",
    "\n",
    "#create bar chart of top 10 teams\n",
    "top_10_regions.plot(kind='bar',title='Top 10 Regions', xlabel = \"Regions\", ylabel = \"Matches won\")"
   ]
  },
  {
   "cell_type": "markdown",
   "id": "aeeb25b7-eb40-4560-8573-6c9de89bf396",
   "metadata": {},
   "source": [
    "## Get list of all World Winners - filter who won most matches in Finals"
   ]
  },
  {
   "cell_type": "code",
   "execution_count": 58,
   "id": "057b7ef5-b35b-4bc7-9b52-fa2a351ed147",
   "metadata": {
    "tags": []
   },
   "outputs": [],
   "source": [
    "#create function to get winner of each season/worlds \n",
    "def get_winner(year):\n",
    "    finals_year = df_Scoreboard_Worlds[df_Scoreboard_Worlds[\"Year\"]==year]\n",
    "    winner = finals_year[\"WinTeam\"].value_counts( ).idxmax()\n",
    "    return winner\n",
    "\n",
    "#create dictionary for Worlds Winners\n",
    "years = [i for i in range(2011,2023)]\n",
    "\n",
    "winners = []\n",
    "for i in range(2011,2023):\n",
    "    winners.append(get_winner(i))\n",
    "\n",
    "dict_worlds_winners = {}\n",
    "for i in range(len(years)):\n",
    "    dict_worlds_winners[years[i]] = winners[i]"
   ]
  },
  {
   "cell_type": "code",
   "execution_count": 59,
   "id": "fcb0f1b5-aa97-42ff-8c18-9418e732a5c9",
   "metadata": {
    "tags": []
   },
   "outputs": [
    {
     "data": {
      "text/html": [
       "<div>\n",
       "<style scoped>\n",
       "    .dataframe tbody tr th:only-of-type {\n",
       "        vertical-align: middle;\n",
       "    }\n",
       "\n",
       "    .dataframe tbody tr th {\n",
       "        vertical-align: top;\n",
       "    }\n",
       "\n",
       "    .dataframe thead th {\n",
       "        text-align: right;\n",
       "    }\n",
       "</style>\n",
       "<table border=\"1\" class=\"dataframe\">\n",
       "  <thead>\n",
       "    <tr style=\"text-align: right;\">\n",
       "      <th></th>\n",
       "      <th>Year</th>\n",
       "      <th>Winner</th>\n",
       "      <th>Region</th>\n",
       "      <th>Team_abbr</th>\n",
       "      <th>Region_code</th>\n",
       "    </tr>\n",
       "  </thead>\n",
       "  <tbody>\n",
       "    <tr>\n",
       "      <th>0</th>\n",
       "      <td>2011</td>\n",
       "      <td>Fnatic</td>\n",
       "      <td>EMEA</td>\n",
       "      <td>FNC</td>\n",
       "      <td>EMEA</td>\n",
       "    </tr>\n",
       "    <tr>\n",
       "      <th>1</th>\n",
       "      <td>2012</td>\n",
       "      <td>Azubu Frost</td>\n",
       "      <td>Korea</td>\n",
       "      <td>AZF</td>\n",
       "      <td>KR</td>\n",
       "    </tr>\n",
       "    <tr>\n",
       "      <th>2</th>\n",
       "      <td>2013</td>\n",
       "      <td>SK Telecom T1</td>\n",
       "      <td>Korea</td>\n",
       "      <td>SKT</td>\n",
       "      <td>KR</td>\n",
       "    </tr>\n",
       "    <tr>\n",
       "      <th>3</th>\n",
       "      <td>2014</td>\n",
       "      <td>Samsung White</td>\n",
       "      <td>Korea</td>\n",
       "      <td>SSW</td>\n",
       "      <td>KR</td>\n",
       "    </tr>\n",
       "    <tr>\n",
       "      <th>4</th>\n",
       "      <td>2015</td>\n",
       "      <td>SK Telecom T1</td>\n",
       "      <td>Korea</td>\n",
       "      <td>SKT</td>\n",
       "      <td>KR</td>\n",
       "    </tr>\n",
       "  </tbody>\n",
       "</table>\n",
       "</div>"
      ],
      "text/plain": [
       "   Year         Winner Region Team_abbr Region_code\n",
       "0  2011         Fnatic   EMEA       FNC        EMEA\n",
       "1  2012    Azubu Frost  Korea       AZF          KR\n",
       "2  2013  SK Telecom T1  Korea       SKT          KR\n",
       "3  2014  Samsung White  Korea       SSW          KR\n",
       "4  2015  SK Telecom T1  Korea       SKT          KR"
      ]
     },
     "execution_count": 59,
     "metadata": {},
     "output_type": "execute_result"
    }
   ],
   "source": [
    "#create dataframe from dictionary\n",
    "df_worlds_winners = pd.DataFrame(data = [dict_worlds_winners])\n",
    "df_worlds_winners = df_worlds_winners.transpose()\n",
    "df_worlds_winners.reset_index(inplace=True)\n",
    "df_worlds_winners.columns = [\"Year\",\"Winner\"]\n",
    "df_worlds_winners.to_csv(\"Worlds_Winners.csv\",index=False) \n",
    "\n",
    "#merge with TeamRegion to get Region_code\n",
    "df_worlds_winners = df_worlds_winners.merge(df_TeamRegion_code, left_on = \"Winner\", right_on = \"Team\", how = \"left\")\n",
    "df_worlds_winners = df_worlds_winners.drop(columns=\"Team\")\n",
    "df_worlds_winners.head()\n",
    "#df_worlds_winners.to_csv(\"Worlds_Winners.csv\",index=False)"
   ]
  },
  {
   "cell_type": "markdown",
   "id": "9bf3d16a-7ff6-4074-892f-36730a9f780d",
   "metadata": {},
   "source": [
    "## Shortcut - Import df_worlds_winners"
   ]
  },
  {
   "cell_type": "code",
   "execution_count": 10,
   "id": "853b435f-69fa-4f03-acc8-0f47f1b77a24",
   "metadata": {
    "tags": []
   },
   "outputs": [],
   "source": [
    "import pandas as pd\n",
    "df_worlds_winners = pd.read_csv(\"Worlds_Winners.csv\",index_col=0) "
   ]
  },
  {
   "cell_type": "markdown",
   "id": "e2f827f4-1819-404a-ae0c-3a4448f7f6b5",
   "metadata": {},
   "source": [
    "## Graph - Frequency of Worlds Winner : Teams "
   ]
  },
  {
   "cell_type": "code",
   "execution_count": 60,
   "id": "e3bfb348-ddd0-4b64-a53c-f9a498046959",
   "metadata": {
    "tags": []
   },
   "outputs": [
    {
     "data": {
      "text/plain": [
       "([<matplotlib.axis.YTick at 0x2021c6008b0>,\n",
       "  <matplotlib.axis.YTick at 0x2021c600370>,\n",
       "  <matplotlib.axis.YTick at 0x2021c5f9580>,\n",
       "  <matplotlib.axis.YTick at 0x2021c657df0>],\n",
       " [Text(0, 0, '0'), Text(0, 1, '1'), Text(0, 2, '2'), Text(0, 3, '3')])"
      ]
     },
     "execution_count": 60,
     "metadata": {},
     "output_type": "execute_result"
    },
    {
     "data": {
      "image/png": "[encoded data removed]",
      "text/plain": [
       "<Figure size 1000x500 with 1 Axes>"
      ]
     },
     "metadata": {},
     "output_type": "display_data"
    }
   ],
   "source": [
    "#Plot frequencies of team winners\n",
    "import matplotlib.pyplot as plt\n",
    "fig, ax = plt.subplots()\n",
    "\n",
    "ax = df_worlds_winners[\"Team_abbr\"].value_counts().plot(kind='bar',\n",
    "                                    figsize=(10,5),\n",
    "                                    title=\"LoL Worlds Winners - Teams\")\n",
    "ax.set_xlabel(\"Teams\")\n",
    "ax.set_ylabel(\"Frequency\")\n",
    "\n",
    "import numpy as np\n",
    "plt.yticks(np.arange(0, 4, 1))"
   ]
  },
  {
   "cell_type": "markdown",
   "id": "2df732c7-f4eb-4a54-bc8a-6ce2be589288",
   "metadata": {},
   "source": [
    "## Graph - Frequency of Worlds Winner : Regions "
   ]
  },
  {
   "cell_type": "code",
   "execution_count": 61,
   "id": "88dde8bf-41f6-4c47-91f8-fcc9d1bc55ef",
   "metadata": {
    "tags": []
   },
   "outputs": [
    {
     "data": {
      "text/plain": [
       "([<matplotlib.axis.YTick at 0x2021c685850>,\n",
       "  <matplotlib.axis.YTick at 0x2021c6851f0>,\n",
       "  <matplotlib.axis.YTick at 0x2021c6aa970>,\n",
       "  <matplotlib.axis.YTick at 0x2021c821a60>,\n",
       "  <matplotlib.axis.YTick at 0x2021c825580>,\n",
       "  <matplotlib.axis.YTick at 0x2021c821640>,\n",
       "  <matplotlib.axis.YTick at 0x2021c825d60>,\n",
       "  <matplotlib.axis.YTick at 0x2021c82e850>,\n",
       "  <matplotlib.axis.YTick at 0x2021c834340>,\n",
       "  <matplotlib.axis.YTick at 0x2021c834df0>],\n",
       " [Text(0, 0, '0'),\n",
       "  Text(0, 1, '1'),\n",
       "  Text(0, 2, '2'),\n",
       "  Text(0, 3, '3'),\n",
       "  Text(0, 4, '4'),\n",
       "  Text(0, 5, '5'),\n",
       "  Text(0, 6, '6'),\n",
       "  Text(0, 7, '7'),\n",
       "  Text(0, 8, '8'),\n",
       "  Text(0, 9, '9')])"
      ]
     },
     "execution_count": 61,
     "metadata": {},
     "output_type": "execute_result"
    },
    {
     "data": {
      "image/png": "[encoded data removed]",
      "text/plain": [
       "<Figure size 1000x500 with 1 Axes>"
      ]
     },
     "metadata": {},
     "output_type": "display_data"
    }
   ],
   "source": [
    "#Plot frequencies of region winners\n",
    "import matplotlib.pyplot as plt\n",
    "fig, ax = plt.subplots()\n",
    "\n",
    "ax = df_worlds_winners[\"Region_code\"].value_counts().plot(kind='bar',\n",
    "                                    figsize=(10,5),\n",
    "                                    title=\"LoL Worlds Winners - Regions\")\n",
    "ax.set_xlabel(\"Regions\")\n",
    "ax.set_ylabel(\"Frequency\")\n",
    "\n",
    "import numpy as np\n",
    "plt.yticks(np.arange(0, 10, 1))"
   ]
  },
  {
   "cell_type": "markdown",
   "id": "5bd50316-e58b-4064-a7c1-8840b866cfb7",
   "metadata": {},
   "source": [
    "# Get Participation of Regions in Worlds\n",
    "- to show that Korea participated later but won a lot more matches/worlds finals\n"
   ]
  },
  {
   "cell_type": "markdown",
   "id": "983c215e-e09d-420f-9588-ea55e28be722",
   "metadata": {},
   "source": [
    "## Group by years and find out region participation"
   ]
  },
  {
   "cell_type": "code",
   "execution_count": 62,
   "id": "83c74dbb-417d-407f-849e-24c8aa2b7ab6",
   "metadata": {
    "tags": []
   },
   "outputs": [
    {
     "data": {
      "text/html": [
       "<div>\n",
       "<style scoped>\n",
       "    .dataframe tbody tr th:only-of-type {\n",
       "        vertical-align: middle;\n",
       "    }\n",
       "\n",
       "    .dataframe tbody tr th {\n",
       "        vertical-align: top;\n",
       "    }\n",
       "\n",
       "    .dataframe thead th {\n",
       "        text-align: right;\n",
       "    }\n",
       "</style>\n",
       "<table border=\"1\" class=\"dataframe\">\n",
       "  <thead>\n",
       "    <tr style=\"text-align: right;\">\n",
       "      <th></th>\n",
       "      <th></th>\n",
       "      <th>Participation_counts</th>\n",
       "    </tr>\n",
       "    <tr>\n",
       "      <th>Year</th>\n",
       "      <th>Region_Participation</th>\n",
       "      <th></th>\n",
       "    </tr>\n",
       "  </thead>\n",
       "  <tbody>\n",
       "    <tr>\n",
       "      <th rowspan=\"3\" valign=\"top\">2011</th>\n",
       "      <th>EMEA</th>\n",
       "      <td>28.0</td>\n",
       "    </tr>\n",
       "    <tr>\n",
       "      <th>NA</th>\n",
       "      <td>22.0</td>\n",
       "    </tr>\n",
       "    <tr>\n",
       "      <th>PCS</th>\n",
       "      <td>0.0</td>\n",
       "    </tr>\n",
       "    <tr>\n",
       "      <th rowspan=\"2\" valign=\"top\">2012</th>\n",
       "      <th>CN</th>\n",
       "      <td>8.0</td>\n",
       "    </tr>\n",
       "    <tr>\n",
       "      <th>EMEA</th>\n",
       "      <td>12.0</td>\n",
       "    </tr>\n",
       "    <tr>\n",
       "      <th>...</th>\n",
       "      <th>...</th>\n",
       "      <td>...</td>\n",
       "    </tr>\n",
       "    <tr>\n",
       "      <th rowspan=\"5\" valign=\"top\">2022</th>\n",
       "      <th>KR</th>\n",
       "      <td>72.0</td>\n",
       "    </tr>\n",
       "    <tr>\n",
       "      <th>LAT</th>\n",
       "      <td>5.0</td>\n",
       "    </tr>\n",
       "    <tr>\n",
       "      <th>NA</th>\n",
       "      <td>28.0</td>\n",
       "    </tr>\n",
       "    <tr>\n",
       "      <th>PCS</th>\n",
       "      <td>16.0</td>\n",
       "    </tr>\n",
       "    <tr>\n",
       "      <th>VN</th>\n",
       "      <td>15.0</td>\n",
       "    </tr>\n",
       "  </tbody>\n",
       "</table>\n",
       "<p>93 rows × 1 columns</p>\n",
       "</div>"
      ],
      "text/plain": [
       "                           Participation_counts\n",
       "Year Region_Participation                      \n",
       "2011 EMEA                                  28.0\n",
       "     NA                                    22.0\n",
       "     PCS                                    0.0\n",
       "2012 CN                                     8.0\n",
       "     EMEA                                  12.0\n",
       "...                                         ...\n",
       "2022 KR                                    72.0\n",
       "     LAT                                    5.0\n",
       "     NA                                    28.0\n",
       "     PCS                                   16.0\n",
       "     VN                                    15.0\n",
       "\n",
       "[93 rows x 1 columns]"
      ]
     },
     "execution_count": 62,
     "metadata": {},
     "output_type": "execute_result"
    }
   ],
   "source": [
    "#concatenate teams 1 and 2 for full partcipation\n",
    "data1 = df_Scoreboard_Worlds.groupby([\"Year\",\"Region_code_T1\"])[\"Region_code_T1\"].count()\n",
    "data2 = df_Scoreboard_Worlds.groupby([\"Year\",\"Region_code_T2\"])[\"Region_code_T2\"].count()\n",
    "data = pd.concat([data1,data2],axis=1)\n",
    "df_participation = pd.DataFrame(data)\n",
    "df_participation[\"Region_T1_T2\"]=df_participation[\"Region_code_T1\"] + df_participation[\"Region_code_T2\"] \n",
    "df_participation= df_participation.reset_index()\n",
    "df_participation.rename(columns={df_participation.columns[1]:\"Region_Participation\",df_participation.columns[4]:\"Participation_counts\"},inplace=True)\n",
    "df_participation.head()\n",
    "\n",
    "#groupby years and regions\n",
    "participation_data = df_participation.groupby([\"Year\",\"Region_Participation\"])[\"Participation_counts\"].sum()\n",
    "participation_data\n",
    "\n",
    "df_participation_data = pd.DataFrame(participation_data)\n",
    "df_participation_data"
   ]
  },
  {
   "cell_type": "code",
   "execution_count": 63,
   "id": "08ed639c-6f1f-41e5-8590-4b4856d6d2fe",
   "metadata": {
    "tags": []
   },
   "outputs": [
    {
     "data": {
      "text/html": [
       "<div>\n",
       "<style scoped>\n",
       "    .dataframe tbody tr th:only-of-type {\n",
       "        vertical-align: middle;\n",
       "    }\n",
       "\n",
       "    .dataframe tbody tr th {\n",
       "        vertical-align: top;\n",
       "    }\n",
       "\n",
       "    .dataframe thead th {\n",
       "        text-align: right;\n",
       "    }\n",
       "</style>\n",
       "<table border=\"1\" class=\"dataframe\">\n",
       "  <thead>\n",
       "    <tr style=\"text-align: right;\">\n",
       "      <th></th>\n",
       "      <th></th>\n",
       "      <th>Win_counts</th>\n",
       "      <th>Participation_counts</th>\n",
       "    </tr>\n",
       "    <tr>\n",
       "      <th>Region_code</th>\n",
       "      <th>Year</th>\n",
       "      <th></th>\n",
       "      <th></th>\n",
       "    </tr>\n",
       "  </thead>\n",
       "  <tbody>\n",
       "    <tr>\n",
       "      <th>EMEA</th>\n",
       "      <th>2011</th>\n",
       "      <td>16</td>\n",
       "      <td>28.0</td>\n",
       "    </tr>\n",
       "    <tr>\n",
       "      <th>NA</th>\n",
       "      <th>2011</th>\n",
       "      <td>11</td>\n",
       "      <td>22.0</td>\n",
       "    </tr>\n",
       "    <tr>\n",
       "      <th>PCS</th>\n",
       "      <th>2011</th>\n",
       "      <td>1</td>\n",
       "      <td>0.0</td>\n",
       "    </tr>\n",
       "    <tr>\n",
       "      <th>CN</th>\n",
       "      <th>2012</th>\n",
       "      <td>3</td>\n",
       "      <td>8.0</td>\n",
       "    </tr>\n",
       "    <tr>\n",
       "      <th>EMEA</th>\n",
       "      <th>2012</th>\n",
       "      <td>5</td>\n",
       "      <td>12.0</td>\n",
       "    </tr>\n",
       "  </tbody>\n",
       "</table>\n",
       "</div>"
      ],
      "text/plain": [
       "                  Win_counts  Participation_counts\n",
       "Region_code Year                                  \n",
       "EMEA        2011          16                  28.0\n",
       "NA          2011          11                  22.0\n",
       "PCS         2011           1                   0.0\n",
       "CN          2012           3                   8.0\n",
       "EMEA        2012           5                  12.0"
      ]
     },
     "execution_count": 63,
     "metadata": {},
     "output_type": "execute_result"
    }
   ],
   "source": [
    "#compare participation vs wins\n",
    "\n",
    "#group regions and count wins per region\n",
    "wins = df_Scoreboard_Worlds.groupby([\"Year\",\"Region_code_Win\"])[\"Region_code_Win\"].count()\n",
    "\n",
    "#table for counting wins per region\n",
    "dfwins = pd.DataFrame(wins)\n",
    "dfwins.rename(columns={\"Region_code_Win\":\"Win_counts\"},inplace=True)\n",
    "dfwins = dfwins.reset_index()\n",
    "dfwins.rename(columns={\"Region_code_Win\":\"Region_code\"},inplace=True)\n",
    "dfwins.head()\n",
    "\n",
    "#table for counting participation per region\n",
    "dfparticipation = pd.DataFrame(participation_data)\n",
    "dfparticipation = dfparticipation.reset_index()\n",
    "dfparticipation.rename(columns={\"Region_Participation\":\"Region_code\"},inplace=True)\n",
    "dfparticipation.head()\n",
    "\n",
    "#merge tables to compare participation vs win counts\n",
    "dfcompare_part_wins = dfwins.merge(dfparticipation, on = [\"Year\",\"Region_code\"], how = \"left\")\n",
    "dfcompare_part_wins = dfcompare_part_wins.set_index([\"Region_code\",\"Year\"])\n",
    "dfcompare_part_wins.head()"
   ]
  },
  {
   "cell_type": "code",
   "execution_count": 86,
   "id": "3d9369c1-ae03-4e8f-b95d-716b94ca427f",
   "metadata": {
    "tags": []
   },
   "outputs": [
    {
     "data": {
      "text/plain": [
       "<AxesSubplot: title={'center': 'KR'}, xlabel='Year'>"
      ]
     },
     "execution_count": 86,
     "metadata": {},
     "output_type": "execute_result"
    },
    {
     "data": {
      "image/png": "[encoded data removed]",
      "text/plain": [
       "<Figure size 640x480 with 1 Axes>"
      ]
     },
     "metadata": {},
     "output_type": "display_data"
    }
   ],
   "source": [
    "#Graph for participation vs wins\n",
    "import matplotlib.pyplot as plt\n",
    "\n",
    "#sample graph for Korea\n",
    "dfcompare_part_wins_KR = dfcompare_part_wins.loc[\"KR\"]\n",
    "dfcompare_part_wins_KR.plot(kind=\"bar\", title=\"KR\")"
   ]
  },
  {
   "cell_type": "code",
   "execution_count": 67,
   "id": "e648d81d-0fa4-4468-bb65-7d5c89b7dd60",
   "metadata": {
    "tags": []
   },
   "outputs": [
    {
     "data": {
      "text/html": [
       "<div>\n",
       "<style scoped>\n",
       "    .dataframe tbody tr th:only-of-type {\n",
       "        vertical-align: middle;\n",
       "    }\n",
       "\n",
       "    .dataframe tbody tr th {\n",
       "        vertical-align: top;\n",
       "    }\n",
       "\n",
       "    .dataframe thead th {\n",
       "        text-align: right;\n",
       "    }\n",
       "</style>\n",
       "<table border=\"1\" class=\"dataframe\">\n",
       "  <thead>\n",
       "    <tr style=\"text-align: right;\">\n",
       "      <th></th>\n",
       "      <th>Regions</th>\n",
       "      <th>Ratio</th>\n",
       "    </tr>\n",
       "  </thead>\n",
       "  <tbody>\n",
       "    <tr>\n",
       "      <th>0</th>\n",
       "      <td>EMEA</td>\n",
       "      <td>0.465486</td>\n",
       "    </tr>\n",
       "    <tr>\n",
       "      <th>1</th>\n",
       "      <td>BR</td>\n",
       "      <td>0.259259</td>\n",
       "    </tr>\n",
       "    <tr>\n",
       "      <th>2</th>\n",
       "      <td>CN</td>\n",
       "      <td>0.558659</td>\n",
       "    </tr>\n",
       "    <tr>\n",
       "      <th>3</th>\n",
       "      <td>INT</td>\n",
       "      <td>0.343372</td>\n",
       "    </tr>\n",
       "    <tr>\n",
       "      <th>4</th>\n",
       "      <td>JP</td>\n",
       "      <td>0.312727</td>\n",
       "    </tr>\n",
       "    <tr>\n",
       "      <th>5</th>\n",
       "      <td>KR</td>\n",
       "      <td>0.663383</td>\n",
       "    </tr>\n",
       "    <tr>\n",
       "      <th>6</th>\n",
       "      <td>LAT</td>\n",
       "      <td>0.272143</td>\n",
       "    </tr>\n",
       "    <tr>\n",
       "      <th>7</th>\n",
       "      <td>NA</td>\n",
       "      <td>0.412855</td>\n",
       "    </tr>\n",
       "    <tr>\n",
       "      <th>8</th>\n",
       "      <td>PCS</td>\n",
       "      <td>inf</td>\n",
       "    </tr>\n",
       "    <tr>\n",
       "      <th>9</th>\n",
       "      <td>VN</td>\n",
       "      <td>0.292857</td>\n",
       "    </tr>\n",
       "  </tbody>\n",
       "</table>\n",
       "</div>"
      ],
      "text/plain": [
       "  Regions     Ratio\n",
       "0    EMEA  0.465486\n",
       "1      BR  0.259259\n",
       "2      CN  0.558659\n",
       "3     INT  0.343372\n",
       "4      JP  0.312727\n",
       "5      KR  0.663383\n",
       "6     LAT  0.272143\n",
       "7      NA  0.412855\n",
       "8     PCS       inf\n",
       "9      VN  0.292857"
      ]
     },
     "execution_count": 67,
     "metadata": {},
     "output_type": "execute_result"
    }
   ],
   "source": [
    "#ratio of participation vs wins\n",
    "list_regions = list(df_Region_code[\"Region_code\"].unique())\n",
    "list_regions\n",
    "\n",
    "#define function for getting wins/participation counts\n",
    "def get_part_win_ratio(region):\n",
    "    part_wins_ratio = dfcompare_part_wins.loc[region][\"Win_counts\"]/dfcompare_part_wins.loc[region][\"Participation_counts\"]\n",
    "    return part_wins_ratio.mean()\n",
    "\n",
    "\n",
    "#make table of region vs ratio\n",
    "df_ratios = pd.DataFrame()\n",
    "df_ratios[\"Regions\"]=list_regions\n",
    "df_ratios[\"Ratio\"] = df_ratios[\"Regions\"].apply(get_part_win_ratio)\n",
    "    \n",
    "df_ratios"
   ]
  },
  {
   "cell_type": "code",
   "execution_count": 68,
   "id": "9073100e-9517-4dd4-92d4-1cbabf30b6a7",
   "metadata": {
    "tags": []
   },
   "outputs": [
    {
     "data": {
      "text/plain": [
       "Year\n",
       "2011         inf\n",
       "2012    0.333333\n",
       "2014    0.428571\n",
       "2015    0.250000\n",
       "2016    0.500000\n",
       "2017    0.315789\n",
       "2018    0.363636\n",
       "2019    0.342857\n",
       "2020    0.400000\n",
       "2021    0.419355\n",
       "2022    0.187500\n",
       "dtype: float64"
      ]
     },
     "execution_count": 68,
     "metadata": {},
     "output_type": "execute_result"
    }
   ],
   "source": [
    "#inspect why PCS mean ratio is 'inf'\n",
    "df_part_wins_ratio_PCS = dfcompare_part_wins.loc[\"PCS\"][\"Win_counts\"]/dfcompare_part_wins.loc[\"PCS\"][\"Participation_counts\"]\n",
    "df_part_wins_ratio_PCS"
   ]
  },
  {
   "cell_type": "code",
   "execution_count": 69,
   "id": "542b9eaf-f925-4505-846d-cf32c3e06820",
   "metadata": {
    "tags": []
   },
   "outputs": [
    {
     "data": {
      "text/html": [
       "<div>\n",
       "<style scoped>\n",
       "    .dataframe tbody tr th:only-of-type {\n",
       "        vertical-align: middle;\n",
       "    }\n",
       "\n",
       "    .dataframe tbody tr th {\n",
       "        vertical-align: top;\n",
       "    }\n",
       "\n",
       "    .dataframe thead th {\n",
       "        text-align: right;\n",
       "    }\n",
       "</style>\n",
       "<table border=\"1\" class=\"dataframe\">\n",
       "  <thead>\n",
       "    <tr style=\"text-align: right;\">\n",
       "      <th></th>\n",
       "      <th>Regions</th>\n",
       "      <th>Ratio</th>\n",
       "    </tr>\n",
       "  </thead>\n",
       "  <tbody>\n",
       "    <tr>\n",
       "      <th>0</th>\n",
       "      <td>EMEA</td>\n",
       "      <td>0.465486</td>\n",
       "    </tr>\n",
       "    <tr>\n",
       "      <th>1</th>\n",
       "      <td>BR</td>\n",
       "      <td>0.259259</td>\n",
       "    </tr>\n",
       "    <tr>\n",
       "      <th>2</th>\n",
       "      <td>CN</td>\n",
       "      <td>0.558659</td>\n",
       "    </tr>\n",
       "    <tr>\n",
       "      <th>3</th>\n",
       "      <td>INT</td>\n",
       "      <td>0.343372</td>\n",
       "    </tr>\n",
       "    <tr>\n",
       "      <th>4</th>\n",
       "      <td>JP</td>\n",
       "      <td>0.312727</td>\n",
       "    </tr>\n",
       "    <tr>\n",
       "      <th>5</th>\n",
       "      <td>KR</td>\n",
       "      <td>0.663383</td>\n",
       "    </tr>\n",
       "    <tr>\n",
       "      <th>6</th>\n",
       "      <td>LAT</td>\n",
       "      <td>0.272143</td>\n",
       "    </tr>\n",
       "    <tr>\n",
       "      <th>7</th>\n",
       "      <td>NA</td>\n",
       "      <td>0.412855</td>\n",
       "    </tr>\n",
       "    <tr>\n",
       "      <th>8</th>\n",
       "      <td>PCS</td>\n",
       "      <td>0.354104</td>\n",
       "    </tr>\n",
       "    <tr>\n",
       "      <th>9</th>\n",
       "      <td>VN</td>\n",
       "      <td>0.292857</td>\n",
       "    </tr>\n",
       "  </tbody>\n",
       "</table>\n",
       "</div>"
      ],
      "text/plain": [
       "  Regions     Ratio\n",
       "0    EMEA  0.465486\n",
       "1      BR  0.259259\n",
       "2      CN  0.558659\n",
       "3     INT  0.343372\n",
       "4      JP  0.312727\n",
       "5      KR  0.663383\n",
       "6     LAT  0.272143\n",
       "7      NA  0.412855\n",
       "8     PCS  0.354104\n",
       "9      VN  0.292857"
      ]
     },
     "execution_count": 69,
     "metadata": {},
     "output_type": "execute_result"
    }
   ],
   "source": [
    "#remove inf (0/0) from PCS because that's where the inf comes from\n",
    "import numpy as np\n",
    "df_part_wins_ratio_PCS.replace([np.inf, -np.inf], np.nan, inplace=True)\n",
    "df_part_wins_ratio_PCS.dropna(inplace=True)\n",
    "df_part_wins_ratio_PCS.mean()\n",
    "\n",
    "#replace PCS mean ratio in table\n",
    "df_ratios.at[8,\"Ratio\"] = df_part_wins_ratio_PCS.mean()\n",
    "df_ratios\n",
    "#df_ratios.to_csv(\"Participation_to_Win_Ratio.csv\",index=False)"
   ]
  },
  {
   "cell_type": "code",
   "execution_count": null,
   "id": "3dbd0a41-a01f-4bb8-be76-3dafd6cdf9a1",
   "metadata": {},
   "outputs": [],
   "source": [
    "#can see that KR and CN has participation to win ratio > 50%\n",
    "#also they have most wins in Worlds\n",
    "#will also look at EMEA and NA"
   ]
  },
  {
   "cell_type": "code",
   "execution_count": 85,
   "id": "a05af796-f3ef-4954-8b5f-f5f041a96e90",
   "metadata": {},
   "outputs": [
    {
     "data": {
      "text/html": [
       "<div>\n",
       "<style scoped>\n",
       "    .dataframe tbody tr th:only-of-type {\n",
       "        vertical-align: middle;\n",
       "    }\n",
       "\n",
       "    .dataframe tbody tr th {\n",
       "        vertical-align: top;\n",
       "    }\n",
       "\n",
       "    .dataframe thead th {\n",
       "        text-align: right;\n",
       "    }\n",
       "</style>\n",
       "<table border=\"1\" class=\"dataframe\">\n",
       "  <thead>\n",
       "    <tr style=\"text-align: right;\">\n",
       "      <th>Year</th>\n",
       "      <th>2011</th>\n",
       "      <th>2012</th>\n",
       "      <th>2013</th>\n",
       "      <th>2014</th>\n",
       "      <th>2015</th>\n",
       "      <th>2016</th>\n",
       "      <th>2017</th>\n",
       "      <th>2018</th>\n",
       "      <th>2019</th>\n",
       "      <th>2020</th>\n",
       "      <th>2021</th>\n",
       "      <th>2022</th>\n",
       "    </tr>\n",
       "    <tr>\n",
       "      <th>Region_code</th>\n",
       "      <th></th>\n",
       "      <th></th>\n",
       "      <th></th>\n",
       "      <th></th>\n",
       "      <th></th>\n",
       "      <th></th>\n",
       "      <th></th>\n",
       "      <th></th>\n",
       "      <th></th>\n",
       "      <th></th>\n",
       "      <th></th>\n",
       "      <th></th>\n",
       "    </tr>\n",
       "  </thead>\n",
       "  <tbody>\n",
       "    <tr>\n",
       "      <th>BR</th>\n",
       "      <td>0</td>\n",
       "      <td>0</td>\n",
       "      <td>0</td>\n",
       "      <td>6</td>\n",
       "      <td>6</td>\n",
       "      <td>6</td>\n",
       "      <td>9</td>\n",
       "      <td>5</td>\n",
       "      <td>5</td>\n",
       "      <td>5</td>\n",
       "      <td>9</td>\n",
       "      <td>10</td>\n",
       "    </tr>\n",
       "    <tr>\n",
       "      <th>CN</th>\n",
       "      <td>0</td>\n",
       "      <td>8</td>\n",
       "      <td>19</td>\n",
       "      <td>46</td>\n",
       "      <td>21</td>\n",
       "      <td>27</td>\n",
       "      <td>43</td>\n",
       "      <td>47</td>\n",
       "      <td>38</td>\n",
       "      <td>61</td>\n",
       "      <td>51</td>\n",
       "      <td>50</td>\n",
       "    </tr>\n",
       "    <tr>\n",
       "      <th>EMEA</th>\n",
       "      <td>28</td>\n",
       "      <td>12</td>\n",
       "      <td>35</td>\n",
       "      <td>24</td>\n",
       "      <td>31</td>\n",
       "      <td>25</td>\n",
       "      <td>52</td>\n",
       "      <td>56</td>\n",
       "      <td>56</td>\n",
       "      <td>53</td>\n",
       "      <td>34</td>\n",
       "      <td>44</td>\n",
       "    </tr>\n",
       "    <tr>\n",
       "      <th>INT</th>\n",
       "      <td>0</td>\n",
       "      <td>14</td>\n",
       "      <td>10</td>\n",
       "      <td>6</td>\n",
       "      <td>10</td>\n",
       "      <td>16</td>\n",
       "      <td>17</td>\n",
       "      <td>22</td>\n",
       "      <td>11</td>\n",
       "      <td>14</td>\n",
       "      <td>5</td>\n",
       "      <td>0</td>\n",
       "    </tr>\n",
       "    <tr>\n",
       "      <th>JP</th>\n",
       "      <td>0</td>\n",
       "      <td>0</td>\n",
       "      <td>0</td>\n",
       "      <td>0</td>\n",
       "      <td>0</td>\n",
       "      <td>0</td>\n",
       "      <td>0</td>\n",
       "      <td>8</td>\n",
       "      <td>4</td>\n",
       "      <td>5</td>\n",
       "      <td>11</td>\n",
       "      <td>14</td>\n",
       "    </tr>\n",
       "    <tr>\n",
       "      <th>KR</th>\n",
       "      <td>0</td>\n",
       "      <td>17</td>\n",
       "      <td>35</td>\n",
       "      <td>40</td>\n",
       "      <td>43</td>\n",
       "      <td>53</td>\n",
       "      <td>44</td>\n",
       "      <td>26</td>\n",
       "      <td>43</td>\n",
       "      <td>35</td>\n",
       "      <td>66</td>\n",
       "      <td>72</td>\n",
       "    </tr>\n",
       "    <tr>\n",
       "      <th>LAT</th>\n",
       "      <td>0</td>\n",
       "      <td>0</td>\n",
       "      <td>0</td>\n",
       "      <td>0</td>\n",
       "      <td>0</td>\n",
       "      <td>0</td>\n",
       "      <td>4</td>\n",
       "      <td>12</td>\n",
       "      <td>8</td>\n",
       "      <td>7</td>\n",
       "      <td>0</td>\n",
       "      <td>5</td>\n",
       "    </tr>\n",
       "    <tr>\n",
       "      <th>NA</th>\n",
       "      <td>22</td>\n",
       "      <td>8</td>\n",
       "      <td>19</td>\n",
       "      <td>27</td>\n",
       "      <td>19</td>\n",
       "      <td>21</td>\n",
       "      <td>32</td>\n",
       "      <td>34</td>\n",
       "      <td>26</td>\n",
       "      <td>23</td>\n",
       "      <td>31</td>\n",
       "      <td>28</td>\n",
       "    </tr>\n",
       "    <tr>\n",
       "      <th>PCS</th>\n",
       "      <td>0</td>\n",
       "      <td>3</td>\n",
       "      <td>0</td>\n",
       "      <td>7</td>\n",
       "      <td>16</td>\n",
       "      <td>6</td>\n",
       "      <td>19</td>\n",
       "      <td>22</td>\n",
       "      <td>35</td>\n",
       "      <td>25</td>\n",
       "      <td>31</td>\n",
       "      <td>16</td>\n",
       "    </tr>\n",
       "    <tr>\n",
       "      <th>VN</th>\n",
       "      <td>0</td>\n",
       "      <td>0</td>\n",
       "      <td>0</td>\n",
       "      <td>0</td>\n",
       "      <td>0</td>\n",
       "      <td>0</td>\n",
       "      <td>14</td>\n",
       "      <td>6</td>\n",
       "      <td>14</td>\n",
       "      <td>0</td>\n",
       "      <td>0</td>\n",
       "      <td>15</td>\n",
       "    </tr>\n",
       "  </tbody>\n",
       "</table>\n",
       "</div>"
      ],
      "text/plain": [
       "Year         2011  2012  2013  2014  2015  2016  2017  2018  2019  2020  2021  \\\n",
       "Region_code                                                                     \n",
       "BR              0     0     0     6     6     6     9     5     5     5     9   \n",
       "CN              0     8    19    46    21    27    43    47    38    61    51   \n",
       "EMEA           28    12    35    24    31    25    52    56    56    53    34   \n",
       "INT             0    14    10     6    10    16    17    22    11    14     5   \n",
       "JP              0     0     0     0     0     0     0     8     4     5    11   \n",
       "KR              0    17    35    40    43    53    44    26    43    35    66   \n",
       "LAT             0     0     0     0     0     0     4    12     8     7     0   \n",
       "NA             22     8    19    27    19    21    32    34    26    23    31   \n",
       "PCS             0     3     0     7    16     6    19    22    35    25    31   \n",
       "VN              0     0     0     0     0     0    14     6    14     0     0   \n",
       "\n",
       "Year         2022  \n",
       "Region_code        \n",
       "BR             10  \n",
       "CN             50  \n",
       "EMEA           44  \n",
       "INT             0  \n",
       "JP             14  \n",
       "KR             72  \n",
       "LAT             5  \n",
       "NA             28  \n",
       "PCS            16  \n",
       "VN             15  "
      ]
     },
     "execution_count": 85,
     "metadata": {},
     "output_type": "execute_result"
    }
   ],
   "source": [
    "#dfparticipation_finals_by_region = dfparticipation_finals.reset_index()\n",
    "#dfparticipation_finals_by_region = dfparticipation_finals_by_region.set_index([\"Region_code\",\"Year\"])\n",
    "#dfparticipation_finals_by_region\n",
    "\n",
    "#dfparticipation_finals = dfparticipation_finals.reset_index()\n",
    "piv_participation_finals = pd.pivot_table(dfcompare_part_wins, index=\"Region_code\",columns=\"Year\",values=\"Participation_counts\", fill_value=0)\n",
    "piv_participation_finals\n",
    "\n",
    "#can see that KR, CN and EMEA has similar number of teams playing in recent 5Y *knockout stage* matches"
   ]
  },
  {
   "cell_type": "markdown",
   "id": "0677c518-b99e-40a8-b8ad-7ff2ac7c3c56",
   "metadata": {},
   "source": [
    "## Decide to only look at KR, CN, EMEA as a result of analysis:\n",
    "- Worlds Winners region frequency\n",
    "- Match winners region frequency\n",
    "- Entering finals (knockout stage) region frequency"
   ]
  },
  {
   "cell_type": "markdown",
   "id": "1059e83e-c1f3-475c-8186-7e04f24cbf14",
   "metadata": {},
   "source": [
    "# "
   ]
  },
  {
   "cell_type": "markdown",
   "id": "badb0692-e905-40c3-91f6-020ddb0caff8",
   "metadata": {},
   "source": [
    "# API LCK Info\n",
    "- Teams = T: T.Name, Z.\n",
    "- Players = P:  "
   ]
  },
  {
   "cell_type": "code",
   "execution_count": 88,
   "id": "322d55b2-9249-4219-ab76-4ac4e58fc4d3",
   "metadata": {
    "tags": []
   },
   "outputs": [
    {
     "data": {
      "application/vnd.jupyter.widget-view+json": {
       "model_id": "6e7222d494664f8a93fe5d05dd41338c",
       "version_major": 2,
       "version_minor": 0
      },
      "text/plain": [
       "  0%|          | 0/1 [00:00<?, ?it/s]"
      ]
     },
     "metadata": {},
     "output_type": "display_data"
    }
   ],
   "source": [
    "import mwclient\n",
    "site = mwclient.Site('lol.fandom.com', path='/')\n",
    "\n",
    "from tqdm.notebook import tqdm\n",
    "\n",
    "leagues=['LCK']\n",
    "\n",
    "results = []\n",
    "\n",
    "for league in tqdm(leagues):\n",
    "    off=0\n",
    "    \n",
    "    while True:\n",
    "  \n",
    "        response = site.api('cargoquery',\n",
    "                            offset=str(off),\n",
    "                            \n",
    "                            limit=\"max\",\n",
    "\n",
    "                            tables = \"Teams=T, Players=P\",\n",
    "\n",
    "                            fields=\"P.Team=Team, P.ID=ID, P.Nationality, P.Country,P.Birthdate,\\\n",
    "                                    T.Region=Region, T.Short\", \n",
    "\n",
    "                            join_on = \"T.Name = P.Team\")\n",
    "\n",
    "        results += response[\"cargoquery\"] \n",
    "        \n",
    "        off=off+500\n",
    "        if(len(response[\"cargoquery\"])<500): break"
   ]
  },
  {
   "cell_type": "code",
   "execution_count": null,
   "id": "15dbb78d-214f-40eb-9991-2db58a202544",
   "metadata": {},
   "outputs": [],
   "source": [
    "import pandas as pd\n",
    "df_Players = pd.DataFrame([ a['title'] for a in results ])\n",
    "\n",
    "#drop birthdate precision\n",
    "df_Players = df_Players.drop(\"Birthdate__precision\", axis=1)\n",
    "\n",
    "df_Players.head()\n",
    "df_Players.to_csv(\"Players.csv\")"
   ]
  },
  {
   "cell_type": "code",
   "execution_count": 89,
   "id": "6bc120a3-8e8e-4178-859a-4418e7d1ae93",
   "metadata": {
    "tags": []
   },
   "outputs": [
    {
     "data": {
      "text/html": [
       "<div>\n",
       "<style scoped>\n",
       "    .dataframe tbody tr th:only-of-type {\n",
       "        vertical-align: middle;\n",
       "    }\n",
       "\n",
       "    .dataframe tbody tr th {\n",
       "        vertical-align: top;\n",
       "    }\n",
       "\n",
       "    .dataframe thead th {\n",
       "        text-align: right;\n",
       "    }\n",
       "</style>\n",
       "<table border=\"1\" class=\"dataframe\">\n",
       "  <thead>\n",
       "    <tr style=\"text-align: right;\">\n",
       "      <th></th>\n",
       "      <th>Team</th>\n",
       "      <th>ID</th>\n",
       "      <th>Nationality</th>\n",
       "      <th>Country</th>\n",
       "      <th>Birthdate</th>\n",
       "      <th>Region</th>\n",
       "      <th>Short</th>\n",
       "    </tr>\n",
       "  </thead>\n",
       "  <tbody>\n",
       "    <tr>\n",
       "      <th>0</th>\n",
       "      <td>True</td>\n",
       "      <td>True</td>\n",
       "      <td>True</td>\n",
       "      <td>True</td>\n",
       "      <td>True</td>\n",
       "      <td>False</td>\n",
       "      <td>False</td>\n",
       "    </tr>\n",
       "    <tr>\n",
       "      <th>1</th>\n",
       "      <td>True</td>\n",
       "      <td>True</td>\n",
       "      <td>True</td>\n",
       "      <td>True</td>\n",
       "      <td>True</td>\n",
       "      <td>False</td>\n",
       "      <td>False</td>\n",
       "    </tr>\n",
       "    <tr>\n",
       "      <th>2</th>\n",
       "      <td>True</td>\n",
       "      <td>True</td>\n",
       "      <td>True</td>\n",
       "      <td>True</td>\n",
       "      <td>True</td>\n",
       "      <td>False</td>\n",
       "      <td>False</td>\n",
       "    </tr>\n",
       "    <tr>\n",
       "      <th>3</th>\n",
       "      <td>True</td>\n",
       "      <td>True</td>\n",
       "      <td>True</td>\n",
       "      <td>True</td>\n",
       "      <td>True</td>\n",
       "      <td>False</td>\n",
       "      <td>False</td>\n",
       "    </tr>\n",
       "    <tr>\n",
       "      <th>4</th>\n",
       "      <td>True</td>\n",
       "      <td>True</td>\n",
       "      <td>True</td>\n",
       "      <td>True</td>\n",
       "      <td>True</td>\n",
       "      <td>False</td>\n",
       "      <td>False</td>\n",
       "    </tr>\n",
       "    <tr>\n",
       "      <th>...</th>\n",
       "      <td>...</td>\n",
       "      <td>...</td>\n",
       "      <td>...</td>\n",
       "      <td>...</td>\n",
       "      <td>...</td>\n",
       "      <td>...</td>\n",
       "      <td>...</td>\n",
       "    </tr>\n",
       "    <tr>\n",
       "      <th>6303</th>\n",
       "      <td>False</td>\n",
       "      <td>False</td>\n",
       "      <td>True</td>\n",
       "      <td>False</td>\n",
       "      <td>True</td>\n",
       "      <td>False</td>\n",
       "      <td>False</td>\n",
       "    </tr>\n",
       "    <tr>\n",
       "      <th>6304</th>\n",
       "      <td>False</td>\n",
       "      <td>False</td>\n",
       "      <td>True</td>\n",
       "      <td>False</td>\n",
       "      <td>False</td>\n",
       "      <td>False</td>\n",
       "      <td>False</td>\n",
       "    </tr>\n",
       "    <tr>\n",
       "      <th>6305</th>\n",
       "      <td>False</td>\n",
       "      <td>False</td>\n",
       "      <td>True</td>\n",
       "      <td>False</td>\n",
       "      <td>True</td>\n",
       "      <td>False</td>\n",
       "      <td>False</td>\n",
       "    </tr>\n",
       "    <tr>\n",
       "      <th>6306</th>\n",
       "      <td>False</td>\n",
       "      <td>False</td>\n",
       "      <td>True</td>\n",
       "      <td>False</td>\n",
       "      <td>True</td>\n",
       "      <td>False</td>\n",
       "      <td>False</td>\n",
       "    </tr>\n",
       "    <tr>\n",
       "      <th>6307</th>\n",
       "      <td>False</td>\n",
       "      <td>False</td>\n",
       "      <td>True</td>\n",
       "      <td>False</td>\n",
       "      <td>False</td>\n",
       "      <td>False</td>\n",
       "      <td>False</td>\n",
       "    </tr>\n",
       "  </tbody>\n",
       "</table>\n",
       "<p>6308 rows × 7 columns</p>\n",
       "</div>"
      ],
      "text/plain": [
       "       Team     ID  Nationality  Country  Birthdate  Region  Short\n",
       "0      True   True         True     True       True   False  False\n",
       "1      True   True         True     True       True   False  False\n",
       "2      True   True         True     True       True   False  False\n",
       "3      True   True         True     True       True   False  False\n",
       "4      True   True         True     True       True   False  False\n",
       "...     ...    ...          ...      ...        ...     ...    ...\n",
       "6303  False  False         True    False       True   False  False\n",
       "6304  False  False         True    False      False   False  False\n",
       "6305  False  False         True    False       True   False  False\n",
       "6306  False  False         True    False       True   False  False\n",
       "6307  False  False         True    False      False   False  False\n",
       "\n",
       "[6308 rows x 7 columns]"
      ]
     },
     "execution_count": 89,
     "metadata": {},
     "output_type": "execute_result"
    }
   ],
   "source": [
    "df_Players.isnull()"
   ]
  },
  {
   "cell_type": "code",
   "execution_count": 494,
   "id": "a50f37a4-24b9-411d-a7a7-a5ebc3c8f8b9",
   "metadata": {
    "tags": []
   },
   "outputs": [
    {
     "data": {
      "text/html": [
       "<div>\n",
       "<style scoped>\n",
       "    .dataframe tbody tr th:only-of-type {\n",
       "        vertical-align: middle;\n",
       "    }\n",
       "\n",
       "    .dataframe tbody tr th {\n",
       "        vertical-align: top;\n",
       "    }\n",
       "\n",
       "    .dataframe thead th {\n",
       "        text-align: right;\n",
       "    }\n",
       "</style>\n",
       "<table border=\"1\" class=\"dataframe\">\n",
       "  <thead>\n",
       "    <tr style=\"text-align: right;\">\n",
       "      <th></th>\n",
       "      <th>Tournament</th>\n",
       "      <th>League</th>\n",
       "      <th>Date</th>\n",
       "      <th>Gamelength</th>\n",
       "      <th>Team1</th>\n",
       "      <th>Team2</th>\n",
       "      <th>Team1Score</th>\n",
       "      <th>Team2Score</th>\n",
       "      <th>WinTeam</th>\n",
       "      <th>Year</th>\n",
       "    </tr>\n",
       "  </thead>\n",
       "  <tbody>\n",
       "    <tr>\n",
       "      <th>0</th>\n",
       "      <td>LCK 2016 Spring Promotion</td>\n",
       "      <td>LCK</td>\n",
       "      <td>2015-09-11 08:58:00</td>\n",
       "      <td>29:04</td>\n",
       "      <td>Incredible Miracle</td>\n",
       "      <td>Dark Wolves</td>\n",
       "      <td>1</td>\n",
       "      <td>0</td>\n",
       "      <td>Incredible Miracle</td>\n",
       "      <td>2015</td>\n",
       "    </tr>\n",
       "    <tr>\n",
       "      <th>1</th>\n",
       "      <td>LCK 2016 Spring Promotion</td>\n",
       "      <td>LCK</td>\n",
       "      <td>2015-09-11 09:44:00</td>\n",
       "      <td>33:50</td>\n",
       "      <td>Dark Wolves</td>\n",
       "      <td>Incredible Miracle</td>\n",
       "      <td>1</td>\n",
       "      <td>1</td>\n",
       "      <td>Dark Wolves</td>\n",
       "      <td>2015</td>\n",
       "    </tr>\n",
       "    <tr>\n",
       "      <th>2</th>\n",
       "      <td>LCK 2016 Spring Promotion</td>\n",
       "      <td>LCK</td>\n",
       "      <td>2015-09-11 10:34:00</td>\n",
       "      <td>36:57</td>\n",
       "      <td>Incredible Miracle</td>\n",
       "      <td>Dark Wolves</td>\n",
       "      <td>2</td>\n",
       "      <td>1</td>\n",
       "      <td>Incredible Miracle</td>\n",
       "      <td>2015</td>\n",
       "    </tr>\n",
       "    <tr>\n",
       "      <th>3</th>\n",
       "      <td>LCK 2016 Spring Promotion</td>\n",
       "      <td>LCK</td>\n",
       "      <td>2015-09-11 11:28:00</td>\n",
       "      <td>25:52</td>\n",
       "      <td>Dark Wolves</td>\n",
       "      <td>Incredible Miracle</td>\n",
       "      <td>1</td>\n",
       "      <td>3</td>\n",
       "      <td>Incredible Miracle</td>\n",
       "      <td>2015</td>\n",
       "    </tr>\n",
       "    <tr>\n",
       "      <th>4</th>\n",
       "      <td>LCK 2016 Spring Promotion</td>\n",
       "      <td>LCK</td>\n",
       "      <td>2015-09-12 08:45:00</td>\n",
       "      <td>45:31</td>\n",
       "      <td>SBENU Sonicboom</td>\n",
       "      <td>ESC Ever</td>\n",
       "      <td>1</td>\n",
       "      <td>0</td>\n",
       "      <td>SBENU Sonicboom</td>\n",
       "      <td>2015</td>\n",
       "    </tr>\n",
       "  </tbody>\n",
       "</table>\n",
       "</div>"
      ],
      "text/plain": [
       "                  Tournament League                Date Gamelength  \\\n",
       "0  LCK 2016 Spring Promotion    LCK 2015-09-11 08:58:00      29:04   \n",
       "1  LCK 2016 Spring Promotion    LCK 2015-09-11 09:44:00      33:50   \n",
       "2  LCK 2016 Spring Promotion    LCK 2015-09-11 10:34:00      36:57   \n",
       "3  LCK 2016 Spring Promotion    LCK 2015-09-11 11:28:00      25:52   \n",
       "4  LCK 2016 Spring Promotion    LCK 2015-09-12 08:45:00      45:31   \n",
       "\n",
       "                Team1               Team2  Team1Score  Team2Score  \\\n",
       "0  Incredible Miracle         Dark Wolves           1           0   \n",
       "1         Dark Wolves  Incredible Miracle           1           1   \n",
       "2  Incredible Miracle         Dark Wolves           2           1   \n",
       "3         Dark Wolves  Incredible Miracle           1           3   \n",
       "4     SBENU Sonicboom            ESC Ever           1           0   \n",
       "\n",
       "              WinTeam  Year  \n",
       "0  Incredible Miracle  2015  \n",
       "1         Dark Wolves  2015  \n",
       "2  Incredible Miracle  2015  \n",
       "3  Incredible Miracle  2015  \n",
       "4     SBENU Sonicboom  2015  "
      ]
     },
     "execution_count": 494,
     "metadata": {},
     "output_type": "execute_result"
    }
   ],
   "source": [
    "import pandas as pd\n",
    "\n",
    "df_Scoreboard_LCK = pd.DataFrame([ a['title'] for a in results ])\n",
    "\n",
    "df_Scoreboard_LCK = df_Scoreboard_LCK.drop(\"Date__precision\", axis=1)\n",
    "\n",
    "df_Scoreboard_LCK.sort_values(by = \"Date\",inplace=True)\n",
    "\n",
    "df_Scoreboard_LCK[\"Date\"] = pd.to_datetime(df_Scoreboard_LCK[\"Date\"])\n",
    "df_Scoreboard_LCK[\"Year\"]= df_Scoreboard_LCK[\"Date\"].dt.year\n",
    "\n",
    "df_Scoreboard_LCK = df_Scoreboard_LCK.astype({'Team1Score':'int','Team2Score':'int'})\n",
    "\n",
    "df_Scoreboard_LCK = df_Scoreboard_LCK.reset_index(drop=True)\n",
    "\n",
    "df_Scoreboard_LCK.head()\n",
    "\n",
    "#save as csv\n",
    "#df_Scoreboard_LCK.to_csv(\"Scoreboard_LCK.csv\", index=False)"
   ]
  },
  {
   "cell_type": "code",
   "execution_count": null,
   "id": "7ea5fc4a-c590-424f-9352-b49d87ba08e1",
   "metadata": {},
   "outputs": [],
   "source": []
  },
  {
   "cell_type": "code",
   "execution_count": null,
   "id": "1e98bb70-cac3-42de-a6af-c91266854ae8",
   "metadata": {},
   "outputs": [],
   "source": []
  },
  {
   "cell_type": "code",
   "execution_count": null,
   "id": "21e2a984-c515-42fa-9a60-b7b708fad36b",
   "metadata": {
    "tags": []
   },
   "outputs": [],
   "source": []
  },
  {
   "cell_type": "code",
   "execution_count": null,
   "id": "b6d2bdf9-2067-4cbc-b9f9-4d326c42456e",
   "metadata": {},
   "outputs": [],
   "source": []
  }
 ],
 "metadata": {
  "kernelspec": {
   "display_name": "Python 3 (ipykernel)",
   "language": "python",
   "name": "python3"
  },
  "language_info": {
   "codemirror_mode": {
    "name": "ipython",
    "version": 3
   },
   "file_extension": ".py",
   "mimetype": "text/x-python",
   "name": "python",
   "nbconvert_exporter": "python",
   "pygments_lexer": "ipython3",
   "version": "3.8.16"
  }
 },
 "nbformat": 4,
 "nbformat_minor": 5
}
