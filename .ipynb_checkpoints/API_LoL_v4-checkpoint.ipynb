{
 "cells": [
  {
   "cell_type": "markdown",
   "id": "c5a62311-034a-425c-b891-de5c57810422",
   "metadata": {},
   "source": [
    "# UCDPA - Introduction to Data Analytics\n",
    "# Project: 2023 LoL Worlds Winner Prediction"
   ]
  },
  {
   "cell_type": "code",
   "execution_count": 1,
   "id": "f221217f-e4ba-4dc8-9245-897cd658faf6",
   "metadata": {},
   "outputs": [],
   "source": [
    "#import packages\n",
    "import pandas as pd\n",
    "import numpy as np\n",
    "\n",
    "import mwclient\n",
    "from tqdm.notebook import tqdm\n",
    "\n",
    "import seaborn as sns\n",
    "import matplotlib.pyplot as plt"
   ]
  },
  {
   "cell_type": "markdown",
   "id": "b1200aea-db9d-48f4-a731-d14eec83d7c0",
   "metadata": {},
   "source": [
    "#"
   ]
  },
  {
   "cell_type": "markdown",
   "id": "332c32c6-3c40-4893-8b3c-2b6dab020cc8",
   "metadata": {},
   "source": [
    "# Shortcuts"
   ]
  },
  {
   "cell_type": "code",
   "execution_count": null,
   "id": "4e828b5a-22de-4918-9e80-5d079620fa00",
   "metadata": {},
   "outputs": [],
   "source": [
    "# ===== Shortcut - Import df_Scoreboard ===== #\n",
    "df_Scoreboard = pd.read_csv(\"Scoreboard.csv\")\n",
    "df_Scoreboard.head()"
   ]
  },
  {
   "cell_type": "code",
   "execution_count": null,
   "id": "cf9900a6-164b-4b73-950c-a8d4207d4f51",
   "metadata": {},
   "outputs": [],
   "source": [
    "# ===== Shortcut - Import df_TeamRegion ===== #\n",
    "df_TeamRegion = pd.read_csv(\"TeamRegion.csv\")\n",
    "df_TeamRegion.head()"
   ]
  },
  {
   "cell_type": "code",
   "execution_count": null,
   "id": "73e7c5a1-5221-49b2-92f1-5e1e7674c1f0",
   "metadata": {},
   "outputs": [],
   "source": [
    "# ===== Shortcut - Import df_worlds_winners ===== #\n",
    "df_worlds_winners = pd.read_csv(\"Worlds_Winners.csv\",index_col=0) "
   ]
  },
  {
   "cell_type": "markdown",
   "id": "a5944fb9-97a6-4db4-8bbf-3f3ecc26dc12",
   "metadata": {},
   "source": [
    "#"
   ]
  },
  {
   "cell_type": "markdown",
   "id": "13cf46fe-0704-4fb7-8810-c907b1be2026",
   "metadata": {},
   "source": [
    "# Import Scoreboard data from Leaguepedia through API"
   ]
  },
  {
   "cell_type": "markdown",
   "id": "082bc0e2-902c-4237-b0d1-f1562683f1cc",
   "metadata": {},
   "source": [
    "## API full set of Scoreboard data with: "
   ]
  },
  {
   "cell_type": "code",
   "execution_count": 2,
   "id": "84855732-aad3-4f2b-88f0-307f6f9635fd",
   "metadata": {
    "tags": []
   },
   "outputs": [
    {
     "data": {
      "application/vnd.jupyter.widget-view+json": {
       "model_id": "0ca25b898f354a648ba27321db3e0bcb",
       "version_major": 2,
       "version_minor": 0
      },
      "text/plain": [
       "  0%|          | 0/21 [00:00<?, ?it/s]"
      ]
     },
     "metadata": {},
     "output_type": "display_data"
    }
   ],
   "source": [
    "#import mwclient\n",
    "site = mwclient.Site('lol.fandom.com', path='/')\n",
    "\n",
    "#from tqdm.notebook import tqdm\n",
    "\n",
    "leagues=['GPL','IWCQ','WCS','LCS','LEC','LCK','LPL','CBLOL','LCL','LJL','LLA','OPL','PCS','VCS','TCL','LMS','LST','NA LCS','EU LCS','LLN','CLS']\n",
    "\n",
    "results = []\n",
    "\n",
    "for league in tqdm(leagues):\n",
    "    off=0\n",
    "    \n",
    "    while True:\n",
    "    \n",
    "        response = site.api('cargoquery',\n",
    "                            offset=str(off),\n",
    "                            \n",
    "                            limit=\"max\",\n",
    "                            \n",
    "                            tables = \"ScoreboardGames=SG,Tournaments=T, Leagues=L\",\n",
    "                            \n",
    "                            fields=\"T.Name=Tournament,\\\n",
    "                            L.League_Short=League,\\\n",
    "                            SG.DateTime_UTC=Date, SG.Team1, SG.Team2, SG.WinTeam, \\\n",
    "                            SG.Team1Kills, SG.Team2Kills, SG.Team1Gold , SG.Team2Gold, SG.Team1Dragons, SG.Team2Dragons, \\\n",
    "                            SG.Team1Barons, SG.Team2Barons, SG.Team1RiftHeralds, SG.Team2RiftHeralds, SG.Team1Towers, SG.Team2Towers, \\\n",
    "                            SG.Team1Inhibitors, SG.Team2Inhibitors\",\n",
    "                            \n",
    "                            #fields=\"T.Name=Tournament,\\\n",
    "                            #        L.League_Short=League,\\\n",
    "                            #        SG.DateTime_UTC=Date, SG.Gamelength, SG.Team1, SG.Team2, SG.Team1Score, SG.Team2Score,SG.WinTeam\", \n",
    "                            \n",
    "                            where = 'L.League_Short = \"'+league+'\"',\n",
    "                            \n",
    "                            join_on = \"SG.OverviewPage=T.OverviewPage, T.League = L.League\")\n",
    "    \n",
    "        results += response[\"cargoquery\"] \n",
    "        \n",
    "        off=off+500\n",
    "        if(len(response[\"cargoquery\"])<500): break"
   ]
  },
  {
   "cell_type": "code",
   "execution_count": 5,
   "id": "875f75b2-718b-40df-a39d-88a9888e8ddf",
   "metadata": {
    "tags": []
   },
   "outputs": [],
   "source": [
    "#convert to dataframe from dictionary\n",
    "df_Scoreboard = pd.DataFrame([ a['title'] for a in results ])\n",
    "\n",
    "#drop unused column\n",
    "df_Scoreboard = df_Scoreboard.drop(\"Date__precision\", axis=1)\n",
    "\n",
    "#sort by date\n",
    "df_Scoreboard.sort_values(by = \"Date\",inplace=True)\n",
    "\n",
    "#split date and time\n",
    "df_Scoreboard[\"Date\"] = pd.to_datetime(df_Scoreboard[\"Date\"])\n",
    "df_Scoreboard[\"Year\"]= df_Scoreboard[\"Date\"].dt.year\n",
    "\n",
    "#no index\n",
    "#df_Scoreboard = df_Scoreboard.reset_index(drop=True)\n",
    "\n",
    "df_Scoreboard.shape\n",
    "#(32143, 21)\n",
    "\n",
    "#preview first few rows\n",
    "df_Scoreboard.head()\n",
    "\n",
    "#save as csv\n",
    "df_Scoreboard.to_csv(\"Scoreboard.csv\", index=False)"
   ]
  },
  {
   "cell_type": "markdown",
   "id": "d4d4899f-8d94-4155-a33b-cd85462f03ed",
   "metadata": {
    "tags": []
   },
   "source": [
    "# "
   ]
  },
  {
   "cell_type": "markdown",
   "id": "10f10c15-d5d6-44f7-b052-ae5e72cfdbc2",
   "metadata": {
    "tags": []
   },
   "source": [
    "## API full set of Teams Region data with: "
   ]
  },
  {
   "cell_type": "code",
   "execution_count": 8,
   "id": "74a8749a-5bcc-4fea-9d17-d64483cd1d61",
   "metadata": {
    "tags": []
   },
   "outputs": [
    {
     "data": {
      "application/vnd.jupyter.widget-view+json": {
       "model_id": "9bced9d5c47e4a389b606ea49521ff8b",
       "version_major": 2,
       "version_minor": 0
      },
      "text/plain": [
       "  0%|          | 0/21 [00:00<?, ?it/s]"
      ]
     },
     "metadata": {},
     "output_type": "display_data"
    }
   ],
   "source": [
    "#import mwclient\n",
    "site = mwclient.Site('lol.fandom.com', path='/')\n",
    "\n",
    "#from tqdm.notebook import tqdm\n",
    "\n",
    "leagues=['GPL','IWCQ','WCS','LCS','LEC','LCK','LPL','CBLOL','LCL','LJL','LLA','OPL','PCS','VCS','TCL','LMS','LST','NA LCS','EU LCS','LLN','CLS']\n",
    "\n",
    "results = []\n",
    "\n",
    "for league in tqdm(leagues):\n",
    "    off=0\n",
    "    \n",
    "    while True:\n",
    "\n",
    "        response = site.api(\"cargoquery\",\n",
    "                            offset=str(off),\n",
    "                            \n",
    "                            limit=\"max\",\n",
    "                            \n",
    "                            tables = \"Teams=T\",\n",
    "                            \n",
    "                            fields=\"T.Name=Team, T.Region=Region, T.Short=Team_abbr\")\n",
    "                            \n",
    "        results += response[\"cargoquery\"] \n",
    "        \n",
    "        off=off+500\n",
    "        if(len(response[\"cargoquery\"])<500): break"
   ]
  },
  {
   "cell_type": "code",
   "execution_count": 9,
   "id": "c667bf63-abe4-44c4-ac17-cc4e489697ce",
   "metadata": {
    "tags": []
   },
   "outputs": [
    {
     "data": {
      "text/html": [
       "<div>\n",
       "<style scoped>\n",
       "    .dataframe tbody tr th:only-of-type {\n",
       "        vertical-align: middle;\n",
       "    }\n",
       "\n",
       "    .dataframe tbody tr th {\n",
       "        vertical-align: top;\n",
       "    }\n",
       "\n",
       "    .dataframe thead th {\n",
       "        text-align: right;\n",
       "    }\n",
       "</style>\n",
       "<table border=\"1\" class=\"dataframe\">\n",
       "  <thead>\n",
       "    <tr style=\"text-align: right;\">\n",
       "      <th></th>\n",
       "      <th>Team</th>\n",
       "      <th>Region</th>\n",
       "      <th>Team_abbr</th>\n",
       "    </tr>\n",
       "  </thead>\n",
       "  <tbody>\n",
       "    <tr>\n",
       "      <th>9</th>\n",
       "      <td>00 Nation</td>\n",
       "      <td>Europe</td>\n",
       "      <td>00N</td>\n",
       "    </tr>\n",
       "    <tr>\n",
       "      <th>10</th>\n",
       "      <td>00 Prospects</td>\n",
       "      <td>Europe</td>\n",
       "      <td>00P</td>\n",
       "    </tr>\n",
       "    <tr>\n",
       "      <th>11</th>\n",
       "      <td>1 Trick Ponies</td>\n",
       "      <td>North America</td>\n",
       "      <td>1TP</td>\n",
       "    </tr>\n",
       "    <tr>\n",
       "      <th>12</th>\n",
       "      <td>1. Berliner Esport-Club e.V.</td>\n",
       "      <td>Europe</td>\n",
       "      <td>BESC</td>\n",
       "    </tr>\n",
       "    <tr>\n",
       "      <th>13</th>\n",
       "      <td>100 Thieves</td>\n",
       "      <td>North America</td>\n",
       "      <td>100</td>\n",
       "    </tr>\n",
       "  </tbody>\n",
       "</table>\n",
       "</div>"
      ],
      "text/plain": [
       "                            Team         Region Team_abbr\n",
       "9                      00 Nation         Europe       00N\n",
       "10                  00 Prospects         Europe       00P\n",
       "11                1 Trick Ponies  North America       1TP\n",
       "12  1. Berliner Esport-Club e.V.         Europe      BESC\n",
       "13                   100 Thieves  North America       100"
      ]
     },
     "execution_count": 9,
     "metadata": {},
     "output_type": "execute_result"
    }
   ],
   "source": [
    "df_TeamRegion = pd.DataFrame([ a['title'] for a in results ])\n",
    "\n",
    "#clean data - remove NaN's and duplicates\n",
    "df_TeamRegion = df_TeamRegion.dropna()\n",
    "df_TeamRegion = df_TeamRegion.drop_duplicates(subset=\"Team\")\n",
    "\n",
    "#no index\n",
    "#df_TeamRegion = df_TeamRegion.reset_index(drop=True)\n",
    "\n",
    "#preview first few rows\n",
    "df_TeamRegion.head()\n",
    "\n",
    "#save as csv\n",
    "df_TeamRegion.to_csv(\"TeamRegion.csv\", index=False)"
   ]
  },
  {
   "cell_type": "code",
   "execution_count": 10,
   "id": "a8a53022-e3a5-4a46-ba18-9f91c879353a",
   "metadata": {
    "tags": []
   },
   "outputs": [
    {
     "name": "stderr",
     "output_type": "stream",
     "text": [
      "C:\\Users\\vivia\\AppData\\Local\\Temp\\ipykernel_7324\\1509978232.py:15: FutureWarning: The frame.append method is deprecated and will be removed from pandas in a future version. Use pandas.concat instead.\n",
      "  df_TeamRegion = df_TeamRegion.append([df_TeamRegion2,df_TeamRegion3], ignore_index=True)\n"
     ]
    }
   ],
   "source": [
    "# ===== Add DAMWON Gaming and DWG KIA to df_Team_Region ===== #\n",
    "    #-Worlds Winners 2020 and 2021\n",
    "\n",
    "#DAMWON Gaming and DWG KIA both renamed - They are the same team...\n",
    "#create new rows for DAMWON Gaming and DWG KIA\n",
    "df_TeamRegion2 = {\"Team\":\"DAMWON Gaming\",\n",
    "                  \"Region\":\"Korea\",\n",
    "                  \"Team_abbr\":\"DK\"}\n",
    "\n",
    "df_TeamRegion3 = {\"Team\":\"DWG KIA\",\n",
    "                  \"Region\":\"Korea\",\n",
    "                  \"Team_abbr\":\"DK\"}\n",
    "\n",
    "#add new rows to df\n",
    "df_TeamRegion = df_TeamRegion.append([df_TeamRegion2,df_TeamRegion3], ignore_index=True)\n",
    "df_TeamRegion.head()\n",
    "\n",
    "#re-save as csv\n",
    "df_TeamRegion.to_csv(\"TeamRegion.csv\", index=False)"
   ]
  },
  {
   "cell_type": "code",
   "execution_count": 12,
   "id": "26ab57bb-276d-46f7-8189-d71dcbcb9528",
   "metadata": {
    "tags": []
   },
   "outputs": [],
   "source": [
    "# ===== Matching old to new team names ===== #\n",
    "    #- only the ones that cannot be found in df above\n",
    "    #- some old team names may still not be matched to new ones unfortunately\n",
    "\n",
    "#import manually stored file for matching old to new team names\n",
    "df_OldtoNewTeams = pd.read_csv(\"OldtoNewTeams.csv\")\n",
    "\n",
    "#concatenate the two dataframes to add the new list of teams\n",
    "df_TeamRegion = pd.concat([df_TeamRegion,df_OldtoNewTeams])\n",
    "df_TeamRegion.to_csv(\"TeamRegion.csv\",index=False)"
   ]
  },
  {
   "cell_type": "code",
   "execution_count": 13,
   "id": "428ba85e-81df-4b9e-b4da-4a9870b64a9f",
   "metadata": {
    "tags": []
   },
   "outputs": [],
   "source": [
    "# ===== Merge team region with region codes =====#\n",
    "\n",
    "#import manually saved csv with Region and code - not accessible on Leaguepedia\n",
    "df_Region_code = pd.read_csv(\"Region_Code.csv\",na_filter = False) #interprets NA as string instead of NaN value\n",
    "\n",
    "#merge with region_code\n",
    "df_TeamRegion_code = df_TeamRegion.merge(df_Region_code, on = 'Region', how = 'left')\n",
    "df_TeamRegion_code.drop(columns=[\"Region\"], inplace = True)\n",
    "df_TeamRegion_code.head()\n",
    "\n",
    "#save as csv\n",
    "df_TeamRegion_code.to_csv(\"TeamRegion.csv\",index=False)"
   ]
  },
  {
   "cell_type": "code",
   "execution_count": 14,
   "id": "ad328300-47de-4d0f-afbf-b84e46160e78",
   "metadata": {
    "tags": []
   },
   "outputs": [],
   "source": [
    "#replace SKT to T1\n",
    "df_TeamRegion_code = df_TeamRegion_code.replace(to_replace = \"SKT\", value = \"T1\")\n",
    "df_TeamRegion_code.to_csv(\"TeamRegion.csv\", index=False)"
   ]
  },
  {
   "cell_type": "markdown",
   "id": "a30a11ad-e8a6-4dc6-9ca1-b5251072120e",
   "metadata": {},
   "source": [
    "#"
   ]
  },
  {
   "cell_type": "markdown",
   "id": "5ab4de2e-f473-4bc5-98b3-8b56c2f86ec5",
   "metadata": {},
   "source": [
    "## Merge Scoreboard and TeamRegion to get:\n",
    "- Team1, Team2, WinTeam Regions\n",
    "- blue/red side"
   ]
  },
  {
   "cell_type": "markdown",
   "id": "2b87c94f-af9b-4f34-ac89-d32dbaa9f36c",
   "metadata": {
    "tags": []
   },
   "source": [
    "## Add Region and Region Code to Scoreboard"
   ]
  },
  {
   "cell_type": "code",
   "execution_count": 16,
   "id": "61b1a897-c9a8-4fa4-b38a-54cc0c8348da",
   "metadata": {
    "tags": []
   },
   "outputs": [
    {
     "data": {
      "text/html": [
       "<div>\n",
       "<style scoped>\n",
       "    .dataframe tbody tr th:only-of-type {\n",
       "        vertical-align: middle;\n",
       "    }\n",
       "\n",
       "    .dataframe tbody tr th {\n",
       "        vertical-align: top;\n",
       "    }\n",
       "\n",
       "    .dataframe thead th {\n",
       "        text-align: right;\n",
       "    }\n",
       "</style>\n",
       "<table border=\"1\" class=\"dataframe\">\n",
       "  <thead>\n",
       "    <tr style=\"text-align: right;\">\n",
       "      <th></th>\n",
       "      <th>Tournament</th>\n",
       "      <th>League</th>\n",
       "      <th>Date</th>\n",
       "      <th>Team1</th>\n",
       "      <th>Team2</th>\n",
       "      <th>WinTeam</th>\n",
       "      <th>Team1Kills</th>\n",
       "      <th>Team2Kills</th>\n",
       "      <th>Team1Gold</th>\n",
       "      <th>Team2Gold</th>\n",
       "      <th>...</th>\n",
       "      <th>Team2Towers</th>\n",
       "      <th>Team1Inhibitors</th>\n",
       "      <th>Team2Inhibitors</th>\n",
       "      <th>Year</th>\n",
       "      <th>Team_T1</th>\n",
       "      <th>Region_code_T1</th>\n",
       "      <th>Team_T2</th>\n",
       "      <th>Region_code_T2</th>\n",
       "      <th>Team_Win</th>\n",
       "      <th>Region_code_Win</th>\n",
       "    </tr>\n",
       "  </thead>\n",
       "  <tbody>\n",
       "    <tr>\n",
       "      <th>0</th>\n",
       "      <td>Worlds Season 1</td>\n",
       "      <td>WCS</td>\n",
       "      <td>2011-06-18 08:30:00</td>\n",
       "      <td>against All authority</td>\n",
       "      <td>Epik Gamer</td>\n",
       "      <td>Epik Gamer</td>\n",
       "      <td>None</td>\n",
       "      <td>None</td>\n",
       "      <td>None</td>\n",
       "      <td>None</td>\n",
       "      <td>...</td>\n",
       "      <td>None</td>\n",
       "      <td>None</td>\n",
       "      <td>None</td>\n",
       "      <td>2011</td>\n",
       "      <td>aAa</td>\n",
       "      <td>EMEA</td>\n",
       "      <td>EPIK</td>\n",
       "      <td>NA</td>\n",
       "      <td>EPIK</td>\n",
       "      <td>NA</td>\n",
       "    </tr>\n",
       "    <tr>\n",
       "      <th>1</th>\n",
       "      <td>Worlds Season 1</td>\n",
       "      <td>WCS</td>\n",
       "      <td>2011-06-18 09:45:00</td>\n",
       "      <td>Fnatic</td>\n",
       "      <td>Team Pacific</td>\n",
       "      <td>Fnatic</td>\n",
       "      <td>None</td>\n",
       "      <td>None</td>\n",
       "      <td>None</td>\n",
       "      <td>None</td>\n",
       "      <td>...</td>\n",
       "      <td>None</td>\n",
       "      <td>None</td>\n",
       "      <td>None</td>\n",
       "      <td>2011</td>\n",
       "      <td>FNC</td>\n",
       "      <td>EMEA</td>\n",
       "      <td>PCFC</td>\n",
       "      <td>PCS</td>\n",
       "      <td>FNC</td>\n",
       "      <td>EMEA</td>\n",
       "    </tr>\n",
       "    <tr>\n",
       "      <th>2</th>\n",
       "      <td>Worlds Season 1</td>\n",
       "      <td>WCS</td>\n",
       "      <td>2011-06-18 11:00:00</td>\n",
       "      <td>Epik Gamer</td>\n",
       "      <td>Team Pacific</td>\n",
       "      <td>Epik Gamer</td>\n",
       "      <td>None</td>\n",
       "      <td>None</td>\n",
       "      <td>None</td>\n",
       "      <td>None</td>\n",
       "      <td>...</td>\n",
       "      <td>None</td>\n",
       "      <td>None</td>\n",
       "      <td>None</td>\n",
       "      <td>2011</td>\n",
       "      <td>EPIK</td>\n",
       "      <td>NA</td>\n",
       "      <td>PCFC</td>\n",
       "      <td>PCS</td>\n",
       "      <td>EPIK</td>\n",
       "      <td>NA</td>\n",
       "    </tr>\n",
       "    <tr>\n",
       "      <th>3</th>\n",
       "      <td>Worlds Season 1</td>\n",
       "      <td>WCS</td>\n",
       "      <td>2011-06-18 11:00:00</td>\n",
       "      <td>against All authority</td>\n",
       "      <td>Fnatic</td>\n",
       "      <td>against All authority</td>\n",
       "      <td>None</td>\n",
       "      <td>None</td>\n",
       "      <td>None</td>\n",
       "      <td>None</td>\n",
       "      <td>...</td>\n",
       "      <td>None</td>\n",
       "      <td>None</td>\n",
       "      <td>None</td>\n",
       "      <td>2011</td>\n",
       "      <td>aAa</td>\n",
       "      <td>EMEA</td>\n",
       "      <td>FNC</td>\n",
       "      <td>EMEA</td>\n",
       "      <td>aAa</td>\n",
       "      <td>EMEA</td>\n",
       "    </tr>\n",
       "    <tr>\n",
       "      <th>4</th>\n",
       "      <td>Worlds Season 1</td>\n",
       "      <td>WCS</td>\n",
       "      <td>2011-06-18 12:15:00</td>\n",
       "      <td>against All authority</td>\n",
       "      <td>Team Pacific</td>\n",
       "      <td>against All authority</td>\n",
       "      <td>None</td>\n",
       "      <td>None</td>\n",
       "      <td>None</td>\n",
       "      <td>None</td>\n",
       "      <td>...</td>\n",
       "      <td>None</td>\n",
       "      <td>None</td>\n",
       "      <td>None</td>\n",
       "      <td>2011</td>\n",
       "      <td>aAa</td>\n",
       "      <td>EMEA</td>\n",
       "      <td>PCFC</td>\n",
       "      <td>PCS</td>\n",
       "      <td>aAa</td>\n",
       "      <td>EMEA</td>\n",
       "    </tr>\n",
       "  </tbody>\n",
       "</table>\n",
       "<p>5 rows × 27 columns</p>\n",
       "</div>"
      ],
      "text/plain": [
       "        Tournament League                Date                  Team1  \\\n",
       "0  Worlds Season 1    WCS 2011-06-18 08:30:00  against All authority   \n",
       "1  Worlds Season 1    WCS 2011-06-18 09:45:00                 Fnatic   \n",
       "2  Worlds Season 1    WCS 2011-06-18 11:00:00             Epik Gamer   \n",
       "3  Worlds Season 1    WCS 2011-06-18 11:00:00  against All authority   \n",
       "4  Worlds Season 1    WCS 2011-06-18 12:15:00  against All authority   \n",
       "\n",
       "          Team2                WinTeam Team1Kills Team2Kills Team1Gold  \\\n",
       "0    Epik Gamer             Epik Gamer       None       None      None   \n",
       "1  Team Pacific                 Fnatic       None       None      None   \n",
       "2  Team Pacific             Epik Gamer       None       None      None   \n",
       "3        Fnatic  against All authority       None       None      None   \n",
       "4  Team Pacific  against All authority       None       None      None   \n",
       "\n",
       "  Team2Gold  ... Team2Towers Team1Inhibitors Team2Inhibitors  Year Team_T1  \\\n",
       "0      None  ...        None            None            None  2011     aAa   \n",
       "1      None  ...        None            None            None  2011     FNC   \n",
       "2      None  ...        None            None            None  2011    EPIK   \n",
       "3      None  ...        None            None            None  2011     aAa   \n",
       "4      None  ...        None            None            None  2011     aAa   \n",
       "\n",
       "  Region_code_T1 Team_T2 Region_code_T2 Team_Win Region_code_Win  \n",
       "0           EMEA    EPIK             NA     EPIK              NA  \n",
       "1           EMEA    PCFC            PCS      FNC            EMEA  \n",
       "2             NA    PCFC            PCS     EPIK              NA  \n",
       "3           EMEA     FNC           EMEA      aAa            EMEA  \n",
       "4           EMEA    PCFC            PCS      aAa            EMEA  \n",
       "\n",
       "[5 rows x 27 columns]"
      ]
     },
     "execution_count": 16,
     "metadata": {},
     "output_type": "execute_result"
    }
   ],
   "source": [
    "#import manually saved csv with Region and code - not accessible on Leaguepedia\n",
    "df_Region_code = pd.read_csv(\"Region_Code.csv\",na_filter = False) #interprets NA (North America) as string instead of NaN value\n",
    "\n",
    "#first merge for Team 1\n",
    "df_team1 = df_Scoreboard.merge(df_TeamRegion_code, left_on = 'Team1', right_on = 'Team', how = 'left')\n",
    "df_team1.head()\n",
    "\n",
    "#then merge for Team 2\n",
    "df_team1and2 = df_team1.merge(df_TeamRegion_code, left_on = 'Team2', right_on = 'Team', how = 'left')\n",
    "\n",
    "#then merge for WinTeam\n",
    "df_team1and2_andwinner = df_team1and2.merge(df_TeamRegion_code, left_on = 'WinTeam', right_on = 'Team', how = 'left')\n",
    "\n",
    "#clean dataframe\n",
    "df_team1and2_andwinner.drop(columns=[\"Team_x\",\"Team_y\",\"Team\"], inplace = True)\n",
    "df_team1and2_andwinner.rename(columns={'Region_x':'Region_T1','Team_abbr_x':'Team_T1','Region_code_x':'Region_code_T1','Region_y':'Region_T2','Team_abbr_y':'Team_T2','Region_code_y':'Region_code_T2','Region':'Region_Win','Team_abbr':'Team_Win','Region_code':'Region_code_Win'},inplace=True)\n",
    "\n",
    "df_team1and2_andwinner.head()"
   ]
  },
  {
   "cell_type": "markdown",
   "id": "3ec04f78-4b9f-4af0-b6f8-097e58f81d07",
   "metadata": {
    "tags": []
   },
   "source": [
    "## Add Blue/Red Side to Scoreboard"
   ]
  },
  {
   "cell_type": "code",
   "execution_count": 17,
   "id": "2503661e-e2ee-40d4-bcb2-0d74f1025699",
   "metadata": {
    "tags": []
   },
   "outputs": [],
   "source": [
    "#get if blue side or red side is winner\n",
    "for lab, row in df_team1and2_andwinner.iterrows():\n",
    "    if row[\"Team1\"] == row[\"WinTeam\"]:\n",
    "        df_team1and2_andwinner.loc[lab,\"Blue/Red\"] = \"Blue\"\n",
    "    else:\n",
    "        df_team1and2_andwinner.loc[lab,\"Blue/Red\"] = \"Red\"\n",
    "    \n",
    "df_team1and2_andwinner.head()\n",
    "\n",
    "#save to Scoreboard.csv and df_Scoreboard\n",
    "df_team1and2_andwinner.to_csv(\"Scoreboard.csv\", index=False)\n",
    "df_Scoreboard = pd.read_csv(\"Scoreboard.csv\")\n",
    "df_Scoreboard[[\"Region_code_T1\", \"Region_code_T2\",\"Region_code_Win\"]] = df_Scoreboard[[\"Region_code_T1\", \"Region_code_T2\",\"Region_code_Win\"]].fillna(\"NA\")\n",
    "df_Scoreboard.to_csv(\"Scoreboard.csv\", index=False)"
   ]
  },
  {
   "cell_type": "code",
   "execution_count": 18,
   "id": "8bdfc34d-69fb-4c70-b3a4-184aa37f2c7d",
   "metadata": {
    "tags": []
   },
   "outputs": [],
   "source": [
    "#replace SKT to T1\n",
    "df_Scoreboard = df_Scoreboard.replace(to_replace = \"SKT\", value = \"T1\")\n",
    "df_Scoreboard.to_csv(\"Scoreboard.csv\", index=False)"
   ]
  },
  {
   "cell_type": "markdown",
   "id": "0cb2acfe-99a1-44e7-8fc7-12731a71523a",
   "metadata": {
    "tags": []
   },
   "source": [
    "#"
   ]
  },
  {
   "cell_type": "markdown",
   "id": "0998fbc1-c74d-474e-9a68-88730de0e608",
   "metadata": {},
   "source": [
    "# Worlds Winners 2011 - 2022"
   ]
  },
  {
   "cell_type": "markdown",
   "id": "d0ce582f-8da5-4479-bd2e-985fad4ed107",
   "metadata": {
    "tags": []
   },
   "source": [
    "## Get Worlds Tournament only - original dataset contains regional finals"
   ]
  },
  {
   "cell_type": "code",
   "execution_count": 19,
   "id": "279f6c66-d646-4c30-80d9-e4b42be49edc",
   "metadata": {
    "tags": []
   },
   "outputs": [],
   "source": [
    "#I want to get the winners of all the Worlds Championships only\n",
    "#I can't filter from 'WCS' league because it randomly includes regional finals\n",
    "#But the tournaments that begin with \"Worlds\" can be identified\n",
    "df_Scoreboard_Worlds = df_Scoreboard[df_Scoreboard[\"Tournament\"].str.startswith(\"Worlds\")]\n",
    "df_Scoreboard_Worlds = df_Scoreboard_Worlds.reset_index(drop=True)\n",
    "df_Scoreboard_Worlds = df_Scoreboard_Worlds.drop_duplicates(keep=\"first\")\n",
    "df_Scoreboard_Worlds.head\n",
    "df_Scoreboard_Worlds.to_csv(\"Scoreboard_Worlds.csv\", index=False)"
   ]
  },
  {
   "cell_type": "markdown",
   "id": "b4a50715-f9de-4ea9-9df9-077648232adc",
   "metadata": {},
   "source": [
    "## Graph - Top 10 Team Winners in ALL matches of Worlds"
   ]
  },
  {
   "cell_type": "code",
   "execution_count": 20,
   "id": "f0e63afe-f37c-49ea-a322-8b1d9a2b1943",
   "metadata": {
    "tags": []
   },
   "outputs": [
    {
     "data": {
      "text/plain": [
       "<AxesSubplot: title={'center': 'Top 10 Teams'}, xlabel='Teams', ylabel='Matches won'>"
      ]
     },
     "execution_count": 20,
     "metadata": {},
     "output_type": "execute_result"
    },
    {
     "data": {
      "image/png": "[encoded data removed]",
      "text/plain": [
       "<Figure size 640x480 with 1 Axes>"
      ]
     },
     "metadata": {},
     "output_type": "display_data"
    }
   ],
   "source": [
    "#who won the most matches in Worlds Championship\n",
    "top_10_teams = (df_Scoreboard_Worlds['Team_Win'].value_counts()).iloc[:10]\n",
    "\n",
    "#create bar chart of top 10 teams\n",
    "top_10_teams.plot(kind='bar',title='Top 10 Teams', xlabel = \"Teams\", ylabel = \"Matches won\")"
   ]
  },
  {
   "cell_type": "markdown",
   "id": "665c48b6-6207-42e5-a44e-f3ad96cc1b3b",
   "metadata": {
    "tags": []
   },
   "source": [
    "## Graph - Top 10 Region Winners in ALL matches of Worlds"
   ]
  },
  {
   "cell_type": "code",
   "execution_count": 21,
   "id": "9c200da8-8bdc-408b-90e4-4529e052e6bc",
   "metadata": {
    "tags": []
   },
   "outputs": [
    {
     "data": {
      "text/plain": [
       "<AxesSubplot: title={'center': 'Top 10 Regions'}, xlabel='Regions', ylabel='Matches won'>"
      ]
     },
     "execution_count": 21,
     "metadata": {},
     "output_type": "execute_result"
    },
    {
     "data": {
      "image/png": "[encoded data removed]",
      "text/plain": [
       "<Figure size 640x480 with 1 Axes>"
      ]
     },
     "metadata": {},
     "output_type": "display_data"
    }
   ],
   "source": [
    "#who won the most matches in Worlds Championship\n",
    "top_10_regions = (df_Scoreboard_Worlds['Region_code_Win'].value_counts()).iloc[:10]\n",
    "\n",
    "#create bar chart of top 10 teams\n",
    "top_10_regions.plot(kind='bar',title='Top 10 Regions', xlabel = \"Regions\", ylabel = \"Matches won\")"
   ]
  },
  {
   "cell_type": "markdown",
   "id": "aeeb25b7-eb40-4560-8573-6c9de89bf396",
   "metadata": {},
   "source": [
    "## Get list of all World Winners - filter who won most matches in Finals"
   ]
  },
  {
   "cell_type": "code",
   "execution_count": 22,
   "id": "057b7ef5-b35b-4bc7-9b52-fa2a351ed147",
   "metadata": {
    "tags": []
   },
   "outputs": [],
   "source": [
    "#create function to get winner of each season/worlds \n",
    "def get_winner(year):\n",
    "    finals_year = df_Scoreboard_Worlds[df_Scoreboard_Worlds[\"Year\"]==year]\n",
    "    winner = finals_year[\"WinTeam\"].value_counts( ).idxmax()\n",
    "    return winner\n",
    "\n",
    "#create dictionary for Worlds Winners\n",
    "years = [i for i in range(2011,2023)]\n",
    "winners = []\n",
    "\n",
    "for i in range(2011,2023):\n",
    "    winners.append(get_winner(i))\n",
    "\n",
    "dict_worlds_winners = {}\n",
    "for i in range(len(years)):\n",
    "    dict_worlds_winners[years[i]] = winners[i]"
   ]
  },
  {
   "cell_type": "code",
   "execution_count": 23,
   "id": "fcb0f1b5-aa97-42ff-8c18-9418e732a5c9",
   "metadata": {
    "tags": []
   },
   "outputs": [],
   "source": [
    "#create dataframe from dictionary\n",
    "df_worlds_winners = pd.DataFrame(data = [dict_worlds_winners])\n",
    "df_worlds_winners = df_worlds_winners.transpose()\n",
    "df_worlds_winners.reset_index(inplace=True)\n",
    "df_worlds_winners.columns = [\"Year\",\"Winner\"]\n",
    "df_worlds_winners.to_csv(\"Worlds_Winners.csv\",index=False) \n",
    "\n",
    "#merge with TeamRegion to get Region_code\n",
    "df_worlds_winners = df_worlds_winners.merge(df_TeamRegion_code, left_on = \"Winner\", right_on = \"Team\", how = \"left\")\n",
    "df_worlds_winners = df_worlds_winners.drop(columns=\"Team\")\n",
    "df_worlds_winners.head()\n",
    "df_worlds_winners.to_csv(\"Worlds_Winners.csv\",index=False)"
   ]
  },
  {
   "cell_type": "markdown",
   "id": "e2f827f4-1819-404a-ae0c-3a4448f7f6b5",
   "metadata": {},
   "source": [
    "## Graph - Frequency of Worlds Winner : Teams "
   ]
  },
  {
   "cell_type": "code",
   "execution_count": 24,
   "id": "e3bfb348-ddd0-4b64-a53c-f9a498046959",
   "metadata": {
    "tags": []
   },
   "outputs": [
    {
     "data": {
      "text/plain": [
       "([<matplotlib.axis.YTick at 0x160a8647a90>,\n",
       "  <matplotlib.axis.YTick at 0x160a8647400>,\n",
       "  <matplotlib.axis.YTick at 0x160a78e43d0>,\n",
       "  <matplotlib.axis.YTick at 0x160a8c137c0>],\n",
       " [Text(0, 0, '0'), Text(0, 1, '1'), Text(0, 2, '2'), Text(0, 3, '3')])"
      ]
     },
     "execution_count": 24,
     "metadata": {},
     "output_type": "execute_result"
    },
    {
     "data": {
      "image/png": "[encoded data removed]",
      "text/plain": [
       "<Figure size 1000x500 with 1 Axes>"
      ]
     },
     "metadata": {},
     "output_type": "display_data"
    }
   ],
   "source": [
    "#Plot frequencies of team winners\n",
    "fig, ax = plt.subplots()\n",
    "\n",
    "ax = df_worlds_winners[\"Team_abbr\"].value_counts().plot(kind='bar',\n",
    "                                    figsize=(10,5),\n",
    "                                    title=\"LoL Worlds Winners - Teams\")\n",
    "ax.set_xlabel(\"Teams\")\n",
    "ax.set_ylabel(\"Frequency\")\n",
    "\n",
    "plt.yticks(np.arange(0, 4, 1))"
   ]
  },
  {
   "cell_type": "markdown",
   "id": "2df732c7-f4eb-4a54-bc8a-6ce2be589288",
   "metadata": {},
   "source": [
    "## Graph - Frequency of Worlds Winner : Regions "
   ]
  },
  {
   "cell_type": "code",
   "execution_count": 25,
   "id": "88dde8bf-41f6-4c47-91f8-fcc9d1bc55ef",
   "metadata": {
    "tags": []
   },
   "outputs": [
    {
     "data": {
      "text/plain": [
       "([<matplotlib.axis.YTick at 0x160a8669940>,\n",
       "  <matplotlib.axis.YTick at 0x160a86699d0>,\n",
       "  <matplotlib.axis.YTick at 0x160a8c5c9a0>,\n",
       "  <matplotlib.axis.YTick at 0x160a8c85f40>,\n",
       "  <matplotlib.axis.YTick at 0x160a8c2f0d0>,\n",
       "  <matplotlib.axis.YTick at 0x160a8c8b880>,\n",
       "  <matplotlib.axis.YTick at 0x160a8c90370>,\n",
       "  <matplotlib.axis.YTick at 0x160a8c90e20>,\n",
       "  <matplotlib.axis.YTick at 0x160a8c94910>,\n",
       "  <matplotlib.axis.YTick at 0x160a8c8ba30>],\n",
       " [Text(0, 0, '0'),\n",
       "  Text(0, 1, '1'),\n",
       "  Text(0, 2, '2'),\n",
       "  Text(0, 3, '3'),\n",
       "  Text(0, 4, '4'),\n",
       "  Text(0, 5, '5'),\n",
       "  Text(0, 6, '6'),\n",
       "  Text(0, 7, '7'),\n",
       "  Text(0, 8, '8'),\n",
       "  Text(0, 9, '9')])"
      ]
     },
     "execution_count": 25,
     "metadata": {},
     "output_type": "execute_result"
    },
    {
     "data": {
      "image/png": "[encoded data removed]",
      "text/plain": [
       "<Figure size 1000x500 with 1 Axes>"
      ]
     },
     "metadata": {},
     "output_type": "display_data"
    }
   ],
   "source": [
    "#Plot frequencies of region winners\n",
    "fig, ax = plt.subplots()\n",
    "\n",
    "ax = df_worlds_winners[\"Region_code\"].value_counts().plot(kind='bar',\n",
    "                                    figsize=(10,5),\n",
    "                                    title=\"LoL Worlds Winners - Regions\")\n",
    "ax.set_xlabel(\"Regions\")\n",
    "ax.set_ylabel(\"Frequency\")\n",
    "\n",
    "plt.yticks(np.arange(0, 10, 1))"
   ]
  },
  {
   "cell_type": "markdown",
   "id": "5bd50316-e58b-4064-a7c1-8840b866cfb7",
   "metadata": {},
   "source": [
    "## Get Participation of Regions in Worlds\n",
    "- to show that Korea participated later but won a lot more matches/worlds finals\n"
   ]
  },
  {
   "cell_type": "markdown",
   "id": "983c215e-e09d-420f-9588-ea55e28be722",
   "metadata": {},
   "source": [
    "## Group by years and find out region participation"
   ]
  },
  {
   "cell_type": "code",
   "execution_count": 26,
   "id": "83c74dbb-417d-407f-849e-24c8aa2b7ab6",
   "metadata": {
    "tags": []
   },
   "outputs": [
    {
     "data": {
      "text/html": [
       "<div>\n",
       "<style scoped>\n",
       "    .dataframe tbody tr th:only-of-type {\n",
       "        vertical-align: middle;\n",
       "    }\n",
       "\n",
       "    .dataframe tbody tr th {\n",
       "        vertical-align: top;\n",
       "    }\n",
       "\n",
       "    .dataframe thead th {\n",
       "        text-align: right;\n",
       "    }\n",
       "</style>\n",
       "<table border=\"1\" class=\"dataframe\">\n",
       "  <thead>\n",
       "    <tr style=\"text-align: right;\">\n",
       "      <th></th>\n",
       "      <th></th>\n",
       "      <th>Participation_counts</th>\n",
       "    </tr>\n",
       "    <tr>\n",
       "      <th>Year</th>\n",
       "      <th>Region_Participation</th>\n",
       "      <th></th>\n",
       "    </tr>\n",
       "  </thead>\n",
       "  <tbody>\n",
       "    <tr>\n",
       "      <th rowspan=\"3\" valign=\"top\">2011</th>\n",
       "      <th>EMEA</th>\n",
       "      <td>28.0</td>\n",
       "    </tr>\n",
       "    <tr>\n",
       "      <th>NA</th>\n",
       "      <td>22.0</td>\n",
       "    </tr>\n",
       "    <tr>\n",
       "      <th>PCS</th>\n",
       "      <td>0.0</td>\n",
       "    </tr>\n",
       "    <tr>\n",
       "      <th rowspan=\"2\" valign=\"top\">2012</th>\n",
       "      <th>CN</th>\n",
       "      <td>8.0</td>\n",
       "    </tr>\n",
       "    <tr>\n",
       "      <th>EMEA</th>\n",
       "      <td>12.0</td>\n",
       "    </tr>\n",
       "    <tr>\n",
       "      <th>...</th>\n",
       "      <th>...</th>\n",
       "      <td>...</td>\n",
       "    </tr>\n",
       "    <tr>\n",
       "      <th rowspan=\"5\" valign=\"top\">2022</th>\n",
       "      <th>KR</th>\n",
       "      <td>72.0</td>\n",
       "    </tr>\n",
       "    <tr>\n",
       "      <th>LAT</th>\n",
       "      <td>5.0</td>\n",
       "    </tr>\n",
       "    <tr>\n",
       "      <th>NA</th>\n",
       "      <td>28.0</td>\n",
       "    </tr>\n",
       "    <tr>\n",
       "      <th>PCS</th>\n",
       "      <td>16.0</td>\n",
       "    </tr>\n",
       "    <tr>\n",
       "      <th>VN</th>\n",
       "      <td>15.0</td>\n",
       "    </tr>\n",
       "  </tbody>\n",
       "</table>\n",
       "<p>93 rows × 1 columns</p>\n",
       "</div>"
      ],
      "text/plain": [
       "                           Participation_counts\n",
       "Year Region_Participation                      \n",
       "2011 EMEA                                  28.0\n",
       "     NA                                    22.0\n",
       "     PCS                                    0.0\n",
       "2012 CN                                     8.0\n",
       "     EMEA                                  12.0\n",
       "...                                         ...\n",
       "2022 KR                                    72.0\n",
       "     LAT                                    5.0\n",
       "     NA                                    28.0\n",
       "     PCS                                   16.0\n",
       "     VN                                    15.0\n",
       "\n",
       "[93 rows x 1 columns]"
      ]
     },
     "execution_count": 26,
     "metadata": {},
     "output_type": "execute_result"
    }
   ],
   "source": [
    "#concatenate teams 1 and 2 for full partcipation\n",
    "data1 = df_Scoreboard_Worlds.groupby([\"Year\",\"Region_code_T1\"])[\"Region_code_T1\"].count()\n",
    "data2 = df_Scoreboard_Worlds.groupby([\"Year\",\"Region_code_T2\"])[\"Region_code_T2\"].count()\n",
    "data = pd.concat([data1,data2],axis=1)\n",
    "df_participation = pd.DataFrame(data)\n",
    "df_participation[\"Region_T1_T2\"]=df_participation[\"Region_code_T1\"] + df_participation[\"Region_code_T2\"] \n",
    "df_participation= df_participation.reset_index()\n",
    "df_participation.rename(columns={df_participation.columns[1]:\"Region_Participation\",df_participation.columns[4]:\"Participation_counts\"},inplace=True)\n",
    "df_participation.head()\n",
    "\n",
    "#groupby years and regions\n",
    "participation_data = df_participation.groupby([\"Year\",\"Region_Participation\"])[\"Participation_counts\"].sum()\n",
    "participation_data\n",
    "\n",
    "df_participation_data = pd.DataFrame(participation_data)\n",
    "df_participation_data"
   ]
  },
  {
   "cell_type": "code",
   "execution_count": 27,
   "id": "08ed639c-6f1f-41e5-8590-4b4856d6d2fe",
   "metadata": {
    "tags": []
   },
   "outputs": [
    {
     "data": {
      "text/html": [
       "<div>\n",
       "<style scoped>\n",
       "    .dataframe tbody tr th:only-of-type {\n",
       "        vertical-align: middle;\n",
       "    }\n",
       "\n",
       "    .dataframe tbody tr th {\n",
       "        vertical-align: top;\n",
       "    }\n",
       "\n",
       "    .dataframe thead th {\n",
       "        text-align: right;\n",
       "    }\n",
       "</style>\n",
       "<table border=\"1\" class=\"dataframe\">\n",
       "  <thead>\n",
       "    <tr style=\"text-align: right;\">\n",
       "      <th></th>\n",
       "      <th></th>\n",
       "      <th>Win_counts</th>\n",
       "      <th>Participation_counts</th>\n",
       "    </tr>\n",
       "    <tr>\n",
       "      <th>Region_code</th>\n",
       "      <th>Year</th>\n",
       "      <th></th>\n",
       "      <th></th>\n",
       "    </tr>\n",
       "  </thead>\n",
       "  <tbody>\n",
       "    <tr>\n",
       "      <th>EMEA</th>\n",
       "      <th>2011</th>\n",
       "      <td>16</td>\n",
       "      <td>28.0</td>\n",
       "    </tr>\n",
       "    <tr>\n",
       "      <th>NA</th>\n",
       "      <th>2011</th>\n",
       "      <td>11</td>\n",
       "      <td>22.0</td>\n",
       "    </tr>\n",
       "    <tr>\n",
       "      <th>PCS</th>\n",
       "      <th>2011</th>\n",
       "      <td>1</td>\n",
       "      <td>0.0</td>\n",
       "    </tr>\n",
       "    <tr>\n",
       "      <th>CN</th>\n",
       "      <th>2012</th>\n",
       "      <td>3</td>\n",
       "      <td>8.0</td>\n",
       "    </tr>\n",
       "    <tr>\n",
       "      <th>EMEA</th>\n",
       "      <th>2012</th>\n",
       "      <td>5</td>\n",
       "      <td>12.0</td>\n",
       "    </tr>\n",
       "  </tbody>\n",
       "</table>\n",
       "</div>"
      ],
      "text/plain": [
       "                  Win_counts  Participation_counts\n",
       "Region_code Year                                  \n",
       "EMEA        2011          16                  28.0\n",
       "NA          2011          11                  22.0\n",
       "PCS         2011           1                   0.0\n",
       "CN          2012           3                   8.0\n",
       "EMEA        2012           5                  12.0"
      ]
     },
     "execution_count": 27,
     "metadata": {},
     "output_type": "execute_result"
    }
   ],
   "source": [
    "#compare participation vs wins\n",
    "\n",
    "#group regions and count wins per region\n",
    "wins = df_Scoreboard_Worlds.groupby([\"Year\",\"Region_code_Win\"])[\"Region_code_Win\"].count()\n",
    "\n",
    "#table for counting wins per region\n",
    "dfwins = pd.DataFrame(wins)\n",
    "dfwins.rename(columns={\"Region_code_Win\":\"Win_counts\"},inplace=True)\n",
    "dfwins = dfwins.reset_index()\n",
    "dfwins.rename(columns={\"Region_code_Win\":\"Region_code\"},inplace=True)\n",
    "dfwins.head()\n",
    "\n",
    "#table for counting participation per region\n",
    "dfparticipation = pd.DataFrame(participation_data)\n",
    "dfparticipation = dfparticipation.reset_index()\n",
    "dfparticipation.rename(columns={\"Region_Participation\":\"Region_code\"},inplace=True)\n",
    "dfparticipation.head()\n",
    "\n",
    "#merge tables to compare participation vs win counts\n",
    "dfcompare_part_wins = dfwins.merge(dfparticipation, on = [\"Year\",\"Region_code\"], how = \"left\")\n",
    "dfcompare_part_wins = dfcompare_part_wins.set_index([\"Region_code\",\"Year\"])\n",
    "dfcompare_part_wins.head()"
   ]
  },
  {
   "cell_type": "code",
   "execution_count": 28,
   "id": "3d9369c1-ae03-4e8f-b95d-716b94ca427f",
   "metadata": {
    "tags": []
   },
   "outputs": [
    {
     "data": {
      "text/plain": [
       "<AxesSubplot: title={'center': 'KR'}, xlabel='Year'>"
      ]
     },
     "execution_count": 28,
     "metadata": {},
     "output_type": "execute_result"
    },
    {
     "data": {
      "image/png": "[encoded data removed]",
      "text/plain": [
       "<Figure size 640x480 with 1 Axes>"
      ]
     },
     "metadata": {},
     "output_type": "display_data"
    }
   ],
   "source": [
    "#Graph for participation vs wins\n",
    "\n",
    "#sample graph for Korea\n",
    "dfcompare_part_wins_KR = dfcompare_part_wins.loc[\"KR\"]\n",
    "dfcompare_part_wins_KR.plot(kind=\"bar\", title=\"KR\")"
   ]
  },
  {
   "cell_type": "code",
   "execution_count": 29,
   "id": "e648d81d-0fa4-4468-bb65-7d5c89b7dd60",
   "metadata": {
    "tags": []
   },
   "outputs": [
    {
     "data": {
      "text/html": [
       "<div>\n",
       "<style scoped>\n",
       "    .dataframe tbody tr th:only-of-type {\n",
       "        vertical-align: middle;\n",
       "    }\n",
       "\n",
       "    .dataframe tbody tr th {\n",
       "        vertical-align: top;\n",
       "    }\n",
       "\n",
       "    .dataframe thead th {\n",
       "        text-align: right;\n",
       "    }\n",
       "</style>\n",
       "<table border=\"1\" class=\"dataframe\">\n",
       "  <thead>\n",
       "    <tr style=\"text-align: right;\">\n",
       "      <th></th>\n",
       "      <th>Regions</th>\n",
       "      <th>Ratio</th>\n",
       "    </tr>\n",
       "  </thead>\n",
       "  <tbody>\n",
       "    <tr>\n",
       "      <th>0</th>\n",
       "      <td>EMEA</td>\n",
       "      <td>0.465486</td>\n",
       "    </tr>\n",
       "    <tr>\n",
       "      <th>1</th>\n",
       "      <td>BR</td>\n",
       "      <td>0.259259</td>\n",
       "    </tr>\n",
       "    <tr>\n",
       "      <th>2</th>\n",
       "      <td>CN</td>\n",
       "      <td>0.558659</td>\n",
       "    </tr>\n",
       "    <tr>\n",
       "      <th>3</th>\n",
       "      <td>INT</td>\n",
       "      <td>0.343372</td>\n",
       "    </tr>\n",
       "    <tr>\n",
       "      <th>4</th>\n",
       "      <td>JP</td>\n",
       "      <td>0.312727</td>\n",
       "    </tr>\n",
       "    <tr>\n",
       "      <th>5</th>\n",
       "      <td>KR</td>\n",
       "      <td>0.663383</td>\n",
       "    </tr>\n",
       "    <tr>\n",
       "      <th>6</th>\n",
       "      <td>LAT</td>\n",
       "      <td>0.272143</td>\n",
       "    </tr>\n",
       "    <tr>\n",
       "      <th>7</th>\n",
       "      <td>NA</td>\n",
       "      <td>0.412855</td>\n",
       "    </tr>\n",
       "    <tr>\n",
       "      <th>8</th>\n",
       "      <td>PCS</td>\n",
       "      <td>inf</td>\n",
       "    </tr>\n",
       "    <tr>\n",
       "      <th>9</th>\n",
       "      <td>VN</td>\n",
       "      <td>0.292857</td>\n",
       "    </tr>\n",
       "  </tbody>\n",
       "</table>\n",
       "</div>"
      ],
      "text/plain": [
       "  Regions     Ratio\n",
       "0    EMEA  0.465486\n",
       "1      BR  0.259259\n",
       "2      CN  0.558659\n",
       "3     INT  0.343372\n",
       "4      JP  0.312727\n",
       "5      KR  0.663383\n",
       "6     LAT  0.272143\n",
       "7      NA  0.412855\n",
       "8     PCS       inf\n",
       "9      VN  0.292857"
      ]
     },
     "execution_count": 29,
     "metadata": {},
     "output_type": "execute_result"
    }
   ],
   "source": [
    "#ratio of participation vs wins\n",
    "list_regions = list(df_Region_code[\"Region_code\"].unique())\n",
    "list_regions\n",
    "\n",
    "#define function for getting wins/participation counts\n",
    "def get_part_win_ratio(region):\n",
    "    part_wins_ratio = dfcompare_part_wins.loc[region][\"Win_counts\"]/dfcompare_part_wins.loc[region][\"Participation_counts\"]\n",
    "    return part_wins_ratio.mean()\n",
    "\n",
    "\n",
    "#make table of region vs ratio\n",
    "df_ratios = pd.DataFrame()\n",
    "df_ratios[\"Regions\"]=list_regions\n",
    "df_ratios[\"Ratio\"] = df_ratios[\"Regions\"].apply(get_part_win_ratio)\n",
    "    \n",
    "df_ratios"
   ]
  },
  {
   "cell_type": "code",
   "execution_count": 30,
   "id": "9073100e-9517-4dd4-92d4-1cbabf30b6a7",
   "metadata": {
    "tags": []
   },
   "outputs": [
    {
     "data": {
      "text/plain": [
       "Year\n",
       "2011         inf\n",
       "2012    0.333333\n",
       "2014    0.428571\n",
       "2015    0.250000\n",
       "2016    0.500000\n",
       "2017    0.315789\n",
       "2018    0.363636\n",
       "2019    0.342857\n",
       "2020    0.400000\n",
       "2021    0.419355\n",
       "2022    0.187500\n",
       "dtype: float64"
      ]
     },
     "execution_count": 30,
     "metadata": {},
     "output_type": "execute_result"
    }
   ],
   "source": [
    "#inspect why PCS mean ratio is 'inf'\n",
    "df_part_wins_ratio_PCS = dfcompare_part_wins.loc[\"PCS\"][\"Win_counts\"]/dfcompare_part_wins.loc[\"PCS\"][\"Participation_counts\"]\n",
    "df_part_wins_ratio_PCS"
   ]
  },
  {
   "cell_type": "code",
   "execution_count": 31,
   "id": "542b9eaf-f925-4505-846d-cf32c3e06820",
   "metadata": {
    "tags": []
   },
   "outputs": [
    {
     "data": {
      "text/html": [
       "<div>\n",
       "<style scoped>\n",
       "    .dataframe tbody tr th:only-of-type {\n",
       "        vertical-align: middle;\n",
       "    }\n",
       "\n",
       "    .dataframe tbody tr th {\n",
       "        vertical-align: top;\n",
       "    }\n",
       "\n",
       "    .dataframe thead th {\n",
       "        text-align: right;\n",
       "    }\n",
       "</style>\n",
       "<table border=\"1\" class=\"dataframe\">\n",
       "  <thead>\n",
       "    <tr style=\"text-align: right;\">\n",
       "      <th></th>\n",
       "      <th>Regions</th>\n",
       "      <th>Ratio</th>\n",
       "    </tr>\n",
       "  </thead>\n",
       "  <tbody>\n",
       "    <tr>\n",
       "      <th>0</th>\n",
       "      <td>EMEA</td>\n",
       "      <td>0.465486</td>\n",
       "    </tr>\n",
       "    <tr>\n",
       "      <th>1</th>\n",
       "      <td>BR</td>\n",
       "      <td>0.259259</td>\n",
       "    </tr>\n",
       "    <tr>\n",
       "      <th>2</th>\n",
       "      <td>CN</td>\n",
       "      <td>0.558659</td>\n",
       "    </tr>\n",
       "    <tr>\n",
       "      <th>3</th>\n",
       "      <td>INT</td>\n",
       "      <td>0.343372</td>\n",
       "    </tr>\n",
       "    <tr>\n",
       "      <th>4</th>\n",
       "      <td>JP</td>\n",
       "      <td>0.312727</td>\n",
       "    </tr>\n",
       "    <tr>\n",
       "      <th>5</th>\n",
       "      <td>KR</td>\n",
       "      <td>0.663383</td>\n",
       "    </tr>\n",
       "    <tr>\n",
       "      <th>6</th>\n",
       "      <td>LAT</td>\n",
       "      <td>0.272143</td>\n",
       "    </tr>\n",
       "    <tr>\n",
       "      <th>7</th>\n",
       "      <td>NA</td>\n",
       "      <td>0.412855</td>\n",
       "    </tr>\n",
       "    <tr>\n",
       "      <th>8</th>\n",
       "      <td>PCS</td>\n",
       "      <td>0.354104</td>\n",
       "    </tr>\n",
       "    <tr>\n",
       "      <th>9</th>\n",
       "      <td>VN</td>\n",
       "      <td>0.292857</td>\n",
       "    </tr>\n",
       "  </tbody>\n",
       "</table>\n",
       "</div>"
      ],
      "text/plain": [
       "  Regions     Ratio\n",
       "0    EMEA  0.465486\n",
       "1      BR  0.259259\n",
       "2      CN  0.558659\n",
       "3     INT  0.343372\n",
       "4      JP  0.312727\n",
       "5      KR  0.663383\n",
       "6     LAT  0.272143\n",
       "7      NA  0.412855\n",
       "8     PCS  0.354104\n",
       "9      VN  0.292857"
      ]
     },
     "execution_count": 31,
     "metadata": {},
     "output_type": "execute_result"
    }
   ],
   "source": [
    "#remove inf (0/0) from PCS because that's where the inf comes from\n",
    "df_part_wins_ratio_PCS.replace([np.inf, -np.inf], np.nan, inplace=True)\n",
    "df_part_wins_ratio_PCS.dropna(inplace=True)\n",
    "df_part_wins_ratio_PCS.mean()\n",
    "\n",
    "#replace PCS mean ratio in table\n",
    "df_ratios.at[8,\"Ratio\"] = df_part_wins_ratio_PCS.mean()\n",
    "df_ratios"
   ]
  },
  {
   "cell_type": "code",
   "execution_count": null,
   "id": "3dbd0a41-a01f-4bb8-be76-3dafd6cdf9a1",
   "metadata": {},
   "outputs": [],
   "source": [
    "#can see that KR and CN has participation to win ratio > 50%\n",
    "#also they have most wins in Worlds\n",
    "#will also look at EMEA and NA"
   ]
  },
  {
   "cell_type": "code",
   "execution_count": 32,
   "id": "a05af796-f3ef-4954-8b5f-f5f041a96e90",
   "metadata": {
    "tags": []
   },
   "outputs": [
    {
     "data": {
      "text/html": [
       "<div>\n",
       "<style scoped>\n",
       "    .dataframe tbody tr th:only-of-type {\n",
       "        vertical-align: middle;\n",
       "    }\n",
       "\n",
       "    .dataframe tbody tr th {\n",
       "        vertical-align: top;\n",
       "    }\n",
       "\n",
       "    .dataframe thead th {\n",
       "        text-align: right;\n",
       "    }\n",
       "</style>\n",
       "<table border=\"1\" class=\"dataframe\">\n",
       "  <thead>\n",
       "    <tr style=\"text-align: right;\">\n",
       "      <th>Year</th>\n",
       "      <th>2011</th>\n",
       "      <th>2012</th>\n",
       "      <th>2013</th>\n",
       "      <th>2014</th>\n",
       "      <th>2015</th>\n",
       "      <th>2016</th>\n",
       "      <th>2017</th>\n",
       "      <th>2018</th>\n",
       "      <th>2019</th>\n",
       "      <th>2020</th>\n",
       "      <th>2021</th>\n",
       "      <th>2022</th>\n",
       "    </tr>\n",
       "    <tr>\n",
       "      <th>Region_code</th>\n",
       "      <th></th>\n",
       "      <th></th>\n",
       "      <th></th>\n",
       "      <th></th>\n",
       "      <th></th>\n",
       "      <th></th>\n",
       "      <th></th>\n",
       "      <th></th>\n",
       "      <th></th>\n",
       "      <th></th>\n",
       "      <th></th>\n",
       "      <th></th>\n",
       "    </tr>\n",
       "  </thead>\n",
       "  <tbody>\n",
       "    <tr>\n",
       "      <th>BR</th>\n",
       "      <td>0</td>\n",
       "      <td>0</td>\n",
       "      <td>0</td>\n",
       "      <td>6</td>\n",
       "      <td>6</td>\n",
       "      <td>6</td>\n",
       "      <td>9</td>\n",
       "      <td>5</td>\n",
       "      <td>5</td>\n",
       "      <td>5</td>\n",
       "      <td>9</td>\n",
       "      <td>10</td>\n",
       "    </tr>\n",
       "    <tr>\n",
       "      <th>CN</th>\n",
       "      <td>0</td>\n",
       "      <td>8</td>\n",
       "      <td>19</td>\n",
       "      <td>46</td>\n",
       "      <td>21</td>\n",
       "      <td>27</td>\n",
       "      <td>43</td>\n",
       "      <td>47</td>\n",
       "      <td>38</td>\n",
       "      <td>61</td>\n",
       "      <td>51</td>\n",
       "      <td>50</td>\n",
       "    </tr>\n",
       "    <tr>\n",
       "      <th>EMEA</th>\n",
       "      <td>28</td>\n",
       "      <td>12</td>\n",
       "      <td>35</td>\n",
       "      <td>24</td>\n",
       "      <td>31</td>\n",
       "      <td>25</td>\n",
       "      <td>52</td>\n",
       "      <td>56</td>\n",
       "      <td>56</td>\n",
       "      <td>53</td>\n",
       "      <td>34</td>\n",
       "      <td>44</td>\n",
       "    </tr>\n",
       "    <tr>\n",
       "      <th>INT</th>\n",
       "      <td>0</td>\n",
       "      <td>14</td>\n",
       "      <td>10</td>\n",
       "      <td>6</td>\n",
       "      <td>10</td>\n",
       "      <td>16</td>\n",
       "      <td>17</td>\n",
       "      <td>22</td>\n",
       "      <td>11</td>\n",
       "      <td>14</td>\n",
       "      <td>5</td>\n",
       "      <td>0</td>\n",
       "    </tr>\n",
       "    <tr>\n",
       "      <th>JP</th>\n",
       "      <td>0</td>\n",
       "      <td>0</td>\n",
       "      <td>0</td>\n",
       "      <td>0</td>\n",
       "      <td>0</td>\n",
       "      <td>0</td>\n",
       "      <td>0</td>\n",
       "      <td>8</td>\n",
       "      <td>4</td>\n",
       "      <td>5</td>\n",
       "      <td>11</td>\n",
       "      <td>14</td>\n",
       "    </tr>\n",
       "    <tr>\n",
       "      <th>KR</th>\n",
       "      <td>0</td>\n",
       "      <td>17</td>\n",
       "      <td>35</td>\n",
       "      <td>40</td>\n",
       "      <td>43</td>\n",
       "      <td>53</td>\n",
       "      <td>44</td>\n",
       "      <td>26</td>\n",
       "      <td>43</td>\n",
       "      <td>35</td>\n",
       "      <td>66</td>\n",
       "      <td>72</td>\n",
       "    </tr>\n",
       "    <tr>\n",
       "      <th>LAT</th>\n",
       "      <td>0</td>\n",
       "      <td>0</td>\n",
       "      <td>0</td>\n",
       "      <td>0</td>\n",
       "      <td>0</td>\n",
       "      <td>0</td>\n",
       "      <td>4</td>\n",
       "      <td>12</td>\n",
       "      <td>8</td>\n",
       "      <td>7</td>\n",
       "      <td>0</td>\n",
       "      <td>5</td>\n",
       "    </tr>\n",
       "    <tr>\n",
       "      <th>NA</th>\n",
       "      <td>22</td>\n",
       "      <td>8</td>\n",
       "      <td>19</td>\n",
       "      <td>27</td>\n",
       "      <td>19</td>\n",
       "      <td>21</td>\n",
       "      <td>32</td>\n",
       "      <td>34</td>\n",
       "      <td>26</td>\n",
       "      <td>23</td>\n",
       "      <td>31</td>\n",
       "      <td>28</td>\n",
       "    </tr>\n",
       "    <tr>\n",
       "      <th>PCS</th>\n",
       "      <td>0</td>\n",
       "      <td>3</td>\n",
       "      <td>0</td>\n",
       "      <td>7</td>\n",
       "      <td>16</td>\n",
       "      <td>6</td>\n",
       "      <td>19</td>\n",
       "      <td>22</td>\n",
       "      <td>35</td>\n",
       "      <td>25</td>\n",
       "      <td>31</td>\n",
       "      <td>16</td>\n",
       "    </tr>\n",
       "    <tr>\n",
       "      <th>VN</th>\n",
       "      <td>0</td>\n",
       "      <td>0</td>\n",
       "      <td>0</td>\n",
       "      <td>0</td>\n",
       "      <td>0</td>\n",
       "      <td>0</td>\n",
       "      <td>14</td>\n",
       "      <td>6</td>\n",
       "      <td>14</td>\n",
       "      <td>0</td>\n",
       "      <td>0</td>\n",
       "      <td>15</td>\n",
       "    </tr>\n",
       "  </tbody>\n",
       "</table>\n",
       "</div>"
      ],
      "text/plain": [
       "Year         2011  2012  2013  2014  2015  2016  2017  2018  2019  2020  2021  \\\n",
       "Region_code                                                                     \n",
       "BR              0     0     0     6     6     6     9     5     5     5     9   \n",
       "CN              0     8    19    46    21    27    43    47    38    61    51   \n",
       "EMEA           28    12    35    24    31    25    52    56    56    53    34   \n",
       "INT             0    14    10     6    10    16    17    22    11    14     5   \n",
       "JP              0     0     0     0     0     0     0     8     4     5    11   \n",
       "KR              0    17    35    40    43    53    44    26    43    35    66   \n",
       "LAT             0     0     0     0     0     0     4    12     8     7     0   \n",
       "NA             22     8    19    27    19    21    32    34    26    23    31   \n",
       "PCS             0     3     0     7    16     6    19    22    35    25    31   \n",
       "VN              0     0     0     0     0     0    14     6    14     0     0   \n",
       "\n",
       "Year         2022  \n",
       "Region_code        \n",
       "BR             10  \n",
       "CN             50  \n",
       "EMEA           44  \n",
       "INT             0  \n",
       "JP             14  \n",
       "KR             72  \n",
       "LAT             5  \n",
       "NA             28  \n",
       "PCS            16  \n",
       "VN             15  "
      ]
     },
     "execution_count": 32,
     "metadata": {},
     "output_type": "execute_result"
    }
   ],
   "source": [
    "#dfparticipation_finals = dfparticipation_finals.reset_index()\n",
    "piv_participation_finals = pd.pivot_table(dfcompare_part_wins, index=\"Region_code\",columns=\"Year\",values=\"Participation_counts\", fill_value=0)\n",
    "piv_participation_finals\n",
    "\n",
    "#can see that KR, CN and EMEA has similar number of teams playing in recent 5Y *knockout stage* matches"
   ]
  },
  {
   "cell_type": "markdown",
   "id": "0677c518-b99e-40a8-b8ad-7ff2ac7c3c56",
   "metadata": {},
   "source": [
    "## Decide to only look at KR, CN, EMEA as a result of analysis:\n",
    "- Worlds Winners region frequency\n",
    "- Match winners region frequency\n",
    "- Entering finals (knockout stage) region frequency"
   ]
  },
  {
   "cell_type": "markdown",
   "id": "1059e83e-c1f3-475c-8186-7e04f24cbf14",
   "metadata": {},
   "source": [
    "# "
   ]
  },
  {
   "cell_type": "markdown",
   "id": "badb0692-e905-40c3-91f6-020ddb0caff8",
   "metadata": {},
   "source": [
    "## Get KR, CN and EMEA top x teams to qualify to Swiss Round\n",
    "- Get top x teams to qualify to Swiss Round by Win-to-Participation Ratio (where teams have played > y matches)\n",
    "- KR(LCK) has 4 teams qualifying, CN(LPL) 4, EMEA(LEC) 3"
   ]
  },
  {
   "cell_type": "code",
   "execution_count": 56,
   "id": "a8395738-4488-492e-8a4d-1a3bcd1841eb",
   "metadata": {
    "tags": []
   },
   "outputs": [],
   "source": [
    "def get_top_x_teams(league,x, y=100):\n",
    "    \n",
    "    df_Scoreboard_TL = df_Scoreboard[df_Scoreboard[\"League\"]==league]\n",
    "\n",
    "    #wins table\n",
    "    teams_wins = df_Scoreboard_TL.groupby([\"Team_Win\"])[\"Team_Win\"].count()\n",
    "    teams_wins.name=\"Win_Counts\"\n",
    "    df_teams_wins = pd.DataFrame(teams_wins)\n",
    "    df_teams_wins = df_teams_wins.reset_index()\n",
    "    df_teams_wins.rename(columns={\"Team_Win\":\"Team\"},inplace=True)\n",
    "\n",
    "    #participation table\n",
    "    teams_T1 =  df_Scoreboard_TL.groupby([\"Team_T1\"])[\"Team_T1\"].count()\n",
    "    teams_T2 = df_Scoreboard_TL.groupby([\"Team_T2\"])[\"Team_T2\"].count()\n",
    "    teams_part = pd.concat([teams_T1,teams_T2],axis=1)\n",
    "    df_teams_part = pd.DataFrame(teams_part)\n",
    "    df_teams_part[\"Participation_Counts\"]=df_teams_part[\"Team_T1\"] + df_teams_part[\"Team_T2\"] \n",
    "    df_teams_part = df_teams_part.drop(columns=[\"Team_T1\",\"Team_T2\"])\n",
    "    df_teams_part = df_teams_part.reset_index()\n",
    "    df_teams_part.rename(columns={df_teams_part.columns[0]:\"Team\"},inplace=True)\n",
    "\n",
    "    #merge\n",
    "    teams = df_teams_part.merge(df_teams_wins, on = \"Team\", how = \"left\")\n",
    "    teams = teams[teams[\"Participation_Counts\"]>y] #count only teams who have played more than 100 matches\n",
    "    teams[\"Ratio\"] = (teams[\"Win_Counts\"]/teams[\"Participation_Counts\"]*100).round(1).astype(str) + '%'\n",
    "    teams = teams.sort_values(\"Ratio\",ascending=False)\n",
    "\n",
    "    #get top x teams - by wintopart ratio\n",
    "    return teams[0:x]"
   ]
  },
  {
   "cell_type": "code",
   "execution_count": 62,
   "id": "bc0ab934-5132-4129-bd70-8cc063a44cba",
   "metadata": {
    "tags": []
   },
   "outputs": [
    {
     "data": {
      "text/html": [
       "<div>\n",
       "<style scoped>\n",
       "    .dataframe tbody tr th:only-of-type {\n",
       "        vertical-align: middle;\n",
       "    }\n",
       "\n",
       "    .dataframe tbody tr th {\n",
       "        vertical-align: top;\n",
       "    }\n",
       "\n",
       "    .dataframe thead th {\n",
       "        text-align: right;\n",
       "    }\n",
       "</style>\n",
       "<table border=\"1\" class=\"dataframe\">\n",
       "  <thead>\n",
       "    <tr style=\"text-align: right;\">\n",
       "      <th></th>\n",
       "      <th>Team</th>\n",
       "      <th>Participation_Counts</th>\n",
       "      <th>Win_Counts</th>\n",
       "      <th>Ratio</th>\n",
       "    </tr>\n",
       "  </thead>\n",
       "  <tbody>\n",
       "    <tr>\n",
       "      <th>30</th>\n",
       "      <td>T1</td>\n",
       "      <td>767</td>\n",
       "      <td>503</td>\n",
       "      <td>65.6%</td>\n",
       "    </tr>\n",
       "    <tr>\n",
       "      <th>3</th>\n",
       "      <td>DK</td>\n",
       "      <td>443</td>\n",
       "      <td>289</td>\n",
       "      <td>65.2%</td>\n",
       "    </tr>\n",
       "    <tr>\n",
       "      <th>20</th>\n",
       "      <td>KZ</td>\n",
       "      <td>182</td>\n",
       "      <td>118</td>\n",
       "      <td>64.8%</td>\n",
       "    </tr>\n",
       "    <tr>\n",
       "      <th>11</th>\n",
       "      <td>GEN</td>\n",
       "      <td>495</td>\n",
       "      <td>314</td>\n",
       "      <td>63.4%</td>\n",
       "    </tr>\n",
       "  </tbody>\n",
       "</table>\n",
       "</div>"
      ],
      "text/plain": [
       "   Team  Participation_Counts  Win_Counts  Ratio\n",
       "30   T1                   767         503  65.6%\n",
       "3    DK                   443         289  65.2%\n",
       "20   KZ                   182         118  64.8%\n",
       "11  GEN                   495         314  63.4%"
      ]
     },
     "execution_count": 62,
     "metadata": {},
     "output_type": "execute_result"
    }
   ],
   "source": [
    "get_top_x_teams(\"LCK\",4,100)"
   ]
  },
  {
   "cell_type": "markdown",
   "id": "0aa56d0e-88f5-409a-a686-6dc38001c88e",
   "metadata": {},
   "source": [
    "#"
   ]
  },
  {
   "cell_type": "markdown",
   "id": "87f694fa-0f3c-41b8-b7a0-f54d81ad955a",
   "metadata": {
    "tags": []
   },
   "source": [
    "# Factor Rating: Find relationship between\n",
    "- KDA (.Team1Kills,.Team2Kills)\n",
    "- Barons/Dragons (.Team1Dragons, .Team2Dragons, .Team1Barons , .Team2Barons )\n",
    "- RiftHeralds: .Team1RiftHeralds .Team2RiftHeralds \n",
    "-  Inhibitors: .Team1Inhibitors  .Team2Inhibitors \n",
    "- Gold Lead: .Team1Gold .Team2Gold \n",
    "- Towers: .Team1Towers .Team2Towers "
   ]
  },
  {
   "cell_type": "code",
   "execution_count": 68,
   "id": "69b77c91-62f8-4925-8837-74cff3de4525",
   "metadata": {
    "tags": []
   },
   "outputs": [
    {
     "data": {
      "text/html": [
       "<div>\n",
       "<style scoped>\n",
       "    .dataframe tbody tr th:only-of-type {\n",
       "        vertical-align: middle;\n",
       "    }\n",
       "\n",
       "    .dataframe tbody tr th {\n",
       "        vertical-align: top;\n",
       "    }\n",
       "\n",
       "    .dataframe thead th {\n",
       "        text-align: right;\n",
       "    }\n",
       "</style>\n",
       "<table border=\"1\" class=\"dataframe\">\n",
       "  <thead>\n",
       "    <tr style=\"text-align: right;\">\n",
       "      <th></th>\n",
       "      <th>Tournament</th>\n",
       "      <th>League</th>\n",
       "      <th>Date</th>\n",
       "      <th>Team1</th>\n",
       "      <th>Team2</th>\n",
       "      <th>WinTeam</th>\n",
       "      <th>Team1Kills</th>\n",
       "      <th>Team2Kills</th>\n",
       "      <th>Team1Gold</th>\n",
       "      <th>Team2Gold</th>\n",
       "      <th>...</th>\n",
       "      <th>Team1Inhibitors</th>\n",
       "      <th>Team2Inhibitors</th>\n",
       "      <th>Year</th>\n",
       "      <th>Team_T1</th>\n",
       "      <th>Region_code_T1</th>\n",
       "      <th>Team_T2</th>\n",
       "      <th>Region_code_T2</th>\n",
       "      <th>Team_Win</th>\n",
       "      <th>Region_code_Win</th>\n",
       "      <th>Blue/Red</th>\n",
       "    </tr>\n",
       "  </thead>\n",
       "  <tbody>\n",
       "    <tr>\n",
       "      <th>7690</th>\n",
       "      <td>OPL 2016 Split 2</td>\n",
       "      <td>OPL</td>\n",
       "      <td>2016-07-27 07:33:00</td>\n",
       "      <td>Dire Wolves</td>\n",
       "      <td>Legacy Esports</td>\n",
       "      <td>Legacy Esports</td>\n",
       "      <td>7.0</td>\n",
       "      <td>13.0</td>\n",
       "      <td>63142.0</td>\n",
       "      <td>68456.0</td>\n",
       "      <td>...</td>\n",
       "      <td>0.0</td>\n",
       "      <td>2.0</td>\n",
       "      <td>2016</td>\n",
       "      <td>DW</td>\n",
       "      <td>PCS</td>\n",
       "      <td>LGC</td>\n",
       "      <td>PCS</td>\n",
       "      <td>LGC</td>\n",
       "      <td>PCS</td>\n",
       "      <td>Red</td>\n",
       "    </tr>\n",
       "    <tr>\n",
       "      <th>7695</th>\n",
       "      <td>OPL 2016 Split 2</td>\n",
       "      <td>OPL</td>\n",
       "      <td>2016-07-27 09:42:00</td>\n",
       "      <td>Abyss Esports</td>\n",
       "      <td>Tainted Minds</td>\n",
       "      <td>Tainted Minds</td>\n",
       "      <td>4.0</td>\n",
       "      <td>11.0</td>\n",
       "      <td>57429.0</td>\n",
       "      <td>66348.0</td>\n",
       "      <td>...</td>\n",
       "      <td>0.0</td>\n",
       "      <td>1.0</td>\n",
       "      <td>2016</td>\n",
       "      <td>ABY</td>\n",
       "      <td>PCS</td>\n",
       "      <td>TM</td>\n",
       "      <td>PCS</td>\n",
       "      <td>TM</td>\n",
       "      <td>PCS</td>\n",
       "      <td>Red</td>\n",
       "    </tr>\n",
       "    <tr>\n",
       "      <th>8069</th>\n",
       "      <td>LLN 2017 Opening Promotion</td>\n",
       "      <td>LLN</td>\n",
       "      <td>2016-08-16 21:25:00</td>\n",
       "      <td>BrawL eSports</td>\n",
       "      <td>INFINITY</td>\n",
       "      <td>INFINITY</td>\n",
       "      <td>4.0</td>\n",
       "      <td>11.0</td>\n",
       "      <td>60100.0</td>\n",
       "      <td>73500.0</td>\n",
       "      <td>...</td>\n",
       "      <td>0.0</td>\n",
       "      <td>1.0</td>\n",
       "      <td>2016</td>\n",
       "      <td>BWL</td>\n",
       "      <td>INT</td>\n",
       "      <td>INF</td>\n",
       "      <td>LAT</td>\n",
       "      <td>INF</td>\n",
       "      <td>LAT</td>\n",
       "      <td>Red</td>\n",
       "    </tr>\n",
       "    <tr>\n",
       "      <th>8070</th>\n",
       "      <td>LLN 2017 Opening Promotion</td>\n",
       "      <td>LLN</td>\n",
       "      <td>2016-08-16 22:47:00</td>\n",
       "      <td>BrawL eSports</td>\n",
       "      <td>INFINITY</td>\n",
       "      <td>INFINITY</td>\n",
       "      <td>5.0</td>\n",
       "      <td>17.0</td>\n",
       "      <td>47300.0</td>\n",
       "      <td>59000.0</td>\n",
       "      <td>...</td>\n",
       "      <td>0.0</td>\n",
       "      <td>2.0</td>\n",
       "      <td>2016</td>\n",
       "      <td>BWL</td>\n",
       "      <td>INT</td>\n",
       "      <td>INF</td>\n",
       "      <td>LAT</td>\n",
       "      <td>INF</td>\n",
       "      <td>LAT</td>\n",
       "      <td>Red</td>\n",
       "    </tr>\n",
       "    <tr>\n",
       "      <th>8071</th>\n",
       "      <td>LLN 2017 Opening Promotion</td>\n",
       "      <td>LLN</td>\n",
       "      <td>2016-08-16 23:44:00</td>\n",
       "      <td>INFINITY</td>\n",
       "      <td>BrawL eSports</td>\n",
       "      <td>INFINITY</td>\n",
       "      <td>21.0</td>\n",
       "      <td>17.0</td>\n",
       "      <td>70900.0</td>\n",
       "      <td>69000.0</td>\n",
       "      <td>...</td>\n",
       "      <td>3.0</td>\n",
       "      <td>0.0</td>\n",
       "      <td>2016</td>\n",
       "      <td>INF</td>\n",
       "      <td>LAT</td>\n",
       "      <td>BWL</td>\n",
       "      <td>INT</td>\n",
       "      <td>INF</td>\n",
       "      <td>LAT</td>\n",
       "      <td>Blue</td>\n",
       "    </tr>\n",
       "  </tbody>\n",
       "</table>\n",
       "<p>5 rows × 28 columns</p>\n",
       "</div>"
      ],
      "text/plain": [
       "                      Tournament League                 Date          Team1  \\\n",
       "7690            OPL 2016 Split 2    OPL  2016-07-27 07:33:00    Dire Wolves   \n",
       "7695            OPL 2016 Split 2    OPL  2016-07-27 09:42:00  Abyss Esports   \n",
       "8069  LLN 2017 Opening Promotion    LLN  2016-08-16 21:25:00  BrawL eSports   \n",
       "8070  LLN 2017 Opening Promotion    LLN  2016-08-16 22:47:00  BrawL eSports   \n",
       "8071  LLN 2017 Opening Promotion    LLN  2016-08-16 23:44:00       INFINITY   \n",
       "\n",
       "               Team2         WinTeam  Team1Kills  Team2Kills  Team1Gold  \\\n",
       "7690  Legacy Esports  Legacy Esports         7.0        13.0    63142.0   \n",
       "7695   Tainted Minds   Tainted Minds         4.0        11.0    57429.0   \n",
       "8069        INFINITY        INFINITY         4.0        11.0    60100.0   \n",
       "8070        INFINITY        INFINITY         5.0        17.0    47300.0   \n",
       "8071   BrawL eSports        INFINITY        21.0        17.0    70900.0   \n",
       "\n",
       "      Team2Gold  ...  Team1Inhibitors  Team2Inhibitors  Year  Team_T1  \\\n",
       "7690    68456.0  ...              0.0              2.0  2016       DW   \n",
       "7695    66348.0  ...              0.0              1.0  2016      ABY   \n",
       "8069    73500.0  ...              0.0              1.0  2016      BWL   \n",
       "8070    59000.0  ...              0.0              2.0  2016      BWL   \n",
       "8071    69000.0  ...              3.0              0.0  2016      INF   \n",
       "\n",
       "      Region_code_T1  Team_T2  Region_code_T2  Team_Win  Region_code_Win  \\\n",
       "7690             PCS      LGC             PCS       LGC              PCS   \n",
       "7695             PCS       TM             PCS        TM              PCS   \n",
       "8069             INT      INF             LAT       INF              LAT   \n",
       "8070             INT      INF             LAT       INF              LAT   \n",
       "8071             LAT      BWL             INT       INF              LAT   \n",
       "\n",
       "      Blue/Red  \n",
       "7690       Red  \n",
       "7695       Red  \n",
       "8069       Red  \n",
       "8070       Red  \n",
       "8071      Blue  \n",
       "\n",
       "[5 rows x 28 columns]"
      ]
     },
     "execution_count": 68,
     "metadata": {},
     "output_type": "execute_result"
    }
   ],
   "source": [
    "#get Scoreboard with no empty rows\n",
    "df_Scoreboard.replace('  ', np.nan, inplace=True)\n",
    "df_Scoreboard_factors = df_Scoreboard.dropna()\n",
    "df_Scoreboard_factors.head()"
   ]
  },
  {
   "cell_type": "markdown",
   "id": "004cc01a-6efb-4e10-b3a7-b22438b657cc",
   "metadata": {},
   "source": [
    "## Blue/Red Side"
   ]
  },
  {
   "cell_type": "code",
   "execution_count": 90,
   "id": "14058e05-bcf1-4256-951c-06c5de876642",
   "metadata": {
    "tags": []
   },
   "outputs": [
    {
     "data": {
      "text/plain": [
       "Blue/Red\n",
       "Blue      7455.000000\n",
       "Red       6486.000000\n",
       "blue %      53.475360\n",
       "red %       46.346861\n",
       "Name: Blue/Red, dtype: float64"
      ]
     },
     "execution_count": 90,
     "metadata": {},
     "output_type": "execute_result"
    }
   ],
   "source": [
    "#table form - get blue/red count\n",
    "df_Scoreboard_factors_BR = df_Scoreboard_factors.groupby([\"Blue/Red\"])[\"Blue/Red\"].count()\n",
    "\n",
    "#as percentages\n",
    "df_Scoreboard_factors_BR[\"blue %\"] = 100*df_Scoreboard_factors_BR.iloc[0]/df_Scoreboard_factors_BR.sum()\n",
    "df_Scoreboard_factors_BR[\"red %\"] = 100*df_Scoreboard_factors_BR.iloc[1]/df_Scoreboard_factors_BR.sum()\n",
    "df_Scoreboard_factors_BR\n",
    "\n",
    "#if blue side: 1pt"
   ]
  },
  {
   "cell_type": "markdown",
   "id": "67f0417b-30a1-4743-bd9d-8b56d4ba0324",
   "metadata": {},
   "source": [
    "## Gold Lead, Kills ,Barons, Dragons, RiftHeralds, Towers, Inhibitors"
   ]
  },
  {
   "cell_type": "code",
   "execution_count": 92,
   "id": "f113ffa7-169c-44ef-b8e0-008b44706f15",
   "metadata": {
    "collapsed": true,
    "jupyter": {
     "outputs_hidden": true
    },
    "tags": []
   },
   "outputs": [
    {
     "name": "stderr",
     "output_type": "stream",
     "text": [
      "C:\\Users\\vivia\\AppData\\Local\\Temp\\ipykernel_7324\\3147148645.py:18: SettingWithCopyWarning: \n",
      "A value is trying to be set on a copy of a slice from a DataFrame.\n",
      "Try using .loc[row_indexer,col_indexer] = value instead\n",
      "\n",
      "See the caveats in the documentation: https://pandas.pydata.org/pandas-docs/stable/user_guide/indexing.html#returning-a-view-versus-a-copy\n",
      "  df_Scoreboard_factors.loc[lab,\"Win_\"+i] = df_Scoreboard_factors.loc[lab,\"Team2\"+i]\n",
      "C:\\Users\\vivia\\AppData\\Local\\Temp\\ipykernel_7324\\3147148645.py:19: SettingWithCopyWarning: \n",
      "A value is trying to be set on a copy of a slice from a DataFrame.\n",
      "Try using .loc[row_indexer,col_indexer] = value instead\n",
      "\n",
      "See the caveats in the documentation: https://pandas.pydata.org/pandas-docs/stable/user_guide/indexing.html#returning-a-view-versus-a-copy\n",
      "  df_Scoreboard_factors.loc[lab,\"Lose_\"+i] = df_Scoreboard_factors.loc[lab,\"Team1\"+i]\n",
      "C:\\Users\\vivia\\AppData\\Local\\Temp\\ipykernel_7324\\3147148645.py:11: SettingWithCopyWarning: \n",
      "A value is trying to be set on a copy of a slice from a DataFrame.\n",
      "Try using .loc[row_indexer,col_indexer] = value instead\n",
      "\n",
      "See the caveats in the documentation: https://pandas.pydata.org/pandas-docs/stable/user_guide/indexing.html#returning-a-view-versus-a-copy\n",
      "  df_Scoreboard_factors.loc[lab,\"Win_\"+i+\"Lead\"] = df_Scoreboard_factors.loc[lab,\"Team2\"+i] - df_Scoreboard_factors.loc[lab,\"Team1\"+i]\n",
      "C:\\Users\\vivia\\AppData\\Local\\Temp\\ipykernel_7324\\3147148645.py:18: SettingWithCopyWarning: \n",
      "A value is trying to be set on a copy of a slice from a DataFrame.\n",
      "Try using .loc[row_indexer,col_indexer] = value instead\n",
      "\n",
      "See the caveats in the documentation: https://pandas.pydata.org/pandas-docs/stable/user_guide/indexing.html#returning-a-view-versus-a-copy\n",
      "  df_Scoreboard_factors.loc[lab,\"Win_\"+i] = df_Scoreboard_factors.loc[lab,\"Team2\"+i]\n",
      "C:\\Users\\vivia\\AppData\\Local\\Temp\\ipykernel_7324\\3147148645.py:19: SettingWithCopyWarning: \n",
      "A value is trying to be set on a copy of a slice from a DataFrame.\n",
      "Try using .loc[row_indexer,col_indexer] = value instead\n",
      "\n",
      "See the caveats in the documentation: https://pandas.pydata.org/pandas-docs/stable/user_guide/indexing.html#returning-a-view-versus-a-copy\n",
      "  df_Scoreboard_factors.loc[lab,\"Lose_\"+i] = df_Scoreboard_factors.loc[lab,\"Team1\"+i]\n",
      "C:\\Users\\vivia\\AppData\\Local\\Temp\\ipykernel_7324\\3147148645.py:18: SettingWithCopyWarning: \n",
      "A value is trying to be set on a copy of a slice from a DataFrame.\n",
      "Try using .loc[row_indexer,col_indexer] = value instead\n",
      "\n",
      "See the caveats in the documentation: https://pandas.pydata.org/pandas-docs/stable/user_guide/indexing.html#returning-a-view-versus-a-copy\n",
      "  df_Scoreboard_factors.loc[lab,\"Win_\"+i] = df_Scoreboard_factors.loc[lab,\"Team2\"+i]\n",
      "C:\\Users\\vivia\\AppData\\Local\\Temp\\ipykernel_7324\\3147148645.py:19: SettingWithCopyWarning: \n",
      "A value is trying to be set on a copy of a slice from a DataFrame.\n",
      "Try using .loc[row_indexer,col_indexer] = value instead\n",
      "\n",
      "See the caveats in the documentation: https://pandas.pydata.org/pandas-docs/stable/user_guide/indexing.html#returning-a-view-versus-a-copy\n",
      "  df_Scoreboard_factors.loc[lab,\"Lose_\"+i] = df_Scoreboard_factors.loc[lab,\"Team1\"+i]\n",
      "C:\\Users\\vivia\\AppData\\Local\\Temp\\ipykernel_7324\\3147148645.py:18: SettingWithCopyWarning: \n",
      "A value is trying to be set on a copy of a slice from a DataFrame.\n",
      "Try using .loc[row_indexer,col_indexer] = value instead\n",
      "\n",
      "See the caveats in the documentation: https://pandas.pydata.org/pandas-docs/stable/user_guide/indexing.html#returning-a-view-versus-a-copy\n",
      "  df_Scoreboard_factors.loc[lab,\"Win_\"+i] = df_Scoreboard_factors.loc[lab,\"Team2\"+i]\n",
      "C:\\Users\\vivia\\AppData\\Local\\Temp\\ipykernel_7324\\3147148645.py:19: SettingWithCopyWarning: \n",
      "A value is trying to be set on a copy of a slice from a DataFrame.\n",
      "Try using .loc[row_indexer,col_indexer] = value instead\n",
      "\n",
      "See the caveats in the documentation: https://pandas.pydata.org/pandas-docs/stable/user_guide/indexing.html#returning-a-view-versus-a-copy\n",
      "  df_Scoreboard_factors.loc[lab,\"Lose_\"+i] = df_Scoreboard_factors.loc[lab,\"Team1\"+i]\n",
      "C:\\Users\\vivia\\AppData\\Local\\Temp\\ipykernel_7324\\3147148645.py:18: SettingWithCopyWarning: \n",
      "A value is trying to be set on a copy of a slice from a DataFrame.\n",
      "Try using .loc[row_indexer,col_indexer] = value instead\n",
      "\n",
      "See the caveats in the documentation: https://pandas.pydata.org/pandas-docs/stable/user_guide/indexing.html#returning-a-view-versus-a-copy\n",
      "  df_Scoreboard_factors.loc[lab,\"Win_\"+i] = df_Scoreboard_factors.loc[lab,\"Team2\"+i]\n",
      "C:\\Users\\vivia\\AppData\\Local\\Temp\\ipykernel_7324\\3147148645.py:19: SettingWithCopyWarning: \n",
      "A value is trying to be set on a copy of a slice from a DataFrame.\n",
      "Try using .loc[row_indexer,col_indexer] = value instead\n",
      "\n",
      "See the caveats in the documentation: https://pandas.pydata.org/pandas-docs/stable/user_guide/indexing.html#returning-a-view-versus-a-copy\n",
      "  df_Scoreboard_factors.loc[lab,\"Lose_\"+i] = df_Scoreboard_factors.loc[lab,\"Team1\"+i]\n",
      "C:\\Users\\vivia\\AppData\\Local\\Temp\\ipykernel_7324\\3147148645.py:18: SettingWithCopyWarning: \n",
      "A value is trying to be set on a copy of a slice from a DataFrame.\n",
      "Try using .loc[row_indexer,col_indexer] = value instead\n",
      "\n",
      "See the caveats in the documentation: https://pandas.pydata.org/pandas-docs/stable/user_guide/indexing.html#returning-a-view-versus-a-copy\n",
      "  df_Scoreboard_factors.loc[lab,\"Win_\"+i] = df_Scoreboard_factors.loc[lab,\"Team2\"+i]\n",
      "C:\\Users\\vivia\\AppData\\Local\\Temp\\ipykernel_7324\\3147148645.py:19: SettingWithCopyWarning: \n",
      "A value is trying to be set on a copy of a slice from a DataFrame.\n",
      "Try using .loc[row_indexer,col_indexer] = value instead\n",
      "\n",
      "See the caveats in the documentation: https://pandas.pydata.org/pandas-docs/stable/user_guide/indexing.html#returning-a-view-versus-a-copy\n",
      "  df_Scoreboard_factors.loc[lab,\"Lose_\"+i] = df_Scoreboard_factors.loc[lab,\"Team1\"+i]\n"
     ]
    },
    {
     "data": {
      "text/html": [
       "<div>\n",
       "<style scoped>\n",
       "    .dataframe tbody tr th:only-of-type {\n",
       "        vertical-align: middle;\n",
       "    }\n",
       "\n",
       "    .dataframe tbody tr th {\n",
       "        vertical-align: top;\n",
       "    }\n",
       "\n",
       "    .dataframe thead th {\n",
       "        text-align: right;\n",
       "    }\n",
       "</style>\n",
       "<table border=\"1\" class=\"dataframe\">\n",
       "  <thead>\n",
       "    <tr style=\"text-align: right;\">\n",
       "      <th></th>\n",
       "      <th>Tournament</th>\n",
       "      <th>League</th>\n",
       "      <th>Date</th>\n",
       "      <th>Team1</th>\n",
       "      <th>Team2</th>\n",
       "      <th>WinTeam</th>\n",
       "      <th>Team1Kills</th>\n",
       "      <th>Team2Kills</th>\n",
       "      <th>Team1Gold</th>\n",
       "      <th>Team2Gold</th>\n",
       "      <th>...</th>\n",
       "      <th>Win_Towers</th>\n",
       "      <th>Lose_Towers</th>\n",
       "      <th>Win_Inhibitors</th>\n",
       "      <th>Lose_Inhibitors</th>\n",
       "      <th>Win_Kills</th>\n",
       "      <th>Lose_Kills</th>\n",
       "      <th>Win_Dragons</th>\n",
       "      <th>Lose_Dragons</th>\n",
       "      <th>Win_Barons</th>\n",
       "      <th>Lose_Barons</th>\n",
       "    </tr>\n",
       "  </thead>\n",
       "  <tbody>\n",
       "    <tr>\n",
       "      <th>7690</th>\n",
       "      <td>OPL 2016 Split 2</td>\n",
       "      <td>OPL</td>\n",
       "      <td>2016-07-27 07:33:00</td>\n",
       "      <td>Dire Wolves</td>\n",
       "      <td>Legacy Esports</td>\n",
       "      <td>Legacy Esports</td>\n",
       "      <td>7.0</td>\n",
       "      <td>13.0</td>\n",
       "      <td>63142.0</td>\n",
       "      <td>68456.0</td>\n",
       "      <td>...</td>\n",
       "      <td>9.0</td>\n",
       "      <td>5.0</td>\n",
       "      <td>2.0</td>\n",
       "      <td>0.0</td>\n",
       "      <td>13.0</td>\n",
       "      <td>7.0</td>\n",
       "      <td>3.0</td>\n",
       "      <td>1.0</td>\n",
       "      <td>2.0</td>\n",
       "      <td>0.0</td>\n",
       "    </tr>\n",
       "    <tr>\n",
       "      <th>7695</th>\n",
       "      <td>OPL 2016 Split 2</td>\n",
       "      <td>OPL</td>\n",
       "      <td>2016-07-27 09:42:00</td>\n",
       "      <td>Abyss Esports</td>\n",
       "      <td>Tainted Minds</td>\n",
       "      <td>Tainted Minds</td>\n",
       "      <td>4.0</td>\n",
       "      <td>11.0</td>\n",
       "      <td>57429.0</td>\n",
       "      <td>66348.0</td>\n",
       "      <td>...</td>\n",
       "      <td>9.0</td>\n",
       "      <td>4.0</td>\n",
       "      <td>1.0</td>\n",
       "      <td>0.0</td>\n",
       "      <td>11.0</td>\n",
       "      <td>4.0</td>\n",
       "      <td>4.0</td>\n",
       "      <td>1.0</td>\n",
       "      <td>1.0</td>\n",
       "      <td>0.0</td>\n",
       "    </tr>\n",
       "    <tr>\n",
       "      <th>8069</th>\n",
       "      <td>LLN 2017 Opening Promotion</td>\n",
       "      <td>LLN</td>\n",
       "      <td>2016-08-16 21:25:00</td>\n",
       "      <td>BrawL eSports</td>\n",
       "      <td>INFINITY</td>\n",
       "      <td>INFINITY</td>\n",
       "      <td>4.0</td>\n",
       "      <td>11.0</td>\n",
       "      <td>60100.0</td>\n",
       "      <td>73500.0</td>\n",
       "      <td>...</td>\n",
       "      <td>9.0</td>\n",
       "      <td>3.0</td>\n",
       "      <td>1.0</td>\n",
       "      <td>0.0</td>\n",
       "      <td>11.0</td>\n",
       "      <td>4.0</td>\n",
       "      <td>1.0</td>\n",
       "      <td>3.0</td>\n",
       "      <td>1.0</td>\n",
       "      <td>0.0</td>\n",
       "    </tr>\n",
       "    <tr>\n",
       "      <th>8070</th>\n",
       "      <td>LLN 2017 Opening Promotion</td>\n",
       "      <td>LLN</td>\n",
       "      <td>2016-08-16 22:47:00</td>\n",
       "      <td>BrawL eSports</td>\n",
       "      <td>INFINITY</td>\n",
       "      <td>INFINITY</td>\n",
       "      <td>5.0</td>\n",
       "      <td>17.0</td>\n",
       "      <td>47300.0</td>\n",
       "      <td>59000.0</td>\n",
       "      <td>...</td>\n",
       "      <td>10.0</td>\n",
       "      <td>2.0</td>\n",
       "      <td>2.0</td>\n",
       "      <td>0.0</td>\n",
       "      <td>17.0</td>\n",
       "      <td>5.0</td>\n",
       "      <td>3.0</td>\n",
       "      <td>0.0</td>\n",
       "      <td>1.0</td>\n",
       "      <td>0.0</td>\n",
       "    </tr>\n",
       "    <tr>\n",
       "      <th>8071</th>\n",
       "      <td>LLN 2017 Opening Promotion</td>\n",
       "      <td>LLN</td>\n",
       "      <td>2016-08-16 23:44:00</td>\n",
       "      <td>INFINITY</td>\n",
       "      <td>BrawL eSports</td>\n",
       "      <td>INFINITY</td>\n",
       "      <td>21.0</td>\n",
       "      <td>17.0</td>\n",
       "      <td>70900.0</td>\n",
       "      <td>69000.0</td>\n",
       "      <td>...</td>\n",
       "      <td>9.0</td>\n",
       "      <td>5.0</td>\n",
       "      <td>3.0</td>\n",
       "      <td>0.0</td>\n",
       "      <td>21.0</td>\n",
       "      <td>17.0</td>\n",
       "      <td>2.0</td>\n",
       "      <td>2.0</td>\n",
       "      <td>0.0</td>\n",
       "      <td>1.0</td>\n",
       "    </tr>\n",
       "  </tbody>\n",
       "</table>\n",
       "<p>5 rows × 41 columns</p>\n",
       "</div>"
      ],
      "text/plain": [
       "                      Tournament League                 Date          Team1  \\\n",
       "7690            OPL 2016 Split 2    OPL  2016-07-27 07:33:00    Dire Wolves   \n",
       "7695            OPL 2016 Split 2    OPL  2016-07-27 09:42:00  Abyss Esports   \n",
       "8069  LLN 2017 Opening Promotion    LLN  2016-08-16 21:25:00  BrawL eSports   \n",
       "8070  LLN 2017 Opening Promotion    LLN  2016-08-16 22:47:00  BrawL eSports   \n",
       "8071  LLN 2017 Opening Promotion    LLN  2016-08-16 23:44:00       INFINITY   \n",
       "\n",
       "               Team2         WinTeam  Team1Kills  Team2Kills  Team1Gold  \\\n",
       "7690  Legacy Esports  Legacy Esports         7.0        13.0    63142.0   \n",
       "7695   Tainted Minds   Tainted Minds         4.0        11.0    57429.0   \n",
       "8069        INFINITY        INFINITY         4.0        11.0    60100.0   \n",
       "8070        INFINITY        INFINITY         5.0        17.0    47300.0   \n",
       "8071   BrawL eSports        INFINITY        21.0        17.0    70900.0   \n",
       "\n",
       "      Team2Gold  ...  Win_Towers  Lose_Towers  Win_Inhibitors  \\\n",
       "7690    68456.0  ...         9.0          5.0             2.0   \n",
       "7695    66348.0  ...         9.0          4.0             1.0   \n",
       "8069    73500.0  ...         9.0          3.0             1.0   \n",
       "8070    59000.0  ...        10.0          2.0             2.0   \n",
       "8071    69000.0  ...         9.0          5.0             3.0   \n",
       "\n",
       "      Lose_Inhibitors  Win_Kills  Lose_Kills  Win_Dragons  Lose_Dragons  \\\n",
       "7690              0.0       13.0         7.0          3.0           1.0   \n",
       "7695              0.0       11.0         4.0          4.0           1.0   \n",
       "8069              0.0       11.0         4.0          1.0           3.0   \n",
       "8070              0.0       17.0         5.0          3.0           0.0   \n",
       "8071              0.0       21.0        17.0          2.0           2.0   \n",
       "\n",
       "      Win_Barons  Lose_Barons  \n",
       "7690         2.0          0.0  \n",
       "7695         1.0          0.0  \n",
       "8069         1.0          0.0  \n",
       "8070         1.0          0.0  \n",
       "8071         0.0          1.0  \n",
       "\n",
       "[5 rows x 41 columns]"
      ]
     },
     "execution_count": 92,
     "metadata": {},
     "output_type": "execute_result"
    }
   ],
   "source": [
    "#loop to add columns for winning and losing team factors\n",
    "factors = {\"Gold\",\"Kills\",\"Barons\",\"Dragons\",\"RiftHeralds\",\"Towers\",\"Inhibitors\"}\n",
    "\n",
    "\n",
    "for i in factors:\n",
    "    if i == \"Gold\":\n",
    "        for lab, row in df_Scoreboard_factors.iterrows():\n",
    "            if row[\"Team1\"] == row[\"WinTeam\"]:\n",
    "                df_Scoreboard_factors.loc[lab,\"Win_\"+i+\"Lead\"] = df_Scoreboard_factors.loc[lab,\"Team1\"+i] - df_Scoreboard_factors.loc[lab,\"Team2\"+i] \n",
    "            else:\n",
    "                df_Scoreboard_factors.loc[lab,\"Win_\"+i+\"Lead\"] = df_Scoreboard_factors.loc[lab,\"Team2\"+i] - df_Scoreboard_factors.loc[lab,\"Team1\"+i] \n",
    "    else:\n",
    "        for lab, row in df_Scoreboard_factors.iterrows():\n",
    "            if row[\"Team1\"] == row[\"WinTeam\"]:\n",
    "                df_Scoreboard_factors.loc[lab,\"Win_\"+i] = df_Scoreboard_factors.loc[lab,\"Team1\"+i] \n",
    "                df_Scoreboard_factors.loc[lab,\"Lose_\"+i] = df_Scoreboard_factors.loc[lab,\"Team2\"+i] \n",
    "            else:\n",
    "                df_Scoreboard_factors.loc[lab,\"Win_\"+i] = df_Scoreboard_factors.loc[lab,\"Team2\"+i] \n",
    "                df_Scoreboard_factors.loc[lab,\"Lose_\"+i] = df_Scoreboard_factors.loc[lab,\"Team1\"+i] \n",
    "\n",
    "#save to Scoreboard_factors.csv \n",
    "df_Scoreboard_factors.to_csv(\"Scoreboard_factors.csv\", index=False)\n",
    "df_Scoreboard_factors.head()"
   ]
  },
  {
   "cell_type": "markdown",
   "id": "d5ffa781-07e2-4b29-ba9b-12f8e4e2d118",
   "metadata": {},
   "source": [
    "## Get summary statistics to form model"
   ]
  },
  {
   "cell_type": "code",
   "execution_count": 163,
   "id": "6dfeb8cf-4620-4139-9fd3-83604842687c",
   "metadata": {
    "tags": []
   },
   "outputs": [],
   "source": [
    "df_Scoreboard_factors[\"Win_Kills\"].describe()\n",
    "df_Scoreboard_factors[\"Lose_Kills\"].describe()\n",
    "#if kills = 11-17: 1pt\n",
    "#if kills = 17-20: 2pts\n",
    "#if kills > 20: 3pts\n",
    "\n",
    "df_Scoreboard_factors[\"Win_GoldLead\"].describe()\n",
    "#if gold lead = 7701 ~ 10686: 1pts\n",
    "#if gold lead = 10687 ~ 13414: 2pts\n",
    "#if gold lead > 13414: 3pts\n",
    "\n",
    "df_Scoreboard_factors[\"Win_Barons\"].describe()\n",
    "df_Scoreboard_factors[\"Lose_Barons\"].describe()\n",
    "#seems like barons don't make much of a difference\n",
    "\n",
    "df_Scoreboard_factors[\"Win_Dragons\"].describe()\n",
    "df_Scoreboard_factors[\"Lose_Dragons\"].describe()\n",
    "#seems like dragons don't make much of a difference\n",
    "#if dragons = 2 - 3: 1pt\n",
    "#if dragons = 4 : 2pts\n",
    "#if dragons > 4 : 3pts\n",
    "\n",
    "df_Scoreboard_factors[\"Win_RiftHeralds\"].describe()\n",
    "df_Scoreboard_factors[\"Lose_RiftHeralds\"].describe()\n",
    "#seems like rift heralds don't make much of a difference\n",
    "\n",
    "df_Scoreboard_factors[\"Win_Towers\"].describe()\n",
    "#not a huge differentiation but can see more more towers = more wins\n",
    "#if towers = 8 - 9: 1pt\n",
    "#if towers = 10 - 11: 2pts\n",
    "\n",
    "df_Scoreboard_factors[\"Win_Inhibitors\"].describe() #max is 3 but can respawn\n",
    "df_Scoreboard_factors[\"Lose_Inhibitors\"].describe() #max is 3 but can respawn\n",
    "#seems like inhibitors don't make much of a difference "
   ]
  },
  {
   "cell_type": "code",
   "execution_count": 107,
   "id": "570088e7-6dd3-4793-85d0-083daed9acb3",
   "metadata": {},
   "outputs": [],
   "source": [
    "def Win_Points(team):\n",
    "    team_points = 0\n",
    "    for lab, row in df_Scoreboard_factors.iterrows():\n",
    "        if  df_Scoreboard_factors.loc[lab,\"Team_Win\"] == team:\n",
    "            \n",
    "            #Blue/Red Side\n",
    "            if df_Scoreboard_factors.loc[lab,\"Blue/Red\"] == \"Blue\":\n",
    "                team_points +=1\n",
    "            \n",
    "            #Kills\n",
    "            if df_Scoreboard_factors.loc[lab,\"Win_Kills\"] >= 11 and df_Scoreboard_factors.loc[lab,\"Win_Kills\"] < 17:\n",
    "                team_points +=1\n",
    "            elif df_Scoreboard_factors.loc[lab,\"Win_Kills\"] >= 17 and df_Scoreboard_factors.loc[lab,\"Win_Kills\"] <= 20:\n",
    "                team_points +=2\n",
    "            elif df_Scoreboard_factors.loc[lab,\"Win_Kills\"] >20:\n",
    "                team_points +=3\n",
    "                \n",
    "            #Gold Lead\n",
    "            if df_Scoreboard_factors.loc[lab,\"Win_GoldLead\"] >= 7701  and df_Scoreboard_factors.loc[lab,\"Win_GoldLead\"] < 10686:\n",
    "                team_points +=1\n",
    "            elif df_Scoreboard_factors.loc[lab,\"Win_GoldLead\"] >= 10687 and df_Scoreboard_factors.loc[lab,\"Win_GoldLead\"] <= 13414:\n",
    "                team_points +=2\n",
    "            elif df_Scoreboard_factors.loc[lab,\"Win_GoldLead\"] >13414:\n",
    "                team_points +=3\n",
    "                \n",
    "            #Dragons\n",
    "            if df_Scoreboard_factors.loc[lab,\"Win_Dragons\"] >= 2  and df_Scoreboard_factors.loc[lab,\"Win_Dragons\"] <= 3:\n",
    "                team_points +=1\n",
    "            elif df_Scoreboard_factors.loc[lab,\"Win_Dragons\"] == 4:\n",
    "                team_points +=2\n",
    "            elif df_Scoreboard_factors.loc[lab,\"Win_Dragons\"] > 4:\n",
    "                team_points +=3  \n",
    "            \n",
    "            #Towers\n",
    "            if df_Scoreboard_factors.loc[lab,\"Win_Towers\"] >= 8  and df_Scoreboard_factors.loc[lab,\"Win_Towers\"] <= 9:\n",
    "                team_points +=1\n",
    "            elif df_Scoreboard_factors.loc[lab,\"Win_Towers\"] >= 10:\n",
    "                team_points +=2\n",
    "\n",
    "                \n",
    "    #get total points            \n",
    "    return team_points "
   ]
  },
  {
   "cell_type": "code",
   "execution_count": 139,
   "id": "026e4e21-ae5f-4c7c-aedd-bde5244c4da1",
   "metadata": {
    "tags": []
   },
   "outputs": [],
   "source": [
    "top_leagues = [\"T1\",\"DK\",\"KZ\",\"GEN\",\"EDG\",\"TES\",\"RNG\",\"JDG\",\"G2\",\"MAD\",\"FNC\"]\n",
    "dict_team_points = {\"Teams\":top_leagues , \"Points\": []}\n",
    "\n",
    "for league in top_leagues:\n",
    "    w = Win_Points(league)\n",
    "    dict_team_points[\"Points\"].append(w)"
   ]
  },
  {
   "cell_type": "code",
   "execution_count": 118,
   "id": "6106b365-89c2-4db9-b5e0-fd1b59b854c8",
   "metadata": {
    "tags": []
   },
   "outputs": [
    {
     "data": {
      "text/html": [
       "<div>\n",
       "<style scoped>\n",
       "    .dataframe tbody tr th:only-of-type {\n",
       "        vertical-align: middle;\n",
       "    }\n",
       "\n",
       "    .dataframe tbody tr th {\n",
       "        vertical-align: top;\n",
       "    }\n",
       "\n",
       "    .dataframe thead th {\n",
       "        text-align: right;\n",
       "    }\n",
       "</style>\n",
       "<table border=\"1\" class=\"dataframe\">\n",
       "  <thead>\n",
       "    <tr style=\"text-align: right;\">\n",
       "      <th></th>\n",
       "      <th>Team</th>\n",
       "      <th>Participation_Counts</th>\n",
       "      <th>Win_Counts</th>\n",
       "      <th>Ratio</th>\n",
       "    </tr>\n",
       "  </thead>\n",
       "  <tbody>\n",
       "    <tr>\n",
       "      <th>3</th>\n",
       "      <td>G2</td>\n",
       "      <td>284</td>\n",
       "      <td>193</td>\n",
       "      <td>68.0%</td>\n",
       "    </tr>\n",
       "    <tr>\n",
       "      <th>4</th>\n",
       "      <td>MAD</td>\n",
       "      <td>223</td>\n",
       "      <td>128</td>\n",
       "      <td>57.4%</td>\n",
       "    </tr>\n",
       "    <tr>\n",
       "      <th>2</th>\n",
       "      <td>FNC</td>\n",
       "      <td>271</td>\n",
       "      <td>155</td>\n",
       "      <td>57.2%</td>\n",
       "    </tr>\n",
       "  </tbody>\n",
       "</table>\n",
       "</div>"
      ],
      "text/plain": [
       "  Team  Participation_Counts  Win_Counts  Ratio\n",
       "3   G2                   284         193  68.0%\n",
       "4  MAD                   223         128  57.4%\n",
       "2  FNC                   271         155  57.2%"
      ]
     },
     "execution_count": 118,
     "metadata": {},
     "output_type": "execute_result"
    }
   ],
   "source": [
    "get_top_x_teams(\"LEC\",3,100)"
   ]
  },
  {
   "cell_type": "code",
   "execution_count": 152,
   "id": "813b1c12-de1d-4b72-9a6d-cddc17d79d2d",
   "metadata": {
    "tags": []
   },
   "outputs": [
    {
     "data": {
      "text/plain": [
       "<AxesSubplot: xlabel='Team'>"
      ]
     },
     "execution_count": 152,
     "metadata": {},
     "output_type": "execute_result"
    },
    {
     "data": {
      "image/png": "[encoded data removed]",
      "text/plain": [
       "<Figure size 640x480 with 1 Axes>"
      ]
     },
     "metadata": {},
     "output_type": "display_data"
    }
   ],
   "source": [
    "df_team_points = pd.DataFrame(dict_team_points).sort_values(\"Points\",ascending=False)\n",
    "df_team_points.plot(kind=\"bar\", xlabel = \"Team\")\n"
   ]
  },
  {
   "cell_type": "code",
   "execution_count": null,
   "id": "f8dcaa98-ca84-4efd-8c94-bdb84cd8064d",
   "metadata": {},
   "outputs": [],
   "source": []
  }
 ],
 "metadata": {
  "kernelspec": {
   "display_name": "Python 3 (ipykernel)",
   "language": "python",
   "name": "python3"
  },
  "language_info": {
   "codemirror_mode": {
    "name": "ipython",
    "version": 3
   },
   "file_extension": ".py",
   "mimetype": "text/x-python",
   "name": "python",
   "nbconvert_exporter": "python",
   "pygments_lexer": "ipython3",
   "version": "3.8.16"
  }
 },
 "nbformat": 4,
 "nbformat_minor": 5
}
